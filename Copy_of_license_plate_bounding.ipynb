{
  "cells": [
    {
      "cell_type": "code",
      "execution_count": 1,
      "metadata": {
        "colab": {
          "base_uri": "https://localhost:8080/"
        },
        "id": "8L3Bt81myNxC",
        "outputId": "693b9a4d-4f77-4bd9-b35c-cd055ff2de73"
      },
      "outputs": [
        {
          "output_type": "stream",
          "name": "stdout",
          "text": [
            "Mounted at /content/gdrive\n"
          ]
        }
      ],
      "source": [
        "# External libraries used for various tasks in later parts of the code\n",
        "from PIL import Image\n",
        "import matplotlib.pyplot as plt\n",
        "import cv2\n",
        "import xml.etree.ElementTree as ET\n",
        "from torch.utils.data import Dataset\n",
        "from imutils import paths\n",
        "import torch\n",
        "import torch.nn as nn\n",
        "import time\n",
        "import numpy as np\n",
        "import torch.optim as optim\n",
        "from tqdm.notebook import tqdm\n",
        "import os\n",
        "\n",
        "# Check if running on Google Colab and set the data paths accordingly\n",
        "is_running_on_colab = 'COLAB_GPU' in os.environ\n",
        "if is_running_on_colab:\n",
        "    from google.colab import drive\n",
        "    drive.mount('/content/gdrive')\n",
        "    data_path = '/content/gdrive/MyDrive/license_plate/data/'\n",
        "    test_path = '/content/gdrive/MyDrive/license_plate/testdata/'\n",
        "else:\n",
        "    current_dir = os.getcwd()\n",
        "    data_path = os.path.join(current_dir, 'dataset', 'license_plate', 'data')\n",
        "    test_path = os.path.join(current_dir, 'dataset', 'license_plate', 'test_data')\n",
        "\n",
        "# Function to check if directories exist\n",
        "def check_directories_exist(*paths):\n",
        "    for path in paths:\n",
        "        assert os.path.isdir(path), f\"The directory {path} does not exist.\"\n",
        "\n",
        "# Check the directories\n",
        "check_directories_exist(data_path, test_path)\n",
        "\n",
        "data_link = \"https://drive.google.com/open?id=1rdEsCUcIUaYOVRkx5IMTRNA7PcGMmSgc\""
      ]
    },
    {
      "cell_type": "code",
      "execution_count": 2,
      "metadata": {
        "id": "8KmlcMPjCpiI"
      },
      "outputs": [],
      "source": [
        "from torch.utils.data import Dataset\n",
        "import cv2\n",
        "from imutils import paths\n",
        "import os\n",
        "import torch\n",
        "\n",
        "class LabelFpsDataLoader(Dataset):\n",
        "    def __init__(self, img_dirs, img_size, is_transform=None):\n",
        "        self.img_paths = [p for img_dir in img_dirs for p in paths.list_images(img_dir)]\n",
        "        self.img_size = img_size\n",
        "        self.is_transform = is_transform\n",
        "\n",
        "    def __len__(self):\n",
        "        return len(self.img_paths)\n",
        "\n",
        "    def __getitem__(self, index):\n",
        "        img_name = self.img_paths[index]\n",
        "        img = cv2.imread(img_name)\n",
        "        resized_image = self.transform_image(img)\n",
        "\n",
        "        file_name = os.path.splitext(os.path.basename(img_name))[0]\n",
        "        labels = self.extract_labels(file_name, img.shape)\n",
        "\n",
        "        return resized_image, labels, img_name\n",
        "\n",
        "    def transform_image(self, img):\n",
        "        resized_image = cv2.resize(img, self.img_size).astype('float32') / 255.0\n",
        "        # print(resized_image.dtype)\n",
        "        # Normalization - Adjust mean and std if necessary\n",
        "        mean = np.array([0.485, 0.456, 0.406], dtype=resized_image.dtype)\n",
        "        std = np.array([0.229, 0.224, 0.225],dtype=resized_image.dtype)\n",
        "\n",
        "        resized_image = (resized_image - mean) / std  # Normalize\n",
        "        # print(resized_image.dtype)\n",
        "        return resized_image\n",
        "\n",
        "    def extract_labels(self, file_name, img_shape):\n",
        "        parts = file_name.split('-')\n",
        "        points = [self.parse_point(part) for part in parts[2].split('_')]\n",
        "        ori_w, ori_h = img_shape[1], img_shape[0]\n",
        "        scale_w, scale_h = self.img_size[0] / ori_w, self.img_size[1] / ori_h\n",
        "        scaled_points = [(int(x * scale_w), int(y * scale_h)) for x, y in points]\n",
        "\n",
        "        #rescale labels to 0,1\n",
        "        scaled_points = [(x / self.img_size[0], y / self.img_size[1]) for x, y in scaled_points]\n",
        "\n",
        "        flattened_labels = [coord for point in scaled_points for coord in point]\n",
        "        return torch.tensor(flattened_labels, dtype=torch.float32)\n",
        "\n",
        "    @staticmethod\n",
        "    def parse_point(point_str):\n",
        "        return tuple(int(coord) for coord in point_str.split('&'))\n"
      ]
    },
    {
      "cell_type": "code",
      "execution_count": 3,
      "metadata": {
        "colab": {
          "base_uri": "https://localhost:8080/"
        },
        "id": "xW--T__29pGG",
        "outputId": "6fe89ded-7649-4c93-ecf7-f66091f32b49"
      },
      "outputs": [
        {
          "output_type": "stream",
          "name": "stdout",
          "text": [
            "Length of dataset: 5769\n",
            "Image shape: (224, 224, 3)\n",
            "Labels: tensor([0.2321, 0.4330, 0.6250, 0.5045])\n",
            "Image name: /content/gdrive/MyDrive/license_plate/data/train/0236447482639-90_96-168&506_451&590-444&590_171&587_168&506_451&513-0_0_3_24_30_26_30_33-114-166.jpg\n",
            "Item retrieval successful.\n",
            "Got out here\n"
          ]
        }
      ],
      "source": [
        "# Initialize your dataset\n",
        "img_dirs = [data_path]  # Replace with actual paths to your image directories\n",
        "img_size = (224, 224)  # Replace with your desired image size\n",
        "dataset = LabelFpsDataLoader(img_dirs=img_dirs, img_size=img_size)  # Use 'img_dirs' as the correct argument name\n",
        "\n",
        "# Test the length of the dataset\n",
        "print(f\"Length of dataset: {len(dataset)}\")\n",
        "#\n",
        "# Test getting an item\n",
        "try:\n",
        "    # Retrieve the first item\n",
        "    img, labels, img_name = dataset[0]\n",
        "\n",
        "    # Check the shapes and types\n",
        "    print(f\"Image shape: {img.shape}\")\n",
        "    print(f\"Labels: {labels}\")\n",
        "    print(f\"Image name: {img_name}\")\n",
        "\n",
        "    # If the code reaches this point, the item has been retrieved successfully\n",
        "    print(\"Item retrieval successful.\")\n",
        "except Exception as e:\n",
        "    # If there is any error, print it out\n",
        "    print(f\"An error occurred: {e}\")\n",
        "finally:\n",
        "    print(\"Got out here\")\n"
      ]
    },
    {
      "cell_type": "code",
      "execution_count": 4,
      "metadata": {
        "id": "AJ_NSb9iP0Rj"
      },
      "outputs": [],
      "source": [
        "import numpy as np\n",
        "import cv2\n",
        "import matplotlib.pyplot as plt\n",
        "\n",
        "def plot_img_and_boundingbox(image, labels):\n",
        "    # Assuming image is a PyTorch tensor, we need to first move it to CPU if it's on GPU,\n",
        "    # then detach it from the current graph, convert to numpy, and finally transpose it\n",
        "    # from (channels, height, width) to (height, width, channels)\n",
        "    numpy_array = image.cpu().detach().numpy()\n",
        "\n",
        "    # Convert from BGR to RGB format if the image was read by OpenCV\n",
        "    rgb_image = cv2.cvtColor(numpy_array, cv2.COLOR_BGR2RGB)\n",
        "\n",
        "    # Extract numerical values from tensors and convert to integers\n",
        "    left_up = (int(labels[0]), int(labels[1]))\n",
        "    right_down = (int(labels[2]), int(labels[3]))\n",
        "\n",
        "    # Draw rectangle on the image\n",
        "    new_image = cv2.rectangle(rgb_image, left_up, right_down, (255, 0, 0), 2)\n",
        "\n",
        "    # Display the image\n",
        "    plt.imshow(new_image)\n",
        "    plt.axis('off')  # Hide the axis\n",
        "    plt.show()\n",
        "\n",
        "# Example usage:\n",
        "# img, labels, _ = dataset[0]  # Assuming this is how you get an image and labels from your dataset\n",
        "# plot_img_and_boundingbox(img, labels)\n"
      ]
    },
    {
      "cell_type": "code",
      "execution_count": 5,
      "metadata": {
        "colab": {
          "base_uri": "https://localhost:8080/"
        },
        "id": "Akmn3oBa9pGI",
        "outputId": "c5cc342f-2372-44cc-b330-8eb05cc4b5d1"
      },
      "outputs": [
        {
          "output_type": "stream",
          "name": "stderr",
          "text": [
            "Downloading: \"https://github.com/pytorch/vision/zipball/v0.10.0\" to /root/.cache/torch/hub/v0.10.0.zip\n",
            "Downloading: \"https://download.pytorch.org/models/mobilenet_v3_large-8738ca79.pth\" to /root/.cache/torch/hub/checkpoints/mobilenet_v3_large-8738ca79.pth\n",
            "100%|██████████| 21.1M/21.1M [00:00<00:00, 139MB/s] \n"
          ]
        }
      ],
      "source": [
        "import torch\n",
        "import torch.nn as nn\n",
        "\n",
        "\n",
        "# Function to create the modified classifier\n",
        "def create_custom_classifier(input_features, hidden_units, output_features):\n",
        "    classifier = nn.Sequential(\n",
        "        nn.Linear(input_features, hidden_units),\n",
        "        nn.ReLU(),\n",
        "        nn.Dropout(0.0),\n",
        "        #nn.BatchNorm1d(hidden_units),\n",
        "        nn.Linear(hidden_units, output_features),\n",
        "    )\n",
        "    return classifier\n",
        "\n",
        "# Load a pre-trained MobileNetV3 model\n",
        "model = torch.hub.load('pytorch/vision:v0.10.0', 'mobilenet_v3_large', pretrained=True)\n",
        "\n",
        "# Replace the classifier with a new one - adjust the input_features to match the last layer of MobileNetV3\n",
        "model.classifier = create_custom_classifier(input_features=960, hidden_units=100, output_features=4)\n",
        "#Sets model to training mode,e this is important for layers that have different functionalities depending on training or eval. for example BatchNorm\n",
        "model.train()\n",
        "def get_new_model(n_hidden=100):\n",
        "    model = torch.hub.load('pytorch/vision:v0.10.0', 'mobilenet_v3_large', pretrained=True)\n",
        "    model.classifier = create_custom_classifier(input_features=960, hidden_units=n_hidden, output_features=4)\n",
        "    model.train()\n",
        "    # Number of layers you want to fine-tune\n",
        "    layers_of_classifier = len(model.classifier)\n",
        "\n",
        "    # Get all the parameters from the model as a list\n",
        "    parameters = list(model.parameters())\n",
        "\n",
        "    # The total number of layers is the length of the parameters list\n",
        "    number_of_layers = len(parameters)\n",
        "    print(f\"Total number of layers is {number_of_layers}\")\n",
        "\n",
        "    # Calculate the number of pretrained layers (all except the last 'layers_of_classifier')\n",
        "    pretrained_layers = number_of_layers - layers_of_classifier\n",
        "    print(f\"Number of pretrained base layers is {pretrained_layers}\")\n",
        "\n",
        "    # Freeze the parameters of the pretrained base layers\n",
        "    for param in parameters[:-layers_of_classifier]:\n",
        "        param.requires_grad = False\n",
        "\n",
        "    # Unfreeze the parameters of the last 'layers_of_classifier' layers\n",
        "    for param in parameters[-layers_of_classifier:]:\n",
        "        param.requires_grad = True\n",
        "    return model\n",
        "\n"
      ]
    },
    {
      "cell_type": "code",
      "execution_count": 6,
      "metadata": {
        "colab": {
          "base_uri": "https://localhost:8080/"
        },
        "id": "1SB-5KBQXiej",
        "outputId": "b65ade86-c624-4faa-e07a-9bae9bdb4490"
      },
      "outputs": [
        {
          "output_type": "stream",
          "name": "stdout",
          "text": [
            "Total number of layers is 174\n",
            "Number of pretrained base layers is 170\n"
          ]
        }
      ],
      "source": [
        "# Number of layers you want to fine-tune\n",
        "layers_of_classifier = len(model.classifier)\n",
        "\n",
        "# Get all the parameters from the model as a list\n",
        "parameters = list(model.parameters())\n",
        "\n",
        "# The total number of layers is the length of the parameters list\n",
        "number_of_layers = len(parameters)\n",
        "print(f\"Total number of layers is {number_of_layers}\")\n",
        "\n",
        "# Calculate the number of pretrained layers (all except the last 'layers_of_classifier')\n",
        "pretrained_layers = number_of_layers - layers_of_classifier\n",
        "print(f\"Number of pretrained base layers is {pretrained_layers}\")\n",
        "\n",
        "# Freeze the parameters of the pretrained base layers\n",
        "for param in parameters[:-layers_of_classifier]:\n",
        "    param.requires_grad = False\n",
        "\n",
        "# Unfreeze the parameters of the last 'layers_of_classifier' layers\n",
        "for param in parameters[-layers_of_classifier:]:\n",
        "    param.requires_grad = True"
      ]
    },
    {
      "cell_type": "code",
      "execution_count": 7,
      "metadata": {
        "id": "qsf8PJ72ZFgy"
      },
      "outputs": [],
      "source": [
        "def check_requires_grad():\n",
        "  for name, param in model.named_parameters(): # Just to check\n",
        "    if name.startswith('classifier'):\n",
        "        print(f'Layer {name} - requires_grad: {param.requires_grad}')\n",
        "    if name.startswith('features'):\n",
        "        print(f'Layer {name} - requires_grad: {param.requires_grad}')\n",
        "device = torch.device(\"cuda\" if torch.cuda.is_available() else \"cpu\")\n",
        "\n",
        "\n",
        "# check_requires_grad()"
      ]
    },
    {
      "cell_type": "code",
      "execution_count": 8,
      "metadata": {
        "id": "LTwomuz6N5Po"
      },
      "outputs": [],
      "source": [
        "# from datetime import datetime\n",
        "# def bb_intersection_over_union(boxA, boxB): # https://pyimagesearch.com/2016/11/07/intersection-over-union-iou-for-object-detection/\n",
        "# \t# determine the (x, y)-coordinates of the intersection rectangle\n",
        "# \txA = max(boxA[0], boxB[0])\n",
        "# \tyA = max(boxA[1], boxB[1])\n",
        "# \txB = min(boxA[2], boxB[2])\n",
        "# \tyB = min(boxA[3], boxB[3])\n",
        "# \t# compute the area of intersection rectangle\n",
        "# \tinterArea = max(0, xB - xA + 1) * max(0, yB - yA + 1)\n",
        "# \t# compute the area of both the prediction and ground-truth\n",
        "# \t# rectangles\n",
        "# \tboxAArea = (boxA[2] - boxA[0] + 1) * (boxA[3] - boxA[1] + 1)\n",
        "# \tboxBArea = (boxB[2] - boxB[0] + 1) * (boxB[3] - boxB[1] + 1)\n",
        "# \t# compute the intersection over union by taking the intersection\n",
        "# \t# area and dividing it by the sum of prediction + ground-truth\n",
        "# \t# areas - the interesection area\n",
        "# \tiou = interArea / float(boxAArea + boxBArea - interArea)\n",
        "# \t# return the intersection over union value\n",
        "# \treturn iou\n",
        "\n",
        "# def calculate_true_positives_in_batch(y_pred, y_batch):\n",
        "#   threshold = 0.5\n",
        "#   true_positive_amount = 0\n",
        "#   for i in range(y_pred.shape[0]):\n",
        "#     y_pred_numpy = y_pred[i].cpu().detach().numpy()\n",
        "#     y_batch_numpy = y_batch[i].cpu().detach().numpy()\n",
        "#     iou = bb_intersection_over_union(y_pred_numpy, y_batch_numpy)\n",
        "#     if iou > threshold:\n",
        "#       true_positive_amount +=1\n",
        "#   return true_positive_amount\n",
        "\n",
        "# #wrapper of tqdm to enable toggling it off easily\n",
        "# def toggle_tqdm(iterable, use_tqdm=True):\n",
        "#   if use_tqdm:\n",
        "#     return tqdm(iterable)\n",
        "#   else:\n",
        "#     return iterable\n",
        "\n",
        "# def calculate_loss_and_accuracy(loader):\n",
        "#   total_loss = 0\n",
        "#   total_true_positives = 0\n",
        "#   total_samples = 0\n",
        "\n",
        "#   for X_batch_, y_batch, img_name in loader:\n",
        "#       X_batch = X_batch_.permute(0,3,1,2).to(device)\n",
        "#       y_batch = y_batch.to(device)\n",
        "#       y_pred = model(X_batch)\n",
        "\n",
        "#       total_true_positives += calculate_true_positives_in_batch(y_pred, y_batch)\n",
        "\n",
        "#       loss = loss_fn(y_pred, y_batch)\n",
        "#       total_loss += loss.item() * len(y_batch)  # Accumulate scaled loss\n",
        "#       total_samples += len(y_batch)  # Accumulate number of samples\n",
        "#   sample_loss = total_loss / total_samples  # Calculate average loss\n",
        "#   accuracy = total_true_positives / total_samples\n",
        "#   return sample_loss, accuracy\n",
        "\n",
        "# def save_model(model):\n",
        "#   # Get the current time\n",
        "#   current_time = datetime.now()\n",
        "\n",
        "#   # Format the time in a 'YearMonthDay_HourMinuteSecond' format for the filename\n",
        "#   timestamp = current_time.strftime('%Y%m%d_%H%M')\n",
        "#   model_path = f'/content/gdrive/MyDrive/license_plate/models/model_weights_{timestamp}.pth'\n",
        "#   torch.save(model.state_dict(), model_path)\n",
        "\n",
        "# def load_model(path):\n",
        "#   model.load_state_dict(torch.load(path))\n"
      ]
    },
    {
      "cell_type": "code",
      "source": [
        "def save_model(model):\n",
        "  # Get the current time\n",
        "  current_time = datetime.now()\n",
        "\n",
        "  # Format the time in a 'YearMonthDay_HourMinuteSecond' format for the filename\n",
        "  timestamp = current_time.strftime('%Y%m%d_%H%M')\n",
        "  model_path = f'/content/gdrive/MyDrive/license_plate/models/model_weights_{timestamp}.pth'\n",
        "  torch.save(model.state_dict(), model_path)\n",
        "\n",
        "def load_model(path):\n",
        "  model.load_state_dict(torch.load(path))"
      ],
      "metadata": {
        "id": "fAs1fLmwTcCy"
      },
      "execution_count": 9,
      "outputs": []
    },
    {
      "cell_type": "code",
      "source": [
        "def bb_intersection_over_union(boxA, boxB):\n",
        "    # Compute the intersection over union on GPU\n",
        "    # Assumes boxA and boxB are tensors\n",
        "    xA = torch.max(boxA[..., 0], boxB[..., 0])\n",
        "    yA = torch.max(boxA[..., 1], boxB[..., 1])\n",
        "    xB = torch.min(boxA[..., 2], boxB[..., 2])\n",
        "    yB = torch.min(boxA[..., 3], boxB[..., 3])\n",
        "\n",
        "    interArea = torch.clamp(xB - xA, min=0) * torch.clamp(yB - yA, min=0)\n",
        "\n",
        "    boxAArea = (boxA[..., 2] - boxA[..., 0]) * (boxA[..., 3] - boxA[..., 1])\n",
        "    boxBArea = (boxB[..., 2] - boxB[..., 0]) * (boxB[..., 3] - boxB[..., 1])\n",
        "\n",
        "    iou = interArea / (boxAArea + boxBArea - interArea)\n",
        "    return iou\n",
        "\n",
        "def calculate_true_positives_in_batch(y_pred, y_batch, threshold=0.5):\n",
        "    # Calculate IoU for the batch\n",
        "    iou = bb_intersection_over_union(y_pred, y_batch)\n",
        "\n",
        "    # Count true positives in the batch\n",
        "    true_positives = torch.sum(iou > threshold).item()\n",
        "    return true_positives\n",
        "\n",
        "def calculate_loss_and_accuracy(loader, model, loss_fn, device):\n",
        "    model.eval()  # Set model to evaluation mode\n",
        "    total_loss = 0\n",
        "    total_true_positives = 0\n",
        "    total_samples = 0\n",
        "\n",
        "    with torch.no_grad():  # Disable gradient computation\n",
        "        for X_batch, y_batch, _ in loader:\n",
        "            X_batch = X_batch.permute(0,3,1,2).to(device)\n",
        "            y_batch = y_batch.to(device)\n",
        "            y_pred = model(X_batch)\n",
        "\n",
        "            total_true_positives += calculate_true_positives_in_batch(y_pred, y_batch)\n",
        "\n",
        "            loss = loss_fn(y_pred, y_batch)\n",
        "            total_loss += loss.item() * X_batch.size(0)  # Accumulate scaled loss\n",
        "            total_samples += X_batch.size(0)  # Accumulate number of samples\n",
        "\n",
        "    sample_loss = total_loss / total_samples  # Calculate average loss\n",
        "    accuracy = total_true_positives / total_samples  # Calculate accuracy\n",
        "    return sample_loss, accuracy\n"
      ],
      "metadata": {
        "id": "2QRQ0qnbND9t"
      },
      "execution_count": 10,
      "outputs": []
    },
    {
      "cell_type": "code",
      "source": [
        "# load_model('/content/gdrive/MyDrive/license_plate/models/model_weights_20231106_1410.pth')\n"
      ],
      "metadata": {
        "id": "15nRrjd3_KGM"
      },
      "execution_count": 11,
      "outputs": []
    },
    {
      "cell_type": "code",
      "execution_count": 12,
      "metadata": {
        "id": "I2mUI6H5Arru"
      },
      "outputs": [],
      "source": [
        "import torch\n",
        "from torch.utils.data import DataLoader, Subset\n",
        "from datetime import datetime\n",
        "from tqdm import tqdm\n",
        "\n",
        "# Constants\n",
        "DEVICE = torch.device(\"cuda\" if torch.cuda.is_available() else \"cpu\")\n",
        "DATA_PATH = [data_path]\n",
        "TEST_PATH = [test_path]\n",
        "BATCH_SIZE = 2\n",
        "VAL_BATCH_SIZE = 2\n",
        "SUBSET_INDICES = 16\n",
        "SUBSET_VAL_INDICES = 16\n",
        "DECODER_EPOCHS = 50\n",
        "N_EPOCHS = 100\n",
        "USE_TQDM = True\n",
        "USE_SUBSET = True\n",
        "PRINT_EVERY = 5\n",
        "\n",
        "# Define model, loss function, optimizers, and schedulers\n",
        "model.to(DEVICE)\n",
        "loss_fn = nn.MSELoss()\n",
        "optimizer_decoder = optim.AdamW(model.parameters(), lr=1e-5)\n",
        "# scheduler_decoder = optim.lr_scheduler.OneCycleLR(optimizer_decoder, 1e-2, total_steps=DECODER_EPOCHS)\n",
        "scheduler_decoder = optim.lr_scheduler.CyclicLR(optimizer_decoder, base_lr=1e-5, max_lr=1e-3, cycle_momentum=False, step_size_up=DECODER_EPOCHS/6)\n",
        "optimizer_full = optim.AdamW(model.parameters(), lr=5e-6)\n",
        "scheduler_full = optim.lr_scheduler.CyclicLR(optimizer_decoder, base_lr=1e-5, max_lr=1e-4, cycle_momentum=False, step_size_up=N_EPOCHS/6)\n",
        "\n",
        "# Define dataloaders\n",
        "train_dataset = LabelFpsDataLoader(DATA_PATH, (500, 1000))\n",
        "train_loader = DataLoader(train_dataset, batch_size=BATCH_SIZE, shuffle=True, num_workers=2)\n",
        "val_dataset = LabelFpsDataLoader(TEST_PATH, (500, 1000))\n",
        "validation_loader = DataLoader(val_dataset, batch_size=VAL_BATCH_SIZE, shuffle=True, num_workers=2)\n",
        "\n",
        "# Use subsets for faster iterations during development\n",
        "if USE_SUBSET:\n",
        "    train_dataset = Subset(train_dataset, indices=range(SUBSET_INDICES))\n",
        "    val_dataset = Subset(val_dataset, indices=range(SUBSET_VAL_INDICES))\n",
        "    train_loader = DataLoader(train_dataset, batch_size=BATCH_SIZE, shuffle=True, num_workers=2, pin_memory=True)\n",
        "    validation_loader = DataLoader(val_dataset, batch_size=BATCH_SIZE, shuffle=True, num_workers=2)\n",
        "\n",
        "# Training functions\n",
        "def train_epoch(dataloader, optimizer, model, loss_fn, scaler):\n",
        "    for X_batch, y_batch, _ in dataloader:\n",
        "        optimizer.zero_grad()\n",
        "        X_batch = X_batch.permute(0, 3, 1, 2).to(DEVICE)\n",
        "        y_batch = y_batch.to(DEVICE)\n",
        "        with torch.cuda.amp.autocast():\n",
        "            y_pred = model(X_batch)\n",
        "            loss = loss_fn(y_pred, y_batch)\n",
        "        scaler.scale(loss).backward()\n",
        "        scaler.step(optimizer)\n",
        "        scaler.update()\n",
        "\n",
        "def train_model(n_epochs, optimizer, scheduler, dataloader, val_loader, model, loss_fn):\n",
        "    train_loss_history = []\n",
        "    val_loss_history = []\n",
        "    train_accuracy_history = []\n",
        "    val_accuracy_history = []\n",
        "    scaler = torch.cuda.amp.GradScaler()\n",
        "\n",
        "    for epoch in tqdm(range(n_epochs)):\n",
        "        model.train()\n",
        "        # print(f\"epoch: {epoch}\")\n",
        "        train_epoch(dataloader, optimizer, model, loss_fn, scaler)\n",
        "        scheduler.step()\n",
        "\n",
        "        if epoch % PRINT_EVERY == 0:\n",
        "            model.eval()\n",
        "            with torch.no_grad():\n",
        "                # In-sample\n",
        "                in_sample_loss, in_sample_accuracy = calculate_loss_and_accuracy(dataloader, model, loss_fn, device)\n",
        "\n",
        "                train_loss_history.append(in_sample_loss)\n",
        "                train_accuracy_history.append(in_sample_accuracy)\n",
        "\n",
        "                # Out-sample\n",
        "                out_sample_loss, out_sample_accuracy = calculate_loss_and_accuracy(val_loader, model, loss_fn, device)\n",
        "                val_loss_history.append(out_sample_loss)\n",
        "                val_accuracy_history.append(out_sample_accuracy)\n",
        "\n",
        "                if USE_TQDM:\n",
        "                    tqdm.write(f'Epoch {epoch + 1}, In-sample Loss: {in_sample_loss:.4f}, In-sample Accuracy: {in_sample_accuracy:.4f}')\n",
        "                    tqdm.write(f'Epoch {epoch + 1}, Out-sample Loss: {out_sample_loss:.4f}, Out-sample Accuracy: {out_sample_accuracy:.4f}')\n",
        "\n",
        "    return train_loss_history, val_loss_history, train_accuracy_history, val_accuracy_history\n",
        "\n",
        "\n",
        "\n"
      ]
    },
    {
      "cell_type": "code",
      "source": [
        "# Training and validation functions are assumed to be defined above this script\n",
        "\n",
        "# Train the model with the decoder first\n",
        "# print(\"Starting training with decoder...\")\n",
        "#  decoder_loss_history, decoder_val_loss_history, decoder_test_accuracy_history, decoder_val_accuracy_history = train_model(\n",
        "#     n_epochs=DECODER_EPOCHS,\n",
        "#     optimizer=optimizer_decoder,\n",
        "#     scheduler=scheduler_decoder,\n",
        "#     dataloader=train_loader,\n",
        "#     val_loader=validation_loader,\n",
        "#     model=model,\n",
        "#     loss_fn=loss_fn\n",
        "# )\n",
        "# save_model(model)\n",
        "# # print(\"Decoder training completed.\")\n",
        "\n",
        "# # Unfreeze model layers for full model training\n",
        "# for param in model.parameters():\n",
        "#     param.requires_grad = True\n",
        "\n",
        "# # Now train the full model\n",
        "# print(\"Starting full model training...\")\n",
        "# full_loss_history, full_val_loss_history, full_test_accuracy_history, full_val_accuracy_history = train_model(\n",
        "#     n_epochs=N_EPOCHS,\n",
        "#     optimizer=optimizer_full,\n",
        "#     scheduler=scheduler_full,\n",
        "#     dataloader=train_loader,  # Assuming train_loader_finetuning is the same as train_loader\n",
        "#     val_loader=validation_loader,\n",
        "#     model=model,\n",
        "#     loss_fn=loss_fn\n",
        "# )\n",
        "# save_model(model)\n",
        "# print(\"Full model training completed.\")\n"
      ],
      "metadata": {
        "id": "LQlYbSMiQc5K"
      },
      "execution_count": 13,
      "outputs": []
    },
    {
      "cell_type": "code",
      "source": [
        "lr_to_test = [(1e-4, 1e-2),(1e-4, 1e-1),(1e-3, 1e-2),(1e-3,1)]\n",
        "decoder_loss_result = []\n",
        "full_loss_result = []\n",
        "DECODER_EPOCHS = 80\n",
        "N_EPOCHS = 80\n",
        "\n",
        "for lr_base, lr_max in lr_to_test:\n",
        "  model = get_new_model()\n",
        "  model.to(DEVICE)\n",
        "  optimizer_decoder = optim.AdamW(model.parameters(), lr=lr_base)\n",
        "  # scheduler_decoder = optim.lr_scheduler.OneCycleLR(optimizer_decoder, 1e-2, total_steps=DECODER_EPOCHS)\n",
        "  scheduler_decoder = optim.lr_scheduler.CyclicLR(optimizer_decoder, base_lr=lr_base, max_lr=lr_max, cycle_momentum=False, step_size_up=DECODER_EPOCHS/6)\n",
        "  optimizer_full = optim.AdamW(model.parameters(), lr=lr_base)\n",
        "  scheduler_full = optim.lr_scheduler.CyclicLR(optimizer_decoder, base_lr=lr_base*1e-1, max_lr=lr_max*1e-1, cycle_momentum=False, step_size_up=N_EPOCHS/6)\n",
        "  decoder_loss_history, decoder_val_loss_history, decoder_test_accuracy_history, decoder_val_accuracy_history = train_model(\n",
        "    n_epochs=DECODER_EPOCHS,\n",
        "    optimizer=optimizer_decoder,\n",
        "    scheduler=scheduler_decoder,\n",
        "    dataloader=train_loader,\n",
        "    val_loader=validation_loader,\n",
        "    model=model,\n",
        "    loss_fn=loss_fn\n",
        "  )\n",
        "  decoder_loss_result.append(decoder_loss_history)\n",
        "\n",
        "\n",
        "\n",
        "  # Unfreeze model layers for full model training\n",
        "  for param in model.parameters():\n",
        "    param.requires_grad = True\n",
        "\n",
        "\n",
        "\n",
        "  # Now train the full model\n",
        "  print(\"Starting full model training...\")\n",
        "  full_loss_history, full_val_loss_history, full_test_accuracy_history, full_val_accuracy_history = train_model(\n",
        "      n_epochs=N_EPOCHS,\n",
        "      optimizer=optimizer_full,\n",
        "      scheduler=scheduler_full,\n",
        "      dataloader=train_loader,  # Assuming train_loader_finetuning is the same as train_loader\n",
        "      val_loader=validation_loader,\n",
        "      model=model,\n",
        "      loss_fn=loss_fn\n",
        "  )\n",
        "  full_loss_result.append(full_loss_history)\n",
        "  print(\"Full model training completed.\")\n",
        "plot_loss(lr_to_test, decoder_loss_result, full_loss_result)\n"
      ],
      "metadata": {
        "id": "pkuxBNA391kU",
        "outputId": "59735e3c-e4ef-4f65-fef9-4ae5f342a0c7",
        "colab": {
          "base_uri": "https://localhost:8080/",
          "height": 1000
        }
      },
      "execution_count": 14,
      "outputs": [
        {
          "metadata": {
            "tags": null
          },
          "name": "stderr",
          "output_type": "stream",
          "text": [
            "Using cache found in /root/.cache/torch/hub/pytorch_vision_v0.10.0\n"
          ]
        },
        {
          "metadata": {
            "tags": null
          },
          "name": "stdout",
          "output_type": "stream",
          "text": [
            "Total number of layers is 174\n",
            "Number of pretrained base layers is 170\n"
          ]
        },
        {
          "metadata": {
            "tags": null
          },
          "name": "stderr",
          "output_type": "stream",
          "text": [
            "  1%|▏         | 1/80 [00:12<15:51, 12.05s/it]"
          ]
        },
        {
          "metadata": {
            "tags": null
          },
          "name": "stdout",
          "output_type": "stream",
          "text": [
            "Epoch 1, In-sample Loss: 0.0745, In-sample Accuracy: 0.0000\n",
            "Epoch 1, Out-sample Loss: 0.0546, Out-sample Accuracy: 0.0000\n"
          ]
        },
        {
          "metadata": {
            "tags": null
          },
          "name": "stderr",
          "output_type": "stream",
          "text": [
            "  8%|▊         | 6/80 [00:16<02:03,  1.67s/it]"
          ]
        },
        {
          "metadata": {
            "tags": null
          },
          "name": "stdout",
          "output_type": "stream",
          "text": [
            "Epoch 6, In-sample Loss: 0.0385, In-sample Accuracy: 0.0000\n",
            "Epoch 6, Out-sample Loss: 0.0341, Out-sample Accuracy: 0.0000\n"
          ]
        },
        {
          "metadata": {
            "tags": null
          },
          "name": "stderr",
          "output_type": "stream",
          "text": [
            " 14%|█▍        | 11/80 [00:21<01:47,  1.55s/it]"
          ]
        },
        {
          "metadata": {
            "tags": null
          },
          "name": "stdout",
          "output_type": "stream",
          "text": [
            "Epoch 11, In-sample Loss: 0.0298, In-sample Accuracy: 0.0000\n",
            "Epoch 11, Out-sample Loss: 0.0358, Out-sample Accuracy: 0.0000\n"
          ]
        },
        {
          "metadata": {
            "tags": null
          },
          "name": "stderr",
          "output_type": "stream",
          "text": [
            " 20%|██        | 16/80 [00:27<01:22,  1.30s/it]"
          ]
        },
        {
          "metadata": {
            "tags": null
          },
          "name": "stdout",
          "output_type": "stream",
          "text": [
            "Epoch 16, In-sample Loss: 0.0244, In-sample Accuracy: 0.0000\n",
            "Epoch 16, Out-sample Loss: 0.0334, Out-sample Accuracy: 0.0000\n"
          ]
        },
        {
          "metadata": {
            "tags": null
          },
          "name": "stderr",
          "output_type": "stream",
          "text": [
            " 26%|██▋       | 21/80 [00:31<01:03,  1.07s/it]"
          ]
        },
        {
          "metadata": {
            "tags": null
          },
          "name": "stdout",
          "output_type": "stream",
          "text": [
            "Epoch 21, In-sample Loss: 0.0078, In-sample Accuracy: 0.1875\n",
            "Epoch 21, Out-sample Loss: 0.0153, Out-sample Accuracy: 0.0000\n"
          ]
        },
        {
          "metadata": {
            "tags": null
          },
          "name": "stderr",
          "output_type": "stream",
          "text": [
            " 32%|███▎      | 26/80 [00:36<00:59,  1.10s/it]"
          ]
        },
        {
          "metadata": {
            "tags": null
          },
          "name": "stdout",
          "output_type": "stream",
          "text": [
            "Epoch 26, In-sample Loss: 0.0097, In-sample Accuracy: 0.1250\n",
            "Epoch 26, Out-sample Loss: 0.0144, Out-sample Accuracy: 0.0000\n"
          ]
        },
        {
          "metadata": {
            "tags": null
          },
          "name": "stderr",
          "output_type": "stream",
          "text": [
            " 39%|███▉      | 31/80 [00:43<01:14,  1.51s/it]"
          ]
        },
        {
          "metadata": {
            "tags": null
          },
          "name": "stdout",
          "output_type": "stream",
          "text": [
            "Epoch 31, In-sample Loss: 0.0058, In-sample Accuracy: 0.1250\n",
            "Epoch 31, Out-sample Loss: 0.0126, Out-sample Accuracy: 0.0000\n"
          ]
        },
        {
          "metadata": {
            "tags": null
          },
          "name": "stderr",
          "output_type": "stream",
          "text": [
            " 45%|████▌     | 36/80 [00:47<00:49,  1.12s/it]"
          ]
        },
        {
          "metadata": {
            "tags": null
          },
          "name": "stdout",
          "output_type": "stream",
          "text": [
            "Epoch 36, In-sample Loss: 0.0118, In-sample Accuracy: 0.0625\n",
            "Epoch 36, Out-sample Loss: 0.0143, Out-sample Accuracy: 0.0000\n"
          ]
        },
        {
          "metadata": {
            "tags": null
          },
          "name": "stderr",
          "output_type": "stream",
          "text": [
            " 51%|█████▏    | 41/80 [00:51<00:42,  1.08s/it]"
          ]
        },
        {
          "metadata": {
            "tags": null
          },
          "name": "stdout",
          "output_type": "stream",
          "text": [
            "Epoch 41, In-sample Loss: 0.0036, In-sample Accuracy: 0.2500\n",
            "Epoch 41, Out-sample Loss: 0.0117, Out-sample Accuracy: 0.0000\n"
          ]
        },
        {
          "metadata": {
            "tags": null
          },
          "name": "stderr",
          "output_type": "stream",
          "text": [
            " 57%|█████▊    | 46/80 [00:57<00:52,  1.55s/it]"
          ]
        },
        {
          "metadata": {
            "tags": null
          },
          "name": "stdout",
          "output_type": "stream",
          "text": [
            "Epoch 46, In-sample Loss: 0.0062, In-sample Accuracy: 0.1875\n",
            "Epoch 46, Out-sample Loss: 0.0088, Out-sample Accuracy: 0.0000\n"
          ]
        },
        {
          "metadata": {
            "tags": null
          },
          "name": "stderr",
          "output_type": "stream",
          "text": [
            " 64%|██████▍   | 51/80 [01:02<00:34,  1.18s/it]"
          ]
        },
        {
          "metadata": {
            "tags": null
          },
          "name": "stdout",
          "output_type": "stream",
          "text": [
            "Epoch 51, In-sample Loss: 0.0055, In-sample Accuracy: 0.0625\n",
            "Epoch 51, Out-sample Loss: 0.0118, Out-sample Accuracy: 0.0000\n"
          ]
        },
        {
          "metadata": {
            "tags": null
          },
          "name": "stderr",
          "output_type": "stream",
          "text": [
            " 70%|███████   | 56/80 [01:06<00:25,  1.04s/it]"
          ]
        },
        {
          "metadata": {
            "tags": null
          },
          "name": "stdout",
          "output_type": "stream",
          "text": [
            "Epoch 56, In-sample Loss: 0.0029, In-sample Accuracy: 0.3125\n",
            "Epoch 56, Out-sample Loss: 0.0091, Out-sample Accuracy: 0.0000\n"
          ]
        },
        {
          "metadata": {
            "tags": null
          },
          "name": "stderr",
          "output_type": "stream",
          "text": [
            " 76%|███████▋  | 61/80 [01:12<00:25,  1.37s/it]"
          ]
        },
        {
          "metadata": {
            "tags": null
          },
          "name": "stdout",
          "output_type": "stream",
          "text": [
            "Epoch 61, In-sample Loss: 0.0033, In-sample Accuracy: 0.0625\n",
            "Epoch 61, Out-sample Loss: 0.0107, Out-sample Accuracy: 0.0000\n"
          ]
        },
        {
          "metadata": {
            "tags": null
          },
          "name": "stderr",
          "output_type": "stream",
          "text": [
            " 82%|████████▎ | 66/80 [01:18<00:19,  1.36s/it]"
          ]
        },
        {
          "metadata": {
            "tags": null
          },
          "name": "stdout",
          "output_type": "stream",
          "text": [
            "Epoch 66, In-sample Loss: 0.0060, In-sample Accuracy: 0.0625\n",
            "Epoch 66, Out-sample Loss: 0.0132, Out-sample Accuracy: 0.0000\n"
          ]
        },
        {
          "metadata": {
            "tags": null
          },
          "name": "stderr",
          "output_type": "stream",
          "text": [
            " 89%|████████▉ | 71/80 [01:22<00:09,  1.11s/it]"
          ]
        },
        {
          "metadata": {
            "tags": null
          },
          "name": "stdout",
          "output_type": "stream",
          "text": [
            "Epoch 71, In-sample Loss: 0.0038, In-sample Accuracy: 0.4375\n",
            "Epoch 71, Out-sample Loss: 0.0132, Out-sample Accuracy: 0.0000\n"
          ]
        },
        {
          "metadata": {
            "tags": null
          },
          "name": "stderr",
          "output_type": "stream",
          "text": [
            " 95%|█████████▌| 76/80 [01:27<00:04,  1.07s/it]"
          ]
        },
        {
          "metadata": {
            "tags": null
          },
          "name": "stdout",
          "output_type": "stream",
          "text": [
            "Epoch 76, In-sample Loss: 0.0027, In-sample Accuracy: 0.4375\n",
            "Epoch 76, Out-sample Loss: 0.0111, Out-sample Accuracy: 0.0000\n"
          ]
        },
        {
          "metadata": {
            "tags": null
          },
          "name": "stderr",
          "output_type": "stream",
          "text": [
            "100%|██████████| 80/80 [01:31<00:00,  1.14s/it]\n"
          ]
        },
        {
          "metadata": {
            "tags": null
          },
          "name": "stdout",
          "output_type": "stream",
          "text": [
            "Starting full model training...\n"
          ]
        },
        {
          "metadata": {
            "tags": null
          },
          "name": "stderr",
          "output_type": "stream",
          "text": [
            "  1%|▏         | 1/80 [00:03<04:27,  3.38s/it]"
          ]
        },
        {
          "metadata": {
            "tags": null
          },
          "name": "stdout",
          "output_type": "stream",
          "text": [
            "Epoch 1, In-sample Loss: 0.0033, In-sample Accuracy: 0.4375\n",
            "Epoch 1, Out-sample Loss: 0.0096, Out-sample Accuracy: 0.0000\n"
          ]
        },
        {
          "metadata": {
            "tags": null
          },
          "name": "stderr",
          "output_type": "stream",
          "text": [
            "  8%|▊         | 6/80 [00:11<02:34,  2.09s/it]"
          ]
        },
        {
          "metadata": {
            "tags": null
          },
          "name": "stdout",
          "output_type": "stream",
          "text": [
            "Epoch 6, In-sample Loss: 0.0023, In-sample Accuracy: 0.3750\n",
            "Epoch 6, Out-sample Loss: 0.0084, Out-sample Accuracy: 0.0000\n"
          ]
        },
        {
          "metadata": {
            "tags": null
          },
          "name": "stderr",
          "output_type": "stream",
          "text": [
            " 14%|█▍        | 11/80 [00:21<02:24,  2.09s/it]"
          ]
        },
        {
          "metadata": {
            "tags": null
          },
          "name": "stdout",
          "output_type": "stream",
          "text": [
            "Epoch 11, In-sample Loss: 0.0019, In-sample Accuracy: 0.4375\n",
            "Epoch 11, Out-sample Loss: 0.0085, Out-sample Accuracy: 0.0000\n"
          ]
        },
        {
          "metadata": {
            "tags": null
          },
          "name": "stderr",
          "output_type": "stream",
          "text": [
            " 20%|██        | 16/80 [00:26<01:26,  1.35s/it]"
          ]
        },
        {
          "metadata": {
            "tags": null
          },
          "name": "stdout",
          "output_type": "stream",
          "text": [
            "Epoch 16, In-sample Loss: 0.0017, In-sample Accuracy: 0.5000\n",
            "Epoch 16, Out-sample Loss: 0.0073, Out-sample Accuracy: 0.0000\n"
          ]
        },
        {
          "metadata": {
            "tags": null
          },
          "name": "stderr",
          "output_type": "stream",
          "text": [
            " 26%|██▋       | 21/80 [00:33<01:38,  1.67s/it]"
          ]
        },
        {
          "metadata": {
            "tags": null
          },
          "name": "stdout",
          "output_type": "stream",
          "text": [
            "Epoch 21, In-sample Loss: 0.0013, In-sample Accuracy: 0.6250\n",
            "Epoch 21, Out-sample Loss: 0.0070, Out-sample Accuracy: 0.0000\n"
          ]
        },
        {
          "metadata": {
            "tags": null
          },
          "name": "stderr",
          "output_type": "stream",
          "text": [
            " 32%|███▎      | 26/80 [00:39<01:17,  1.44s/it]"
          ]
        },
        {
          "metadata": {
            "tags": null
          },
          "name": "stdout",
          "output_type": "stream",
          "text": [
            "Epoch 26, In-sample Loss: 0.0010, In-sample Accuracy: 0.8125\n",
            "Epoch 26, Out-sample Loss: 0.0068, Out-sample Accuracy: 0.0000\n"
          ]
        },
        {
          "metadata": {
            "tags": null
          },
          "name": "stderr",
          "output_type": "stream",
          "text": [
            " 39%|███▉      | 31/80 [00:45<01:01,  1.26s/it]"
          ]
        },
        {
          "metadata": {
            "tags": null
          },
          "name": "stdout",
          "output_type": "stream",
          "text": [
            "Epoch 31, In-sample Loss: 0.0009, In-sample Accuracy: 0.6875\n",
            "Epoch 31, Out-sample Loss: 0.0063, Out-sample Accuracy: 0.0000\n"
          ]
        },
        {
          "metadata": {
            "tags": null
          },
          "name": "stderr",
          "output_type": "stream",
          "text": [
            " 45%|████▌     | 36/80 [00:52<01:19,  1.80s/it]"
          ]
        },
        {
          "metadata": {
            "tags": null
          },
          "name": "stdout",
          "output_type": "stream",
          "text": [
            "Epoch 36, In-sample Loss: 0.0007, In-sample Accuracy: 0.7500\n",
            "Epoch 36, Out-sample Loss: 0.0062, Out-sample Accuracy: 0.0000\n"
          ]
        },
        {
          "metadata": {
            "tags": null
          },
          "name": "stderr",
          "output_type": "stream",
          "text": [
            " 51%|█████▏    | 41/80 [00:58<00:53,  1.37s/it]"
          ]
        },
        {
          "metadata": {
            "tags": null
          },
          "name": "stdout",
          "output_type": "stream",
          "text": [
            "Epoch 41, In-sample Loss: 0.0006, In-sample Accuracy: 0.8125\n",
            "Epoch 41, Out-sample Loss: 0.0058, Out-sample Accuracy: 0.0000\n"
          ]
        },
        {
          "metadata": {
            "tags": null
          },
          "name": "stderr",
          "output_type": "stream",
          "text": [
            " 57%|█████▊    | 46/80 [01:03<00:42,  1.25s/it]"
          ]
        },
        {
          "metadata": {
            "tags": null
          },
          "name": "stdout",
          "output_type": "stream",
          "text": [
            "Epoch 46, In-sample Loss: 0.0007, In-sample Accuracy: 0.7500\n",
            "Epoch 46, Out-sample Loss: 0.0061, Out-sample Accuracy: 0.0000\n"
          ]
        },
        {
          "metadata": {
            "tags": null
          },
          "name": "stderr",
          "output_type": "stream",
          "text": [
            " 64%|██████▍   | 51/80 [01:11<00:51,  1.78s/it]"
          ]
        },
        {
          "metadata": {
            "tags": null
          },
          "name": "stdout",
          "output_type": "stream",
          "text": [
            "Epoch 51, In-sample Loss: 0.0010, In-sample Accuracy: 0.6875\n",
            "Epoch 51, Out-sample Loss: 0.0062, Out-sample Accuracy: 0.0000\n"
          ]
        },
        {
          "metadata": {
            "tags": null
          },
          "name": "stderr",
          "output_type": "stream",
          "text": [
            " 70%|███████   | 56/80 [01:16<00:31,  1.33s/it]"
          ]
        },
        {
          "metadata": {
            "tags": null
          },
          "name": "stdout",
          "output_type": "stream",
          "text": [
            "Epoch 56, In-sample Loss: 0.0006, In-sample Accuracy: 0.7500\n",
            "Epoch 56, Out-sample Loss: 0.0059, Out-sample Accuracy: 0.0000\n"
          ]
        },
        {
          "metadata": {
            "tags": null
          },
          "name": "stderr",
          "output_type": "stream",
          "text": [
            " 76%|███████▋  | 61/80 [01:21<00:26,  1.37s/it]"
          ]
        },
        {
          "metadata": {
            "tags": null
          },
          "name": "stdout",
          "output_type": "stream",
          "text": [
            "Epoch 61, In-sample Loss: 0.0008, In-sample Accuracy: 0.6875\n",
            "Epoch 61, Out-sample Loss: 0.0054, Out-sample Accuracy: 0.0000\n"
          ]
        },
        {
          "metadata": {
            "tags": null
          },
          "name": "stderr",
          "output_type": "stream",
          "text": [
            " 82%|████████▎ | 66/80 [01:29<00:22,  1.59s/it]"
          ]
        },
        {
          "metadata": {
            "tags": null
          },
          "name": "stdout",
          "output_type": "stream",
          "text": [
            "Epoch 66, In-sample Loss: 0.0005, In-sample Accuracy: 0.7500\n",
            "Epoch 66, Out-sample Loss: 0.0059, Out-sample Accuracy: 0.0000\n"
          ]
        },
        {
          "metadata": {
            "tags": null
          },
          "name": "stderr",
          "output_type": "stream",
          "text": [
            " 89%|████████▉ | 71/80 [01:34<00:11,  1.28s/it]"
          ]
        },
        {
          "metadata": {
            "tags": null
          },
          "name": "stdout",
          "output_type": "stream",
          "text": [
            "Epoch 71, In-sample Loss: 0.0008, In-sample Accuracy: 0.6875\n",
            "Epoch 71, Out-sample Loss: 0.0064, Out-sample Accuracy: 0.0000\n"
          ]
        },
        {
          "metadata": {
            "tags": null
          },
          "name": "stderr",
          "output_type": "stream",
          "text": [
            " 95%|█████████▌| 76/80 [01:41<00:06,  1.62s/it]"
          ]
        },
        {
          "metadata": {
            "tags": null
          },
          "name": "stdout",
          "output_type": "stream",
          "text": [
            "Epoch 76, In-sample Loss: 0.0008, In-sample Accuracy: 0.6250\n",
            "Epoch 76, Out-sample Loss: 0.0061, Out-sample Accuracy: 0.0000\n"
          ]
        },
        {
          "metadata": {
            "tags": null
          },
          "name": "stderr",
          "output_type": "stream",
          "text": [
            "100%|██████████| 80/80 [01:45<00:00,  1.32s/it]\n",
            "Using cache found in /root/.cache/torch/hub/pytorch_vision_v0.10.0\n"
          ]
        },
        {
          "metadata": {
            "tags": null
          },
          "name": "stdout",
          "output_type": "stream",
          "text": [
            "Full model training completed.\n",
            "Total number of layers is 174\n",
            "Number of pretrained base layers is 170\n"
          ]
        },
        {
          "metadata": {
            "tags": null
          },
          "name": "stderr",
          "output_type": "stream",
          "text": [
            "  1%|▏         | 1/80 [00:02<02:54,  2.21s/it]"
          ]
        },
        {
          "metadata": {
            "tags": null
          },
          "name": "stdout",
          "output_type": "stream",
          "text": [
            "Epoch 1, In-sample Loss: 0.0812, In-sample Accuracy: 0.0000\n",
            "Epoch 1, Out-sample Loss: 0.0839, Out-sample Accuracy: 0.0000\n"
          ]
        },
        {
          "metadata": {
            "tags": null
          },
          "name": "stderr",
          "output_type": "stream",
          "text": [
            "  8%|▊         | 6/80 [00:06<01:27,  1.18s/it]"
          ]
        },
        {
          "metadata": {
            "tags": null
          },
          "name": "stdout",
          "output_type": "stream",
          "text": [
            "Epoch 6, In-sample Loss: 0.0368, In-sample Accuracy: 0.0000\n",
            "Epoch 6, Out-sample Loss: 0.0435, Out-sample Accuracy: 0.0000\n"
          ]
        },
        {
          "metadata": {
            "tags": null
          },
          "name": "stderr",
          "output_type": "stream",
          "text": [
            " 14%|█▍        | 11/80 [00:14<02:15,  1.97s/it]"
          ]
        },
        {
          "metadata": {
            "tags": null
          },
          "name": "stdout",
          "output_type": "stream",
          "text": [
            "Epoch 11, In-sample Loss: 0.0041, In-sample Accuracy: 0.1250\n",
            "Epoch 11, Out-sample Loss: 0.0089, Out-sample Accuracy: 0.0000\n"
          ]
        },
        {
          "metadata": {
            "tags": null
          },
          "name": "stderr",
          "output_type": "stream",
          "text": [
            " 20%|██        | 16/80 [00:19<01:22,  1.29s/it]"
          ]
        },
        {
          "metadata": {
            "tags": null
          },
          "name": "stdout",
          "output_type": "stream",
          "text": [
            "Epoch 16, In-sample Loss: 0.0028, In-sample Accuracy: 0.3125\n",
            "Epoch 16, Out-sample Loss: 0.0095, Out-sample Accuracy: 0.0000\n"
          ]
        },
        {
          "metadata": {
            "tags": null
          },
          "name": "stderr",
          "output_type": "stream",
          "text": [
            " 26%|██▋       | 21/80 [00:23<01:06,  1.12s/it]"
          ]
        },
        {
          "metadata": {
            "tags": null
          },
          "name": "stdout",
          "output_type": "stream",
          "text": [
            "Epoch 21, In-sample Loss: 0.0028, In-sample Accuracy: 0.1875\n",
            "Epoch 21, Out-sample Loss: 0.0092, Out-sample Accuracy: 0.0000\n"
          ]
        },
        {
          "metadata": {
            "tags": null
          },
          "name": "stderr",
          "output_type": "stream",
          "text": [
            " 32%|███▎      | 26/80 [00:29<01:25,  1.58s/it]"
          ]
        },
        {
          "metadata": {
            "tags": null
          },
          "name": "stdout",
          "output_type": "stream",
          "text": [
            "Epoch 26, In-sample Loss: 0.0028, In-sample Accuracy: 0.3125\n",
            "Epoch 26, Out-sample Loss: 0.0101, Out-sample Accuracy: 0.0000\n"
          ]
        },
        {
          "metadata": {
            "tags": null
          },
          "name": "stderr",
          "output_type": "stream",
          "text": [
            " 39%|███▉      | 31/80 [00:35<01:04,  1.33s/it]"
          ]
        },
        {
          "metadata": {
            "tags": null
          },
          "name": "stdout",
          "output_type": "stream",
          "text": [
            "Epoch 31, In-sample Loss: 0.0028, In-sample Accuracy: 0.2500\n",
            "Epoch 31, Out-sample Loss: 0.0101, Out-sample Accuracy: 0.0000\n"
          ]
        },
        {
          "metadata": {
            "tags": null
          },
          "name": "stderr",
          "output_type": "stream",
          "text": [
            " 45%|████▌     | 36/80 [00:40<00:50,  1.14s/it]"
          ]
        },
        {
          "metadata": {
            "tags": null
          },
          "name": "stdout",
          "output_type": "stream",
          "text": [
            "Epoch 36, In-sample Loss: 0.0028, In-sample Accuracy: 0.2500\n",
            "Epoch 36, Out-sample Loss: 0.0092, Out-sample Accuracy: 0.0000\n"
          ]
        },
        {
          "metadata": {
            "tags": null
          },
          "name": "stderr",
          "output_type": "stream",
          "text": [
            " 51%|█████▏    | 41/80 [00:45<00:57,  1.47s/it]"
          ]
        },
        {
          "metadata": {
            "tags": null
          },
          "name": "stdout",
          "output_type": "stream",
          "text": [
            "Epoch 41, In-sample Loss: 0.0030, In-sample Accuracy: 0.1875\n",
            "Epoch 41, Out-sample Loss: 0.0085, Out-sample Accuracy: 0.0000\n"
          ]
        },
        {
          "metadata": {
            "tags": null
          },
          "name": "stderr",
          "output_type": "stream",
          "text": [
            " 57%|█████▊    | 46/80 [00:51<00:46,  1.38s/it]"
          ]
        },
        {
          "metadata": {
            "tags": null
          },
          "name": "stdout",
          "output_type": "stream",
          "text": [
            "Epoch 46, In-sample Loss: 0.0028, In-sample Accuracy: 0.1875\n",
            "Epoch 46, Out-sample Loss: 0.0099, Out-sample Accuracy: 0.0000\n"
          ]
        },
        {
          "metadata": {
            "tags": null
          },
          "name": "stderr",
          "output_type": "stream",
          "text": [
            " 64%|██████▍   | 51/80 [00:56<00:33,  1.15s/it]"
          ]
        },
        {
          "metadata": {
            "tags": null
          },
          "name": "stdout",
          "output_type": "stream",
          "text": [
            "Epoch 51, In-sample Loss: 0.0028, In-sample Accuracy: 0.1875\n",
            "Epoch 51, Out-sample Loss: 0.0095, Out-sample Accuracy: 0.0000\n"
          ]
        },
        {
          "metadata": {
            "tags": null
          },
          "name": "stderr",
          "output_type": "stream",
          "text": [
            " 70%|███████   | 56/80 [01:01<00:30,  1.28s/it]"
          ]
        },
        {
          "metadata": {
            "tags": null
          },
          "name": "stdout",
          "output_type": "stream",
          "text": [
            "Epoch 56, In-sample Loss: 0.0028, In-sample Accuracy: 0.1875\n",
            "Epoch 56, Out-sample Loss: 0.0103, Out-sample Accuracy: 0.0000\n"
          ]
        },
        {
          "metadata": {
            "tags": null
          },
          "name": "stderr",
          "output_type": "stream",
          "text": [
            " 76%|███████▋  | 61/80 [01:08<00:28,  1.51s/it]"
          ]
        },
        {
          "metadata": {
            "tags": null
          },
          "name": "stdout",
          "output_type": "stream",
          "text": [
            "Epoch 61, In-sample Loss: 0.0028, In-sample Accuracy: 0.1875\n",
            "Epoch 61, Out-sample Loss: 0.0087, Out-sample Accuracy: 0.0000\n"
          ]
        },
        {
          "metadata": {
            "tags": null
          },
          "name": "stderr",
          "output_type": "stream",
          "text": [
            " 82%|████████▎ | 66/80 [01:12<00:16,  1.17s/it]"
          ]
        },
        {
          "metadata": {
            "tags": null
          },
          "name": "stdout",
          "output_type": "stream",
          "text": [
            "Epoch 66, In-sample Loss: 0.0029, In-sample Accuracy: 0.3125\n",
            "Epoch 66, Out-sample Loss: 0.0119, Out-sample Accuracy: 0.0000\n"
          ]
        },
        {
          "metadata": {
            "tags": null
          },
          "name": "stderr",
          "output_type": "stream",
          "text": [
            " 89%|████████▉ | 71/80 [01:17<00:10,  1.14s/it]"
          ]
        },
        {
          "metadata": {
            "tags": null
          },
          "name": "stdout",
          "output_type": "stream",
          "text": [
            "Epoch 71, In-sample Loss: 0.0028, In-sample Accuracy: 0.3125\n",
            "Epoch 71, Out-sample Loss: 0.0108, Out-sample Accuracy: 0.0000\n"
          ]
        },
        {
          "metadata": {
            "tags": null
          },
          "name": "stderr",
          "output_type": "stream",
          "text": [
            " 95%|█████████▌| 76/80 [01:24<00:06,  1.64s/it]"
          ]
        },
        {
          "metadata": {
            "tags": null
          },
          "name": "stdout",
          "output_type": "stream",
          "text": [
            "Epoch 76, In-sample Loss: 0.0029, In-sample Accuracy: 0.2500\n",
            "Epoch 76, Out-sample Loss: 0.0115, Out-sample Accuracy: 0.0000\n"
          ]
        },
        {
          "metadata": {
            "tags": null
          },
          "name": "stderr",
          "output_type": "stream",
          "text": [
            "100%|██████████| 80/80 [01:27<00:00,  1.10s/it]\n"
          ]
        },
        {
          "metadata": {
            "tags": null
          },
          "name": "stdout",
          "output_type": "stream",
          "text": [
            "Starting full model training...\n"
          ]
        },
        {
          "metadata": {
            "tags": null
          },
          "name": "stderr",
          "output_type": "stream",
          "text": [
            "  1%|▏         | 1/80 [00:02<02:51,  2.18s/it]"
          ]
        },
        {
          "metadata": {
            "tags": null
          },
          "name": "stdout",
          "output_type": "stream",
          "text": [
            "Epoch 1, In-sample Loss: 0.0028, In-sample Accuracy: 0.1875\n",
            "Epoch 1, Out-sample Loss: 0.0096, Out-sample Accuracy: 0.0000\n"
          ]
        },
        {
          "metadata": {
            "tags": null
          },
          "name": "stderr",
          "output_type": "stream",
          "text": [
            "  8%|▊         | 6/80 [00:08<01:54,  1.54s/it]"
          ]
        },
        {
          "metadata": {
            "tags": null
          },
          "name": "stdout",
          "output_type": "stream",
          "text": [
            "Epoch 6, In-sample Loss: 0.0028, In-sample Accuracy: 0.1875\n",
            "Epoch 6, Out-sample Loss: 0.0097, Out-sample Accuracy: 0.0000\n"
          ]
        },
        {
          "metadata": {
            "tags": null
          },
          "name": "stderr",
          "output_type": "stream",
          "text": [
            " 14%|█▍        | 11/80 [00:15<01:50,  1.61s/it]"
          ]
        },
        {
          "metadata": {
            "tags": null
          },
          "name": "stdout",
          "output_type": "stream",
          "text": [
            "Epoch 11, In-sample Loss: 0.0028, In-sample Accuracy: 0.1875\n",
            "Epoch 11, Out-sample Loss: 0.0097, Out-sample Accuracy: 0.0000\n"
          ]
        },
        {
          "metadata": {
            "tags": null
          },
          "name": "stderr",
          "output_type": "stream",
          "text": [
            " 20%|██        | 16/80 [00:21<01:25,  1.33s/it]"
          ]
        },
        {
          "metadata": {
            "tags": null
          },
          "name": "stdout",
          "output_type": "stream",
          "text": [
            "Epoch 16, In-sample Loss: 0.0028, In-sample Accuracy: 0.1875\n",
            "Epoch 16, Out-sample Loss: 0.0097, Out-sample Accuracy: 0.0000\n"
          ]
        },
        {
          "metadata": {
            "tags": null
          },
          "name": "stderr",
          "output_type": "stream",
          "text": [
            " 26%|██▋       | 21/80 [00:28<01:47,  1.83s/it]"
          ]
        },
        {
          "metadata": {
            "tags": null
          },
          "name": "stdout",
          "output_type": "stream",
          "text": [
            "Epoch 21, In-sample Loss: 0.0028, In-sample Accuracy: 0.1875\n",
            "Epoch 21, Out-sample Loss: 0.0097, Out-sample Accuracy: 0.0000\n"
          ]
        },
        {
          "metadata": {
            "tags": null
          },
          "name": "stderr",
          "output_type": "stream",
          "text": [
            " 32%|███▎      | 26/80 [00:34<01:18,  1.45s/it]"
          ]
        },
        {
          "metadata": {
            "tags": null
          },
          "name": "stdout",
          "output_type": "stream",
          "text": [
            "Epoch 26, In-sample Loss: 0.0028, In-sample Accuracy: 0.1875\n",
            "Epoch 26, Out-sample Loss: 0.0098, Out-sample Accuracy: 0.0000\n"
          ]
        },
        {
          "metadata": {
            "tags": null
          },
          "name": "stderr",
          "output_type": "stream",
          "text": [
            " 39%|███▉      | 31/80 [00:40<01:05,  1.33s/it]"
          ]
        },
        {
          "metadata": {
            "tags": null
          },
          "name": "stdout",
          "output_type": "stream",
          "text": [
            "Epoch 31, In-sample Loss: 0.0028, In-sample Accuracy: 0.1875\n",
            "Epoch 31, Out-sample Loss: 0.0098, Out-sample Accuracy: 0.0000\n"
          ]
        },
        {
          "metadata": {
            "tags": null
          },
          "name": "stderr",
          "output_type": "stream",
          "text": [
            " 45%|████▌     | 36/80 [00:48<01:20,  1.83s/it]"
          ]
        },
        {
          "metadata": {
            "tags": null
          },
          "name": "stdout",
          "output_type": "stream",
          "text": [
            "Epoch 36, In-sample Loss: 0.0028, In-sample Accuracy: 0.1875\n",
            "Epoch 36, Out-sample Loss: 0.0098, Out-sample Accuracy: 0.0000\n"
          ]
        },
        {
          "metadata": {
            "tags": null
          },
          "name": "stderr",
          "output_type": "stream",
          "text": [
            " 51%|█████▏    | 41/80 [00:53<00:52,  1.36s/it]"
          ]
        },
        {
          "metadata": {
            "tags": null
          },
          "name": "stdout",
          "output_type": "stream",
          "text": [
            "Epoch 41, In-sample Loss: 0.0028, In-sample Accuracy: 0.1875\n",
            "Epoch 41, Out-sample Loss: 0.0098, Out-sample Accuracy: 0.0000\n"
          ]
        },
        {
          "metadata": {
            "tags": null
          },
          "name": "stderr",
          "output_type": "stream",
          "text": [
            " 57%|█████▊    | 46/80 [01:00<00:55,  1.62s/it]"
          ]
        },
        {
          "metadata": {
            "tags": null
          },
          "name": "stdout",
          "output_type": "stream",
          "text": [
            "Epoch 46, In-sample Loss: 0.0028, In-sample Accuracy: 0.1875\n",
            "Epoch 46, Out-sample Loss: 0.0098, Out-sample Accuracy: 0.0000\n"
          ]
        },
        {
          "metadata": {
            "tags": null
          },
          "name": "stderr",
          "output_type": "stream",
          "text": [
            " 64%|██████▍   | 51/80 [01:07<00:43,  1.52s/it]"
          ]
        },
        {
          "metadata": {
            "tags": null
          },
          "name": "stdout",
          "output_type": "stream",
          "text": [
            "Epoch 51, In-sample Loss: 0.0028, In-sample Accuracy: 0.1875\n",
            "Epoch 51, Out-sample Loss: 0.0098, Out-sample Accuracy: 0.0000\n"
          ]
        },
        {
          "metadata": {
            "tags": null
          },
          "name": "stderr",
          "output_type": "stream",
          "text": [
            " 70%|███████   | 56/80 [01:12<00:31,  1.31s/it]"
          ]
        },
        {
          "metadata": {
            "tags": null
          },
          "name": "stdout",
          "output_type": "stream",
          "text": [
            "Epoch 56, In-sample Loss: 0.0028, In-sample Accuracy: 0.1875\n",
            "Epoch 56, Out-sample Loss: 0.0099, Out-sample Accuracy: 0.0000\n"
          ]
        },
        {
          "metadata": {
            "tags": null
          },
          "name": "stderr",
          "output_type": "stream",
          "text": [
            " 76%|███████▋  | 61/80 [01:20<00:36,  1.92s/it]"
          ]
        },
        {
          "metadata": {
            "tags": null
          },
          "name": "stdout",
          "output_type": "stream",
          "text": [
            "Epoch 61, In-sample Loss: 0.0028, In-sample Accuracy: 0.1875\n",
            "Epoch 61, Out-sample Loss: 0.0099, Out-sample Accuracy: 0.0000\n"
          ]
        },
        {
          "metadata": {
            "tags": null
          },
          "name": "stderr",
          "output_type": "stream",
          "text": [
            " 82%|████████▎ | 66/80 [01:26<00:19,  1.41s/it]"
          ]
        },
        {
          "metadata": {
            "tags": null
          },
          "name": "stdout",
          "output_type": "stream",
          "text": [
            "Epoch 66, In-sample Loss: 0.0028, In-sample Accuracy: 0.1875\n",
            "Epoch 66, Out-sample Loss: 0.0099, Out-sample Accuracy: 0.0000\n"
          ]
        },
        {
          "metadata": {
            "tags": null
          },
          "name": "stderr",
          "output_type": "stream",
          "text": [
            " 89%|████████▉ | 71/80 [01:32<00:12,  1.35s/it]"
          ]
        },
        {
          "metadata": {
            "tags": null
          },
          "name": "stdout",
          "output_type": "stream",
          "text": [
            "Epoch 71, In-sample Loss: 0.0028, In-sample Accuracy: 0.1875\n",
            "Epoch 71, Out-sample Loss: 0.0099, Out-sample Accuracy: 0.0000\n"
          ]
        },
        {
          "metadata": {
            "tags": null
          },
          "name": "stderr",
          "output_type": "stream",
          "text": [
            " 95%|█████████▌| 76/80 [01:40<00:06,  1.69s/it]"
          ]
        },
        {
          "metadata": {
            "tags": null
          },
          "name": "stdout",
          "output_type": "stream",
          "text": [
            "Epoch 76, In-sample Loss: 0.0028, In-sample Accuracy: 0.1875\n",
            "Epoch 76, Out-sample Loss: 0.0099, Out-sample Accuracy: 0.0000\n"
          ]
        },
        {
          "metadata": {
            "tags": null
          },
          "name": "stderr",
          "output_type": "stream",
          "text": [
            "100%|██████████| 80/80 [01:43<00:00,  1.29s/it]\n",
            "Using cache found in /root/.cache/torch/hub/pytorch_vision_v0.10.0\n"
          ]
        },
        {
          "metadata": {
            "tags": null
          },
          "name": "stdout",
          "output_type": "stream",
          "text": [
            "Full model training completed.\n",
            "Total number of layers is 174\n",
            "Number of pretrained base layers is 170\n"
          ]
        },
        {
          "metadata": {
            "tags": null
          },
          "name": "stderr",
          "output_type": "stream",
          "text": [
            "  1%|▏         | 1/80 [00:01<02:33,  1.94s/it]"
          ]
        },
        {
          "metadata": {
            "tags": null
          },
          "name": "stdout",
          "output_type": "stream",
          "text": [
            "Epoch 1, In-sample Loss: 0.0489, In-sample Accuracy: 0.0000\n",
            "Epoch 1, Out-sample Loss: 0.0492, Out-sample Accuracy: 0.0000\n"
          ]
        },
        {
          "metadata": {
            "tags": null
          },
          "name": "stderr",
          "output_type": "stream",
          "text": [
            "  8%|▊         | 6/80 [00:07<01:55,  1.56s/it]"
          ]
        },
        {
          "metadata": {
            "tags": null
          },
          "name": "stdout",
          "output_type": "stream",
          "text": [
            "Epoch 6, In-sample Loss: 0.0390, In-sample Accuracy: 0.0000\n",
            "Epoch 6, Out-sample Loss: 0.0554, Out-sample Accuracy: 0.0000\n"
          ]
        },
        {
          "metadata": {
            "tags": null
          },
          "name": "stderr",
          "output_type": "stream",
          "text": [
            " 14%|█▍        | 11/80 [00:14<01:38,  1.42s/it]"
          ]
        },
        {
          "metadata": {
            "tags": null
          },
          "name": "stdout",
          "output_type": "stream",
          "text": [
            "Epoch 11, In-sample Loss: 0.0356, In-sample Accuracy: 0.0000\n",
            "Epoch 11, Out-sample Loss: 0.0411, Out-sample Accuracy: 0.0000\n"
          ]
        },
        {
          "metadata": {
            "tags": null
          },
          "name": "stderr",
          "output_type": "stream",
          "text": [
            " 20%|██        | 16/80 [00:18<01:15,  1.17s/it]"
          ]
        },
        {
          "metadata": {
            "tags": null
          },
          "name": "stdout",
          "output_type": "stream",
          "text": [
            "Epoch 16, In-sample Loss: 0.0218, In-sample Accuracy: 0.0000\n",
            "Epoch 16, Out-sample Loss: 0.0291, Out-sample Accuracy: 0.0000\n"
          ]
        },
        {
          "metadata": {
            "tags": null
          },
          "name": "stderr",
          "output_type": "stream",
          "text": [
            " 26%|██▋       | 21/80 [00:24<01:23,  1.41s/it]"
          ]
        },
        {
          "metadata": {
            "tags": null
          },
          "name": "stdout",
          "output_type": "stream",
          "text": [
            "Epoch 21, In-sample Loss: 0.0125, In-sample Accuracy: 0.0625\n",
            "Epoch 21, Out-sample Loss: 0.0184, Out-sample Accuracy: 0.0000\n"
          ]
        },
        {
          "metadata": {
            "tags": null
          },
          "name": "stderr",
          "output_type": "stream",
          "text": [
            " 32%|███▎      | 26/80 [00:31<01:22,  1.53s/it]"
          ]
        },
        {
          "metadata": {
            "tags": null
          },
          "name": "stdout",
          "output_type": "stream",
          "text": [
            "Epoch 26, In-sample Loss: 0.0114, In-sample Accuracy: 0.0625\n",
            "Epoch 26, Out-sample Loss: 0.0163, Out-sample Accuracy: 0.0000\n"
          ]
        },
        {
          "metadata": {
            "tags": null
          },
          "name": "stderr",
          "output_type": "stream",
          "text": [
            " 39%|███▉      | 31/80 [00:35<00:58,  1.19s/it]"
          ]
        },
        {
          "metadata": {
            "tags": null
          },
          "name": "stdout",
          "output_type": "stream",
          "text": [
            "Epoch 31, In-sample Loss: 0.0080, In-sample Accuracy: 0.1250\n",
            "Epoch 31, Out-sample Loss: 0.0111, Out-sample Accuracy: 0.0000\n"
          ]
        },
        {
          "metadata": {
            "tags": null
          },
          "name": "stderr",
          "output_type": "stream",
          "text": [
            " 45%|████▌     | 36/80 [00:40<00:53,  1.23s/it]"
          ]
        },
        {
          "metadata": {
            "tags": null
          },
          "name": "stdout",
          "output_type": "stream",
          "text": [
            "Epoch 36, In-sample Loss: 0.0052, In-sample Accuracy: 0.0000\n",
            "Epoch 36, Out-sample Loss: 0.0105, Out-sample Accuracy: 0.0000\n"
          ]
        },
        {
          "metadata": {
            "tags": null
          },
          "name": "stderr",
          "output_type": "stream",
          "text": [
            " 51%|█████▏    | 41/80 [00:47<01:00,  1.55s/it]"
          ]
        },
        {
          "metadata": {
            "tags": null
          },
          "name": "stdout",
          "output_type": "stream",
          "text": [
            "Epoch 41, In-sample Loss: 0.0027, In-sample Accuracy: 0.4375\n",
            "Epoch 41, Out-sample Loss: 0.0098, Out-sample Accuracy: 0.0000\n"
          ]
        },
        {
          "metadata": {
            "tags": null
          },
          "name": "stderr",
          "output_type": "stream",
          "text": [
            " 57%|█████▊    | 46/80 [00:52<00:40,  1.20s/it]"
          ]
        },
        {
          "metadata": {
            "tags": null
          },
          "name": "stdout",
          "output_type": "stream",
          "text": [
            "Epoch 46, In-sample Loss: 0.0066, In-sample Accuracy: 0.0625\n",
            "Epoch 46, Out-sample Loss: 0.0082, Out-sample Accuracy: 0.0000\n"
          ]
        },
        {
          "metadata": {
            "tags": null
          },
          "name": "stderr",
          "output_type": "stream",
          "text": [
            " 64%|██████▍   | 51/80 [00:56<00:33,  1.17s/it]"
          ]
        },
        {
          "metadata": {
            "tags": null
          },
          "name": "stdout",
          "output_type": "stream",
          "text": [
            "Epoch 51, In-sample Loss: 0.0081, In-sample Accuracy: 0.1250\n",
            "Epoch 51, Out-sample Loss: 0.0120, Out-sample Accuracy: 0.0000\n"
          ]
        },
        {
          "metadata": {
            "tags": null
          },
          "name": "stderr",
          "output_type": "stream",
          "text": [
            " 70%|███████   | 56/80 [01:04<00:39,  1.63s/it]"
          ]
        },
        {
          "metadata": {
            "tags": null
          },
          "name": "stdout",
          "output_type": "stream",
          "text": [
            "Epoch 56, In-sample Loss: 0.0040, In-sample Accuracy: 0.3750\n",
            "Epoch 56, Out-sample Loss: 0.0070, Out-sample Accuracy: 0.0000\n"
          ]
        },
        {
          "metadata": {
            "tags": null
          },
          "name": "stderr",
          "output_type": "stream",
          "text": [
            " 76%|███████▋  | 61/80 [01:08<00:23,  1.21s/it]"
          ]
        },
        {
          "metadata": {
            "tags": null
          },
          "name": "stdout",
          "output_type": "stream",
          "text": [
            "Epoch 61, In-sample Loss: 0.0037, In-sample Accuracy: 0.3125\n",
            "Epoch 61, Out-sample Loss: 0.0078, Out-sample Accuracy: 0.0000\n"
          ]
        },
        {
          "metadata": {
            "tags": null
          },
          "name": "stderr",
          "output_type": "stream",
          "text": [
            " 82%|████████▎ | 66/80 [01:13<00:16,  1.17s/it]"
          ]
        },
        {
          "metadata": {
            "tags": null
          },
          "name": "stdout",
          "output_type": "stream",
          "text": [
            "Epoch 66, In-sample Loss: 0.0047, In-sample Accuracy: 0.1250\n",
            "Epoch 66, Out-sample Loss: 0.0190, Out-sample Accuracy: 0.0000\n"
          ]
        },
        {
          "metadata": {
            "tags": null
          },
          "name": "stderr",
          "output_type": "stream",
          "text": [
            " 89%|████████▉ | 71/80 [01:21<00:15,  1.70s/it]"
          ]
        },
        {
          "metadata": {
            "tags": null
          },
          "name": "stdout",
          "output_type": "stream",
          "text": [
            "Epoch 71, In-sample Loss: 0.0062, In-sample Accuracy: 0.3125\n",
            "Epoch 71, Out-sample Loss: 0.0102, Out-sample Accuracy: 0.0000\n"
          ]
        },
        {
          "metadata": {
            "tags": null
          },
          "name": "stderr",
          "output_type": "stream",
          "text": [
            " 95%|█████████▌| 76/80 [01:25<00:04,  1.25s/it]"
          ]
        },
        {
          "metadata": {
            "tags": null
          },
          "name": "stdout",
          "output_type": "stream",
          "text": [
            "Epoch 76, In-sample Loss: 0.0070, In-sample Accuracy: 0.0625\n",
            "Epoch 76, Out-sample Loss: 0.0101, Out-sample Accuracy: 0.0000\n"
          ]
        },
        {
          "metadata": {
            "tags": null
          },
          "name": "stderr",
          "output_type": "stream",
          "text": [
            "100%|██████████| 80/80 [01:28<00:00,  1.11s/it]\n"
          ]
        },
        {
          "metadata": {
            "tags": null
          },
          "name": "stdout",
          "output_type": "stream",
          "text": [
            "Starting full model training...\n"
          ]
        },
        {
          "metadata": {
            "tags": null
          },
          "name": "stderr",
          "output_type": "stream",
          "text": [
            "  1%|▏         | 1/80 [00:02<02:46,  2.11s/it]"
          ]
        },
        {
          "metadata": {
            "tags": null
          },
          "name": "stdout",
          "output_type": "stream",
          "text": [
            "Epoch 1, In-sample Loss: 0.0846, In-sample Accuracy: 0.1250\n",
            "Epoch 1, Out-sample Loss: 0.0143, Out-sample Accuracy: 0.0000\n"
          ]
        },
        {
          "metadata": {
            "tags": null
          },
          "name": "stderr",
          "output_type": "stream",
          "text": [
            "  8%|▊         | 6/80 [00:10<02:22,  1.93s/it]"
          ]
        },
        {
          "metadata": {
            "tags": null
          },
          "name": "stdout",
          "output_type": "stream",
          "text": [
            "Epoch 6, In-sample Loss: 0.0282, In-sample Accuracy: 0.0000\n",
            "Epoch 6, Out-sample Loss: 0.0480, Out-sample Accuracy: 0.0000\n"
          ]
        },
        {
          "metadata": {
            "tags": null
          },
          "name": "stderr",
          "output_type": "stream",
          "text": [
            " 14%|█▍        | 11/80 [00:15<01:35,  1.39s/it]"
          ]
        },
        {
          "metadata": {
            "tags": null
          },
          "name": "stdout",
          "output_type": "stream",
          "text": [
            "Epoch 11, In-sample Loss: 0.0149, In-sample Accuracy: 0.0000\n",
            "Epoch 11, Out-sample Loss: 0.0189, Out-sample Accuracy: 0.0000\n"
          ]
        },
        {
          "metadata": {
            "tags": null
          },
          "name": "stderr",
          "output_type": "stream",
          "text": [
            " 20%|██        | 16/80 [00:22<01:49,  1.71s/it]"
          ]
        },
        {
          "metadata": {
            "tags": null
          },
          "name": "stdout",
          "output_type": "stream",
          "text": [
            "Epoch 16, In-sample Loss: 0.0082, In-sample Accuracy: 0.0000\n",
            "Epoch 16, Out-sample Loss: 0.0134, Out-sample Accuracy: 0.0000\n"
          ]
        },
        {
          "metadata": {
            "tags": null
          },
          "name": "stderr",
          "output_type": "stream",
          "text": [
            " 26%|██▋       | 21/80 [00:29<01:30,  1.54s/it]"
          ]
        },
        {
          "metadata": {
            "tags": null
          },
          "name": "stdout",
          "output_type": "stream",
          "text": [
            "Epoch 21, In-sample Loss: 0.0035, In-sample Accuracy: 0.3750\n",
            "Epoch 21, Out-sample Loss: 0.0089, Out-sample Accuracy: 0.0000\n"
          ]
        },
        {
          "metadata": {
            "tags": null
          },
          "name": "stderr",
          "output_type": "stream",
          "text": [
            " 32%|███▎      | 26/80 [00:35<01:11,  1.33s/it]"
          ]
        },
        {
          "metadata": {
            "tags": null
          },
          "name": "stdout",
          "output_type": "stream",
          "text": [
            "Epoch 26, In-sample Loss: 0.0017, In-sample Accuracy: 0.2500\n",
            "Epoch 26, Out-sample Loss: 0.0056, Out-sample Accuracy: 0.0000\n"
          ]
        },
        {
          "metadata": {
            "tags": null
          },
          "name": "stderr",
          "output_type": "stream",
          "text": [
            " 39%|███▉      | 31/80 [00:43<01:35,  1.94s/it]"
          ]
        },
        {
          "metadata": {
            "tags": null
          },
          "name": "stdout",
          "output_type": "stream",
          "text": [
            "Epoch 31, In-sample Loss: 0.0012, In-sample Accuracy: 0.4375\n",
            "Epoch 31, Out-sample Loss: 0.0053, Out-sample Accuracy: 0.0000\n"
          ]
        },
        {
          "metadata": {
            "tags": null
          },
          "name": "stderr",
          "output_type": "stream",
          "text": [
            " 45%|████▌     | 36/80 [00:49<01:04,  1.47s/it]"
          ]
        },
        {
          "metadata": {
            "tags": null
          },
          "name": "stdout",
          "output_type": "stream",
          "text": [
            "Epoch 36, In-sample Loss: 0.0006, In-sample Accuracy: 0.7500\n",
            "Epoch 36, Out-sample Loss: 0.0056, Out-sample Accuracy: 0.0000\n"
          ]
        },
        {
          "metadata": {
            "tags": null
          },
          "name": "stderr",
          "output_type": "stream",
          "text": [
            " 51%|█████▏    | 41/80 [01:00<01:34,  2.43s/it]"
          ]
        },
        {
          "metadata": {
            "tags": null
          },
          "name": "stdout",
          "output_type": "stream",
          "text": [
            "Epoch 41, In-sample Loss: 0.0003, In-sample Accuracy: 0.9375\n",
            "Epoch 41, Out-sample Loss: 0.0054, Out-sample Accuracy: 0.0000\n"
          ]
        },
        {
          "metadata": {
            "tags": null
          },
          "name": "stderr",
          "output_type": "stream",
          "text": [
            " 57%|█████▊    | 46/80 [01:05<00:51,  1.50s/it]"
          ]
        },
        {
          "metadata": {
            "tags": null
          },
          "name": "stdout",
          "output_type": "stream",
          "text": [
            "Epoch 46, In-sample Loss: 0.0005, In-sample Accuracy: 0.5625\n",
            "Epoch 46, Out-sample Loss: 0.0059, Out-sample Accuracy: 0.0000\n"
          ]
        },
        {
          "metadata": {
            "tags": null
          },
          "name": "stderr",
          "output_type": "stream",
          "text": [
            " 64%|██████▍   | 51/80 [01:12<00:43,  1.50s/it]"
          ]
        },
        {
          "metadata": {
            "tags": null
          },
          "name": "stdout",
          "output_type": "stream",
          "text": [
            "Epoch 51, In-sample Loss: 0.0006, In-sample Accuracy: 0.6250\n",
            "Epoch 51, Out-sample Loss: 0.0050, Out-sample Accuracy: 0.0000\n"
          ]
        },
        {
          "metadata": {
            "tags": null
          },
          "name": "stderr",
          "output_type": "stream",
          "text": [
            " 70%|███████   | 56/80 [01:19<00:38,  1.62s/it]"
          ]
        },
        {
          "metadata": {
            "tags": null
          },
          "name": "stdout",
          "output_type": "stream",
          "text": [
            "Epoch 56, In-sample Loss: 0.0007, In-sample Accuracy: 0.6875\n",
            "Epoch 56, Out-sample Loss: 0.0051, Out-sample Accuracy: 0.0000\n"
          ]
        },
        {
          "metadata": {
            "tags": null
          },
          "name": "stderr",
          "output_type": "stream",
          "text": [
            " 76%|███████▋  | 61/80 [01:25<00:25,  1.36s/it]"
          ]
        },
        {
          "metadata": {
            "tags": null
          },
          "name": "stdout",
          "output_type": "stream",
          "text": [
            "Epoch 61, In-sample Loss: 0.0005, In-sample Accuracy: 0.7500\n",
            "Epoch 61, Out-sample Loss: 0.0061, Out-sample Accuracy: 0.0000\n"
          ]
        },
        {
          "metadata": {
            "tags": null
          },
          "name": "stderr",
          "output_type": "stream",
          "text": [
            " 82%|████████▎ | 66/80 [01:33<00:26,  1.89s/it]"
          ]
        },
        {
          "metadata": {
            "tags": null
          },
          "name": "stdout",
          "output_type": "stream",
          "text": [
            "Epoch 66, In-sample Loss: 0.0007, In-sample Accuracy: 0.8125\n",
            "Epoch 66, Out-sample Loss: 0.0049, Out-sample Accuracy: 0.0000\n"
          ]
        },
        {
          "metadata": {
            "tags": null
          },
          "name": "stderr",
          "output_type": "stream",
          "text": [
            " 89%|████████▉ | 71/80 [01:39<00:13,  1.44s/it]"
          ]
        },
        {
          "metadata": {
            "tags": null
          },
          "name": "stdout",
          "output_type": "stream",
          "text": [
            "Epoch 71, In-sample Loss: 0.0010, In-sample Accuracy: 0.6250\n",
            "Epoch 71, Out-sample Loss: 0.0065, Out-sample Accuracy: 0.0000\n"
          ]
        },
        {
          "metadata": {
            "tags": null
          },
          "name": "stderr",
          "output_type": "stream",
          "text": [
            " 95%|█████████▌| 76/80 [01:44<00:05,  1.34s/it]"
          ]
        },
        {
          "metadata": {
            "tags": null
          },
          "name": "stdout",
          "output_type": "stream",
          "text": [
            "Epoch 76, In-sample Loss: 0.0009, In-sample Accuracy: 0.5625\n",
            "Epoch 76, Out-sample Loss: 0.0074, Out-sample Accuracy: 0.0000\n"
          ]
        },
        {
          "metadata": {
            "tags": null
          },
          "name": "stderr",
          "output_type": "stream",
          "text": [
            "100%|██████████| 80/80 [01:50<00:00,  1.38s/it]\n",
            "Using cache found in /root/.cache/torch/hub/pytorch_vision_v0.10.0\n"
          ]
        },
        {
          "metadata": {
            "tags": null
          },
          "name": "stdout",
          "output_type": "stream",
          "text": [
            "Full model training completed.\n",
            "Total number of layers is 174\n",
            "Number of pretrained base layers is 170\n"
          ]
        },
        {
          "metadata": {
            "tags": null
          },
          "name": "stderr",
          "output_type": "stream",
          "text": [
            "  1%|▏         | 1/80 [00:02<03:01,  2.30s/it]"
          ]
        },
        {
          "metadata": {
            "tags": null
          },
          "name": "stdout",
          "output_type": "stream",
          "text": [
            "Epoch 1, In-sample Loss: 0.0727, In-sample Accuracy: 0.0000\n",
            "Epoch 1, Out-sample Loss: 0.0650, Out-sample Accuracy: 0.0000\n"
          ]
        },
        {
          "metadata": {
            "tags": null
          },
          "name": "stderr",
          "output_type": "stream",
          "text": [
            "  8%|▊         | 6/80 [00:07<01:30,  1.22s/it]"
          ]
        },
        {
          "metadata": {
            "tags": null
          },
          "name": "stdout",
          "output_type": "stream",
          "text": [
            "Epoch 6, In-sample Loss: 0.4625, In-sample Accuracy: 0.0000\n",
            "Epoch 6, Out-sample Loss: 0.4314, Out-sample Accuracy: 0.0000\n"
          ]
        },
        {
          "metadata": {
            "tags": null
          },
          "name": "stderr",
          "output_type": "stream",
          "text": [
            " 14%|█▍        | 11/80 [00:12<01:34,  1.37s/it]"
          ]
        },
        {
          "metadata": {
            "tags": null
          },
          "name": "stdout",
          "output_type": "stream",
          "text": [
            "Epoch 11, In-sample Loss: 0.0062, In-sample Accuracy: 0.0000\n",
            "Epoch 11, Out-sample Loss: 0.0175, Out-sample Accuracy: 0.0000\n"
          ]
        },
        {
          "metadata": {
            "tags": null
          },
          "name": "stderr",
          "output_type": "stream",
          "text": [
            " 20%|██        | 16/80 [00:19<01:37,  1.53s/it]"
          ]
        },
        {
          "metadata": {
            "tags": null
          },
          "name": "stdout",
          "output_type": "stream",
          "text": [
            "Epoch 16, In-sample Loss: 0.0030, In-sample Accuracy: 0.1875\n",
            "Epoch 16, Out-sample Loss: 0.0090, Out-sample Accuracy: 0.0000\n"
          ]
        },
        {
          "metadata": {
            "tags": null
          },
          "name": "stderr",
          "output_type": "stream",
          "text": [
            " 26%|██▋       | 21/80 [00:24<01:12,  1.22s/it]"
          ]
        },
        {
          "metadata": {
            "tags": null
          },
          "name": "stdout",
          "output_type": "stream",
          "text": [
            "Epoch 21, In-sample Loss: 0.0028, In-sample Accuracy: 0.3125\n",
            "Epoch 21, Out-sample Loss: 0.0109, Out-sample Accuracy: 0.0000\n"
          ]
        },
        {
          "metadata": {
            "tags": null
          },
          "name": "stderr",
          "output_type": "stream",
          "text": [
            " 32%|███▎      | 26/80 [00:29<01:12,  1.34s/it]"
          ]
        },
        {
          "metadata": {
            "tags": null
          },
          "name": "stdout",
          "output_type": "stream",
          "text": [
            "Epoch 26, In-sample Loss: 0.0028, In-sample Accuracy: 0.2500\n",
            "Epoch 26, Out-sample Loss: 0.0100, Out-sample Accuracy: 0.0000\n"
          ]
        },
        {
          "metadata": {
            "tags": null
          },
          "name": "stderr",
          "output_type": "stream",
          "text": [
            " 39%|███▉      | 31/80 [00:36<01:22,  1.68s/it]"
          ]
        },
        {
          "metadata": {
            "tags": null
          },
          "name": "stdout",
          "output_type": "stream",
          "text": [
            "Epoch 31, In-sample Loss: 0.0028, In-sample Accuracy: 0.3125\n",
            "Epoch 31, Out-sample Loss: 0.0101, Out-sample Accuracy: 0.0000\n"
          ]
        },
        {
          "metadata": {
            "tags": null
          },
          "name": "stderr",
          "output_type": "stream",
          "text": [
            " 45%|████▌     | 36/80 [00:41<00:54,  1.23s/it]"
          ]
        },
        {
          "metadata": {
            "tags": null
          },
          "name": "stdout",
          "output_type": "stream",
          "text": [
            "Epoch 36, In-sample Loss: 0.0030, In-sample Accuracy: 0.1250\n",
            "Epoch 36, Out-sample Loss: 0.0125, Out-sample Accuracy: 0.0000\n"
          ]
        },
        {
          "metadata": {
            "tags": null
          },
          "name": "stderr",
          "output_type": "stream",
          "text": [
            " 51%|█████▏    | 41/80 [00:46<00:48,  1.25s/it]"
          ]
        },
        {
          "metadata": {
            "tags": null
          },
          "name": "stdout",
          "output_type": "stream",
          "text": [
            "Epoch 41, In-sample Loss: 0.0032, In-sample Accuracy: 0.3125\n",
            "Epoch 41, Out-sample Loss: 0.0110, Out-sample Accuracy: 0.0000\n"
          ]
        },
        {
          "metadata": {
            "tags": null
          },
          "name": "stderr",
          "output_type": "stream",
          "text": [
            " 57%|█████▊    | 46/80 [00:54<00:57,  1.69s/it]"
          ]
        },
        {
          "metadata": {
            "tags": null
          },
          "name": "stdout",
          "output_type": "stream",
          "text": [
            "Epoch 46, In-sample Loss: 0.0035, In-sample Accuracy: 0.1875\n",
            "Epoch 46, Out-sample Loss: 0.0095, Out-sample Accuracy: 0.0000\n"
          ]
        },
        {
          "metadata": {
            "tags": null
          },
          "name": "stderr",
          "output_type": "stream",
          "text": [
            " 64%|██████▍   | 51/80 [00:58<00:35,  1.23s/it]"
          ]
        },
        {
          "metadata": {
            "tags": null
          },
          "name": "stdout",
          "output_type": "stream",
          "text": [
            "Epoch 51, In-sample Loss: 0.0029, In-sample Accuracy: 0.2500\n",
            "Epoch 51, Out-sample Loss: 0.0108, Out-sample Accuracy: 0.0000\n"
          ]
        },
        {
          "metadata": {
            "tags": null
          },
          "name": "stderr",
          "output_type": "stream",
          "text": [
            " 70%|███████   | 56/80 [01:04<00:30,  1.28s/it]"
          ]
        },
        {
          "metadata": {
            "tags": null
          },
          "name": "stdout",
          "output_type": "stream",
          "text": [
            "Epoch 56, In-sample Loss: 0.0028, In-sample Accuracy: 0.2500\n",
            "Epoch 56, Out-sample Loss: 0.0102, Out-sample Accuracy: 0.0000\n"
          ]
        },
        {
          "metadata": {
            "tags": null
          },
          "name": "stderr",
          "output_type": "stream",
          "text": [
            " 76%|███████▋  | 61/80 [01:11<00:30,  1.61s/it]"
          ]
        },
        {
          "metadata": {
            "tags": null
          },
          "name": "stdout",
          "output_type": "stream",
          "text": [
            "Epoch 61, In-sample Loss: 0.0029, In-sample Accuracy: 0.2500\n",
            "Epoch 61, Out-sample Loss: 0.0100, Out-sample Accuracy: 0.0000\n"
          ]
        },
        {
          "metadata": {
            "tags": null
          },
          "name": "stderr",
          "output_type": "stream",
          "text": [
            " 82%|████████▎ | 66/80 [01:16<00:17,  1.22s/it]"
          ]
        },
        {
          "metadata": {
            "tags": null
          },
          "name": "stdout",
          "output_type": "stream",
          "text": [
            "Epoch 66, In-sample Loss: 0.0047, In-sample Accuracy: 0.1250\n",
            "Epoch 66, Out-sample Loss: 0.0175, Out-sample Accuracy: 0.0000\n"
          ]
        },
        {
          "metadata": {
            "tags": null
          },
          "name": "stderr",
          "output_type": "stream",
          "text": [
            " 89%|████████▉ | 71/80 [01:21<00:12,  1.35s/it]"
          ]
        },
        {
          "metadata": {
            "tags": null
          },
          "name": "stdout",
          "output_type": "stream",
          "text": [
            "Epoch 71, In-sample Loss: 0.0037, In-sample Accuracy: 0.1875\n",
            "Epoch 71, Out-sample Loss: 0.0099, Out-sample Accuracy: 0.0000\n"
          ]
        },
        {
          "metadata": {
            "tags": null
          },
          "name": "stderr",
          "output_type": "stream",
          "text": [
            " 95%|█████████▌| 76/80 [01:28<00:06,  1.56s/it]"
          ]
        },
        {
          "metadata": {
            "tags": null
          },
          "name": "stdout",
          "output_type": "stream",
          "text": [
            "Epoch 76, In-sample Loss: 0.0031, In-sample Accuracy: 0.3125\n",
            "Epoch 76, Out-sample Loss: 0.0097, Out-sample Accuracy: 0.0000\n"
          ]
        },
        {
          "metadata": {
            "tags": null
          },
          "name": "stderr",
          "output_type": "stream",
          "text": [
            "100%|██████████| 80/80 [01:31<00:00,  1.14s/it]\n"
          ]
        },
        {
          "metadata": {
            "tags": null
          },
          "name": "stdout",
          "output_type": "stream",
          "text": [
            "Starting full model training...\n"
          ]
        },
        {
          "metadata": {
            "tags": null
          },
          "name": "stderr",
          "output_type": "stream",
          "text": [
            "  1%|▏         | 1/80 [00:02<02:50,  2.16s/it]"
          ]
        },
        {
          "metadata": {
            "tags": null
          },
          "name": "stdout",
          "output_type": "stream",
          "text": [
            "Epoch 1, In-sample Loss: 0.0028, In-sample Accuracy: 0.1875\n",
            "Epoch 1, Out-sample Loss: 0.0100, Out-sample Accuracy: 0.0000\n"
          ]
        },
        {
          "metadata": {
            "tags": null
          },
          "name": "stderr",
          "output_type": "stream",
          "text": [
            "  8%|▊         | 6/80 [00:08<02:09,  1.75s/it]"
          ]
        },
        {
          "metadata": {
            "tags": null
          },
          "name": "stdout",
          "output_type": "stream",
          "text": [
            "Epoch 6, In-sample Loss: 0.0028, In-sample Accuracy: 0.1875\n",
            "Epoch 6, Out-sample Loss: 0.0100, Out-sample Accuracy: 0.0000\n"
          ]
        },
        {
          "output_type": "stream",
          "name": "stderr",
          "text": [
            " 14%|█▍        | 11/80 [00:15<01:47,  1.55s/it]"
          ]
        },
        {
          "output_type": "stream",
          "name": "stdout",
          "text": [
            "Epoch 11, In-sample Loss: 0.0028, In-sample Accuracy: 0.1875\n",
            "Epoch 11, Out-sample Loss: 0.0100, Out-sample Accuracy: 0.0000\n"
          ]
        },
        {
          "output_type": "stream",
          "name": "stderr",
          "text": [
            " 20%|██        | 16/80 [00:21<01:26,  1.36s/it]"
          ]
        },
        {
          "output_type": "stream",
          "name": "stdout",
          "text": [
            "Epoch 16, In-sample Loss: 0.0028, In-sample Accuracy: 0.1875\n",
            "Epoch 16, Out-sample Loss: 0.0100, Out-sample Accuracy: 0.0000\n"
          ]
        },
        {
          "output_type": "stream",
          "name": "stderr",
          "text": [
            " 26%|██▋       | 21/80 [00:29<01:55,  1.96s/it]"
          ]
        },
        {
          "output_type": "stream",
          "name": "stdout",
          "text": [
            "Epoch 21, In-sample Loss: 0.0028, In-sample Accuracy: 0.2500\n",
            "Epoch 21, Out-sample Loss: 0.0099, Out-sample Accuracy: 0.0000\n"
          ]
        },
        {
          "output_type": "stream",
          "name": "stderr",
          "text": [
            " 32%|███▎      | 26/80 [00:35<01:17,  1.44s/it]"
          ]
        },
        {
          "output_type": "stream",
          "name": "stdout",
          "text": [
            "Epoch 26, In-sample Loss: 0.0028, In-sample Accuracy: 0.1875\n",
            "Epoch 26, Out-sample Loss: 0.0100, Out-sample Accuracy: 0.0000\n"
          ]
        },
        {
          "output_type": "stream",
          "name": "stderr",
          "text": [
            " 39%|███▉      | 31/80 [00:41<01:17,  1.59s/it]"
          ]
        },
        {
          "output_type": "stream",
          "name": "stdout",
          "text": [
            "Epoch 31, In-sample Loss: 0.0028, In-sample Accuracy: 0.1875\n",
            "Epoch 31, Out-sample Loss: 0.0100, Out-sample Accuracy: 0.0000\n"
          ]
        },
        {
          "output_type": "stream",
          "name": "stderr",
          "text": [
            " 45%|████▌     | 36/80 [00:49<01:10,  1.61s/it]"
          ]
        },
        {
          "output_type": "stream",
          "name": "stdout",
          "text": [
            "Epoch 36, In-sample Loss: 0.0028, In-sample Accuracy: 0.2500\n",
            "Epoch 36, Out-sample Loss: 0.0101, Out-sample Accuracy: 0.0000\n"
          ]
        },
        {
          "output_type": "stream",
          "name": "stderr",
          "text": [
            " 51%|█████▏    | 41/80 [00:55<00:53,  1.38s/it]"
          ]
        },
        {
          "output_type": "stream",
          "name": "stdout",
          "text": [
            "Epoch 41, In-sample Loss: 0.0028, In-sample Accuracy: 0.2500\n",
            "Epoch 41, Out-sample Loss: 0.0099, Out-sample Accuracy: 0.0000\n"
          ]
        },
        {
          "output_type": "stream",
          "name": "stderr",
          "text": [
            " 57%|█████▊    | 46/80 [01:03<01:06,  1.95s/it]"
          ]
        },
        {
          "output_type": "stream",
          "name": "stdout",
          "text": [
            "Epoch 46, In-sample Loss: 0.0028, In-sample Accuracy: 0.3125\n",
            "Epoch 46, Out-sample Loss: 0.0100, Out-sample Accuracy: 0.0000\n"
          ]
        },
        {
          "output_type": "stream",
          "name": "stderr",
          "text": [
            " 64%|██████▍   | 51/80 [01:09<00:41,  1.45s/it]"
          ]
        },
        {
          "output_type": "stream",
          "name": "stdout",
          "text": [
            "Epoch 51, In-sample Loss: 0.0028, In-sample Accuracy: 0.1875\n",
            "Epoch 51, Out-sample Loss: 0.0099, Out-sample Accuracy: 0.0000\n"
          ]
        },
        {
          "output_type": "stream",
          "name": "stderr",
          "text": [
            " 70%|███████   | 56/80 [01:14<00:33,  1.39s/it]"
          ]
        },
        {
          "output_type": "stream",
          "name": "stdout",
          "text": [
            "Epoch 56, In-sample Loss: 0.0028, In-sample Accuracy: 0.1875\n",
            "Epoch 56, Out-sample Loss: 0.0100, Out-sample Accuracy: 0.0000\n"
          ]
        },
        {
          "output_type": "stream",
          "name": "stderr",
          "text": [
            " 76%|███████▋  | 61/80 [01:22<00:29,  1.57s/it]"
          ]
        },
        {
          "output_type": "stream",
          "name": "stdout",
          "text": [
            "Epoch 61, In-sample Loss: 0.0028, In-sample Accuracy: 0.1875\n",
            "Epoch 61, Out-sample Loss: 0.0100, Out-sample Accuracy: 0.0000\n"
          ]
        },
        {
          "output_type": "stream",
          "name": "stderr",
          "text": [
            " 82%|████████▎ | 66/80 [01:28<00:19,  1.37s/it]"
          ]
        },
        {
          "output_type": "stream",
          "name": "stdout",
          "text": [
            "Epoch 66, In-sample Loss: 0.0028, In-sample Accuracy: 0.1875\n",
            "Epoch 66, Out-sample Loss: 0.0100, Out-sample Accuracy: 0.0000\n"
          ]
        },
        {
          "output_type": "stream",
          "name": "stderr",
          "text": [
            " 89%|████████▉ | 71/80 [01:35<00:16,  1.87s/it]"
          ]
        },
        {
          "output_type": "stream",
          "name": "stdout",
          "text": [
            "Epoch 71, In-sample Loss: 0.0028, In-sample Accuracy: 0.2500\n",
            "Epoch 71, Out-sample Loss: 0.0100, Out-sample Accuracy: 0.0000\n"
          ]
        },
        {
          "output_type": "stream",
          "name": "stderr",
          "text": [
            " 95%|█████████▌| 76/80 [01:41<00:05,  1.41s/it]"
          ]
        },
        {
          "output_type": "stream",
          "name": "stdout",
          "text": [
            "Epoch 76, In-sample Loss: 0.0028, In-sample Accuracy: 0.2500\n",
            "Epoch 76, Out-sample Loss: 0.0099, Out-sample Accuracy: 0.0000\n"
          ]
        },
        {
          "output_type": "stream",
          "name": "stderr",
          "text": [
            "100%|██████████| 80/80 [01:44<00:00,  1.31s/it]"
          ]
        },
        {
          "output_type": "stream",
          "name": "stdout",
          "text": [
            "Full model training completed.\n"
          ]
        },
        {
          "output_type": "stream",
          "name": "stderr",
          "text": [
            "\n"
          ]
        },
        {
          "output_type": "error",
          "ename": "NameError",
          "evalue": "ignored",
          "traceback": [
            "\u001b[0;31m---------------------------------------------------------------------------\u001b[0m",
            "\u001b[0;31mNameError\u001b[0m                                 Traceback (most recent call last)",
            "\u001b[0;32m<ipython-input-14-383573a858e4>\u001b[0m in \u001b[0;36m<cell line: 47>\u001b[0;34m()\u001b[0m\n\u001b[1;32m     45\u001b[0m   \u001b[0mfull_loss_result\u001b[0m\u001b[0;34m.\u001b[0m\u001b[0mappend\u001b[0m\u001b[0;34m(\u001b[0m\u001b[0mfull_loss_history\u001b[0m\u001b[0;34m)\u001b[0m\u001b[0;34m\u001b[0m\u001b[0;34m\u001b[0m\u001b[0m\n\u001b[1;32m     46\u001b[0m   \u001b[0mprint\u001b[0m\u001b[0;34m(\u001b[0m\u001b[0;34m\"Full model training completed.\"\u001b[0m\u001b[0;34m)\u001b[0m\u001b[0;34m\u001b[0m\u001b[0;34m\u001b[0m\u001b[0m\n\u001b[0;32m---> 47\u001b[0;31m \u001b[0mplot_loss\u001b[0m\u001b[0;34m(\u001b[0m\u001b[0mlr_to_test\u001b[0m\u001b[0;34m,\u001b[0m \u001b[0mdecoder_loss_result\u001b[0m\u001b[0;34m,\u001b[0m \u001b[0mfull_loss_result\u001b[0m\u001b[0;34m)\u001b[0m\u001b[0;34m\u001b[0m\u001b[0;34m\u001b[0m\u001b[0m\n\u001b[0m",
            "\u001b[0;31mNameError\u001b[0m: name 'plot_loss' is not defined"
          ]
        }
      ]
    },
    {
      "cell_type": "code",
      "source": [
        "import matplotlib.pyplot as plt\n",
        "\n",
        "def plot_loss(values_to_test,decoder_loss_result,full_loss_result, label=\"n_hidden\"):\n",
        "# Plot decoder loss\n",
        "  plt.figure(figsize=(12, 6))\n",
        "  for i, value_tested in enumerate(values_to_test):\n",
        "      plt.plot(range(1, len(decoder_loss_result[0]) + 1), decoder_loss_result[i], label=f'{label}={value_tested}')\n",
        "\n",
        "  plt.title('Decoder Training Loss')\n",
        "  plt.xlabel('Epoch')\n",
        "  plt.yscale('log')\n",
        "  plt.ylabel('Loss')\n",
        "  plt.legend()\n",
        "  plt.show()\n",
        "\n",
        "  # Plot full model loss\n",
        "  plt.figure(figsize=(12, 6))\n",
        "  for i, value_tested in enumerate(values_to_test):\n",
        "      plt.plot(range(1, len(full_loss_result[0]) + 1), full_loss_result[i], label=f'Full Model {label}={value_tested}')\n",
        "\n",
        "  plt.title('Full Model Training Loss')\n",
        "  plt.xlabel('Epoch')\n",
        "  plt.yscale('log')\n",
        "  plt.ylabel('Loss')\n",
        "  plt.legend()\n",
        "  plt.show()\n",
        "\n"
      ],
      "metadata": {
        "id": "0Qm36IiHOOCH"
      },
      "execution_count": null,
      "outputs": []
    },
    {
      "cell_type": "code",
      "source": [
        "#Code to investigate number of neurons in hidden layer\n",
        "decoder_loss_result = []\n",
        "full_loss_result = []\n",
        "DECODER_EPOCHS = 20\n",
        "N_EPOCHS = 20\n",
        "n_hidden_to_test = [4,100]\n",
        "for n_hidden in n_hidden_to_test:\n",
        "  model = get_new_model(n_hidden = n_hidden)\n",
        "  model.to(DEVICE)\n",
        "  optimizer_decoder = optim.AdamW(model.parameters(), lr=1e-4)\n",
        "  # scheduler_decoder = optim.lr_scheduler.OneCycleLR(optimizer_decoder, 1e-2, total_steps=DECODER_EPOCHS)\n",
        "  scheduler_decoder = optim.lr_scheduler.CyclicLR(optimizer_decoder, base_lr=1e-4, max_lr=1e-1, cycle_momentum=False, step_size_up=DECODER_EPOCHS/6)\n",
        "  optimizer_full = optim.AdamW(model.parameters(), lr=1e-4)\n",
        "  scheduler_full = optim.lr_scheduler.CyclicLR(optimizer_decoder, base_lr=1e-2, max_lr=1e-1, cycle_momentum=False, step_size_up=N_EPOCHS/6)\n",
        "  decoder_loss_history, decoder_val_loss_history, decoder_test_accuracy_history, decoder_val_accuracy_history = train_model(\n",
        "    n_epochs=DECODER_EPOCHS,\n",
        "    optimizer=optimizer_decoder,\n",
        "    scheduler=scheduler_decoder,\n",
        "    dataloader=train_loader,\n",
        "    val_loader=validation_loader,\n",
        "    model=model,\n",
        "    loss_fn=loss_fn\n",
        "  )\n",
        "  decoder_loss_result.append(decoder_loss_history)\n",
        "\n",
        "\n",
        "\n",
        "  # Unfreeze model layers for full model training\n",
        "  for param in model.parameters():\n",
        "    param.requires_grad = True\n",
        "\n",
        "\n",
        "\n",
        "  # Now train the full model\n",
        "  print(\"Starting full model training...\")\n",
        "  full_loss_history, full_val_loss_history, full_test_accuracy_history, full_val_accuracy_history = train_model(\n",
        "      n_epochs=N_EPOCHS,\n",
        "      optimizer=optimizer_full,\n",
        "      scheduler=scheduler_full,\n",
        "      dataloader=train_loader,  # Assuming train_loader_finetuning is the same as train_loader\n",
        "      val_loader=validation_loader,\n",
        "      model=model,\n",
        "      loss_fn=loss_fn\n",
        "  )\n",
        "  full_loss_result.append(full_loss_history)\n",
        "  print(\"Full model training completed.\")\n",
        "\n"
      ],
      "metadata": {
        "id": "C9oLm-GvUqTz"
      },
      "execution_count": null,
      "outputs": []
    },
    {
      "cell_type": "code",
      "source": [
        "plot_loss(n_hidden_to_test, decoder_loss_result, full_loss_result)\n"
      ],
      "metadata": {
        "id": "qX1Ajlf8zHwa"
      },
      "execution_count": null,
      "outputs": []
    },
    {
      "cell_type": "code",
      "source": [
        "def get_n_best_and_worst(model, dataloader, n, device):\n",
        "    best_losses = []\n",
        "    model.eval()\n",
        "    best_idx = []\n",
        "    worst_losses = []\n",
        "    worst_idx = []\n",
        "    loss_fn =loss_fn = nn.MSELoss(reduction='none')\n",
        "    for X_batch, y_batch,_ in dataloader:\n",
        "        X_batch = X_batch.permute(0, 3, 1, 2).to(device)  # Needs to have shape [batch_size, channels, height, width]\n",
        "        y_batch = y_batch.to(device)\n",
        "        y_pred = model(X_batch)\n",
        "        losses = loss_fn(y_pred, y_batch)  # Calculate loss for each item in the batch\n",
        "        for i, loss_val in enumerate(losses):\n",
        "            # print(loss_val)\n",
        "            loss_val = loss_val.sum()  # Convert to Python scalar¨\n",
        "            # Update best losses\n",
        "            if len(best_losses) < n:\n",
        "                best_losses.append(loss_val)\n",
        "                best_idx.append(i)\n",
        "            elif loss_val < max(best_losses):\n",
        "                max_idx = best_losses.index(max(best_losses))\n",
        "                best_losses[max_idx] = loss_val\n",
        "                best_idx[max_idx] = i\n",
        "\n",
        "            # Update worst losses\n",
        "            if len(worst_losses) < n:\n",
        "                worst_losses.append(loss_val)\n",
        "                worst_idx.append(i)\n",
        "            elif loss_val > min(worst_losses):\n",
        "                min_idx = worst_losses.index(min(worst_losses))\n",
        "                worst_losses[min_idx] = loss_val\n",
        "                worst_idx[min_idx] = i\n",
        "\n",
        "    # Code for plotting the best and worst predictions\n",
        "    # ...\n",
        "\n",
        "    return best_losses, best_idx, worst_losses, worst_idx\n",
        "\n",
        "def plot_list_of_idx(idxs, dataloader):\n",
        "  for idx in idxs:\n",
        "    img, true_label = dataloader[idx]\n",
        "    pred = model(img)\n",
        "    true_label_scaled_up =\n",
        "    plot_img_and_boundingbox(image, pred)\n",
        "    plot_img_and_boundingbox(image, true_label)\n",
        "  dataloader[]\n",
        "\n",
        "best_losses, best_idx, worst_losses, worst_idx = get_n_best_and_worst(model, train_loader, 5,'cuda')\n",
        "print(best_losses)\n",
        "\n"
      ],
      "metadata": {
        "id": "6S8OLdbRttCk"
      },
      "execution_count": null,
      "outputs": []
    },
    {
      "cell_type": "code",
      "source": [
        "initial_lr = 0.00001\n",
        "lr_epochs = 100\n",
        "optimizer = optim.SGD(model.parameters(), lr=initial_lr)\n",
        "\n",
        "\n",
        "lr_hist = []\n",
        "train_loss_history = []\n",
        "\n",
        "def train_model(n_epochs):\n",
        "  i = 0\n",
        "  lr = initial_lr\n",
        "  for epoch in tqdm(range(n_epochs)):\n",
        "    # print(\"epoch:\", i)\n",
        "    for X_batch, y_batch, img_name in train_loader:\n",
        "      agg_loss = 0\n",
        "      X_batch = X_batch.permute(0,3,1,2).to(device) # Needs to have shape [batch_size, channels, height, width]\n",
        "      y_batch = y_batch.to(device)\n",
        "      y_pred = model(X_batch)\n",
        "      loss = loss_fn(y_pred,y_batch)\n",
        "      optimizer.zero_grad()\n",
        "      loss.backward()\n",
        "      optimizer.step()\n",
        "      agg_loss += loss.item()\n",
        "      train_loss_history.append(agg_loss)\n",
        "\n",
        "      lr_hist.append(lr)\n",
        "\n",
        "      lr = 1.1*lr\n",
        "      for g in optimizer.param_groups:\n",
        "        g['lr'] = lr\n",
        "      if lr >= 0.0005:\n",
        "        break\n",
        "\n",
        "train_model(3)\n",
        "\n",
        "\n"
      ],
      "metadata": {
        "id": "lD97FfcQlN5t"
      },
      "execution_count": null,
      "outputs": []
    },
    {
      "cell_type": "code",
      "source": [
        "#Code to investigate number of neurons in hidden layer\n",
        "decoder_loss_result = []\n",
        "full_loss_result = []\n",
        "loss_hist = []\n",
        "acc_hist = []\n",
        "DECODER_EPOCHS = 10\n",
        "N_EPOCHS_CYCLIC = 10\n",
        "N_EPOCHS_LINEAR = 10\n",
        "\n",
        "n_hidden_to_test = [100]\n",
        "for n_hidden in n_hidden_to_test:\n",
        "  model = get_new_model(n_hidden = n_hidden)\n",
        "  model.to(DEVICE)\n",
        "  # scheduler_decoder = optim.lr_scheduler.OneCycleLR(optimizer_decoder, 1e-2, total_steps=DECODER_EPOCHS)\n",
        "  optimizer_decoder = optim.AdamW(model.parameters(), lr=1e-4)\n",
        "  scheduler_decoder = optim.lr_scheduler.CyclicLR(optimizer_decoder, base_lr=1e-4, max_lr=1e-1, cycle_momentum=False, step_size_up=DECODER_EPOCHS/6, verbose=True)\n",
        "  decoder_loss_history, decoder_val_loss_history, decoder_test_accuracy_history, decoder_val_accuracy_history = train_model(\n",
        "    n_epochs=DECODER_EPOCHS,\n",
        "    optimizer=optimizer_decoder,\n",
        "    scheduler=scheduler_decoder,\n",
        "    dataloader=train_loader,\n",
        "    val_loader=validation_loader,\n",
        "    model=model,\n",
        "    loss_fn=loss_fn\n",
        "  )\n",
        "  decoder_loss_result.append(decoder_loss_history)\n",
        "  loss_hist.append(decoder_loss_history)\n",
        "  acc_hist.append(decoder_test_accuracy_history)\n",
        "\n",
        "\n",
        "  # Unfreeze model layers for full model training\n",
        "  for param in model.parameters():\n",
        "    param.requires_grad = True\n",
        "\n",
        "  # Now train the full cyclic\n",
        "  optimizer_full = optim.AdamW(model.parameters(), lr=1e-4)\n",
        "  scheduler_full = optim.lr_scheduler.CyclicLR(optimizer_decoder, base_lr=1e-4, max_lr=1e-2, cycle_momentum=False, step_size_up=N_EPOCHS/6,verbose=True)\n",
        "  print(\"Starting full model cyclic training...\")\n",
        "  full_loss_history, full_val_loss_history, full_test_accuracy_history, full_val_accuracy_history = train_model(\n",
        "      n_epochs=N_EPOCHS_CYCLIC,\n",
        "      optimizer=optimizer_full,\n",
        "      scheduler=scheduler_full,\n",
        "      dataloader=train_loader,  # Assuming train_loader_finetuning is the same as train_loader\n",
        "      val_loader=validation_loader,\n",
        "      model=model,\n",
        "      loss_fn=loss_fn\n",
        "  )\n",
        "  loss_hist.append(full_loss_history)\n",
        "  acc_hist.append(full_test_accuracy_history)\n",
        "\n",
        "  print(\"Starting linear training\")\n",
        "  optimizer_linear = optim.AdamW(model.parameters(), lr=1e-2)\n",
        "  scheduler_linear = optim.lr_scheduler.ReduceLROnPlateau(optimizer_linear, patience=3,verbose=True)\n",
        "  full_loss_history, full_val_loss_history, full_test_accuracy_history, full_val_accuracy_history = train_model(\n",
        "      n_epochs=N_EPOCHS_LINEAR,\n",
        "      optimizer=optimizer_full,\n",
        "      scheduler=scheduler_linear,\n",
        "      dataloader=train_loader,  # Assuming train_loader_finetuning is the same as train_loader\n",
        "      val_loader=validation_loader,\n",
        "      model=model,\n",
        "      loss_fn=loss_fn\n",
        "  )\n",
        "  loss_hist.append(full_loss_history)\n",
        "  acc_hist.append(full_test_accuracy_history)"
      ],
      "metadata": {
        "colab": {
          "base_uri": "https://localhost:8080/",
          "height": 1000
        },
        "id": "EM7m2y7IOnib",
        "outputId": "ad976035-8f31-4d02-9f30-ddcc6d6142e2"
      },
      "execution_count": 19,
      "outputs": [
        {
          "output_type": "stream",
          "name": "stderr",
          "text": [
            "Using cache found in /root/.cache/torch/hub/pytorch_vision_v0.10.0\n"
          ]
        },
        {
          "output_type": "stream",
          "name": "stdout",
          "text": [
            "Total number of layers is 174\n",
            "Number of pretrained base layers is 170\n",
            "Adjusting learning rate of group 0 to 1.0000e-04.\n"
          ]
        },
        {
          "output_type": "stream",
          "name": "stderr",
          "text": [
            "\r  0%|          | 0/10 [00:00<?, ?it/s]"
          ]
        },
        {
          "output_type": "stream",
          "name": "stdout",
          "text": [
            "Adjusting learning rate of group 0 to 6.0040e-02.\n"
          ]
        },
        {
          "output_type": "stream",
          "name": "stderr",
          "text": [
            " 10%|█         | 1/10 [00:02<00:25,  2.78s/it]"
          ]
        },
        {
          "output_type": "stream",
          "name": "stdout",
          "text": [
            "Epoch 1, In-sample Loss: 0.1946, In-sample Accuracy: 0.0000\n",
            "Epoch 1, Out-sample Loss: 0.1848, Out-sample Accuracy: 0.0000\n"
          ]
        },
        {
          "output_type": "stream",
          "name": "stderr",
          "text": [
            "\r 20%|██        | 2/10 [00:03<00:12,  1.54s/it]"
          ]
        },
        {
          "output_type": "stream",
          "name": "stdout",
          "text": [
            "Adjusting learning rate of group 0 to 8.0020e-02.\n"
          ]
        },
        {
          "output_type": "stream",
          "name": "stderr",
          "text": [
            "\r 30%|███       | 3/10 [00:04<00:08,  1.15s/it]"
          ]
        },
        {
          "output_type": "stream",
          "name": "stdout",
          "text": [
            "Adjusting learning rate of group 0 to 2.0080e-02.\n"
          ]
        },
        {
          "output_type": "stream",
          "name": "stderr",
          "text": [
            "\r 40%|████      | 4/10 [00:04<00:05,  1.05it/s]"
          ]
        },
        {
          "output_type": "stream",
          "name": "stdout",
          "text": [
            "Adjusting learning rate of group 0 to 4.0060e-02.\n"
          ]
        },
        {
          "output_type": "stream",
          "name": "stderr",
          "text": [
            "\r 50%|█████     | 5/10 [00:05<00:04,  1.16it/s]"
          ]
        },
        {
          "output_type": "stream",
          "name": "stdout",
          "text": [
            "Adjusting learning rate of group 0 to 1.0000e-01.\n",
            "Adjusting learning rate of group 0 to 4.0060e-02.\n"
          ]
        },
        {
          "output_type": "stream",
          "name": "stderr",
          "text": [
            " 60%|██████    | 6/10 [00:07<00:05,  1.27s/it]"
          ]
        },
        {
          "output_type": "stream",
          "name": "stdout",
          "text": [
            "Epoch 6, In-sample Loss: 0.4230, In-sample Accuracy: 0.0000\n",
            "Epoch 6, Out-sample Loss: 0.4249, Out-sample Accuracy: 0.0000\n"
          ]
        },
        {
          "output_type": "stream",
          "name": "stderr",
          "text": [
            "\r 70%|███████   | 7/10 [00:08<00:03,  1.08s/it]"
          ]
        },
        {
          "output_type": "stream",
          "name": "stdout",
          "text": [
            "Adjusting learning rate of group 0 to 2.0080e-02.\n"
          ]
        },
        {
          "output_type": "stream",
          "name": "stderr",
          "text": [
            "\r 80%|████████  | 8/10 [00:08<00:01,  1.05it/s]"
          ]
        },
        {
          "output_type": "stream",
          "name": "stdout",
          "text": [
            "Adjusting learning rate of group 0 to 8.0020e-02.\n"
          ]
        },
        {
          "output_type": "stream",
          "name": "stderr",
          "text": [
            "\r 90%|█████████ | 9/10 [00:09<00:00,  1.03it/s]"
          ]
        },
        {
          "output_type": "stream",
          "name": "stdout",
          "text": [
            "Adjusting learning rate of group 0 to 6.0040e-02.\n"
          ]
        },
        {
          "output_type": "stream",
          "name": "stderr",
          "text": [
            "100%|██████████| 10/10 [00:11<00:00,  1.16s/it]\n"
          ]
        },
        {
          "output_type": "stream",
          "name": "stdout",
          "text": [
            "Adjusting learning rate of group 0 to 1.0000e-04.\n",
            "Adjusting learning rate of group 0 to 1.0000e-04.\n",
            "Starting full model cyclic training...\n"
          ]
        },
        {
          "output_type": "stream",
          "name": "stderr",
          "text": [
            "\r  0%|          | 0/10 [00:00<?, ?it/s]"
          ]
        },
        {
          "output_type": "stream",
          "name": "stdout",
          "text": [
            "Adjusting learning rate of group 0 to 8.4250e-04.\n"
          ]
        },
        {
          "output_type": "stream",
          "name": "stderr",
          "text": [
            "/usr/local/lib/python3.10/dist-packages/torch/optim/lr_scheduler.py:136: UserWarning: Detected call of `lr_scheduler.step()` before `optimizer.step()`. In PyTorch 1.1.0 and later, you should call them in the opposite order: `optimizer.step()` before `lr_scheduler.step()`.  Failure to do this will result in PyTorch skipping the first value of the learning rate schedule. See more details at https://pytorch.org/docs/stable/optim.html#how-to-adjust-learning-rate\n",
            "  warnings.warn(\"Detected call of `lr_scheduler.step()` before `optimizer.step()`. \"\n",
            " 10%|█         | 1/10 [00:03<00:33,  3.72s/it]"
          ]
        },
        {
          "output_type": "stream",
          "name": "stdout",
          "text": [
            "Epoch 1, In-sample Loss: 0.2235, In-sample Accuracy: 0.0000\n",
            "Epoch 1, Out-sample Loss: 0.2256, Out-sample Accuracy: 0.0000\n"
          ]
        },
        {
          "output_type": "stream",
          "name": "stderr",
          "text": [
            "\r 20%|██        | 2/10 [00:04<00:17,  2.22s/it]"
          ]
        },
        {
          "output_type": "stream",
          "name": "stdout",
          "text": [
            "Adjusting learning rate of group 0 to 1.5850e-03.\n"
          ]
        },
        {
          "output_type": "stream",
          "name": "stderr",
          "text": [
            "\r 30%|███       | 3/10 [00:05<00:11,  1.60s/it]"
          ]
        },
        {
          "output_type": "stream",
          "name": "stdout",
          "text": [
            "Adjusting learning rate of group 0 to 2.3275e-03.\n"
          ]
        },
        {
          "output_type": "stream",
          "name": "stderr",
          "text": [
            "\r 40%|████      | 4/10 [00:06<00:07,  1.30s/it]"
          ]
        },
        {
          "output_type": "stream",
          "name": "stdout",
          "text": [
            "Adjusting learning rate of group 0 to 3.0700e-03.\n"
          ]
        },
        {
          "output_type": "stream",
          "name": "stderr",
          "text": [
            "\r 50%|█████     | 5/10 [00:07<00:05,  1.14s/it]"
          ]
        },
        {
          "output_type": "stream",
          "name": "stdout",
          "text": [
            "Adjusting learning rate of group 0 to 3.8125e-03.\n",
            "Adjusting learning rate of group 0 to 4.5550e-03.\n"
          ]
        },
        {
          "output_type": "stream",
          "name": "stderr",
          "text": [
            " 60%|██████    | 6/10 [00:09<00:05,  1.47s/it]"
          ]
        },
        {
          "output_type": "stream",
          "name": "stdout",
          "text": [
            "Epoch 6, In-sample Loss: 0.2190, In-sample Accuracy: 0.0000\n",
            "Epoch 6, Out-sample Loss: 0.2227, Out-sample Accuracy: 0.0000\n"
          ]
        },
        {
          "output_type": "stream",
          "name": "stderr",
          "text": [
            "\r 70%|███████   | 7/10 [00:10<00:03,  1.31s/it]"
          ]
        },
        {
          "output_type": "stream",
          "name": "stdout",
          "text": [
            "Adjusting learning rate of group 0 to 5.2975e-03.\n"
          ]
        },
        {
          "output_type": "stream",
          "name": "stderr",
          "text": [
            "\r 80%|████████  | 8/10 [00:11<00:02,  1.19s/it]"
          ]
        },
        {
          "output_type": "stream",
          "name": "stdout",
          "text": [
            "Adjusting learning rate of group 0 to 6.0400e-03.\n"
          ]
        },
        {
          "output_type": "stream",
          "name": "stderr",
          "text": [
            "\r 90%|█████████ | 9/10 [00:12<00:01,  1.09s/it]"
          ]
        },
        {
          "output_type": "stream",
          "name": "stdout",
          "text": [
            "Adjusting learning rate of group 0 to 6.7825e-03.\n"
          ]
        },
        {
          "output_type": "stream",
          "name": "stderr",
          "text": [
            "100%|██████████| 10/10 [00:13<00:00,  1.32s/it]\n"
          ]
        },
        {
          "output_type": "stream",
          "name": "stdout",
          "text": [
            "Adjusting learning rate of group 0 to 7.5250e-03.\n",
            "Starting linear training\n"
          ]
        },
        {
          "output_type": "stream",
          "name": "stderr",
          "text": [
            "  0%|          | 0/10 [00:00<?, ?it/s]\n"
          ]
        },
        {
          "output_type": "error",
          "ename": "TypeError",
          "evalue": "ignored",
          "traceback": [
            "\u001b[0;31m---------------------------------------------------------------------------\u001b[0m",
            "\u001b[0;31mTypeError\u001b[0m                                 Traceback (most recent call last)",
            "\u001b[0;32m<ipython-input-19-5e362d2a4d4a>\u001b[0m in \u001b[0;36m<cell line: 11>\u001b[0;34m()\u001b[0m\n\u001b[1;32m     52\u001b[0m   \u001b[0moptimizer_linear\u001b[0m \u001b[0;34m=\u001b[0m \u001b[0moptim\u001b[0m\u001b[0;34m.\u001b[0m\u001b[0mAdamW\u001b[0m\u001b[0;34m(\u001b[0m\u001b[0mmodel\u001b[0m\u001b[0;34m.\u001b[0m\u001b[0mparameters\u001b[0m\u001b[0;34m(\u001b[0m\u001b[0;34m)\u001b[0m\u001b[0;34m,\u001b[0m \u001b[0mlr\u001b[0m\u001b[0;34m=\u001b[0m\u001b[0;36m1e-2\u001b[0m\u001b[0;34m)\u001b[0m\u001b[0;34m\u001b[0m\u001b[0;34m\u001b[0m\u001b[0m\n\u001b[1;32m     53\u001b[0m   \u001b[0mscheduler_linear\u001b[0m \u001b[0;34m=\u001b[0m \u001b[0moptim\u001b[0m\u001b[0;34m.\u001b[0m\u001b[0mlr_scheduler\u001b[0m\u001b[0;34m.\u001b[0m\u001b[0mReduceLROnPlateau\u001b[0m\u001b[0;34m(\u001b[0m\u001b[0moptimizer_linear\u001b[0m\u001b[0;34m,\u001b[0m \u001b[0mpatience\u001b[0m\u001b[0;34m=\u001b[0m\u001b[0;36m3\u001b[0m\u001b[0;34m,\u001b[0m\u001b[0mverbose\u001b[0m\u001b[0;34m=\u001b[0m\u001b[0;32mTrue\u001b[0m\u001b[0;34m)\u001b[0m\u001b[0;34m\u001b[0m\u001b[0;34m\u001b[0m\u001b[0m\n\u001b[0;32m---> 54\u001b[0;31m   full_loss_history, full_val_loss_history, full_test_accuracy_history, full_val_accuracy_history = train_model(\n\u001b[0m\u001b[1;32m     55\u001b[0m       \u001b[0mn_epochs\u001b[0m\u001b[0;34m=\u001b[0m\u001b[0mN_EPOCHS_LINEAR\u001b[0m\u001b[0;34m,\u001b[0m\u001b[0;34m\u001b[0m\u001b[0;34m\u001b[0m\u001b[0m\n\u001b[1;32m     56\u001b[0m       \u001b[0moptimizer\u001b[0m\u001b[0;34m=\u001b[0m\u001b[0moptimizer_full\u001b[0m\u001b[0;34m,\u001b[0m\u001b[0;34m\u001b[0m\u001b[0;34m\u001b[0m\u001b[0m\n",
            "\u001b[0;32m<ipython-input-12-e561bcada562>\u001b[0m in \u001b[0;36mtrain_model\u001b[0;34m(n_epochs, optimizer, scheduler, dataloader, val_loader, model, loss_fn)\u001b[0m\n\u001b[1;32m     64\u001b[0m         \u001b[0;31m# print(f\"epoch: {epoch}\")\u001b[0m\u001b[0;34m\u001b[0m\u001b[0;34m\u001b[0m\u001b[0m\n\u001b[1;32m     65\u001b[0m         \u001b[0mtrain_epoch\u001b[0m\u001b[0;34m(\u001b[0m\u001b[0mdataloader\u001b[0m\u001b[0;34m,\u001b[0m \u001b[0moptimizer\u001b[0m\u001b[0;34m,\u001b[0m \u001b[0mmodel\u001b[0m\u001b[0;34m,\u001b[0m \u001b[0mloss_fn\u001b[0m\u001b[0;34m,\u001b[0m \u001b[0mscaler\u001b[0m\u001b[0;34m)\u001b[0m\u001b[0;34m\u001b[0m\u001b[0;34m\u001b[0m\u001b[0m\n\u001b[0;32m---> 66\u001b[0;31m         \u001b[0mscheduler\u001b[0m\u001b[0;34m.\u001b[0m\u001b[0mstep\u001b[0m\u001b[0;34m(\u001b[0m\u001b[0;34m)\u001b[0m\u001b[0;34m\u001b[0m\u001b[0;34m\u001b[0m\u001b[0m\n\u001b[0m\u001b[1;32m     67\u001b[0m \u001b[0;34m\u001b[0m\u001b[0m\n\u001b[1;32m     68\u001b[0m         \u001b[0;32mif\u001b[0m \u001b[0mepoch\u001b[0m \u001b[0;34m%\u001b[0m \u001b[0mPRINT_EVERY\u001b[0m \u001b[0;34m==\u001b[0m \u001b[0;36m0\u001b[0m\u001b[0;34m:\u001b[0m\u001b[0;34m\u001b[0m\u001b[0;34m\u001b[0m\u001b[0m\n",
            "\u001b[0;31mTypeError\u001b[0m: ReduceLROnPlateau.step() missing 1 required positional argument: 'metrics'"
          ]
        }
      ]
    },
    {
      "cell_type": "code",
      "source": [
        "plt.figure(figsize=(10, 5))\n",
        "plt.xscale('log')  # Set the y-axis to a logarithmic scale\n",
        "\n",
        "plt.plot(lr_hist,train_loss_history, label='Train Loss')\n",
        "plt.xlabel('LR')\n",
        "plt.ylabel('Loss')\n",
        "plt.grid(True)\n",
        "plt.legend()  # Add a legend to differentiate between train and validation loss\n",
        "plt.show()\n",
        "print(train_loss_history)\n",
        "print(lr_hist)"
      ],
      "metadata": {
        "id": "C64tHl3KjUQW"
      },
      "execution_count": null,
      "outputs": []
    },
    {
      "cell_type": "code",
      "execution_count": null,
      "metadata": {
        "id": "zK6lBjlVEUyX"
      },
      "outputs": [],
      "source": [
        "plt.figure(figsize=(10, 5))\n",
        "#plt.yscale('log')  # Set the y-axis to a logarithmic scale\n",
        "plt.plot(test_loss_history, label='Train Loss')\n",
        "plt.plot(val_loss_history, label='Validation Loss')\n",
        "plt.title('Loss Curve')\n",
        "plt.xlabel('Epoch')\n",
        "plt.ylabel('Loss')\n",
        "plt.grid(True)\n",
        "plt.legend()  # Add a legend to differentiate between train and validation loss\n",
        "plt.show()\n",
        "print(val_accuracy_history)"
      ]
    },
    {
      "cell_type": "code",
      "execution_count": null,
      "metadata": {
        "id": "H8s5ea1LC82K"
      },
      "outputs": [],
      "source": [
        "#print a trainset with predicted label\n",
        "# train_loader = DataLoader(data_loader, batch_size=1, shuffle=True, num_workers=1)\n",
        "\n",
        "train_iter = iter(train_loader)\n",
        "\n",
        "batch = next(train_iter)\n",
        "\n",
        "X_batch, y_batch, _ = batch\n",
        "\n",
        "image = batch[0][0]\n",
        "labels = batch[1][0]\n",
        "\n",
        "# Get predicted labels\n",
        "X_batch = X_batch.permute(0,3,1,2).to(device)\n",
        "pred = model(X_batch)\n",
        "print(image.shape)\n",
        "plot_img_and_boundingbox(image, labels)\n",
        "plot_img_and_boundingbox(image, pred[0])"
      ]
    },
    {
      "cell_type": "code",
      "execution_count": null,
      "metadata": {
        "id": "RyFhpzW1OwKe"
      },
      "outputs": [],
      "source": [
        "# Print a validation image with its predicted labels\n",
        "\n",
        "validationloader = DataLoader(test_loader, batch_size=1, shuffle=True, num_workers=1)\n",
        "\n",
        "validationloader_iter = iter(validationloader)\n",
        "\n",
        "batch = next(validationloader_iter)\n",
        "\n",
        "X_batch, y_batch, _ = batch\n",
        "print(X_batch.shape)\n",
        "print(y_batch.shape)\n",
        "\n",
        "image = batch[0][0]\n",
        "labels = batch[1][0]\n",
        "\n",
        "# Get predicted labels\n",
        "X_batch = X_batch.permute(0,3,1,2).to(device)\n",
        "print(X_batch.shape)\n",
        "pred = model(X_batch)\n",
        "\n",
        "plot_img_and_boundingbox(image, labels)"
      ]
    },
    {
      "cell_type": "code",
      "execution_count": null,
      "metadata": {
        "id": "ytHrhFV8aX-C"
      },
      "outputs": [],
      "source": [
        "plot_img_and_boundingbox(image,pred[0])\n",
        "print(pred)\n",
        "print(calculate_true_positives_in_batch(labels.view(1,4),pred[0].view(1,4))) # Need to change view since we dont have batch"
      ]
    },
    {
      "cell_type": "code",
      "execution_count": null,
      "metadata": {
        "id": "ghHYl7RzIXDF"
      },
      "outputs": [],
      "source": [
        "\n"
      ]
    }
  ],
  "metadata": {
    "accelerator": "GPU",
    "colab": {
      "provenance": [],
      "gpuType": "T4"
    },
    "kernelspec": {
      "display_name": "Python 3",
      "name": "python3"
    },
    "language_info": {
      "codemirror_mode": {
        "name": "ipython",
        "version": 3
      },
      "file_extension": ".py",
      "mimetype": "text/x-python",
      "name": "python",
      "nbconvert_exporter": "python",
      "pygments_lexer": "ipython3",
      "version": "3.11.5"
    }
  },
  "nbformat": 4,
  "nbformat_minor": 0
}