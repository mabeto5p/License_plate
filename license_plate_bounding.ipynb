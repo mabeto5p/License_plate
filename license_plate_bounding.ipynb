{
  "cells": [
    {
      "cell_type": "markdown",
      "metadata": {
        "id": "i_BErcGkeyMQ"
      },
      "source": [
        "### Setup"
      ]
    },
    {
      "cell_type": "code",
      "execution_count": 19,
      "metadata": {
        "colab": {
          "base_uri": "https://localhost:8080/"
        },
        "id": "8L3Bt81myNxC",
        "outputId": "6e080eb8-4f89-4e05-ab35-403a61827edd"
      },
      "outputs": [
        {
          "output_type": "stream",
          "name": "stdout",
          "text": [
            "Drive already mounted at /content/gdrive; to attempt to forcibly remount, call drive.mount(\"/content/gdrive\", force_remount=True).\n"
          ]
        }
      ],
      "source": [
        "# External libraries used for various tasks in later parts of the code\n",
        "from PIL import Image\n",
        "import matplotlib.pyplot as plt\n",
        "import cv2\n",
        "import xml.etree.ElementTree as ET\n",
        "from torch.utils.data import Dataset\n",
        "from imutils import paths\n",
        "import torch\n",
        "import torch.nn as nn\n",
        "import time\n",
        "import numpy as np\n",
        "import torch.optim as optim\n",
        "from tqdm.notebook import tqdm\n",
        "import os\n",
        "\n",
        "# Check if running on Google Colab and set the data paths accordingly\n",
        "is_running_on_colab = 'COLAB_GPU' in os.environ\n",
        "if is_running_on_colab:\n",
        "    from google.colab import drive\n",
        "    drive.mount('/content/gdrive')\n",
        "    train_path = '/content/gdrive/MyDrive/license_plate/train/'\n",
        "    val_path = '/content/gdrive/MyDrive/license_plate/val/'\n",
        "    test_path = '/content/gdrive/MyDrive/license_plate/test/'\n",
        "else:\n",
        "    current_dir = os.getcwd()\n",
        "    train_path = os.path.join(current_dir, 'dataset', 'license_plate', 'train')\n",
        "    val_path = os.path.join(current_dir, 'dataset', 'license_plate', 'val')\n",
        "    test_path = os.path.join(current_dir, 'dataset', 'license_plate', 'test')\n",
        "\n",
        "# Function to check if directories exist\n",
        "def check_directories_exist(*paths):\n",
        "    for path in paths:\n",
        "        assert os.path.isdir(path), f\"The directory {path} does not exist.\"\n",
        "\n",
        "# Check the directories\n",
        "check_directories_exist(train_path, val_path, test_path)\n",
        "\n",
        "# Sets device\n",
        "device = torch.device(\"cuda\" if torch.cuda.is_available() else \"cpu\")\n",
        "\n",
        "TRAIN_PATH = [train_path]\n",
        "VAL_PATH = [val_path]\n",
        "TEST_PATH = [test_path]"
      ]
    },
    {
      "cell_type": "markdown",
      "metadata": {
        "id": "EF0Q9fyk5VVa"
      },
      "source": [
        "**Check how many images in data-split**"
      ]
    },
    {
      "cell_type": "code",
      "execution_count": 20,
      "metadata": {
        "colab": {
          "base_uri": "https://localhost:8080/"
        },
        "id": "7xRd1jsl5dCr",
        "outputId": "bbe6cca9-717e-441e-b239-c877c6a0687c"
      },
      "outputs": [
        {
          "output_type": "stream",
          "name": "stdout",
          "text": [
            "Number of files in train path: 5769\n",
            "Number of files in val path: 1001\n",
            "Number of files in test path: 5007\n"
          ]
        }
      ],
      "source": [
        "# Function to count files in a directory\n",
        "def count_files_in_directory(directory):\n",
        "    return len(os.listdir(directory))\n",
        "\n",
        "# Check the number of files in each path\n",
        "train_files = count_files_in_directory(train_path)\n",
        "val_files = count_files_in_directory(val_path)\n",
        "test_files = count_files_in_directory(test_path)\n",
        "\n",
        "# Print the results\n",
        "print(f\"Number of files in train path: {train_files}\")\n",
        "print(f\"Number of files in val path: {val_files}\")\n",
        "print(f\"Number of files in test path: {test_files}\")\n",
        "\n"
      ]
    },
    {
      "cell_type": "markdown",
      "metadata": {
        "id": "Tu9jOxiMWUqj"
      },
      "source": [
        "### DataLoader\n"
      ]
    },
    {
      "cell_type": "code",
      "execution_count": 21,
      "metadata": {
        "id": "OAtPahyIWaP3"
      },
      "outputs": [],
      "source": [
        "from torch.utils.data import Dataset\n",
        "import cv2\n",
        "from imutils import paths\n",
        "import os\n",
        "import torch\n",
        "\n",
        "class LabelFpsDataLoader(Dataset):\n",
        "    def __init__(self, img_dirs, img_size, is_transform=None, normalize_labels=False):\n",
        "        self.img_paths = [p for img_dir in img_dirs for p in paths.list_images(img_dir)]\n",
        "        self.img_size = img_size\n",
        "        self.is_transform = is_transform\n",
        "        self.normalize_labels = normalize_labels\n",
        "\n",
        "    def __len__(self):\n",
        "        return len(self.img_paths)\n",
        "\n",
        "    def __getitem__(self, index):\n",
        "        img_name = self.img_paths[index]\n",
        "        img = cv2.imread(img_name)\n",
        "        resized_image = self.transform_image(img)\n",
        "\n",
        "        file_name = os.path.splitext(os.path.basename(img_name))[0]\n",
        "        labels = self.extract_labels(file_name, img.shape)\n",
        "\n",
        "        return resized_image, labels, img_name\n",
        "\n",
        "    def transform_image(self, img):\n",
        "        resized_image = cv2.resize(img, self.img_size).astype('float32') / 255.0\n",
        "        # Normalization - Adjust mean and std if necessary\n",
        "        mean = np.array([0.485, 0.456, 0.406], dtype=resized_image.dtype)\n",
        "        std = np.array([0.229, 0.224, 0.225],dtype=resized_image.dtype)\n",
        "\n",
        "        resized_image = (resized_image - mean) / std  # Normalize\n",
        "        return resized_image\n",
        "\n",
        "    def extract_labels(self, file_name, img_shape):\n",
        "        parts = file_name.split('-')\n",
        "        points = [self.parse_point(part) for part in parts[2].split('_')]\n",
        "        ori_w, ori_h = img_shape[1], img_shape[0]\n",
        "        scale_w, scale_h = self.img_size[0] / ori_w, self.img_size[1] / ori_h\n",
        "        scaled_points = [(int(x * scale_w), int(y * scale_h)) for x, y in points]\n",
        "        if self.normalize_labels:\n",
        "          scaled_points = [(x / self.img_size[0], y / self.img_size[1]) for x, y in scaled_points]\n",
        "        flattened_labels = [coord for point in scaled_points for coord in point]\n",
        "        return torch.tensor(flattened_labels, dtype=torch.float32)\n",
        "\n",
        "    @staticmethod\n",
        "    def parse_point(point_str):\n",
        "        return tuple(int(coord) for coord in point_str.split('&'))\n"
      ]
    },
    {
      "cell_type": "markdown",
      "metadata": {
        "id": "Esow5EMye3iJ"
      },
      "source": [
        "### Helper methods"
      ]
    },
    {
      "cell_type": "code",
      "execution_count": 22,
      "metadata": {
        "id": "AJ_NSb9iP0Rj"
      },
      "outputs": [],
      "source": [
        "import numpy as np\n",
        "import cv2\n",
        "import matplotlib.pyplot as plt\n",
        "\n",
        "def plot_img_and_boundingbox(image, labels):\n",
        "    # Assuming image is a PyTorch tensor, we need to first move it to CPU if it's on GPU,\n",
        "    # then detach it from the current graph, convert to numpy, and finally transpose it\n",
        "    # from (channels, height, width) to (height, width, channels)\n",
        "    numpy_array = image.cpu().detach().numpy()\n",
        "\n",
        "    # Convert from BGR to RGB format if the image was read by OpenCV\n",
        "    rgb_image = cv2.cvtColor(numpy_array, cv2.COLOR_BGR2RGB)\n",
        "\n",
        "    # Extract numerical values from tensors and convert to integers\n",
        "    left_up = (int(labels[0]), int(labels[1]))\n",
        "    right_down = (int(labels[2]), int(labels[3]))\n",
        "\n",
        "    # Draw rectangle on the image\n",
        "    new_image = cv2.rectangle(rgb_image, left_up, right_down, (255, 0, 0), 2)\n",
        "\n",
        "    # Display the image\n",
        "    plt.imshow(new_image)\n",
        "    plt.axis('off')  # Hide the axis\n",
        "    plt.show()\n",
        "\n",
        "# Example usage:\n",
        "# img, labels, _ = dataset[0]  # Assuming this is how you get an image and labels from your dataset\n",
        "# plot_img_and_boundingbox(img, labels)\n"
      ]
    },
    {
      "cell_type": "code",
      "execution_count": 23,
      "metadata": {
        "id": "fAs1fLmwTcCy"
      },
      "outputs": [],
      "source": [
        "def save_model(model):\n",
        "    # Get the current time\n",
        "    current_time = datetime.now()\n",
        "\n",
        "    # Format the time in a 'YearMonthDay_HourMinuteSecond' format for the filename\n",
        "    timestamp = current_time.strftime('%Y%m%d_%H%M')\n",
        "    model_path = f'/content/gdrive/MyDrive/license_plate/models/model_weights_{timestamp}.pth'\n",
        "    torch.save(model.state_dict(), model_path)\n",
        "\n",
        "def load_model(path):\n",
        "    model = get_new_model()\n",
        "    model.load_state_dict(torch.load(path, map_location=torch.device('cuda' if torch.cuda.is_available() else 'cpu')))\n",
        "    return model"
      ]
    },
    {
      "cell_type": "code",
      "execution_count": 24,
      "metadata": {
        "id": "2QRQ0qnbND9t"
      },
      "outputs": [],
      "source": [
        "def bb_intersection_over_union(boxA, boxB):\n",
        "    # Compute the intersection over union on GPU\n",
        "    # Assumes boxA and boxB are tensors\n",
        "    xA = torch.max(boxA[..., 0], boxB[..., 0])\n",
        "    yA = torch.max(boxA[..., 1], boxB[..., 1])\n",
        "    xB = torch.min(boxA[..., 2], boxB[..., 2])\n",
        "    yB = torch.min(boxA[..., 3], boxB[..., 3])\n",
        "\n",
        "    interArea = torch.clamp(xB - xA, min=0) * torch.clamp(yB - yA, min=0)\n",
        "\n",
        "    boxAArea = (boxA[..., 2] - boxA[..., 0]) * (boxA[..., 3] - boxA[..., 1])\n",
        "    boxBArea = (boxB[..., 2] - boxB[..., 0]) * (boxB[..., 3] - boxB[..., 1])\n",
        "\n",
        "    iou = interArea / (boxAArea + boxBArea - interArea)\n",
        "    return iou\n",
        "\n",
        "def calculate_true_positives_in_batch(y_pred, y_batch, threshold=0.7):\n",
        "    # Calculate IoU for the batch\n",
        "    iou = bb_intersection_over_union(y_pred, y_batch)\n",
        "\n",
        "    # Count true positives in the batch\n",
        "    true_positives = torch.sum(iou > threshold).item()\n",
        "    return true_positives\n",
        "\n",
        "def calculate_loss_and_accuracy(loader, model, loss_fn, device):\n",
        "    model.eval()  # Set model to evaluation mode\n",
        "    total_loss = 0\n",
        "    total_true_positives = 0\n",
        "    total_samples = 0\n",
        "\n",
        "    with torch.no_grad():  # Disable gradient computation\n",
        "        for X_batch, y_batch, _ in loader:\n",
        "            X_batch = X_batch.permute(0,3,1,2).to(device)\n",
        "            y_batch = y_batch.to(device)\n",
        "            y_pred = model(X_batch)\n",
        "\n",
        "            total_true_positives += calculate_true_positives_in_batch(y_pred, y_batch)\n",
        "\n",
        "            loss = loss_fn(y_pred, y_batch)\n",
        "            total_loss += loss.item() * X_batch.size(0)  # Accumulate scaled loss\n",
        "            total_samples += X_batch.size(0)  # Accumulate number of samples\n",
        "\n",
        "    sample_loss = total_loss / total_samples  # Calculate average loss\n",
        "    accuracy = total_true_positives / total_samples  # Calculate accuracy\n",
        "    return sample_loss, accuracy"
      ]
    },
    {
      "cell_type": "code",
      "execution_count": 25,
      "metadata": {
        "id": "15nRrjd3_KGM"
      },
      "outputs": [],
      "source": [
        "def check_requires_grad(model):\n",
        "  for name, param in model.named_parameters():\n",
        "    if name.startswith('classifier'):\n",
        "        print(f'Layer {name} - requires_grad: {param.requires_grad}')\n",
        "    if name.startswith('features'):\n",
        "        print(f'Layer {name} - requires_grad: {param.requires_grad}')\n"
      ]
    },
    {
      "cell_type": "code",
      "execution_count": 26,
      "metadata": {
        "id": "z5LCw00wcK8-"
      },
      "outputs": [],
      "source": [
        "import matplotlib.pylab as plt\n",
        "\n",
        "def plot_history(history):\n",
        "    eval_epochs = range(1, len(history['in_loss']) + 1)\n",
        "\n",
        "    # Plot for loss\n",
        "    plt.figure(figsize=(12, 6))\n",
        "\n",
        "    plt.subplot(1, 2, 1)\n",
        "    plt.plot(eval_epochs, history['in_loss'], 'b', label='In Loss')\n",
        "    plt.plot(eval_epochs, history['out_loss'], 'r', label='Out Loss')\n",
        "    plt.title('Loss')\n",
        "    plt.xlabel('Epochs with evaluation')\n",
        "    plt.ylabel('Loss')\n",
        "    plt.legend()\n",
        "\n",
        "    # Plot for accuracy\n",
        "    plt.subplot(1, 2, 2)\n",
        "    plt.plot(eval_epochs, history['in_acc'], 'b', label='In Acc')\n",
        "    plt.plot(eval_epochs, history['out_acc'], 'r', label='Out Acc')\n",
        "    plt.title('Accuracy')\n",
        "    plt.xlabel('Epochs with evaluation')\n",
        "    plt.ylabel('Accuracy')\n",
        "    plt.legend()\n",
        "\n",
        "    plt.tight_layout()  # Adjust layout to prevent overlapping\n",
        "\n",
        "    plt.show()\n"
      ]
    },
    {
      "cell_type": "markdown",
      "metadata": {
        "id": "TQKOH_89VoBF"
      },
      "source": [
        "### Model\n"
      ]
    },
    {
      "cell_type": "code",
      "execution_count": 27,
      "metadata": {
        "colab": {
          "base_uri": "https://localhost:8080/"
        },
        "id": "Hw7I59fYVv9O",
        "outputId": "905f72b1-5f57-43ce-db98-8617cf6095ca"
      },
      "outputs": [
        {
          "output_type": "stream",
          "name": "stderr",
          "text": [
            "Using cache found in /root/.cache/torch/hub/pytorch_vision_v0.10.0\n"
          ]
        }
      ],
      "source": [
        "import torch\n",
        "import torch.nn as nn\n",
        "\n",
        "# Function to create the modified classifier\n",
        "def create_custom_classifier(input_features, hidden_units, output_features):\n",
        "    classifier = nn.Sequential(\n",
        "        nn.Linear(input_features, hidden_units),\n",
        "        nn.ReLU(),\n",
        "        nn.Dropout(0.0),\n",
        "        #nn.BatchNorm1d(hidden_units),\n",
        "        nn.Linear(hidden_units, output_features),\n",
        "    )\n",
        "    return classifier\n",
        "\n",
        "# Load a pre-trained MobileNetV3 model\n",
        "model = torch.hub.load('pytorch/vision:v0.10.0', 'mobilenet_v3_large', pretrained=True)\n",
        "\n",
        "def get_new_model():\n",
        "    model = torch.hub.load('pytorch/vision:v0.10.0', 'mobilenet_v3_large', pretrained=True)\n",
        "    model.classifier = create_custom_classifier(input_features=960, hidden_units=100, output_features=4)\n",
        "\n",
        "    # Set the model to evaluation mode if not training\n",
        "    model.eval()\n",
        "\n",
        "    # Number of layers you want to fine-tune\n",
        "    layers_of_classifier = len(model.classifier)\n",
        "\n",
        "    # Get all the parameters from the model as a list\n",
        "    parameters = list(model.parameters())\n",
        "\n",
        "    # The total number of layers is the length of the parameters list\n",
        "    number_of_layers = len(parameters)\n",
        "\n",
        "    # Calculate the number of pretrained layers (all except the last 'layers_of_classifier')\n",
        "    pretrained_layers = number_of_layers - layers_of_classifier\n",
        "\n",
        "    # Freeze the parameters of the pretrained base layers\n",
        "    for param in parameters[:-layers_of_classifier]:\n",
        "        param.requires_grad = False\n",
        "\n",
        "    # Unfreeze the parameters of the last 'layers_of_classifier' layers\n",
        "    for param in parameters[-layers_of_classifier:]:\n",
        "        param.requires_grad = True\n",
        "    model.to(torch.device('cuda' if torch.cuda.is_available() else 'cpu'))\n",
        "    return model\n",
        "# model = get_new_model()\n",
        "# check_requires_grad(model"
      ]
    },
    {
      "cell_type": "markdown",
      "metadata": {
        "id": "28jo8TCuWwEq"
      },
      "source": [
        "### Constants & dataset initialization"
      ]
    },
    {
      "cell_type": "code",
      "execution_count": 34,
      "metadata": {
        "id": "2OshmvwiW0MY"
      },
      "outputs": [],
      "source": [
        "import torch\n",
        "from torch.utils.data import DataLoader, Subset\n",
        "from datetime import datetime\n",
        "from tqdm import tqdm\n",
        "\n",
        "# Constants\n",
        "TRAIN_BATCH_SIZE = 64\n",
        "VAL_BATCH_SIZE = 64\n",
        "TEST_BATCH_SIZE = 64\n",
        "\n",
        "SUBSET_INDICES = 100\n",
        "SUBSET_VAL_INDICES = 200\n",
        "SUBSET_TEST_INDICES = 50\n",
        "\n",
        "DECODER_EPOCHS = 5\n",
        "#N_EPOCHS_CYCLIC = 10\n",
        "N_EPOCHS_LINEAR = 10\n",
        "\n",
        "USE_TQDM = True\n",
        "USE_SUBSET = False\n",
        "NORMALIZED_LABELS = True\n",
        "EVAL_EVERY = 3\n",
        "\n",
        "loss_fn = nn.MSELoss()\n",
        "\n",
        "# Define dataloaders\n",
        "\n",
        "# Training\n",
        "train_dataset = LabelFpsDataLoader(TRAIN_PATH, (224, 224), normalize_labels=NORMALIZED_LABELS)\n",
        "train_loader = DataLoader(train_dataset, batch_size=TRAIN_BATCH_SIZE, shuffle=True, num_workers=2)\n",
        "\n",
        "# Validation\n",
        "val_dataset = LabelFpsDataLoader(VAL_PATH, (224, 224), normalize_labels=NORMALIZED_LABELS)\n",
        "val_loader = DataLoader(val_dataset, batch_size=VAL_BATCH_SIZE, shuffle=True, num_workers=2)\n",
        "\n",
        "# Test\n",
        "test_dataset = LabelFpsDataLoader(TEST_PATH, (224, 224), normalize_labels=NORMALIZED_LABELS)\n",
        "test_loader = DataLoader(test_dataset, batch_size=TEST_BATCH_SIZE, shuffle=True, num_workers=2)\n",
        "\n",
        "\n",
        "\n",
        "# Use subsets for faster iterations during development\n",
        "if USE_SUBSET:\n",
        "    # Training\n",
        "    train_dataset = Subset(train_dataset, indices=range(SUBSET_INDICES))\n",
        "    train_loader = DataLoader(train_dataset, batch_size=TRAIN_BATCH_SIZE, shuffle=True, num_workers=2, pin_memory=True)\n",
        "    # Validation\n",
        "    val_dataset = Subset(val_dataset, indices=range(SUBSET_VAL_INDICES))\n",
        "    val_loader = DataLoader(val_dataset, batch_size=VAL_BATCH_SIZE, shuffle=True, num_workers=2)\n",
        "    # Test\n",
        "    test_dataset = Subset(test_dataset, indices=range(SUBSET_TEST_INDICES))\n",
        "    test_loader = DataLoader(test_dataset, batch_size=TEST_BATCH_SIZE, shuffle=True, num_workers=2)"
      ]
    },
    {
      "cell_type": "markdown",
      "metadata": {
        "id": "agQkxFUQemOX"
      },
      "source": [
        "### Training & test methods"
      ]
    },
    {
      "cell_type": "code",
      "execution_count": 29,
      "metadata": {
        "id": "I2mUI6H5Arru"
      },
      "outputs": [],
      "source": [
        "import torch\n",
        "from torch.utils.data import DataLoader, Subset\n",
        "from datetime import datetime\n",
        "from tqdm import tqdm\n",
        "\n",
        "# Training functions\n",
        "def train_epoch(dataloader, optimizer, model, loss_fn, scaler):\n",
        "    for X_batch, y_batch, _ in dataloader:\n",
        "        optimizer.zero_grad()\n",
        "        X_batch = X_batch.permute(0, 3, 1, 2).to(device)\n",
        "        y_batch = y_batch.to(device)\n",
        "        with torch.cuda.amp.autocast():\n",
        "            y_pred = model(X_batch)\n",
        "            loss = loss_fn(y_pred, y_batch)\n",
        "        scaler.scale(loss).backward()\n",
        "        scaler.step(optimizer)\n",
        "        scaler.update()\n",
        "\n",
        "def train_model(n_epochs, optimizer, scheduler, dataloader, val_loader, model, loss_fn):\n",
        "    in_loss_history = []\n",
        "    out_loss_history = []\n",
        "    in_acc_history = []\n",
        "    out_acc_history = []\n",
        "    scaler = torch.cuda.amp.GradScaler()\n",
        "\n",
        "    for epoch in tqdm(range(n_epochs)):\n",
        "        model.train()\n",
        "        epoch_loss = train_epoch(dataloader, optimizer, model, loss_fn, scaler)\n",
        "        scheduler.step()\n",
        "\n",
        "        if epoch % EVAL_EVERY == 0:\n",
        "            model.eval()\n",
        "            with torch.no_grad():\n",
        "                # In-sample\n",
        "                in_sample_loss, in_sample_accuracy = calculate_loss_and_accuracy(dataloader, model, loss_fn, device)\n",
        "                in_loss_history.append(in_sample_loss)\n",
        "                in_acc_history.append(in_sample_accuracy)\n",
        "\n",
        "                # Out-sample\n",
        "                out_sample_loss, out_sample_accuracy = calculate_loss_and_accuracy(val_loader, model, loss_fn, device)\n",
        "                out_loss_history.append(out_sample_loss)\n",
        "                out_acc_history.append(out_sample_accuracy)\n",
        "\n",
        "                if USE_TQDM:\n",
        "                    tqdm.write(f'Epoch {epoch + 1}, In-sample Loss: {in_sample_loss:.4f}, In-sample Accuracy: {in_sample_accuracy:.4f}')\n",
        "                    tqdm.write(f'Epoch {epoch + 1}, Out-sample Loss: {out_sample_loss:.4f}, Out-sample Accuracy: {out_sample_accuracy:.4f}')\n",
        "\n",
        "    return in_loss_history, out_loss_history, in_acc_history, out_acc_history"
      ]
    },
    {
      "cell_type": "code",
      "execution_count": 30,
      "metadata": {
        "id": "nJ9l8bMSAVIK"
      },
      "outputs": [],
      "source": [
        "import torch\n",
        "import torch.nn.functional as F\n",
        "\n",
        "def test_model(model, test_loader, threshold=0.5):\n",
        "    model.eval()  # Set the model to evaluation mode\n",
        "    total_true_positives = 0\n",
        "    total_samples = 0\n",
        "    total_loss = 0.0\n",
        "\n",
        "    with torch.no_grad():\n",
        "        for inputs, targets, _ in tqdm(test_loader):\n",
        "            inputs = inputs.permute(0, 3, 1, 2).to(device)\n",
        "            targets = targets.to(device)\n",
        "\n",
        "            # Forward pass\n",
        "            outputs = model(inputs)\n",
        "\n",
        "            # Calculate true positives for the batch\n",
        "            true_positives = calculate_true_positives_in_batch(outputs, targets, threshold)\n",
        "\n",
        "            total_true_positives += true_positives\n",
        "            total_samples += targets.size(0)\n",
        "\n",
        "            # Calculate loss for the batch\n",
        "            loss = loss_fn(outputs, targets)\n",
        "            total_loss += loss.item()\n",
        "\n",
        "    # Calculate accuracy and average loss\n",
        "    accuracy = total_true_positives / total_samples\n",
        "    average_loss = total_loss / len(test_loader)\n",
        "\n",
        "    return accuracy, average_loss"
      ]
    },
    {
      "cell_type": "code",
      "source": [
        "# Define model, loss function, optimizers, and schedulers\n",
        "def train_full_model(model):\n",
        "  model.to(device)\n",
        "  loss_fn = nn.MSELoss()\n",
        "\n",
        "  optimizer_decoder = optim.AdamW(model.parameters(), lr=1e-2)\n",
        "  scheduler_decoder = optim.lr_scheduler.StepLR(optimizer_decoder, step_size=1, gamma=0.5, verbose = True)\n",
        "\n",
        "\n",
        "  # Train the model with the decoder first\n",
        "  print(\"Starting training with decoder...\")\n",
        "  decoder_in_loss, decoder_out_loss, decoder_in_acc, decoder_out_acc = train_model(\n",
        "      n_epochs=DECODER_EPOCHS,\n",
        "      optimizer=optimizer_decoder,\n",
        "      scheduler=scheduler_decoder,\n",
        "      dataloader=train_loader,\n",
        "      val_loader=val_loader,\n",
        "      model=model,\n",
        "      loss_fn=loss_fn\n",
        "  )\n",
        "\n",
        "  # Unfreeze model layers for full model training\n",
        "  for param in model.parameters():\n",
        "      param.requires_grad = True\n",
        "\n",
        "\n",
        "  print(\"Starting full model training with linear LR ...\")\n",
        "  optimizer_full_linear = optim.AdamW(model.parameters(), lr=1e-3)\n",
        "  scheduler_full_linear = optim.lr_scheduler.StepLR(optimizer_full_linear, step_size=N_EPOCHS_LINEAR/5, gamma=0.5, verbose = True)\n",
        "\n",
        "  linear_in_loss, linear_out_loss, linear_in_acc, linear_out_acc = train_model(\n",
        "      n_epochs=N_EPOCHS_LINEAR,\n",
        "      optimizer=optimizer_full_linear,\n",
        "      scheduler=scheduler_full_linear,\n",
        "      dataloader=train_loader,  # Assuming train_loader_finetuning is the same as train_loader\n",
        "      val_loader=val_loader,\n",
        "      model=model,\n",
        "      loss_fn=loss_fn\n",
        "  )\n",
        "  total_in_loss = decoder_in_loss + linear_in_loss\n",
        "  total_out_loss = decoder_out_loss + linear_out_loss\n",
        "  total_in_acc = decoder_in_acc + linear_in_acc\n",
        "  total_out_acc = decoder_out_acc + linear_out_acc\n",
        "  history = {'in_loss': total_in_loss, 'out_loss': total_out_loss, 'in_acc': total_in_acc, 'out_acc': total_out_acc}\n",
        "  return model, history\n",
        "\n"
      ],
      "metadata": {
        "id": "abMIjvf_l3G1"
      },
      "execution_count": 31,
      "outputs": []
    },
    {
      "cell_type": "code",
      "execution_count": 32,
      "metadata": {
        "id": "O2iIkWT7FYNa"
      },
      "outputs": [],
      "source": [
        "# # Define model, loss function, optimizers, and schedulers\n",
        "# def train_full_model(model, cyclic_lr = {'base_lr': 1e-4, 'max_lr': 1e-3}):\n",
        "#   model.to(device)\n",
        "#   loss_fn = nn.MSELoss()\n",
        "\n",
        "#   optimizer_decoder = optim.AdamW(model.parameters(), lr=1e-5) # Does this lr get overriden by the schedular?\n",
        "#   scheduler_decoder = optim.lr_scheduler.CyclicLR(optimizer_decoder, base_lr=1e-3, max_lr=1e-2, cycle_momentum=False, step_size_up=DECODER_EPOCHS/6)\n",
        "\n",
        "\n",
        "#   # Train the model with the decoder first\n",
        "#   print(\"Starting training with decoder...\")\n",
        "#   decoder_in_loss, decoder_out_loss, decoder_in_acc, decoder_out_acc = train_model(\n",
        "#       n_epochs=DECODER_EPOCHS,\n",
        "#       optimizer=optimizer_decoder,\n",
        "#       scheduler=scheduler_decoder,\n",
        "#       dataloader=train_loader,\n",
        "#       val_loader=val_loader,\n",
        "#       model=model,\n",
        "#       loss_fn=loss_fn\n",
        "#   )\n",
        "\n",
        "#   # Unfreeze model layers for full model training\n",
        "#   for param in model.parameters():\n",
        "#       param.requires_grad = True\n",
        "\n",
        "#   # Now train the full model with cyclic\n",
        "#   print(\"Starting full model training with cyclic LR ...\")\n",
        "#   optimizer_full_cyclic = optim.AdamW(model.parameters(), lr=5e-6)\n",
        "#   scheduler_full_cyclic = optim.lr_scheduler.CyclicLR(optimizer_full_cyclic, base_lr=cyclic_lr['base_lr'], max_lr=cyclic_lr['max_lr'], cycle_momentum=False, step_size_up=N_EPOCHS_CYCLIC/4)\n",
        "\n",
        "#   cyclic_in_loss, cyclic_out_loss, cyclic_in_acc, cyclic_out_acc = train_model(\n",
        "#       n_epochs=N_EPOCHS_CYCLIC,\n",
        "#       optimizer=optimizer_full_cyclic,\n",
        "#       scheduler=scheduler_full_cyclic,\n",
        "#       dataloader=train_loader,  # Assuming train_loader_finetuning is the same as train_loader\n",
        "#       val_loader=val_loader,\n",
        "#       model=model,\n",
        "#       loss_fn=loss_fn\n",
        "#   )\n",
        "\n",
        "#   print(\"Starting full model training with linear LR ...\")\n",
        "#   optimizer_full_linear = optim.AdamW(model.parameters(), lr=cyclic_lr['base_lr'])\n",
        "#   scheduler_full_linear = optim.lr_scheduler.StepLR(optimizer_full_linear, step_size=N_EPOCHS_LINEAR/5, gamma=0.5, verbose = True)\n",
        "\n",
        "#   linear_in_loss, linear_out_loss, linear_in_acc, linear_out_acc = train_model(\n",
        "#       n_epochs=N_EPOCHS_LINEAR,\n",
        "#       optimizer=optimizer_full_linear,\n",
        "#       scheduler=scheduler_full_linear,\n",
        "#       dataloader=train_loader,  # Assuming train_loader_finetuning is the same as train_loader\n",
        "#       val_loader=val_loader,\n",
        "#       model=model,\n",
        "#       loss_fn=loss_fn\n",
        "#   )\n",
        "#   total_in_loss = decoder_in_loss + cyclic_in_loss + linear_in_loss\n",
        "#   total_out_loss = decoder_out_loss + cyclic_out_loss + linear_out_loss\n",
        "#   total_in_acc = decoder_in_acc + cyclic_in_acc + linear_in_acc\n",
        "#   total_out_acc = decoder_out_acc + cyclic_out_acc + linear_out_acc\n",
        "#   history = {'in_loss': total_in_loss, 'out_loss': total_out_loss, 'in_acc': total_in_acc, 'out_acc': total_out_acc}\n",
        "#   return model, history\n",
        "\n"
      ]
    },
    {
      "cell_type": "markdown",
      "metadata": {
        "id": "-o-bwYEwegSY"
      },
      "source": [
        "### Experiment: Standard acc and loss"
      ]
    },
    {
      "cell_type": "code",
      "execution_count": 33,
      "metadata": {
        "colab": {
          "base_uri": "https://localhost:8080/",
          "height": 599
        },
        "id": "3DcAGrwTtapl",
        "outputId": "74655741-4408-4c0f-ced4-92bcce3a8775"
      },
      "outputs": [
        {
          "output_type": "stream",
          "name": "stderr",
          "text": [
            "Using cache found in /root/.cache/torch/hub/pytorch_vision_v0.10.0\n",
            "/usr/local/lib/python3.10/dist-packages/torch/cuda/amp/grad_scaler.py:125: UserWarning: torch.cuda.amp.GradScaler is enabled, but CUDA is not available.  Disabling.\n",
            "  warnings.warn(\n"
          ]
        },
        {
          "output_type": "stream",
          "name": "stdout",
          "text": [
            "Adjusting learning rate of group 0 to 1.0000e-02.\n",
            "Starting training with decoder...\n"
          ]
        },
        {
          "output_type": "stream",
          "name": "stderr",
          "text": [
            "\r  0%|          | 0/5 [00:00<?, ?it/s]/usr/local/lib/python3.10/dist-packages/torch/amp/autocast_mode.py:250: UserWarning: User provided device_type of 'cuda', but CUDA is not available. Disabling\n",
            "  warnings.warn(\n"
          ]
        },
        {
          "output_type": "stream",
          "name": "stdout",
          "text": [
            "Adjusting learning rate of group 0 to 5.0000e-03.\n"
          ]
        },
        {
          "output_type": "stream",
          "name": "stderr",
          "text": [
            " 20%|██        | 1/5 [00:23<01:32, 23.12s/it]"
          ]
        },
        {
          "output_type": "stream",
          "name": "stdout",
          "text": [
            "Epoch 1, In-sample Loss: 0.3525, In-sample Accuracy: 0.0000\n",
            "Epoch 1, Out-sample Loss: 0.3443, Out-sample Accuracy: 0.0000\n"
          ]
        },
        {
          "output_type": "stream",
          "name": "stderr",
          "text": [
            "\r 40%|████      | 2/5 [00:29<00:39, 13.02s/it]"
          ]
        },
        {
          "output_type": "stream",
          "name": "stdout",
          "text": [
            "Adjusting learning rate of group 0 to 2.5000e-03.\n"
          ]
        },
        {
          "output_type": "stream",
          "name": "stderr",
          "text": [
            "\r 60%|██████    | 3/5 [00:34<00:19,  9.61s/it]"
          ]
        },
        {
          "output_type": "stream",
          "name": "stdout",
          "text": [
            "Adjusting learning rate of group 0 to 1.2500e-03.\n",
            "Adjusting learning rate of group 0 to 6.2500e-04.\n"
          ]
        },
        {
          "output_type": "stream",
          "name": "stderr",
          "text": [
            "\r 60%|██████    | 3/5 [00:46<00:31, 15.64s/it]\n"
          ]
        },
        {
          "output_type": "error",
          "ename": "KeyboardInterrupt",
          "evalue": "ignored",
          "traceback": [
            "\u001b[0;31m---------------------------------------------------------------------------\u001b[0m",
            "\u001b[0;31mKeyboardInterrupt\u001b[0m                         Traceback (most recent call last)",
            "\u001b[0;32m<ipython-input-33-13d74eb472b7>\u001b[0m in \u001b[0;36m<cell line: 2>\u001b[0;34m()\u001b[0m\n\u001b[1;32m      1\u001b[0m \u001b[0mmodel\u001b[0m \u001b[0;34m=\u001b[0m \u001b[0mget_new_model\u001b[0m\u001b[0;34m(\u001b[0m\u001b[0;34m)\u001b[0m\u001b[0;34m\u001b[0m\u001b[0;34m\u001b[0m\u001b[0m\n\u001b[0;32m----> 2\u001b[0;31m \u001b[0mtrained_model\u001b[0m\u001b[0;34m,\u001b[0m \u001b[0mhistory\u001b[0m \u001b[0;34m=\u001b[0m \u001b[0mtrain_full_model\u001b[0m\u001b[0;34m(\u001b[0m\u001b[0mmodel\u001b[0m\u001b[0;34m)\u001b[0m\u001b[0;34m\u001b[0m\u001b[0;34m\u001b[0m\u001b[0m\n\u001b[0m\u001b[1;32m      3\u001b[0m \u001b[0msave_model\u001b[0m\u001b[0;34m(\u001b[0m\u001b[0mtrained_model\u001b[0m\u001b[0;34m)\u001b[0m\u001b[0;34m\u001b[0m\u001b[0;34m\u001b[0m\u001b[0m\n",
            "\u001b[0;32m<ipython-input-31-4d8fd76eb268>\u001b[0m in \u001b[0;36mtrain_full_model\u001b[0;34m(model)\u001b[0m\n\u001b[1;32m     10\u001b[0m   \u001b[0;31m# Train the model with the decoder first\u001b[0m\u001b[0;34m\u001b[0m\u001b[0;34m\u001b[0m\u001b[0m\n\u001b[1;32m     11\u001b[0m   \u001b[0mprint\u001b[0m\u001b[0;34m(\u001b[0m\u001b[0;34m\"Starting training with decoder...\"\u001b[0m\u001b[0;34m)\u001b[0m\u001b[0;34m\u001b[0m\u001b[0;34m\u001b[0m\u001b[0m\n\u001b[0;32m---> 12\u001b[0;31m   decoder_in_loss, decoder_out_loss, decoder_in_acc, decoder_out_acc = train_model(\n\u001b[0m\u001b[1;32m     13\u001b[0m       \u001b[0mn_epochs\u001b[0m\u001b[0;34m=\u001b[0m\u001b[0mDECODER_EPOCHS\u001b[0m\u001b[0;34m,\u001b[0m\u001b[0;34m\u001b[0m\u001b[0;34m\u001b[0m\u001b[0m\n\u001b[1;32m     14\u001b[0m       \u001b[0moptimizer\u001b[0m\u001b[0;34m=\u001b[0m\u001b[0moptimizer_decoder\u001b[0m\u001b[0;34m,\u001b[0m\u001b[0;34m\u001b[0m\u001b[0;34m\u001b[0m\u001b[0m\n",
            "\u001b[0;32m<ipython-input-29-f9cfded7bccc>\u001b[0m in \u001b[0;36mtrain_model\u001b[0;34m(n_epochs, optimizer, scheduler, dataloader, val_loader, model, loss_fn)\u001b[0m\n\u001b[1;32m     38\u001b[0m \u001b[0;34m\u001b[0m\u001b[0m\n\u001b[1;32m     39\u001b[0m                 \u001b[0;31m# Out-sample\u001b[0m\u001b[0;34m\u001b[0m\u001b[0;34m\u001b[0m\u001b[0m\n\u001b[0;32m---> 40\u001b[0;31m                 \u001b[0mout_sample_loss\u001b[0m\u001b[0;34m,\u001b[0m \u001b[0mout_sample_accuracy\u001b[0m \u001b[0;34m=\u001b[0m \u001b[0mcalculate_loss_and_accuracy\u001b[0m\u001b[0;34m(\u001b[0m\u001b[0mval_loader\u001b[0m\u001b[0;34m,\u001b[0m \u001b[0mmodel\u001b[0m\u001b[0;34m,\u001b[0m \u001b[0mloss_fn\u001b[0m\u001b[0;34m,\u001b[0m \u001b[0mdevice\u001b[0m\u001b[0;34m)\u001b[0m\u001b[0;34m\u001b[0m\u001b[0;34m\u001b[0m\u001b[0m\n\u001b[0m\u001b[1;32m     41\u001b[0m                 \u001b[0mout_loss_history\u001b[0m\u001b[0;34m.\u001b[0m\u001b[0mappend\u001b[0m\u001b[0;34m(\u001b[0m\u001b[0mout_sample_loss\u001b[0m\u001b[0;34m)\u001b[0m\u001b[0;34m\u001b[0m\u001b[0;34m\u001b[0m\u001b[0m\n\u001b[1;32m     42\u001b[0m                 \u001b[0mout_acc_history\u001b[0m\u001b[0;34m.\u001b[0m\u001b[0mappend\u001b[0m\u001b[0;34m(\u001b[0m\u001b[0mout_sample_accuracy\u001b[0m\u001b[0;34m)\u001b[0m\u001b[0;34m\u001b[0m\u001b[0;34m\u001b[0m\u001b[0m\n",
            "\u001b[0;32m<ipython-input-24-a41b25aeaa15>\u001b[0m in \u001b[0;36mcalculate_loss_and_accuracy\u001b[0;34m(loader, model, loss_fn, device)\u001b[0m\n\u001b[1;32m     30\u001b[0m \u001b[0;34m\u001b[0m\u001b[0m\n\u001b[1;32m     31\u001b[0m     \u001b[0;32mwith\u001b[0m \u001b[0mtorch\u001b[0m\u001b[0;34m.\u001b[0m\u001b[0mno_grad\u001b[0m\u001b[0;34m(\u001b[0m\u001b[0;34m)\u001b[0m\u001b[0;34m:\u001b[0m  \u001b[0;31m# Disable gradient computation\u001b[0m\u001b[0;34m\u001b[0m\u001b[0;34m\u001b[0m\u001b[0m\n\u001b[0;32m---> 32\u001b[0;31m         \u001b[0;32mfor\u001b[0m \u001b[0mX_batch\u001b[0m\u001b[0;34m,\u001b[0m \u001b[0my_batch\u001b[0m\u001b[0;34m,\u001b[0m \u001b[0m_\u001b[0m \u001b[0;32min\u001b[0m \u001b[0mloader\u001b[0m\u001b[0;34m:\u001b[0m\u001b[0;34m\u001b[0m\u001b[0;34m\u001b[0m\u001b[0m\n\u001b[0m\u001b[1;32m     33\u001b[0m             \u001b[0mX_batch\u001b[0m \u001b[0;34m=\u001b[0m \u001b[0mX_batch\u001b[0m\u001b[0;34m.\u001b[0m\u001b[0mpermute\u001b[0m\u001b[0;34m(\u001b[0m\u001b[0;36m0\u001b[0m\u001b[0;34m,\u001b[0m\u001b[0;36m3\u001b[0m\u001b[0;34m,\u001b[0m\u001b[0;36m1\u001b[0m\u001b[0;34m,\u001b[0m\u001b[0;36m2\u001b[0m\u001b[0;34m)\u001b[0m\u001b[0;34m.\u001b[0m\u001b[0mto\u001b[0m\u001b[0;34m(\u001b[0m\u001b[0mdevice\u001b[0m\u001b[0;34m)\u001b[0m\u001b[0;34m\u001b[0m\u001b[0;34m\u001b[0m\u001b[0m\n\u001b[1;32m     34\u001b[0m             \u001b[0my_batch\u001b[0m \u001b[0;34m=\u001b[0m \u001b[0my_batch\u001b[0m\u001b[0;34m.\u001b[0m\u001b[0mto\u001b[0m\u001b[0;34m(\u001b[0m\u001b[0mdevice\u001b[0m\u001b[0;34m)\u001b[0m\u001b[0;34m\u001b[0m\u001b[0;34m\u001b[0m\u001b[0m\n",
            "\u001b[0;32m/usr/local/lib/python3.10/dist-packages/torch/utils/data/dataloader.py\u001b[0m in \u001b[0;36m__next__\u001b[0;34m(self)\u001b[0m\n\u001b[1;32m    628\u001b[0m                 \u001b[0;31m# TODO(https://github.com/pytorch/pytorch/issues/76750)\u001b[0m\u001b[0;34m\u001b[0m\u001b[0;34m\u001b[0m\u001b[0m\n\u001b[1;32m    629\u001b[0m                 \u001b[0mself\u001b[0m\u001b[0;34m.\u001b[0m\u001b[0m_reset\u001b[0m\u001b[0;34m(\u001b[0m\u001b[0;34m)\u001b[0m  \u001b[0;31m# type: ignore[call-arg]\u001b[0m\u001b[0;34m\u001b[0m\u001b[0;34m\u001b[0m\u001b[0m\n\u001b[0;32m--> 630\u001b[0;31m             \u001b[0mdata\u001b[0m \u001b[0;34m=\u001b[0m \u001b[0mself\u001b[0m\u001b[0;34m.\u001b[0m\u001b[0m_next_data\u001b[0m\u001b[0;34m(\u001b[0m\u001b[0;34m)\u001b[0m\u001b[0;34m\u001b[0m\u001b[0;34m\u001b[0m\u001b[0m\n\u001b[0m\u001b[1;32m    631\u001b[0m             \u001b[0mself\u001b[0m\u001b[0;34m.\u001b[0m\u001b[0m_num_yielded\u001b[0m \u001b[0;34m+=\u001b[0m \u001b[0;36m1\u001b[0m\u001b[0;34m\u001b[0m\u001b[0;34m\u001b[0m\u001b[0m\n\u001b[1;32m    632\u001b[0m             \u001b[0;32mif\u001b[0m \u001b[0mself\u001b[0m\u001b[0;34m.\u001b[0m\u001b[0m_dataset_kind\u001b[0m \u001b[0;34m==\u001b[0m \u001b[0m_DatasetKind\u001b[0m\u001b[0;34m.\u001b[0m\u001b[0mIterable\u001b[0m \u001b[0;32mand\u001b[0m\u001b[0;31m \u001b[0m\u001b[0;31m\\\u001b[0m\u001b[0;34m\u001b[0m\u001b[0;34m\u001b[0m\u001b[0m\n",
            "\u001b[0;32m/usr/local/lib/python3.10/dist-packages/torch/utils/data/dataloader.py\u001b[0m in \u001b[0;36m_next_data\u001b[0;34m(self)\u001b[0m\n\u001b[1;32m   1326\u001b[0m \u001b[0;34m\u001b[0m\u001b[0m\n\u001b[1;32m   1327\u001b[0m             \u001b[0;32massert\u001b[0m \u001b[0;32mnot\u001b[0m \u001b[0mself\u001b[0m\u001b[0;34m.\u001b[0m\u001b[0m_shutdown\u001b[0m \u001b[0;32mand\u001b[0m \u001b[0mself\u001b[0m\u001b[0;34m.\u001b[0m\u001b[0m_tasks_outstanding\u001b[0m \u001b[0;34m>\u001b[0m \u001b[0;36m0\u001b[0m\u001b[0;34m\u001b[0m\u001b[0;34m\u001b[0m\u001b[0m\n\u001b[0;32m-> 1328\u001b[0;31m             \u001b[0midx\u001b[0m\u001b[0;34m,\u001b[0m \u001b[0mdata\u001b[0m \u001b[0;34m=\u001b[0m \u001b[0mself\u001b[0m\u001b[0;34m.\u001b[0m\u001b[0m_get_data\u001b[0m\u001b[0;34m(\u001b[0m\u001b[0;34m)\u001b[0m\u001b[0;34m\u001b[0m\u001b[0;34m\u001b[0m\u001b[0m\n\u001b[0m\u001b[1;32m   1329\u001b[0m             \u001b[0mself\u001b[0m\u001b[0;34m.\u001b[0m\u001b[0m_tasks_outstanding\u001b[0m \u001b[0;34m-=\u001b[0m \u001b[0;36m1\u001b[0m\u001b[0;34m\u001b[0m\u001b[0;34m\u001b[0m\u001b[0m\n\u001b[1;32m   1330\u001b[0m             \u001b[0;32mif\u001b[0m \u001b[0mself\u001b[0m\u001b[0;34m.\u001b[0m\u001b[0m_dataset_kind\u001b[0m \u001b[0;34m==\u001b[0m \u001b[0m_DatasetKind\u001b[0m\u001b[0;34m.\u001b[0m\u001b[0mIterable\u001b[0m\u001b[0;34m:\u001b[0m\u001b[0;34m\u001b[0m\u001b[0;34m\u001b[0m\u001b[0m\n",
            "\u001b[0;32m/usr/local/lib/python3.10/dist-packages/torch/utils/data/dataloader.py\u001b[0m in \u001b[0;36m_get_data\u001b[0;34m(self)\u001b[0m\n\u001b[1;32m   1292\u001b[0m         \u001b[0;32melse\u001b[0m\u001b[0;34m:\u001b[0m\u001b[0;34m\u001b[0m\u001b[0;34m\u001b[0m\u001b[0m\n\u001b[1;32m   1293\u001b[0m             \u001b[0;32mwhile\u001b[0m \u001b[0;32mTrue\u001b[0m\u001b[0;34m:\u001b[0m\u001b[0;34m\u001b[0m\u001b[0;34m\u001b[0m\u001b[0m\n\u001b[0;32m-> 1294\u001b[0;31m                 \u001b[0msuccess\u001b[0m\u001b[0;34m,\u001b[0m \u001b[0mdata\u001b[0m \u001b[0;34m=\u001b[0m \u001b[0mself\u001b[0m\u001b[0;34m.\u001b[0m\u001b[0m_try_get_data\u001b[0m\u001b[0;34m(\u001b[0m\u001b[0;34m)\u001b[0m\u001b[0;34m\u001b[0m\u001b[0;34m\u001b[0m\u001b[0m\n\u001b[0m\u001b[1;32m   1295\u001b[0m                 \u001b[0;32mif\u001b[0m \u001b[0msuccess\u001b[0m\u001b[0;34m:\u001b[0m\u001b[0;34m\u001b[0m\u001b[0;34m\u001b[0m\u001b[0m\n\u001b[1;32m   1296\u001b[0m                     \u001b[0;32mreturn\u001b[0m \u001b[0mdata\u001b[0m\u001b[0;34m\u001b[0m\u001b[0;34m\u001b[0m\u001b[0m\n",
            "\u001b[0;32m/usr/local/lib/python3.10/dist-packages/torch/utils/data/dataloader.py\u001b[0m in \u001b[0;36m_try_get_data\u001b[0;34m(self, timeout)\u001b[0m\n\u001b[1;32m   1130\u001b[0m         \u001b[0;31m#   (bool: whether successfully get data, any: data if successful else None)\u001b[0m\u001b[0;34m\u001b[0m\u001b[0;34m\u001b[0m\u001b[0m\n\u001b[1;32m   1131\u001b[0m         \u001b[0;32mtry\u001b[0m\u001b[0;34m:\u001b[0m\u001b[0;34m\u001b[0m\u001b[0;34m\u001b[0m\u001b[0m\n\u001b[0;32m-> 1132\u001b[0;31m             \u001b[0mdata\u001b[0m \u001b[0;34m=\u001b[0m \u001b[0mself\u001b[0m\u001b[0;34m.\u001b[0m\u001b[0m_data_queue\u001b[0m\u001b[0;34m.\u001b[0m\u001b[0mget\u001b[0m\u001b[0;34m(\u001b[0m\u001b[0mtimeout\u001b[0m\u001b[0;34m=\u001b[0m\u001b[0mtimeout\u001b[0m\u001b[0;34m)\u001b[0m\u001b[0;34m\u001b[0m\u001b[0;34m\u001b[0m\u001b[0m\n\u001b[0m\u001b[1;32m   1133\u001b[0m             \u001b[0;32mreturn\u001b[0m \u001b[0;34m(\u001b[0m\u001b[0;32mTrue\u001b[0m\u001b[0;34m,\u001b[0m \u001b[0mdata\u001b[0m\u001b[0;34m)\u001b[0m\u001b[0;34m\u001b[0m\u001b[0;34m\u001b[0m\u001b[0m\n\u001b[1;32m   1134\u001b[0m         \u001b[0;32mexcept\u001b[0m \u001b[0mException\u001b[0m \u001b[0;32mas\u001b[0m \u001b[0me\u001b[0m\u001b[0;34m:\u001b[0m\u001b[0;34m\u001b[0m\u001b[0;34m\u001b[0m\u001b[0m\n",
            "\u001b[0;32m/usr/lib/python3.10/multiprocessing/queues.py\u001b[0m in \u001b[0;36mget\u001b[0;34m(self, block, timeout)\u001b[0m\n\u001b[1;32m    111\u001b[0m                 \u001b[0;32mif\u001b[0m \u001b[0mblock\u001b[0m\u001b[0;34m:\u001b[0m\u001b[0;34m\u001b[0m\u001b[0;34m\u001b[0m\u001b[0m\n\u001b[1;32m    112\u001b[0m                     \u001b[0mtimeout\u001b[0m \u001b[0;34m=\u001b[0m \u001b[0mdeadline\u001b[0m \u001b[0;34m-\u001b[0m \u001b[0mtime\u001b[0m\u001b[0;34m.\u001b[0m\u001b[0mmonotonic\u001b[0m\u001b[0;34m(\u001b[0m\u001b[0;34m)\u001b[0m\u001b[0;34m\u001b[0m\u001b[0;34m\u001b[0m\u001b[0m\n\u001b[0;32m--> 113\u001b[0;31m                     \u001b[0;32mif\u001b[0m \u001b[0;32mnot\u001b[0m \u001b[0mself\u001b[0m\u001b[0;34m.\u001b[0m\u001b[0m_poll\u001b[0m\u001b[0;34m(\u001b[0m\u001b[0mtimeout\u001b[0m\u001b[0;34m)\u001b[0m\u001b[0;34m:\u001b[0m\u001b[0;34m\u001b[0m\u001b[0;34m\u001b[0m\u001b[0m\n\u001b[0m\u001b[1;32m    114\u001b[0m                         \u001b[0;32mraise\u001b[0m \u001b[0mEmpty\u001b[0m\u001b[0;34m\u001b[0m\u001b[0;34m\u001b[0m\u001b[0m\n\u001b[1;32m    115\u001b[0m                 \u001b[0;32melif\u001b[0m \u001b[0;32mnot\u001b[0m \u001b[0mself\u001b[0m\u001b[0;34m.\u001b[0m\u001b[0m_poll\u001b[0m\u001b[0;34m(\u001b[0m\u001b[0;34m)\u001b[0m\u001b[0;34m:\u001b[0m\u001b[0;34m\u001b[0m\u001b[0;34m\u001b[0m\u001b[0m\n",
            "\u001b[0;32m/usr/lib/python3.10/multiprocessing/connection.py\u001b[0m in \u001b[0;36mpoll\u001b[0;34m(self, timeout)\u001b[0m\n\u001b[1;32m    255\u001b[0m         \u001b[0mself\u001b[0m\u001b[0;34m.\u001b[0m\u001b[0m_check_closed\u001b[0m\u001b[0;34m(\u001b[0m\u001b[0;34m)\u001b[0m\u001b[0;34m\u001b[0m\u001b[0;34m\u001b[0m\u001b[0m\n\u001b[1;32m    256\u001b[0m         \u001b[0mself\u001b[0m\u001b[0;34m.\u001b[0m\u001b[0m_check_readable\u001b[0m\u001b[0;34m(\u001b[0m\u001b[0;34m)\u001b[0m\u001b[0;34m\u001b[0m\u001b[0;34m\u001b[0m\u001b[0m\n\u001b[0;32m--> 257\u001b[0;31m         \u001b[0;32mreturn\u001b[0m \u001b[0mself\u001b[0m\u001b[0;34m.\u001b[0m\u001b[0m_poll\u001b[0m\u001b[0;34m(\u001b[0m\u001b[0mtimeout\u001b[0m\u001b[0;34m)\u001b[0m\u001b[0;34m\u001b[0m\u001b[0;34m\u001b[0m\u001b[0m\n\u001b[0m\u001b[1;32m    258\u001b[0m \u001b[0;34m\u001b[0m\u001b[0m\n\u001b[1;32m    259\u001b[0m     \u001b[0;32mdef\u001b[0m \u001b[0m__enter__\u001b[0m\u001b[0;34m(\u001b[0m\u001b[0mself\u001b[0m\u001b[0;34m)\u001b[0m\u001b[0;34m:\u001b[0m\u001b[0;34m\u001b[0m\u001b[0;34m\u001b[0m\u001b[0m\n",
            "\u001b[0;32m/usr/lib/python3.10/multiprocessing/connection.py\u001b[0m in \u001b[0;36m_poll\u001b[0;34m(self, timeout)\u001b[0m\n\u001b[1;32m    422\u001b[0m \u001b[0;34m\u001b[0m\u001b[0m\n\u001b[1;32m    423\u001b[0m     \u001b[0;32mdef\u001b[0m \u001b[0m_poll\u001b[0m\u001b[0;34m(\u001b[0m\u001b[0mself\u001b[0m\u001b[0;34m,\u001b[0m \u001b[0mtimeout\u001b[0m\u001b[0;34m)\u001b[0m\u001b[0;34m:\u001b[0m\u001b[0;34m\u001b[0m\u001b[0;34m\u001b[0m\u001b[0m\n\u001b[0;32m--> 424\u001b[0;31m         \u001b[0mr\u001b[0m \u001b[0;34m=\u001b[0m \u001b[0mwait\u001b[0m\u001b[0;34m(\u001b[0m\u001b[0;34m[\u001b[0m\u001b[0mself\u001b[0m\u001b[0;34m]\u001b[0m\u001b[0;34m,\u001b[0m \u001b[0mtimeout\u001b[0m\u001b[0;34m)\u001b[0m\u001b[0;34m\u001b[0m\u001b[0;34m\u001b[0m\u001b[0m\n\u001b[0m\u001b[1;32m    425\u001b[0m         \u001b[0;32mreturn\u001b[0m \u001b[0mbool\u001b[0m\u001b[0;34m(\u001b[0m\u001b[0mr\u001b[0m\u001b[0;34m)\u001b[0m\u001b[0;34m\u001b[0m\u001b[0;34m\u001b[0m\u001b[0m\n\u001b[1;32m    426\u001b[0m \u001b[0;34m\u001b[0m\u001b[0m\n",
            "\u001b[0;32m/usr/lib/python3.10/multiprocessing/connection.py\u001b[0m in \u001b[0;36mwait\u001b[0;34m(object_list, timeout)\u001b[0m\n\u001b[1;32m    929\u001b[0m \u001b[0;34m\u001b[0m\u001b[0m\n\u001b[1;32m    930\u001b[0m             \u001b[0;32mwhile\u001b[0m \u001b[0;32mTrue\u001b[0m\u001b[0;34m:\u001b[0m\u001b[0;34m\u001b[0m\u001b[0;34m\u001b[0m\u001b[0m\n\u001b[0;32m--> 931\u001b[0;31m                 \u001b[0mready\u001b[0m \u001b[0;34m=\u001b[0m \u001b[0mselector\u001b[0m\u001b[0;34m.\u001b[0m\u001b[0mselect\u001b[0m\u001b[0;34m(\u001b[0m\u001b[0mtimeout\u001b[0m\u001b[0;34m)\u001b[0m\u001b[0;34m\u001b[0m\u001b[0;34m\u001b[0m\u001b[0m\n\u001b[0m\u001b[1;32m    932\u001b[0m                 \u001b[0;32mif\u001b[0m \u001b[0mready\u001b[0m\u001b[0;34m:\u001b[0m\u001b[0;34m\u001b[0m\u001b[0;34m\u001b[0m\u001b[0m\n\u001b[1;32m    933\u001b[0m                     \u001b[0;32mreturn\u001b[0m \u001b[0;34m[\u001b[0m\u001b[0mkey\u001b[0m\u001b[0;34m.\u001b[0m\u001b[0mfileobj\u001b[0m \u001b[0;32mfor\u001b[0m \u001b[0;34m(\u001b[0m\u001b[0mkey\u001b[0m\u001b[0;34m,\u001b[0m \u001b[0mevents\u001b[0m\u001b[0;34m)\u001b[0m \u001b[0;32min\u001b[0m \u001b[0mready\u001b[0m\u001b[0;34m]\u001b[0m\u001b[0;34m\u001b[0m\u001b[0;34m\u001b[0m\u001b[0m\n",
            "\u001b[0;32m/usr/lib/python3.10/selectors.py\u001b[0m in \u001b[0;36mselect\u001b[0;34m(self, timeout)\u001b[0m\n\u001b[1;32m    414\u001b[0m         \u001b[0mready\u001b[0m \u001b[0;34m=\u001b[0m \u001b[0;34m[\u001b[0m\u001b[0;34m]\u001b[0m\u001b[0;34m\u001b[0m\u001b[0;34m\u001b[0m\u001b[0m\n\u001b[1;32m    415\u001b[0m         \u001b[0;32mtry\u001b[0m\u001b[0;34m:\u001b[0m\u001b[0;34m\u001b[0m\u001b[0;34m\u001b[0m\u001b[0m\n\u001b[0;32m--> 416\u001b[0;31m             \u001b[0mfd_event_list\u001b[0m \u001b[0;34m=\u001b[0m \u001b[0mself\u001b[0m\u001b[0;34m.\u001b[0m\u001b[0m_selector\u001b[0m\u001b[0;34m.\u001b[0m\u001b[0mpoll\u001b[0m\u001b[0;34m(\u001b[0m\u001b[0mtimeout\u001b[0m\u001b[0;34m)\u001b[0m\u001b[0;34m\u001b[0m\u001b[0;34m\u001b[0m\u001b[0m\n\u001b[0m\u001b[1;32m    417\u001b[0m         \u001b[0;32mexcept\u001b[0m \u001b[0mInterruptedError\u001b[0m\u001b[0;34m:\u001b[0m\u001b[0;34m\u001b[0m\u001b[0;34m\u001b[0m\u001b[0m\n\u001b[1;32m    418\u001b[0m             \u001b[0;32mreturn\u001b[0m \u001b[0mready\u001b[0m\u001b[0;34m\u001b[0m\u001b[0;34m\u001b[0m\u001b[0m\n",
            "\u001b[0;31mKeyboardInterrupt\u001b[0m: "
          ]
        }
      ],
      "source": [
        "model = get_new_model()\n",
        "trained_model, history = train_full_model(model)\n",
        "save_model(trained_model)"
      ]
    },
    {
      "cell_type": "code",
      "execution_count": null,
      "metadata": {
        "colab": {
          "base_uri": "https://localhost:8080/",
          "height": 607
        },
        "id": "vXTfV1YCeAn_",
        "outputId": "f3f5d625-fc10-496a-8620-92e44f73e218"
      },
      "outputs": [
        {
          "output_type": "display_data",
          "data": {
            "text/plain": [
              "<Figure size 1200x600 with 2 Axes>"
            ],
            "image/png": "[encoded data removed]"
          },
          "metadata": {}
        }
      ],
      "source": [
        "plot_history(history)"
      ]
    },
    {
      "cell_type": "code",
      "execution_count": null,
      "metadata": {
        "colab": {
          "base_uri": "https://localhost:8080/"
        },
        "id": "WtA0AOv-Z43j",
        "outputId": "8a96e2cd-2c74-451d-920e-80cba0a6d3e2"
      },
      "outputs": [
        {
          "name": "stderr",
          "output_type": "stream",
          "text": [
            "100%|██████████| 1/1 [00:01<00:00,  1.26s/it]"
          ]
        },
        {
          "name": "stdout",
          "output_type": "stream",
          "text": [
            "\n",
            "Test Accuracy: 25.00%\n",
            "Average Test Loss: 0.0085\n"
          ]
        },
        {
          "name": "stderr",
          "output_type": "stream",
          "text": [
            "\n"
          ]
        }
      ],
      "source": [
        "accuracy, average_loss = test_model(model, test_loader)\n",
        "\n",
        "print(f'\\nTest Accuracy: {accuracy * 100:.2f}%')\n",
        "print(f'Average Test Loss: {average_loss:.4f}')"
      ]
    },
    {
      "cell_type": "markdown",
      "metadata": {
        "id": "xbS7KnRPdgwL"
      },
      "source": [
        "### Experiment: Normalized labels & learning rate"
      ]
    },
    {
      "cell_type": "code",
      "execution_count": null,
      "metadata": {
        "colab": {
          "base_uri": "https://localhost:8080/"
        },
        "id": "C9oLm-GvUqTz",
        "outputId": "57c44902-8428-4588-a40d-0a814d14c7d6"
      },
      "outputs": [
        {
          "name": "stderr",
          "output_type": "stream",
          "text": [
            "Using cache found in /root/.cache/torch/hub/pytorch_vision_v0.10.0\n"
          ]
        },
        {
          "name": "stdout",
          "output_type": "stream",
          "text": [
            "Starting training with decoder...\n"
          ]
        },
        {
          "name": "stderr",
          "output_type": "stream",
          "text": [
            " 20%|██        | 1/5 [00:34<02:18, 34.51s/it]"
          ]
        },
        {
          "name": "stdout",
          "output_type": "stream",
          "text": [
            "Epoch 1, In-sample Loss: 10951.6523, In-sample Accuracy: 0.0000\n",
            "Epoch 1, Out-sample Loss: 11534.5020, Out-sample Accuracy: 0.0000\n"
          ]
        },
        {
          "name": "stderr",
          "output_type": "stream",
          "text": [
            " 60%|██████    | 3/5 [01:18<00:51, 25.61s/it]"
          ]
        },
        {
          "name": "stdout",
          "output_type": "stream",
          "text": [
            "Epoch 3, In-sample Loss: 1011.0090, In-sample Accuracy: 0.0220\n",
            "Epoch 3, Out-sample Loss: 1179.8236, Out-sample Accuracy: 0.0100\n"
          ]
        },
        {
          "name": "stderr",
          "output_type": "stream",
          "text": [
            "100%|██████████| 5/5 [02:03<00:00, 24.65s/it]\n"
          ]
        },
        {
          "name": "stdout",
          "output_type": "stream",
          "text": [
            "Epoch 5, In-sample Loss: 380.9440, In-sample Accuracy: 0.1620\n",
            "Epoch 5, Out-sample Loss: 454.9691, Out-sample Accuracy: 0.1100\n",
            "Starting full model training with cyclic LR ...\n"
          ]
        },
        {
          "name": "stderr",
          "output_type": "stream",
          "text": [
            "  5%|▌         | 1/20 [00:31<09:57, 31.46s/it]"
          ]
        },
        {
          "name": "stdout",
          "output_type": "stream",
          "text": [
            "Epoch 1, In-sample Loss: 259.7366, In-sample Accuracy: 0.2130\n",
            "Epoch 1, Out-sample Loss: 310.7838, Out-sample Accuracy: 0.1550\n"
          ]
        },
        {
          "name": "stderr",
          "output_type": "stream",
          "text": [
            " 15%|█▌        | 3/20 [01:13<06:57, 24.55s/it]"
          ]
        },
        {
          "name": "stdout",
          "output_type": "stream",
          "text": [
            "Epoch 3, In-sample Loss: 4834.0034, In-sample Accuracy: 0.0000\n",
            "Epoch 3, Out-sample Loss: 4660.0581, Out-sample Accuracy: 0.0000\n"
          ]
        },
        {
          "name": "stderr",
          "output_type": "stream",
          "text": [
            " 25%|██▌       | 5/20 [01:59<06:08, 24.59s/it]"
          ]
        },
        {
          "name": "stdout",
          "output_type": "stream",
          "text": [
            "Epoch 5, In-sample Loss: 18331.4308, In-sample Accuracy: 0.0000\n",
            "Epoch 5, Out-sample Loss: 16424.7334, Out-sample Accuracy: 0.0000\n"
          ]
        },
        {
          "name": "stderr",
          "output_type": "stream",
          "text": [
            " 35%|███▌      | 7/20 [02:42<05:04, 23.42s/it]"
          ]
        },
        {
          "name": "stdout",
          "output_type": "stream",
          "text": [
            "Epoch 7, In-sample Loss: 4616.2402, In-sample Accuracy: 0.0000\n",
            "Epoch 7, Out-sample Loss: 4169.9203, Out-sample Accuracy: 0.0000\n"
          ]
        },
        {
          "name": "stderr",
          "output_type": "stream",
          "text": [
            " 45%|████▌     | 9/20 [03:27<04:22, 23.86s/it]"
          ]
        },
        {
          "name": "stdout",
          "output_type": "stream",
          "text": [
            "Epoch 9, In-sample Loss: 575.1099, In-sample Accuracy: 0.0010\n",
            "Epoch 9, Out-sample Loss: 543.9368, Out-sample Accuracy: 0.0250\n"
          ]
        },
        {
          "name": "stderr",
          "output_type": "stream",
          "text": [
            " 55%|█████▌    | 11/20 [04:09<03:25, 22.88s/it]"
          ]
        },
        {
          "name": "stdout",
          "output_type": "stream",
          "text": [
            "Epoch 11, In-sample Loss: 186.1844, In-sample Accuracy: 0.0250\n",
            "Epoch 11, Out-sample Loss: 191.7141, Out-sample Accuracy: 0.1000\n"
          ]
        },
        {
          "name": "stderr",
          "output_type": "stream",
          "text": [
            " 65%|██████▌   | 13/20 [04:54<02:43, 23.37s/it]"
          ]
        },
        {
          "name": "stdout",
          "output_type": "stream",
          "text": [
            "Epoch 13, In-sample Loss: 120.6094, In-sample Accuracy: 0.0520\n",
            "Epoch 13, Out-sample Loss: 129.1261, Out-sample Accuracy: 0.1900\n"
          ]
        },
        {
          "name": "stderr",
          "output_type": "stream",
          "text": [
            " 75%|███████▌  | 15/20 [05:35<01:53, 22.68s/it]"
          ]
        },
        {
          "name": "stdout",
          "output_type": "stream",
          "text": [
            "Epoch 15, In-sample Loss: 55.9487, In-sample Accuracy: 0.7790\n",
            "Epoch 15, Out-sample Loss: 70.8623, Out-sample Accuracy: 0.7850\n"
          ]
        },
        {
          "name": "stderr",
          "output_type": "stream",
          "text": [
            " 85%|████████▌ | 17/20 [06:20<01:09, 23.26s/it]"
          ]
        },
        {
          "name": "stdout",
          "output_type": "stream",
          "text": [
            "Epoch 17, In-sample Loss: 188.4750, In-sample Accuracy: 0.0180\n",
            "Epoch 17, Out-sample Loss: 201.1997, Out-sample Accuracy: 0.1300\n"
          ]
        },
        {
          "name": "stderr",
          "output_type": "stream",
          "text": [
            " 95%|█████████▌| 19/20 [07:02<00:22, 22.82s/it]"
          ]
        },
        {
          "name": "stdout",
          "output_type": "stream",
          "text": [
            "Epoch 19, In-sample Loss: 95.9573, In-sample Accuracy: 0.0240\n",
            "Epoch 19, Out-sample Loss: 110.4232, Out-sample Accuracy: 0.1850\n"
          ]
        },
        {
          "name": "stderr",
          "output_type": "stream",
          "text": [
            "100%|██████████| 20/20 [07:16<00:00, 21.83s/it]\n"
          ]
        },
        {
          "name": "stdout",
          "output_type": "stream",
          "text": [
            "Starting full model training with linear LR ...\n",
            "Adjusting learning rate of group 0 to 1.0000e-04.\n"
          ]
        },
        {
          "name": "stderr",
          "output_type": "stream",
          "text": [
            "\r  0%|          | 0/20 [00:00<?, ?it/s]"
          ]
        },
        {
          "name": "stdout",
          "output_type": "stream",
          "text": [
            "Adjusting learning rate of group 0 to 1.0000e-04.\n"
          ]
        },
        {
          "name": "stderr",
          "output_type": "stream",
          "text": [
            "  5%|▌         | 1/20 [00:30<09:42, 30.63s/it]"
          ]
        },
        {
          "name": "stdout",
          "output_type": "stream",
          "text": [
            "Epoch 1, In-sample Loss: 63.0895, In-sample Accuracy: 0.1990\n",
            "Epoch 1, Out-sample Loss: 74.1815, Out-sample Accuracy: 0.4500\n"
          ]
        },
        {
          "name": "stderr",
          "output_type": "stream",
          "text": [
            "\r 10%|█         | 2/20 [00:44<06:15, 20.87s/it]"
          ]
        },
        {
          "name": "stdout",
          "output_type": "stream",
          "text": [
            "Adjusting learning rate of group 0 to 1.0000e-04.\n",
            "Adjusting learning rate of group 0 to 1.0000e-04.\n"
          ]
        },
        {
          "name": "stderr",
          "output_type": "stream",
          "text": [
            " 15%|█▌        | 3/20 [01:12<06:46, 23.89s/it]"
          ]
        },
        {
          "name": "stdout",
          "output_type": "stream",
          "text": [
            "Epoch 3, In-sample Loss: 26.6208, In-sample Accuracy: 0.8470\n",
            "Epoch 3, Out-sample Loss: 41.8567, Out-sample Accuracy: 0.8350\n"
          ]
        },
        {
          "name": "stderr",
          "output_type": "stream",
          "text": [
            "\r 20%|██        | 4/20 [01:25<05:17, 19.82s/it]"
          ]
        },
        {
          "name": "stdout",
          "output_type": "stream",
          "text": [
            "Adjusting learning rate of group 0 to 1.0000e-04.\n",
            "Adjusting learning rate of group 0 to 1.0000e-04.\n"
          ]
        },
        {
          "name": "stderr",
          "output_type": "stream",
          "text": [
            " 25%|██▌       | 5/20 [01:56<05:55, 23.71s/it]"
          ]
        },
        {
          "name": "stdout",
          "output_type": "stream",
          "text": [
            "Epoch 5, In-sample Loss: 10.2471, In-sample Accuracy: 0.9680\n",
            "Epoch 5, Out-sample Loss: 26.1979, Out-sample Accuracy: 0.9000\n"
          ]
        },
        {
          "name": "stderr",
          "output_type": "stream",
          "text": [
            "\r 30%|███       | 6/20 [02:10<04:47, 20.53s/it]"
          ]
        },
        {
          "name": "stdout",
          "output_type": "stream",
          "text": [
            "Adjusting learning rate of group 0 to 1.0000e-04.\n",
            "Adjusting learning rate of group 0 to 1.0000e-04.\n"
          ]
        },
        {
          "name": "stderr",
          "output_type": "stream",
          "text": [
            " 35%|███▌      | 7/20 [02:39<05:02, 23.25s/it]"
          ]
        },
        {
          "name": "stdout",
          "output_type": "stream",
          "text": [
            "Epoch 7, In-sample Loss: 7.6847, In-sample Accuracy: 0.9960\n",
            "Epoch 7, Out-sample Loss: 24.7996, Out-sample Accuracy: 0.8950\n"
          ]
        },
        {
          "name": "stderr",
          "output_type": "stream",
          "text": [
            "\r 40%|████      | 8/20 [02:52<04:00, 20.05s/it]"
          ]
        },
        {
          "name": "stdout",
          "output_type": "stream",
          "text": [
            "Adjusting learning rate of group 0 to 1.0000e-04.\n",
            "Adjusting learning rate of group 0 to 1.0000e-04.\n"
          ]
        },
        {
          "name": "stderr",
          "output_type": "stream",
          "text": [
            " 45%|████▌     | 9/20 [03:23<04:17, 23.42s/it]"
          ]
        },
        {
          "name": "stdout",
          "output_type": "stream",
          "text": [
            "Epoch 9, In-sample Loss: 7.5718, In-sample Accuracy: 0.9960\n",
            "Epoch 9, Out-sample Loss: 24.9021, Out-sample Accuracy: 0.8950\n"
          ]
        },
        {
          "name": "stderr",
          "output_type": "stream",
          "text": [
            "\r 50%|█████     | 10/20 [03:37<03:25, 20.56s/it]"
          ]
        },
        {
          "name": "stdout",
          "output_type": "stream",
          "text": [
            "Adjusting learning rate of group 0 to 1.0000e-04.\n",
            "Adjusting learning rate of group 0 to 1.0000e-04.\n"
          ]
        },
        {
          "name": "stderr",
          "output_type": "stream",
          "text": [
            " 55%|█████▌    | 11/20 [04:05<03:25, 22.78s/it]"
          ]
        },
        {
          "name": "stdout",
          "output_type": "stream",
          "text": [
            "Epoch 11, In-sample Loss: 2.7471, In-sample Accuracy: 0.9980\n",
            "Epoch 11, Out-sample Loss: 20.2822, Out-sample Accuracy: 0.9100\n"
          ]
        },
        {
          "name": "stderr",
          "output_type": "stream",
          "text": [
            "\r 60%|██████    | 12/20 [04:18<02:37, 19.73s/it]"
          ]
        },
        {
          "name": "stdout",
          "output_type": "stream",
          "text": [
            "Adjusting learning rate of group 0 to 1.0000e-04.\n",
            "Adjusting learning rate of group 0 to 1.0000e-04.\n"
          ]
        },
        {
          "name": "stderr",
          "output_type": "stream",
          "text": [
            " 65%|██████▌   | 13/20 [04:48<02:40, 22.96s/it]"
          ]
        },
        {
          "name": "stdout",
          "output_type": "stream",
          "text": [
            "Epoch 13, In-sample Loss: 1.2545, In-sample Accuracy: 0.9990\n",
            "Epoch 13, Out-sample Loss: 19.3071, Out-sample Accuracy: 0.9150\n"
          ]
        },
        {
          "name": "stderr",
          "output_type": "stream",
          "text": [
            "\r 70%|███████   | 14/20 [05:02<02:01, 20.27s/it]"
          ]
        },
        {
          "name": "stdout",
          "output_type": "stream",
          "text": [
            "Adjusting learning rate of group 0 to 1.0000e-04.\n",
            "Adjusting learning rate of group 0 to 1.0000e-04.\n"
          ]
        },
        {
          "name": "stderr",
          "output_type": "stream",
          "text": [
            " 75%|███████▌  | 15/20 [05:30<01:52, 22.42s/it]"
          ]
        },
        {
          "name": "stdout",
          "output_type": "stream",
          "text": [
            "Epoch 15, In-sample Loss: 2.1864, In-sample Accuracy: 0.9990\n",
            "Epoch 15, Out-sample Loss: 20.2710, Out-sample Accuracy: 0.9100\n"
          ]
        },
        {
          "name": "stderr",
          "output_type": "stream",
          "text": [
            "\r 80%|████████  | 16/20 [05:43<01:18, 19.60s/it]"
          ]
        },
        {
          "name": "stdout",
          "output_type": "stream",
          "text": [
            "Adjusting learning rate of group 0 to 1.0000e-04.\n",
            "Adjusting learning rate of group 0 to 1.0000e-04.\n"
          ]
        },
        {
          "name": "stderr",
          "output_type": "stream",
          "text": [
            " 85%|████████▌ | 17/20 [06:13<01:08, 22.80s/it]"
          ]
        },
        {
          "name": "stdout",
          "output_type": "stream",
          "text": [
            "Epoch 17, In-sample Loss: 1.3742, In-sample Accuracy: 0.9990\n",
            "Epoch 17, Out-sample Loss: 19.8351, Out-sample Accuracy: 0.8950\n"
          ]
        },
        {
          "name": "stderr",
          "output_type": "stream",
          "text": [
            "\r 90%|█████████ | 18/20 [06:27<00:40, 20.15s/it]"
          ]
        },
        {
          "name": "stdout",
          "output_type": "stream",
          "text": [
            "Adjusting learning rate of group 0 to 1.0000e-04.\n",
            "Adjusting learning rate of group 0 to 1.0000e-04.\n"
          ]
        },
        {
          "name": "stderr",
          "output_type": "stream",
          "text": [
            " 95%|█████████▌| 19/20 [06:54<00:22, 22.14s/it]"
          ]
        },
        {
          "name": "stdout",
          "output_type": "stream",
          "text": [
            "Epoch 19, In-sample Loss: 0.8018, In-sample Accuracy: 0.9990\n",
            "Epoch 19, Out-sample Loss: 19.2271, Out-sample Accuracy: 0.9100\n"
          ]
        },
        {
          "name": "stderr",
          "output_type": "stream",
          "text": [
            "100%|██████████| 20/20 [07:08<00:00, 21.43s/it]\n",
            "Using cache found in /root/.cache/torch/hub/pytorch_vision_v0.10.0\n"
          ]
        },
        {
          "name": "stdout",
          "output_type": "stream",
          "text": [
            "Adjusting learning rate of group 0 to 1.0000e-04.\n",
            "Starting training with decoder...\n"
          ]
        },
        {
          "name": "stderr",
          "output_type": "stream",
          "text": [
            " 20%|██        | 1/5 [00:30<02:02, 30.54s/it]"
          ]
        },
        {
          "name": "stdout",
          "output_type": "stream",
          "text": [
            "Epoch 1, In-sample Loss: 10910.3143, In-sample Accuracy: 0.0000\n",
            "Epoch 1, Out-sample Loss: 11495.9613, Out-sample Accuracy: 0.0000\n"
          ]
        },
        {
          "name": "stderr",
          "output_type": "stream",
          "text": [
            " 60%|██████    | 3/5 [01:11<00:47, 23.51s/it]"
          ]
        },
        {
          "name": "stdout",
          "output_type": "stream",
          "text": [
            "Epoch 3, In-sample Loss: 1066.5817, In-sample Accuracy: 0.0160\n",
            "Epoch 3, Out-sample Loss: 1231.1513, Out-sample Accuracy: 0.0200\n"
          ]
        },
        {
          "name": "stderr",
          "output_type": "stream",
          "text": [
            "100%|██████████| 5/5 [01:55<00:00, 23.08s/it]\n"
          ]
        },
        {
          "name": "stdout",
          "output_type": "stream",
          "text": [
            "Epoch 5, In-sample Loss: 402.9236, In-sample Accuracy: 0.1440\n",
            "Epoch 5, Out-sample Loss: 482.0970, Out-sample Accuracy: 0.1250\n",
            "Starting full model training with cyclic LR ...\n"
          ]
        },
        {
          "name": "stderr",
          "output_type": "stream",
          "text": [
            "  5%|▌         | 1/20 [00:29<09:13, 29.11s/it]"
          ]
        },
        {
          "name": "stdout",
          "output_type": "stream",
          "text": [
            "Epoch 1, In-sample Loss: 248.7718, In-sample Accuracy: 0.2180\n",
            "Epoch 1, Out-sample Loss: 307.6672, Out-sample Accuracy: 0.2000\n"
          ]
        },
        {
          "name": "stderr",
          "output_type": "stream",
          "text": [
            " 15%|█▌        | 3/20 [01:12<06:56, 24.51s/it]"
          ]
        },
        {
          "name": "stdout",
          "output_type": "stream",
          "text": [
            "Epoch 3, In-sample Loss: 122237664786041520128.0000, In-sample Accuracy: 0.0000\n",
            "Epoch 3, Out-sample Loss: 120250138661396414464.0000, Out-sample Accuracy: 0.0000\n"
          ]
        },
        {
          "name": "stderr",
          "output_type": "stream",
          "text": [
            " 25%|██▌       | 5/20 [01:55<05:53, 23.57s/it]"
          ]
        },
        {
          "name": "stdout",
          "output_type": "stream",
          "text": [
            "Epoch 5, In-sample Loss: 2377741370392.5762, In-sample Accuracy: 0.0000\n",
            "Epoch 5, Out-sample Loss: 2398367913082.8799, Out-sample Accuracy: 0.0000\n"
          ]
        },
        {
          "name": "stderr",
          "output_type": "stream",
          "text": [
            " 35%|███▌      | 7/20 [02:37<05:00, 23.11s/it]"
          ]
        },
        {
          "name": "stdout",
          "output_type": "stream",
          "text": [
            "Epoch 7, In-sample Loss: 118981224.4480, In-sample Accuracy: 0.0000\n",
            "Epoch 7, Out-sample Loss: 115256957.7600, Out-sample Accuracy: 0.0000\n"
          ]
        },
        {
          "name": "stderr",
          "output_type": "stream",
          "text": [
            " 45%|████▌     | 9/20 [03:20<04:11, 22.84s/it]"
          ]
        },
        {
          "name": "stdout",
          "output_type": "stream",
          "text": [
            "Epoch 9, In-sample Loss: 206160.0649, In-sample Accuracy: 0.0000\n",
            "Epoch 9, Out-sample Loss: 228080.9237, Out-sample Accuracy: 0.0000\n"
          ]
        },
        {
          "name": "stderr",
          "output_type": "stream",
          "text": [
            " 55%|█████▌    | 11/20 [04:03<03:26, 22.96s/it]"
          ]
        },
        {
          "name": "stdout",
          "output_type": "stream",
          "text": [
            "Epoch 11, In-sample Loss: 17555.6691, In-sample Accuracy: 0.0000\n",
            "Epoch 11, Out-sample Loss: 21567.9075, Out-sample Accuracy: 0.0000\n"
          ]
        },
        {
          "name": "stderr",
          "output_type": "stream",
          "text": [
            " 65%|██████▌   | 13/20 [04:46<02:39, 22.79s/it]"
          ]
        },
        {
          "name": "stdout",
          "output_type": "stream",
          "text": [
            "Epoch 13, In-sample Loss: 1190.5792, In-sample Accuracy: 0.0020\n",
            "Epoch 13, Out-sample Loss: 1167.3136, Out-sample Accuracy: 0.0100\n"
          ]
        },
        {
          "name": "stderr",
          "output_type": "stream",
          "text": [
            " 75%|███████▌  | 15/20 [05:28<01:54, 22.92s/it]"
          ]
        },
        {
          "name": "stdout",
          "output_type": "stream",
          "text": [
            "Epoch 15, In-sample Loss: 630.5513, In-sample Accuracy: 0.0210\n",
            "Epoch 15, Out-sample Loss: 611.5744, Out-sample Accuracy: 0.0750\n"
          ]
        },
        {
          "name": "stderr",
          "output_type": "stream",
          "text": [
            " 85%|████████▌ | 17/20 [06:12<01:08, 22.96s/it]"
          ]
        },
        {
          "name": "stdout",
          "output_type": "stream",
          "text": [
            "Epoch 17, In-sample Loss: 1035.9115, In-sample Accuracy: 0.0180\n",
            "Epoch 17, Out-sample Loss: 1114.8764, Out-sample Accuracy: 0.0500\n"
          ]
        },
        {
          "name": "stderr",
          "output_type": "stream",
          "text": [
            " 95%|█████████▌| 19/20 [06:55<00:22, 23.00s/it]"
          ]
        },
        {
          "name": "stdout",
          "output_type": "stream",
          "text": [
            "Epoch 19, In-sample Loss: 187.3504, In-sample Accuracy: 0.1500\n",
            "Epoch 19, Out-sample Loss: 233.7164, Out-sample Accuracy: 0.1400\n"
          ]
        },
        {
          "name": "stderr",
          "output_type": "stream",
          "text": [
            "100%|██████████| 20/20 [07:09<00:00, 21.49s/it]\n"
          ]
        },
        {
          "name": "stdout",
          "output_type": "stream",
          "text": [
            "Starting full model training with linear LR ...\n",
            "Adjusting learning rate of group 0 to 1.0000e-04.\n"
          ]
        },
        {
          "name": "stderr",
          "output_type": "stream",
          "text": [
            "\r  0%|          | 0/20 [00:00<?, ?it/s]"
          ]
        },
        {
          "name": "stdout",
          "output_type": "stream",
          "text": [
            "Adjusting learning rate of group 0 to 1.0000e-04.\n"
          ]
        },
        {
          "name": "stderr",
          "output_type": "stream",
          "text": [
            "  5%|▌         | 1/20 [00:28<09:02, 28.55s/it]"
          ]
        },
        {
          "name": "stdout",
          "output_type": "stream",
          "text": [
            "Epoch 1, In-sample Loss: 143.8421, In-sample Accuracy: 0.0910\n",
            "Epoch 1, Out-sample Loss: 188.8654, Out-sample Accuracy: 0.0900\n"
          ]
        },
        {
          "name": "stderr",
          "output_type": "stream",
          "text": [
            "\r 10%|█         | 2/20 [00:40<05:41, 18.98s/it]"
          ]
        },
        {
          "name": "stdout",
          "output_type": "stream",
          "text": [
            "Adjusting learning rate of group 0 to 1.0000e-04.\n",
            "Adjusting learning rate of group 0 to 1.0000e-04.\n"
          ]
        },
        {
          "name": "stderr",
          "output_type": "stream",
          "text": [
            " 15%|█▌        | 3/20 [01:11<06:49, 24.10s/it]"
          ]
        },
        {
          "name": "stdout",
          "output_type": "stream",
          "text": [
            "Epoch 3, In-sample Loss: 73.7236, In-sample Accuracy: 0.4220\n",
            "Epoch 3, Out-sample Loss: 108.9529, Out-sample Accuracy: 0.3900\n"
          ]
        },
        {
          "name": "stderr",
          "output_type": "stream",
          "text": [
            "\r 20%|██        | 4/20 [01:25<05:23, 20.23s/it]"
          ]
        },
        {
          "name": "stdout",
          "output_type": "stream",
          "text": [
            "Adjusting learning rate of group 0 to 1.0000e-04.\n",
            "Adjusting learning rate of group 0 to 1.0000e-04.\n"
          ]
        },
        {
          "name": "stderr",
          "output_type": "stream",
          "text": [
            " 25%|██▌       | 5/20 [01:53<05:45, 23.06s/it]"
          ]
        },
        {
          "name": "stdout",
          "output_type": "stream",
          "text": [
            "Epoch 5, In-sample Loss: 50.7146, In-sample Accuracy: 0.6750\n",
            "Epoch 5, Out-sample Loss: 82.5429, Out-sample Accuracy: 0.5800\n"
          ]
        },
        {
          "name": "stderr",
          "output_type": "stream",
          "text": [
            "\r 30%|███       | 6/20 [02:06<04:33, 19.55s/it]"
          ]
        },
        {
          "name": "stdout",
          "output_type": "stream",
          "text": [
            "Adjusting learning rate of group 0 to 1.0000e-04.\n",
            "Adjusting learning rate of group 0 to 1.0000e-04.\n"
          ]
        },
        {
          "name": "stderr",
          "output_type": "stream",
          "text": [
            " 35%|███▌      | 7/20 [02:36<04:58, 22.97s/it]"
          ]
        },
        {
          "name": "stdout",
          "output_type": "stream",
          "text": [
            "Epoch 7, In-sample Loss: 39.3151, In-sample Accuracy: 0.7880\n",
            "Epoch 7, Out-sample Loss: 67.8507, Out-sample Accuracy: 0.6650\n"
          ]
        },
        {
          "name": "stderr",
          "output_type": "stream",
          "text": [
            "\r 40%|████      | 8/20 [02:50<04:02, 20.17s/it]"
          ]
        },
        {
          "name": "stdout",
          "output_type": "stream",
          "text": [
            "Adjusting learning rate of group 0 to 1.0000e-04.\n",
            "Adjusting learning rate of group 0 to 1.0000e-04.\n"
          ]
        },
        {
          "name": "stderr",
          "output_type": "stream",
          "text": [
            " 45%|████▌     | 9/20 [03:18<04:09, 22.66s/it]"
          ]
        },
        {
          "name": "stdout",
          "output_type": "stream",
          "text": [
            "Epoch 9, In-sample Loss: 32.2653, In-sample Accuracy: 0.8900\n",
            "Epoch 9, Out-sample Loss: 59.4741, Out-sample Accuracy: 0.7600\n"
          ]
        },
        {
          "name": "stderr",
          "output_type": "stream",
          "text": [
            "\r 50%|█████     | 10/20 [03:31<03:16, 19.60s/it]"
          ]
        },
        {
          "name": "stdout",
          "output_type": "stream",
          "text": [
            "Adjusting learning rate of group 0 to 1.0000e-04.\n",
            "Adjusting learning rate of group 0 to 1.0000e-04.\n"
          ]
        },
        {
          "name": "stderr",
          "output_type": "stream",
          "text": [
            " 55%|█████▌    | 11/20 [04:01<03:25, 22.85s/it]"
          ]
        },
        {
          "name": "stdout",
          "output_type": "stream",
          "text": [
            "Epoch 11, In-sample Loss: 24.1515, In-sample Accuracy: 0.9380\n",
            "Epoch 11, Out-sample Loss: 48.7279, Out-sample Accuracy: 0.7950\n"
          ]
        },
        {
          "name": "stderr",
          "output_type": "stream",
          "text": [
            "\r 60%|██████    | 12/20 [04:15<02:41, 20.15s/it]"
          ]
        },
        {
          "name": "stdout",
          "output_type": "stream",
          "text": [
            "Adjusting learning rate of group 0 to 1.0000e-04.\n",
            "Adjusting learning rate of group 0 to 1.0000e-04.\n"
          ]
        },
        {
          "name": "stderr",
          "output_type": "stream",
          "text": [
            " 65%|██████▌   | 13/20 [04:43<02:37, 22.50s/it]"
          ]
        },
        {
          "name": "stdout",
          "output_type": "stream",
          "text": [
            "Epoch 13, In-sample Loss: 17.5160, In-sample Accuracy: 0.9570\n",
            "Epoch 13, Out-sample Loss: 40.4261, Out-sample Accuracy: 0.8200\n"
          ]
        },
        {
          "name": "stderr",
          "output_type": "stream",
          "text": [
            "\r 70%|███████   | 14/20 [04:56<01:57, 19.59s/it]"
          ]
        },
        {
          "name": "stdout",
          "output_type": "stream",
          "text": [
            "Adjusting learning rate of group 0 to 1.0000e-04.\n",
            "Adjusting learning rate of group 0 to 1.0000e-04.\n"
          ]
        },
        {
          "name": "stderr",
          "output_type": "stream",
          "text": [
            " 75%|███████▌  | 15/20 [05:26<01:53, 22.77s/it]"
          ]
        },
        {
          "name": "stdout",
          "output_type": "stream",
          "text": [
            "Epoch 15, In-sample Loss: 15.4956, In-sample Accuracy: 0.9620\n",
            "Epoch 15, Out-sample Loss: 37.9953, Out-sample Accuracy: 0.8300\n"
          ]
        },
        {
          "name": "stderr",
          "output_type": "stream",
          "text": [
            "\r 80%|████████  | 16/20 [05:40<01:20, 20.08s/it]"
          ]
        },
        {
          "name": "stdout",
          "output_type": "stream",
          "text": [
            "Adjusting learning rate of group 0 to 1.0000e-04.\n",
            "Adjusting learning rate of group 0 to 1.0000e-04.\n"
          ]
        },
        {
          "name": "stderr",
          "output_type": "stream",
          "text": [
            " 85%|████████▌ | 17/20 [06:07<01:06, 22.29s/it]"
          ]
        },
        {
          "name": "stdout",
          "output_type": "stream",
          "text": [
            "Epoch 17, In-sample Loss: 12.9107, In-sample Accuracy: 0.9700\n",
            "Epoch 17, Out-sample Loss: 34.4017, Out-sample Accuracy: 0.8400\n"
          ]
        },
        {
          "name": "stderr",
          "output_type": "stream",
          "text": [
            "\r 90%|█████████ | 18/20 [06:21<00:39, 19.63s/it]"
          ]
        },
        {
          "name": "stdout",
          "output_type": "stream",
          "text": [
            "Adjusting learning rate of group 0 to 1.0000e-04.\n",
            "Adjusting learning rate of group 0 to 1.0000e-04.\n"
          ]
        },
        {
          "name": "stderr",
          "output_type": "stream",
          "text": [
            " 95%|█████████▌| 19/20 [06:51<00:22, 22.80s/it]"
          ]
        },
        {
          "name": "stdout",
          "output_type": "stream",
          "text": [
            "Epoch 19, In-sample Loss: 11.0596, In-sample Accuracy: 0.9740\n",
            "Epoch 19, Out-sample Loss: 31.9073, Out-sample Accuracy: 0.8500\n"
          ]
        },
        {
          "name": "stderr",
          "output_type": "stream",
          "text": [
            "100%|██████████| 20/20 [07:05<00:00, 21.28s/it]\n",
            "Using cache found in /root/.cache/torch/hub/pytorch_vision_v0.10.0\n"
          ]
        },
        {
          "name": "stdout",
          "output_type": "stream",
          "text": [
            "Adjusting learning rate of group 0 to 1.0000e-04.\n",
            "Starting training with decoder...\n"
          ]
        },
        {
          "name": "stderr",
          "output_type": "stream",
          "text": [
            " 20%|██        | 1/5 [00:26<01:47, 26.91s/it]"
          ]
        },
        {
          "name": "stdout",
          "output_type": "stream",
          "text": [
            "Epoch 1, In-sample Loss: 10835.8930, In-sample Accuracy: 0.0000\n",
            "Epoch 1, Out-sample Loss: 11418.8894, Out-sample Accuracy: 0.0000\n"
          ]
        },
        {
          "name": "stderr",
          "output_type": "stream",
          "text": [
            " 60%|██████    | 3/5 [01:09<00:47, 23.79s/it]"
          ]
        },
        {
          "name": "stdout",
          "output_type": "stream",
          "text": [
            "Epoch 3, In-sample Loss: 954.5178, In-sample Accuracy: 0.0260\n",
            "Epoch 3, Out-sample Loss: 1118.6781, Out-sample Accuracy: 0.0050\n"
          ]
        },
        {
          "name": "stderr",
          "output_type": "stream",
          "text": [
            "100%|██████████| 5/5 [01:50<00:00, 22.04s/it]\n"
          ]
        },
        {
          "name": "stdout",
          "output_type": "stream",
          "text": [
            "Epoch 5, In-sample Loss: 379.9238, In-sample Accuracy: 0.1550\n",
            "Epoch 5, Out-sample Loss: 453.9418, Out-sample Accuracy: 0.1050\n",
            "Starting full model training with cyclic LR ...\n"
          ]
        },
        {
          "name": "stderr",
          "output_type": "stream",
          "text": [
            "  5%|▌         | 1/20 [00:30<09:43, 30.69s/it]"
          ]
        },
        {
          "name": "stdout",
          "output_type": "stream",
          "text": [
            "Epoch 1, In-sample Loss: 386.9582, In-sample Accuracy: 0.1550\n",
            "Epoch 1, Out-sample Loss: 438.0007, Out-sample Accuracy: 0.1350\n"
          ]
        },
        {
          "name": "stderr",
          "output_type": "stream",
          "text": [
            " 15%|█▌        | 3/20 [01:12<06:48, 24.01s/it]"
          ]
        },
        {
          "name": "stdout",
          "output_type": "stream",
          "text": [
            "Epoch 3, In-sample Loss: 11690.5303, In-sample Accuracy: 0.0000\n",
            "Epoch 3, Out-sample Loss: 10179.3100, Out-sample Accuracy: 0.0000\n"
          ]
        },
        {
          "name": "stderr",
          "output_type": "stream",
          "text": [
            " 25%|██▌       | 5/20 [01:55<05:52, 23.47s/it]"
          ]
        },
        {
          "name": "stdout",
          "output_type": "stream",
          "text": [
            "Epoch 5, In-sample Loss: 9977.4468, In-sample Accuracy: 0.0000\n",
            "Epoch 5, Out-sample Loss: 10134.0364, Out-sample Accuracy: 0.0000\n"
          ]
        },
        {
          "name": "stderr",
          "output_type": "stream",
          "text": [
            " 35%|███▌      | 7/20 [02:38<04:58, 23.00s/it]"
          ]
        },
        {
          "name": "stdout",
          "output_type": "stream",
          "text": [
            "Epoch 7, In-sample Loss: 1375.4979, In-sample Accuracy: 0.0000\n",
            "Epoch 7, Out-sample Loss: 1382.7254, Out-sample Accuracy: 0.0000\n"
          ]
        },
        {
          "name": "stderr",
          "output_type": "stream",
          "text": [
            " 45%|████▌     | 9/20 [03:21<04:13, 23.02s/it]"
          ]
        },
        {
          "name": "stdout",
          "output_type": "stream",
          "text": [
            "Epoch 9, In-sample Loss: 507.6267, In-sample Accuracy: 0.1330\n",
            "Epoch 9, Out-sample Loss: 494.2974, Out-sample Accuracy: 0.1550\n"
          ]
        },
        {
          "name": "stderr",
          "output_type": "stream",
          "text": [
            " 55%|█████▌    | 11/20 [04:02<03:21, 22.37s/it]"
          ]
        },
        {
          "name": "stdout",
          "output_type": "stream",
          "text": [
            "Epoch 11, In-sample Loss: 271.5217, In-sample Accuracy: 0.3470\n",
            "Epoch 11, Out-sample Loss: 262.2765, Out-sample Accuracy: 0.3900\n"
          ]
        },
        {
          "name": "stderr",
          "output_type": "stream",
          "text": [
            " 65%|██████▌   | 13/20 [04:46<02:40, 22.89s/it]"
          ]
        },
        {
          "name": "stdout",
          "output_type": "stream",
          "text": [
            "Epoch 13, In-sample Loss: 193.0767, In-sample Accuracy: 0.2390\n",
            "Epoch 13, Out-sample Loss: 197.4191, Out-sample Accuracy: 0.2900\n"
          ]
        },
        {
          "name": "stderr",
          "output_type": "stream",
          "text": [
            " 75%|███████▌  | 15/20 [05:27<01:51, 22.37s/it]"
          ]
        },
        {
          "name": "stdout",
          "output_type": "stream",
          "text": [
            "Epoch 15, In-sample Loss: 149.3961, In-sample Accuracy: 0.0140\n",
            "Epoch 15, Out-sample Loss: 155.9843, Out-sample Accuracy: 0.1300\n"
          ]
        },
        {
          "name": "stderr",
          "output_type": "stream",
          "text": [
            " 85%|████████▌ | 17/20 [06:11<01:08, 22.78s/it]"
          ]
        },
        {
          "name": "stdout",
          "output_type": "stream",
          "text": [
            "Epoch 17, In-sample Loss: 228.1685, In-sample Accuracy: 0.0010\n",
            "Epoch 17, Out-sample Loss: 227.0087, Out-sample Accuracy: 0.0500\n"
          ]
        },
        {
          "name": "stderr",
          "output_type": "stream",
          "text": [
            " 95%|█████████▌| 19/20 [06:51<00:22, 22.02s/it]"
          ]
        },
        {
          "name": "stdout",
          "output_type": "stream",
          "text": [
            "Epoch 19, In-sample Loss: 142.6289, In-sample Accuracy: 0.6410\n",
            "Epoch 19, Out-sample Loss: 155.8914, Out-sample Accuracy: 0.7150\n"
          ]
        },
        {
          "name": "stderr",
          "output_type": "stream",
          "text": [
            "100%|██████████| 20/20 [07:05<00:00, 21.28s/it]\n"
          ]
        },
        {
          "name": "stdout",
          "output_type": "stream",
          "text": [
            "Starting full model training with linear LR ...\n",
            "Adjusting learning rate of group 0 to 1.0000e-03.\n"
          ]
        },
        {
          "name": "stderr",
          "output_type": "stream",
          "text": [
            "\r  0%|          | 0/20 [00:00<?, ?it/s]"
          ]
        },
        {
          "name": "stdout",
          "output_type": "stream",
          "text": [
            "Adjusting learning rate of group 0 to 1.0000e-03.\n"
          ]
        },
        {
          "name": "stderr",
          "output_type": "stream",
          "text": [
            "  5%|▌         | 1/20 [00:30<09:32, 30.14s/it]"
          ]
        },
        {
          "name": "stdout",
          "output_type": "stream",
          "text": [
            "Epoch 1, In-sample Loss: 431.0831, In-sample Accuracy: 0.0000\n",
            "Epoch 1, Out-sample Loss: 412.7740, Out-sample Accuracy: 0.0000\n"
          ]
        },
        {
          "name": "stderr",
          "output_type": "stream",
          "text": [
            "\r 10%|█         | 2/20 [00:43<06:02, 20.14s/it]"
          ]
        },
        {
          "name": "stdout",
          "output_type": "stream",
          "text": [
            "Adjusting learning rate of group 0 to 1.0000e-03.\n",
            "Adjusting learning rate of group 0 to 1.0000e-03.\n"
          ]
        },
        {
          "name": "stderr",
          "output_type": "stream",
          "text": [
            " 15%|█▌        | 3/20 [01:10<06:39, 23.52s/it]"
          ]
        },
        {
          "name": "stdout",
          "output_type": "stream",
          "text": [
            "Epoch 3, In-sample Loss: 259.4934, In-sample Accuracy: 0.0000\n",
            "Epoch 3, Out-sample Loss: 272.7210, Out-sample Accuracy: 0.0000\n"
          ]
        },
        {
          "name": "stderr",
          "output_type": "stream",
          "text": [
            "\r 20%|██        | 4/20 [01:25<05:18, 19.93s/it]"
          ]
        },
        {
          "name": "stdout",
          "output_type": "stream",
          "text": [
            "Adjusting learning rate of group 0 to 1.0000e-03.\n",
            "Adjusting learning rate of group 0 to 1.0000e-03.\n"
          ]
        },
        {
          "name": "stderr",
          "output_type": "stream",
          "text": [
            " 25%|██▌       | 5/20 [01:55<05:53, 23.58s/it]"
          ]
        },
        {
          "name": "stdout",
          "output_type": "stream",
          "text": [
            "Epoch 5, In-sample Loss: 168.0175, In-sample Accuracy: 0.0000\n",
            "Epoch 5, Out-sample Loss: 171.2971, Out-sample Accuracy: 0.0050\n"
          ]
        },
        {
          "name": "stderr",
          "output_type": "stream",
          "text": [
            "\r 30%|███       | 6/20 [02:08<04:38, 19.91s/it]"
          ]
        },
        {
          "name": "stdout",
          "output_type": "stream",
          "text": [
            "Adjusting learning rate of group 0 to 1.0000e-03.\n",
            "Adjusting learning rate of group 0 to 1.0000e-03.\n"
          ]
        },
        {
          "name": "stderr",
          "output_type": "stream",
          "text": [
            " 35%|███▌      | 7/20 [02:36<04:54, 22.67s/it]"
          ]
        },
        {
          "name": "stdout",
          "output_type": "stream",
          "text": [
            "Epoch 7, In-sample Loss: 35.4303, In-sample Accuracy: 0.9860\n",
            "Epoch 7, Out-sample Loss: 50.1016, Out-sample Accuracy: 0.9150\n"
          ]
        },
        {
          "name": "stderr",
          "output_type": "stream",
          "text": [
            "\r 40%|████      | 8/20 [02:50<03:59, 19.92s/it]"
          ]
        },
        {
          "name": "stdout",
          "output_type": "stream",
          "text": [
            "Adjusting learning rate of group 0 to 1.0000e-03.\n",
            "Adjusting learning rate of group 0 to 1.0000e-03.\n"
          ]
        },
        {
          "name": "stderr",
          "output_type": "stream",
          "text": [
            " 45%|████▌     | 9/20 [03:20<04:13, 23.05s/it]"
          ]
        },
        {
          "name": "stdout",
          "output_type": "stream",
          "text": [
            "Epoch 9, In-sample Loss: 19.7636, In-sample Accuracy: 0.9940\n",
            "Epoch 9, Out-sample Loss: 33.8803, Out-sample Accuracy: 0.9150\n"
          ]
        },
        {
          "name": "stderr",
          "output_type": "stream",
          "text": [
            "\r 50%|█████     | 10/20 [03:32<03:18, 19.81s/it]"
          ]
        },
        {
          "name": "stdout",
          "output_type": "stream",
          "text": [
            "Adjusting learning rate of group 0 to 1.0000e-03.\n",
            "Adjusting learning rate of group 0 to 1.0000e-03.\n"
          ]
        },
        {
          "name": "stderr",
          "output_type": "stream",
          "text": [
            " 55%|█████▌    | 11/20 [04:01<03:22, 22.46s/it]"
          ]
        },
        {
          "name": "stdout",
          "output_type": "stream",
          "text": [
            "Epoch 11, In-sample Loss: 64.3514, In-sample Accuracy: 0.4650\n",
            "Epoch 11, Out-sample Loss: 78.6737, Out-sample Accuracy: 0.6600\n"
          ]
        },
        {
          "name": "stderr",
          "output_type": "stream",
          "text": [
            "\r 60%|██████    | 12/20 [04:15<02:38, 19.85s/it]"
          ]
        },
        {
          "name": "stdout",
          "output_type": "stream",
          "text": [
            "Adjusting learning rate of group 0 to 1.0000e-03.\n",
            "Adjusting learning rate of group 0 to 1.0000e-03.\n"
          ]
        },
        {
          "name": "stderr",
          "output_type": "stream",
          "text": [
            " 65%|██████▌   | 13/20 [04:45<02:40, 22.97s/it]"
          ]
        },
        {
          "name": "stdout",
          "output_type": "stream",
          "text": [
            "Epoch 13, In-sample Loss: 92.0813, In-sample Accuracy: 0.0460\n",
            "Epoch 13, Out-sample Loss: 106.2475, Out-sample Accuracy: 0.3450\n"
          ]
        },
        {
          "name": "stderr",
          "output_type": "stream",
          "text": [
            "\r 70%|███████   | 14/20 [04:57<01:58, 19.71s/it]"
          ]
        },
        {
          "name": "stdout",
          "output_type": "stream",
          "text": [
            "Adjusting learning rate of group 0 to 1.0000e-03.\n",
            "Adjusting learning rate of group 0 to 1.0000e-03.\n"
          ]
        },
        {
          "name": "stderr",
          "output_type": "stream",
          "text": [
            " 75%|███████▌  | 15/20 [05:26<01:52, 22.52s/it]"
          ]
        },
        {
          "name": "stdout",
          "output_type": "stream",
          "text": [
            "Epoch 15, In-sample Loss: 33.1044, In-sample Accuracy: 0.3170\n",
            "Epoch 15, Out-sample Loss: 45.0239, Out-sample Accuracy: 0.5450\n"
          ]
        },
        {
          "name": "stderr",
          "output_type": "stream",
          "text": [
            "\r 80%|████████  | 16/20 [05:40<01:19, 19.98s/it]"
          ]
        },
        {
          "name": "stdout",
          "output_type": "stream",
          "text": [
            "Adjusting learning rate of group 0 to 1.0000e-03.\n",
            "Adjusting learning rate of group 0 to 1.0000e-03.\n"
          ]
        },
        {
          "name": "stderr",
          "output_type": "stream",
          "text": [
            " 85%|████████▌ | 17/20 [06:10<01:08, 22.96s/it]"
          ]
        },
        {
          "name": "stdout",
          "output_type": "stream",
          "text": [
            "Epoch 17, In-sample Loss: 13.9143, In-sample Accuracy: 0.9960\n",
            "Epoch 17, Out-sample Loss: 27.6864, Out-sample Accuracy: 0.8900\n"
          ]
        },
        {
          "name": "stderr",
          "output_type": "stream",
          "text": [
            "\r 90%|█████████ | 18/20 [06:22<00:39, 19.75s/it]"
          ]
        },
        {
          "name": "stdout",
          "output_type": "stream",
          "text": [
            "Adjusting learning rate of group 0 to 1.0000e-03.\n",
            "Adjusting learning rate of group 0 to 1.0000e-03.\n"
          ]
        },
        {
          "name": "stderr",
          "output_type": "stream",
          "text": [
            " 95%|█████████▌| 19/20 [06:51<00:22, 22.36s/it]"
          ]
        },
        {
          "name": "stdout",
          "output_type": "stream",
          "text": [
            "Epoch 19, In-sample Loss: 11.1121, In-sample Accuracy: 0.9970\n",
            "Epoch 19, Out-sample Loss: 25.4943, Out-sample Accuracy: 0.9000\n"
          ]
        },
        {
          "name": "stderr",
          "output_type": "stream",
          "text": [
            "100%|██████████| 20/20 [07:05<00:00, 21.27s/it]"
          ]
        },
        {
          "name": "stdout",
          "output_type": "stream",
          "text": [
            "Adjusting learning rate of group 0 to 1.0000e-03.\n"
          ]
        },
        {
          "name": "stderr",
          "output_type": "stream",
          "text": [
            "\n"
          ]
        }
      ],
      "source": [
        "\n",
        "lr_to_test = [(1e-4, 1e-2),(1e-4, 1e-1),(1e-3, 1e-2)]\n",
        "\n",
        "in_loss_standard_hist = []\n",
        "out_loss_standard_hist = []\n",
        "\n",
        "in_acc_standard_hist = []\n",
        "out_acc_standard_hist = []\n",
        "\n",
        "\n",
        "for index, (lr_base, lr_max) in enumerate(lr_to_test):\n",
        "  model = get_new_model()\n",
        "  cyclic_lr = {'base_lr': lr_base, 'max_lr': lr_max}\n",
        "  _, history = train_full_model(model, cyclic_lr)\n",
        "  in_loss_standard_hist.append(history['in_loss'])\n",
        "  out_loss_standard_hist.append(history['out_loss'])\n",
        "  in_acc_standard_hist.append(history['in_acc'])\n",
        "  out_acc_standard_hist.append(history['out_acc'])\n",
        "\n"
      ]
    },
    {
      "cell_type": "code",
      "execution_count": null,
      "metadata": {
        "colab": {
          "background_save": true,
          "base_uri": "https://localhost:8080/"
        },
        "id": "9jOoT1b8dEZq",
        "outputId": "f0adde03-ed34-41b3-eaee-74f2c4710b08"
      },
      "outputs": [
        {
          "name": "stderr",
          "output_type": "stream",
          "text": [
            "Using cache found in /root/.cache/torch/hub/pytorch_vision_v0.10.0\n"
          ]
        },
        {
          "name": "stdout",
          "output_type": "stream",
          "text": [
            "Starting training with decoder...\n"
          ]
        },
        {
          "name": "stderr",
          "output_type": "stream",
          "text": [
            " 20%|██        | 1/5 [00:28<01:54, 28.75s/it]"
          ]
        },
        {
          "name": "stdout",
          "output_type": "stream",
          "text": [
            "Epoch 1, In-sample Loss: 0.0094, In-sample Accuracy: 0.0620\n",
            "Epoch 1, Out-sample Loss: 0.0094, Out-sample Accuracy: 0.1200\n"
          ]
        },
        {
          "name": "stderr",
          "output_type": "stream",
          "text": [
            " 60%|██████    | 3/5 [01:10<00:47, 23.77s/it]"
          ]
        },
        {
          "name": "stdout",
          "output_type": "stream",
          "text": [
            "Epoch 3, In-sample Loss: 0.0045, In-sample Accuracy: 0.1840\n",
            "Epoch 3, Out-sample Loss: 0.0061, Out-sample Accuracy: 0.1400\n"
          ]
        },
        {
          "name": "stderr",
          "output_type": "stream",
          "text": [
            "100%|██████████| 5/5 [01:51<00:00, 22.23s/it]\n"
          ]
        },
        {
          "name": "stdout",
          "output_type": "stream",
          "text": [
            "Epoch 5, In-sample Loss: 0.0035, In-sample Accuracy: 0.2960\n",
            "Epoch 5, Out-sample Loss: 0.0050, Out-sample Accuracy: 0.3000\n",
            "Starting full model training with cyclic LR ...\n"
          ]
        },
        {
          "name": "stderr",
          "output_type": "stream",
          "text": [
            "  5%|▌         | 1/20 [00:29<09:11, 29.01s/it]"
          ]
        },
        {
          "name": "stdout",
          "output_type": "stream",
          "text": [
            "Epoch 1, In-sample Loss: 0.0023, In-sample Accuracy: 0.3710\n",
            "Epoch 1, Out-sample Loss: 0.0042, Out-sample Accuracy: 0.2750\n"
          ]
        },
        {
          "name": "stderr",
          "output_type": "stream",
          "text": [
            " 15%|█▌        | 3/20 [01:12<06:54, 24.39s/it]"
          ]
        },
        {
          "name": "stdout",
          "output_type": "stream",
          "text": [
            "Epoch 3, In-sample Loss: 0.0739, In-sample Accuracy: 0.0000\n",
            "Epoch 3, Out-sample Loss: 0.0586, Out-sample Accuracy: 0.0000\n"
          ]
        },
        {
          "name": "stderr",
          "output_type": "stream",
          "text": [
            " 25%|██▌       | 5/20 [01:53<05:43, 22.88s/it]"
          ]
        },
        {
          "name": "stdout",
          "output_type": "stream",
          "text": [
            "Epoch 5, In-sample Loss: 0.0891, In-sample Accuracy: 0.0000\n",
            "Epoch 5, Out-sample Loss: 0.0840, Out-sample Accuracy: 0.0000\n"
          ]
        },
        {
          "name": "stderr",
          "output_type": "stream",
          "text": [
            " 35%|███▌      | 7/20 [02:37<05:01, 23.16s/it]"
          ]
        },
        {
          "name": "stdout",
          "output_type": "stream",
          "text": [
            "Epoch 7, In-sample Loss: 14.0381, In-sample Accuracy: 0.0000\n",
            "Epoch 7, Out-sample Loss: 11.4814, Out-sample Accuracy: 0.0000\n"
          ]
        },
        {
          "name": "stderr",
          "output_type": "stream",
          "text": [
            " 45%|████▌     | 9/20 [03:18<04:09, 22.69s/it]"
          ]
        },
        {
          "name": "stdout",
          "output_type": "stream",
          "text": [
            "Epoch 9, In-sample Loss: 10.4283, In-sample Accuracy: 0.0000\n",
            "Epoch 9, Out-sample Loss: 9.5754, Out-sample Accuracy: 0.0000\n"
          ]
        },
        {
          "name": "stderr",
          "output_type": "stream",
          "text": [
            " 55%|█████▌    | 11/20 [04:02<03:27, 23.02s/it]"
          ]
        },
        {
          "name": "stdout",
          "output_type": "stream",
          "text": [
            "Epoch 11, In-sample Loss: 62.9241, In-sample Accuracy: 0.0000\n",
            "Epoch 11, Out-sample Loss: 51.1275, Out-sample Accuracy: 0.0000\n"
          ]
        },
        {
          "name": "stderr",
          "output_type": "stream",
          "text": [
            " 65%|██████▌   | 13/20 [04:43<02:38, 22.67s/it]"
          ]
        },
        {
          "name": "stdout",
          "output_type": "stream",
          "text": [
            "Epoch 13, In-sample Loss: 0.1541, In-sample Accuracy: 0.0000\n",
            "Epoch 13, Out-sample Loss: 0.1452, Out-sample Accuracy: 0.0000\n"
          ]
        },
        {
          "name": "stderr",
          "output_type": "stream",
          "text": [
            " 75%|███████▌  | 15/20 [05:27<01:54, 22.83s/it]"
          ]
        },
        {
          "name": "stdout",
          "output_type": "stream",
          "text": [
            "Epoch 15, In-sample Loss: 0.0317, In-sample Accuracy: 0.0000\n",
            "Epoch 15, Out-sample Loss: 0.0313, Out-sample Accuracy: 0.0000\n"
          ]
        },
        {
          "name": "stderr",
          "output_type": "stream",
          "text": [
            " 85%|████████▌ | 17/20 [06:08<01:07, 22.66s/it]"
          ]
        },
        {
          "name": "stdout",
          "output_type": "stream",
          "text": [
            "Epoch 17, In-sample Loss: 0.0090, In-sample Accuracy: 0.0480\n",
            "Epoch 17, Out-sample Loss: 0.0089, Out-sample Accuracy: 0.2100\n"
          ]
        },
        {
          "name": "stderr",
          "output_type": "stream",
          "text": [
            " 95%|█████████▌| 19/20 [06:52<00:22, 22.86s/it]"
          ]
        },
        {
          "name": "stdout",
          "output_type": "stream",
          "text": [
            "Epoch 19, In-sample Loss: 0.0072, In-sample Accuracy: 0.0290\n",
            "Epoch 19, Out-sample Loss: 0.0073, Out-sample Accuracy: 0.1450\n"
          ]
        },
        {
          "name": "stderr",
          "output_type": "stream",
          "text": [
            "100%|██████████| 20/20 [07:04<00:00, 21.21s/it]\n"
          ]
        },
        {
          "name": "stdout",
          "output_type": "stream",
          "text": [
            "Starting full model training with linear LR ...\n",
            "Adjusting learning rate of group 0 to 1.0000e-04.\n"
          ]
        },
        {
          "name": "stderr",
          "output_type": "stream",
          "text": [
            "\r  0%|          | 0/20 [00:00<?, ?it/s]"
          ]
        },
        {
          "name": "stdout",
          "output_type": "stream",
          "text": [
            "Adjusting learning rate of group 0 to 1.0000e-04.\n"
          ]
        },
        {
          "name": "stderr",
          "output_type": "stream",
          "text": [
            "  5%|▌         | 1/20 [00:31<09:51, 31.11s/it]"
          ]
        },
        {
          "name": "stdout",
          "output_type": "stream",
          "text": [
            "Epoch 1, In-sample Loss: 0.0028, In-sample Accuracy: 0.2620\n",
            "Epoch 1, Out-sample Loss: 0.0030, Out-sample Accuracy: 0.5000\n"
          ]
        },
        {
          "name": "stderr",
          "output_type": "stream",
          "text": [
            "\r 10%|█         | 2/20 [00:45<06:25, 21.40s/it]"
          ]
        },
        {
          "name": "stdout",
          "output_type": "stream",
          "text": [
            "Adjusting learning rate of group 0 to 1.0000e-04.\n",
            "Adjusting learning rate of group 0 to 1.0000e-04.\n"
          ]
        },
        {
          "name": "stderr",
          "output_type": "stream",
          "text": [
            " 15%|█▌        | 3/20 [01:15<07:06, 25.09s/it]"
          ]
        },
        {
          "name": "stdout",
          "output_type": "stream",
          "text": [
            "Epoch 3, In-sample Loss: 0.0013, In-sample Accuracy: 0.7670\n",
            "Epoch 3, Out-sample Loss: 0.0015, Out-sample Accuracy: 0.8100\n"
          ]
        },
        {
          "name": "stderr",
          "output_type": "stream",
          "text": [
            "\r 20%|██        | 4/20 [01:28<05:25, 20.35s/it]"
          ]
        },
        {
          "name": "stdout",
          "output_type": "stream",
          "text": [
            "Adjusting learning rate of group 0 to 1.0000e-04.\n",
            "Adjusting learning rate of group 0 to 1.0000e-04.\n"
          ]
        },
        {
          "name": "stderr",
          "output_type": "stream",
          "text": [
            " 25%|██▌       | 5/20 [01:55<05:43, 22.87s/it]"
          ]
        },
        {
          "name": "stdout",
          "output_type": "stream",
          "text": [
            "Epoch 5, In-sample Loss: 0.0006, In-sample Accuracy: 0.9350\n",
            "Epoch 5, Out-sample Loss: 0.0009, Out-sample Accuracy: 0.8800\n"
          ]
        },
        {
          "name": "stderr",
          "output_type": "stream",
          "text": [
            "\r 30%|███       | 6/20 [02:08<04:33, 19.51s/it]"
          ]
        },
        {
          "name": "stdout",
          "output_type": "stream",
          "text": [
            "Adjusting learning rate of group 0 to 1.0000e-04.\n",
            "Adjusting learning rate of group 0 to 1.0000e-04.\n"
          ]
        },
        {
          "name": "stderr",
          "output_type": "stream",
          "text": [
            " 35%|███▌      | 7/20 [02:37<04:54, 22.63s/it]"
          ]
        },
        {
          "name": "stdout",
          "output_type": "stream",
          "text": [
            "Epoch 7, In-sample Loss: 0.0003, In-sample Accuracy: 0.9860\n",
            "Epoch 7, Out-sample Loss: 0.0006, Out-sample Accuracy: 0.9000\n"
          ]
        },
        {
          "name": "stderr",
          "output_type": "stream",
          "text": [
            "\r 40%|████      | 8/20 [02:51<03:56, 19.73s/it]"
          ]
        },
        {
          "name": "stdout",
          "output_type": "stream",
          "text": [
            "Adjusting learning rate of group 0 to 1.0000e-04.\n",
            "Adjusting learning rate of group 0 to 1.0000e-04.\n"
          ]
        },
        {
          "name": "stderr",
          "output_type": "stream",
          "text": [
            " 45%|████▌     | 9/20 [03:20<04:09, 22.72s/it]"
          ]
        },
        {
          "name": "stdout",
          "output_type": "stream",
          "text": [
            "Epoch 9, In-sample Loss: 0.0002, In-sample Accuracy: 0.9940\n",
            "Epoch 9, Out-sample Loss: 0.0005, Out-sample Accuracy: 0.9150\n"
          ]
        },
        {
          "name": "stderr",
          "output_type": "stream",
          "text": [
            "\r 50%|█████     | 10/20 [03:32<03:15, 19.56s/it]"
          ]
        },
        {
          "name": "stdout",
          "output_type": "stream",
          "text": [
            "Adjusting learning rate of group 0 to 1.0000e-04.\n",
            "Adjusting learning rate of group 0 to 1.0000e-04.\n"
          ]
        },
        {
          "name": "stderr",
          "output_type": "stream",
          "text": [
            " 55%|█████▌    | 11/20 [04:00<03:17, 21.98s/it]"
          ]
        },
        {
          "name": "stdout",
          "output_type": "stream",
          "text": [
            "Epoch 11, In-sample Loss: 0.0001, In-sample Accuracy: 0.9990\n",
            "Epoch 11, Out-sample Loss: 0.0004, Out-sample Accuracy: 0.9200\n"
          ]
        },
        {
          "name": "stderr",
          "output_type": "stream",
          "text": [
            "\r 60%|██████    | 12/20 [04:14<02:35, 19.44s/it]"
          ]
        },
        {
          "name": "stdout",
          "output_type": "stream",
          "text": [
            "Adjusting learning rate of group 0 to 1.0000e-04.\n",
            "Adjusting learning rate of group 0 to 1.0000e-04.\n"
          ]
        },
        {
          "name": "stderr",
          "output_type": "stream",
          "text": [
            " 65%|██████▌   | 13/20 [04:43<02:36, 22.38s/it]"
          ]
        },
        {
          "name": "stdout",
          "output_type": "stream",
          "text": [
            "Epoch 13, In-sample Loss: 0.0001, In-sample Accuracy: 0.9980\n",
            "Epoch 13, Out-sample Loss: 0.0004, Out-sample Accuracy: 0.9100\n"
          ]
        },
        {
          "name": "stderr",
          "output_type": "stream",
          "text": [
            "\r 70%|███████   | 14/20 [04:56<01:58, 19.75s/it]"
          ]
        },
        {
          "name": "stdout",
          "output_type": "stream",
          "text": [
            "Adjusting learning rate of group 0 to 1.0000e-04.\n",
            "Adjusting learning rate of group 0 to 1.0000e-04.\n"
          ]
        },
        {
          "name": "stderr",
          "output_type": "stream",
          "text": [
            " 75%|███████▌  | 15/20 [05:25<01:52, 22.52s/it]"
          ]
        },
        {
          "name": "stdout",
          "output_type": "stream",
          "text": [
            "Epoch 15, In-sample Loss: 0.0000, In-sample Accuracy: 0.9980\n",
            "Epoch 15, Out-sample Loss: 0.0004, Out-sample Accuracy: 0.9050\n"
          ]
        },
        {
          "name": "stderr",
          "output_type": "stream",
          "text": [
            "\r 80%|████████  | 16/20 [05:38<01:18, 19.52s/it]"
          ]
        },
        {
          "name": "stdout",
          "output_type": "stream",
          "text": [
            "Adjusting learning rate of group 0 to 1.0000e-04.\n",
            "Adjusting learning rate of group 0 to 1.0000e-04.\n"
          ]
        },
        {
          "name": "stderr",
          "output_type": "stream",
          "text": [
            " 85%|████████▌ | 17/20 [06:05<01:05, 21.91s/it]"
          ]
        },
        {
          "name": "stdout",
          "output_type": "stream",
          "text": [
            "Epoch 17, In-sample Loss: 0.0001, In-sample Accuracy: 0.9990\n",
            "Epoch 17, Out-sample Loss: 0.0004, Out-sample Accuracy: 0.9100\n"
          ]
        },
        {
          "name": "stderr",
          "output_type": "stream",
          "text": [
            "\r 90%|█████████ | 18/20 [06:19<00:38, 19.39s/it]"
          ]
        },
        {
          "name": "stdout",
          "output_type": "stream",
          "text": [
            "Adjusting learning rate of group 0 to 1.0000e-04.\n",
            "Adjusting learning rate of group 0 to 1.0000e-04.\n"
          ]
        },
        {
          "name": "stderr",
          "output_type": "stream",
          "text": [
            " 95%|█████████▌| 19/20 [06:47<00:22, 22.16s/it]"
          ]
        },
        {
          "name": "stdout",
          "output_type": "stream",
          "text": [
            "Epoch 19, In-sample Loss: 0.0001, In-sample Accuracy: 0.9980\n",
            "Epoch 19, Out-sample Loss: 0.0003, Out-sample Accuracy: 0.9200\n"
          ]
        },
        {
          "name": "stderr",
          "output_type": "stream",
          "text": [
            "100%|██████████| 20/20 [07:01<00:00, 21.07s/it]"
          ]
        },
        {
          "name": "stdout",
          "output_type": "stream",
          "text": [
            "Adjusting learning rate of group 0 to 1.0000e-04.\n"
          ]
        },
        {
          "name": "stderr",
          "output_type": "stream",
          "text": [
            "\n",
            "Using cache found in /root/.cache/torch/hub/pytorch_vision_v0.10.0\n"
          ]
        },
        {
          "name": "stdout",
          "output_type": "stream",
          "text": [
            "Starting training with decoder...\n"
          ]
        },
        {
          "name": "stderr",
          "output_type": "stream",
          "text": [
            " 20%|██        | 1/5 [00:27<01:51, 27.90s/it]"
          ]
        },
        {
          "name": "stdout",
          "output_type": "stream",
          "text": [
            "Epoch 1, In-sample Loss: 0.0118, In-sample Accuracy: 0.0080\n",
            "Epoch 1, Out-sample Loss: 0.0133, Out-sample Accuracy: 0.0000\n"
          ]
        },
        {
          "name": "stderr",
          "output_type": "stream",
          "text": [
            " 60%|██████    | 3/5 [01:06<00:44, 22.49s/it]"
          ]
        },
        {
          "name": "stdout",
          "output_type": "stream",
          "text": [
            "Epoch 3, In-sample Loss: 0.0045, In-sample Accuracy: 0.1290\n",
            "Epoch 3, Out-sample Loss: 0.0058, Out-sample Accuracy: 0.1450\n"
          ]
        },
        {
          "name": "stderr",
          "output_type": "stream",
          "text": [
            "100%|██████████| 5/5 [01:48<00:00, 21.80s/it]\n"
          ]
        },
        {
          "name": "stdout",
          "output_type": "stream",
          "text": [
            "Epoch 5, In-sample Loss: 0.0040, In-sample Accuracy: 0.1200\n",
            "Epoch 5, Out-sample Loss: 0.0056, Out-sample Accuracy: 0.1200\n",
            "Starting full model training with cyclic LR ...\n"
          ]
        },
        {
          "name": "stderr",
          "output_type": "stream",
          "text": [
            "  5%|▌         | 1/20 [00:28<09:06, 28.74s/it]"
          ]
        },
        {
          "name": "stdout",
          "output_type": "stream",
          "text": [
            "Epoch 1, In-sample Loss: 0.0024, In-sample Accuracy: 0.3180\n",
            "Epoch 1, Out-sample Loss: 0.0044, Out-sample Accuracy: 0.2700\n"
          ]
        },
        {
          "name": "stderr",
          "output_type": "stream",
          "text": [
            " 15%|█▌        | 3/20 [01:08<06:26, 22.74s/it]"
          ]
        },
        {
          "name": "stdout",
          "output_type": "stream",
          "text": [
            "Epoch 3, In-sample Loss: 21958797006854645631418368.0000, In-sample Accuracy: 0.0000\n",
            "Epoch 3, Out-sample Loss: 23038099658792143289319424.0000, Out-sample Accuracy: 0.0000\n"
          ]
        },
        {
          "name": "stderr",
          "output_type": "stream",
          "text": [
            " 25%|██▌       | 5/20 [01:50<05:38, 22.58s/it]"
          ]
        },
        {
          "name": "stdout",
          "output_type": "stream",
          "text": [
            "Epoch 5, In-sample Loss: 2813661173252.0962, In-sample Accuracy: 0.0000\n",
            "Epoch 5, Out-sample Loss: 3004683056578.5601, Out-sample Accuracy: 0.0000\n"
          ]
        },
        {
          "name": "stderr",
          "output_type": "stream",
          "text": [
            " 35%|███▌      | 7/20 [02:32<04:50, 22.37s/it]"
          ]
        },
        {
          "name": "stdout",
          "output_type": "stream",
          "text": [
            "Epoch 7, In-sample Loss: 30270.4876, In-sample Accuracy: 0.0000\n",
            "Epoch 7, Out-sample Loss: 34184.3842, Out-sample Accuracy: 0.0000\n"
          ]
        },
        {
          "name": "stderr",
          "output_type": "stream",
          "text": [
            " 45%|████▌     | 9/20 [03:11<03:59, 21.79s/it]"
          ]
        },
        {
          "name": "stdout",
          "output_type": "stream",
          "text": [
            "Epoch 9, In-sample Loss: 8.6162, In-sample Accuracy: 0.0000\n",
            "Epoch 9, Out-sample Loss: 8.8391, Out-sample Accuracy: 0.0000\n"
          ]
        },
        {
          "name": "stderr",
          "output_type": "stream",
          "text": [
            " 55%|█████▌    | 11/20 [03:53<03:19, 22.15s/it]"
          ]
        },
        {
          "name": "stdout",
          "output_type": "stream",
          "text": [
            "Epoch 11, In-sample Loss: 0.0788, In-sample Accuracy: 0.0110\n",
            "Epoch 11, Out-sample Loss: 0.0803, Out-sample Accuracy: 0.0200\n"
          ]
        },
        {
          "name": "stderr",
          "output_type": "stream",
          "text": [
            " 65%|██████▌   | 13/20 [04:35<02:33, 21.99s/it]"
          ]
        },
        {
          "name": "stdout",
          "output_type": "stream",
          "text": [
            "Epoch 13, In-sample Loss: 0.0033, In-sample Accuracy: 0.3280\n",
            "Epoch 13, Out-sample Loss: 0.0043, Out-sample Accuracy: 0.3450\n"
          ]
        },
        {
          "name": "stderr",
          "output_type": "stream",
          "text": [
            " 75%|███████▌  | 15/20 [05:15<01:49, 21.94s/it]"
          ]
        },
        {
          "name": "stdout",
          "output_type": "stream",
          "text": [
            "Epoch 15, In-sample Loss: 0.0069, In-sample Accuracy: 0.0320\n",
            "Epoch 15, Out-sample Loss: 0.0080, Out-sample Accuracy: 0.0700\n"
          ]
        },
        {
          "name": "stderr",
          "output_type": "stream",
          "text": [
            " 85%|████████▌ | 17/20 [05:57<01:06, 22.19s/it]"
          ]
        },
        {
          "name": "stdout",
          "output_type": "stream",
          "text": [
            "Epoch 17, In-sample Loss: 6.1039, In-sample Accuracy: 0.0000\n",
            "Epoch 17, Out-sample Loss: 6.1625, Out-sample Accuracy: 0.0000\n"
          ]
        },
        {
          "name": "stderr",
          "output_type": "stream",
          "text": [
            " 95%|█████████▌| 19/20 [06:38<00:21, 21.90s/it]"
          ]
        },
        {
          "name": "stdout",
          "output_type": "stream",
          "text": [
            "Epoch 19, In-sample Loss: 2.5784, In-sample Accuracy: 0.0000\n",
            "Epoch 19, Out-sample Loss: 2.6007, Out-sample Accuracy: 0.0000\n"
          ]
        },
        {
          "name": "stderr",
          "output_type": "stream",
          "text": [
            "100%|██████████| 20/20 [06:50<00:00, 20.54s/it]\n"
          ]
        },
        {
          "name": "stdout",
          "output_type": "stream",
          "text": [
            "Starting full model training with linear LR ...\n",
            "Adjusting learning rate of group 0 to 1.0000e-04.\n"
          ]
        },
        {
          "name": "stderr",
          "output_type": "stream",
          "text": [
            "\r  0%|          | 0/20 [00:00<?, ?it/s]"
          ]
        },
        {
          "name": "stdout",
          "output_type": "stream",
          "text": [
            "Adjusting learning rate of group 0 to 1.0000e-04.\n"
          ]
        },
        {
          "name": "stderr",
          "output_type": "stream",
          "text": [
            "  5%|▌         | 1/20 [00:29<09:14, 29.18s/it]"
          ]
        },
        {
          "name": "stdout",
          "output_type": "stream",
          "text": [
            "Epoch 1, In-sample Loss: 0.9198, In-sample Accuracy: 0.0000\n",
            "Epoch 1, Out-sample Loss: 0.9292, Out-sample Accuracy: 0.0000\n"
          ]
        },
        {
          "name": "stderr",
          "output_type": "stream",
          "text": [
            "\r 10%|█         | 2/20 [00:42<05:57, 19.88s/it]"
          ]
        },
        {
          "name": "stdout",
          "output_type": "stream",
          "text": [
            "Adjusting learning rate of group 0 to 1.0000e-04.\n",
            "Adjusting learning rate of group 0 to 1.0000e-04.\n"
          ]
        },
        {
          "name": "stderr",
          "output_type": "stream",
          "text": [
            " 15%|█▌        | 3/20 [01:11<06:47, 23.97s/it]"
          ]
        },
        {
          "name": "stdout",
          "output_type": "stream",
          "text": [
            "Epoch 3, In-sample Loss: 0.0667, In-sample Accuracy: 0.0000\n",
            "Epoch 3, Out-sample Loss: 0.0704, Out-sample Accuracy: 0.0000\n"
          ]
        },
        {
          "name": "stderr",
          "output_type": "stream",
          "text": [
            "\r 20%|██        | 4/20 [01:24<05:16, 19.75s/it]"
          ]
        },
        {
          "name": "stdout",
          "output_type": "stream",
          "text": [
            "Adjusting learning rate of group 0 to 1.0000e-04.\n",
            "Adjusting learning rate of group 0 to 1.0000e-04.\n"
          ]
        },
        {
          "name": "stderr",
          "output_type": "stream",
          "text": [
            " 25%|██▌       | 5/20 [01:51<05:35, 22.34s/it]"
          ]
        },
        {
          "name": "stdout",
          "output_type": "stream",
          "text": [
            "Epoch 5, In-sample Loss: 0.0129, In-sample Accuracy: 0.0000\n",
            "Epoch 5, Out-sample Loss: 0.0148, Out-sample Accuracy: 0.0050\n"
          ]
        },
        {
          "name": "stderr",
          "output_type": "stream",
          "text": [
            "\r 30%|███       | 6/20 [02:03<04:24, 18.92s/it]"
          ]
        },
        {
          "name": "stdout",
          "output_type": "stream",
          "text": [
            "Adjusting learning rate of group 0 to 1.0000e-04.\n",
            "Adjusting learning rate of group 0 to 1.0000e-04.\n"
          ]
        },
        {
          "name": "stderr",
          "output_type": "stream",
          "text": [
            " 35%|███▌      | 7/20 [02:32<04:47, 22.14s/it]"
          ]
        },
        {
          "name": "stdout",
          "output_type": "stream",
          "text": [
            "Epoch 7, In-sample Loss: 0.0061, In-sample Accuracy: 0.0430\n",
            "Epoch 7, Out-sample Loss: 0.0085, Out-sample Accuracy: 0.0600\n"
          ]
        },
        {
          "name": "stderr",
          "output_type": "stream",
          "text": [
            "\r 40%|████      | 8/20 [02:46<03:52, 19.36s/it]"
          ]
        },
        {
          "name": "stdout",
          "output_type": "stream",
          "text": [
            "Adjusting learning rate of group 0 to 1.0000e-04.\n",
            "Adjusting learning rate of group 0 to 1.0000e-04.\n"
          ]
        },
        {
          "name": "stderr",
          "output_type": "stream",
          "text": [
            " 45%|████▌     | 9/20 [03:14<04:04, 22.24s/it]"
          ]
        },
        {
          "name": "stdout",
          "output_type": "stream",
          "text": [
            "Epoch 9, In-sample Loss: 0.0044, In-sample Accuracy: 0.1680\n",
            "Epoch 9, Out-sample Loss: 0.0069, Out-sample Accuracy: 0.0950\n"
          ]
        },
        {
          "name": "stderr",
          "output_type": "stream",
          "text": [
            "\r 50%|█████     | 10/20 [03:27<03:12, 19.28s/it]"
          ]
        },
        {
          "name": "stdout",
          "output_type": "stream",
          "text": [
            "Adjusting learning rate of group 0 to 1.0000e-04.\n",
            "Adjusting learning rate of group 0 to 1.0000e-04.\n"
          ]
        },
        {
          "name": "stderr",
          "output_type": "stream",
          "text": [
            " 55%|█████▌    | 11/20 [03:53<03:13, 21.48s/it]"
          ]
        },
        {
          "name": "stdout",
          "output_type": "stream",
          "text": [
            "Epoch 11, In-sample Loss: 0.0038, In-sample Accuracy: 0.2080\n",
            "Epoch 11, Out-sample Loss: 0.0061, Out-sample Accuracy: 0.0800\n"
          ]
        },
        {
          "name": "stderr",
          "output_type": "stream",
          "text": [
            "\r 60%|██████    | 12/20 [04:06<02:31, 18.92s/it]"
          ]
        },
        {
          "name": "stdout",
          "output_type": "stream",
          "text": [
            "Adjusting learning rate of group 0 to 1.0000e-04.\n",
            "Adjusting learning rate of group 0 to 1.0000e-04.\n"
          ]
        },
        {
          "name": "stderr",
          "output_type": "stream",
          "text": [
            " 65%|██████▌   | 13/20 [04:35<02:33, 21.87s/it]"
          ]
        },
        {
          "name": "stdout",
          "output_type": "stream",
          "text": [
            "Epoch 13, In-sample Loss: 0.0031, In-sample Accuracy: 0.2630\n",
            "Epoch 13, Out-sample Loss: 0.0051, Out-sample Accuracy: 0.1650\n"
          ]
        },
        {
          "name": "stderr",
          "output_type": "stream",
          "text": [
            "\r 70%|███████   | 14/20 [04:48<01:55, 19.28s/it]"
          ]
        },
        {
          "name": "stdout",
          "output_type": "stream",
          "text": [
            "Adjusting learning rate of group 0 to 1.0000e-04.\n",
            "Adjusting learning rate of group 0 to 1.0000e-04.\n"
          ]
        },
        {
          "name": "stderr",
          "output_type": "stream",
          "text": [
            " 75%|███████▌  | 15/20 [05:17<01:50, 22.07s/it]"
          ]
        },
        {
          "name": "stdout",
          "output_type": "stream",
          "text": [
            "Epoch 15, In-sample Loss: 0.0030, In-sample Accuracy: 0.2700\n",
            "Epoch 15, Out-sample Loss: 0.0048, Out-sample Accuracy: 0.1700\n"
          ]
        },
        {
          "name": "stderr",
          "output_type": "stream",
          "text": [
            "\r 80%|████████  | 16/20 [05:29<01:16, 19.12s/it]"
          ]
        },
        {
          "name": "stdout",
          "output_type": "stream",
          "text": [
            "Adjusting learning rate of group 0 to 1.0000e-04.\n",
            "Adjusting learning rate of group 0 to 1.0000e-04.\n"
          ]
        },
        {
          "name": "stderr",
          "output_type": "stream",
          "text": [
            " 85%|████████▌ | 17/20 [05:56<01:04, 21.53s/it]"
          ]
        },
        {
          "name": "stdout",
          "output_type": "stream",
          "text": [
            "Epoch 17, In-sample Loss: 0.0025, In-sample Accuracy: 0.3260\n",
            "Epoch 17, Out-sample Loss: 0.0041, Out-sample Accuracy: 0.2200\n"
          ]
        },
        {
          "name": "stderr",
          "output_type": "stream",
          "text": [
            "\r 90%|█████████ | 18/20 [06:10<00:38, 19.08s/it]"
          ]
        },
        {
          "name": "stdout",
          "output_type": "stream",
          "text": [
            "Adjusting learning rate of group 0 to 1.0000e-04.\n",
            "Adjusting learning rate of group 0 to 1.0000e-04.\n"
          ]
        },
        {
          "name": "stderr",
          "output_type": "stream",
          "text": [
            " 95%|█████████▌| 19/20 [06:38<00:22, 22.01s/it]"
          ]
        },
        {
          "name": "stdout",
          "output_type": "stream",
          "text": [
            "Epoch 19, In-sample Loss: 0.0023, In-sample Accuracy: 0.3500\n",
            "Epoch 19, Out-sample Loss: 0.0039, Out-sample Accuracy: 0.2500\n"
          ]
        },
        {
          "name": "stderr",
          "output_type": "stream",
          "text": [
            "100%|██████████| 20/20 [06:52<00:00, 20.62s/it]\n",
            "Using cache found in /root/.cache/torch/hub/pytorch_vision_v0.10.0\n"
          ]
        },
        {
          "name": "stdout",
          "output_type": "stream",
          "text": [
            "Adjusting learning rate of group 0 to 1.0000e-04.\n",
            "Starting training with decoder...\n"
          ]
        },
        {
          "name": "stderr",
          "output_type": "stream",
          "text": [
            " 20%|██        | 1/5 [00:27<01:51, 27.78s/it]"
          ]
        },
        {
          "name": "stdout",
          "output_type": "stream",
          "text": [
            "Epoch 1, In-sample Loss: 0.0106, In-sample Accuracy: 0.0340\n",
            "Epoch 1, Out-sample Loss: 0.0115, Out-sample Accuracy: 0.0800\n"
          ]
        },
        {
          "name": "stderr",
          "output_type": "stream",
          "text": [
            " 60%|██████    | 3/5 [01:06<00:44, 22.46s/it]"
          ]
        },
        {
          "name": "stdout",
          "output_type": "stream",
          "text": [
            "Epoch 3, In-sample Loss: 0.0046, In-sample Accuracy: 0.1670\n",
            "Epoch 3, Out-sample Loss: 0.0058, Out-sample Accuracy: 0.2350\n"
          ]
        },
        {
          "name": "stderr",
          "output_type": "stream",
          "text": [
            "100%|██████████| 5/5 [01:47<00:00, 21.60s/it]\n"
          ]
        },
        {
          "name": "stdout",
          "output_type": "stream",
          "text": [
            "Epoch 5, In-sample Loss: 0.0039, In-sample Accuracy: 0.2770\n",
            "Epoch 5, Out-sample Loss: 0.0052, Out-sample Accuracy: 0.2900\n",
            "Starting full model training with cyclic LR ...\n"
          ]
        },
        {
          "name": "stderr",
          "output_type": "stream",
          "text": [
            "  5%|▌         | 1/20 [00:28<09:01, 28.50s/it]"
          ]
        },
        {
          "name": "stdout",
          "output_type": "stream",
          "text": [
            "Epoch 1, In-sample Loss: 0.0045, In-sample Accuracy: 0.2120\n",
            "Epoch 1, Out-sample Loss: 0.0054, Out-sample Accuracy: 0.2100\n"
          ]
        },
        {
          "name": "stderr",
          "output_type": "stream",
          "text": [
            " 15%|█▌        | 3/20 [01:07<06:25, 22.68s/it]"
          ]
        },
        {
          "name": "stdout",
          "output_type": "stream",
          "text": [
            "Epoch 3, In-sample Loss: 0.0389, In-sample Accuracy: 0.0000\n",
            "Epoch 3, Out-sample Loss: 0.0368, Out-sample Accuracy: 0.0000\n"
          ]
        },
        {
          "name": "stderr",
          "output_type": "stream",
          "text": [
            " 25%|██▌       | 5/20 [01:49<05:37, 22.49s/it]"
          ]
        },
        {
          "name": "stdout",
          "output_type": "stream",
          "text": [
            "Epoch 5, In-sample Loss: 0.2499, In-sample Accuracy: 0.0000\n",
            "Epoch 5, Out-sample Loss: 0.2253, Out-sample Accuracy: 0.0000\n"
          ]
        },
        {
          "name": "stderr",
          "output_type": "stream",
          "text": [
            " 35%|███▌      | 7/20 [02:31<04:48, 22.20s/it]"
          ]
        },
        {
          "name": "stdout",
          "output_type": "stream",
          "text": [
            "Epoch 7, In-sample Loss: 0.0131, In-sample Accuracy: 0.0000\n",
            "Epoch 7, Out-sample Loss: 0.0123, Out-sample Accuracy: 0.0000\n"
          ]
        },
        {
          "name": "stderr",
          "output_type": "stream",
          "text": [
            " 45%|████▌     | 9/20 [03:10<03:58, 21.72s/it]"
          ]
        },
        {
          "name": "stdout",
          "output_type": "stream",
          "text": [
            "Epoch 9, In-sample Loss: 0.0523, In-sample Accuracy: 0.0000\n",
            "Epoch 9, Out-sample Loss: 0.0496, Out-sample Accuracy: 0.0000\n"
          ]
        },
        {
          "name": "stderr",
          "output_type": "stream",
          "text": [
            " 55%|█████▌    | 11/20 [03:52<03:17, 22.00s/it]"
          ]
        },
        {
          "name": "stdout",
          "output_type": "stream",
          "text": [
            "Epoch 11, In-sample Loss: 0.0146, In-sample Accuracy: 0.0000\n",
            "Epoch 11, Out-sample Loss: 0.0140, Out-sample Accuracy: 0.0000\n"
          ]
        },
        {
          "name": "stderr",
          "output_type": "stream",
          "text": [
            " 65%|██████▌   | 13/20 [04:33<02:32, 21.78s/it]"
          ]
        },
        {
          "name": "stdout",
          "output_type": "stream",
          "text": [
            "Epoch 13, In-sample Loss: 0.0076, In-sample Accuracy: 0.0000\n",
            "Epoch 13, Out-sample Loss: 0.0078, Out-sample Accuracy: 0.0050\n"
          ]
        },
        {
          "name": "stderr",
          "output_type": "stream",
          "text": [
            " 75%|███████▌  | 15/20 [05:13<01:48, 21.78s/it]"
          ]
        },
        {
          "name": "stdout",
          "output_type": "stream",
          "text": [
            "Epoch 15, In-sample Loss: 0.0080, In-sample Accuracy: 0.0000\n",
            "Epoch 15, Out-sample Loss: 0.0083, Out-sample Accuracy: 0.0000\n"
          ]
        },
        {
          "name": "stderr",
          "output_type": "stream",
          "text": [
            " 85%|████████▌ | 17/20 [05:55<01:06, 22.03s/it]"
          ]
        },
        {
          "name": "stdout",
          "output_type": "stream",
          "text": [
            "Epoch 17, In-sample Loss: 0.0108, In-sample Accuracy: 0.0000\n",
            "Epoch 17, Out-sample Loss: 0.0106, Out-sample Accuracy: 0.0000\n"
          ]
        },
        {
          "name": "stderr",
          "output_type": "stream",
          "text": [
            " 95%|█████████▌| 19/20 [06:35<00:21, 21.58s/it]"
          ]
        },
        {
          "name": "stdout",
          "output_type": "stream",
          "text": [
            "Epoch 19, In-sample Loss: 0.0071, In-sample Accuracy: 0.0000\n",
            "Epoch 19, Out-sample Loss: 0.0075, Out-sample Accuracy: 0.0000\n"
          ]
        },
        {
          "name": "stderr",
          "output_type": "stream",
          "text": [
            "100%|██████████| 20/20 [06:48<00:00, 20.42s/it]\n"
          ]
        },
        {
          "name": "stdout",
          "output_type": "stream",
          "text": [
            "Starting full model training with linear LR ...\n",
            "Adjusting learning rate of group 0 to 1.0000e-03.\n"
          ]
        },
        {
          "name": "stderr",
          "output_type": "stream",
          "text": [
            "\r  0%|          | 0/20 [00:00<?, ?it/s]"
          ]
        },
        {
          "name": "stdout",
          "output_type": "stream",
          "text": [
            "Adjusting learning rate of group 0 to 1.0000e-03.\n"
          ]
        },
        {
          "name": "stderr",
          "output_type": "stream",
          "text": [
            "  5%|▌         | 1/20 [00:29<09:13, 29.15s/it]"
          ]
        },
        {
          "name": "stdout",
          "output_type": "stream",
          "text": [
            "Epoch 1, In-sample Loss: 0.0029, In-sample Accuracy: 0.0040\n",
            "Epoch 1, Out-sample Loss: 0.0033, Out-sample Accuracy: 0.0450\n"
          ]
        },
        {
          "name": "stderr",
          "output_type": "stream",
          "text": [
            "\r 10%|█         | 2/20 [00:42<05:57, 19.85s/it]"
          ]
        },
        {
          "name": "stdout",
          "output_type": "stream",
          "text": [
            "Adjusting learning rate of group 0 to 1.0000e-03.\n",
            "Adjusting learning rate of group 0 to 1.0000e-03.\n"
          ]
        },
        {
          "name": "stderr",
          "output_type": "stream",
          "text": [
            " 15%|█▌        | 3/20 [01:10<06:42, 23.70s/it]"
          ]
        },
        {
          "name": "stdout",
          "output_type": "stream",
          "text": [
            "Epoch 3, In-sample Loss: 0.0025, In-sample Accuracy: 0.0000\n",
            "Epoch 3, Out-sample Loss: 0.0028, Out-sample Accuracy: 0.0000\n"
          ]
        },
        {
          "name": "stderr",
          "output_type": "stream",
          "text": [
            "\r 20%|██        | 4/20 [01:22<05:05, 19.08s/it]"
          ]
        },
        {
          "name": "stdout",
          "output_type": "stream",
          "text": [
            "Adjusting learning rate of group 0 to 1.0000e-03.\n",
            "Adjusting learning rate of group 0 to 1.0000e-03.\n"
          ]
        },
        {
          "name": "stderr",
          "output_type": "stream",
          "text": [
            " 25%|██▌       | 5/20 [01:50<05:30, 22.04s/it]"
          ]
        },
        {
          "name": "stdout",
          "output_type": "stream",
          "text": [
            "Epoch 5, In-sample Loss: 0.0022, In-sample Accuracy: 0.0000\n",
            "Epoch 5, Out-sample Loss: 0.0024, Out-sample Accuracy: 0.0500\n"
          ]
        },
        {
          "name": "stderr",
          "output_type": "stream",
          "text": [
            "\r 30%|███       | 6/20 [02:03<04:26, 19.05s/it]"
          ]
        },
        {
          "name": "stdout",
          "output_type": "stream",
          "text": [
            "Adjusting learning rate of group 0 to 1.0000e-03.\n",
            "Adjusting learning rate of group 0 to 1.0000e-03.\n"
          ]
        },
        {
          "name": "stderr",
          "output_type": "stream",
          "text": [
            " 35%|███▌      | 7/20 [02:31<04:47, 22.15s/it]"
          ]
        },
        {
          "name": "stdout",
          "output_type": "stream",
          "text": [
            "Epoch 7, In-sample Loss: 0.0007, In-sample Accuracy: 0.8030\n",
            "Epoch 7, Out-sample Loss: 0.0010, Out-sample Accuracy: 0.8350\n"
          ]
        },
        {
          "name": "stderr",
          "output_type": "stream",
          "text": [
            "\r 40%|████      | 8/20 [02:45<03:52, 19.33s/it]"
          ]
        },
        {
          "name": "stdout",
          "output_type": "stream",
          "text": [
            "Adjusting learning rate of group 0 to 1.0000e-03.\n",
            "Adjusting learning rate of group 0 to 1.0000e-03.\n"
          ]
        },
        {
          "name": "stderr",
          "output_type": "stream",
          "text": [
            " 45%|████▌     | 9/20 [03:13<04:02, 22.05s/it]"
          ]
        },
        {
          "name": "stdout",
          "output_type": "stream",
          "text": [
            "Epoch 9, In-sample Loss: 0.0006, In-sample Accuracy: 0.7920\n",
            "Epoch 9, Out-sample Loss: 0.0009, Out-sample Accuracy: 0.8150\n"
          ]
        },
        {
          "name": "stderr",
          "output_type": "stream",
          "text": [
            "\r 50%|█████     | 10/20 [03:24<03:06, 18.66s/it]"
          ]
        },
        {
          "name": "stdout",
          "output_type": "stream",
          "text": [
            "Adjusting learning rate of group 0 to 1.0000e-03.\n",
            "Adjusting learning rate of group 0 to 1.0000e-03.\n"
          ]
        },
        {
          "name": "stderr",
          "output_type": "stream",
          "text": [
            " 55%|█████▌    | 11/20 [03:52<03:14, 21.64s/it]"
          ]
        },
        {
          "name": "stdout",
          "output_type": "stream",
          "text": [
            "Epoch 11, In-sample Loss: 0.0003, In-sample Accuracy: 0.9910\n",
            "Epoch 11, Out-sample Loss: 0.0006, Out-sample Accuracy: 0.8600\n"
          ]
        },
        {
          "name": "stderr",
          "output_type": "stream",
          "text": [
            "\r 60%|██████    | 12/20 [04:06<02:33, 19.15s/it]"
          ]
        },
        {
          "name": "stdout",
          "output_type": "stream",
          "text": [
            "Adjusting learning rate of group 0 to 1.0000e-03.\n",
            "Adjusting learning rate of group 0 to 1.0000e-03.\n"
          ]
        },
        {
          "name": "stderr",
          "output_type": "stream",
          "text": [
            " 65%|██████▌   | 13/20 [04:34<02:34, 22.08s/it]"
          ]
        },
        {
          "name": "stdout",
          "output_type": "stream",
          "text": [
            "Epoch 13, In-sample Loss: 0.0004, In-sample Accuracy: 0.5980\n",
            "Epoch 13, Out-sample Loss: 0.0006, Out-sample Accuracy: 0.7750\n"
          ]
        },
        {
          "name": "stderr",
          "output_type": "stream",
          "text": [
            "\r 70%|███████   | 14/20 [04:48<01:56, 19.44s/it]"
          ]
        },
        {
          "name": "stdout",
          "output_type": "stream",
          "text": [
            "Adjusting learning rate of group 0 to 1.0000e-03.\n",
            "Adjusting learning rate of group 0 to 1.0000e-03.\n"
          ]
        },
        {
          "name": "stderr",
          "output_type": "stream",
          "text": [
            " 75%|███████▌  | 15/20 [05:15<01:49, 21.93s/it]"
          ]
        },
        {
          "name": "stdout",
          "output_type": "stream",
          "text": [
            "Epoch 15, In-sample Loss: 0.0002, In-sample Accuracy: 0.9460\n",
            "Epoch 15, Out-sample Loss: 0.0005, Out-sample Accuracy: 0.8650\n"
          ]
        },
        {
          "name": "stderr",
          "output_type": "stream",
          "text": [
            "\r 80%|████████  | 16/20 [05:27<01:15, 18.83s/it]"
          ]
        },
        {
          "name": "stdout",
          "output_type": "stream",
          "text": [
            "Adjusting learning rate of group 0 to 1.0000e-03.\n",
            "Adjusting learning rate of group 0 to 1.0000e-03.\n"
          ]
        },
        {
          "name": "stderr",
          "output_type": "stream",
          "text": [
            " 85%|████████▌ | 17/20 [05:56<01:05, 21.80s/it]"
          ]
        },
        {
          "name": "stdout",
          "output_type": "stream",
          "text": [
            "Epoch 17, In-sample Loss: 0.0005, In-sample Accuracy: 0.8770\n",
            "Epoch 17, Out-sample Loss: 0.0008, Out-sample Accuracy: 0.8900\n"
          ]
        },
        {
          "name": "stderr",
          "output_type": "stream",
          "text": [
            "\r 90%|█████████ | 18/20 [06:09<00:38, 19.24s/it]"
          ]
        },
        {
          "name": "stdout",
          "output_type": "stream",
          "text": [
            "Adjusting learning rate of group 0 to 1.0000e-03.\n",
            "Adjusting learning rate of group 0 to 1.0000e-03.\n"
          ]
        },
        {
          "name": "stderr",
          "output_type": "stream",
          "text": [
            " 95%|█████████▌| 19/20 [06:38<00:22, 22.10s/it]"
          ]
        },
        {
          "name": "stdout",
          "output_type": "stream",
          "text": [
            "Epoch 19, In-sample Loss: 0.0004, In-sample Accuracy: 0.8140\n",
            "Epoch 19, Out-sample Loss: 0.0006, Out-sample Accuracy: 0.8650\n"
          ]
        },
        {
          "name": "stderr",
          "output_type": "stream",
          "text": [
            "100%|██████████| 20/20 [06:51<00:00, 20.57s/it]"
          ]
        },
        {
          "name": "stdout",
          "output_type": "stream",
          "text": [
            "Adjusting learning rate of group 0 to 1.0000e-03.\n"
          ]
        },
        {
          "name": "stderr",
          "output_type": "stream",
          "text": [
            "\n"
          ]
        }
      ],
      "source": [
        "# Now with normalized labels\n",
        "\n",
        "# Define new dataloaders:\n",
        "\n",
        "# Training\n",
        "train_dataset = LabelFpsDataLoader(TRAIN_PATH, (224, 224), normalize_labels=True)\n",
        "train_loader = DataLoader(train_dataset, batch_size=TRAIN_BATCH_SIZE, shuffle=True, num_workers=2)\n",
        "\n",
        "# Validation\n",
        "val_dataset = LabelFpsDataLoader(VAL_PATH, (224, 224), normalize_labels=True)\n",
        "val_loader = DataLoader(val_dataset, batch_size=VAL_BATCH_SIZE, shuffle=True, num_workers=2)\n",
        "\n",
        "# Test\n",
        "test_dataset = LabelFpsDataLoader(TEST_PATH, (224, 224), normalize_labels=True)\n",
        "test_loader = DataLoader(test_dataset, batch_size=TEST_BATCH_SIZE, shuffle=True, num_workers=2)\n",
        "\n",
        "\n",
        "\n",
        "# Use subsets for faster iterations during development\n",
        "if USE_SUBSET:\n",
        "    # Training\n",
        "    train_dataset = Subset(train_dataset, indices=range(SUBSET_INDICES))\n",
        "    train_loader = DataLoader(train_dataset, batch_size=TRAIN_BATCH_SIZE, shuffle=True, num_workers=2, pin_memory=True)\n",
        "    # Validation\n",
        "    val_dataset = Subset(val_dataset, indices=range(SUBSET_VAL_INDICES))\n",
        "    val_loader = DataLoader(val_dataset, batch_size=VAL_BATCH_SIZE, shuffle=True, num_workers=2)\n",
        "    # Test\n",
        "    test_dataset = Subset(test_dataset, indices=range(SUBSET_TEST_INDICES))\n",
        "    test_loader = DataLoader(test_dataset, batch_size=TEST_BATCH_SIZE, shuffle=True, num_workers=2)\n",
        "\n",
        "in_loss_normalized_hist = []\n",
        "out_loss_normalized_hist = []\n",
        "\n",
        "in_acc_normalized_hist = []\n",
        "out_acc_normalized_hist = []\n",
        "\n",
        "\n",
        "for index, (lr_base, lr_max) in enumerate(lr_to_test):\n",
        "  model = get_new_model()\n",
        "  cyclic_lr = {'base_lr': lr_base, 'max_lr': lr_max}\n",
        "  _, history = train_full_model(model, cyclic_lr)\n",
        "  in_loss_normalized_hist.append(history['in_loss'])\n",
        "  out_loss_normalized_hist.append(history['out_loss'])\n",
        "  in_acc_normalized_hist.append(history['in_acc'])\n",
        "  out_acc_normalized_hist.append(history['out_acc'])"
      ]
    },
    {
      "cell_type": "code",
      "execution_count": null,
      "metadata": {
        "colab": {
          "base_uri": "https://localhost:8080/",
          "height": 773
        },
        "id": "X76BK66DxfHk",
        "outputId": "a79cce99-5956-4fc6-f6f9-f5d0a4c4b420"
      },
      "outputs": [
        {
          "ename": "IndexError",
          "evalue": "ignored",
          "output_type": "error",
          "traceback": [
            "\u001b[0;31m---------------------------------------------------------------------------\u001b[0m",
            "\u001b[0;31mIndexError\u001b[0m                                Traceback (most recent call last)",
            "\u001b[0;32m<ipython-input-55-12b36a95544c>\u001b[0m in \u001b[0;36m<cell line: 7>\u001b[0;34m()\u001b[0m\n\u001b[1;32m     17\u001b[0m     \u001b[0;31m# Plot for normalized\u001b[0m\u001b[0;34m\u001b[0m\u001b[0;34m\u001b[0m\u001b[0m\n\u001b[1;32m     18\u001b[0m     \u001b[0mplt\u001b[0m\u001b[0;34m.\u001b[0m\u001b[0msubplot\u001b[0m\u001b[0;34m(\u001b[0m\u001b[0;36m2\u001b[0m\u001b[0;34m,\u001b[0m \u001b[0mlen\u001b[0m\u001b[0;34m(\u001b[0m\u001b[0mlr_to_test\u001b[0m\u001b[0;34m)\u001b[0m\u001b[0;34m,\u001b[0m \u001b[0mlen\u001b[0m\u001b[0;34m(\u001b[0m\u001b[0mlr_to_test\u001b[0m\u001b[0;34m)\u001b[0m \u001b[0;34m+\u001b[0m \u001b[0mi\u001b[0m \u001b[0;34m+\u001b[0m \u001b[0;36m1\u001b[0m\u001b[0;34m)\u001b[0m\u001b[0;34m\u001b[0m\u001b[0;34m\u001b[0m\u001b[0m\n\u001b[0;32m---> 19\u001b[0;31m     \u001b[0mplt\u001b[0m\u001b[0;34m.\u001b[0m\u001b[0mplot\u001b[0m\u001b[0;34m(\u001b[0m\u001b[0meval_epochs\u001b[0m\u001b[0;34m,\u001b[0m \u001b[0min_loss_normalized_hist\u001b[0m\u001b[0;34m[\u001b[0m\u001b[0mi\u001b[0m\u001b[0;34m]\u001b[0m\u001b[0;34m,\u001b[0m \u001b[0;34m'b'\u001b[0m\u001b[0;34m,\u001b[0m \u001b[0mlabel\u001b[0m\u001b[0;34m=\u001b[0m\u001b[0;34m'In Loss'\u001b[0m\u001b[0;34m)\u001b[0m\u001b[0;34m\u001b[0m\u001b[0;34m\u001b[0m\u001b[0m\n\u001b[0m\u001b[1;32m     20\u001b[0m     \u001b[0mplt\u001b[0m\u001b[0;34m.\u001b[0m\u001b[0mplot\u001b[0m\u001b[0;34m(\u001b[0m\u001b[0meval_epochs\u001b[0m\u001b[0;34m,\u001b[0m \u001b[0mout_loss_normalized_hist\u001b[0m\u001b[0;34m[\u001b[0m\u001b[0mi\u001b[0m\u001b[0;34m]\u001b[0m\u001b[0;34m,\u001b[0m \u001b[0;34m'r'\u001b[0m\u001b[0;34m,\u001b[0m \u001b[0mlabel\u001b[0m\u001b[0;34m=\u001b[0m\u001b[0;34m'Out Loss'\u001b[0m\u001b[0;34m)\u001b[0m\u001b[0;34m\u001b[0m\u001b[0;34m\u001b[0m\u001b[0m\n\u001b[1;32m     21\u001b[0m     \u001b[0mplt\u001b[0m\u001b[0;34m.\u001b[0m\u001b[0mtitle\u001b[0m\u001b[0;34m(\u001b[0m\u001b[0;34mf'Loss with lr {lr_base} to {lr_max} (normalized)'\u001b[0m\u001b[0;34m)\u001b[0m\u001b[0;34m\u001b[0m\u001b[0;34m\u001b[0m\u001b[0m\n",
            "\u001b[0;31mIndexError\u001b[0m: list index out of range"
          ]
        },
        {
          "data": {
            "image/png": "[encoded data removed]",
            "text/plain": [
              "<Figure size 1200x600 with 2 Axes>"
            ]
          },
          "metadata": {},
          "output_type": "display_data"
        }
      ],
      "source": [
        "import matplotlib.pyplot as plt\n",
        "import numpy as np\n",
        "\n",
        "eval_epochs = range(1, len(in_loss_standard_hist[0]) + 1)\n",
        "\n",
        "plt.figure(figsize=(12, 6))\n",
        "for i, (lr_base, lr_max) in enumerate(lr_to_test):\n",
        "    # Plot for standard\n",
        "    plt.subplot(2, len(lr_to_test), i + 1)\n",
        "    plt.plot(eval_epochs, in_loss_standard_hist[i], 'b', label='In Loss')\n",
        "    plt.plot(eval_epochs, out_loss_standard_hist[i], 'r', label='Out Loss')\n",
        "    plt.title(f'Loss with lr {lr_base} to {lr_max} (standard)')\n",
        "    plt.xlabel('Epochs with evaluations')\n",
        "    plt.ylabel('Loss')\n",
        "    plt.legend()\n",
        "\n",
        "    # Plot for normalized\n",
        "    plt.subplot(2, len(lr_to_test), len(lr_to_test) + i + 1)\n",
        "    plt.plot(eval_epochs, in_loss_normalized_hist[i], 'b', label='In Loss')\n",
        "    plt.plot(eval_epochs, out_loss_normalized_hist[i], 'r', label='Out Loss')\n",
        "    plt.title(f'Loss with lr {lr_base} to {lr_max} (normalized)')\n",
        "    plt.xlabel('Epochs with evaluations')\n",
        "    plt.ylabel('Loss')\n",
        "    plt.legend()\n",
        "\n",
        "plt.tight_layout()  # Adjust layout to prevent overlapping\n",
        "plt.show()\n"
      ]
    },
    {
      "cell_type": "code",
      "execution_count": null,
      "metadata": {
        "colab": {
          "base_uri": "https://localhost:8080/",
          "height": 607
        },
        "id": "hlwZ8cCCPAPp",
        "outputId": "e6af7f95-0f67-4955-aef8-1daeb45aa357"
      },
      "outputs": [
        {
          "data": {
            "image/png": "[encoded data removed]",
            "text/plain": [
              "<Figure size 1200x600 with 6 Axes>"
            ]
          },
          "metadata": {},
          "output_type": "display_data"
        }
      ],
      "source": [
        "import matplotlib.pyplot as plt\n",
        "import numpy as np\n",
        "\n",
        "eval_epochs = range(1, len(in_acc_standard_hist[0]) + 1)\n",
        "\n",
        "plt.figure(figsize=(12, 6))\n",
        "for i, (lr_base, lr_max) in enumerate(lr_to_test):\n",
        "    # Plot for standard\n",
        "    plt.subplot(2, len(lr_to_test), i + 1)\n",
        "    plt.plot(eval_epochs, in_acc_standard_hist[i], 'b', label='In Acc')\n",
        "    plt.plot(eval_epochs, out_loss_standard_hist[i], 'r', label='Out Acc')\n",
        "    plt.title(f'Acc with lr {lr_base} to {lr_max} (standard)')\n",
        "    plt.xlabel('Epochs with evaluations')\n",
        "    plt.ylabel('Accuracy')\n",
        "    plt.legend()\n",
        "\n",
        "    # Plot for normalized\n",
        "    plt.subplot(2, len(lr_to_test), len(lr_to_test) + i + 1)\n",
        "    plt.plot(eval_epochs, in_acc_normalized_hist[i], 'b', label='In Acc')\n",
        "    plt.plot(eval_epochs, out_acc_normalized_hist[i], 'r', label='Out Acc')\n",
        "    plt.title(f'Acc with lr {lr_base} to {lr_max} (normalized)')\n",
        "    plt.xlabel('Epochs with evaluations')\n",
        "    plt.ylabel('Acc')\n",
        "    plt.legend()\n",
        "\n",
        "plt.tight_layout()  # Adjust layout to prevent overlapping\n",
        "plt.show()\n"
      ]
    },
    {
      "cell_type": "code",
      "execution_count": null,
      "metadata": {
        "id": "UCSaQi5VA1YM"
      },
      "outputs": [],
      "source": [
        "#np.save(f'/content/gdrive/MyDrive/license_plate/models/full_standard_acc.npy', full_standard_acc)\n",
        "#np.save(f'/content/gdrive/MyDrive/license_plate/models/full_normalized_acc.npy', full_normalized_acc)\n",
        "#np.save(f'/content/gdrive/MyDrive/license_plate/models/full_standard_loss.npy', full_standard_loss)\n",
        "#np.save(f'/content/gdrive/MyDrive/license_plate/models/full_normalized_loss.npy', full_normalized_loss)\n",
        "\n",
        "a = np.load('/content/gdrive/MyDrive/license_plate/models/full_normalized_acc.npy')\n",
        "print(a)"
      ]
    },
    {
      "cell_type": "markdown",
      "metadata": {
        "id": "o4rT-Y6Fo9yB"
      },
      "source": [
        "### Experiment : Removing layers from mobilenet\n"
      ]
    },
    {
      "cell_type": "markdown",
      "metadata": {
        "id": "ECU5U_dkq0Sm"
      },
      "source": [
        "Explain what has been done: ..."
      ]
    },
    {
      "cell_type": "code",
      "execution_count": null,
      "metadata": {
        "id": "Pj65daiUqrRX"
      },
      "outputs": [],
      "source": [
        "import torch\n",
        "import torch.nn as nn\n",
        "\n",
        "# Function to create the modified classifier\n",
        "def create_custom_classifier(input_features, hidden_units, output_features):\n",
        "    classifier = nn.Sequential(\n",
        "        nn.Linear(input_features, hidden_units),\n",
        "        nn.ReLU(),\n",
        "        nn.Dropout(0.0),\n",
        "        nn.Linear(hidden_units, output_features),\n",
        "    )\n",
        "    return classifier\n",
        "\n",
        "# Function to create a new MobileNetV3 model with modified layers\n",
        "def get_modified_mobilenet(num_layers_to_remove):\n",
        "    if not (1 <= num_layers_to_remove <= 12):\n",
        "        raise ValueError(\"num_layers_to_remove should be between 1 and 12.\")\n",
        "\n",
        "    # Load a pre-trained MobileNetV3 model\n",
        "    model = torch.hub.load('pytorch/vision:v0.10.0', 'mobilenet_v3_large', pretrained=True)\n",
        "\n",
        "    # Remove some layers from the features module\n",
        "    model.features = nn.Sequential(*list(model.features.children())[:-num_layers_to_remove])\n",
        "\n",
        "    # Update the input size of the custom classifier to match the output size of the modified features module\n",
        "    input_features = model.features[-1].out_channels\n",
        "    model.classifier = create_custom_classifier(input_features, hidden_units=100, output_features=4)\n",
        "\n",
        "    # Number of layers you want to fine-tune\n",
        "    layers_of_classifier = len(model.classifier)\n",
        "\n",
        "    # Get all the parameters from the model as a list\n",
        "    parameters = list(model.parameters())\n",
        "\n",
        "    # The total number of layers is the length of the parameters list\n",
        "    number_of_layers = len(parameters)\n",
        "\n",
        "    # Calculate the number of pretrained layers (all except the last 'layers_of_classifier')\n",
        "    pretrained_layers = number_of_layers - layers_of_classifier\n",
        "\n",
        "    # Freeze the parameters of the pretrained base layers\n",
        "    for param in parameters[:-layers_of_classifier]:\n",
        "        param.requires_grad = False\n",
        "\n",
        "    # Unfreeze the parameters of the last 'layers_of_classifier' layers\n",
        "    for param in parameters[-layers_of_classifier:]:\n",
        "        param.requires_grad = True\n",
        "\n",
        "    # Set the model to evaluation mode if not training\n",
        "    model.eval()\n",
        "    return model\n",
        "\n",
        "# # Get the modified model\n",
        "# modified_model = get_modified_mobilenet()\n",
        "\n",
        "# # Print the modified model architecture\n",
        "# print(modified_model)\n",
        "\n",
        "# check_requires_grad(modified_model)"
      ]
    },
    {
      "cell_type": "code",
      "execution_count": null,
      "metadata": {
        "colab": {
          "base_uri": "https://localhost:8080/"
        },
        "id": "Gw02KLburnUe",
        "outputId": "daa5227f-c27a-4594-eb59-d66b477d68b3"
      },
      "outputs": [
        {
          "name": "stderr",
          "output_type": "stream",
          "text": [
            "Using cache found in /root/.cache/torch/hub/pytorch_vision_v0.10.0\n"
          ]
        },
        {
          "name": "stdout",
          "output_type": "stream",
          "text": [
            "Input dimensions to custom classifier: 160\n",
            "Starting training with decoder...\n"
          ]
        },
        {
          "name": "stderr",
          "output_type": "stream",
          "text": [
            " 20%|██        | 1/5 [00:02<00:11,  2.93s/it]"
          ]
        },
        {
          "name": "stdout",
          "output_type": "stream",
          "text": [
            "Epoch 1, In-sample Loss: 0.2146, In-sample Accuracy: 0.0000\n",
            "Epoch 1, Out-sample Loss: 0.2183, Out-sample Accuracy: 0.0000\n"
          ]
        },
        {
          "name": "stderr",
          "output_type": "stream",
          "text": [
            " 60%|██████    | 3/5 [00:05<00:03,  1.92s/it]"
          ]
        },
        {
          "name": "stdout",
          "output_type": "stream",
          "text": [
            "Epoch 3, In-sample Loss: 0.1101, In-sample Accuracy: 0.0000\n",
            "Epoch 3, Out-sample Loss: 0.1203, Out-sample Accuracy: 0.0000\n"
          ]
        },
        {
          "name": "stderr",
          "output_type": "stream",
          "text": [
            "100%|██████████| 5/5 [00:08<00:00,  1.79s/it]\n"
          ]
        },
        {
          "name": "stdout",
          "output_type": "stream",
          "text": [
            "Epoch 5, In-sample Loss: 0.0212, In-sample Accuracy: 0.0000\n",
            "Epoch 5, Out-sample Loss: 0.0324, Out-sample Accuracy: 0.0000\n",
            "Decoder training completed.\n",
            "Starting full model training with cyclic LR ...\n"
          ]
        },
        {
          "name": "stderr",
          "output_type": "stream",
          "text": [
            " 20%|██        | 1/5 [00:03<00:14,  3.61s/it]"
          ]
        },
        {
          "name": "stdout",
          "output_type": "stream",
          "text": [
            "Epoch 1, In-sample Loss: 0.0207, In-sample Accuracy: 0.0000\n",
            "Epoch 1, Out-sample Loss: 0.0316, Out-sample Accuracy: 0.0000\n"
          ]
        },
        {
          "name": "stderr",
          "output_type": "stream",
          "text": [
            " 60%|██████    | 3/5 [00:09<00:06,  3.17s/it]"
          ]
        },
        {
          "name": "stdout",
          "output_type": "stream",
          "text": [
            "Epoch 3, In-sample Loss: 0.0106, In-sample Accuracy: 0.0000\n",
            "Epoch 3, Out-sample Loss: 0.0214, Out-sample Accuracy: 0.0000\n"
          ]
        },
        {
          "name": "stderr",
          "output_type": "stream",
          "text": [
            "100%|██████████| 5/5 [00:12<00:00,  2.60s/it]\n"
          ]
        },
        {
          "name": "stdout",
          "output_type": "stream",
          "text": [
            "Epoch 5, In-sample Loss: 0.0049, In-sample Accuracy: 0.0000\n",
            "Epoch 5, Out-sample Loss: 0.0108, Out-sample Accuracy: 0.0000\n",
            "Full model training completed.\n",
            "Starting full model training with linear LR ...\n",
            "Adjusting learning rate of group 0 to 1.0000e-04.\n"
          ]
        },
        {
          "name": "stderr",
          "output_type": "stream",
          "text": [
            "\r  0%|          | 0/5 [00:00<?, ?it/s]"
          ]
        },
        {
          "name": "stdout",
          "output_type": "stream",
          "text": [
            "Adjusting learning rate of group 0 to 5.0000e-05.\n"
          ]
        },
        {
          "name": "stderr",
          "output_type": "stream",
          "text": [
            " 20%|██        | 1/5 [00:02<00:09,  2.35s/it]"
          ]
        },
        {
          "name": "stdout",
          "output_type": "stream",
          "text": [
            "Epoch 1, In-sample Loss: 0.0040, In-sample Accuracy: 0.0000\n",
            "Epoch 1, Out-sample Loss: 0.0096, Out-sample Accuracy: 0.0000\n"
          ]
        },
        {
          "name": "stderr",
          "output_type": "stream",
          "text": [
            "\r 40%|████      | 2/5 [00:03<00:04,  1.47s/it]"
          ]
        },
        {
          "name": "stdout",
          "output_type": "stream",
          "text": [
            "Adjusting learning rate of group 0 to 2.5000e-05.\n",
            "Adjusting learning rate of group 0 to 1.2500e-05.\n"
          ]
        },
        {
          "name": "stderr",
          "output_type": "stream",
          "text": [
            " 60%|██████    | 3/5 [00:05<00:03,  1.90s/it]"
          ]
        },
        {
          "name": "stdout",
          "output_type": "stream",
          "text": [
            "Epoch 3, In-sample Loss: 0.0037, In-sample Accuracy: 0.0000\n",
            "Epoch 3, Out-sample Loss: 0.0093, Out-sample Accuracy: 0.0000\n"
          ]
        },
        {
          "name": "stderr",
          "output_type": "stream",
          "text": [
            "\r 80%|████████  | 4/5 [00:06<00:01,  1.49s/it]"
          ]
        },
        {
          "name": "stdout",
          "output_type": "stream",
          "text": [
            "Adjusting learning rate of group 0 to 6.2500e-06.\n",
            "Adjusting learning rate of group 0 to 3.1250e-06.\n"
          ]
        },
        {
          "name": "stderr",
          "output_type": "stream",
          "text": [
            "100%|██████████| 5/5 [00:09<00:00,  1.95s/it]"
          ]
        },
        {
          "name": "stdout",
          "output_type": "stream",
          "text": [
            "Epoch 5, In-sample Loss: 0.0036, In-sample Accuracy: 0.0000\n",
            "Epoch 5, Out-sample Loss: 0.0093, Out-sample Accuracy: 0.0000\n"
          ]
        },
        {
          "name": "stderr",
          "output_type": "stream",
          "text": [
            "\n"
          ]
        }
      ],
      "source": [
        "# Define model, loss function, optimizers, and schedulers\n",
        "model = get_modified_mobilenet(num_layers_to_remove=3)\n",
        "\n",
        "trained_model = train_full_model(model)"
      ]
    },
    {
      "cell_type": "markdown",
      "metadata": {
        "id": "J7CkDJIgeSXt"
      },
      "source": [
        "### Plot data"
      ]
    },
    {
      "cell_type": "code",
      "execution_count": null,
      "metadata": {
        "id": "H8s5ea1LC82K"
      },
      "outputs": [],
      "source": [
        "# #print a trainset with predicted label\n",
        "# # train_loader = DataLoader(data_loader, batch_size=1, shuffle=True, num_workers=1)\n",
        "\n",
        "# train_iter = iter(train_loader)\n",
        "\n",
        "# batch = next(train_iter)\n",
        "\n",
        "# X_batch, y_batch, _ = batch\n",
        "\n",
        "# image = batch[0][0]\n",
        "# labels = batch[1][0]\n",
        "\n",
        "# # Get predicted labels\n",
        "# X_batch = X_batch.permute(0,3,1,2).to(device)\n",
        "# pred = model(X_batch)\n",
        "# print(image.shape)\n",
        "# plot_img_and_boundingbox(image, labels)\n",
        "# plot_img_and_boundingbox(image, pred[0])"
      ]
    },
    {
      "cell_type": "code",
      "execution_count": null,
      "metadata": {
        "id": "RyFhpzW1OwKe"
      },
      "outputs": [],
      "source": [
        "# # Print a validation image with its predicted labels\n",
        "\n",
        "# validationloader = DataLoader(test_loader, batch_size=1, shuffle=True, num_workers=1)\n",
        "\n",
        "# validationloader_iter = iter(validationloader)\n",
        "\n",
        "# batch = next(validationloader_iter)\n",
        "\n",
        "# X_batch, y_batch, _ = batch\n",
        "# print(X_batch.shape)\n",
        "# print(y_batch.shape)\n",
        "\n",
        "# image = batch[0][0]\n",
        "# labels = batch[1][0]\n",
        "\n",
        "# # Get predicted labels\n",
        "# X_batch = X_batch.permute(0,3,1,2).to(device)\n",
        "# print(X_batch.shape)\n",
        "# pred = model(X_batch)\n",
        "\n",
        "# plot_img_and_boundingbox(image, labels)"
      ]
    },
    {
      "cell_type": "code",
      "execution_count": null,
      "metadata": {
        "id": "ytHrhFV8aX-C"
      },
      "outputs": [],
      "source": [
        "# plot_img_and_boundingbox(image,pred[0])\n",
        "# print(pred)\n",
        "# print(calculate_true_positives_in_batch(labels.view(1,4),pred[0].view(1,4))) # Need to change view since we dont have batch"
      ]
    },
    {
      "cell_type": "code",
      "execution_count": null,
      "metadata": {
        "id": "ghHYl7RzIXDF"
      },
      "outputs": [],
      "source": [
        "\n"
      ]
    }
  ],
  "metadata": {
    "accelerator": "GPU",
    "colab": {
      "provenance": []
    },
    "kernelspec": {
      "display_name": "Python 3",
      "name": "python3"
    },
    "language_info": {
      "codemirror_mode": {
        "name": "ipython",
        "version": 3
      },
      "file_extension": ".py",
      "mimetype": "text/x-python",
      "name": "python",
      "nbconvert_exporter": "python",
      "pygments_lexer": "ipython3",
      "version": "3.11.5"
    }
  },
  "nbformat": 4,
  "nbformat_minor": 0
}