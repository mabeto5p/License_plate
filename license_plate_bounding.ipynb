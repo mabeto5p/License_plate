{
  "cells": [
    {
      "cell_type": "markdown",
      "source": [
        "### Setup"
      ],
      "metadata": {
        "id": "i_BErcGkeyMQ"
      }
    },
    {
      "cell_type": "code",
      "execution_count": 4,
      "metadata": {
        "colab": {
          "base_uri": "https://localhost:8080/"
        },
        "id": "8L3Bt81myNxC",
        "outputId": "2c6a3697-3eb4-4bf9-b9aa-ed9419eecf98"
      },
      "outputs": [
        {
          "output_type": "stream",
          "name": "stdout",
          "text": [
            "Drive already mounted at /content/gdrive; to attempt to forcibly remount, call drive.mount(\"/content/gdrive\", force_remount=True).\n"
          ]
        }
      ],
      "source": [
        "# External libraries used for various tasks in later parts of the code\n",
        "from PIL import Image\n",
        "import matplotlib.pyplot as plt\n",
        "import cv2\n",
        "import xml.etree.ElementTree as ET\n",
        "from torch.utils.data import Dataset\n",
        "from imutils import paths\n",
        "import torch\n",
        "import torch.nn as nn\n",
        "import time\n",
        "import numpy as np\n",
        "import torch.optim as optim\n",
        "from tqdm.notebook import tqdm\n",
        "import os\n",
        "\n",
        "# Check if running on Google Colab and set the data paths accordingly\n",
        "is_running_on_colab = 'COLAB_GPU' in os.environ\n",
        "if is_running_on_colab:\n",
        "    from google.colab import drive\n",
        "    drive.mount('/content/gdrive')\n",
        "    train_path = '/content/gdrive/MyDrive/license_plate/train/'\n",
        "    val_path = '/content/gdrive/MyDrive/license_plate/val/'\n",
        "    test_path = '/content/gdrive/MyDrive/license_plate/test/'\n",
        "else:\n",
        "    current_dir = os.getcwd()\n",
        "    train_path = os.path.join(current_dir, 'dataset', 'license_plate', 'train')\n",
        "    val_path = os.path.join(current_dir, 'dataset', 'license_plate', 'val')\n",
        "    test_path = os.path.join(current_dir, 'dataset', 'license_plate', 'test')\n",
        "\n",
        "# Function to check if directories exist\n",
        "def check_directories_exist(*paths):\n",
        "    for path in paths:\n",
        "        assert os.path.isdir(path), f\"The directory {path} does not exist.\"\n",
        "\n",
        "# Check the directories\n",
        "check_directories_exist(train_path, val_path, test_path)\n",
        "\n",
        "# Sets device\n",
        "device = torch.device(\"cuda\" if torch.cuda.is_available() else \"cpu\")\n",
        "\n",
        "TRAIN_PATH = [train_path]\n",
        "VAL_PATH = [val_path]\n",
        "TEST_PATH = [test_path]"
      ]
    },
    {
      "cell_type": "markdown",
      "source": [
        "**Check how many images in data-split**"
      ],
      "metadata": {
        "id": "EF0Q9fyk5VVa"
      }
    },
    {
      "cell_type": "code",
      "source": [
        "# Function to count files in a directory\n",
        "def count_files_in_directory(directory):\n",
        "    return len(os.listdir(directory))\n",
        "\n",
        "# Check the number of files in each path\n",
        "train_files = count_files_in_directory(train_path)\n",
        "val_files = count_files_in_directory(val_path)\n",
        "test_files = count_files_in_directory(test_path)\n",
        "\n",
        "# Print the results\n",
        "print(f\"Number of files in train path: {train_files}\")\n",
        "print(f\"Number of files in val path: {val_files}\")\n",
        "print(f\"Number of files in test path: {test_files}\")\n",
        "\n"
      ],
      "metadata": {
        "colab": {
          "base_uri": "https://localhost:8080/"
        },
        "id": "7xRd1jsl5dCr",
        "outputId": "d9479afe-e69a-470b-ce93-abf5d3b732f7"
      },
      "execution_count": 5,
      "outputs": [
        {
          "output_type": "stream",
          "name": "stdout",
          "text": [
            "Number of files in train path: 5769\n",
            "Number of files in val path: 1001\n",
            "Number of files in test path: 5007\n"
          ]
        }
      ]
    },
    {
      "cell_type": "markdown",
      "source": [
        "### DataLoader\n"
      ],
      "metadata": {
        "id": "Tu9jOxiMWUqj"
      }
    },
    {
      "cell_type": "code",
      "source": [
        "from torch.utils.data import Dataset\n",
        "import cv2\n",
        "from imutils import paths\n",
        "import os\n",
        "import torch\n",
        "\n",
        "class LabelFpsDataLoader(Dataset):\n",
        "    def __init__(self, img_dirs, img_size, is_transform=None, normalize_labels=False):\n",
        "        self.img_paths = [p for img_dir in img_dirs for p in paths.list_images(img_dir)]\n",
        "        self.img_size = img_size\n",
        "        self.is_transform = is_transform\n",
        "        self.normalize_labels = normalize_labels\n",
        "\n",
        "    def __len__(self):\n",
        "        return len(self.img_paths)\n",
        "\n",
        "    def __getitem__(self, index):\n",
        "        img_name = self.img_paths[index]\n",
        "        img = cv2.imread(img_name)\n",
        "        resized_image = self.transform_image(img)\n",
        "\n",
        "        file_name = os.path.splitext(os.path.basename(img_name))[0]\n",
        "        labels = self.extract_labels(file_name, img.shape)\n",
        "\n",
        "        return resized_image, labels, img_name\n",
        "\n",
        "    def transform_image(self, img):\n",
        "        resized_image = cv2.resize(img, self.img_size).astype('float32') / 255.0\n",
        "        # Normalization - Adjust mean and std if necessary\n",
        "        mean = np.array([0.485, 0.456, 0.406], dtype=resized_image.dtype)\n",
        "        std = np.array([0.229, 0.224, 0.225],dtype=resized_image.dtype)\n",
        "\n",
        "        resized_image = (resized_image - mean) / std  # Normalize\n",
        "        return resized_image\n",
        "\n",
        "    def extract_labels(self, file_name, img_shape):\n",
        "        parts = file_name.split('-')\n",
        "        points = [self.parse_point(part) for part in parts[2].split('_')]\n",
        "        ori_w, ori_h = img_shape[1], img_shape[0]\n",
        "        scale_w, scale_h = self.img_size[0] / ori_w, self.img_size[1] / ori_h\n",
        "        scaled_points = [(int(x * scale_w), int(y * scale_h)) for x, y in points]\n",
        "        if self.normalize_labels:\n",
        "          scaled_points = [(x / self.img_size[0], y / self.img_size[1]) for x, y in scaled_points]\n",
        "        flattened_labels = [coord for point in scaled_points for coord in point]\n",
        "        return torch.tensor(flattened_labels, dtype=torch.float32)\n",
        "\n",
        "    @staticmethod\n",
        "    def parse_point(point_str):\n",
        "        return tuple(int(coord) for coord in point_str.split('&'))\n"
      ],
      "metadata": {
        "id": "OAtPahyIWaP3"
      },
      "execution_count": 6,
      "outputs": []
    },
    {
      "cell_type": "markdown",
      "source": [
        "### Helper methods"
      ],
      "metadata": {
        "id": "Esow5EMye3iJ"
      }
    },
    {
      "cell_type": "code",
      "execution_count": 7,
      "metadata": {
        "id": "AJ_NSb9iP0Rj"
      },
      "outputs": [],
      "source": [
        "import numpy as np\n",
        "import cv2\n",
        "import matplotlib.pyplot as plt\n",
        "\n",
        "def plot_img_and_boundingbox(image, labels):\n",
        "    # Assuming image is a PyTorch tensor, we need to first move it to CPU if it's on GPU,\n",
        "    # then detach it from the current graph, convert to numpy, and finally transpose it\n",
        "    # from (channels, height, width) to (height, width, channels)\n",
        "    numpy_array = image.cpu().detach().numpy()\n",
        "\n",
        "    # Convert from BGR to RGB format if the image was read by OpenCV\n",
        "    rgb_image = cv2.cvtColor(numpy_array, cv2.COLOR_BGR2RGB)\n",
        "\n",
        "    # Extract numerical values from tensors and convert to integers\n",
        "    left_up = (int(labels[0]), int(labels[1]))\n",
        "    right_down = (int(labels[2]), int(labels[3]))\n",
        "\n",
        "    # Draw rectangle on the image\n",
        "    new_image = cv2.rectangle(rgb_image, left_up, right_down, (255, 0, 0), 2)\n",
        "\n",
        "    # Display the image\n",
        "    plt.imshow(new_image)\n",
        "    plt.axis('off')  # Hide the axis\n",
        "    plt.show()\n",
        "\n",
        "# Example usage:\n",
        "# img, labels, _ = dataset[0]  # Assuming this is how you get an image and labels from your dataset\n",
        "# plot_img_and_boundingbox(img, labels)\n"
      ]
    },
    {
      "cell_type": "code",
      "source": [
        "def save_model(model):\n",
        "  # Get the current time\n",
        "  current_time = datetime.now()\n",
        "\n",
        "  # Format the time in a 'YearMonthDay_HourMinuteSecond' format for the filename\n",
        "  timestamp = current_time.strftime('%Y%m%d_%H%M')\n",
        "  model_path = f'/content/gdrive/MyDrive/license_plate/models/model_weights_{timestamp}.pth'\n",
        "  torch.save(model.state_dict(), model_path)\n",
        "\n",
        "def load_model(path):\n",
        "  model.load_state_dict(torch.load(path))"
      ],
      "metadata": {
        "id": "fAs1fLmwTcCy"
      },
      "execution_count": 8,
      "outputs": []
    },
    {
      "cell_type": "code",
      "source": [
        "def bb_intersection_over_union(boxA, boxB):\n",
        "    # Compute the intersection over union on GPU\n",
        "    # Assumes boxA and boxB are tensors\n",
        "    xA = torch.max(boxA[..., 0], boxB[..., 0])\n",
        "    yA = torch.max(boxA[..., 1], boxB[..., 1])\n",
        "    xB = torch.min(boxA[..., 2], boxB[..., 2])\n",
        "    yB = torch.min(boxA[..., 3], boxB[..., 3])\n",
        "\n",
        "    interArea = torch.clamp(xB - xA, min=0) * torch.clamp(yB - yA, min=0)\n",
        "\n",
        "    boxAArea = (boxA[..., 2] - boxA[..., 0]) * (boxA[..., 3] - boxA[..., 1])\n",
        "    boxBArea = (boxB[..., 2] - boxB[..., 0]) * (boxB[..., 3] - boxB[..., 1])\n",
        "\n",
        "    iou = interArea / (boxAArea + boxBArea - interArea)\n",
        "    return iou\n",
        "\n",
        "def calculate_true_positives_in_batch(y_pred, y_batch, threshold=0.5):\n",
        "    # Calculate IoU for the batch\n",
        "    iou = bb_intersection_over_union(y_pred, y_batch)\n",
        "\n",
        "    # Count true positives in the batch\n",
        "    true_positives = torch.sum(iou > threshold).item()\n",
        "    return true_positives\n",
        "\n",
        "def calculate_loss_and_accuracy(loader, model, loss_fn, device):\n",
        "    model.eval()  # Set model to evaluation mode\n",
        "    total_loss = 0\n",
        "    total_true_positives = 0\n",
        "    total_samples = 0\n",
        "\n",
        "    with torch.no_grad():  # Disable gradient computation\n",
        "        for X_batch, y_batch, _ in loader:\n",
        "            X_batch = X_batch.permute(0,3,1,2).to(device)\n",
        "            y_batch = y_batch.to(device)\n",
        "            y_pred = model(X_batch)\n",
        "\n",
        "            total_true_positives += calculate_true_positives_in_batch(y_pred, y_batch)\n",
        "\n",
        "            loss = loss_fn(y_pred, y_batch)\n",
        "            total_loss += loss.item() * X_batch.size(0)  # Accumulate scaled loss\n",
        "            total_samples += X_batch.size(0)  # Accumulate number of samples\n",
        "\n",
        "    sample_loss = total_loss / total_samples  # Calculate average loss\n",
        "    accuracy = total_true_positives / total_samples  # Calculate accuracy\n",
        "    return sample_loss, accuracy"
      ],
      "metadata": {
        "id": "2QRQ0qnbND9t"
      },
      "execution_count": 9,
      "outputs": []
    },
    {
      "cell_type": "code",
      "source": [
        "def check_requires_grad(model):\n",
        "  for name, param in model.named_parameters():\n",
        "    if name.startswith('classifier'):\n",
        "        print(f'Layer {name} - requires_grad: {param.requires_grad}')\n",
        "    if name.startswith('features'):\n",
        "        print(f'Layer {name} - requires_grad: {param.requires_grad}')\n"
      ],
      "metadata": {
        "id": "15nRrjd3_KGM"
      },
      "execution_count": 10,
      "outputs": []
    },
    {
      "cell_type": "markdown",
      "source": [
        "### Model\n"
      ],
      "metadata": {
        "id": "TQKOH_89VoBF"
      }
    },
    {
      "cell_type": "code",
      "source": [
        "import torch\n",
        "import torch.nn as nn\n",
        "\n",
        "# Function to create the modified classifier\n",
        "def create_custom_classifier(input_features, hidden_units, output_features):\n",
        "    classifier = nn.Sequential(\n",
        "        nn.Linear(input_features, hidden_units),\n",
        "        nn.ReLU(),\n",
        "        nn.Dropout(0.0),\n",
        "        #nn.BatchNorm1d(hidden_units),\n",
        "        nn.Linear(hidden_units, output_features),\n",
        "    )\n",
        "    return classifier\n",
        "\n",
        "# Load a pre-trained MobileNetV3 model\n",
        "model = torch.hub.load('pytorch/vision:v0.10.0', 'mobilenet_v3_large', pretrained=True)\n",
        "\n",
        "def get_new_model():\n",
        "    model = torch.hub.load('pytorch/vision:v0.10.0', 'mobilenet_v3_large', pretrained=True)\n",
        "    model.classifier = create_custom_classifier(input_features=960, hidden_units=100, output_features=4)\n",
        "\n",
        "    # Set the model to evaluation mode if not training\n",
        "    model.eval()\n",
        "\n",
        "    # Number of layers you want to fine-tune\n",
        "    layers_of_classifier = len(model.classifier)\n",
        "\n",
        "    # Get all the parameters from the model as a list\n",
        "    parameters = list(model.parameters())\n",
        "\n",
        "    # The total number of layers is the length of the parameters list\n",
        "    number_of_layers = len(parameters)\n",
        "\n",
        "    # Calculate the number of pretrained layers (all except the last 'layers_of_classifier')\n",
        "    pretrained_layers = number_of_layers - layers_of_classifier\n",
        "\n",
        "    # Freeze the parameters of the pretrained base layers\n",
        "    for param in parameters[:-layers_of_classifier]:\n",
        "        param.requires_grad = False\n",
        "\n",
        "    # Unfreeze the parameters of the last 'layers_of_classifier' layers\n",
        "    for param in parameters[-layers_of_classifier:]:\n",
        "        param.requires_grad = True\n",
        "\n",
        "    return model\n",
        "# model = get_new_model()\n",
        "# check_requires_grad(model"
      ],
      "metadata": {
        "id": "Hw7I59fYVv9O",
        "colab": {
          "base_uri": "https://localhost:8080/"
        },
        "outputId": "703b1f20-971e-465b-ed04-4ef99094e975"
      },
      "execution_count": 11,
      "outputs": [
        {
          "output_type": "stream",
          "name": "stderr",
          "text": [
            "Downloading: \"https://github.com/pytorch/vision/zipball/v0.10.0\" to /root/.cache/torch/hub/v0.10.0.zip\n",
            "Downloading: \"https://download.pytorch.org/models/mobilenet_v3_large-8738ca79.pth\" to /root/.cache/torch/hub/checkpoints/mobilenet_v3_large-8738ca79.pth\n",
            "100%|██████████| 21.1M/21.1M [00:00<00:00, 137MB/s] \n"
          ]
        }
      ]
    },
    {
      "cell_type": "markdown",
      "source": [
        "### Constants & dataset initialization"
      ],
      "metadata": {
        "id": "28jo8TCuWwEq"
      }
    },
    {
      "cell_type": "code",
      "source": [
        "import torch\n",
        "from torch.utils.data import DataLoader, Subset\n",
        "from datetime import datetime\n",
        "from tqdm import tqdm\n",
        "\n",
        "# Constants\n",
        "TRAIN_BATCH_SIZE = 64\n",
        "VAL_BATCH_SIZE = 64\n",
        "TEST_BATCH_SIZE = 64\n",
        "\n",
        "SUBSET_INDICES = 16\n",
        "SUBSET_VAL_INDICES = 16\n",
        "SUBSET_TEST_INDICES = 16\n",
        "\n",
        "DECODER_EPOCHS = 3\n",
        "N_EPOCHS_CYCLIC = 10\n",
        "N_EPOCHS_LINEAR = 5\n",
        "\n",
        "USE_TQDM = True\n",
        "USE_SUBSET = False\n",
        "NORMALIZED_LABELS = True\n",
        "PRINT_EVERY = 3\n",
        "\n",
        "loss_fn = nn.MSELoss()\n",
        "\n",
        "# Define dataloaders\n",
        "\n",
        "# Training\n",
        "train_dataset = LabelFpsDataLoader(TRAIN_PATH, (224, 224), normalize_labels=NORMALIZED_LABELS)\n",
        "train_loader = DataLoader(train_dataset, batch_size=TRAIN_BATCH_SIZE, shuffle=True, num_workers=2)\n",
        "\n",
        "# Validation\n",
        "val_dataset = LabelFpsDataLoader(VAL_PATH, (224, 224), normalize_labels=NORMALIZED_LABELS)\n",
        "val_loader = DataLoader(val_dataset, batch_size=VAL_BATCH_SIZE, shuffle=True, num_workers=2)\n",
        "\n",
        "# Test\n",
        "test_dataset = LabelFpsDataLoader(TEST_PATH, (224, 224), normalize_labels=NORMALIZED_LABELS)\n",
        "test_loader = DataLoader(test_dataset, batch_size=TEST_BATCH_SIZE, shuffle=True, num_workers=2)\n",
        "\n",
        "\n",
        "\n",
        "# Use subsets for faster iterations during development\n",
        "if USE_SUBSET:\n",
        "    # Training\n",
        "    train_dataset = Subset(train_dataset, indices=range(SUBSET_INDICES))\n",
        "    train_loader = DataLoader(train_dataset, batch_size=TRAIN_BATCH_SIZE, shuffle=True, num_workers=2, pin_memory=True)\n",
        "    # Validation\n",
        "    val_dataset = Subset(val_dataset, indices=range(SUBSET_VAL_INDICES))\n",
        "    val_loader = DataLoader(val_dataset, batch_size=VAL_BATCH_SIZE, shuffle=True, num_workers=2)\n",
        "    # Test\n",
        "    test_dataset = Subset(test_dataset, indices=range(SUBSET_TEST_INDICES))\n",
        "    test_loader = DataLoader(test_dataset, batch_size=TEST_BATCH_SIZE, shuffle=True, num_workers=2)"
      ],
      "metadata": {
        "id": "2OshmvwiW0MY"
      },
      "execution_count": 16,
      "outputs": []
    },
    {
      "cell_type": "markdown",
      "source": [
        "### Training & test methods"
      ],
      "metadata": {
        "id": "agQkxFUQemOX"
      }
    },
    {
      "cell_type": "code",
      "execution_count": 13,
      "metadata": {
        "id": "I2mUI6H5Arru"
      },
      "outputs": [],
      "source": [
        "import torch\n",
        "from torch.utils.data import DataLoader, Subset\n",
        "from datetime import datetime\n",
        "from tqdm import tqdm\n",
        "\n",
        "# Training functions\n",
        "def train_epoch(dataloader, optimizer, model, loss_fn, scaler):\n",
        "    for X_batch, y_batch, _ in dataloader:\n",
        "        optimizer.zero_grad()\n",
        "        X_batch = X_batch.permute(0, 3, 1, 2).to(device)\n",
        "        y_batch = y_batch.to(device)\n",
        "        with torch.cuda.amp.autocast():\n",
        "            y_pred = model(X_batch)\n",
        "            loss = loss_fn(y_pred, y_batch)\n",
        "        scaler.scale(loss).backward()\n",
        "        scaler.step(optimizer)\n",
        "        scaler.update()\n",
        "\n",
        "def train_model(n_epochs, optimizer, scheduler, dataloader, val_loader, model, loss_fn):\n",
        "    train_loss_history = []\n",
        "    val_loss_history = []\n",
        "    train_accuracy_history = []\n",
        "    val_accuracy_history = []\n",
        "    scaler = torch.cuda.amp.GradScaler()\n",
        "\n",
        "    for epoch in tqdm(range(n_epochs)):\n",
        "        model.train()\n",
        "        # print(f\"epoch: {epoch}\")\n",
        "        epoch_loss = train_epoch(dataloader, optimizer, model, loss_fn, scaler)\n",
        "        scheduler.step()\n",
        "\n",
        "        if epoch % PRINT_EVERY == 0:\n",
        "            model.eval()\n",
        "            with torch.no_grad():\n",
        "                # In-sample\n",
        "                in_sample_loss, in_sample_accuracy = calculate_loss_and_accuracy(dataloader, model, loss_fn, device)\n",
        "                train_loss_history.append(in_sample_loss)\n",
        "                train_accuracy_history.append(in_sample_accuracy)\n",
        "\n",
        "                # Out-sample\n",
        "                out_sample_loss, out_sample_accuracy = calculate_loss_and_accuracy(val_loader, model, loss_fn, device)\n",
        "                val_loss_history.append(out_sample_loss)\n",
        "                val_accuracy_history.append(out_sample_accuracy)\n",
        "\n",
        "                if USE_TQDM:\n",
        "                    tqdm.write(f'Epoch {epoch + 1}, In-sample Loss: {in_sample_loss:.4f}, In-sample Accuracy: {in_sample_accuracy:.4f}')\n",
        "                    tqdm.write(f'Epoch {epoch + 1}, Out-sample Loss: {out_sample_loss:.4f}, Out-sample Accuracy: {out_sample_accuracy:.4f}')\n",
        "\n",
        "    return train_loss_history, val_loss_history, train_accuracy_history, val_accuracy_history"
      ]
    },
    {
      "cell_type": "code",
      "source": [
        "import torch\n",
        "import torch.nn.functional as F\n",
        "\n",
        "def test_model(model, test_loader, threshold=0.5):\n",
        "    model.eval()  # Set the model to evaluation mode\n",
        "    total_true_positives = 0\n",
        "    total_samples = 0\n",
        "    total_loss = 0.0\n",
        "\n",
        "    with torch.no_grad():\n",
        "        for inputs, targets, _ in tqdm(test_loader):\n",
        "            inputs = inputs.permute(0, 3, 1, 2).to(device)\n",
        "            targets = targets.to(device)\n",
        "\n",
        "            # Forward pass\n",
        "            outputs = model(inputs)\n",
        "\n",
        "            # Calculate true positives for the batch\n",
        "            true_positives = calculate_true_positives_in_batch(outputs, targets, threshold)\n",
        "\n",
        "            total_true_positives += true_positives\n",
        "            total_samples += targets.size(0)\n",
        "\n",
        "            # Calculate loss for the batch\n",
        "            loss = loss_fn(outputs, targets)\n",
        "            total_loss += loss.item()\n",
        "\n",
        "    # Calculate accuracy and average loss\n",
        "    accuracy = total_true_positives / total_samples\n",
        "    average_loss = total_loss / len(test_loader)\n",
        "\n",
        "    return accuracy, average_loss"
      ],
      "metadata": {
        "id": "nJ9l8bMSAVIK"
      },
      "execution_count": 14,
      "outputs": []
    },
    {
      "cell_type": "code",
      "source": [
        "# Define model, loss function, optimizers, and schedulers\n",
        "def train_full_model(model):\n",
        "  model.to(device)\n",
        "  loss_fn = nn.MSELoss()\n",
        "\n",
        "  optimizer_decoder = optim.AdamW(model.parameters(), lr=1e-5) # Does this lr get overriden by the schedular?\n",
        "  scheduler_decoder = optim.lr_scheduler.CyclicLR(optimizer_decoder, base_lr=1e-3, max_lr=1e-2, cycle_momentum=False, step_size_up=DECODER_EPOCHS/6)\n",
        "\n",
        "\n",
        "  # Train the model with the decoder first\n",
        "  print(\"Starting training with decoder...\")\n",
        "  decoder_loss_history, decoder_val_loss_history, decoder_train_accuracy_history, decoder_val_accuracy_history = train_model(\n",
        "      n_epochs=DECODER_EPOCHS,\n",
        "      optimizer=optimizer_decoder,\n",
        "      scheduler=scheduler_decoder,\n",
        "      dataloader=train_loader,\n",
        "      val_loader=val_loader,\n",
        "      model=model,\n",
        "      loss_fn=loss_fn\n",
        "  )\n",
        "\n",
        "  # Unfreeze model layers for full model training\n",
        "  for param in model.parameters():\n",
        "      param.requires_grad = True\n",
        "\n",
        "  # Now train the full model with cyclic\n",
        "  print(\"Starting full model training with cyclic LR ...\")\n",
        "  optimizer_full_cyclic = optim.AdamW(model.parameters(), lr=5e-6)\n",
        "  scheduler_full_cyclic = optim.lr_scheduler.CyclicLR(optimizer_full_cyclic, base_lr=1e-4, max_lr=1e-3, cycle_momentum=False, step_size_up=N_EPOCHS_CYCLIC/4)\n",
        "\n",
        "  full_loss_history_cyclic, full_val_loss_history_cyclic, full_train_accuracy_history_cyclic, full_val_accuracy_history_cyclic = train_model(\n",
        "      n_epochs=N_EPOCHS_CYCLIC,\n",
        "      optimizer=optimizer_full_cyclic,\n",
        "      scheduler=scheduler_full_cyclic,\n",
        "      dataloader=train_loader,  # Assuming train_loader_finetuning is the same as train_loader\n",
        "      val_loader=val_loader,\n",
        "      model=model,\n",
        "      loss_fn=loss_fn\n",
        "  )\n",
        "\n",
        "  print(\"Starting full model training with linear LR ...\")\n",
        "  optimizer_full_linear = optim.AdamW(model.parameters(), lr=1e-4)\n",
        "  scheduler_full_linear = optim.lr_scheduler.StepLR(optimizer_full_linear, step_size=N_EPOCHS_LINEAR/5, gamma=0.5, verbose = True)\n",
        "\n",
        "  full_loss_history_linear, full_val_loss_history_linear, full_train_accuracy_history_linear, full_val_accuracy_history_linear = train_model(\n",
        "      n_epochs=N_EPOCHS_CYCLIC,\n",
        "      optimizer=optimizer_full_linear,\n",
        "      scheduler=scheduler_full_linear,\n",
        "      dataloader=train_loader,  # Assuming train_loader_finetuning is the same as train_loader\n",
        "      val_loader=val_loader,\n",
        "      model=model,\n",
        "      loss_fn=loss_fn\n",
        "  )\n",
        "  total_in_loss = decoder_loss_history + full_loss_history_cyclic + full_loss_history_linear\n",
        "  total_out_loss = decoder_val_loss_history + full_val_loss_history_cyclic + full_val_loss_history_linear\n",
        "  total_in_acc = decoder_train_accuracy_history + full_train_accuracy_history_cyclic + full_train_accuracy_history_linear\n",
        "  total_out_acc = decoder_val_accuracy_history + full_val_accuracy_history_cyclic + full_val_accuracy_history_linear\n",
        "  history = {'in_loss': total_in_loss, 'out_loss': total_out_loss, 'in_acc': total_in_acc, 'out_acc': total_out_acc}\n",
        "  return model, history\n",
        "\n"
      ],
      "metadata": {
        "id": "O2iIkWT7FYNa"
      },
      "execution_count": 15,
      "outputs": []
    },
    {
      "cell_type": "markdown",
      "source": [
        "### Experiment: Standard acc and loss"
      ],
      "metadata": {
        "id": "-o-bwYEwegSY"
      }
    },
    {
      "cell_type": "code",
      "source": [
        "model = get_new_model()\n",
        "trained_model, history = train_full_model(model)\n",
        "save_model(trained_model)"
      ],
      "metadata": {
        "id": "3DcAGrwTtapl",
        "colab": {
          "base_uri": "https://localhost:8080/"
        },
        "outputId": "30da36d8-5e3f-4614-ff13-bf4e8b6e9a54"
      },
      "execution_count": null,
      "outputs": [
        {
          "metadata": {
            "tags": null
          },
          "name": "stderr",
          "output_type": "stream",
          "text": [
            "Using cache found in /root/.cache/torch/hub/pytorch_vision_v0.10.0\n"
          ]
        },
        {
          "metadata": {
            "tags": null
          },
          "name": "stdout",
          "output_type": "stream",
          "text": [
            "Starting training with decoder...\n"
          ]
        },
        {
          "metadata": {
            "tags": null
          },
          "name": "stderr",
          "output_type": "stream",
          "text": [
            " 33%|███▎      | 1/3 [02:51<05:43, 171.62s/it]"
          ]
        },
        {
          "metadata": {
            "tags": null
          },
          "name": "stdout",
          "output_type": "stream",
          "text": [
            "Epoch 1, In-sample Loss: 0.0043, In-sample Accuracy: 0.1740\n",
            "Epoch 1, Out-sample Loss: 0.0053, Out-sample Accuracy: 0.1758\n"
          ]
        },
        {
          "metadata": {
            "tags": null
          },
          "name": "stderr",
          "output_type": "stream",
          "text": [
            "100%|██████████| 3/3 [05:15<00:00, 105.01s/it]\n"
          ]
        },
        {
          "metadata": {
            "tags": null
          },
          "name": "stdout",
          "output_type": "stream",
          "text": [
            "Starting full model training with cyclic LR ...\n"
          ]
        },
        {
          "metadata": {
            "tags": null
          },
          "name": "stderr",
          "output_type": "stream",
          "text": [
            " 10%|█         | 1/10 [02:42<24:25, 162.88s/it]"
          ]
        },
        {
          "metadata": {
            "tags": null
          },
          "name": "stdout",
          "output_type": "stream",
          "text": [
            "Epoch 1, In-sample Loss: 0.0012, In-sample Accuracy: 0.5346\n",
            "Epoch 1, Out-sample Loss: 0.0023, Out-sample Accuracy: 0.4765\n"
          ]
        },
        {
          "metadata": {
            "tags": null
          },
          "name": "stderr",
          "output_type": "stream",
          "text": [
            " 40%|████      | 4/10 [08:01<12:22, 123.77s/it]"
          ]
        },
        {
          "metadata": {
            "tags": null
          },
          "name": "stdout",
          "output_type": "stream",
          "text": [
            "Epoch 4, In-sample Loss: 0.0005, In-sample Accuracy: 0.9151\n",
            "Epoch 4, Out-sample Loss: 0.0009, Out-sample Accuracy: 0.8831\n"
          ]
        },
        {
          "metadata": {
            "tags": null
          },
          "name": "stderr",
          "output_type": "stream",
          "text": [
            " 70%|███████   | 7/10 [13:28<06:03, 121.26s/it]"
          ]
        },
        {
          "metadata": {
            "tags": null
          },
          "name": "stdout",
          "output_type": "stream",
          "text": [
            "Epoch 7, In-sample Loss: 0.0001, In-sample Accuracy: 0.9969\n",
            "Epoch 7, Out-sample Loss: 0.0004, Out-sample Accuracy: 0.9421\n"
          ]
        },
        {
          "metadata": {
            "tags": null
          },
          "name": "stderr",
          "output_type": "stream",
          "text": [
            "100%|██████████| 10/10 [18:38<00:00, 111.89s/it]\n"
          ]
        },
        {
          "metadata": {
            "tags": null
          },
          "name": "stdout",
          "output_type": "stream",
          "text": [
            "Epoch 10, In-sample Loss: 0.0001, In-sample Accuracy: 0.9981\n",
            "Epoch 10, Out-sample Loss: 0.0004, Out-sample Accuracy: 0.9550\n",
            "Starting full model training with linear LR ...\n",
            "Adjusting learning rate of group 0 to 1.0000e-04.\n"
          ]
        },
        {
          "metadata": {
            "tags": null
          },
          "name": "stderr",
          "output_type": "stream",
          "text": [
            "\r  0%|          | 0/10 [00:00<?, ?it/s]"
          ]
        },
        {
          "metadata": {
            "tags": null
          },
          "name": "stdout",
          "output_type": "stream",
          "text": [
            "Adjusting learning rate of group 0 to 5.0000e-05.\n"
          ]
        },
        {
          "metadata": {
            "tags": null
          },
          "name": "stderr",
          "output_type": "stream",
          "text": [
            " 10%|█         | 1/10 [02:33<23:04, 153.81s/it]"
          ]
        },
        {
          "metadata": {
            "tags": null
          },
          "name": "stdout",
          "output_type": "stream",
          "text": [
            "Epoch 1, In-sample Loss: 0.0000, In-sample Accuracy: 0.9988\n",
            "Epoch 1, Out-sample Loss: 0.0003, Out-sample Accuracy: 0.9620\n"
          ]
        }
      ]
    },
    {
      "cell_type": "code",
      "source": [
        "accuracy, average_loss = test_model(model, test_loader)\n",
        "\n",
        "\n",
        "\n",
        "print(f'Test Accuracy: {accuracy * 100:.2f}%')\n",
        "print(f'Average Test Loss: {average_loss:.4f}')"
      ],
      "metadata": {
        "id": "WtA0AOv-Z43j",
        "colab": {
          "base_uri": "https://localhost:8080/"
        },
        "outputId": "f5e5576a-ed90-476a-e22f-67d04fe98dc6"
      },
      "execution_count": null,
      "outputs": [
        {
          "output_type": "stream",
          "name": "stderr",
          "text": [
            "100%|██████████| 79/79 [02:35<00:00,  1.97s/it]"
          ]
        },
        {
          "output_type": "stream",
          "name": "stdout",
          "text": [
            "Test Accuracy: 89.21%\n",
            "Average Test Loss: 0.0004\n"
          ]
        },
        {
          "output_type": "stream",
          "name": "stderr",
          "text": [
            "\n"
          ]
        }
      ]
    },
    {
      "cell_type": "code",
      "source": [
        "print(history)"
      ],
      "metadata": {
        "colab": {
          "base_uri": "https://localhost:8080/",
          "height": 176
        },
        "id": "4S49GGYnBCXy",
        "outputId": "796e1bfb-b14d-4824-9d46-54bde8c6fad4"
      },
      "execution_count": 3,
      "outputs": [
        {
          "output_type": "error",
          "ename": "NameError",
          "evalue": "ignored",
          "traceback": [
            "\u001b[0;31m---------------------------------------------------------------------------\u001b[0m",
            "\u001b[0;31mNameError\u001b[0m                                 Traceback (most recent call last)",
            "\u001b[0;32m<ipython-input-3-0b220396248c>\u001b[0m in \u001b[0;36m<cell line: 1>\u001b[0;34m()\u001b[0m\n\u001b[0;32m----> 1\u001b[0;31m \u001b[0mprint\u001b[0m\u001b[0;34m(\u001b[0m\u001b[0mhistory\u001b[0m\u001b[0;34m)\u001b[0m\u001b[0;34m\u001b[0m\u001b[0;34m\u001b[0m\u001b[0m\n\u001b[0m",
            "\u001b[0;31mNameError\u001b[0m: name 'history' is not defined"
          ]
        }
      ]
    },
    {
      "cell_type": "markdown",
      "source": [
        "### Experiment: Normalized labels & learning rate"
      ],
      "metadata": {
        "id": "xbS7KnRPdgwL"
      }
    },
    {
      "cell_type": "code",
      "source": [
        "\n",
        "lr_to_test = [(1e-4, 1e-2),(1e-4, 1e-1),(1e-3, 1e-2)]\n",
        "\n",
        "decoder_standard_acc_history = np.zeros((len(lr_to_test),DECODER_EPOCHS))\n",
        "full_standard_acc_history = np.zeros((len(lr_to_test),N_EPOCHS_CYCLIC))\n",
        "\n",
        "decoder_standard_loss_history = np.zeros((len(lr_to_test),DECODER_EPOCHS))\n",
        "full_standard_loss_history = np.zeros((len(lr_to_test),N_EPOCHS_CYCLIC))\n",
        "\n",
        "\n",
        "\n",
        "for index, (lr_base, lr_max) in enumerate(lr_to_test):\n",
        "  # Setup model\n",
        "  model = get_new_model()\n",
        "  model.to(device)\n",
        "  loss_fn = nn.MSELoss()\n",
        "\n",
        "  optimizer_decoder = optim.AdamW(model.parameters(), lr=lr_base)\n",
        "  scheduler_decoder = optim.lr_scheduler.CyclicLR(optimizer_decoder, base_lr=lr_base, max_lr=lr_max, cycle_momentum=False, step_size_up=DECODER_EPOCHS/6)\n",
        "\n",
        "  optimizer_full = optim.AdamW(model.parameters(), lr=lr_base)\n",
        "  scheduler_full = optim.lr_scheduler.CyclicLR(optimizer_decoder, base_lr=lr_base, max_lr=lr_max, cycle_momentum=False, step_size_up=N_EPOCHS_CYCLIC/6)\n",
        "\n",
        "  # Train encoder\n",
        "  decoder_loss_history, decoder_val_loss_history, decoder_test_accuracy_history, decoder_val_accuracy_history = train_model(\n",
        "    n_epochs=DECODER_EPOCHS,\n",
        "    optimizer=optimizer_decoder,\n",
        "    scheduler=scheduler_decoder,\n",
        "    dataloader=train_loader,\n",
        "    val_loader=val_loader,\n",
        "    model=model,\n",
        "    loss_fn=loss_fn\n",
        "  )\n",
        "  decoder_standard_acc_history[index, :] = decoder_test_accuracy_history\n",
        "  decoder_standard_loss_history[index, :] = decoder_loss_history\n",
        "\n",
        "  print(f\"Encoder for lr_base: {lr_base} and lr_max: {lr_max} done (no normalization).\")\n",
        "\n",
        "\n",
        "  # Unfreeze model layers for full model training\n",
        "  for param in model.parameters():\n",
        "    param.requires_grad = True\n",
        "\n",
        "\n",
        "  # Now train the full model\n",
        "  print(\"Starting full model training...\")\n",
        "  full_loss_history, full_val_loss_history, full_test_accuracy_history, full_val_accuracy_history = train_model(\n",
        "      n_epochs=N_EPOCHS_CYCLIC,\n",
        "      optimizer=optimizer_full,\n",
        "      scheduler=scheduler_full,\n",
        "      dataloader=train_loader,  # Assuming train_loader_finetuning is the same as train_loader\n",
        "      val_loader=val_loader,\n",
        "      model=model,\n",
        "      loss_fn=loss_fn\n",
        "  )\n",
        "\n",
        "  full_standard_acc_history[index, :] = full_test_accuracy_history\n",
        "  full_standard_loss_history[index, :] = full_loss_history\n",
        "\n",
        "\n",
        "  print(f\"Full-model for lr_base: {lr_base} and lr_max: {lr_max} done (no normalization).\")\n",
        "\n"
      ],
      "metadata": {
        "id": "C9oLm-GvUqTz",
        "colab": {
          "base_uri": "https://localhost:8080/"
        },
        "outputId": "dcd30623-358a-47c7-ec81-99278736411c"
      },
      "execution_count": null,
      "outputs": [
        {
          "output_type": "stream",
          "name": "stderr",
          "text": [
            "Using cache found in /root/.cache/torch/hub/pytorch_vision_v0.10.0\n",
            " 20%|██        | 1/5 [00:03<00:13,  3.42s/it]"
          ]
        },
        {
          "output_type": "stream",
          "name": "stdout",
          "text": [
            "Epoch 1, In-sample Loss: 0.2225, In-sample Accuracy: 0.0000\n",
            "Epoch 1, Out-sample Loss: 0.2350, Out-sample Accuracy: 0.0000\n"
          ]
        },
        {
          "output_type": "stream",
          "name": "stderr",
          "text": [
            "\r 20%|██        | 1/5 [00:04<00:18,  4.55s/it]\n"
          ]
        },
        {
          "output_type": "error",
          "ename": "KeyboardInterrupt",
          "evalue": "ignored",
          "traceback": [
            "\u001b[0;31m---------------------------------------------------------------------------\u001b[0m",
            "\u001b[0;31mKeyboardInterrupt\u001b[0m                         Traceback (most recent call last)",
            "\u001b[0;32m<ipython-input-15-8455289b528d>\u001b[0m in \u001b[0;36m<cell line: 11>\u001b[0;34m()\u001b[0m\n\u001b[1;32m     22\u001b[0m \u001b[0;34m\u001b[0m\u001b[0m\n\u001b[1;32m     23\u001b[0m   \u001b[0;31m# Train encoder\u001b[0m\u001b[0;34m\u001b[0m\u001b[0;34m\u001b[0m\u001b[0m\n\u001b[0;32m---> 24\u001b[0;31m   decoder_loss_history, decoder_val_loss_history, decoder_test_accuracy_history, decoder_val_accuracy_history = train_model(\n\u001b[0m\u001b[1;32m     25\u001b[0m     \u001b[0mn_epochs\u001b[0m\u001b[0;34m=\u001b[0m\u001b[0mDECODER_EPOCHS\u001b[0m\u001b[0;34m,\u001b[0m\u001b[0;34m\u001b[0m\u001b[0;34m\u001b[0m\u001b[0m\n\u001b[1;32m     26\u001b[0m     \u001b[0moptimizer\u001b[0m\u001b[0;34m=\u001b[0m\u001b[0moptimizer_decoder\u001b[0m\u001b[0;34m,\u001b[0m\u001b[0;34m\u001b[0m\u001b[0;34m\u001b[0m\u001b[0m\n",
            "\u001b[0;32m<ipython-input-12-9aeba61928cf>\u001b[0m in \u001b[0;36mtrain_model\u001b[0;34m(n_epochs, optimizer, scheduler, dataloader, val_loader, model, loss_fn)\u001b[0m\n\u001b[1;32m     27\u001b[0m         \u001b[0mmodel\u001b[0m\u001b[0;34m.\u001b[0m\u001b[0mtrain\u001b[0m\u001b[0;34m(\u001b[0m\u001b[0;34m)\u001b[0m\u001b[0;34m\u001b[0m\u001b[0;34m\u001b[0m\u001b[0m\n\u001b[1;32m     28\u001b[0m         \u001b[0;31m# print(f\"epoch: {epoch}\")\u001b[0m\u001b[0;34m\u001b[0m\u001b[0;34m\u001b[0m\u001b[0m\n\u001b[0;32m---> 29\u001b[0;31m         \u001b[0mepoch_loss\u001b[0m \u001b[0;34m=\u001b[0m \u001b[0mtrain_epoch\u001b[0m\u001b[0;34m(\u001b[0m\u001b[0mdataloader\u001b[0m\u001b[0;34m,\u001b[0m \u001b[0moptimizer\u001b[0m\u001b[0;34m,\u001b[0m \u001b[0mmodel\u001b[0m\u001b[0;34m,\u001b[0m \u001b[0mloss_fn\u001b[0m\u001b[0;34m,\u001b[0m \u001b[0mscaler\u001b[0m\u001b[0;34m)\u001b[0m\u001b[0;34m\u001b[0m\u001b[0;34m\u001b[0m\u001b[0m\n\u001b[0m\u001b[1;32m     30\u001b[0m         \u001b[0mscheduler\u001b[0m\u001b[0;34m.\u001b[0m\u001b[0mstep\u001b[0m\u001b[0;34m(\u001b[0m\u001b[0;34m)\u001b[0m\u001b[0;34m\u001b[0m\u001b[0;34m\u001b[0m\u001b[0m\n\u001b[1;32m     31\u001b[0m \u001b[0;34m\u001b[0m\u001b[0m\n",
            "\u001b[0;32m<ipython-input-12-9aeba61928cf>\u001b[0m in \u001b[0;36mtrain_epoch\u001b[0;34m(dataloader, optimizer, model, loss_fn, scaler)\u001b[0m\n\u001b[1;32m     11\u001b[0m         \u001b[0my_batch\u001b[0m \u001b[0;34m=\u001b[0m \u001b[0my_batch\u001b[0m\u001b[0;34m.\u001b[0m\u001b[0mto\u001b[0m\u001b[0;34m(\u001b[0m\u001b[0mdevice\u001b[0m\u001b[0;34m)\u001b[0m\u001b[0;34m\u001b[0m\u001b[0;34m\u001b[0m\u001b[0m\n\u001b[1;32m     12\u001b[0m         \u001b[0;32mwith\u001b[0m \u001b[0mtorch\u001b[0m\u001b[0;34m.\u001b[0m\u001b[0mcuda\u001b[0m\u001b[0;34m.\u001b[0m\u001b[0mamp\u001b[0m\u001b[0;34m.\u001b[0m\u001b[0mautocast\u001b[0m\u001b[0;34m(\u001b[0m\u001b[0;34m)\u001b[0m\u001b[0;34m:\u001b[0m\u001b[0;34m\u001b[0m\u001b[0;34m\u001b[0m\u001b[0m\n\u001b[0;32m---> 13\u001b[0;31m             \u001b[0my_pred\u001b[0m \u001b[0;34m=\u001b[0m \u001b[0mmodel\u001b[0m\u001b[0;34m(\u001b[0m\u001b[0mX_batch\u001b[0m\u001b[0;34m)\u001b[0m\u001b[0;34m\u001b[0m\u001b[0;34m\u001b[0m\u001b[0m\n\u001b[0m\u001b[1;32m     14\u001b[0m             \u001b[0mloss\u001b[0m \u001b[0;34m=\u001b[0m \u001b[0mloss_fn\u001b[0m\u001b[0;34m(\u001b[0m\u001b[0my_pred\u001b[0m\u001b[0;34m,\u001b[0m \u001b[0my_batch\u001b[0m\u001b[0;34m)\u001b[0m\u001b[0;34m\u001b[0m\u001b[0;34m\u001b[0m\u001b[0m\n\u001b[1;32m     15\u001b[0m         \u001b[0mscaler\u001b[0m\u001b[0;34m.\u001b[0m\u001b[0mscale\u001b[0m\u001b[0;34m(\u001b[0m\u001b[0mloss\u001b[0m\u001b[0;34m)\u001b[0m\u001b[0;34m.\u001b[0m\u001b[0mbackward\u001b[0m\u001b[0;34m(\u001b[0m\u001b[0;34m)\u001b[0m\u001b[0;34m\u001b[0m\u001b[0;34m\u001b[0m\u001b[0m\n",
            "\u001b[0;32m/usr/local/lib/python3.10/dist-packages/torch/nn/modules/module.py\u001b[0m in \u001b[0;36m_wrapped_call_impl\u001b[0;34m(self, *args, **kwargs)\u001b[0m\n\u001b[1;32m   1516\u001b[0m             \u001b[0;32mreturn\u001b[0m \u001b[0mself\u001b[0m\u001b[0;34m.\u001b[0m\u001b[0m_compiled_call_impl\u001b[0m\u001b[0;34m(\u001b[0m\u001b[0;34m*\u001b[0m\u001b[0margs\u001b[0m\u001b[0;34m,\u001b[0m \u001b[0;34m**\u001b[0m\u001b[0mkwargs\u001b[0m\u001b[0;34m)\u001b[0m  \u001b[0;31m# type: ignore[misc]\u001b[0m\u001b[0;34m\u001b[0m\u001b[0;34m\u001b[0m\u001b[0m\n\u001b[1;32m   1517\u001b[0m         \u001b[0;32melse\u001b[0m\u001b[0;34m:\u001b[0m\u001b[0;34m\u001b[0m\u001b[0;34m\u001b[0m\u001b[0m\n\u001b[0;32m-> 1518\u001b[0;31m             \u001b[0;32mreturn\u001b[0m \u001b[0mself\u001b[0m\u001b[0;34m.\u001b[0m\u001b[0m_call_impl\u001b[0m\u001b[0;34m(\u001b[0m\u001b[0;34m*\u001b[0m\u001b[0margs\u001b[0m\u001b[0;34m,\u001b[0m \u001b[0;34m**\u001b[0m\u001b[0mkwargs\u001b[0m\u001b[0;34m)\u001b[0m\u001b[0;34m\u001b[0m\u001b[0;34m\u001b[0m\u001b[0m\n\u001b[0m\u001b[1;32m   1519\u001b[0m \u001b[0;34m\u001b[0m\u001b[0m\n\u001b[1;32m   1520\u001b[0m     \u001b[0;32mdef\u001b[0m \u001b[0m_call_impl\u001b[0m\u001b[0;34m(\u001b[0m\u001b[0mself\u001b[0m\u001b[0;34m,\u001b[0m \u001b[0;34m*\u001b[0m\u001b[0margs\u001b[0m\u001b[0;34m,\u001b[0m \u001b[0;34m**\u001b[0m\u001b[0mkwargs\u001b[0m\u001b[0;34m)\u001b[0m\u001b[0;34m:\u001b[0m\u001b[0;34m\u001b[0m\u001b[0;34m\u001b[0m\u001b[0m\n",
            "\u001b[0;32m/usr/local/lib/python3.10/dist-packages/torch/nn/modules/module.py\u001b[0m in \u001b[0;36m_call_impl\u001b[0;34m(self, *args, **kwargs)\u001b[0m\n\u001b[1;32m   1525\u001b[0m                 \u001b[0;32mor\u001b[0m \u001b[0m_global_backward_pre_hooks\u001b[0m \u001b[0;32mor\u001b[0m \u001b[0m_global_backward_hooks\u001b[0m\u001b[0;34m\u001b[0m\u001b[0;34m\u001b[0m\u001b[0m\n\u001b[1;32m   1526\u001b[0m                 or _global_forward_hooks or _global_forward_pre_hooks):\n\u001b[0;32m-> 1527\u001b[0;31m             \u001b[0;32mreturn\u001b[0m \u001b[0mforward_call\u001b[0m\u001b[0;34m(\u001b[0m\u001b[0;34m*\u001b[0m\u001b[0margs\u001b[0m\u001b[0;34m,\u001b[0m \u001b[0;34m**\u001b[0m\u001b[0mkwargs\u001b[0m\u001b[0;34m)\u001b[0m\u001b[0;34m\u001b[0m\u001b[0;34m\u001b[0m\u001b[0m\n\u001b[0m\u001b[1;32m   1528\u001b[0m \u001b[0;34m\u001b[0m\u001b[0m\n\u001b[1;32m   1529\u001b[0m         \u001b[0;32mtry\u001b[0m\u001b[0;34m:\u001b[0m\u001b[0;34m\u001b[0m\u001b[0;34m\u001b[0m\u001b[0m\n",
            "\u001b[0;32m~/.cache/torch/hub/pytorch_vision_v0.10.0/torchvision/models/mobilenetv3.py\u001b[0m in \u001b[0;36mforward\u001b[0;34m(self, x)\u001b[0m\n\u001b[1;32m    183\u001b[0m \u001b[0;34m\u001b[0m\u001b[0m\n\u001b[1;32m    184\u001b[0m     \u001b[0;32mdef\u001b[0m \u001b[0mforward\u001b[0m\u001b[0;34m(\u001b[0m\u001b[0mself\u001b[0m\u001b[0;34m,\u001b[0m \u001b[0mx\u001b[0m\u001b[0;34m:\u001b[0m \u001b[0mTensor\u001b[0m\u001b[0;34m)\u001b[0m \u001b[0;34m->\u001b[0m \u001b[0mTensor\u001b[0m\u001b[0;34m:\u001b[0m\u001b[0;34m\u001b[0m\u001b[0;34m\u001b[0m\u001b[0m\n\u001b[0;32m--> 185\u001b[0;31m         \u001b[0;32mreturn\u001b[0m \u001b[0mself\u001b[0m\u001b[0;34m.\u001b[0m\u001b[0m_forward_impl\u001b[0m\u001b[0;34m(\u001b[0m\u001b[0mx\u001b[0m\u001b[0;34m)\u001b[0m\u001b[0;34m\u001b[0m\u001b[0;34m\u001b[0m\u001b[0m\n\u001b[0m\u001b[1;32m    186\u001b[0m \u001b[0;34m\u001b[0m\u001b[0m\n\u001b[1;32m    187\u001b[0m \u001b[0;34m\u001b[0m\u001b[0m\n",
            "\u001b[0;32m~/.cache/torch/hub/pytorch_vision_v0.10.0/torchvision/models/mobilenetv3.py\u001b[0m in \u001b[0;36m_forward_impl\u001b[0;34m(self, x)\u001b[0m\n\u001b[1;32m    173\u001b[0m \u001b[0;34m\u001b[0m\u001b[0m\n\u001b[1;32m    174\u001b[0m     \u001b[0;32mdef\u001b[0m \u001b[0m_forward_impl\u001b[0m\u001b[0;34m(\u001b[0m\u001b[0mself\u001b[0m\u001b[0;34m,\u001b[0m \u001b[0mx\u001b[0m\u001b[0;34m:\u001b[0m \u001b[0mTensor\u001b[0m\u001b[0;34m)\u001b[0m \u001b[0;34m->\u001b[0m \u001b[0mTensor\u001b[0m\u001b[0;34m:\u001b[0m\u001b[0;34m\u001b[0m\u001b[0;34m\u001b[0m\u001b[0m\n\u001b[0;32m--> 175\u001b[0;31m         \u001b[0mx\u001b[0m \u001b[0;34m=\u001b[0m \u001b[0mself\u001b[0m\u001b[0;34m.\u001b[0m\u001b[0mfeatures\u001b[0m\u001b[0;34m(\u001b[0m\u001b[0mx\u001b[0m\u001b[0;34m)\u001b[0m\u001b[0;34m\u001b[0m\u001b[0;34m\u001b[0m\u001b[0m\n\u001b[0m\u001b[1;32m    176\u001b[0m \u001b[0;34m\u001b[0m\u001b[0m\n\u001b[1;32m    177\u001b[0m         \u001b[0mx\u001b[0m \u001b[0;34m=\u001b[0m \u001b[0mself\u001b[0m\u001b[0;34m.\u001b[0m\u001b[0mavgpool\u001b[0m\u001b[0;34m(\u001b[0m\u001b[0mx\u001b[0m\u001b[0;34m)\u001b[0m\u001b[0;34m\u001b[0m\u001b[0;34m\u001b[0m\u001b[0m\n",
            "\u001b[0;32m/usr/local/lib/python3.10/dist-packages/torch/nn/modules/module.py\u001b[0m in \u001b[0;36m_wrapped_call_impl\u001b[0;34m(self, *args, **kwargs)\u001b[0m\n\u001b[1;32m   1516\u001b[0m             \u001b[0;32mreturn\u001b[0m \u001b[0mself\u001b[0m\u001b[0;34m.\u001b[0m\u001b[0m_compiled_call_impl\u001b[0m\u001b[0;34m(\u001b[0m\u001b[0;34m*\u001b[0m\u001b[0margs\u001b[0m\u001b[0;34m,\u001b[0m \u001b[0;34m**\u001b[0m\u001b[0mkwargs\u001b[0m\u001b[0;34m)\u001b[0m  \u001b[0;31m# type: ignore[misc]\u001b[0m\u001b[0;34m\u001b[0m\u001b[0;34m\u001b[0m\u001b[0m\n\u001b[1;32m   1517\u001b[0m         \u001b[0;32melse\u001b[0m\u001b[0;34m:\u001b[0m\u001b[0;34m\u001b[0m\u001b[0;34m\u001b[0m\u001b[0m\n\u001b[0;32m-> 1518\u001b[0;31m             \u001b[0;32mreturn\u001b[0m \u001b[0mself\u001b[0m\u001b[0;34m.\u001b[0m\u001b[0m_call_impl\u001b[0m\u001b[0;34m(\u001b[0m\u001b[0;34m*\u001b[0m\u001b[0margs\u001b[0m\u001b[0;34m,\u001b[0m \u001b[0;34m**\u001b[0m\u001b[0mkwargs\u001b[0m\u001b[0;34m)\u001b[0m\u001b[0;34m\u001b[0m\u001b[0;34m\u001b[0m\u001b[0m\n\u001b[0m\u001b[1;32m   1519\u001b[0m \u001b[0;34m\u001b[0m\u001b[0m\n\u001b[1;32m   1520\u001b[0m     \u001b[0;32mdef\u001b[0m \u001b[0m_call_impl\u001b[0m\u001b[0;34m(\u001b[0m\u001b[0mself\u001b[0m\u001b[0;34m,\u001b[0m \u001b[0;34m*\u001b[0m\u001b[0margs\u001b[0m\u001b[0;34m,\u001b[0m \u001b[0;34m**\u001b[0m\u001b[0mkwargs\u001b[0m\u001b[0;34m)\u001b[0m\u001b[0;34m:\u001b[0m\u001b[0;34m\u001b[0m\u001b[0;34m\u001b[0m\u001b[0m\n",
            "\u001b[0;32m/usr/local/lib/python3.10/dist-packages/torch/nn/modules/module.py\u001b[0m in \u001b[0;36m_call_impl\u001b[0;34m(self, *args, **kwargs)\u001b[0m\n\u001b[1;32m   1525\u001b[0m                 \u001b[0;32mor\u001b[0m \u001b[0m_global_backward_pre_hooks\u001b[0m \u001b[0;32mor\u001b[0m \u001b[0m_global_backward_hooks\u001b[0m\u001b[0;34m\u001b[0m\u001b[0;34m\u001b[0m\u001b[0m\n\u001b[1;32m   1526\u001b[0m                 or _global_forward_hooks or _global_forward_pre_hooks):\n\u001b[0;32m-> 1527\u001b[0;31m             \u001b[0;32mreturn\u001b[0m \u001b[0mforward_call\u001b[0m\u001b[0;34m(\u001b[0m\u001b[0;34m*\u001b[0m\u001b[0margs\u001b[0m\u001b[0;34m,\u001b[0m \u001b[0;34m**\u001b[0m\u001b[0mkwargs\u001b[0m\u001b[0;34m)\u001b[0m\u001b[0;34m\u001b[0m\u001b[0;34m\u001b[0m\u001b[0m\n\u001b[0m\u001b[1;32m   1528\u001b[0m \u001b[0;34m\u001b[0m\u001b[0m\n\u001b[1;32m   1529\u001b[0m         \u001b[0;32mtry\u001b[0m\u001b[0;34m:\u001b[0m\u001b[0;34m\u001b[0m\u001b[0;34m\u001b[0m\u001b[0m\n",
            "\u001b[0;32m/usr/local/lib/python3.10/dist-packages/torch/nn/modules/container.py\u001b[0m in \u001b[0;36mforward\u001b[0;34m(self, input)\u001b[0m\n\u001b[1;32m    213\u001b[0m     \u001b[0;32mdef\u001b[0m \u001b[0mforward\u001b[0m\u001b[0;34m(\u001b[0m\u001b[0mself\u001b[0m\u001b[0;34m,\u001b[0m \u001b[0minput\u001b[0m\u001b[0;34m)\u001b[0m\u001b[0;34m:\u001b[0m\u001b[0;34m\u001b[0m\u001b[0;34m\u001b[0m\u001b[0m\n\u001b[1;32m    214\u001b[0m         \u001b[0;32mfor\u001b[0m \u001b[0mmodule\u001b[0m \u001b[0;32min\u001b[0m \u001b[0mself\u001b[0m\u001b[0;34m:\u001b[0m\u001b[0;34m\u001b[0m\u001b[0;34m\u001b[0m\u001b[0m\n\u001b[0;32m--> 215\u001b[0;31m             \u001b[0minput\u001b[0m \u001b[0;34m=\u001b[0m \u001b[0mmodule\u001b[0m\u001b[0;34m(\u001b[0m\u001b[0minput\u001b[0m\u001b[0;34m)\u001b[0m\u001b[0;34m\u001b[0m\u001b[0;34m\u001b[0m\u001b[0m\n\u001b[0m\u001b[1;32m    216\u001b[0m         \u001b[0;32mreturn\u001b[0m \u001b[0minput\u001b[0m\u001b[0;34m\u001b[0m\u001b[0;34m\u001b[0m\u001b[0m\n\u001b[1;32m    217\u001b[0m \u001b[0;34m\u001b[0m\u001b[0m\n",
            "\u001b[0;32m/usr/local/lib/python3.10/dist-packages/torch/nn/modules/module.py\u001b[0m in \u001b[0;36m_wrapped_call_impl\u001b[0;34m(self, *args, **kwargs)\u001b[0m\n\u001b[1;32m   1516\u001b[0m             \u001b[0;32mreturn\u001b[0m \u001b[0mself\u001b[0m\u001b[0;34m.\u001b[0m\u001b[0m_compiled_call_impl\u001b[0m\u001b[0;34m(\u001b[0m\u001b[0;34m*\u001b[0m\u001b[0margs\u001b[0m\u001b[0;34m,\u001b[0m \u001b[0;34m**\u001b[0m\u001b[0mkwargs\u001b[0m\u001b[0;34m)\u001b[0m  \u001b[0;31m# type: ignore[misc]\u001b[0m\u001b[0;34m\u001b[0m\u001b[0;34m\u001b[0m\u001b[0m\n\u001b[1;32m   1517\u001b[0m         \u001b[0;32melse\u001b[0m\u001b[0;34m:\u001b[0m\u001b[0;34m\u001b[0m\u001b[0;34m\u001b[0m\u001b[0m\n\u001b[0;32m-> 1518\u001b[0;31m             \u001b[0;32mreturn\u001b[0m \u001b[0mself\u001b[0m\u001b[0;34m.\u001b[0m\u001b[0m_call_impl\u001b[0m\u001b[0;34m(\u001b[0m\u001b[0;34m*\u001b[0m\u001b[0margs\u001b[0m\u001b[0;34m,\u001b[0m \u001b[0;34m**\u001b[0m\u001b[0mkwargs\u001b[0m\u001b[0;34m)\u001b[0m\u001b[0;34m\u001b[0m\u001b[0;34m\u001b[0m\u001b[0m\n\u001b[0m\u001b[1;32m   1519\u001b[0m \u001b[0;34m\u001b[0m\u001b[0m\n\u001b[1;32m   1520\u001b[0m     \u001b[0;32mdef\u001b[0m \u001b[0m_call_impl\u001b[0m\u001b[0;34m(\u001b[0m\u001b[0mself\u001b[0m\u001b[0;34m,\u001b[0m \u001b[0;34m*\u001b[0m\u001b[0margs\u001b[0m\u001b[0;34m,\u001b[0m \u001b[0;34m**\u001b[0m\u001b[0mkwargs\u001b[0m\u001b[0;34m)\u001b[0m\u001b[0;34m:\u001b[0m\u001b[0;34m\u001b[0m\u001b[0;34m\u001b[0m\u001b[0m\n",
            "\u001b[0;32m/usr/local/lib/python3.10/dist-packages/torch/nn/modules/module.py\u001b[0m in \u001b[0;36m_call_impl\u001b[0;34m(self, *args, **kwargs)\u001b[0m\n\u001b[1;32m   1525\u001b[0m                 \u001b[0;32mor\u001b[0m \u001b[0m_global_backward_pre_hooks\u001b[0m \u001b[0;32mor\u001b[0m \u001b[0m_global_backward_hooks\u001b[0m\u001b[0;34m\u001b[0m\u001b[0;34m\u001b[0m\u001b[0m\n\u001b[1;32m   1526\u001b[0m                 or _global_forward_hooks or _global_forward_pre_hooks):\n\u001b[0;32m-> 1527\u001b[0;31m             \u001b[0;32mreturn\u001b[0m \u001b[0mforward_call\u001b[0m\u001b[0;34m(\u001b[0m\u001b[0;34m*\u001b[0m\u001b[0margs\u001b[0m\u001b[0;34m,\u001b[0m \u001b[0;34m**\u001b[0m\u001b[0mkwargs\u001b[0m\u001b[0;34m)\u001b[0m\u001b[0;34m\u001b[0m\u001b[0;34m\u001b[0m\u001b[0m\n\u001b[0m\u001b[1;32m   1528\u001b[0m \u001b[0;34m\u001b[0m\u001b[0m\n\u001b[1;32m   1529\u001b[0m         \u001b[0;32mtry\u001b[0m\u001b[0;34m:\u001b[0m\u001b[0;34m\u001b[0m\u001b[0;34m\u001b[0m\u001b[0m\n",
            "\u001b[0;32m~/.cache/torch/hub/pytorch_vision_v0.10.0/torchvision/models/mobilenetv3.py\u001b[0m in \u001b[0;36mforward\u001b[0;34m(self, input)\u001b[0m\n\u001b[1;32m     93\u001b[0m \u001b[0;34m\u001b[0m\u001b[0m\n\u001b[1;32m     94\u001b[0m     \u001b[0;32mdef\u001b[0m \u001b[0mforward\u001b[0m\u001b[0;34m(\u001b[0m\u001b[0mself\u001b[0m\u001b[0;34m,\u001b[0m \u001b[0minput\u001b[0m\u001b[0;34m:\u001b[0m \u001b[0mTensor\u001b[0m\u001b[0;34m)\u001b[0m \u001b[0;34m->\u001b[0m \u001b[0mTensor\u001b[0m\u001b[0;34m:\u001b[0m\u001b[0;34m\u001b[0m\u001b[0;34m\u001b[0m\u001b[0m\n\u001b[0;32m---> 95\u001b[0;31m         \u001b[0mresult\u001b[0m \u001b[0;34m=\u001b[0m \u001b[0mself\u001b[0m\u001b[0;34m.\u001b[0m\u001b[0mblock\u001b[0m\u001b[0;34m(\u001b[0m\u001b[0minput\u001b[0m\u001b[0;34m)\u001b[0m\u001b[0;34m\u001b[0m\u001b[0;34m\u001b[0m\u001b[0m\n\u001b[0m\u001b[1;32m     96\u001b[0m         \u001b[0;32mif\u001b[0m \u001b[0mself\u001b[0m\u001b[0;34m.\u001b[0m\u001b[0muse_res_connect\u001b[0m\u001b[0;34m:\u001b[0m\u001b[0;34m\u001b[0m\u001b[0;34m\u001b[0m\u001b[0m\n\u001b[1;32m     97\u001b[0m             \u001b[0mresult\u001b[0m \u001b[0;34m+=\u001b[0m \u001b[0minput\u001b[0m\u001b[0;34m\u001b[0m\u001b[0;34m\u001b[0m\u001b[0m\n",
            "\u001b[0;32m/usr/local/lib/python3.10/dist-packages/torch/nn/modules/module.py\u001b[0m in \u001b[0;36m_wrapped_call_impl\u001b[0;34m(self, *args, **kwargs)\u001b[0m\n\u001b[1;32m   1516\u001b[0m             \u001b[0;32mreturn\u001b[0m \u001b[0mself\u001b[0m\u001b[0;34m.\u001b[0m\u001b[0m_compiled_call_impl\u001b[0m\u001b[0;34m(\u001b[0m\u001b[0;34m*\u001b[0m\u001b[0margs\u001b[0m\u001b[0;34m,\u001b[0m \u001b[0;34m**\u001b[0m\u001b[0mkwargs\u001b[0m\u001b[0;34m)\u001b[0m  \u001b[0;31m# type: ignore[misc]\u001b[0m\u001b[0;34m\u001b[0m\u001b[0;34m\u001b[0m\u001b[0m\n\u001b[1;32m   1517\u001b[0m         \u001b[0;32melse\u001b[0m\u001b[0;34m:\u001b[0m\u001b[0;34m\u001b[0m\u001b[0;34m\u001b[0m\u001b[0m\n\u001b[0;32m-> 1518\u001b[0;31m             \u001b[0;32mreturn\u001b[0m \u001b[0mself\u001b[0m\u001b[0;34m.\u001b[0m\u001b[0m_call_impl\u001b[0m\u001b[0;34m(\u001b[0m\u001b[0;34m*\u001b[0m\u001b[0margs\u001b[0m\u001b[0;34m,\u001b[0m \u001b[0;34m**\u001b[0m\u001b[0mkwargs\u001b[0m\u001b[0;34m)\u001b[0m\u001b[0;34m\u001b[0m\u001b[0;34m\u001b[0m\u001b[0m\n\u001b[0m\u001b[1;32m   1519\u001b[0m \u001b[0;34m\u001b[0m\u001b[0m\n\u001b[1;32m   1520\u001b[0m     \u001b[0;32mdef\u001b[0m \u001b[0m_call_impl\u001b[0m\u001b[0;34m(\u001b[0m\u001b[0mself\u001b[0m\u001b[0;34m,\u001b[0m \u001b[0;34m*\u001b[0m\u001b[0margs\u001b[0m\u001b[0;34m,\u001b[0m \u001b[0;34m**\u001b[0m\u001b[0mkwargs\u001b[0m\u001b[0;34m)\u001b[0m\u001b[0;34m:\u001b[0m\u001b[0;34m\u001b[0m\u001b[0;34m\u001b[0m\u001b[0m\n",
            "\u001b[0;32m/usr/local/lib/python3.10/dist-packages/torch/nn/modules/module.py\u001b[0m in \u001b[0;36m_call_impl\u001b[0;34m(self, *args, **kwargs)\u001b[0m\n\u001b[1;32m   1525\u001b[0m                 \u001b[0;32mor\u001b[0m \u001b[0m_global_backward_pre_hooks\u001b[0m \u001b[0;32mor\u001b[0m \u001b[0m_global_backward_hooks\u001b[0m\u001b[0;34m\u001b[0m\u001b[0;34m\u001b[0m\u001b[0m\n\u001b[1;32m   1526\u001b[0m                 or _global_forward_hooks or _global_forward_pre_hooks):\n\u001b[0;32m-> 1527\u001b[0;31m             \u001b[0;32mreturn\u001b[0m \u001b[0mforward_call\u001b[0m\u001b[0;34m(\u001b[0m\u001b[0;34m*\u001b[0m\u001b[0margs\u001b[0m\u001b[0;34m,\u001b[0m \u001b[0;34m**\u001b[0m\u001b[0mkwargs\u001b[0m\u001b[0;34m)\u001b[0m\u001b[0;34m\u001b[0m\u001b[0;34m\u001b[0m\u001b[0m\n\u001b[0m\u001b[1;32m   1528\u001b[0m \u001b[0;34m\u001b[0m\u001b[0m\n\u001b[1;32m   1529\u001b[0m         \u001b[0;32mtry\u001b[0m\u001b[0;34m:\u001b[0m\u001b[0;34m\u001b[0m\u001b[0;34m\u001b[0m\u001b[0m\n",
            "\u001b[0;32m/usr/local/lib/python3.10/dist-packages/torch/nn/modules/container.py\u001b[0m in \u001b[0;36mforward\u001b[0;34m(self, input)\u001b[0m\n\u001b[1;32m    213\u001b[0m     \u001b[0;32mdef\u001b[0m \u001b[0mforward\u001b[0m\u001b[0;34m(\u001b[0m\u001b[0mself\u001b[0m\u001b[0;34m,\u001b[0m \u001b[0minput\u001b[0m\u001b[0;34m)\u001b[0m\u001b[0;34m:\u001b[0m\u001b[0;34m\u001b[0m\u001b[0;34m\u001b[0m\u001b[0m\n\u001b[1;32m    214\u001b[0m         \u001b[0;32mfor\u001b[0m \u001b[0mmodule\u001b[0m \u001b[0;32min\u001b[0m \u001b[0mself\u001b[0m\u001b[0;34m:\u001b[0m\u001b[0;34m\u001b[0m\u001b[0;34m\u001b[0m\u001b[0m\n\u001b[0;32m--> 215\u001b[0;31m             \u001b[0minput\u001b[0m \u001b[0;34m=\u001b[0m \u001b[0mmodule\u001b[0m\u001b[0;34m(\u001b[0m\u001b[0minput\u001b[0m\u001b[0;34m)\u001b[0m\u001b[0;34m\u001b[0m\u001b[0;34m\u001b[0m\u001b[0m\n\u001b[0m\u001b[1;32m    216\u001b[0m         \u001b[0;32mreturn\u001b[0m \u001b[0minput\u001b[0m\u001b[0;34m\u001b[0m\u001b[0;34m\u001b[0m\u001b[0m\n\u001b[1;32m    217\u001b[0m \u001b[0;34m\u001b[0m\u001b[0m\n",
            "\u001b[0;32m/usr/local/lib/python3.10/dist-packages/torch/nn/modules/module.py\u001b[0m in \u001b[0;36m_wrapped_call_impl\u001b[0;34m(self, *args, **kwargs)\u001b[0m\n\u001b[1;32m   1516\u001b[0m             \u001b[0;32mreturn\u001b[0m \u001b[0mself\u001b[0m\u001b[0;34m.\u001b[0m\u001b[0m_compiled_call_impl\u001b[0m\u001b[0;34m(\u001b[0m\u001b[0;34m*\u001b[0m\u001b[0margs\u001b[0m\u001b[0;34m,\u001b[0m \u001b[0;34m**\u001b[0m\u001b[0mkwargs\u001b[0m\u001b[0;34m)\u001b[0m  \u001b[0;31m# type: ignore[misc]\u001b[0m\u001b[0;34m\u001b[0m\u001b[0;34m\u001b[0m\u001b[0m\n\u001b[1;32m   1517\u001b[0m         \u001b[0;32melse\u001b[0m\u001b[0;34m:\u001b[0m\u001b[0;34m\u001b[0m\u001b[0;34m\u001b[0m\u001b[0m\n\u001b[0;32m-> 1518\u001b[0;31m             \u001b[0;32mreturn\u001b[0m \u001b[0mself\u001b[0m\u001b[0;34m.\u001b[0m\u001b[0m_call_impl\u001b[0m\u001b[0;34m(\u001b[0m\u001b[0;34m*\u001b[0m\u001b[0margs\u001b[0m\u001b[0;34m,\u001b[0m \u001b[0;34m**\u001b[0m\u001b[0mkwargs\u001b[0m\u001b[0;34m)\u001b[0m\u001b[0;34m\u001b[0m\u001b[0;34m\u001b[0m\u001b[0m\n\u001b[0m\u001b[1;32m   1519\u001b[0m \u001b[0;34m\u001b[0m\u001b[0m\n\u001b[1;32m   1520\u001b[0m     \u001b[0;32mdef\u001b[0m \u001b[0m_call_impl\u001b[0m\u001b[0;34m(\u001b[0m\u001b[0mself\u001b[0m\u001b[0;34m,\u001b[0m \u001b[0;34m*\u001b[0m\u001b[0margs\u001b[0m\u001b[0;34m,\u001b[0m \u001b[0;34m**\u001b[0m\u001b[0mkwargs\u001b[0m\u001b[0;34m)\u001b[0m\u001b[0;34m:\u001b[0m\u001b[0;34m\u001b[0m\u001b[0;34m\u001b[0m\u001b[0m\n",
            "\u001b[0;32m/usr/local/lib/python3.10/dist-packages/torch/nn/modules/module.py\u001b[0m in \u001b[0;36m_call_impl\u001b[0;34m(self, *args, **kwargs)\u001b[0m\n\u001b[1;32m   1525\u001b[0m                 \u001b[0;32mor\u001b[0m \u001b[0m_global_backward_pre_hooks\u001b[0m \u001b[0;32mor\u001b[0m \u001b[0m_global_backward_hooks\u001b[0m\u001b[0;34m\u001b[0m\u001b[0;34m\u001b[0m\u001b[0m\n\u001b[1;32m   1526\u001b[0m                 or _global_forward_hooks or _global_forward_pre_hooks):\n\u001b[0;32m-> 1527\u001b[0;31m             \u001b[0;32mreturn\u001b[0m \u001b[0mforward_call\u001b[0m\u001b[0;34m(\u001b[0m\u001b[0;34m*\u001b[0m\u001b[0margs\u001b[0m\u001b[0;34m,\u001b[0m \u001b[0;34m**\u001b[0m\u001b[0mkwargs\u001b[0m\u001b[0;34m)\u001b[0m\u001b[0;34m\u001b[0m\u001b[0;34m\u001b[0m\u001b[0m\n\u001b[0m\u001b[1;32m   1528\u001b[0m \u001b[0;34m\u001b[0m\u001b[0m\n\u001b[1;32m   1529\u001b[0m         \u001b[0;32mtry\u001b[0m\u001b[0;34m:\u001b[0m\u001b[0;34m\u001b[0m\u001b[0;34m\u001b[0m\u001b[0m\n",
            "\u001b[0;32m/usr/local/lib/python3.10/dist-packages/torch/nn/modules/container.py\u001b[0m in \u001b[0;36mforward\u001b[0;34m(self, input)\u001b[0m\n\u001b[1;32m    213\u001b[0m     \u001b[0;32mdef\u001b[0m \u001b[0mforward\u001b[0m\u001b[0;34m(\u001b[0m\u001b[0mself\u001b[0m\u001b[0;34m,\u001b[0m \u001b[0minput\u001b[0m\u001b[0;34m)\u001b[0m\u001b[0;34m:\u001b[0m\u001b[0;34m\u001b[0m\u001b[0;34m\u001b[0m\u001b[0m\n\u001b[1;32m    214\u001b[0m         \u001b[0;32mfor\u001b[0m \u001b[0mmodule\u001b[0m \u001b[0;32min\u001b[0m \u001b[0mself\u001b[0m\u001b[0;34m:\u001b[0m\u001b[0;34m\u001b[0m\u001b[0;34m\u001b[0m\u001b[0m\n\u001b[0;32m--> 215\u001b[0;31m             \u001b[0minput\u001b[0m \u001b[0;34m=\u001b[0m \u001b[0mmodule\u001b[0m\u001b[0;34m(\u001b[0m\u001b[0minput\u001b[0m\u001b[0;34m)\u001b[0m\u001b[0;34m\u001b[0m\u001b[0;34m\u001b[0m\u001b[0m\n\u001b[0m\u001b[1;32m    216\u001b[0m         \u001b[0;32mreturn\u001b[0m \u001b[0minput\u001b[0m\u001b[0;34m\u001b[0m\u001b[0;34m\u001b[0m\u001b[0m\n\u001b[1;32m    217\u001b[0m \u001b[0;34m\u001b[0m\u001b[0m\n",
            "\u001b[0;32m/usr/local/lib/python3.10/dist-packages/torch/nn/modules/module.py\u001b[0m in \u001b[0;36m_wrapped_call_impl\u001b[0;34m(self, *args, **kwargs)\u001b[0m\n\u001b[1;32m   1516\u001b[0m             \u001b[0;32mreturn\u001b[0m \u001b[0mself\u001b[0m\u001b[0;34m.\u001b[0m\u001b[0m_compiled_call_impl\u001b[0m\u001b[0;34m(\u001b[0m\u001b[0;34m*\u001b[0m\u001b[0margs\u001b[0m\u001b[0;34m,\u001b[0m \u001b[0;34m**\u001b[0m\u001b[0mkwargs\u001b[0m\u001b[0;34m)\u001b[0m  \u001b[0;31m# type: ignore[misc]\u001b[0m\u001b[0;34m\u001b[0m\u001b[0;34m\u001b[0m\u001b[0m\n\u001b[1;32m   1517\u001b[0m         \u001b[0;32melse\u001b[0m\u001b[0;34m:\u001b[0m\u001b[0;34m\u001b[0m\u001b[0;34m\u001b[0m\u001b[0m\n\u001b[0;32m-> 1518\u001b[0;31m             \u001b[0;32mreturn\u001b[0m \u001b[0mself\u001b[0m\u001b[0;34m.\u001b[0m\u001b[0m_call_impl\u001b[0m\u001b[0;34m(\u001b[0m\u001b[0;34m*\u001b[0m\u001b[0margs\u001b[0m\u001b[0;34m,\u001b[0m \u001b[0;34m**\u001b[0m\u001b[0mkwargs\u001b[0m\u001b[0;34m)\u001b[0m\u001b[0;34m\u001b[0m\u001b[0;34m\u001b[0m\u001b[0m\n\u001b[0m\u001b[1;32m   1519\u001b[0m \u001b[0;34m\u001b[0m\u001b[0m\n\u001b[1;32m   1520\u001b[0m     \u001b[0;32mdef\u001b[0m \u001b[0m_call_impl\u001b[0m\u001b[0;34m(\u001b[0m\u001b[0mself\u001b[0m\u001b[0;34m,\u001b[0m \u001b[0;34m*\u001b[0m\u001b[0margs\u001b[0m\u001b[0;34m,\u001b[0m \u001b[0;34m**\u001b[0m\u001b[0mkwargs\u001b[0m\u001b[0;34m)\u001b[0m\u001b[0;34m:\u001b[0m\u001b[0;34m\u001b[0m\u001b[0;34m\u001b[0m\u001b[0m\n",
            "\u001b[0;32m/usr/local/lib/python3.10/dist-packages/torch/nn/modules/module.py\u001b[0m in \u001b[0;36m_call_impl\u001b[0;34m(self, *args, **kwargs)\u001b[0m\n\u001b[1;32m   1525\u001b[0m                 \u001b[0;32mor\u001b[0m \u001b[0m_global_backward_pre_hooks\u001b[0m \u001b[0;32mor\u001b[0m \u001b[0m_global_backward_hooks\u001b[0m\u001b[0;34m\u001b[0m\u001b[0;34m\u001b[0m\u001b[0m\n\u001b[1;32m   1526\u001b[0m                 or _global_forward_hooks or _global_forward_pre_hooks):\n\u001b[0;32m-> 1527\u001b[0;31m             \u001b[0;32mreturn\u001b[0m \u001b[0mforward_call\u001b[0m\u001b[0;34m(\u001b[0m\u001b[0;34m*\u001b[0m\u001b[0margs\u001b[0m\u001b[0;34m,\u001b[0m \u001b[0;34m**\u001b[0m\u001b[0mkwargs\u001b[0m\u001b[0;34m)\u001b[0m\u001b[0;34m\u001b[0m\u001b[0;34m\u001b[0m\u001b[0m\n\u001b[0m\u001b[1;32m   1528\u001b[0m \u001b[0;34m\u001b[0m\u001b[0m\n\u001b[1;32m   1529\u001b[0m         \u001b[0;32mtry\u001b[0m\u001b[0;34m:\u001b[0m\u001b[0;34m\u001b[0m\u001b[0;34m\u001b[0m\u001b[0m\n",
            "\u001b[0;32m/usr/local/lib/python3.10/dist-packages/torch/nn/modules/conv.py\u001b[0m in \u001b[0;36mforward\u001b[0;34m(self, input)\u001b[0m\n\u001b[1;32m    458\u001b[0m \u001b[0;34m\u001b[0m\u001b[0m\n\u001b[1;32m    459\u001b[0m     \u001b[0;32mdef\u001b[0m \u001b[0mforward\u001b[0m\u001b[0;34m(\u001b[0m\u001b[0mself\u001b[0m\u001b[0;34m,\u001b[0m \u001b[0minput\u001b[0m\u001b[0;34m:\u001b[0m \u001b[0mTensor\u001b[0m\u001b[0;34m)\u001b[0m \u001b[0;34m->\u001b[0m \u001b[0mTensor\u001b[0m\u001b[0;34m:\u001b[0m\u001b[0;34m\u001b[0m\u001b[0;34m\u001b[0m\u001b[0m\n\u001b[0;32m--> 460\u001b[0;31m         \u001b[0;32mreturn\u001b[0m \u001b[0mself\u001b[0m\u001b[0;34m.\u001b[0m\u001b[0m_conv_forward\u001b[0m\u001b[0;34m(\u001b[0m\u001b[0minput\u001b[0m\u001b[0;34m,\u001b[0m \u001b[0mself\u001b[0m\u001b[0;34m.\u001b[0m\u001b[0mweight\u001b[0m\u001b[0;34m,\u001b[0m \u001b[0mself\u001b[0m\u001b[0;34m.\u001b[0m\u001b[0mbias\u001b[0m\u001b[0;34m)\u001b[0m\u001b[0;34m\u001b[0m\u001b[0;34m\u001b[0m\u001b[0m\n\u001b[0m\u001b[1;32m    461\u001b[0m \u001b[0;34m\u001b[0m\u001b[0m\n\u001b[1;32m    462\u001b[0m \u001b[0;32mclass\u001b[0m \u001b[0mConv3d\u001b[0m\u001b[0;34m(\u001b[0m\u001b[0m_ConvNd\u001b[0m\u001b[0;34m)\u001b[0m\u001b[0;34m:\u001b[0m\u001b[0;34m\u001b[0m\u001b[0;34m\u001b[0m\u001b[0m\n",
            "\u001b[0;32m/usr/local/lib/python3.10/dist-packages/torch/nn/modules/conv.py\u001b[0m in \u001b[0;36m_conv_forward\u001b[0;34m(self, input, weight, bias)\u001b[0m\n\u001b[1;32m    454\u001b[0m                             \u001b[0mweight\u001b[0m\u001b[0;34m,\u001b[0m \u001b[0mbias\u001b[0m\u001b[0;34m,\u001b[0m \u001b[0mself\u001b[0m\u001b[0;34m.\u001b[0m\u001b[0mstride\u001b[0m\u001b[0;34m,\u001b[0m\u001b[0;34m\u001b[0m\u001b[0;34m\u001b[0m\u001b[0m\n\u001b[1;32m    455\u001b[0m                             _pair(0), self.dilation, self.groups)\n\u001b[0;32m--> 456\u001b[0;31m         return F.conv2d(input, weight, bias, self.stride,\n\u001b[0m\u001b[1;32m    457\u001b[0m                         self.padding, self.dilation, self.groups)\n\u001b[1;32m    458\u001b[0m \u001b[0;34m\u001b[0m\u001b[0m\n",
            "\u001b[0;31mKeyboardInterrupt\u001b[0m: "
          ]
        }
      ]
    },
    {
      "cell_type": "code",
      "source": [
        "# Now with normalized labels\n",
        "\n",
        "decoder_normalized_acc_history = np.zeros((len(lr_to_test),DECODER_EPOCHS))\n",
        "full_normalized_acc_history = np.zeros((len(lr_to_test),N_EPOCHS_CYCLIC))\n",
        "\n",
        "decoder_normalized_loss_history = np.zeros((len(lr_to_test),DECODER_EPOCHS))\n",
        "full_normalized_loss_history = np.zeros((len(lr_to_test),N_EPOCHS_CYCLIC))\n",
        "\n",
        "\n",
        "train_dataset = LabelFpsDataLoader(TRAIN_PATH, (500, 1000), normalize_labels=True)\n",
        "train_loader = DataLoader(train_dataset, batch_size=TRAIN_BATCH_SIZE, shuffle=True, num_workers=2)\n",
        "val_dataset = LabelFpsDataLoader(TEST_PATH, (500, 1000), normalize_labels=True)\n",
        "val_loader = DataLoader(val_dataset, batch_size=VAL_BATCH_SIZE, shuffle=True, num_workers=2)\n",
        "\n",
        "if USE_SUBSET:\n",
        "    train_dataset = Subset(train_dataset, indices=range(SUBSET_INDICES))\n",
        "    train_loader = DataLoader(train_dataset, batch_size=TRAIN_BATCH_SIZE, shuffle=True, num_workers=2, pin_memory=True)\n",
        "\n",
        "    val_dataset = Subset(val_dataset, indices=range(SUBSET_VAL_INDICES))\n",
        "    val_loader = DataLoader(val_dataset, batch_size=VAL_BATCH_SIZE, shuffle=True, num_workers=2)\n",
        "\n",
        "for index, (lr_base, lr_max) in enumerate(lr_to_test):\n",
        "  # Setup model\n",
        "  model = get_new_model()\n",
        "  model.to(device)\n",
        "  loss_fn = nn.MSELoss()\n",
        "  optimizer_decoder = optim.AdamW(model.parameters(), lr=lr_base)\n",
        "  scheduler_decoder = optim.lr_scheduler.CyclicLR(optimizer_decoder, base_lr=lr_base, max_lr=lr_max, cycle_momentum=False, step_size_up=DECODER_EPOCHS/6)\n",
        "  optimizer_full = optim.AdamW(model.parameters(), lr=lr_base)\n",
        "  scheduler_full = optim.lr_scheduler.CyclicLR(optimizer_decoder, base_lr=lr_base, max_lr=lr_max, cycle_momentum=False, step_size_up=N_EPOCHS_CYCLIC/6)\n",
        "\n",
        "  # Train encoder\n",
        "  decoder_loss_history, decoder_val_loss_history, decoder_test_accuracy_history, decoder_val_accuracy_history = train_model(\n",
        "    n_epochs=DECODER_EPOCHS,\n",
        "    optimizer=optimizer_decoder,\n",
        "    scheduler=scheduler_decoder,\n",
        "    dataloader=train_loader,\n",
        "    val_loader=val_loader,\n",
        "    model=model,\n",
        "    loss_fn=loss_fn\n",
        "  )\n",
        "  print(f\"Encoder for lr_base: {lr_base} and lr_max: {lr_max} done (with normalization).\")\n",
        "  decoder_normalized_acc_history[index, :] = decoder_test_accuracy_history\n",
        "  decoder_normalized_loss_history[index, :] = decoder_loss_history\n",
        "\n",
        "\n",
        "\n",
        "  # Unfreeze model layers for full model training\n",
        "  for param in model.parameters():\n",
        "    param.requires_grad = True\n",
        "\n",
        "\n",
        "  # Now train the full model\n",
        "  print(\"Starting full model training...\")\n",
        "  full_loss_history, full_val_loss_history, full_test_accuracy_history, full_val_accuracy_history = train_model(\n",
        "      n_epochs=N_EPOCHS_CYCLIC,\n",
        "      optimizer=optimizer_full,\n",
        "      scheduler=scheduler_full,\n",
        "      dataloader=train_loader,  # Assuming train_loader_finetuning is the same as train_loader\n",
        "      val_loader=val_loader,\n",
        "      model=model,\n",
        "      loss_fn=loss_fn\n",
        "  )\n",
        "\n",
        "  full_normalized_acc_history[index, :] = full_test_accuracy_history\n",
        "  full_normalized_loss_history[index, :] = full_loss_history\n",
        "  print(f\"Full-model for lr_base: {lr_base} and lr_max: {lr_max} done (with normalization).\")\n"
      ],
      "metadata": {
        "colab": {
          "base_uri": "https://localhost:8080/"
        },
        "id": "9jOoT1b8dEZq",
        "outputId": "24229ab6-eb8f-4f44-fd0b-e7484bcd89de"
      },
      "execution_count": null,
      "outputs": [
        {
          "output_type": "stream",
          "name": "stderr",
          "text": [
            "Using cache found in /root/.cache/torch/hub/pytorch_vision_v0.10.0\n",
            "  5%|▌         | 1/20 [00:03<01:14,  3.93s/it]"
          ]
        },
        {
          "output_type": "stream",
          "name": "stdout",
          "text": [
            "Epoch 1, In-sample Loss: 0.1209, In-sample Accuracy: 0.0000\n",
            "Epoch 1, Out-sample Loss: 0.1397, Out-sample Accuracy: 0.0000\n"
          ]
        },
        {
          "output_type": "stream",
          "name": "stderr",
          "text": [
            " 10%|█         | 2/20 [00:06<00:53,  2.97s/it]"
          ]
        },
        {
          "output_type": "stream",
          "name": "stdout",
          "text": [
            "Epoch 2, In-sample Loss: 0.1102, In-sample Accuracy: 0.0000\n",
            "Epoch 2, Out-sample Loss: 0.1295, Out-sample Accuracy: 0.0000\n"
          ]
        },
        {
          "output_type": "stream",
          "name": "stderr",
          "text": [
            " 15%|█▌        | 3/20 [00:08<00:44,  2.63s/it]"
          ]
        },
        {
          "output_type": "stream",
          "name": "stdout",
          "text": [
            "Epoch 3, In-sample Loss: 0.0939, In-sample Accuracy: 0.0000\n",
            "Epoch 3, Out-sample Loss: 0.1126, Out-sample Accuracy: 0.0000\n"
          ]
        },
        {
          "output_type": "stream",
          "name": "stderr",
          "text": [
            " 20%|██        | 4/20 [00:10<00:39,  2.47s/it]"
          ]
        },
        {
          "output_type": "stream",
          "name": "stdout",
          "text": [
            "Epoch 4, In-sample Loss: 0.0469, In-sample Accuracy: 0.0000\n",
            "Epoch 4, Out-sample Loss: 0.0678, Out-sample Accuracy: 0.0000\n"
          ]
        },
        {
          "output_type": "stream",
          "name": "stderr",
          "text": [
            " 25%|██▌       | 5/20 [00:12<00:35,  2.39s/it]"
          ]
        },
        {
          "output_type": "stream",
          "name": "stdout",
          "text": [
            "Epoch 5, In-sample Loss: 0.0215, In-sample Accuracy: 0.0000\n",
            "Epoch 5, Out-sample Loss: 0.0388, Out-sample Accuracy: 0.0000\n"
          ]
        },
        {
          "output_type": "stream",
          "name": "stderr",
          "text": [
            " 30%|███       | 6/20 [00:16<00:39,  2.82s/it]"
          ]
        },
        {
          "output_type": "stream",
          "name": "stdout",
          "text": [
            "Epoch 6, In-sample Loss: 0.0466, In-sample Accuracy: 0.0000\n",
            "Epoch 6, Out-sample Loss: 0.0675, Out-sample Accuracy: 0.0000\n"
          ]
        },
        {
          "output_type": "stream",
          "name": "stderr",
          "text": [
            " 35%|███▌      | 7/20 [00:21<00:43,  3.38s/it]"
          ]
        },
        {
          "output_type": "stream",
          "name": "stdout",
          "text": [
            "Epoch 7, In-sample Loss: 0.0249, In-sample Accuracy: 0.0000\n",
            "Epoch 7, Out-sample Loss: 0.0458, Out-sample Accuracy: 0.0000\n"
          ]
        },
        {
          "output_type": "stream",
          "name": "stderr",
          "text": [
            " 40%|████      | 8/20 [00:24<00:40,  3.34s/it]"
          ]
        },
        {
          "output_type": "stream",
          "name": "stdout",
          "text": [
            "Epoch 8, In-sample Loss: 0.0240, In-sample Accuracy: 0.0000\n",
            "Epoch 8, Out-sample Loss: 0.0443, Out-sample Accuracy: 0.0000\n"
          ]
        },
        {
          "output_type": "stream",
          "name": "stderr",
          "text": [
            " 45%|████▌     | 9/20 [00:27<00:35,  3.20s/it]"
          ]
        },
        {
          "output_type": "stream",
          "name": "stdout",
          "text": [
            "Epoch 9, In-sample Loss: 0.0252, In-sample Accuracy: 0.0000\n",
            "Epoch 9, Out-sample Loss: 0.0453, Out-sample Accuracy: 0.0000\n"
          ]
        },
        {
          "output_type": "stream",
          "name": "stderr",
          "text": [
            " 50%|█████     | 10/20 [00:29<00:28,  2.90s/it]"
          ]
        },
        {
          "output_type": "stream",
          "name": "stdout",
          "text": [
            "Epoch 10, In-sample Loss: 0.0244, In-sample Accuracy: 0.0000\n",
            "Epoch 10, Out-sample Loss: 0.0440, Out-sample Accuracy: 0.0000\n"
          ]
        },
        {
          "output_type": "stream",
          "name": "stderr",
          "text": [
            " 55%|█████▌    | 11/20 [00:33<00:29,  3.25s/it]"
          ]
        },
        {
          "output_type": "stream",
          "name": "stdout",
          "text": [
            "Epoch 11, In-sample Loss: 0.0183, In-sample Accuracy: 0.0000\n",
            "Epoch 11, Out-sample Loss: 0.0366, Out-sample Accuracy: 0.0000\n"
          ]
        },
        {
          "output_type": "stream",
          "name": "stderr",
          "text": [
            " 60%|██████    | 12/20 [00:38<00:30,  3.76s/it]"
          ]
        },
        {
          "output_type": "stream",
          "name": "stdout",
          "text": [
            "Epoch 12, In-sample Loss: 0.0142, In-sample Accuracy: 0.0000\n",
            "Epoch 12, Out-sample Loss: 0.0320, Out-sample Accuracy: 0.0000\n"
          ]
        },
        {
          "output_type": "stream",
          "name": "stderr",
          "text": [
            " 65%|██████▌   | 13/20 [00:40<00:22,  3.28s/it]"
          ]
        },
        {
          "output_type": "stream",
          "name": "stdout",
          "text": [
            "Epoch 13, In-sample Loss: 0.0193, In-sample Accuracy: 0.0000\n",
            "Epoch 13, Out-sample Loss: 0.0374, Out-sample Accuracy: 0.0000\n"
          ]
        },
        {
          "output_type": "stream",
          "name": "stderr",
          "text": [
            " 70%|███████   | 14/20 [00:43<00:18,  3.02s/it]"
          ]
        },
        {
          "output_type": "stream",
          "name": "stdout",
          "text": [
            "Epoch 14, In-sample Loss: 0.0155, In-sample Accuracy: 0.0000\n",
            "Epoch 14, Out-sample Loss: 0.0329, Out-sample Accuracy: 0.0000\n"
          ]
        },
        {
          "output_type": "stream",
          "name": "stderr",
          "text": [
            " 75%|███████▌  | 15/20 [00:45<00:13,  2.77s/it]"
          ]
        },
        {
          "output_type": "stream",
          "name": "stdout",
          "text": [
            "Epoch 15, In-sample Loss: 0.0155, In-sample Accuracy: 0.0000\n",
            "Epoch 15, Out-sample Loss: 0.0323, Out-sample Accuracy: 0.0000\n"
          ]
        },
        {
          "output_type": "stream",
          "name": "stderr",
          "text": [
            " 80%|████████  | 16/20 [00:47<00:10,  2.66s/it]"
          ]
        },
        {
          "output_type": "stream",
          "name": "stdout",
          "text": [
            "Epoch 16, In-sample Loss: 0.0175, In-sample Accuracy: 0.0000\n",
            "Epoch 16, Out-sample Loss: 0.0340, Out-sample Accuracy: 0.0000\n"
          ]
        },
        {
          "output_type": "stream",
          "name": "stderr",
          "text": [
            " 85%|████████▌ | 17/20 [00:52<00:09,  3.31s/it]"
          ]
        },
        {
          "output_type": "stream",
          "name": "stdout",
          "text": [
            "Epoch 17, In-sample Loss: 0.0156, In-sample Accuracy: 0.0000\n",
            "Epoch 17, Out-sample Loss: 0.0315, Out-sample Accuracy: 0.0000\n"
          ]
        },
        {
          "output_type": "stream",
          "name": "stderr",
          "text": [
            " 90%|█████████ | 18/20 [00:57<00:07,  3.87s/it]"
          ]
        },
        {
          "output_type": "stream",
          "name": "stdout",
          "text": [
            "Epoch 18, In-sample Loss: 0.0074, In-sample Accuracy: 0.0000\n",
            "Epoch 18, Out-sample Loss: 0.0217, Out-sample Accuracy: 0.0000\n"
          ]
        },
        {
          "output_type": "stream",
          "name": "stderr",
          "text": [
            " 95%|█████████▌| 19/20 [01:00<00:03,  3.53s/it]"
          ]
        },
        {
          "output_type": "stream",
          "name": "stdout",
          "text": [
            "Epoch 19, In-sample Loss: 0.0149, In-sample Accuracy: 0.0000\n",
            "Epoch 19, Out-sample Loss: 0.0299, Out-sample Accuracy: 0.0000\n"
          ]
        },
        {
          "output_type": "stream",
          "name": "stderr",
          "text": [
            "100%|██████████| 20/20 [01:03<00:00,  3.17s/it]\n"
          ]
        },
        {
          "output_type": "stream",
          "name": "stdout",
          "text": [
            "Epoch 20, In-sample Loss: 0.0056, In-sample Accuracy: 0.0000\n",
            "Epoch 20, Out-sample Loss: 0.0184, Out-sample Accuracy: 0.0625\n",
            "Encoder for lr_base: 0.0001 and lr_max: 0.01 done (with normalization).\n",
            "Starting full model training...\n"
          ]
        },
        {
          "output_type": "stream",
          "name": "stderr",
          "text": [
            "  0%|          | 1/200 [00:02<08:08,  2.45s/it]"
          ]
        },
        {
          "output_type": "stream",
          "name": "stdout",
          "text": [
            "Epoch 1, In-sample Loss: 0.0071, In-sample Accuracy: 0.0000\n",
            "Epoch 1, Out-sample Loss: 0.0181, Out-sample Accuracy: 0.0000\n"
          ]
        },
        {
          "output_type": "stream",
          "name": "stderr",
          "text": [
            "  1%|          | 2/200 [00:06<11:35,  3.51s/it]"
          ]
        },
        {
          "output_type": "stream",
          "name": "stdout",
          "text": [
            "Epoch 2, In-sample Loss: 0.0030, In-sample Accuracy: 0.0000\n",
            "Epoch 2, Out-sample Loss: 0.0123, Out-sample Accuracy: 0.0000\n"
          ]
        },
        {
          "output_type": "stream",
          "name": "stderr",
          "text": [
            "  2%|▏         | 3/200 [00:12<14:28,  4.41s/it]"
          ]
        },
        {
          "output_type": "stream",
          "name": "stdout",
          "text": [
            "Epoch 3, In-sample Loss: 0.0036, In-sample Accuracy: 0.0000\n",
            "Epoch 3, Out-sample Loss: 0.0115, Out-sample Accuracy: 0.0000\n"
          ]
        },
        {
          "output_type": "stream",
          "name": "stderr",
          "text": [
            "  2%|▏         | 4/200 [00:14<11:52,  3.64s/it]"
          ]
        },
        {
          "output_type": "stream",
          "name": "stdout",
          "text": [
            "Epoch 4, In-sample Loss: 0.0020, In-sample Accuracy: 0.0000\n",
            "Epoch 4, Out-sample Loss: 0.0091, Out-sample Accuracy: 0.0000\n"
          ]
        },
        {
          "output_type": "stream",
          "name": "stderr",
          "text": [
            "  2%|▎         | 5/200 [00:18<11:35,  3.57s/it]"
          ]
        },
        {
          "output_type": "stream",
          "name": "stdout",
          "text": [
            "Epoch 5, In-sample Loss: 0.0024, In-sample Accuracy: 0.0000\n",
            "Epoch 5, Out-sample Loss: 0.0064, Out-sample Accuracy: 0.0000\n"
          ]
        },
        {
          "output_type": "stream",
          "name": "stderr",
          "text": [
            "  3%|▎         | 6/200 [00:23<13:07,  4.06s/it]"
          ]
        },
        {
          "output_type": "stream",
          "name": "stdout",
          "text": [
            "Epoch 6, In-sample Loss: 0.0009, In-sample Accuracy: 0.0625\n",
            "Epoch 6, Out-sample Loss: 0.0063, Out-sample Accuracy: 0.0625\n"
          ]
        },
        {
          "output_type": "stream",
          "name": "stderr",
          "text": [
            "  4%|▎         | 7/200 [00:27<13:01,  4.05s/it]"
          ]
        },
        {
          "output_type": "stream",
          "name": "stdout",
          "text": [
            "Epoch 7, In-sample Loss: 0.0008, In-sample Accuracy: 0.1250\n",
            "Epoch 7, Out-sample Loss: 0.0060, Out-sample Accuracy: 0.0000\n"
          ]
        },
        {
          "output_type": "stream",
          "name": "stderr",
          "text": [
            "  4%|▍         | 8/200 [00:29<11:17,  3.53s/it]"
          ]
        },
        {
          "output_type": "stream",
          "name": "stdout",
          "text": [
            "Epoch 8, In-sample Loss: 0.0008, In-sample Accuracy: 0.0000\n",
            "Epoch 8, Out-sample Loss: 0.0058, Out-sample Accuracy: 0.0000\n"
          ]
        },
        {
          "output_type": "stream",
          "name": "stderr",
          "text": [
            "  4%|▍         | 9/200 [00:31<10:02,  3.16s/it]"
          ]
        },
        {
          "output_type": "stream",
          "name": "stdout",
          "text": [
            "Epoch 9, In-sample Loss: 0.0007, In-sample Accuracy: 0.0625\n",
            "Epoch 9, Out-sample Loss: 0.0054, Out-sample Accuracy: 0.0000\n"
          ]
        },
        {
          "output_type": "stream",
          "name": "stderr",
          "text": [
            "  5%|▌         | 10/200 [00:34<09:12,  2.91s/it]"
          ]
        },
        {
          "output_type": "stream",
          "name": "stdout",
          "text": [
            "Epoch 10, In-sample Loss: 0.0010, In-sample Accuracy: 0.0625\n",
            "Epoch 10, Out-sample Loss: 0.0051, Out-sample Accuracy: 0.0000\n"
          ]
        },
        {
          "output_type": "stream",
          "name": "stderr",
          "text": [
            "  6%|▌         | 11/200 [00:36<08:51,  2.81s/it]"
          ]
        },
        {
          "output_type": "stream",
          "name": "stdout",
          "text": [
            "Epoch 11, In-sample Loss: 0.0007, In-sample Accuracy: 0.1250\n",
            "Epoch 11, Out-sample Loss: 0.0054, Out-sample Accuracy: 0.0625\n"
          ]
        },
        {
          "output_type": "stream",
          "name": "stderr",
          "text": [
            "  6%|▌         | 12/200 [00:40<09:51,  3.15s/it]"
          ]
        },
        {
          "output_type": "stream",
          "name": "stdout",
          "text": [
            "Epoch 12, In-sample Loss: 0.0006, In-sample Accuracy: 0.0625\n",
            "Epoch 12, Out-sample Loss: 0.0052, Out-sample Accuracy: 0.0000\n"
          ]
        },
        {
          "output_type": "stream",
          "name": "stderr",
          "text": [
            "  6%|▋         | 13/200 [00:44<10:23,  3.34s/it]"
          ]
        },
        {
          "output_type": "stream",
          "name": "stdout",
          "text": [
            "Epoch 13, In-sample Loss: 0.0007, In-sample Accuracy: 0.1875\n",
            "Epoch 13, Out-sample Loss: 0.0048, Out-sample Accuracy: 0.0000\n"
          ]
        },
        {
          "output_type": "stream",
          "name": "stderr",
          "text": [
            "  7%|▋         | 14/200 [00:47<09:50,  3.17s/it]"
          ]
        },
        {
          "output_type": "stream",
          "name": "stdout",
          "text": [
            "Epoch 14, In-sample Loss: 0.0005, In-sample Accuracy: 0.1875\n",
            "Epoch 14, Out-sample Loss: 0.0050, Out-sample Accuracy: 0.0000\n"
          ]
        },
        {
          "output_type": "stream",
          "name": "stderr",
          "text": [
            "  8%|▊         | 15/200 [00:49<09:16,  3.01s/it]"
          ]
        },
        {
          "output_type": "stream",
          "name": "stdout",
          "text": [
            "Epoch 15, In-sample Loss: 0.0007, In-sample Accuracy: 0.1250\n",
            "Epoch 15, Out-sample Loss: 0.0048, Out-sample Accuracy: 0.0000\n"
          ]
        },
        {
          "output_type": "stream",
          "name": "stderr",
          "text": [
            "  8%|▊         | 16/200 [00:52<08:54,  2.90s/it]"
          ]
        },
        {
          "output_type": "stream",
          "name": "stdout",
          "text": [
            "Epoch 16, In-sample Loss: 0.0004, In-sample Accuracy: 0.1250\n",
            "Epoch 16, Out-sample Loss: 0.0051, Out-sample Accuracy: 0.0000\n"
          ]
        },
        {
          "output_type": "stream",
          "name": "stderr",
          "text": [
            "  8%|▊         | 17/200 [00:58<11:59,  3.93s/it]"
          ]
        },
        {
          "output_type": "stream",
          "name": "stdout",
          "text": [
            "Epoch 17, In-sample Loss: 0.0005, In-sample Accuracy: 0.1250\n",
            "Epoch 17, Out-sample Loss: 0.0050, Out-sample Accuracy: 0.0000\n"
          ]
        },
        {
          "output_type": "stream",
          "name": "stderr",
          "text": [
            "  9%|▉         | 18/200 [01:02<11:15,  3.71s/it]"
          ]
        },
        {
          "output_type": "stream",
          "name": "stdout",
          "text": [
            "Epoch 18, In-sample Loss: 0.0005, In-sample Accuracy: 0.1875\n",
            "Epoch 18, Out-sample Loss: 0.0050, Out-sample Accuracy: 0.0000\n"
          ]
        },
        {
          "output_type": "stream",
          "name": "stderr",
          "text": [
            " 10%|▉         | 19/200 [01:05<10:36,  3.52s/it]"
          ]
        },
        {
          "output_type": "stream",
          "name": "stdout",
          "text": [
            "Epoch 19, In-sample Loss: 0.0003, In-sample Accuracy: 0.1875\n",
            "Epoch 19, Out-sample Loss: 0.0053, Out-sample Accuracy: 0.0000\n"
          ]
        },
        {
          "output_type": "stream",
          "name": "stderr",
          "text": [
            " 10%|█         | 20/200 [01:07<09:30,  3.17s/it]"
          ]
        },
        {
          "output_type": "stream",
          "name": "stdout",
          "text": [
            "Epoch 20, In-sample Loss: 0.0005, In-sample Accuracy: 0.1875\n",
            "Epoch 20, Out-sample Loss: 0.0054, Out-sample Accuracy: 0.0000\n"
          ]
        },
        {
          "output_type": "stream",
          "name": "stderr",
          "text": [
            " 10%|█         | 21/200 [01:11<09:52,  3.31s/it]"
          ]
        },
        {
          "output_type": "stream",
          "name": "stdout",
          "text": [
            "Epoch 21, In-sample Loss: 0.0004, In-sample Accuracy: 0.3125\n",
            "Epoch 21, Out-sample Loss: 0.0052, Out-sample Accuracy: 0.0625\n"
          ]
        },
        {
          "output_type": "stream",
          "name": "stderr",
          "text": [
            " 11%|█         | 22/200 [01:16<11:37,  3.92s/it]"
          ]
        },
        {
          "output_type": "stream",
          "name": "stdout",
          "text": [
            "Epoch 22, In-sample Loss: 0.0004, In-sample Accuracy: 0.1250\n",
            "Epoch 22, Out-sample Loss: 0.0049, Out-sample Accuracy: 0.0000\n"
          ]
        },
        {
          "output_type": "stream",
          "name": "stderr",
          "text": [
            " 12%|█▏        | 23/200 [01:19<10:28,  3.55s/it]"
          ]
        },
        {
          "output_type": "stream",
          "name": "stdout",
          "text": [
            "Epoch 23, In-sample Loss: 0.0004, In-sample Accuracy: 0.3125\n",
            "Epoch 23, Out-sample Loss: 0.0051, Out-sample Accuracy: 0.0625\n"
          ]
        },
        {
          "output_type": "stream",
          "name": "stderr",
          "text": [
            " 12%|█▏        | 24/200 [01:22<10:25,  3.55s/it]"
          ]
        },
        {
          "output_type": "stream",
          "name": "stdout",
          "text": [
            "Epoch 24, In-sample Loss: 0.0004, In-sample Accuracy: 0.1875\n",
            "Epoch 24, Out-sample Loss: 0.0052, Out-sample Accuracy: 0.1250\n"
          ]
        },
        {
          "output_type": "stream",
          "name": "stderr",
          "text": [
            " 12%|█▎        | 25/200 [01:26<10:17,  3.53s/it]"
          ]
        },
        {
          "output_type": "stream",
          "name": "stdout",
          "text": [
            "Epoch 25, In-sample Loss: 0.0004, In-sample Accuracy: 0.1250\n",
            "Epoch 25, Out-sample Loss: 0.0050, Out-sample Accuracy: 0.0000\n"
          ]
        },
        {
          "output_type": "stream",
          "name": "stderr",
          "text": [
            " 13%|█▎        | 26/200 [01:29<10:26,  3.60s/it]"
          ]
        },
        {
          "output_type": "stream",
          "name": "stdout",
          "text": [
            "Epoch 26, In-sample Loss: 0.0005, In-sample Accuracy: 0.5000\n",
            "Epoch 26, Out-sample Loss: 0.0049, Out-sample Accuracy: 0.0000\n"
          ]
        },
        {
          "output_type": "stream",
          "name": "stderr",
          "text": [
            " 14%|█▎        | 27/200 [01:33<10:20,  3.59s/it]"
          ]
        },
        {
          "output_type": "stream",
          "name": "stdout",
          "text": [
            "Epoch 27, In-sample Loss: 0.0004, In-sample Accuracy: 0.1875\n",
            "Epoch 27, Out-sample Loss: 0.0052, Out-sample Accuracy: 0.0000\n"
          ]
        },
        {
          "output_type": "stream",
          "name": "stderr",
          "text": [
            " 14%|█▍        | 28/200 [01:35<09:12,  3.21s/it]"
          ]
        },
        {
          "output_type": "stream",
          "name": "stdout",
          "text": [
            "Epoch 28, In-sample Loss: 0.0004, In-sample Accuracy: 0.1875\n",
            "Epoch 28, Out-sample Loss: 0.0053, Out-sample Accuracy: 0.0625\n"
          ]
        },
        {
          "output_type": "stream",
          "name": "stderr",
          "text": [
            " 14%|█▍        | 29/200 [01:38<08:27,  2.97s/it]"
          ]
        },
        {
          "output_type": "stream",
          "name": "stdout",
          "text": [
            "Epoch 29, In-sample Loss: 0.0003, In-sample Accuracy: 0.1875\n",
            "Epoch 29, Out-sample Loss: 0.0047, Out-sample Accuracy: 0.0000\n"
          ]
        },
        {
          "output_type": "stream",
          "name": "stderr",
          "text": [
            " 15%|█▌        | 30/200 [01:41<08:26,  2.98s/it]"
          ]
        },
        {
          "output_type": "stream",
          "name": "stdout",
          "text": [
            "Epoch 30, In-sample Loss: 0.0004, In-sample Accuracy: 0.1875\n",
            "Epoch 30, Out-sample Loss: 0.0047, Out-sample Accuracy: 0.0625\n"
          ]
        },
        {
          "output_type": "stream",
          "name": "stderr",
          "text": [
            " 16%|█▌        | 31/200 [01:45<09:03,  3.21s/it]"
          ]
        },
        {
          "output_type": "stream",
          "name": "stdout",
          "text": [
            "Epoch 31, In-sample Loss: 0.0002, In-sample Accuracy: 0.1250\n",
            "Epoch 31, Out-sample Loss: 0.0050, Out-sample Accuracy: 0.0625\n"
          ]
        },
        {
          "output_type": "stream",
          "name": "stderr",
          "text": [
            " 16%|█▌        | 32/200 [01:48<09:32,  3.41s/it]"
          ]
        },
        {
          "output_type": "stream",
          "name": "stdout",
          "text": [
            "Epoch 32, In-sample Loss: 0.0003, In-sample Accuracy: 0.1875\n",
            "Epoch 32, Out-sample Loss: 0.0052, Out-sample Accuracy: 0.1250\n"
          ]
        },
        {
          "output_type": "stream",
          "name": "stderr",
          "text": [
            " 16%|█▋        | 33/200 [01:51<08:53,  3.20s/it]"
          ]
        },
        {
          "output_type": "stream",
          "name": "stdout",
          "text": [
            "Epoch 33, In-sample Loss: 0.0003, In-sample Accuracy: 0.5000\n",
            "Epoch 33, Out-sample Loss: 0.0050, Out-sample Accuracy: 0.0625\n"
          ]
        },
        {
          "output_type": "stream",
          "name": "stderr",
          "text": [
            " 17%|█▋        | 34/200 [01:53<08:08,  2.94s/it]"
          ]
        },
        {
          "output_type": "stream",
          "name": "stdout",
          "text": [
            "Epoch 34, In-sample Loss: 0.0004, In-sample Accuracy: 0.3125\n",
            "Epoch 34, Out-sample Loss: 0.0045, Out-sample Accuracy: 0.0000\n"
          ]
        },
        {
          "output_type": "stream",
          "name": "stderr",
          "text": [
            " 18%|█▊        | 35/200 [01:56<07:34,  2.75s/it]"
          ]
        },
        {
          "output_type": "stream",
          "name": "stdout",
          "text": [
            "Epoch 35, In-sample Loss: 0.0004, In-sample Accuracy: 0.5000\n",
            "Epoch 35, Out-sample Loss: 0.0048, Out-sample Accuracy: 0.0625\n"
          ]
        },
        {
          "output_type": "stream",
          "name": "stderr",
          "text": [
            " 18%|█▊        | 36/200 [01:58<07:09,  2.62s/it]"
          ]
        },
        {
          "output_type": "stream",
          "name": "stdout",
          "text": [
            "Epoch 36, In-sample Loss: 0.0005, In-sample Accuracy: 0.2500\n",
            "Epoch 36, Out-sample Loss: 0.0053, Out-sample Accuracy: 0.1250\n"
          ]
        },
        {
          "output_type": "stream",
          "name": "stderr",
          "text": [
            " 18%|█▊        | 37/200 [02:01<07:33,  2.78s/it]"
          ]
        },
        {
          "output_type": "stream",
          "name": "stdout",
          "text": [
            "Epoch 37, In-sample Loss: 0.0005, In-sample Accuracy: 0.1250\n",
            "Epoch 37, Out-sample Loss: 0.0054, Out-sample Accuracy: 0.0625\n"
          ]
        },
        {
          "output_type": "stream",
          "name": "stderr",
          "text": [
            " 19%|█▉        | 38/200 [02:05<08:22,  3.10s/it]"
          ]
        },
        {
          "output_type": "stream",
          "name": "stdout",
          "text": [
            "Epoch 38, In-sample Loss: 0.0006, In-sample Accuracy: 0.3125\n",
            "Epoch 38, Out-sample Loss: 0.0047, Out-sample Accuracy: 0.0000\n"
          ]
        },
        {
          "output_type": "stream",
          "name": "stderr",
          "text": [
            " 20%|█▉        | 39/200 [02:08<07:59,  2.98s/it]"
          ]
        },
        {
          "output_type": "stream",
          "name": "stdout",
          "text": [
            "Epoch 39, In-sample Loss: 0.0005, In-sample Accuracy: 0.1250\n",
            "Epoch 39, Out-sample Loss: 0.0048, Out-sample Accuracy: 0.0000\n"
          ]
        },
        {
          "output_type": "stream",
          "name": "stderr",
          "text": [
            " 20%|██        | 40/200 [02:10<07:27,  2.79s/it]"
          ]
        },
        {
          "output_type": "stream",
          "name": "stdout",
          "text": [
            "Epoch 40, In-sample Loss: 0.0004, In-sample Accuracy: 0.2500\n",
            "Epoch 40, Out-sample Loss: 0.0049, Out-sample Accuracy: 0.0625\n"
          ]
        },
        {
          "output_type": "stream",
          "name": "stderr",
          "text": [
            " 20%|██        | 41/200 [02:12<07:01,  2.65s/it]"
          ]
        },
        {
          "output_type": "stream",
          "name": "stdout",
          "text": [
            "Epoch 41, In-sample Loss: 0.0005, In-sample Accuracy: 0.1875\n",
            "Epoch 41, Out-sample Loss: 0.0050, Out-sample Accuracy: 0.0625\n"
          ]
        },
        {
          "output_type": "stream",
          "name": "stderr",
          "text": [
            " 21%|██        | 42/200 [02:15<06:45,  2.57s/it]"
          ]
        },
        {
          "output_type": "stream",
          "name": "stdout",
          "text": [
            "Epoch 42, In-sample Loss: 0.0004, In-sample Accuracy: 0.1875\n",
            "Epoch 42, Out-sample Loss: 0.0048, Out-sample Accuracy: 0.0625\n"
          ]
        },
        {
          "output_type": "stream",
          "name": "stderr",
          "text": [
            " 22%|██▏       | 43/200 [02:18<07:11,  2.75s/it]"
          ]
        },
        {
          "output_type": "stream",
          "name": "stdout",
          "text": [
            "Epoch 43, In-sample Loss: 0.0005, In-sample Accuracy: 0.2500\n",
            "Epoch 43, Out-sample Loss: 0.0045, Out-sample Accuracy: 0.0000\n"
          ]
        },
        {
          "output_type": "stream",
          "name": "stderr",
          "text": [
            " 22%|██▏       | 44/200 [02:22<08:02,  3.09s/it]"
          ]
        },
        {
          "output_type": "stream",
          "name": "stdout",
          "text": [
            "Epoch 44, In-sample Loss: 0.0007, In-sample Accuracy: 0.1875\n",
            "Epoch 44, Out-sample Loss: 0.0049, Out-sample Accuracy: 0.0000\n"
          ]
        },
        {
          "output_type": "stream",
          "name": "stderr",
          "text": [
            " 22%|██▎       | 45/200 [02:24<07:32,  2.92s/it]"
          ]
        },
        {
          "output_type": "stream",
          "name": "stdout",
          "text": [
            "Epoch 45, In-sample Loss: 0.0004, In-sample Accuracy: 0.1250\n",
            "Epoch 45, Out-sample Loss: 0.0048, Out-sample Accuracy: 0.0000\n"
          ]
        },
        {
          "output_type": "stream",
          "name": "stderr",
          "text": [
            " 23%|██▎       | 46/200 [02:27<07:03,  2.75s/it]"
          ]
        },
        {
          "output_type": "stream",
          "name": "stdout",
          "text": [
            "Epoch 46, In-sample Loss: 0.0004, In-sample Accuracy: 0.1875\n",
            "Epoch 46, Out-sample Loss: 0.0049, Out-sample Accuracy: 0.0625\n"
          ]
        },
        {
          "output_type": "stream",
          "name": "stderr",
          "text": [
            " 24%|██▎       | 47/200 [02:29<06:41,  2.62s/it]"
          ]
        },
        {
          "output_type": "stream",
          "name": "stdout",
          "text": [
            "Epoch 47, In-sample Loss: 0.0004, In-sample Accuracy: 0.1250\n",
            "Epoch 47, Out-sample Loss: 0.0048, Out-sample Accuracy: 0.0000\n"
          ]
        },
        {
          "output_type": "stream",
          "name": "stderr",
          "text": [
            " 24%|██▍       | 48/200 [02:31<06:28,  2.56s/it]"
          ]
        },
        {
          "output_type": "stream",
          "name": "stdout",
          "text": [
            "Epoch 48, In-sample Loss: 0.0005, In-sample Accuracy: 0.1875\n",
            "Epoch 48, Out-sample Loss: 0.0047, Out-sample Accuracy: 0.0000\n"
          ]
        },
        {
          "output_type": "stream",
          "name": "stderr",
          "text": [
            " 24%|██▍       | 49/200 [02:35<06:59,  2.78s/it]"
          ]
        },
        {
          "output_type": "stream",
          "name": "stdout",
          "text": [
            "Epoch 49, In-sample Loss: 0.0003, In-sample Accuracy: 0.1875\n",
            "Epoch 49, Out-sample Loss: 0.0048, Out-sample Accuracy: 0.0000\n"
          ]
        },
        {
          "output_type": "stream",
          "name": "stderr",
          "text": [
            " 25%|██▌       | 50/200 [02:39<08:12,  3.28s/it]"
          ]
        },
        {
          "output_type": "stream",
          "name": "stdout",
          "text": [
            "Epoch 50, In-sample Loss: 0.0004, In-sample Accuracy: 0.3750\n",
            "Epoch 50, Out-sample Loss: 0.0046, Out-sample Accuracy: 0.0000\n"
          ]
        },
        {
          "output_type": "stream",
          "name": "stderr",
          "text": [
            " 26%|██▌       | 51/200 [02:42<07:28,  3.01s/it]"
          ]
        },
        {
          "output_type": "stream",
          "name": "stdout",
          "text": [
            "Epoch 51, In-sample Loss: 0.0003, In-sample Accuracy: 0.5625\n",
            "Epoch 51, Out-sample Loss: 0.0045, Out-sample Accuracy: 0.0625\n"
          ]
        },
        {
          "output_type": "stream",
          "name": "stderr",
          "text": [
            " 26%|██▌       | 52/200 [02:44<06:57,  2.82s/it]"
          ]
        },
        {
          "output_type": "stream",
          "name": "stdout",
          "text": [
            "Epoch 52, In-sample Loss: 0.0003, In-sample Accuracy: 0.2500\n",
            "Epoch 52, Out-sample Loss: 0.0043, Out-sample Accuracy: 0.0625\n"
          ]
        },
        {
          "output_type": "stream",
          "name": "stderr",
          "text": [
            " 26%|██▋       | 53/200 [02:46<06:34,  2.69s/it]"
          ]
        },
        {
          "output_type": "stream",
          "name": "stdout",
          "text": [
            "Epoch 53, In-sample Loss: 0.0002, In-sample Accuracy: 0.1875\n",
            "Epoch 53, Out-sample Loss: 0.0044, Out-sample Accuracy: 0.0000\n"
          ]
        },
        {
          "output_type": "stream",
          "name": "stderr",
          "text": [
            " 27%|██▋       | 54/200 [02:49<06:16,  2.58s/it]"
          ]
        },
        {
          "output_type": "stream",
          "name": "stdout",
          "text": [
            "Epoch 54, In-sample Loss: 0.0004, In-sample Accuracy: 0.2500\n",
            "Epoch 54, Out-sample Loss: 0.0046, Out-sample Accuracy: 0.0625\n"
          ]
        },
        {
          "output_type": "stream",
          "name": "stderr",
          "text": [
            " 28%|██▊       | 55/200 [02:52<07:04,  2.92s/it]"
          ]
        },
        {
          "output_type": "stream",
          "name": "stdout",
          "text": [
            "Epoch 55, In-sample Loss: 0.0006, In-sample Accuracy: 0.3125\n",
            "Epoch 55, Out-sample Loss: 0.0045, Out-sample Accuracy: 0.0625\n"
          ]
        },
        {
          "output_type": "stream",
          "name": "stderr",
          "text": [
            " 28%|██▊       | 56/200 [02:56<07:28,  3.11s/it]"
          ]
        },
        {
          "output_type": "stream",
          "name": "stdout",
          "text": [
            "Epoch 56, In-sample Loss: 0.0004, In-sample Accuracy: 0.3125\n",
            "Epoch 56, Out-sample Loss: 0.0045, Out-sample Accuracy: 0.0625\n"
          ]
        },
        {
          "output_type": "stream",
          "name": "stderr",
          "text": [
            " 28%|██▊       | 57/200 [02:58<06:51,  2.88s/it]"
          ]
        },
        {
          "output_type": "stream",
          "name": "stdout",
          "text": [
            "Epoch 57, In-sample Loss: 0.0002, In-sample Accuracy: 0.4375\n",
            "Epoch 57, Out-sample Loss: 0.0045, Out-sample Accuracy: 0.0625\n"
          ]
        },
        {
          "output_type": "stream",
          "name": "stderr",
          "text": [
            " 29%|██▉       | 58/200 [03:01<06:29,  2.74s/it]"
          ]
        },
        {
          "output_type": "stream",
          "name": "stdout",
          "text": [
            "Epoch 58, In-sample Loss: 0.0001, In-sample Accuracy: 0.5000\n",
            "Epoch 58, Out-sample Loss: 0.0045, Out-sample Accuracy: 0.0625\n"
          ]
        },
        {
          "output_type": "stream",
          "name": "stderr",
          "text": [
            " 30%|██▉       | 59/200 [03:03<06:12,  2.65s/it]"
          ]
        },
        {
          "output_type": "stream",
          "name": "stdout",
          "text": [
            "Epoch 59, In-sample Loss: 0.0001, In-sample Accuracy: 0.5000\n",
            "Epoch 59, Out-sample Loss: 0.0046, Out-sample Accuracy: 0.0625\n"
          ]
        },
        {
          "output_type": "stream",
          "name": "stderr",
          "text": [
            " 30%|███       | 60/200 [03:06<06:00,  2.58s/it]"
          ]
        },
        {
          "output_type": "stream",
          "name": "stdout",
          "text": [
            "Epoch 60, In-sample Loss: 0.0002, In-sample Accuracy: 0.3750\n",
            "Epoch 60, Out-sample Loss: 0.0046, Out-sample Accuracy: 0.0000\n"
          ]
        },
        {
          "output_type": "stream",
          "name": "stderr",
          "text": [
            " 30%|███       | 61/200 [03:11<08:02,  3.47s/it]"
          ]
        },
        {
          "output_type": "stream",
          "name": "stdout",
          "text": [
            "Epoch 61, In-sample Loss: 0.0002, In-sample Accuracy: 0.4375\n",
            "Epoch 61, Out-sample Loss: 0.0048, Out-sample Accuracy: 0.0000\n"
          ]
        },
        {
          "output_type": "stream",
          "name": "stderr",
          "text": [
            " 31%|███       | 62/200 [03:14<07:29,  3.26s/it]"
          ]
        },
        {
          "output_type": "stream",
          "name": "stdout",
          "text": [
            "Epoch 62, In-sample Loss: 0.0002, In-sample Accuracy: 0.5625\n",
            "Epoch 62, Out-sample Loss: 0.0047, Out-sample Accuracy: 0.0000\n"
          ]
        },
        {
          "output_type": "stream",
          "name": "stderr",
          "text": [
            " 32%|███▏      | 63/200 [03:16<06:49,  2.99s/it]"
          ]
        },
        {
          "output_type": "stream",
          "name": "stdout",
          "text": [
            "Epoch 63, In-sample Loss: 0.0002, In-sample Accuracy: 0.3750\n",
            "Epoch 63, Out-sample Loss: 0.0046, Out-sample Accuracy: 0.0000\n"
          ]
        },
        {
          "output_type": "stream",
          "name": "stderr",
          "text": [
            " 32%|███▏      | 64/200 [03:19<06:21,  2.80s/it]"
          ]
        },
        {
          "output_type": "stream",
          "name": "stdout",
          "text": [
            "Epoch 64, In-sample Loss: 0.0003, In-sample Accuracy: 0.2500\n",
            "Epoch 64, Out-sample Loss: 0.0045, Out-sample Accuracy: 0.0000\n"
          ]
        },
        {
          "output_type": "stream",
          "name": "stderr",
          "text": [
            " 32%|███▎      | 65/200 [03:21<05:59,  2.66s/it]"
          ]
        },
        {
          "output_type": "stream",
          "name": "stdout",
          "text": [
            "Epoch 65, In-sample Loss: 0.0005, In-sample Accuracy: 0.5000\n",
            "Epoch 65, Out-sample Loss: 0.0047, Out-sample Accuracy: 0.0625\n"
          ]
        },
        {
          "output_type": "stream",
          "name": "stderr",
          "text": [
            " 33%|███▎      | 66/200 [03:24<06:09,  2.76s/it]"
          ]
        },
        {
          "output_type": "stream",
          "name": "stdout",
          "text": [
            "Epoch 66, In-sample Loss: 0.0006, In-sample Accuracy: 0.1875\n",
            "Epoch 66, Out-sample Loss: 0.0048, Out-sample Accuracy: 0.0625\n"
          ]
        },
        {
          "output_type": "stream",
          "name": "stderr",
          "text": [
            " 34%|███▎      | 67/200 [03:28<06:52,  3.10s/it]"
          ]
        },
        {
          "output_type": "stream",
          "name": "stdout",
          "text": [
            "Epoch 67, In-sample Loss: 0.0004, In-sample Accuracy: 0.5000\n",
            "Epoch 67, Out-sample Loss: 0.0047, Out-sample Accuracy: 0.0625\n"
          ]
        },
        {
          "output_type": "stream",
          "name": "stderr",
          "text": [
            " 34%|███▍      | 68/200 [03:30<06:30,  2.96s/it]"
          ]
        },
        {
          "output_type": "stream",
          "name": "stdout",
          "text": [
            "Epoch 68, In-sample Loss: 0.0003, In-sample Accuracy: 0.2500\n",
            "Epoch 68, Out-sample Loss: 0.0046, Out-sample Accuracy: 0.0000\n"
          ]
        },
        {
          "output_type": "stream",
          "name": "stderr",
          "text": [
            " 34%|███▍      | 69/200 [03:33<06:05,  2.79s/it]"
          ]
        },
        {
          "output_type": "stream",
          "name": "stdout",
          "text": [
            "Epoch 69, In-sample Loss: 0.0002, In-sample Accuracy: 0.4375\n",
            "Epoch 69, Out-sample Loss: 0.0046, Out-sample Accuracy: 0.0625\n"
          ]
        },
        {
          "output_type": "stream",
          "name": "stderr",
          "text": [
            " 35%|███▌      | 70/200 [03:35<05:45,  2.65s/it]"
          ]
        },
        {
          "output_type": "stream",
          "name": "stdout",
          "text": [
            "Epoch 70, In-sample Loss: 0.0002, In-sample Accuracy: 0.3750\n",
            "Epoch 70, Out-sample Loss: 0.0047, Out-sample Accuracy: 0.0000\n"
          ]
        },
        {
          "output_type": "stream",
          "name": "stderr",
          "text": [
            " 36%|███▌      | 71/200 [03:38<05:36,  2.61s/it]"
          ]
        },
        {
          "output_type": "stream",
          "name": "stdout",
          "text": [
            "Epoch 71, In-sample Loss: 0.0002, In-sample Accuracy: 0.3125\n",
            "Epoch 71, Out-sample Loss: 0.0047, Out-sample Accuracy: 0.0000\n"
          ]
        },
        {
          "output_type": "stream",
          "name": "stderr",
          "text": [
            " 36%|███▌      | 72/200 [03:41<05:57,  2.79s/it]"
          ]
        },
        {
          "output_type": "stream",
          "name": "stdout",
          "text": [
            "Epoch 72, In-sample Loss: 0.0003, In-sample Accuracy: 0.1875\n",
            "Epoch 72, Out-sample Loss: 0.0048, Out-sample Accuracy: 0.0000\n"
          ]
        },
        {
          "output_type": "stream",
          "name": "stderr",
          "text": [
            " 36%|███▋      | 73/200 [03:45<06:37,  3.13s/it]"
          ]
        },
        {
          "output_type": "stream",
          "name": "stdout",
          "text": [
            "Epoch 73, In-sample Loss: 0.0003, In-sample Accuracy: 0.2500\n",
            "Epoch 73, Out-sample Loss: 0.0048, Out-sample Accuracy: 0.0000\n"
          ]
        },
        {
          "output_type": "stream",
          "name": "stderr",
          "text": [
            " 37%|███▋      | 74/200 [03:47<06:08,  2.92s/it]"
          ]
        },
        {
          "output_type": "stream",
          "name": "stdout",
          "text": [
            "Epoch 74, In-sample Loss: 0.0003, In-sample Accuracy: 0.3750\n",
            "Epoch 74, Out-sample Loss: 0.0048, Out-sample Accuracy: 0.0000\n"
          ]
        },
        {
          "output_type": "stream",
          "name": "stderr",
          "text": [
            " 38%|███▊      | 75/200 [03:50<05:43,  2.75s/it]"
          ]
        },
        {
          "output_type": "stream",
          "name": "stdout",
          "text": [
            "Epoch 75, In-sample Loss: 0.0003, In-sample Accuracy: 0.3750\n",
            "Epoch 75, Out-sample Loss: 0.0046, Out-sample Accuracy: 0.0625\n"
          ]
        },
        {
          "output_type": "stream",
          "name": "stderr",
          "text": [
            " 38%|███▊      | 76/200 [03:52<05:24,  2.62s/it]"
          ]
        },
        {
          "output_type": "stream",
          "name": "stdout",
          "text": [
            "Epoch 76, In-sample Loss: 0.0003, In-sample Accuracy: 0.1250\n",
            "Epoch 76, Out-sample Loss: 0.0044, Out-sample Accuracy: 0.0000\n"
          ]
        },
        {
          "output_type": "stream",
          "name": "stderr",
          "text": [
            " 38%|███▊      | 77/200 [03:54<05:11,  2.53s/it]"
          ]
        },
        {
          "output_type": "stream",
          "name": "stdout",
          "text": [
            "Epoch 77, In-sample Loss: 0.0004, In-sample Accuracy: 0.1250\n",
            "Epoch 77, Out-sample Loss: 0.0044, Out-sample Accuracy: 0.0625\n"
          ]
        },
        {
          "output_type": "stream",
          "name": "stderr",
          "text": [
            " 39%|███▉      | 78/200 [03:58<05:37,  2.77s/it]"
          ]
        },
        {
          "output_type": "stream",
          "name": "stdout",
          "text": [
            "Epoch 78, In-sample Loss: 0.0003, In-sample Accuracy: 0.0625\n",
            "Epoch 78, Out-sample Loss: 0.0044, Out-sample Accuracy: 0.0000\n"
          ]
        },
        {
          "output_type": "stream",
          "name": "stderr",
          "text": [
            " 40%|███▉      | 79/200 [04:01<06:14,  3.10s/it]"
          ]
        },
        {
          "output_type": "stream",
          "name": "stdout",
          "text": [
            "Epoch 79, In-sample Loss: 0.0002, In-sample Accuracy: 0.4375\n",
            "Epoch 79, Out-sample Loss: 0.0047, Out-sample Accuracy: 0.0000\n"
          ]
        },
        {
          "output_type": "stream",
          "name": "stderr",
          "text": [
            " 40%|████      | 80/200 [04:04<05:50,  2.92s/it]"
          ]
        },
        {
          "output_type": "stream",
          "name": "stdout",
          "text": [
            "Epoch 80, In-sample Loss: 0.0004, In-sample Accuracy: 0.3125\n",
            "Epoch 80, Out-sample Loss: 0.0047, Out-sample Accuracy: 0.0625\n"
          ]
        },
        {
          "output_type": "stream",
          "name": "stderr",
          "text": [
            " 40%|████      | 81/200 [04:06<05:26,  2.75s/it]"
          ]
        },
        {
          "output_type": "stream",
          "name": "stdout",
          "text": [
            "Epoch 81, In-sample Loss: 0.0004, In-sample Accuracy: 0.1875\n",
            "Epoch 81, Out-sample Loss: 0.0048, Out-sample Accuracy: 0.0000\n"
          ]
        },
        {
          "output_type": "stream",
          "name": "stderr",
          "text": [
            " 41%|████      | 82/200 [04:09<05:08,  2.62s/it]"
          ]
        },
        {
          "output_type": "stream",
          "name": "stdout",
          "text": [
            "Epoch 82, In-sample Loss: 0.0003, In-sample Accuracy: 0.3125\n",
            "Epoch 82, Out-sample Loss: 0.0047, Out-sample Accuracy: 0.0000\n"
          ]
        },
        {
          "output_type": "stream",
          "name": "stderr",
          "text": [
            " 42%|████▏     | 83/200 [04:11<05:00,  2.57s/it]"
          ]
        },
        {
          "output_type": "stream",
          "name": "stdout",
          "text": [
            "Epoch 83, In-sample Loss: 0.0002, In-sample Accuracy: 0.5000\n",
            "Epoch 83, Out-sample Loss: 0.0046, Out-sample Accuracy: 0.0625\n"
          ]
        },
        {
          "output_type": "stream",
          "name": "stderr",
          "text": [
            " 42%|████▏     | 84/200 [04:15<05:27,  2.82s/it]"
          ]
        },
        {
          "output_type": "stream",
          "name": "stdout",
          "text": [
            "Epoch 84, In-sample Loss: 0.0002, In-sample Accuracy: 0.2500\n",
            "Epoch 84, Out-sample Loss: 0.0044, Out-sample Accuracy: 0.0000\n"
          ]
        },
        {
          "output_type": "stream",
          "name": "stderr",
          "text": [
            " 42%|████▎     | 85/200 [04:18<05:59,  3.13s/it]"
          ]
        },
        {
          "output_type": "stream",
          "name": "stdout",
          "text": [
            "Epoch 85, In-sample Loss: 0.0002, In-sample Accuracy: 0.4375\n",
            "Epoch 85, Out-sample Loss: 0.0044, Out-sample Accuracy: 0.0000\n"
          ]
        },
        {
          "output_type": "stream",
          "name": "stderr",
          "text": [
            " 43%|████▎     | 86/200 [04:21<05:29,  2.89s/it]"
          ]
        },
        {
          "output_type": "stream",
          "name": "stdout",
          "text": [
            "Epoch 86, In-sample Loss: 0.0003, In-sample Accuracy: 0.3125\n",
            "Epoch 86, Out-sample Loss: 0.0044, Out-sample Accuracy: 0.0000\n"
          ]
        },
        {
          "output_type": "stream",
          "name": "stderr",
          "text": [
            " 44%|████▎     | 87/200 [04:23<05:07,  2.72s/it]"
          ]
        },
        {
          "output_type": "stream",
          "name": "stdout",
          "text": [
            "Epoch 87, In-sample Loss: 0.0001, In-sample Accuracy: 0.6250\n",
            "Epoch 87, Out-sample Loss: 0.0044, Out-sample Accuracy: 0.0625\n"
          ]
        },
        {
          "output_type": "stream",
          "name": "stderr",
          "text": [
            " 44%|████▍     | 88/200 [04:26<05:16,  2.82s/it]"
          ]
        },
        {
          "output_type": "stream",
          "name": "stdout",
          "text": [
            "Epoch 88, In-sample Loss: 0.0003, In-sample Accuracy: 0.5625\n",
            "Epoch 88, Out-sample Loss: 0.0043, Out-sample Accuracy: 0.0000\n"
          ]
        },
        {
          "output_type": "stream",
          "name": "stderr",
          "text": [
            " 44%|████▍     | 89/200 [04:28<04:58,  2.69s/it]"
          ]
        },
        {
          "output_type": "stream",
          "name": "stdout",
          "text": [
            "Epoch 89, In-sample Loss: 0.0002, In-sample Accuracy: 0.5000\n",
            "Epoch 89, Out-sample Loss: 0.0044, Out-sample Accuracy: 0.0625\n"
          ]
        },
        {
          "output_type": "stream",
          "name": "stderr",
          "text": [
            " 45%|████▌     | 90/200 [04:32<05:36,  3.06s/it]"
          ]
        },
        {
          "output_type": "stream",
          "name": "stdout",
          "text": [
            "Epoch 90, In-sample Loss: 0.0001, In-sample Accuracy: 0.6250\n",
            "Epoch 90, Out-sample Loss: 0.0044, Out-sample Accuracy: 0.0000\n"
          ]
        },
        {
          "output_type": "stream",
          "name": "stderr",
          "text": [
            " 46%|████▌     | 91/200 [04:36<05:42,  3.14s/it]"
          ]
        },
        {
          "output_type": "stream",
          "name": "stdout",
          "text": [
            "Epoch 91, In-sample Loss: 0.0001, In-sample Accuracy: 0.6250\n",
            "Epoch 91, Out-sample Loss: 0.0044, Out-sample Accuracy: 0.0000\n"
          ]
        },
        {
          "output_type": "stream",
          "name": "stderr",
          "text": [
            " 46%|████▌     | 92/200 [04:38<05:12,  2.89s/it]"
          ]
        },
        {
          "output_type": "stream",
          "name": "stdout",
          "text": [
            "Epoch 92, In-sample Loss: 0.0001, In-sample Accuracy: 0.5000\n",
            "Epoch 92, Out-sample Loss: 0.0045, Out-sample Accuracy: 0.0625\n"
          ]
        },
        {
          "output_type": "stream",
          "name": "stderr",
          "text": [
            " 46%|████▋     | 93/200 [04:40<04:50,  2.72s/it]"
          ]
        },
        {
          "output_type": "stream",
          "name": "stdout",
          "text": [
            "Epoch 93, In-sample Loss: 0.0001, In-sample Accuracy: 0.3750\n",
            "Epoch 93, Out-sample Loss: 0.0044, Out-sample Accuracy: 0.0625\n"
          ]
        },
        {
          "output_type": "stream",
          "name": "stderr",
          "text": [
            " 47%|████▋     | 94/200 [04:43<04:34,  2.59s/it]"
          ]
        },
        {
          "output_type": "stream",
          "name": "stdout",
          "text": [
            "Epoch 94, In-sample Loss: 0.0002, In-sample Accuracy: 0.5000\n",
            "Epoch 94, Out-sample Loss: 0.0043, Out-sample Accuracy: 0.0625\n"
          ]
        },
        {
          "output_type": "stream",
          "name": "stderr",
          "text": [
            " 48%|████▊     | 95/200 [04:45<04:25,  2.53s/it]"
          ]
        },
        {
          "output_type": "stream",
          "name": "stdout",
          "text": [
            "Epoch 95, In-sample Loss: 0.0002, In-sample Accuracy: 0.5000\n",
            "Epoch 95, Out-sample Loss: 0.0044, Out-sample Accuracy: 0.0625\n"
          ]
        },
        {
          "output_type": "stream",
          "name": "stderr",
          "text": [
            " 48%|████▊     | 96/200 [04:49<05:06,  2.95s/it]"
          ]
        },
        {
          "output_type": "stream",
          "name": "stdout",
          "text": [
            "Epoch 96, In-sample Loss: 0.0002, In-sample Accuracy: 0.3750\n",
            "Epoch 96, Out-sample Loss: 0.0044, Out-sample Accuracy: 0.0000\n"
          ]
        },
        {
          "output_type": "stream",
          "name": "stderr",
          "text": [
            " 48%|████▊     | 97/200 [04:52<05:10,  3.01s/it]"
          ]
        },
        {
          "output_type": "stream",
          "name": "stdout",
          "text": [
            "Epoch 97, In-sample Loss: 0.0002, In-sample Accuracy: 0.4375\n",
            "Epoch 97, Out-sample Loss: 0.0043, Out-sample Accuracy: 0.0000\n"
          ]
        },
        {
          "output_type": "stream",
          "name": "stderr",
          "text": [
            " 49%|████▉     | 98/200 [04:54<04:46,  2.81s/it]"
          ]
        },
        {
          "output_type": "stream",
          "name": "stdout",
          "text": [
            "Epoch 98, In-sample Loss: 0.0003, In-sample Accuracy: 0.4375\n",
            "Epoch 98, Out-sample Loss: 0.0043, Out-sample Accuracy: 0.0000\n"
          ]
        },
        {
          "output_type": "stream",
          "name": "stderr",
          "text": [
            " 50%|████▉     | 99/200 [04:57<04:28,  2.66s/it]"
          ]
        },
        {
          "output_type": "stream",
          "name": "stdout",
          "text": [
            "Epoch 99, In-sample Loss: 0.0002, In-sample Accuracy: 0.3125\n",
            "Epoch 99, Out-sample Loss: 0.0041, Out-sample Accuracy: 0.0625\n"
          ]
        },
        {
          "output_type": "stream",
          "name": "stderr",
          "text": [
            " 50%|█████     | 100/200 [04:59<04:16,  2.56s/it]"
          ]
        },
        {
          "output_type": "stream",
          "name": "stdout",
          "text": [
            "Epoch 100, In-sample Loss: 0.0002, In-sample Accuracy: 0.5000\n",
            "Epoch 100, Out-sample Loss: 0.0042, Out-sample Accuracy: 0.0000\n"
          ]
        },
        {
          "output_type": "stream",
          "name": "stderr",
          "text": [
            " 50%|█████     | 101/200 [05:02<04:11,  2.54s/it]"
          ]
        },
        {
          "output_type": "stream",
          "name": "stdout",
          "text": [
            "Epoch 101, In-sample Loss: 0.0002, In-sample Accuracy: 0.3750\n",
            "Epoch 101, Out-sample Loss: 0.0043, Out-sample Accuracy: 0.0000\n"
          ]
        },
        {
          "output_type": "stream",
          "name": "stderr",
          "text": [
            " 51%|█████     | 102/200 [05:06<04:51,  2.98s/it]"
          ]
        },
        {
          "output_type": "stream",
          "name": "stdout",
          "text": [
            "Epoch 102, In-sample Loss: 0.0002, In-sample Accuracy: 0.4375\n",
            "Epoch 102, Out-sample Loss: 0.0044, Out-sample Accuracy: 0.0000\n"
          ]
        },
        {
          "output_type": "stream",
          "name": "stderr",
          "text": [
            " 52%|█████▏    | 103/200 [05:09<04:54,  3.04s/it]"
          ]
        },
        {
          "output_type": "stream",
          "name": "stdout",
          "text": [
            "Epoch 103, In-sample Loss: 0.0001, In-sample Accuracy: 0.5625\n",
            "Epoch 103, Out-sample Loss: 0.0044, Out-sample Accuracy: 0.0000\n"
          ]
        },
        {
          "output_type": "stream",
          "name": "stderr",
          "text": [
            " 52%|█████▏    | 104/200 [05:11<04:31,  2.83s/it]"
          ]
        },
        {
          "output_type": "stream",
          "name": "stdout",
          "text": [
            "Epoch 104, In-sample Loss: 0.0002, In-sample Accuracy: 0.5000\n",
            "Epoch 104, Out-sample Loss: 0.0043, Out-sample Accuracy: 0.0000\n"
          ]
        },
        {
          "output_type": "stream",
          "name": "stderr",
          "text": [
            " 52%|█████▎    | 105/200 [05:13<04:13,  2.67s/it]"
          ]
        },
        {
          "output_type": "stream",
          "name": "stdout",
          "text": [
            "Epoch 105, In-sample Loss: 0.0001, In-sample Accuracy: 0.6250\n",
            "Epoch 105, Out-sample Loss: 0.0044, Out-sample Accuracy: 0.0000\n"
          ]
        },
        {
          "output_type": "stream",
          "name": "stderr",
          "text": [
            " 53%|█████▎    | 106/200 [05:16<04:02,  2.58s/it]"
          ]
        },
        {
          "output_type": "stream",
          "name": "stdout",
          "text": [
            "Epoch 106, In-sample Loss: 0.0001, In-sample Accuracy: 0.4375\n",
            "Epoch 106, Out-sample Loss: 0.0043, Out-sample Accuracy: 0.0625\n"
          ]
        },
        {
          "output_type": "stream",
          "name": "stderr",
          "text": [
            " 54%|█████▎    | 107/200 [05:18<03:58,  2.57s/it]"
          ]
        },
        {
          "output_type": "stream",
          "name": "stdout",
          "text": [
            "Epoch 107, In-sample Loss: 0.0001, In-sample Accuracy: 0.4375\n",
            "Epoch 107, Out-sample Loss: 0.0044, Out-sample Accuracy: 0.0625\n"
          ]
        },
        {
          "output_type": "stream",
          "name": "stderr",
          "text": [
            " 54%|█████▍    | 108/200 [05:22<04:32,  2.96s/it]"
          ]
        },
        {
          "output_type": "stream",
          "name": "stdout",
          "text": [
            "Epoch 108, In-sample Loss: 0.0001, In-sample Accuracy: 0.5000\n",
            "Epoch 108, Out-sample Loss: 0.0043, Out-sample Accuracy: 0.0625\n"
          ]
        },
        {
          "output_type": "stream",
          "name": "stderr",
          "text": [
            " 55%|█████▍    | 109/200 [05:25<04:32,  2.99s/it]"
          ]
        },
        {
          "output_type": "stream",
          "name": "stdout",
          "text": [
            "Epoch 109, In-sample Loss: 0.0001, In-sample Accuracy: 0.5000\n",
            "Epoch 109, Out-sample Loss: 0.0044, Out-sample Accuracy: 0.0625\n"
          ]
        },
        {
          "output_type": "stream",
          "name": "stderr",
          "text": [
            " 55%|█████▌    | 110/200 [05:28<04:12,  2.80s/it]"
          ]
        },
        {
          "output_type": "stream",
          "name": "stdout",
          "text": [
            "Epoch 110, In-sample Loss: 0.0001, In-sample Accuracy: 0.6875\n",
            "Epoch 110, Out-sample Loss: 0.0043, Out-sample Accuracy: 0.0000\n"
          ]
        },
        {
          "output_type": "stream",
          "name": "stderr",
          "text": [
            " 56%|█████▌    | 111/200 [05:30<03:56,  2.66s/it]"
          ]
        },
        {
          "output_type": "stream",
          "name": "stdout",
          "text": [
            "Epoch 111, In-sample Loss: 0.0002, In-sample Accuracy: 0.2500\n",
            "Epoch 111, Out-sample Loss: 0.0043, Out-sample Accuracy: 0.0625\n"
          ]
        },
        {
          "output_type": "stream",
          "name": "stderr",
          "text": [
            " 56%|█████▌    | 112/200 [05:32<03:45,  2.56s/it]"
          ]
        },
        {
          "output_type": "stream",
          "name": "stdout",
          "text": [
            "Epoch 112, In-sample Loss: 0.0002, In-sample Accuracy: 0.3125\n",
            "Epoch 112, Out-sample Loss: 0.0042, Out-sample Accuracy: 0.0000\n"
          ]
        },
        {
          "output_type": "stream",
          "name": "stderr",
          "text": [
            " 56%|█████▋    | 113/200 [05:35<03:47,  2.62s/it]"
          ]
        },
        {
          "output_type": "stream",
          "name": "stdout",
          "text": [
            "Epoch 113, In-sample Loss: 0.0003, In-sample Accuracy: 0.2500\n",
            "Epoch 113, Out-sample Loss: 0.0041, Out-sample Accuracy: 0.0000\n"
          ]
        },
        {
          "output_type": "stream",
          "name": "stderr",
          "text": [
            " 57%|█████▋    | 114/200 [05:39<04:19,  3.02s/it]"
          ]
        },
        {
          "output_type": "stream",
          "name": "stdout",
          "text": [
            "Epoch 114, In-sample Loss: 0.0003, In-sample Accuracy: 0.1875\n",
            "Epoch 114, Out-sample Loss: 0.0041, Out-sample Accuracy: 0.0000\n"
          ]
        },
        {
          "output_type": "stream",
          "name": "stderr",
          "text": [
            " 57%|█████▊    | 115/200 [05:42<04:12,  2.97s/it]"
          ]
        },
        {
          "output_type": "stream",
          "name": "stdout",
          "text": [
            "Epoch 115, In-sample Loss: 0.0004, In-sample Accuracy: 0.1250\n",
            "Epoch 115, Out-sample Loss: 0.0042, Out-sample Accuracy: 0.0625\n"
          ]
        },
        {
          "output_type": "stream",
          "name": "stderr",
          "text": [
            " 58%|█████▊    | 116/200 [05:44<03:52,  2.77s/it]"
          ]
        },
        {
          "output_type": "stream",
          "name": "stdout",
          "text": [
            "Epoch 116, In-sample Loss: 0.0003, In-sample Accuracy: 0.2500\n",
            "Epoch 116, Out-sample Loss: 0.0041, Out-sample Accuracy: 0.0000\n"
          ]
        },
        {
          "output_type": "stream",
          "name": "stderr",
          "text": [
            " 58%|█████▊    | 117/200 [05:46<03:39,  2.64s/it]"
          ]
        },
        {
          "output_type": "stream",
          "name": "stdout",
          "text": [
            "Epoch 117, In-sample Loss: 0.0002, In-sample Accuracy: 0.5000\n",
            "Epoch 117, Out-sample Loss: 0.0041, Out-sample Accuracy: 0.0000\n"
          ]
        },
        {
          "output_type": "stream",
          "name": "stderr",
          "text": [
            " 59%|█████▉    | 118/200 [05:49<03:29,  2.55s/it]"
          ]
        },
        {
          "output_type": "stream",
          "name": "stdout",
          "text": [
            "Epoch 118, In-sample Loss: 0.0001, In-sample Accuracy: 0.5000\n",
            "Epoch 118, Out-sample Loss: 0.0041, Out-sample Accuracy: 0.0000\n"
          ]
        },
        {
          "output_type": "stream",
          "name": "stderr",
          "text": [
            " 60%|█████▉    | 119/200 [05:52<03:31,  2.61s/it]"
          ]
        },
        {
          "output_type": "stream",
          "name": "stdout",
          "text": [
            "Epoch 119, In-sample Loss: 0.0001, In-sample Accuracy: 0.5000\n",
            "Epoch 119, Out-sample Loss: 0.0042, Out-sample Accuracy: 0.0625\n"
          ]
        },
        {
          "output_type": "stream",
          "name": "stderr",
          "text": [
            " 60%|██████    | 120/200 [05:56<04:00,  3.01s/it]"
          ]
        },
        {
          "output_type": "stream",
          "name": "stdout",
          "text": [
            "Epoch 120, In-sample Loss: 0.0001, In-sample Accuracy: 0.5625\n",
            "Epoch 120, Out-sample Loss: 0.0042, Out-sample Accuracy: 0.0000\n"
          ]
        },
        {
          "output_type": "stream",
          "name": "stderr",
          "text": [
            " 60%|██████    | 121/200 [05:58<03:54,  2.97s/it]"
          ]
        },
        {
          "output_type": "stream",
          "name": "stdout",
          "text": [
            "Epoch 121, In-sample Loss: 0.0001, In-sample Accuracy: 0.3750\n",
            "Epoch 121, Out-sample Loss: 0.0042, Out-sample Accuracy: 0.0625\n"
          ]
        },
        {
          "output_type": "stream",
          "name": "stderr",
          "text": [
            " 61%|██████    | 122/200 [06:01<03:36,  2.78s/it]"
          ]
        },
        {
          "output_type": "stream",
          "name": "stdout",
          "text": [
            "Epoch 122, In-sample Loss: 0.0002, In-sample Accuracy: 0.5625\n",
            "Epoch 122, Out-sample Loss: 0.0041, Out-sample Accuracy: 0.0000\n"
          ]
        },
        {
          "output_type": "stream",
          "name": "stderr",
          "text": [
            " 62%|██████▏   | 123/200 [06:03<03:24,  2.66s/it]"
          ]
        },
        {
          "output_type": "stream",
          "name": "stdout",
          "text": [
            "Epoch 123, In-sample Loss: 0.0002, In-sample Accuracy: 0.5000\n",
            "Epoch 123, Out-sample Loss: 0.0042, Out-sample Accuracy: 0.0000\n"
          ]
        },
        {
          "output_type": "stream",
          "name": "stderr",
          "text": [
            " 62%|██████▏   | 124/200 [06:05<03:14,  2.57s/it]"
          ]
        },
        {
          "output_type": "stream",
          "name": "stdout",
          "text": [
            "Epoch 124, In-sample Loss: 0.0002, In-sample Accuracy: 0.5625\n",
            "Epoch 124, Out-sample Loss: 0.0043, Out-sample Accuracy: 0.0625\n"
          ]
        },
        {
          "output_type": "stream",
          "name": "stderr",
          "text": [
            " 62%|██████▎   | 125/200 [06:08<03:18,  2.64s/it]"
          ]
        },
        {
          "output_type": "stream",
          "name": "stdout",
          "text": [
            "Epoch 125, In-sample Loss: 0.0001, In-sample Accuracy: 0.6875\n",
            "Epoch 125, Out-sample Loss: 0.0043, Out-sample Accuracy: 0.0000\n"
          ]
        },
        {
          "output_type": "stream",
          "name": "stderr",
          "text": [
            " 63%|██████▎   | 126/200 [06:13<04:01,  3.27s/it]"
          ]
        },
        {
          "output_type": "stream",
          "name": "stdout",
          "text": [
            "Epoch 126, In-sample Loss: 0.0001, In-sample Accuracy: 0.5625\n",
            "Epoch 126, Out-sample Loss: 0.0042, Out-sample Accuracy: 0.0000\n"
          ]
        },
        {
          "output_type": "stream",
          "name": "stderr",
          "text": [
            " 64%|██████▎   | 127/200 [06:16<03:43,  3.06s/it]"
          ]
        },
        {
          "output_type": "stream",
          "name": "stdout",
          "text": [
            "Epoch 127, In-sample Loss: 0.0001, In-sample Accuracy: 0.6250\n",
            "Epoch 127, Out-sample Loss: 0.0041, Out-sample Accuracy: 0.0000\n"
          ]
        },
        {
          "output_type": "stream",
          "name": "stderr",
          "text": [
            " 64%|██████▍   | 128/200 [06:18<03:25,  2.85s/it]"
          ]
        },
        {
          "output_type": "stream",
          "name": "stdout",
          "text": [
            "Epoch 128, In-sample Loss: 0.0001, In-sample Accuracy: 0.6875\n",
            "Epoch 128, Out-sample Loss: 0.0042, Out-sample Accuracy: 0.0625\n"
          ]
        },
        {
          "output_type": "stream",
          "name": "stderr",
          "text": [
            " 64%|██████▍   | 129/200 [06:20<03:11,  2.70s/it]"
          ]
        },
        {
          "output_type": "stream",
          "name": "stdout",
          "text": [
            "Epoch 129, In-sample Loss: 0.0001, In-sample Accuracy: 0.8750\n",
            "Epoch 129, Out-sample Loss: 0.0043, Out-sample Accuracy: 0.0000\n"
          ]
        },
        {
          "output_type": "stream",
          "name": "stderr",
          "text": [
            " 65%|██████▌   | 130/200 [06:23<03:01,  2.59s/it]"
          ]
        },
        {
          "output_type": "stream",
          "name": "stdout",
          "text": [
            "Epoch 130, In-sample Loss: 0.0001, In-sample Accuracy: 0.7500\n",
            "Epoch 130, Out-sample Loss: 0.0044, Out-sample Accuracy: 0.0625\n"
          ]
        },
        {
          "output_type": "stream",
          "name": "stderr",
          "text": [
            " 66%|██████▌   | 131/200 [06:26<03:12,  2.79s/it]"
          ]
        },
        {
          "output_type": "stream",
          "name": "stdout",
          "text": [
            "Epoch 131, In-sample Loss: 0.0001, In-sample Accuracy: 0.6875\n",
            "Epoch 131, Out-sample Loss: 0.0043, Out-sample Accuracy: 0.0625\n"
          ]
        },
        {
          "output_type": "stream",
          "name": "stderr",
          "text": [
            " 66%|██████▌   | 132/200 [06:30<03:33,  3.14s/it]"
          ]
        },
        {
          "output_type": "stream",
          "name": "stdout",
          "text": [
            "Epoch 132, In-sample Loss: 0.0001, In-sample Accuracy: 0.6250\n",
            "Epoch 132, Out-sample Loss: 0.0042, Out-sample Accuracy: 0.1250\n"
          ]
        },
        {
          "output_type": "stream",
          "name": "stderr",
          "text": [
            " 66%|██████▋   | 133/200 [06:32<03:16,  2.93s/it]"
          ]
        },
        {
          "output_type": "stream",
          "name": "stdout",
          "text": [
            "Epoch 133, In-sample Loss: 0.0001, In-sample Accuracy: 0.6250\n",
            "Epoch 133, Out-sample Loss: 0.0042, Out-sample Accuracy: 0.0625\n"
          ]
        },
        {
          "output_type": "stream",
          "name": "stderr",
          "text": [
            " 67%|██████▋   | 134/200 [06:35<03:02,  2.76s/it]"
          ]
        },
        {
          "output_type": "stream",
          "name": "stdout",
          "text": [
            "Epoch 134, In-sample Loss: 0.0001, In-sample Accuracy: 0.6875\n",
            "Epoch 134, Out-sample Loss: 0.0043, Out-sample Accuracy: 0.0625\n"
          ]
        },
        {
          "output_type": "stream",
          "name": "stderr",
          "text": [
            " 68%|██████▊   | 135/200 [06:37<02:50,  2.62s/it]"
          ]
        },
        {
          "output_type": "stream",
          "name": "stdout",
          "text": [
            "Epoch 135, In-sample Loss: 0.0001, In-sample Accuracy: 0.6250\n",
            "Epoch 135, Out-sample Loss: 0.0043, Out-sample Accuracy: 0.0625\n"
          ]
        },
        {
          "output_type": "stream",
          "name": "stderr",
          "text": [
            " 68%|██████▊   | 136/200 [06:39<02:41,  2.53s/it]"
          ]
        },
        {
          "output_type": "stream",
          "name": "stdout",
          "text": [
            "Epoch 136, In-sample Loss: 0.0002, In-sample Accuracy: 0.5625\n",
            "Epoch 136, Out-sample Loss: 0.0042, Out-sample Accuracy: 0.0625\n"
          ]
        },
        {
          "output_type": "stream",
          "name": "stderr",
          "text": [
            " 68%|██████▊   | 137/200 [06:43<02:55,  2.79s/it]"
          ]
        },
        {
          "output_type": "stream",
          "name": "stdout",
          "text": [
            "Epoch 137, In-sample Loss: 0.0002, In-sample Accuracy: 0.4375\n",
            "Epoch 137, Out-sample Loss: 0.0042, Out-sample Accuracy: 0.0625\n"
          ]
        },
        {
          "output_type": "stream",
          "name": "stderr",
          "text": [
            " 69%|██████▉   | 138/200 [06:46<03:10,  3.08s/it]"
          ]
        },
        {
          "output_type": "stream",
          "name": "stdout",
          "text": [
            "Epoch 138, In-sample Loss: 0.0002, In-sample Accuracy: 0.4375\n",
            "Epoch 138, Out-sample Loss: 0.0041, Out-sample Accuracy: 0.0625\n"
          ]
        },
        {
          "output_type": "stream",
          "name": "stderr",
          "text": [
            " 70%|██████▉   | 139/200 [06:49<02:54,  2.87s/it]"
          ]
        },
        {
          "output_type": "stream",
          "name": "stdout",
          "text": [
            "Epoch 139, In-sample Loss: 0.0001, In-sample Accuracy: 0.5625\n",
            "Epoch 139, Out-sample Loss: 0.0042, Out-sample Accuracy: 0.1250\n"
          ]
        },
        {
          "output_type": "stream",
          "name": "stderr",
          "text": [
            " 70%|███████   | 140/200 [06:51<02:42,  2.71s/it]"
          ]
        },
        {
          "output_type": "stream",
          "name": "stdout",
          "text": [
            "Epoch 140, In-sample Loss: 0.0001, In-sample Accuracy: 0.3750\n",
            "Epoch 140, Out-sample Loss: 0.0043, Out-sample Accuracy: 0.0625\n"
          ]
        },
        {
          "output_type": "stream",
          "name": "stderr",
          "text": [
            " 70%|███████   | 141/200 [06:53<02:32,  2.59s/it]"
          ]
        },
        {
          "output_type": "stream",
          "name": "stdout",
          "text": [
            "Epoch 141, In-sample Loss: 0.0001, In-sample Accuracy: 0.5625\n",
            "Epoch 141, Out-sample Loss: 0.0043, Out-sample Accuracy: 0.0625\n"
          ]
        },
        {
          "output_type": "stream",
          "name": "stderr",
          "text": [
            " 71%|███████   | 142/200 [06:56<02:25,  2.51s/it]"
          ]
        },
        {
          "output_type": "stream",
          "name": "stdout",
          "text": [
            "Epoch 142, In-sample Loss: 0.0002, In-sample Accuracy: 0.8125\n",
            "Epoch 142, Out-sample Loss: 0.0043, Out-sample Accuracy: 0.1250\n"
          ]
        },
        {
          "output_type": "stream",
          "name": "stderr",
          "text": [
            " 72%|███████▏  | 143/200 [06:59<02:37,  2.76s/it]"
          ]
        },
        {
          "output_type": "stream",
          "name": "stdout",
          "text": [
            "Epoch 143, In-sample Loss: 0.0001, In-sample Accuracy: 0.6875\n",
            "Epoch 143, Out-sample Loss: 0.0045, Out-sample Accuracy: 0.0625\n"
          ]
        },
        {
          "output_type": "stream",
          "name": "stderr",
          "text": [
            " 72%|███████▏  | 144/200 [07:03<02:53,  3.10s/it]"
          ]
        },
        {
          "output_type": "stream",
          "name": "stdout",
          "text": [
            "Epoch 144, In-sample Loss: 0.0001, In-sample Accuracy: 0.5625\n",
            "Epoch 144, Out-sample Loss: 0.0042, Out-sample Accuracy: 0.1250\n"
          ]
        },
        {
          "output_type": "stream",
          "name": "stderr",
          "text": [
            " 72%|███████▎  | 145/200 [07:05<02:39,  2.89s/it]"
          ]
        },
        {
          "output_type": "stream",
          "name": "stdout",
          "text": [
            "Epoch 145, In-sample Loss: 0.0001, In-sample Accuracy: 0.6875\n",
            "Epoch 145, Out-sample Loss: 0.0042, Out-sample Accuracy: 0.1250\n"
          ]
        },
        {
          "output_type": "stream",
          "name": "stderr",
          "text": [
            " 73%|███████▎  | 146/200 [07:08<02:27,  2.73s/it]"
          ]
        },
        {
          "output_type": "stream",
          "name": "stdout",
          "text": [
            "Epoch 146, In-sample Loss: 0.0001, In-sample Accuracy: 0.6250\n",
            "Epoch 146, Out-sample Loss: 0.0042, Out-sample Accuracy: 0.1250\n"
          ]
        },
        {
          "output_type": "stream",
          "name": "stderr",
          "text": [
            " 74%|███████▎  | 147/200 [07:10<02:18,  2.61s/it]"
          ]
        },
        {
          "output_type": "stream",
          "name": "stdout",
          "text": [
            "Epoch 147, In-sample Loss: 0.0002, In-sample Accuracy: 0.6250\n",
            "Epoch 147, Out-sample Loss: 0.0043, Out-sample Accuracy: 0.1250\n"
          ]
        },
        {
          "output_type": "stream",
          "name": "stderr",
          "text": [
            " 74%|███████▍  | 148/200 [07:12<02:12,  2.56s/it]"
          ]
        },
        {
          "output_type": "stream",
          "name": "stdout",
          "text": [
            "Epoch 148, In-sample Loss: 0.0001, In-sample Accuracy: 0.6250\n",
            "Epoch 148, Out-sample Loss: 0.0044, Out-sample Accuracy: 0.0000\n"
          ]
        },
        {
          "output_type": "stream",
          "name": "stderr",
          "text": [
            " 74%|███████▍  | 149/200 [07:16<02:27,  2.89s/it]"
          ]
        },
        {
          "output_type": "stream",
          "name": "stdout",
          "text": [
            "Epoch 149, In-sample Loss: 0.0001, In-sample Accuracy: 0.6250\n",
            "Epoch 149, Out-sample Loss: 0.0043, Out-sample Accuracy: 0.0000\n"
          ]
        },
        {
          "output_type": "stream",
          "name": "stderr",
          "text": [
            " 75%|███████▌  | 150/200 [07:20<02:35,  3.12s/it]"
          ]
        },
        {
          "output_type": "stream",
          "name": "stdout",
          "text": [
            "Epoch 150, In-sample Loss: 0.0001, In-sample Accuracy: 0.8125\n",
            "Epoch 150, Out-sample Loss: 0.0043, Out-sample Accuracy: 0.0625\n"
          ]
        },
        {
          "output_type": "stream",
          "name": "stderr",
          "text": [
            " 76%|███████▌  | 151/200 [07:22<02:21,  2.89s/it]"
          ]
        },
        {
          "output_type": "stream",
          "name": "stdout",
          "text": [
            "Epoch 151, In-sample Loss: 0.0001, In-sample Accuracy: 0.5625\n",
            "Epoch 151, Out-sample Loss: 0.0043, Out-sample Accuracy: 0.1250\n"
          ]
        },
        {
          "output_type": "stream",
          "name": "stderr",
          "text": [
            " 76%|███████▌  | 152/200 [07:25<02:10,  2.72s/it]"
          ]
        },
        {
          "output_type": "stream",
          "name": "stdout",
          "text": [
            "Epoch 152, In-sample Loss: 0.0001, In-sample Accuracy: 0.6875\n",
            "Epoch 152, Out-sample Loss: 0.0043, Out-sample Accuracy: 0.0625\n"
          ]
        },
        {
          "output_type": "stream",
          "name": "stderr",
          "text": [
            " 76%|███████▋  | 153/200 [07:27<02:02,  2.61s/it]"
          ]
        },
        {
          "output_type": "stream",
          "name": "stdout",
          "text": [
            "Epoch 153, In-sample Loss: 0.0002, In-sample Accuracy: 0.5000\n",
            "Epoch 153, Out-sample Loss: 0.0043, Out-sample Accuracy: 0.1250\n"
          ]
        },
        {
          "output_type": "stream",
          "name": "stderr",
          "text": [
            " 77%|███████▋  | 154/200 [07:29<01:55,  2.51s/it]"
          ]
        },
        {
          "output_type": "stream",
          "name": "stdout",
          "text": [
            "Epoch 154, In-sample Loss: 0.0002, In-sample Accuracy: 0.5000\n",
            "Epoch 154, Out-sample Loss: 0.0043, Out-sample Accuracy: 0.0625\n"
          ]
        },
        {
          "output_type": "stream",
          "name": "stderr",
          "text": [
            " 78%|███████▊  | 155/200 [07:33<02:09,  2.87s/it]"
          ]
        },
        {
          "output_type": "stream",
          "name": "stdout",
          "text": [
            "Epoch 155, In-sample Loss: 0.0001, In-sample Accuracy: 0.6250\n",
            "Epoch 155, Out-sample Loss: 0.0044, Out-sample Accuracy: 0.0625\n"
          ]
        },
        {
          "output_type": "stream",
          "name": "stderr",
          "text": [
            " 78%|███████▊  | 156/200 [07:36<02:16,  3.10s/it]"
          ]
        },
        {
          "output_type": "stream",
          "name": "stdout",
          "text": [
            "Epoch 156, In-sample Loss: 0.0001, In-sample Accuracy: 0.5625\n",
            "Epoch 156, Out-sample Loss: 0.0044, Out-sample Accuracy: 0.0625\n"
          ]
        },
        {
          "output_type": "stream",
          "name": "stderr",
          "text": [
            " 78%|███████▊  | 157/200 [07:39<02:03,  2.87s/it]"
          ]
        },
        {
          "output_type": "stream",
          "name": "stdout",
          "text": [
            "Epoch 157, In-sample Loss: 0.0002, In-sample Accuracy: 0.2500\n",
            "Epoch 157, Out-sample Loss: 0.0044, Out-sample Accuracy: 0.0000\n"
          ]
        },
        {
          "output_type": "stream",
          "name": "stderr",
          "text": [
            " 79%|███████▉  | 158/200 [07:41<01:55,  2.76s/it]"
          ]
        },
        {
          "output_type": "stream",
          "name": "stdout",
          "text": [
            "Epoch 158, In-sample Loss: 0.0004, In-sample Accuracy: 0.3750\n",
            "Epoch 158, Out-sample Loss: 0.0042, Out-sample Accuracy: 0.0625\n"
          ]
        },
        {
          "output_type": "stream",
          "name": "stderr",
          "text": [
            " 80%|███████▉  | 159/200 [07:44<01:47,  2.63s/it]"
          ]
        },
        {
          "output_type": "stream",
          "name": "stdout",
          "text": [
            "Epoch 159, In-sample Loss: 0.0003, In-sample Accuracy: 0.3125\n",
            "Epoch 159, Out-sample Loss: 0.0042, Out-sample Accuracy: 0.0000\n"
          ]
        },
        {
          "output_type": "stream",
          "name": "stderr",
          "text": [
            " 80%|████████  | 160/200 [07:46<01:41,  2.54s/it]"
          ]
        },
        {
          "output_type": "stream",
          "name": "stdout",
          "text": [
            "Epoch 160, In-sample Loss: 0.0003, In-sample Accuracy: 0.4375\n",
            "Epoch 160, Out-sample Loss: 0.0041, Out-sample Accuracy: 0.0625\n"
          ]
        },
        {
          "output_type": "stream",
          "name": "stderr",
          "text": [
            " 80%|████████  | 161/200 [07:50<01:55,  2.96s/it]"
          ]
        },
        {
          "output_type": "stream",
          "name": "stdout",
          "text": [
            "Epoch 161, In-sample Loss: 0.0002, In-sample Accuracy: 0.5625\n",
            "Epoch 161, Out-sample Loss: 0.0042, Out-sample Accuracy: 0.0625\n"
          ]
        },
        {
          "output_type": "stream",
          "name": "stderr",
          "text": [
            " 81%|████████  | 162/200 [07:53<01:56,  3.07s/it]"
          ]
        },
        {
          "output_type": "stream",
          "name": "stdout",
          "text": [
            "Epoch 162, In-sample Loss: 0.0002, In-sample Accuracy: 0.5625\n",
            "Epoch 162, Out-sample Loss: 0.0043, Out-sample Accuracy: 0.0625\n"
          ]
        },
        {
          "output_type": "stream",
          "name": "stderr",
          "text": [
            " 82%|████████▏ | 163/200 [07:56<01:45,  2.85s/it]"
          ]
        },
        {
          "output_type": "stream",
          "name": "stdout",
          "text": [
            "Epoch 163, In-sample Loss: 0.0003, In-sample Accuracy: 0.4375\n",
            "Epoch 163, Out-sample Loss: 0.0044, Out-sample Accuracy: 0.0625\n"
          ]
        },
        {
          "output_type": "stream",
          "name": "stderr",
          "text": [
            " 82%|████████▏ | 164/200 [07:58<01:36,  2.69s/it]"
          ]
        },
        {
          "output_type": "stream",
          "name": "stdout",
          "text": [
            "Epoch 164, In-sample Loss: 0.0002, In-sample Accuracy: 0.5625\n",
            "Epoch 164, Out-sample Loss: 0.0044, Out-sample Accuracy: 0.0625\n"
          ]
        },
        {
          "output_type": "stream",
          "name": "stderr",
          "text": [
            " 82%|████████▎ | 165/200 [08:00<01:30,  2.58s/it]"
          ]
        },
        {
          "output_type": "stream",
          "name": "stdout",
          "text": [
            "Epoch 165, In-sample Loss: 0.0002, In-sample Accuracy: 0.3750\n",
            "Epoch 165, Out-sample Loss: 0.0042, Out-sample Accuracy: 0.0000\n"
          ]
        },
        {
          "output_type": "stream",
          "name": "stderr",
          "text": [
            " 83%|████████▎ | 166/200 [08:03<01:25,  2.50s/it]"
          ]
        },
        {
          "output_type": "stream",
          "name": "stdout",
          "text": [
            "Epoch 166, In-sample Loss: 0.0001, In-sample Accuracy: 0.5000\n",
            "Epoch 166, Out-sample Loss: 0.0043, Out-sample Accuracy: 0.0625\n"
          ]
        },
        {
          "output_type": "stream",
          "name": "stderr",
          "text": [
            " 84%|████████▎ | 167/200 [08:06<01:36,  2.94s/it]"
          ]
        },
        {
          "output_type": "stream",
          "name": "stdout",
          "text": [
            "Epoch 167, In-sample Loss: 0.0002, In-sample Accuracy: 0.5000\n",
            "Epoch 167, Out-sample Loss: 0.0042, Out-sample Accuracy: 0.1250\n"
          ]
        },
        {
          "output_type": "stream",
          "name": "stderr",
          "text": [
            " 84%|████████▍ | 168/200 [08:10<01:37,  3.05s/it]"
          ]
        },
        {
          "output_type": "stream",
          "name": "stdout",
          "text": [
            "Epoch 168, In-sample Loss: 0.0001, In-sample Accuracy: 0.5000\n",
            "Epoch 168, Out-sample Loss: 0.0042, Out-sample Accuracy: 0.0625\n"
          ]
        },
        {
          "output_type": "stream",
          "name": "stderr",
          "text": [
            " 84%|████████▍ | 169/200 [08:12<01:28,  2.84s/it]"
          ]
        },
        {
          "output_type": "stream",
          "name": "stdout",
          "text": [
            "Epoch 169, In-sample Loss: 0.0001, In-sample Accuracy: 0.5625\n",
            "Epoch 169, Out-sample Loss: 0.0042, Out-sample Accuracy: 0.0000\n"
          ]
        },
        {
          "output_type": "stream",
          "name": "stderr",
          "text": [
            " 85%|████████▌ | 170/200 [08:15<01:21,  2.71s/it]"
          ]
        },
        {
          "output_type": "stream",
          "name": "stdout",
          "text": [
            "Epoch 170, In-sample Loss: 0.0002, In-sample Accuracy: 0.3750\n",
            "Epoch 170, Out-sample Loss: 0.0042, Out-sample Accuracy: 0.0625\n"
          ]
        },
        {
          "output_type": "stream",
          "name": "stderr",
          "text": [
            " 86%|████████▌ | 171/200 [08:17<01:15,  2.60s/it]"
          ]
        },
        {
          "output_type": "stream",
          "name": "stdout",
          "text": [
            "Epoch 171, In-sample Loss: 0.0001, In-sample Accuracy: 0.6250\n",
            "Epoch 171, Out-sample Loss: 0.0042, Out-sample Accuracy: 0.0625\n"
          ]
        },
        {
          "output_type": "stream",
          "name": "stderr",
          "text": [
            " 86%|████████▌ | 172/200 [08:19<01:11,  2.55s/it]"
          ]
        },
        {
          "output_type": "stream",
          "name": "stdout",
          "text": [
            "Epoch 172, In-sample Loss: 0.0001, In-sample Accuracy: 0.3750\n",
            "Epoch 172, Out-sample Loss: 0.0042, Out-sample Accuracy: 0.0625\n"
          ]
        },
        {
          "output_type": "stream",
          "name": "stderr",
          "text": [
            " 86%|████████▋ | 173/200 [08:23<01:19,  2.95s/it]"
          ]
        },
        {
          "output_type": "stream",
          "name": "stdout",
          "text": [
            "Epoch 173, In-sample Loss: 0.0001, In-sample Accuracy: 0.4375\n",
            "Epoch 173, Out-sample Loss: 0.0042, Out-sample Accuracy: 0.1250\n"
          ]
        },
        {
          "output_type": "stream",
          "name": "stderr",
          "text": [
            " 87%|████████▋ | 174/200 [08:26<01:19,  3.05s/it]"
          ]
        },
        {
          "output_type": "stream",
          "name": "stdout",
          "text": [
            "Epoch 174, In-sample Loss: 0.0001, In-sample Accuracy: 0.5625\n",
            "Epoch 174, Out-sample Loss: 0.0043, Out-sample Accuracy: 0.0625\n"
          ]
        },
        {
          "output_type": "stream",
          "name": "stderr",
          "text": [
            " 88%|████████▊ | 175/200 [08:29<01:11,  2.85s/it]"
          ]
        },
        {
          "output_type": "stream",
          "name": "stdout",
          "text": [
            "Epoch 175, In-sample Loss: 0.0001, In-sample Accuracy: 0.5000\n",
            "Epoch 175, Out-sample Loss: 0.0042, Out-sample Accuracy: 0.0625\n"
          ]
        },
        {
          "output_type": "stream",
          "name": "stderr",
          "text": [
            " 88%|████████▊ | 176/200 [08:31<01:04,  2.70s/it]"
          ]
        },
        {
          "output_type": "stream",
          "name": "stdout",
          "text": [
            "Epoch 176, In-sample Loss: 0.0001, In-sample Accuracy: 0.5000\n",
            "Epoch 176, Out-sample Loss: 0.0041, Out-sample Accuracy: 0.0625\n"
          ]
        },
        {
          "output_type": "stream",
          "name": "stderr",
          "text": [
            " 88%|████████▊ | 177/200 [08:34<00:59,  2.60s/it]"
          ]
        },
        {
          "output_type": "stream",
          "name": "stdout",
          "text": [
            "Epoch 177, In-sample Loss: 0.0001, In-sample Accuracy: 0.5000\n",
            "Epoch 177, Out-sample Loss: 0.0042, Out-sample Accuracy: 0.1250\n"
          ]
        },
        {
          "output_type": "stream",
          "name": "stderr",
          "text": [
            " 89%|████████▉ | 178/200 [08:36<00:57,  2.63s/it]"
          ]
        },
        {
          "output_type": "stream",
          "name": "stdout",
          "text": [
            "Epoch 178, In-sample Loss: 0.0001, In-sample Accuracy: 0.5625\n",
            "Epoch 178, Out-sample Loss: 0.0042, Out-sample Accuracy: 0.0000\n"
          ]
        },
        {
          "output_type": "stream",
          "name": "stderr",
          "text": [
            " 90%|████████▉ | 179/200 [08:40<01:03,  3.02s/it]"
          ]
        },
        {
          "output_type": "stream",
          "name": "stdout",
          "text": [
            "Epoch 179, In-sample Loss: 0.0002, In-sample Accuracy: 0.6250\n",
            "Epoch 179, Out-sample Loss: 0.0041, Out-sample Accuracy: 0.0625\n"
          ]
        },
        {
          "output_type": "stream",
          "name": "stderr",
          "text": [
            " 90%|█████████ | 180/200 [08:43<01:00,  3.02s/it]"
          ]
        },
        {
          "output_type": "stream",
          "name": "stdout",
          "text": [
            "Epoch 180, In-sample Loss: 0.0001, In-sample Accuracy: 0.6250\n",
            "Epoch 180, Out-sample Loss: 0.0042, Out-sample Accuracy: 0.0000\n"
          ]
        },
        {
          "output_type": "stream",
          "name": "stderr",
          "text": [
            " 90%|█████████ | 181/200 [08:46<00:53,  2.81s/it]"
          ]
        },
        {
          "output_type": "stream",
          "name": "stdout",
          "text": [
            "Epoch 181, In-sample Loss: 0.0001, In-sample Accuracy: 0.6875\n",
            "Epoch 181, Out-sample Loss: 0.0042, Out-sample Accuracy: 0.0000\n"
          ]
        },
        {
          "output_type": "stream",
          "name": "stderr",
          "text": [
            " 91%|█████████ | 182/200 [08:48<00:48,  2.68s/it]"
          ]
        },
        {
          "output_type": "stream",
          "name": "stdout",
          "text": [
            "Epoch 182, In-sample Loss: 0.0001, In-sample Accuracy: 0.5000\n",
            "Epoch 182, Out-sample Loss: 0.0042, Out-sample Accuracy: 0.0625\n"
          ]
        },
        {
          "output_type": "stream",
          "name": "stderr",
          "text": [
            " 92%|█████████▏| 183/200 [08:50<00:43,  2.58s/it]"
          ]
        },
        {
          "output_type": "stream",
          "name": "stdout",
          "text": [
            "Epoch 183, In-sample Loss: 0.0001, In-sample Accuracy: 0.8125\n",
            "Epoch 183, Out-sample Loss: 0.0042, Out-sample Accuracy: 0.0000\n"
          ]
        },
        {
          "output_type": "stream",
          "name": "stderr",
          "text": [
            " 92%|█████████▏| 184/200 [08:53<00:41,  2.61s/it]"
          ]
        },
        {
          "output_type": "stream",
          "name": "stdout",
          "text": [
            "Epoch 184, In-sample Loss: 0.0001, In-sample Accuracy: 0.5625\n",
            "Epoch 184, Out-sample Loss: 0.0041, Out-sample Accuracy: 0.0625\n"
          ]
        },
        {
          "output_type": "stream",
          "name": "stderr",
          "text": [
            " 92%|█████████▎| 185/200 [08:57<00:44,  2.98s/it]"
          ]
        },
        {
          "output_type": "stream",
          "name": "stdout",
          "text": [
            "Epoch 185, In-sample Loss: 0.0001, In-sample Accuracy: 0.6875\n",
            "Epoch 185, Out-sample Loss: 0.0042, Out-sample Accuracy: 0.0625\n"
          ]
        },
        {
          "output_type": "stream",
          "name": "stderr",
          "text": [
            " 93%|█████████▎| 186/200 [09:00<00:42,  3.00s/it]"
          ]
        },
        {
          "output_type": "stream",
          "name": "stdout",
          "text": [
            "Epoch 186, In-sample Loss: 0.0002, In-sample Accuracy: 0.4375\n",
            "Epoch 186, Out-sample Loss: 0.0041, Out-sample Accuracy: 0.1250\n"
          ]
        },
        {
          "output_type": "stream",
          "name": "stderr",
          "text": [
            " 94%|█████████▎| 187/200 [09:02<00:36,  2.81s/it]"
          ]
        },
        {
          "output_type": "stream",
          "name": "stdout",
          "text": [
            "Epoch 187, In-sample Loss: 0.0002, In-sample Accuracy: 0.5625\n",
            "Epoch 187, Out-sample Loss: 0.0041, Out-sample Accuracy: 0.0000\n"
          ]
        },
        {
          "output_type": "stream",
          "name": "stderr",
          "text": [
            " 94%|█████████▍| 188/200 [09:05<00:32,  2.69s/it]"
          ]
        },
        {
          "output_type": "stream",
          "name": "stdout",
          "text": [
            "Epoch 188, In-sample Loss: 0.0002, In-sample Accuracy: 0.6250\n",
            "Epoch 188, Out-sample Loss: 0.0040, Out-sample Accuracy: 0.1250\n"
          ]
        },
        {
          "output_type": "stream",
          "name": "stderr",
          "text": [
            " 94%|█████████▍| 189/200 [09:07<00:28,  2.59s/it]"
          ]
        },
        {
          "output_type": "stream",
          "name": "stdout",
          "text": [
            "Epoch 189, In-sample Loss: 0.0002, In-sample Accuracy: 0.5000\n",
            "Epoch 189, Out-sample Loss: 0.0041, Out-sample Accuracy: 0.0625\n"
          ]
        },
        {
          "output_type": "stream",
          "name": "stderr",
          "text": [
            " 95%|█████████▌| 190/200 [09:10<00:26,  2.62s/it]"
          ]
        },
        {
          "output_type": "stream",
          "name": "stdout",
          "text": [
            "Epoch 190, In-sample Loss: 0.0002, In-sample Accuracy: 0.5000\n",
            "Epoch 190, Out-sample Loss: 0.0042, Out-sample Accuracy: 0.1250\n"
          ]
        },
        {
          "output_type": "stream",
          "name": "stderr",
          "text": [
            " 96%|█████████▌| 191/200 [09:14<00:27,  3.02s/it]"
          ]
        },
        {
          "output_type": "stream",
          "name": "stdout",
          "text": [
            "Epoch 191, In-sample Loss: 0.0002, In-sample Accuracy: 0.5000\n",
            "Epoch 191, Out-sample Loss: 0.0042, Out-sample Accuracy: 0.1250\n"
          ]
        },
        {
          "output_type": "stream",
          "name": "stderr",
          "text": [
            " 96%|█████████▌| 192/200 [09:17<00:24,  3.03s/it]"
          ]
        },
        {
          "output_type": "stream",
          "name": "stdout",
          "text": [
            "Epoch 192, In-sample Loss: 0.0002, In-sample Accuracy: 0.5000\n",
            "Epoch 192, Out-sample Loss: 0.0043, Out-sample Accuracy: 0.0625\n"
          ]
        },
        {
          "output_type": "stream",
          "name": "stderr",
          "text": [
            " 96%|█████████▋| 193/200 [09:19<00:19,  2.84s/it]"
          ]
        },
        {
          "output_type": "stream",
          "name": "stdout",
          "text": [
            "Epoch 193, In-sample Loss: 0.0001, In-sample Accuracy: 0.5000\n",
            "Epoch 193, Out-sample Loss: 0.0042, Out-sample Accuracy: 0.0625\n"
          ]
        },
        {
          "output_type": "stream",
          "name": "stderr",
          "text": [
            " 97%|█████████▋| 194/200 [09:21<00:16,  2.68s/it]"
          ]
        },
        {
          "output_type": "stream",
          "name": "stdout",
          "text": [
            "Epoch 194, In-sample Loss: 0.0001, In-sample Accuracy: 0.6250\n",
            "Epoch 194, Out-sample Loss: 0.0042, Out-sample Accuracy: 0.0625\n"
          ]
        },
        {
          "output_type": "stream",
          "name": "stderr",
          "text": [
            " 98%|█████████▊| 195/200 [09:24<00:12,  2.57s/it]"
          ]
        },
        {
          "output_type": "stream",
          "name": "stdout",
          "text": [
            "Epoch 195, In-sample Loss: 0.0001, In-sample Accuracy: 0.6250\n",
            "Epoch 195, Out-sample Loss: 0.0042, Out-sample Accuracy: 0.1250\n"
          ]
        },
        {
          "output_type": "stream",
          "name": "stderr",
          "text": [
            " 98%|█████████▊| 196/200 [09:26<00:10,  2.61s/it]"
          ]
        },
        {
          "output_type": "stream",
          "name": "stdout",
          "text": [
            "Epoch 196, In-sample Loss: 0.0001, In-sample Accuracy: 0.6250\n",
            "Epoch 196, Out-sample Loss: 0.0042, Out-sample Accuracy: 0.1250\n"
          ]
        },
        {
          "output_type": "stream",
          "name": "stderr",
          "text": [
            " 98%|█████████▊| 197/200 [09:30<00:09,  3.04s/it]"
          ]
        },
        {
          "output_type": "stream",
          "name": "stdout",
          "text": [
            "Epoch 197, In-sample Loss: 0.0001, In-sample Accuracy: 0.6875\n",
            "Epoch 197, Out-sample Loss: 0.0042, Out-sample Accuracy: 0.1250\n"
          ]
        },
        {
          "output_type": "stream",
          "name": "stderr",
          "text": [
            " 99%|█████████▉| 198/200 [09:33<00:06,  3.01s/it]"
          ]
        },
        {
          "output_type": "stream",
          "name": "stdout",
          "text": [
            "Epoch 198, In-sample Loss: 0.0001, In-sample Accuracy: 0.6250\n",
            "Epoch 198, Out-sample Loss: 0.0041, Out-sample Accuracy: 0.1250\n"
          ]
        },
        {
          "output_type": "stream",
          "name": "stderr",
          "text": [
            "100%|█████████▉| 199/200 [09:36<00:02,  2.84s/it]"
          ]
        },
        {
          "output_type": "stream",
          "name": "stdout",
          "text": [
            "Epoch 199, In-sample Loss: 0.0002, In-sample Accuracy: 0.6250\n",
            "Epoch 199, Out-sample Loss: 0.0041, Out-sample Accuracy: 0.1250\n"
          ]
        },
        {
          "output_type": "stream",
          "name": "stderr",
          "text": [
            "100%|██████████| 200/200 [09:38<00:00,  2.89s/it]\n",
            "Using cache found in /root/.cache/torch/hub/pytorch_vision_v0.10.0\n"
          ]
        },
        {
          "output_type": "stream",
          "name": "stdout",
          "text": [
            "Epoch 200, In-sample Loss: 0.0001, In-sample Accuracy: 0.5000\n",
            "Epoch 200, Out-sample Loss: 0.0041, Out-sample Accuracy: 0.0625\n",
            "Full-model for lr_base: 0.0001 and lr_max: 0.01 done (with normalization).\n"
          ]
        },
        {
          "output_type": "stream",
          "name": "stderr",
          "text": [
            "  5%|▌         | 1/20 [00:02<00:41,  2.21s/it]"
          ]
        },
        {
          "output_type": "stream",
          "name": "stdout",
          "text": [
            "Epoch 1, In-sample Loss: 0.0523, In-sample Accuracy: 0.0000\n",
            "Epoch 1, Out-sample Loss: 0.0700, Out-sample Accuracy: 0.0000\n"
          ]
        },
        {
          "output_type": "stream",
          "name": "stderr",
          "text": [
            " 10%|█         | 2/20 [00:04<00:44,  2.49s/it]"
          ]
        },
        {
          "output_type": "stream",
          "name": "stdout",
          "text": [
            "Epoch 2, In-sample Loss: 53.9344, In-sample Accuracy: 0.0000\n",
            "Epoch 2, Out-sample Loss: 38.2897, Out-sample Accuracy: 0.0000\n"
          ]
        },
        {
          "output_type": "stream",
          "name": "stderr",
          "text": [
            " 15%|█▌        | 3/20 [00:08<00:52,  3.10s/it]"
          ]
        },
        {
          "output_type": "stream",
          "name": "stdout",
          "text": [
            "Epoch 3, In-sample Loss: 0.2134, In-sample Accuracy: 0.0000\n",
            "Epoch 3, Out-sample Loss: 0.2155, Out-sample Accuracy: 0.0000\n"
          ]
        },
        {
          "output_type": "stream",
          "name": "stderr",
          "text": [
            " 20%|██        | 4/20 [00:11<00:47,  2.97s/it]"
          ]
        },
        {
          "output_type": "stream",
          "name": "stdout",
          "text": [
            "Epoch 4, In-sample Loss: 0.2298, In-sample Accuracy: 0.0000\n",
            "Epoch 4, Out-sample Loss: 0.2332, Out-sample Accuracy: 0.0000\n"
          ]
        },
        {
          "output_type": "stream",
          "name": "stderr",
          "text": [
            " 25%|██▌       | 5/20 [00:13<00:40,  2.69s/it]"
          ]
        },
        {
          "output_type": "stream",
          "name": "stdout",
          "text": [
            "Epoch 5, In-sample Loss: 0.1639, In-sample Accuracy: 0.0000\n",
            "Epoch 5, Out-sample Loss: 0.1663, Out-sample Accuracy: 0.0000\n"
          ]
        },
        {
          "output_type": "stream",
          "name": "stderr",
          "text": [
            " 30%|███       | 6/20 [00:15<00:35,  2.52s/it]"
          ]
        },
        {
          "output_type": "stream",
          "name": "stdout",
          "text": [
            "Epoch 6, In-sample Loss: 0.1183, In-sample Accuracy: 0.0000\n",
            "Epoch 6, Out-sample Loss: 0.1204, Out-sample Accuracy: 0.0000\n"
          ]
        },
        {
          "output_type": "stream",
          "name": "stderr",
          "text": [
            " 35%|███▌      | 7/20 [00:18<00:31,  2.42s/it]"
          ]
        },
        {
          "output_type": "stream",
          "name": "stdout",
          "text": [
            "Epoch 7, In-sample Loss: 0.0994, In-sample Accuracy: 0.0000\n",
            "Epoch 7, Out-sample Loss: 0.1015, Out-sample Accuracy: 0.0000\n"
          ]
        },
        {
          "output_type": "stream",
          "name": "stderr",
          "text": [
            " 40%|████      | 8/20 [00:20<00:28,  2.38s/it]"
          ]
        },
        {
          "output_type": "stream",
          "name": "stdout",
          "text": [
            "Epoch 8, In-sample Loss: 0.0903, In-sample Accuracy: 0.0000\n",
            "Epoch 8, Out-sample Loss: 0.0925, Out-sample Accuracy: 0.0000\n"
          ]
        },
        {
          "output_type": "stream",
          "name": "stderr",
          "text": [
            " 45%|████▌     | 9/20 [00:24<00:30,  2.79s/it]"
          ]
        },
        {
          "output_type": "stream",
          "name": "stdout",
          "text": [
            "Epoch 9, In-sample Loss: 0.0600, In-sample Accuracy: 0.0000\n",
            "Epoch 9, Out-sample Loss: 0.0623, Out-sample Accuracy: 0.0000\n"
          ]
        },
        {
          "output_type": "stream",
          "name": "stderr",
          "text": [
            " 50%|█████     | 10/20 [00:27<00:29,  2.91s/it]"
          ]
        },
        {
          "output_type": "stream",
          "name": "stdout",
          "text": [
            "Epoch 10, In-sample Loss: 0.0250, In-sample Accuracy: 0.0000\n",
            "Epoch 10, Out-sample Loss: 0.0268, Out-sample Accuracy: 0.0000\n"
          ]
        },
        {
          "output_type": "stream",
          "name": "stderr",
          "text": [
            " 55%|█████▌    | 11/20 [00:29<00:24,  2.72s/it]"
          ]
        },
        {
          "output_type": "stream",
          "name": "stdout",
          "text": [
            "Epoch 11, In-sample Loss: 0.0059, In-sample Accuracy: 0.0000\n",
            "Epoch 11, Out-sample Loss: 0.0074, Out-sample Accuracy: 0.0000\n"
          ]
        },
        {
          "output_type": "stream",
          "name": "stderr",
          "text": [
            " 60%|██████    | 12/20 [00:31<00:20,  2.57s/it]"
          ]
        },
        {
          "output_type": "stream",
          "name": "stdout",
          "text": [
            "Epoch 12, In-sample Loss: 0.0030, In-sample Accuracy: 0.0000\n",
            "Epoch 12, Out-sample Loss: 0.0043, Out-sample Accuracy: 0.0000\n"
          ]
        },
        {
          "output_type": "stream",
          "name": "stderr",
          "text": [
            " 65%|██████▌   | 13/20 [00:34<00:17,  2.47s/it]"
          ]
        },
        {
          "output_type": "stream",
          "name": "stdout",
          "text": [
            "Epoch 13, In-sample Loss: 0.0026, In-sample Accuracy: 0.0000\n",
            "Epoch 13, Out-sample Loss: 0.0039, Out-sample Accuracy: 0.0000\n"
          ]
        },
        {
          "output_type": "stream",
          "name": "stderr",
          "text": [
            " 70%|███████   | 14/20 [00:36<00:14,  2.40s/it]"
          ]
        },
        {
          "output_type": "stream",
          "name": "stdout",
          "text": [
            "Epoch 14, In-sample Loss: 0.0025, In-sample Accuracy: 0.0000\n",
            "Epoch 14, Out-sample Loss: 0.0039, Out-sample Accuracy: 0.0000\n"
          ]
        },
        {
          "output_type": "stream",
          "name": "stderr",
          "text": [
            " 75%|███████▌  | 15/20 [00:39<00:13,  2.69s/it]"
          ]
        },
        {
          "output_type": "stream",
          "name": "stdout",
          "text": [
            "Epoch 15, In-sample Loss: 0.0024, In-sample Accuracy: 0.0000\n",
            "Epoch 15, Out-sample Loss: 0.0037, Out-sample Accuracy: 0.0625\n"
          ]
        },
        {
          "output_type": "stream",
          "name": "stderr",
          "text": [
            " 80%|████████  | 16/20 [00:43<00:11,  2.98s/it]"
          ]
        },
        {
          "output_type": "stream",
          "name": "stdout",
          "text": [
            "Epoch 16, In-sample Loss: 0.0022, In-sample Accuracy: 0.0625\n",
            "Epoch 16, Out-sample Loss: 0.0035, Out-sample Accuracy: 0.0625\n"
          ]
        },
        {
          "output_type": "stream",
          "name": "stderr",
          "text": [
            " 85%|████████▌ | 17/20 [00:45<00:08,  2.76s/it]"
          ]
        },
        {
          "output_type": "stream",
          "name": "stdout",
          "text": [
            "Epoch 17, In-sample Loss: 0.0021, In-sample Accuracy: 0.0000\n",
            "Epoch 17, Out-sample Loss: 0.0034, Out-sample Accuracy: 0.0000\n"
          ]
        },
        {
          "output_type": "stream",
          "name": "stderr",
          "text": [
            " 90%|█████████ | 18/20 [00:47<00:05,  2.59s/it]"
          ]
        },
        {
          "output_type": "stream",
          "name": "stdout",
          "text": [
            "Epoch 18, In-sample Loss: 0.0021, In-sample Accuracy: 0.0625\n",
            "Epoch 18, Out-sample Loss: 0.0034, Out-sample Accuracy: 0.0625\n"
          ]
        },
        {
          "output_type": "stream",
          "name": "stderr",
          "text": [
            " 95%|█████████▌| 19/20 [00:49<00:02,  2.47s/it]"
          ]
        },
        {
          "output_type": "stream",
          "name": "stdout",
          "text": [
            "Epoch 19, In-sample Loss: 0.0021, In-sample Accuracy: 0.0625\n",
            "Epoch 19, Out-sample Loss: 0.0034, Out-sample Accuracy: 0.0625\n"
          ]
        },
        {
          "output_type": "stream",
          "name": "stderr",
          "text": [
            "100%|██████████| 20/20 [00:52<00:00,  2.61s/it]\n"
          ]
        },
        {
          "output_type": "stream",
          "name": "stdout",
          "text": [
            "Epoch 20, In-sample Loss: 0.0021, In-sample Accuracy: 0.0000\n",
            "Epoch 20, Out-sample Loss: 0.0034, Out-sample Accuracy: 0.0625\n",
            "Encoder for lr_base: 0.0001 and lr_max: 0.1 done (with normalization).\n",
            "Starting full model training...\n"
          ]
        },
        {
          "output_type": "stream",
          "name": "stderr",
          "text": [
            "  0%|          | 1/200 [00:03<11:09,  3.37s/it]"
          ]
        },
        {
          "output_type": "stream",
          "name": "stdout",
          "text": [
            "Epoch 1, In-sample Loss: 0.0021, In-sample Accuracy: 0.0000\n",
            "Epoch 1, Out-sample Loss: 0.0034, Out-sample Accuracy: 0.0625\n"
          ]
        },
        {
          "output_type": "stream",
          "name": "stderr",
          "text": [
            "  1%|          | 2/200 [00:07<12:06,  3.67s/it]"
          ]
        },
        {
          "output_type": "stream",
          "name": "stdout",
          "text": [
            "Epoch 2, In-sample Loss: 0.0021, In-sample Accuracy: 0.0000\n",
            "Epoch 2, Out-sample Loss: 0.0034, Out-sample Accuracy: 0.0625\n"
          ]
        },
        {
          "output_type": "stream",
          "name": "stderr",
          "text": [
            "  2%|▏         | 3/200 [00:09<10:21,  3.16s/it]"
          ]
        },
        {
          "output_type": "stream",
          "name": "stdout",
          "text": [
            "Epoch 3, In-sample Loss: 0.0021, In-sample Accuracy: 0.0000\n",
            "Epoch 3, Out-sample Loss: 0.0034, Out-sample Accuracy: 0.0625\n"
          ]
        },
        {
          "output_type": "stream",
          "name": "stderr",
          "text": [
            "  2%|▏         | 4/200 [00:12<09:18,  2.85s/it]"
          ]
        },
        {
          "output_type": "stream",
          "name": "stdout",
          "text": [
            "Epoch 4, In-sample Loss: 0.0021, In-sample Accuracy: 0.0000\n",
            "Epoch 4, Out-sample Loss: 0.0034, Out-sample Accuracy: 0.0625\n"
          ]
        },
        {
          "output_type": "stream",
          "name": "stderr",
          "text": [
            "  2%|▎         | 5/200 [00:14<08:41,  2.67s/it]"
          ]
        },
        {
          "output_type": "stream",
          "name": "stdout",
          "text": [
            "Epoch 5, In-sample Loss: 0.0021, In-sample Accuracy: 0.0000\n",
            "Epoch 5, Out-sample Loss: 0.0034, Out-sample Accuracy: 0.0625\n"
          ]
        },
        {
          "output_type": "stream",
          "name": "stderr",
          "text": [
            "  3%|▎         | 6/200 [00:16<08:16,  2.56s/it]"
          ]
        },
        {
          "output_type": "stream",
          "name": "stdout",
          "text": [
            "Epoch 6, In-sample Loss: 0.0021, In-sample Accuracy: 0.0000\n",
            "Epoch 6, Out-sample Loss: 0.0034, Out-sample Accuracy: 0.0625\n"
          ]
        },
        {
          "output_type": "stream",
          "name": "stderr",
          "text": [
            "  4%|▎         | 7/200 [00:20<09:09,  2.85s/it]"
          ]
        },
        {
          "output_type": "stream",
          "name": "stdout",
          "text": [
            "Epoch 7, In-sample Loss: 0.0021, In-sample Accuracy: 0.0000\n",
            "Epoch 7, Out-sample Loss: 0.0034, Out-sample Accuracy: 0.0625\n"
          ]
        },
        {
          "output_type": "stream",
          "name": "stderr",
          "text": [
            "  4%|▍         | 8/200 [00:24<10:10,  3.18s/it]"
          ]
        },
        {
          "output_type": "stream",
          "name": "stdout",
          "text": [
            "Epoch 8, In-sample Loss: 0.0021, In-sample Accuracy: 0.0000\n",
            "Epoch 8, Out-sample Loss: 0.0034, Out-sample Accuracy: 0.0625\n"
          ]
        },
        {
          "output_type": "stream",
          "name": "stderr",
          "text": [
            "  4%|▍         | 9/200 [00:26<09:19,  2.93s/it]"
          ]
        },
        {
          "output_type": "stream",
          "name": "stdout",
          "text": [
            "Epoch 9, In-sample Loss: 0.0021, In-sample Accuracy: 0.0000\n",
            "Epoch 9, Out-sample Loss: 0.0035, Out-sample Accuracy: 0.0625\n"
          ]
        },
        {
          "output_type": "stream",
          "name": "stderr",
          "text": [
            "  5%|▌         | 10/200 [00:28<08:43,  2.76s/it]"
          ]
        },
        {
          "output_type": "stream",
          "name": "stdout",
          "text": [
            "Epoch 10, In-sample Loss: 0.0021, In-sample Accuracy: 0.0625\n",
            "Epoch 10, Out-sample Loss: 0.0034, Out-sample Accuracy: 0.0625\n"
          ]
        },
        {
          "output_type": "stream",
          "name": "stderr",
          "text": [
            "  6%|▌         | 11/200 [00:31<08:20,  2.65s/it]"
          ]
        },
        {
          "output_type": "stream",
          "name": "stdout",
          "text": [
            "Epoch 11, In-sample Loss: 0.0022, In-sample Accuracy: 0.0000\n",
            "Epoch 11, Out-sample Loss: 0.0034, Out-sample Accuracy: 0.0625\n"
          ]
        },
        {
          "output_type": "stream",
          "name": "stderr",
          "text": [
            "  6%|▌         | 12/200 [00:33<08:05,  2.58s/it]"
          ]
        },
        {
          "output_type": "stream",
          "name": "stdout",
          "text": [
            "Epoch 12, In-sample Loss: 0.0021, In-sample Accuracy: 0.0625\n",
            "Epoch 12, Out-sample Loss: 0.0034, Out-sample Accuracy: 0.0625\n"
          ]
        },
        {
          "output_type": "stream",
          "name": "stderr",
          "text": [
            "  6%|▋         | 13/200 [00:37<09:09,  2.94s/it]"
          ]
        },
        {
          "output_type": "stream",
          "name": "stdout",
          "text": [
            "Epoch 13, In-sample Loss: 0.0021, In-sample Accuracy: 0.0625\n",
            "Epoch 13, Out-sample Loss: 0.0034, Out-sample Accuracy: 0.0625\n"
          ]
        },
        {
          "output_type": "stream",
          "name": "stderr",
          "text": [
            "  7%|▋         | 14/200 [00:41<09:46,  3.15s/it]"
          ]
        },
        {
          "output_type": "stream",
          "name": "stdout",
          "text": [
            "Epoch 14, In-sample Loss: 0.0021, In-sample Accuracy: 0.0625\n",
            "Epoch 14, Out-sample Loss: 0.0034, Out-sample Accuracy: 0.0625\n"
          ]
        },
        {
          "output_type": "stream",
          "name": "stderr",
          "text": [
            "  8%|▊         | 15/200 [00:43<09:01,  2.93s/it]"
          ]
        },
        {
          "output_type": "stream",
          "name": "stdout",
          "text": [
            "Epoch 15, In-sample Loss: 0.0021, In-sample Accuracy: 0.0625\n",
            "Epoch 15, Out-sample Loss: 0.0034, Out-sample Accuracy: 0.0625\n"
          ]
        },
        {
          "output_type": "stream",
          "name": "stderr",
          "text": [
            "  8%|▊         | 16/200 [00:46<08:29,  2.77s/it]"
          ]
        },
        {
          "output_type": "stream",
          "name": "stdout",
          "text": [
            "Epoch 16, In-sample Loss: 0.0021, In-sample Accuracy: 0.0625\n",
            "Epoch 16, Out-sample Loss: 0.0034, Out-sample Accuracy: 0.0625\n"
          ]
        },
        {
          "output_type": "stream",
          "name": "stderr",
          "text": [
            "  8%|▊         | 17/200 [00:48<08:05,  2.65s/it]"
          ]
        },
        {
          "output_type": "stream",
          "name": "stdout",
          "text": [
            "Epoch 17, In-sample Loss: 0.0021, In-sample Accuracy: 0.0625\n",
            "Epoch 17, Out-sample Loss: 0.0034, Out-sample Accuracy: 0.0625\n"
          ]
        },
        {
          "output_type": "stream",
          "name": "stderr",
          "text": [
            "  9%|▉         | 18/200 [00:50<07:48,  2.58s/it]"
          ]
        },
        {
          "output_type": "stream",
          "name": "stdout",
          "text": [
            "Epoch 18, In-sample Loss: 0.0021, In-sample Accuracy: 0.0625\n",
            "Epoch 18, Out-sample Loss: 0.0034, Out-sample Accuracy: 0.0625\n"
          ]
        },
        {
          "output_type": "stream",
          "name": "stderr",
          "text": [
            " 10%|▉         | 19/200 [00:54<08:58,  2.97s/it]"
          ]
        },
        {
          "output_type": "stream",
          "name": "stdout",
          "text": [
            "Epoch 19, In-sample Loss: 0.0021, In-sample Accuracy: 0.0625\n",
            "Epoch 19, Out-sample Loss: 0.0034, Out-sample Accuracy: 0.0625\n"
          ]
        },
        {
          "output_type": "stream",
          "name": "stderr",
          "text": [
            " 10%|█         | 20/200 [00:58<09:15,  3.09s/it]"
          ]
        },
        {
          "output_type": "stream",
          "name": "stdout",
          "text": [
            "Epoch 20, In-sample Loss: 0.0021, In-sample Accuracy: 0.0625\n",
            "Epoch 20, Out-sample Loss: 0.0034, Out-sample Accuracy: 0.0625\n"
          ]
        },
        {
          "output_type": "stream",
          "name": "stderr",
          "text": [
            " 10%|█         | 21/200 [01:00<08:34,  2.88s/it]"
          ]
        },
        {
          "output_type": "stream",
          "name": "stdout",
          "text": [
            "Epoch 21, In-sample Loss: 0.0021, In-sample Accuracy: 0.0625\n",
            "Epoch 21, Out-sample Loss: 0.0034, Out-sample Accuracy: 0.0625\n"
          ]
        },
        {
          "output_type": "stream",
          "name": "stderr",
          "text": [
            " 11%|█         | 22/200 [01:02<08:06,  2.73s/it]"
          ]
        },
        {
          "output_type": "stream",
          "name": "stdout",
          "text": [
            "Epoch 22, In-sample Loss: 0.0021, In-sample Accuracy: 0.0625\n",
            "Epoch 22, Out-sample Loss: 0.0034, Out-sample Accuracy: 0.0625\n"
          ]
        },
        {
          "output_type": "stream",
          "name": "stderr",
          "text": [
            " 12%|█▏        | 23/200 [01:05<07:46,  2.63s/it]"
          ]
        },
        {
          "output_type": "stream",
          "name": "stdout",
          "text": [
            "Epoch 23, In-sample Loss: 0.0021, In-sample Accuracy: 0.0625\n",
            "Epoch 23, Out-sample Loss: 0.0035, Out-sample Accuracy: 0.0625\n"
          ]
        },
        {
          "output_type": "stream",
          "name": "stderr",
          "text": [
            " 12%|█▏        | 24/200 [01:07<07:47,  2.66s/it]"
          ]
        },
        {
          "output_type": "stream",
          "name": "stdout",
          "text": [
            "Epoch 24, In-sample Loss: 0.0021, In-sample Accuracy: 0.0625\n",
            "Epoch 24, Out-sample Loss: 0.0035, Out-sample Accuracy: 0.0625\n"
          ]
        },
        {
          "output_type": "stream",
          "name": "stderr",
          "text": [
            " 12%|█▎        | 25/200 [01:11<08:45,  3.00s/it]"
          ]
        },
        {
          "output_type": "stream",
          "name": "stdout",
          "text": [
            "Epoch 25, In-sample Loss: 0.0021, In-sample Accuracy: 0.0625\n",
            "Epoch 25, Out-sample Loss: 0.0035, Out-sample Accuracy: 0.0625\n"
          ]
        },
        {
          "output_type": "stream",
          "name": "stderr",
          "text": [
            " 13%|█▎        | 26/200 [01:15<09:02,  3.12s/it]"
          ]
        },
        {
          "output_type": "stream",
          "name": "stdout",
          "text": [
            "Epoch 26, In-sample Loss: 0.0021, In-sample Accuracy: 0.0625\n",
            "Epoch 26, Out-sample Loss: 0.0035, Out-sample Accuracy: 0.0625\n"
          ]
        },
        {
          "output_type": "stream",
          "name": "stderr",
          "text": [
            " 14%|█▎        | 27/200 [01:17<08:21,  2.90s/it]"
          ]
        },
        {
          "output_type": "stream",
          "name": "stdout",
          "text": [
            "Epoch 27, In-sample Loss: 0.0021, In-sample Accuracy: 0.0625\n",
            "Epoch 27, Out-sample Loss: 0.0035, Out-sample Accuracy: 0.0625\n"
          ]
        },
        {
          "output_type": "stream",
          "name": "stderr",
          "text": [
            " 14%|█▍        | 28/200 [01:19<07:54,  2.76s/it]"
          ]
        },
        {
          "output_type": "stream",
          "name": "stdout",
          "text": [
            "Epoch 28, In-sample Loss: 0.0020, In-sample Accuracy: 0.0625\n",
            "Epoch 28, Out-sample Loss: 0.0035, Out-sample Accuracy: 0.0625\n"
          ]
        },
        {
          "output_type": "stream",
          "name": "stderr",
          "text": [
            " 14%|█▍        | 29/200 [01:22<07:31,  2.64s/it]"
          ]
        },
        {
          "output_type": "stream",
          "name": "stdout",
          "text": [
            "Epoch 29, In-sample Loss: 0.0021, In-sample Accuracy: 0.1250\n",
            "Epoch 29, Out-sample Loss: 0.0036, Out-sample Accuracy: 0.0625\n"
          ]
        },
        {
          "output_type": "stream",
          "name": "stderr",
          "text": [
            " 15%|█▌        | 30/200 [01:25<07:31,  2.66s/it]"
          ]
        },
        {
          "output_type": "stream",
          "name": "stdout",
          "text": [
            "Epoch 30, In-sample Loss: 0.0021, In-sample Accuracy: 0.1250\n",
            "Epoch 30, Out-sample Loss: 0.0036, Out-sample Accuracy: 0.0000\n"
          ]
        },
        {
          "output_type": "stream",
          "name": "stderr",
          "text": [
            " 16%|█▌        | 31/200 [01:29<08:40,  3.08s/it]"
          ]
        },
        {
          "output_type": "stream",
          "name": "stdout",
          "text": [
            "Epoch 31, In-sample Loss: 0.0022, In-sample Accuracy: 0.0625\n",
            "Epoch 31, Out-sample Loss: 0.0038, Out-sample Accuracy: 0.0000\n"
          ]
        },
        {
          "output_type": "stream",
          "name": "stderr",
          "text": [
            " 16%|█▌        | 32/200 [01:32<08:30,  3.04s/it]"
          ]
        },
        {
          "output_type": "stream",
          "name": "stdout",
          "text": [
            "Epoch 32, In-sample Loss: 0.0020, In-sample Accuracy: 0.0625\n",
            "Epoch 32, Out-sample Loss: 0.0037, Out-sample Accuracy: 0.0000\n"
          ]
        },
        {
          "output_type": "stream",
          "name": "stderr",
          "text": [
            " 16%|█▋        | 33/200 [01:34<07:52,  2.83s/it]"
          ]
        },
        {
          "output_type": "stream",
          "name": "stdout",
          "text": [
            "Epoch 33, In-sample Loss: 0.0020, In-sample Accuracy: 0.0625\n",
            "Epoch 33, Out-sample Loss: 0.0036, Out-sample Accuracy: 0.0625\n"
          ]
        },
        {
          "output_type": "stream",
          "name": "stderr",
          "text": [
            " 17%|█▋        | 34/200 [01:36<07:28,  2.70s/it]"
          ]
        },
        {
          "output_type": "stream",
          "name": "stdout",
          "text": [
            "Epoch 34, In-sample Loss: 0.0020, In-sample Accuracy: 0.0625\n",
            "Epoch 34, Out-sample Loss: 0.0036, Out-sample Accuracy: 0.0625\n"
          ]
        },
        {
          "output_type": "stream",
          "name": "stderr",
          "text": [
            " 18%|█▊        | 35/200 [01:39<07:08,  2.59s/it]"
          ]
        },
        {
          "output_type": "stream",
          "name": "stdout",
          "text": [
            "Epoch 35, In-sample Loss: 0.0020, In-sample Accuracy: 0.0625\n",
            "Epoch 35, Out-sample Loss: 0.0036, Out-sample Accuracy: 0.0625\n"
          ]
        },
        {
          "output_type": "stream",
          "name": "stderr",
          "text": [
            " 18%|█▊        | 36/200 [01:42<07:23,  2.71s/it]"
          ]
        },
        {
          "output_type": "stream",
          "name": "stdout",
          "text": [
            "Epoch 36, In-sample Loss: 0.0019, In-sample Accuracy: 0.0625\n",
            "Epoch 36, Out-sample Loss: 0.0036, Out-sample Accuracy: 0.0625\n"
          ]
        },
        {
          "output_type": "stream",
          "name": "stderr",
          "text": [
            " 18%|█▊        | 37/200 [01:46<08:28,  3.12s/it]"
          ]
        },
        {
          "output_type": "stream",
          "name": "stdout",
          "text": [
            "Epoch 37, In-sample Loss: 0.0020, In-sample Accuracy: 0.0625\n",
            "Epoch 37, Out-sample Loss: 0.0036, Out-sample Accuracy: 0.0625\n"
          ]
        },
        {
          "output_type": "stream",
          "name": "stderr",
          "text": [
            " 19%|█▉        | 38/200 [01:48<08:05,  2.99s/it]"
          ]
        },
        {
          "output_type": "stream",
          "name": "stdout",
          "text": [
            "Epoch 38, In-sample Loss: 0.0020, In-sample Accuracy: 0.0625\n",
            "Epoch 38, Out-sample Loss: 0.0036, Out-sample Accuracy: 0.0000\n"
          ]
        },
        {
          "output_type": "stream",
          "name": "stderr",
          "text": [
            " 20%|█▉        | 39/200 [01:51<07:31,  2.80s/it]"
          ]
        },
        {
          "output_type": "stream",
          "name": "stdout",
          "text": [
            "Epoch 39, In-sample Loss: 0.0019, In-sample Accuracy: 0.0625\n",
            "Epoch 39, Out-sample Loss: 0.0036, Out-sample Accuracy: 0.0000\n"
          ]
        },
        {
          "output_type": "stream",
          "name": "stderr",
          "text": [
            " 20%|██        | 40/200 [01:53<07:11,  2.70s/it]"
          ]
        },
        {
          "output_type": "stream",
          "name": "stdout",
          "text": [
            "Epoch 40, In-sample Loss: 0.0019, In-sample Accuracy: 0.0625\n",
            "Epoch 40, Out-sample Loss: 0.0036, Out-sample Accuracy: 0.0000\n"
          ]
        },
        {
          "output_type": "stream",
          "name": "stderr",
          "text": [
            " 20%|██        | 41/200 [01:56<06:53,  2.60s/it]"
          ]
        },
        {
          "output_type": "stream",
          "name": "stdout",
          "text": [
            "Epoch 41, In-sample Loss: 0.0019, In-sample Accuracy: 0.0625\n",
            "Epoch 41, Out-sample Loss: 0.0036, Out-sample Accuracy: 0.0000\n"
          ]
        },
        {
          "output_type": "stream",
          "name": "stderr",
          "text": [
            " 21%|██        | 42/200 [01:59<07:26,  2.83s/it]"
          ]
        },
        {
          "output_type": "stream",
          "name": "stdout",
          "text": [
            "Epoch 42, In-sample Loss: 0.0018, In-sample Accuracy: 0.0625\n",
            "Epoch 42, Out-sample Loss: 0.0036, Out-sample Accuracy: 0.0000\n"
          ]
        },
        {
          "output_type": "stream",
          "name": "stderr",
          "text": [
            " 22%|██▏       | 43/200 [02:03<08:15,  3.16s/it]"
          ]
        },
        {
          "output_type": "stream",
          "name": "stdout",
          "text": [
            "Epoch 43, In-sample Loss: 0.0018, In-sample Accuracy: 0.0625\n",
            "Epoch 43, Out-sample Loss: 0.0037, Out-sample Accuracy: 0.0000\n"
          ]
        },
        {
          "output_type": "stream",
          "name": "stderr",
          "text": [
            " 22%|██▏       | 44/200 [02:05<07:41,  2.96s/it]"
          ]
        },
        {
          "output_type": "stream",
          "name": "stdout",
          "text": [
            "Epoch 44, In-sample Loss: 0.0018, In-sample Accuracy: 0.0625\n",
            "Epoch 44, Out-sample Loss: 0.0037, Out-sample Accuracy: 0.0000\n"
          ]
        },
        {
          "output_type": "stream",
          "name": "stderr",
          "text": [
            " 22%|██▎       | 45/200 [02:08<07:12,  2.79s/it]"
          ]
        },
        {
          "output_type": "stream",
          "name": "stdout",
          "text": [
            "Epoch 45, In-sample Loss: 0.0018, In-sample Accuracy: 0.0625\n",
            "Epoch 45, Out-sample Loss: 0.0036, Out-sample Accuracy: 0.0000\n"
          ]
        },
        {
          "output_type": "stream",
          "name": "stderr",
          "text": [
            " 23%|██▎       | 46/200 [02:10<06:50,  2.66s/it]"
          ]
        },
        {
          "output_type": "stream",
          "name": "stdout",
          "text": [
            "Epoch 46, In-sample Loss: 0.0017, In-sample Accuracy: 0.1250\n",
            "Epoch 46, Out-sample Loss: 0.0035, Out-sample Accuracy: 0.0000\n"
          ]
        },
        {
          "output_type": "stream",
          "name": "stderr",
          "text": [
            " 24%|██▎       | 47/200 [02:12<06:34,  2.58s/it]"
          ]
        },
        {
          "output_type": "stream",
          "name": "stdout",
          "text": [
            "Epoch 47, In-sample Loss: 0.0017, In-sample Accuracy: 0.1250\n",
            "Epoch 47, Out-sample Loss: 0.0035, Out-sample Accuracy: 0.0000\n"
          ]
        },
        {
          "output_type": "stream",
          "name": "stderr",
          "text": [
            " 24%|██▍       | 48/200 [02:16<07:11,  2.84s/it]"
          ]
        },
        {
          "output_type": "stream",
          "name": "stdout",
          "text": [
            "Epoch 48, In-sample Loss: 0.0017, In-sample Accuracy: 0.2500\n",
            "Epoch 48, Out-sample Loss: 0.0035, Out-sample Accuracy: 0.0000\n"
          ]
        },
        {
          "output_type": "stream",
          "name": "stderr",
          "text": [
            " 24%|██▍       | 49/200 [02:20<07:51,  3.12s/it]"
          ]
        },
        {
          "output_type": "stream",
          "name": "stdout",
          "text": [
            "Epoch 49, In-sample Loss: 0.0017, In-sample Accuracy: 0.0625\n",
            "Epoch 49, Out-sample Loss: 0.0035, Out-sample Accuracy: 0.0000\n"
          ]
        },
        {
          "output_type": "stream",
          "name": "stderr",
          "text": [
            " 25%|██▌       | 50/200 [02:22<07:15,  2.91s/it]"
          ]
        },
        {
          "output_type": "stream",
          "name": "stdout",
          "text": [
            "Epoch 50, In-sample Loss: 0.0017, In-sample Accuracy: 0.1250\n",
            "Epoch 50, Out-sample Loss: 0.0036, Out-sample Accuracy: 0.0000\n"
          ]
        },
        {
          "output_type": "stream",
          "name": "stderr",
          "text": [
            " 26%|██▌       | 51/200 [02:24<06:49,  2.75s/it]"
          ]
        },
        {
          "output_type": "stream",
          "name": "stdout",
          "text": [
            "Epoch 51, In-sample Loss: 0.0017, In-sample Accuracy: 0.1250\n",
            "Epoch 51, Out-sample Loss: 0.0036, Out-sample Accuracy: 0.0000\n"
          ]
        },
        {
          "output_type": "stream",
          "name": "stderr",
          "text": [
            " 26%|██▌       | 52/200 [02:27<06:29,  2.63s/it]"
          ]
        },
        {
          "output_type": "stream",
          "name": "stdout",
          "text": [
            "Epoch 52, In-sample Loss: 0.0017, In-sample Accuracy: 0.1250\n",
            "Epoch 52, Out-sample Loss: 0.0035, Out-sample Accuracy: 0.0000\n"
          ]
        },
        {
          "output_type": "stream",
          "name": "stderr",
          "text": [
            " 26%|██▋       | 53/200 [02:29<06:15,  2.55s/it]"
          ]
        },
        {
          "output_type": "stream",
          "name": "stdout",
          "text": [
            "Epoch 53, In-sample Loss: 0.0018, In-sample Accuracy: 0.1875\n",
            "Epoch 53, Out-sample Loss: 0.0035, Out-sample Accuracy: 0.0625\n"
          ]
        },
        {
          "output_type": "stream",
          "name": "stderr",
          "text": [
            " 27%|██▋       | 54/200 [02:33<07:01,  2.89s/it]"
          ]
        },
        {
          "output_type": "stream",
          "name": "stdout",
          "text": [
            "Epoch 54, In-sample Loss: 0.0017, In-sample Accuracy: 0.1250\n",
            "Epoch 54, Out-sample Loss: 0.0035, Out-sample Accuracy: 0.0625\n"
          ]
        },
        {
          "output_type": "stream",
          "name": "stderr",
          "text": [
            " 28%|██▊       | 55/200 [02:36<07:30,  3.11s/it]"
          ]
        },
        {
          "output_type": "stream",
          "name": "stdout",
          "text": [
            "Epoch 55, In-sample Loss: 0.0017, In-sample Accuracy: 0.0625\n",
            "Epoch 55, Out-sample Loss: 0.0035, Out-sample Accuracy: 0.0625\n"
          ]
        },
        {
          "output_type": "stream",
          "name": "stderr",
          "text": [
            " 28%|██▊       | 56/200 [02:39<06:58,  2.91s/it]"
          ]
        },
        {
          "output_type": "stream",
          "name": "stdout",
          "text": [
            "Epoch 56, In-sample Loss: 0.0017, In-sample Accuracy: 0.1250\n",
            "Epoch 56, Out-sample Loss: 0.0035, Out-sample Accuracy: 0.0000\n"
          ]
        },
        {
          "output_type": "stream",
          "name": "stderr",
          "text": [
            " 28%|██▊       | 57/200 [02:41<06:32,  2.75s/it]"
          ]
        },
        {
          "output_type": "stream",
          "name": "stdout",
          "text": [
            "Epoch 57, In-sample Loss: 0.0017, In-sample Accuracy: 0.1875\n",
            "Epoch 57, Out-sample Loss: 0.0035, Out-sample Accuracy: 0.0000\n"
          ]
        },
        {
          "output_type": "stream",
          "name": "stderr",
          "text": [
            " 29%|██▉       | 58/200 [02:44<06:12,  2.62s/it]"
          ]
        },
        {
          "output_type": "stream",
          "name": "stdout",
          "text": [
            "Epoch 58, In-sample Loss: 0.0017, In-sample Accuracy: 0.1875\n",
            "Epoch 58, Out-sample Loss: 0.0035, Out-sample Accuracy: 0.0000\n"
          ]
        },
        {
          "output_type": "stream",
          "name": "stderr",
          "text": [
            " 30%|██▉       | 59/200 [02:46<06:02,  2.57s/it]"
          ]
        },
        {
          "output_type": "stream",
          "name": "stdout",
          "text": [
            "Epoch 59, In-sample Loss: 0.0016, In-sample Accuracy: 0.1875\n",
            "Epoch 59, Out-sample Loss: 0.0035, Out-sample Accuracy: 0.0000\n"
          ]
        },
        {
          "output_type": "stream",
          "name": "stderr",
          "text": [
            " 30%|███       | 60/200 [02:50<06:53,  2.96s/it]"
          ]
        },
        {
          "output_type": "stream",
          "name": "stdout",
          "text": [
            "Epoch 60, In-sample Loss: 0.0016, In-sample Accuracy: 0.0625\n",
            "Epoch 60, Out-sample Loss: 0.0035, Out-sample Accuracy: 0.0625\n"
          ]
        },
        {
          "output_type": "stream",
          "name": "stderr",
          "text": [
            " 30%|███       | 61/200 [02:53<07:14,  3.12s/it]"
          ]
        },
        {
          "output_type": "stream",
          "name": "stdout",
          "text": [
            "Epoch 61, In-sample Loss: 0.0016, In-sample Accuracy: 0.0625\n",
            "Epoch 61, Out-sample Loss: 0.0035, Out-sample Accuracy: 0.0625\n"
          ]
        },
        {
          "output_type": "stream",
          "name": "stderr",
          "text": [
            " 31%|███       | 62/200 [02:56<06:40,  2.90s/it]"
          ]
        },
        {
          "output_type": "stream",
          "name": "stdout",
          "text": [
            "Epoch 62, In-sample Loss: 0.0016, In-sample Accuracy: 0.1875\n",
            "Epoch 62, Out-sample Loss: 0.0035, Out-sample Accuracy: 0.0625\n"
          ]
        },
        {
          "output_type": "stream",
          "name": "stderr",
          "text": [
            " 32%|███▏      | 63/200 [02:58<06:17,  2.75s/it]"
          ]
        },
        {
          "output_type": "stream",
          "name": "stdout",
          "text": [
            "Epoch 63, In-sample Loss: 0.0016, In-sample Accuracy: 0.1250\n",
            "Epoch 63, Out-sample Loss: 0.0035, Out-sample Accuracy: 0.0625\n"
          ]
        },
        {
          "output_type": "stream",
          "name": "stderr",
          "text": [
            " 32%|███▏      | 64/200 [03:01<06:00,  2.65s/it]"
          ]
        },
        {
          "output_type": "stream",
          "name": "stdout",
          "text": [
            "Epoch 64, In-sample Loss: 0.0017, In-sample Accuracy: 0.1875\n",
            "Epoch 64, Out-sample Loss: 0.0035, Out-sample Accuracy: 0.0625\n"
          ]
        },
        {
          "output_type": "stream",
          "name": "stderr",
          "text": [
            " 32%|███▎      | 65/200 [03:03<05:52,  2.61s/it]"
          ]
        },
        {
          "output_type": "stream",
          "name": "stdout",
          "text": [
            "Epoch 65, In-sample Loss: 0.0017, In-sample Accuracy: 0.1875\n",
            "Epoch 65, Out-sample Loss: 0.0035, Out-sample Accuracy: 0.0625\n"
          ]
        },
        {
          "output_type": "stream",
          "name": "stderr",
          "text": [
            " 33%|███▎      | 66/200 [03:07<06:46,  3.03s/it]"
          ]
        },
        {
          "output_type": "stream",
          "name": "stdout",
          "text": [
            "Epoch 66, In-sample Loss: 0.0016, In-sample Accuracy: 0.0625\n",
            "Epoch 66, Out-sample Loss: 0.0035, Out-sample Accuracy: 0.0625\n"
          ]
        },
        {
          "output_type": "stream",
          "name": "stderr",
          "text": [
            " 34%|███▎      | 67/200 [03:10<06:49,  3.08s/it]"
          ]
        },
        {
          "output_type": "stream",
          "name": "stdout",
          "text": [
            "Epoch 67, In-sample Loss: 0.0016, In-sample Accuracy: 0.0625\n",
            "Epoch 67, Out-sample Loss: 0.0035, Out-sample Accuracy: 0.0625\n"
          ]
        },
        {
          "output_type": "stream",
          "name": "stderr",
          "text": [
            " 34%|███▍      | 68/200 [03:13<06:19,  2.87s/it]"
          ]
        },
        {
          "output_type": "stream",
          "name": "stdout",
          "text": [
            "Epoch 68, In-sample Loss: 0.0016, In-sample Accuracy: 0.1875\n",
            "Epoch 68, Out-sample Loss: 0.0035, Out-sample Accuracy: 0.0625\n"
          ]
        },
        {
          "output_type": "stream",
          "name": "stderr",
          "text": [
            " 34%|███▍      | 69/200 [03:15<05:56,  2.72s/it]"
          ]
        },
        {
          "output_type": "stream",
          "name": "stdout",
          "text": [
            "Epoch 69, In-sample Loss: 0.0015, In-sample Accuracy: 0.1875\n",
            "Epoch 69, Out-sample Loss: 0.0036, Out-sample Accuracy: 0.0625\n"
          ]
        },
        {
          "output_type": "stream",
          "name": "stderr",
          "text": [
            " 35%|███▌      | 70/200 [03:18<05:40,  2.62s/it]"
          ]
        },
        {
          "output_type": "stream",
          "name": "stdout",
          "text": [
            "Epoch 70, In-sample Loss: 0.0015, In-sample Accuracy: 0.1250\n",
            "Epoch 70, Out-sample Loss: 0.0035, Out-sample Accuracy: 0.0625\n"
          ]
        },
        {
          "output_type": "stream",
          "name": "stderr",
          "text": [
            " 36%|███▌      | 71/200 [03:20<05:45,  2.68s/it]"
          ]
        },
        {
          "output_type": "stream",
          "name": "stdout",
          "text": [
            "Epoch 71, In-sample Loss: 0.0015, In-sample Accuracy: 0.1875\n",
            "Epoch 71, Out-sample Loss: 0.0035, Out-sample Accuracy: 0.0625\n"
          ]
        },
        {
          "output_type": "stream",
          "name": "stderr",
          "text": [
            " 36%|███▌      | 72/200 [03:24<06:36,  3.09s/it]"
          ]
        },
        {
          "output_type": "stream",
          "name": "stdout",
          "text": [
            "Epoch 72, In-sample Loss: 0.0015, In-sample Accuracy: 0.1875\n",
            "Epoch 72, Out-sample Loss: 0.0035, Out-sample Accuracy: 0.0625\n"
          ]
        },
        {
          "output_type": "stream",
          "name": "stderr",
          "text": [
            " 36%|███▋      | 73/200 [03:27<06:26,  3.05s/it]"
          ]
        },
        {
          "output_type": "stream",
          "name": "stdout",
          "text": [
            "Epoch 73, In-sample Loss: 0.0016, In-sample Accuracy: 0.1875\n",
            "Epoch 73, Out-sample Loss: 0.0036, Out-sample Accuracy: 0.0625\n"
          ]
        },
        {
          "output_type": "stream",
          "name": "stderr",
          "text": [
            " 37%|███▋      | 74/200 [03:30<05:58,  2.85s/it]"
          ]
        },
        {
          "output_type": "stream",
          "name": "stdout",
          "text": [
            "Epoch 74, In-sample Loss: 0.0016, In-sample Accuracy: 0.1250\n",
            "Epoch 74, Out-sample Loss: 0.0035, Out-sample Accuracy: 0.0625\n"
          ]
        },
        {
          "output_type": "stream",
          "name": "stderr",
          "text": [
            " 38%|███▊      | 75/200 [03:32<05:37,  2.70s/it]"
          ]
        },
        {
          "output_type": "stream",
          "name": "stdout",
          "text": [
            "Epoch 75, In-sample Loss: 0.0015, In-sample Accuracy: 0.0625\n",
            "Epoch 75, Out-sample Loss: 0.0035, Out-sample Accuracy: 0.0625\n"
          ]
        },
        {
          "output_type": "stream",
          "name": "stderr",
          "text": [
            " 38%|███▊      | 76/200 [03:35<05:24,  2.61s/it]"
          ]
        },
        {
          "output_type": "stream",
          "name": "stdout",
          "text": [
            "Epoch 76, In-sample Loss: 0.0015, In-sample Accuracy: 0.1875\n",
            "Epoch 76, Out-sample Loss: 0.0035, Out-sample Accuracy: 0.0625\n"
          ]
        },
        {
          "output_type": "stream",
          "name": "stderr",
          "text": [
            " 38%|███▊      | 77/200 [03:37<05:34,  2.72s/it]"
          ]
        },
        {
          "output_type": "stream",
          "name": "stdout",
          "text": [
            "Epoch 77, In-sample Loss: 0.0015, In-sample Accuracy: 0.1875\n",
            "Epoch 77, Out-sample Loss: 0.0034, Out-sample Accuracy: 0.0625\n"
          ]
        },
        {
          "output_type": "stream",
          "name": "stderr",
          "text": [
            " 39%|███▉      | 78/200 [03:41<06:18,  3.10s/it]"
          ]
        },
        {
          "output_type": "stream",
          "name": "stdout",
          "text": [
            "Epoch 78, In-sample Loss: 0.0015, In-sample Accuracy: 0.2500\n",
            "Epoch 78, Out-sample Loss: 0.0034, Out-sample Accuracy: 0.0625\n"
          ]
        },
        {
          "output_type": "stream",
          "name": "stderr",
          "text": [
            " 40%|███▉      | 79/200 [03:44<06:03,  3.01s/it]"
          ]
        },
        {
          "output_type": "stream",
          "name": "stdout",
          "text": [
            "Epoch 79, In-sample Loss: 0.0015, In-sample Accuracy: 0.1250\n",
            "Epoch 79, Out-sample Loss: 0.0034, Out-sample Accuracy: 0.0625\n"
          ]
        },
        {
          "output_type": "stream",
          "name": "stderr",
          "text": [
            " 40%|████      | 80/200 [03:47<05:37,  2.81s/it]"
          ]
        },
        {
          "output_type": "stream",
          "name": "stdout",
          "text": [
            "Epoch 80, In-sample Loss: 0.0015, In-sample Accuracy: 0.0625\n",
            "Epoch 80, Out-sample Loss: 0.0034, Out-sample Accuracy: 0.0625\n"
          ]
        },
        {
          "output_type": "stream",
          "name": "stderr",
          "text": [
            " 40%|████      | 81/200 [03:49<05:19,  2.68s/it]"
          ]
        },
        {
          "output_type": "stream",
          "name": "stdout",
          "text": [
            "Epoch 81, In-sample Loss: 0.0015, In-sample Accuracy: 0.1250\n",
            "Epoch 81, Out-sample Loss: 0.0034, Out-sample Accuracy: 0.0625\n"
          ]
        },
        {
          "output_type": "stream",
          "name": "stderr",
          "text": [
            " 41%|████      | 82/200 [03:51<05:06,  2.60s/it]"
          ]
        },
        {
          "output_type": "stream",
          "name": "stdout",
          "text": [
            "Epoch 82, In-sample Loss: 0.0015, In-sample Accuracy: 0.0625\n",
            "Epoch 82, Out-sample Loss: 0.0035, Out-sample Accuracy: 0.0625\n"
          ]
        },
        {
          "output_type": "stream",
          "name": "stderr",
          "text": [
            " 42%|████▏     | 83/200 [03:55<05:26,  2.79s/it]"
          ]
        },
        {
          "output_type": "stream",
          "name": "stdout",
          "text": [
            "Epoch 83, In-sample Loss: 0.0014, In-sample Accuracy: 0.0625\n",
            "Epoch 83, Out-sample Loss: 0.0034, Out-sample Accuracy: 0.0625\n"
          ]
        },
        {
          "output_type": "stream",
          "name": "stderr",
          "text": [
            " 42%|████▏     | 84/200 [03:59<06:02,  3.13s/it]"
          ]
        },
        {
          "output_type": "stream",
          "name": "stdout",
          "text": [
            "Epoch 84, In-sample Loss: 0.0014, In-sample Accuracy: 0.0625\n",
            "Epoch 84, Out-sample Loss: 0.0034, Out-sample Accuracy: 0.0625\n"
          ]
        },
        {
          "output_type": "stream",
          "name": "stderr",
          "text": [
            " 42%|████▎     | 85/200 [04:01<05:40,  2.96s/it]"
          ]
        },
        {
          "output_type": "stream",
          "name": "stdout",
          "text": [
            "Epoch 85, In-sample Loss: 0.0015, In-sample Accuracy: 0.1250\n",
            "Epoch 85, Out-sample Loss: 0.0034, Out-sample Accuracy: 0.0625\n"
          ]
        },
        {
          "output_type": "stream",
          "name": "stderr",
          "text": [
            " 43%|████▎     | 86/200 [04:04<05:18,  2.80s/it]"
          ]
        },
        {
          "output_type": "stream",
          "name": "stdout",
          "text": [
            "Epoch 86, In-sample Loss: 0.0015, In-sample Accuracy: 0.1875\n",
            "Epoch 86, Out-sample Loss: 0.0035, Out-sample Accuracy: 0.0625\n"
          ]
        },
        {
          "output_type": "stream",
          "name": "stderr",
          "text": [
            " 44%|████▎     | 87/200 [04:06<05:03,  2.69s/it]"
          ]
        },
        {
          "output_type": "stream",
          "name": "stdout",
          "text": [
            "Epoch 87, In-sample Loss: 0.0016, In-sample Accuracy: 0.1875\n",
            "Epoch 87, Out-sample Loss: 0.0034, Out-sample Accuracy: 0.0625\n"
          ]
        },
        {
          "output_type": "stream",
          "name": "stderr",
          "text": [
            " 44%|████▍     | 88/200 [04:08<04:51,  2.61s/it]"
          ]
        },
        {
          "output_type": "stream",
          "name": "stdout",
          "text": [
            "Epoch 88, In-sample Loss: 0.0014, In-sample Accuracy: 0.1875\n",
            "Epoch 88, Out-sample Loss: 0.0033, Out-sample Accuracy: 0.0625\n"
          ]
        },
        {
          "output_type": "stream",
          "name": "stderr",
          "text": [
            " 44%|████▍     | 89/200 [04:12<05:18,  2.87s/it]"
          ]
        },
        {
          "output_type": "stream",
          "name": "stdout",
          "text": [
            "Epoch 89, In-sample Loss: 0.0014, In-sample Accuracy: 0.1875\n",
            "Epoch 89, Out-sample Loss: 0.0033, Out-sample Accuracy: 0.0625\n"
          ]
        },
        {
          "output_type": "stream",
          "name": "stderr",
          "text": [
            " 45%|████▌     | 90/200 [04:16<05:45,  3.14s/it]"
          ]
        },
        {
          "output_type": "stream",
          "name": "stdout",
          "text": [
            "Epoch 90, In-sample Loss: 0.0016, In-sample Accuracy: 0.1250\n",
            "Epoch 90, Out-sample Loss: 0.0033, Out-sample Accuracy: 0.0625\n"
          ]
        },
        {
          "output_type": "stream",
          "name": "stderr",
          "text": [
            " 46%|████▌     | 91/200 [04:18<05:16,  2.91s/it]"
          ]
        },
        {
          "output_type": "stream",
          "name": "stdout",
          "text": [
            "Epoch 91, In-sample Loss: 0.0015, In-sample Accuracy: 0.1250\n",
            "Epoch 91, Out-sample Loss: 0.0033, Out-sample Accuracy: 0.0625\n"
          ]
        },
        {
          "output_type": "stream",
          "name": "stderr",
          "text": [
            " 46%|████▌     | 92/200 [04:20<04:56,  2.74s/it]"
          ]
        },
        {
          "output_type": "stream",
          "name": "stdout",
          "text": [
            "Epoch 92, In-sample Loss: 0.0013, In-sample Accuracy: 0.2500\n",
            "Epoch 92, Out-sample Loss: 0.0033, Out-sample Accuracy: 0.0625\n"
          ]
        },
        {
          "output_type": "stream",
          "name": "stderr",
          "text": [
            " 46%|████▋     | 93/200 [04:23<04:39,  2.62s/it]"
          ]
        },
        {
          "output_type": "stream",
          "name": "stdout",
          "text": [
            "Epoch 93, In-sample Loss: 0.0013, In-sample Accuracy: 0.2500\n",
            "Epoch 93, Out-sample Loss: 0.0033, Out-sample Accuracy: 0.0625\n"
          ]
        },
        {
          "output_type": "stream",
          "name": "stderr",
          "text": [
            " 47%|████▋     | 94/200 [04:25<04:29,  2.55s/it]"
          ]
        },
        {
          "output_type": "stream",
          "name": "stdout",
          "text": [
            "Epoch 94, In-sample Loss: 0.0013, In-sample Accuracy: 0.2500\n",
            "Epoch 94, Out-sample Loss: 0.0033, Out-sample Accuracy: 0.0625\n"
          ]
        },
        {
          "output_type": "stream",
          "name": "stderr",
          "text": [
            " 48%|████▊     | 95/200 [04:29<05:02,  2.88s/it]"
          ]
        },
        {
          "output_type": "stream",
          "name": "stdout",
          "text": [
            "Epoch 95, In-sample Loss: 0.0012, In-sample Accuracy: 0.2500\n",
            "Epoch 95, Out-sample Loss: 0.0033, Out-sample Accuracy: 0.0625\n"
          ]
        },
        {
          "output_type": "stream",
          "name": "stderr",
          "text": [
            " 48%|████▊     | 96/200 [04:32<05:22,  3.10s/it]"
          ]
        },
        {
          "output_type": "stream",
          "name": "stdout",
          "text": [
            "Epoch 96, In-sample Loss: 0.0012, In-sample Accuracy: 0.2500\n",
            "Epoch 96, Out-sample Loss: 0.0034, Out-sample Accuracy: 0.0000\n"
          ]
        },
        {
          "output_type": "stream",
          "name": "stderr",
          "text": [
            " 48%|████▊     | 97/200 [04:35<04:58,  2.89s/it]"
          ]
        },
        {
          "output_type": "stream",
          "name": "stdout",
          "text": [
            "Epoch 97, In-sample Loss: 0.0012, In-sample Accuracy: 0.2500\n",
            "Epoch 97, Out-sample Loss: 0.0033, Out-sample Accuracy: 0.0625\n"
          ]
        },
        {
          "output_type": "stream",
          "name": "stderr",
          "text": [
            " 49%|████▉     | 98/200 [04:37<04:39,  2.74s/it]"
          ]
        },
        {
          "output_type": "stream",
          "name": "stdout",
          "text": [
            "Epoch 98, In-sample Loss: 0.0012, In-sample Accuracy: 0.1250\n",
            "Epoch 98, Out-sample Loss: 0.0033, Out-sample Accuracy: 0.0000\n"
          ]
        },
        {
          "output_type": "stream",
          "name": "stderr",
          "text": [
            " 50%|████▉     | 99/200 [04:40<04:26,  2.64s/it]"
          ]
        },
        {
          "output_type": "stream",
          "name": "stdout",
          "text": [
            "Epoch 99, In-sample Loss: 0.0012, In-sample Accuracy: 0.2500\n",
            "Epoch 99, Out-sample Loss: 0.0033, Out-sample Accuracy: 0.0625\n"
          ]
        },
        {
          "output_type": "stream",
          "name": "stderr",
          "text": [
            " 50%|█████     | 100/200 [04:42<04:16,  2.56s/it]"
          ]
        },
        {
          "output_type": "stream",
          "name": "stdout",
          "text": [
            "Epoch 100, In-sample Loss: 0.0011, In-sample Accuracy: 0.2500\n",
            "Epoch 100, Out-sample Loss: 0.0032, Out-sample Accuracy: 0.0000\n"
          ]
        },
        {
          "output_type": "stream",
          "name": "stderr",
          "text": [
            " 50%|█████     | 101/200 [04:46<04:54,  2.97s/it]"
          ]
        },
        {
          "output_type": "stream",
          "name": "stdout",
          "text": [
            "Epoch 101, In-sample Loss: 0.0012, In-sample Accuracy: 0.3750\n",
            "Epoch 101, Out-sample Loss: 0.0032, Out-sample Accuracy: 0.0000\n"
          ]
        },
        {
          "output_type": "stream",
          "name": "stderr",
          "text": [
            " 51%|█████     | 102/200 [04:49<05:04,  3.10s/it]"
          ]
        },
        {
          "output_type": "stream",
          "name": "stdout",
          "text": [
            "Epoch 102, In-sample Loss: 0.0011, In-sample Accuracy: 0.3125\n",
            "Epoch 102, Out-sample Loss: 0.0033, Out-sample Accuracy: 0.0000\n"
          ]
        },
        {
          "output_type": "stream",
          "name": "stderr",
          "text": [
            " 52%|█████▏    | 103/200 [04:52<04:39,  2.88s/it]"
          ]
        },
        {
          "output_type": "stream",
          "name": "stdout",
          "text": [
            "Epoch 103, In-sample Loss: 0.0011, In-sample Accuracy: 0.3125\n",
            "Epoch 103, Out-sample Loss: 0.0033, Out-sample Accuracy: 0.0625\n"
          ]
        },
        {
          "output_type": "stream",
          "name": "stderr",
          "text": [
            " 52%|█████▏    | 104/200 [04:54<04:21,  2.73s/it]"
          ]
        },
        {
          "output_type": "stream",
          "name": "stdout",
          "text": [
            "Epoch 104, In-sample Loss: 0.0011, In-sample Accuracy: 0.3125\n",
            "Epoch 104, Out-sample Loss: 0.0034, Out-sample Accuracy: 0.0000\n"
          ]
        },
        {
          "output_type": "stream",
          "name": "stderr",
          "text": [
            " 52%|█████▎    | 105/200 [04:56<04:10,  2.63s/it]"
          ]
        },
        {
          "output_type": "stream",
          "name": "stdout",
          "text": [
            "Epoch 105, In-sample Loss: 0.0012, In-sample Accuracy: 0.1875\n",
            "Epoch 105, Out-sample Loss: 0.0035, Out-sample Accuracy: 0.0625\n"
          ]
        },
        {
          "output_type": "stream",
          "name": "stderr",
          "text": [
            " 53%|█████▎    | 106/200 [04:59<04:02,  2.58s/it]"
          ]
        },
        {
          "output_type": "stream",
          "name": "stdout",
          "text": [
            "Epoch 106, In-sample Loss: 0.0020, In-sample Accuracy: 0.0625\n",
            "Epoch 106, Out-sample Loss: 0.0042, Out-sample Accuracy: 0.0000\n"
          ]
        },
        {
          "output_type": "stream",
          "name": "stderr",
          "text": [
            " 54%|█████▎    | 107/200 [05:03<04:39,  3.00s/it]"
          ]
        },
        {
          "output_type": "stream",
          "name": "stdout",
          "text": [
            "Epoch 107, In-sample Loss: 0.0028, In-sample Accuracy: 0.0625\n",
            "Epoch 107, Out-sample Loss: 0.0050, Out-sample Accuracy: 0.0000\n"
          ]
        },
        {
          "output_type": "stream",
          "name": "stderr",
          "text": [
            " 54%|█████▍    | 108/200 [05:06<04:43,  3.08s/it]"
          ]
        },
        {
          "output_type": "stream",
          "name": "stdout",
          "text": [
            "Epoch 108, In-sample Loss: 0.0049, In-sample Accuracy: 0.0625\n",
            "Epoch 108, Out-sample Loss: 0.0066, Out-sample Accuracy: 0.0000\n"
          ]
        },
        {
          "output_type": "stream",
          "name": "stderr",
          "text": [
            " 55%|█████▍    | 109/200 [05:08<04:20,  2.87s/it]"
          ]
        },
        {
          "output_type": "stream",
          "name": "stdout",
          "text": [
            "Epoch 109, In-sample Loss: 0.0037, In-sample Accuracy: 0.0625\n",
            "Epoch 109, Out-sample Loss: 0.0055, Out-sample Accuracy: 0.0000\n"
          ]
        },
        {
          "output_type": "stream",
          "name": "stderr",
          "text": [
            " 55%|█████▌    | 110/200 [05:11<04:06,  2.74s/it]"
          ]
        },
        {
          "output_type": "stream",
          "name": "stdout",
          "text": [
            "Epoch 110, In-sample Loss: 0.0026, In-sample Accuracy: 0.0625\n",
            "Epoch 110, Out-sample Loss: 0.0045, Out-sample Accuracy: 0.0000\n"
          ]
        },
        {
          "output_type": "stream",
          "name": "stderr",
          "text": [
            " 56%|█████▌    | 111/200 [05:13<03:54,  2.63s/it]"
          ]
        },
        {
          "output_type": "stream",
          "name": "stdout",
          "text": [
            "Epoch 111, In-sample Loss: 0.0027, In-sample Accuracy: 0.1250\n",
            "Epoch 111, Out-sample Loss: 0.0044, Out-sample Accuracy: 0.0000\n"
          ]
        },
        {
          "output_type": "stream",
          "name": "stderr",
          "text": [
            " 56%|█████▌    | 112/200 [05:16<03:52,  2.64s/it]"
          ]
        },
        {
          "output_type": "stream",
          "name": "stdout",
          "text": [
            "Epoch 112, In-sample Loss: 0.0028, In-sample Accuracy: 0.0625\n",
            "Epoch 112, Out-sample Loss: 0.0044, Out-sample Accuracy: 0.0000\n"
          ]
        },
        {
          "output_type": "stream",
          "name": "stderr",
          "text": [
            " 56%|█████▋    | 113/200 [05:20<04:26,  3.07s/it]"
          ]
        },
        {
          "output_type": "stream",
          "name": "stdout",
          "text": [
            "Epoch 113, In-sample Loss: 0.0030, In-sample Accuracy: 0.0625\n",
            "Epoch 113, Out-sample Loss: 0.0044, Out-sample Accuracy: 0.0000\n"
          ]
        },
        {
          "output_type": "stream",
          "name": "stderr",
          "text": [
            " 57%|█████▋    | 114/200 [05:23<04:25,  3.09s/it]"
          ]
        },
        {
          "output_type": "stream",
          "name": "stdout",
          "text": [
            "Epoch 114, In-sample Loss: 0.0030, In-sample Accuracy: 0.1250\n",
            "Epoch 114, Out-sample Loss: 0.0043, Out-sample Accuracy: 0.0625\n"
          ]
        },
        {
          "output_type": "stream",
          "name": "stderr",
          "text": [
            " 57%|█████▊    | 115/200 [05:26<04:05,  2.89s/it]"
          ]
        },
        {
          "output_type": "stream",
          "name": "stdout",
          "text": [
            "Epoch 115, In-sample Loss: 0.0027, In-sample Accuracy: 0.1875\n",
            "Epoch 115, Out-sample Loss: 0.0040, Out-sample Accuracy: 0.0625\n"
          ]
        },
        {
          "output_type": "stream",
          "name": "stderr",
          "text": [
            " 58%|█████▊    | 116/200 [05:28<03:49,  2.74s/it]"
          ]
        },
        {
          "output_type": "stream",
          "name": "stdout",
          "text": [
            "Epoch 116, In-sample Loss: 0.0029, In-sample Accuracy: 0.2500\n",
            "Epoch 116, Out-sample Loss: 0.0040, Out-sample Accuracy: 0.0000\n"
          ]
        },
        {
          "output_type": "stream",
          "name": "stderr",
          "text": [
            " 58%|█████▊    | 117/200 [05:30<03:37,  2.62s/it]"
          ]
        },
        {
          "output_type": "stream",
          "name": "stdout",
          "text": [
            "Epoch 117, In-sample Loss: 0.0026, In-sample Accuracy: 0.2500\n",
            "Epoch 117, Out-sample Loss: 0.0038, Out-sample Accuracy: 0.0625\n"
          ]
        },
        {
          "output_type": "stream",
          "name": "stderr",
          "text": [
            " 59%|█████▉    | 118/200 [05:33<03:40,  2.69s/it]"
          ]
        },
        {
          "output_type": "stream",
          "name": "stdout",
          "text": [
            "Epoch 118, In-sample Loss: 0.0025, In-sample Accuracy: 0.0625\n",
            "Epoch 118, Out-sample Loss: 0.0038, Out-sample Accuracy: 0.1250\n"
          ]
        },
        {
          "output_type": "stream",
          "name": "stderr",
          "text": [
            " 60%|█████▉    | 119/200 [05:37<04:08,  3.07s/it]"
          ]
        },
        {
          "output_type": "stream",
          "name": "stdout",
          "text": [
            "Epoch 119, In-sample Loss: 0.0026, In-sample Accuracy: 0.0625\n",
            "Epoch 119, Out-sample Loss: 0.0038, Out-sample Accuracy: 0.1250\n"
          ]
        },
        {
          "output_type": "stream",
          "name": "stderr",
          "text": [
            " 60%|██████    | 120/200 [05:40<04:03,  3.04s/it]"
          ]
        },
        {
          "output_type": "stream",
          "name": "stdout",
          "text": [
            "Epoch 120, In-sample Loss: 0.0024, In-sample Accuracy: 0.0625\n",
            "Epoch 120, Out-sample Loss: 0.0038, Out-sample Accuracy: 0.0625\n"
          ]
        },
        {
          "output_type": "stream",
          "name": "stderr",
          "text": [
            " 60%|██████    | 121/200 [05:42<03:44,  2.85s/it]"
          ]
        },
        {
          "output_type": "stream",
          "name": "stdout",
          "text": [
            "Epoch 121, In-sample Loss: 0.0025, In-sample Accuracy: 0.0625\n",
            "Epoch 121, Out-sample Loss: 0.0038, Out-sample Accuracy: 0.0625\n"
          ]
        },
        {
          "output_type": "stream",
          "name": "stderr",
          "text": [
            " 61%|██████    | 122/200 [05:45<03:30,  2.70s/it]"
          ]
        },
        {
          "output_type": "stream",
          "name": "stdout",
          "text": [
            "Epoch 122, In-sample Loss: 0.0024, In-sample Accuracy: 0.1875\n",
            "Epoch 122, Out-sample Loss: 0.0037, Out-sample Accuracy: 0.0625\n"
          ]
        },
        {
          "output_type": "stream",
          "name": "stderr",
          "text": [
            " 62%|██████▏   | 123/200 [05:47<03:20,  2.61s/it]"
          ]
        },
        {
          "output_type": "stream",
          "name": "stdout",
          "text": [
            "Epoch 123, In-sample Loss: 0.0024, In-sample Accuracy: 0.1875\n",
            "Epoch 123, Out-sample Loss: 0.0037, Out-sample Accuracy: 0.0625\n"
          ]
        },
        {
          "output_type": "stream",
          "name": "stderr",
          "text": [
            " 62%|██████▏   | 124/200 [05:50<03:25,  2.70s/it]"
          ]
        },
        {
          "output_type": "stream",
          "name": "stdout",
          "text": [
            "Epoch 124, In-sample Loss: 0.0024, In-sample Accuracy: 0.1875\n",
            "Epoch 124, Out-sample Loss: 0.0037, Out-sample Accuracy: 0.0625\n"
          ]
        },
        {
          "output_type": "stream",
          "name": "stderr",
          "text": [
            " 62%|██████▎   | 125/200 [05:54<03:51,  3.08s/it]"
          ]
        },
        {
          "output_type": "stream",
          "name": "stdout",
          "text": [
            "Epoch 125, In-sample Loss: 0.0023, In-sample Accuracy: 0.1875\n",
            "Epoch 125, Out-sample Loss: 0.0037, Out-sample Accuracy: 0.0625\n"
          ]
        },
        {
          "output_type": "stream",
          "name": "stderr",
          "text": [
            " 63%|██████▎   | 126/200 [05:57<03:42,  3.01s/it]"
          ]
        },
        {
          "output_type": "stream",
          "name": "stdout",
          "text": [
            "Epoch 126, In-sample Loss: 0.0022, In-sample Accuracy: 0.1875\n",
            "Epoch 126, Out-sample Loss: 0.0037, Out-sample Accuracy: 0.0625\n"
          ]
        },
        {
          "output_type": "stream",
          "name": "stderr",
          "text": [
            " 64%|██████▎   | 127/200 [05:59<03:26,  2.83s/it]"
          ]
        },
        {
          "output_type": "stream",
          "name": "stdout",
          "text": [
            "Epoch 127, In-sample Loss: 0.0023, In-sample Accuracy: 0.1875\n",
            "Epoch 127, Out-sample Loss: 0.0037, Out-sample Accuracy: 0.0625\n"
          ]
        },
        {
          "output_type": "stream",
          "name": "stderr",
          "text": [
            " 64%|██████▍   | 128/200 [06:02<03:14,  2.70s/it]"
          ]
        },
        {
          "output_type": "stream",
          "name": "stdout",
          "text": [
            "Epoch 128, In-sample Loss: 0.0022, In-sample Accuracy: 0.2500\n",
            "Epoch 128, Out-sample Loss: 0.0037, Out-sample Accuracy: 0.0625\n"
          ]
        },
        {
          "output_type": "stream",
          "name": "stderr",
          "text": [
            " 64%|██████▍   | 129/200 [06:04<03:05,  2.61s/it]"
          ]
        },
        {
          "output_type": "stream",
          "name": "stdout",
          "text": [
            "Epoch 129, In-sample Loss: 0.0022, In-sample Accuracy: 0.2500\n",
            "Epoch 129, Out-sample Loss: 0.0037, Out-sample Accuracy: 0.0625\n"
          ]
        },
        {
          "output_type": "stream",
          "name": "stderr",
          "text": [
            " 65%|██████▌   | 130/200 [06:07<03:17,  2.81s/it]"
          ]
        },
        {
          "output_type": "stream",
          "name": "stdout",
          "text": [
            "Epoch 130, In-sample Loss: 0.0021, In-sample Accuracy: 0.1875\n",
            "Epoch 130, Out-sample Loss: 0.0037, Out-sample Accuracy: 0.0625\n"
          ]
        },
        {
          "output_type": "stream",
          "name": "stderr",
          "text": [
            " 66%|██████▌   | 131/200 [06:11<03:38,  3.16s/it]"
          ]
        },
        {
          "output_type": "stream",
          "name": "stdout",
          "text": [
            "Epoch 131, In-sample Loss: 0.0020, In-sample Accuracy: 0.1875\n",
            "Epoch 131, Out-sample Loss: 0.0037, Out-sample Accuracy: 0.0625\n"
          ]
        },
        {
          "output_type": "stream",
          "name": "stderr",
          "text": [
            " 66%|██████▌   | 132/200 [06:14<03:22,  2.98s/it]"
          ]
        },
        {
          "output_type": "stream",
          "name": "stdout",
          "text": [
            "Epoch 132, In-sample Loss: 0.0020, In-sample Accuracy: 0.1875\n",
            "Epoch 132, Out-sample Loss: 0.0037, Out-sample Accuracy: 0.0625\n"
          ]
        },
        {
          "output_type": "stream",
          "name": "stderr",
          "text": [
            " 66%|██████▋   | 133/200 [06:16<03:07,  2.80s/it]"
          ]
        },
        {
          "output_type": "stream",
          "name": "stdout",
          "text": [
            "Epoch 133, In-sample Loss: 0.0019, In-sample Accuracy: 0.1875\n",
            "Epoch 133, Out-sample Loss: 0.0036, Out-sample Accuracy: 0.0625\n"
          ]
        },
        {
          "output_type": "stream",
          "name": "stderr",
          "text": [
            " 67%|██████▋   | 134/200 [06:19<02:56,  2.67s/it]"
          ]
        },
        {
          "output_type": "stream",
          "name": "stdout",
          "text": [
            "Epoch 134, In-sample Loss: 0.0019, In-sample Accuracy: 0.1875\n",
            "Epoch 134, Out-sample Loss: 0.0036, Out-sample Accuracy: 0.0625\n"
          ]
        },
        {
          "output_type": "stream",
          "name": "stderr",
          "text": [
            " 68%|██████▊   | 135/200 [06:21<02:48,  2.59s/it]"
          ]
        },
        {
          "output_type": "stream",
          "name": "stdout",
          "text": [
            "Epoch 135, In-sample Loss: 0.0023, In-sample Accuracy: 0.2500\n",
            "Epoch 135, Out-sample Loss: 0.0037, Out-sample Accuracy: 0.0625\n"
          ]
        },
        {
          "output_type": "stream",
          "name": "stderr",
          "text": [
            " 68%|██████▊   | 136/200 [06:25<03:01,  2.84s/it]"
          ]
        },
        {
          "output_type": "stream",
          "name": "stdout",
          "text": [
            "Epoch 136, In-sample Loss: 0.0020, In-sample Accuracy: 0.2500\n",
            "Epoch 136, Out-sample Loss: 0.0036, Out-sample Accuracy: 0.0625\n"
          ]
        },
        {
          "output_type": "stream",
          "name": "stderr",
          "text": [
            " 68%|██████▊   | 137/200 [06:28<03:19,  3.16s/it]"
          ]
        },
        {
          "output_type": "stream",
          "name": "stdout",
          "text": [
            "Epoch 137, In-sample Loss: 0.0018, In-sample Accuracy: 0.2500\n",
            "Epoch 137, Out-sample Loss: 0.0034, Out-sample Accuracy: 0.0625\n"
          ]
        },
        {
          "output_type": "stream",
          "name": "stderr",
          "text": [
            " 69%|██████▉   | 138/200 [06:31<03:01,  2.93s/it]"
          ]
        },
        {
          "output_type": "stream",
          "name": "stdout",
          "text": [
            "Epoch 138, In-sample Loss: 0.0017, In-sample Accuracy: 0.2500\n",
            "Epoch 138, Out-sample Loss: 0.0034, Out-sample Accuracy: 0.0625\n"
          ]
        },
        {
          "output_type": "stream",
          "name": "stderr",
          "text": [
            " 70%|██████▉   | 139/200 [06:33<02:48,  2.77s/it]"
          ]
        },
        {
          "output_type": "stream",
          "name": "stdout",
          "text": [
            "Epoch 139, In-sample Loss: 0.0017, In-sample Accuracy: 0.2500\n",
            "Epoch 139, Out-sample Loss: 0.0034, Out-sample Accuracy: 0.0625\n"
          ]
        },
        {
          "output_type": "stream",
          "name": "stderr",
          "text": [
            " 70%|███████   | 140/200 [06:36<02:39,  2.66s/it]"
          ]
        },
        {
          "output_type": "stream",
          "name": "stdout",
          "text": [
            "Epoch 140, In-sample Loss: 0.0018, In-sample Accuracy: 0.2500\n",
            "Epoch 140, Out-sample Loss: 0.0034, Out-sample Accuracy: 0.0625\n"
          ]
        },
        {
          "output_type": "stream",
          "name": "stderr",
          "text": [
            " 70%|███████   | 141/200 [06:38<02:31,  2.58s/it]"
          ]
        },
        {
          "output_type": "stream",
          "name": "stdout",
          "text": [
            "Epoch 141, In-sample Loss: 0.0021, In-sample Accuracy: 0.2500\n",
            "Epoch 141, Out-sample Loss: 0.0035, Out-sample Accuracy: 0.0625\n"
          ]
        },
        {
          "output_type": "stream",
          "name": "stderr",
          "text": [
            " 71%|███████   | 142/200 [06:42<02:51,  2.95s/it]"
          ]
        },
        {
          "output_type": "stream",
          "name": "stdout",
          "text": [
            "Epoch 142, In-sample Loss: 0.0017, In-sample Accuracy: 0.2500\n",
            "Epoch 142, Out-sample Loss: 0.0034, Out-sample Accuracy: 0.0625\n"
          ]
        },
        {
          "output_type": "stream",
          "name": "stderr",
          "text": [
            " 72%|███████▏  | 143/200 [06:45<02:59,  3.14s/it]"
          ]
        },
        {
          "output_type": "stream",
          "name": "stdout",
          "text": [
            "Epoch 143, In-sample Loss: 0.0017, In-sample Accuracy: 0.2500\n",
            "Epoch 143, Out-sample Loss: 0.0035, Out-sample Accuracy: 0.0625\n"
          ]
        },
        {
          "output_type": "stream",
          "name": "stderr",
          "text": [
            " 72%|███████▏  | 144/200 [06:48<02:43,  2.92s/it]"
          ]
        },
        {
          "output_type": "stream",
          "name": "stdout",
          "text": [
            "Epoch 144, In-sample Loss: 0.0018, In-sample Accuracy: 0.2500\n",
            "Epoch 144, Out-sample Loss: 0.0035, Out-sample Accuracy: 0.0625\n"
          ]
        },
        {
          "output_type": "stream",
          "name": "stderr",
          "text": [
            " 72%|███████▎  | 145/200 [06:50<02:32,  2.77s/it]"
          ]
        },
        {
          "output_type": "stream",
          "name": "stdout",
          "text": [
            "Epoch 145, In-sample Loss: 0.0017, In-sample Accuracy: 0.2500\n",
            "Epoch 145, Out-sample Loss: 0.0035, Out-sample Accuracy: 0.0625\n"
          ]
        },
        {
          "output_type": "stream",
          "name": "stderr",
          "text": [
            " 73%|███████▎  | 146/200 [06:53<02:23,  2.66s/it]"
          ]
        },
        {
          "output_type": "stream",
          "name": "stdout",
          "text": [
            "Epoch 146, In-sample Loss: 0.0018, In-sample Accuracy: 0.2500\n",
            "Epoch 146, Out-sample Loss: 0.0034, Out-sample Accuracy: 0.0625\n"
          ]
        },
        {
          "output_type": "stream",
          "name": "stderr",
          "text": [
            " 74%|███████▎  | 147/200 [06:55<02:18,  2.61s/it]"
          ]
        },
        {
          "output_type": "stream",
          "name": "stdout",
          "text": [
            "Epoch 147, In-sample Loss: 0.0018, In-sample Accuracy: 0.2500\n",
            "Epoch 147, Out-sample Loss: 0.0034, Out-sample Accuracy: 0.0625\n"
          ]
        },
        {
          "output_type": "stream",
          "name": "stderr",
          "text": [
            " 74%|███████▍  | 148/200 [06:59<02:37,  3.02s/it]"
          ]
        },
        {
          "output_type": "stream",
          "name": "stdout",
          "text": [
            "Epoch 148, In-sample Loss: 0.0018, In-sample Accuracy: 0.2500\n",
            "Epoch 148, Out-sample Loss: 0.0035, Out-sample Accuracy: 0.0625\n"
          ]
        },
        {
          "output_type": "stream",
          "name": "stderr",
          "text": [
            " 74%|███████▍  | 149/200 [07:02<02:38,  3.10s/it]"
          ]
        },
        {
          "output_type": "stream",
          "name": "stdout",
          "text": [
            "Epoch 149, In-sample Loss: 0.0017, In-sample Accuracy: 0.2500\n",
            "Epoch 149, Out-sample Loss: 0.0035, Out-sample Accuracy: 0.0625\n"
          ]
        },
        {
          "output_type": "stream",
          "name": "stderr",
          "text": [
            " 75%|███████▌  | 150/200 [07:05<02:24,  2.89s/it]"
          ]
        },
        {
          "output_type": "stream",
          "name": "stdout",
          "text": [
            "Epoch 150, In-sample Loss: 0.0016, In-sample Accuracy: 0.2500\n",
            "Epoch 150, Out-sample Loss: 0.0034, Out-sample Accuracy: 0.0625\n"
          ]
        },
        {
          "output_type": "stream",
          "name": "stderr",
          "text": [
            " 76%|███████▌  | 151/200 [07:07<02:14,  2.74s/it]"
          ]
        },
        {
          "output_type": "stream",
          "name": "stdout",
          "text": [
            "Epoch 151, In-sample Loss: 0.0016, In-sample Accuracy: 0.3125\n",
            "Epoch 151, Out-sample Loss: 0.0034, Out-sample Accuracy: 0.0625\n"
          ]
        },
        {
          "output_type": "stream",
          "name": "stderr",
          "text": [
            " 76%|███████▌  | 152/200 [07:10<02:06,  2.64s/it]"
          ]
        },
        {
          "output_type": "stream",
          "name": "stdout",
          "text": [
            "Epoch 152, In-sample Loss: 0.0018, In-sample Accuracy: 0.2500\n",
            "Epoch 152, Out-sample Loss: 0.0035, Out-sample Accuracy: 0.0625\n"
          ]
        },
        {
          "output_type": "stream",
          "name": "stderr",
          "text": [
            " 76%|███████▋  | 153/200 [07:12<02:06,  2.69s/it]"
          ]
        },
        {
          "output_type": "stream",
          "name": "stdout",
          "text": [
            "Epoch 153, In-sample Loss: 0.0019, In-sample Accuracy: 0.3125\n",
            "Epoch 153, Out-sample Loss: 0.0035, Out-sample Accuracy: 0.0625\n"
          ]
        },
        {
          "output_type": "stream",
          "name": "stderr",
          "text": [
            " 77%|███████▋  | 154/200 [07:16<02:22,  3.09s/it]"
          ]
        },
        {
          "output_type": "stream",
          "name": "stdout",
          "text": [
            "Epoch 154, In-sample Loss: 0.0017, In-sample Accuracy: 0.2500\n",
            "Epoch 154, Out-sample Loss: 0.0035, Out-sample Accuracy: 0.0625\n"
          ]
        },
        {
          "output_type": "stream",
          "name": "stderr",
          "text": [
            " 78%|███████▊  | 155/200 [07:19<02:16,  3.04s/it]"
          ]
        },
        {
          "output_type": "stream",
          "name": "stdout",
          "text": [
            "Epoch 155, In-sample Loss: 0.0017, In-sample Accuracy: 0.2500\n",
            "Epoch 155, Out-sample Loss: 0.0034, Out-sample Accuracy: 0.0625\n"
          ]
        },
        {
          "output_type": "stream",
          "name": "stderr",
          "text": [
            " 78%|███████▊  | 156/200 [07:22<02:05,  2.86s/it]"
          ]
        },
        {
          "output_type": "stream",
          "name": "stdout",
          "text": [
            "Epoch 156, In-sample Loss: 0.0017, In-sample Accuracy: 0.3125\n",
            "Epoch 156, Out-sample Loss: 0.0035, Out-sample Accuracy: 0.0625\n"
          ]
        },
        {
          "output_type": "stream",
          "name": "stderr",
          "text": [
            " 78%|███████▊  | 157/200 [07:24<01:56,  2.72s/it]"
          ]
        },
        {
          "output_type": "stream",
          "name": "stdout",
          "text": [
            "Epoch 157, In-sample Loss: 0.0017, In-sample Accuracy: 0.3125\n",
            "Epoch 157, Out-sample Loss: 0.0034, Out-sample Accuracy: 0.0625\n"
          ]
        },
        {
          "output_type": "stream",
          "name": "stderr",
          "text": [
            " 79%|███████▉  | 158/200 [07:27<01:50,  2.63s/it]"
          ]
        },
        {
          "output_type": "stream",
          "name": "stdout",
          "text": [
            "Epoch 158, In-sample Loss: 0.0016, In-sample Accuracy: 0.3750\n",
            "Epoch 158, Out-sample Loss: 0.0034, Out-sample Accuracy: 0.0625\n"
          ]
        },
        {
          "output_type": "stream",
          "name": "stderr",
          "text": [
            " 80%|███████▉  | 159/200 [07:30<01:55,  2.82s/it]"
          ]
        },
        {
          "output_type": "stream",
          "name": "stdout",
          "text": [
            "Epoch 159, In-sample Loss: 0.0015, In-sample Accuracy: 0.3750\n",
            "Epoch 159, Out-sample Loss: 0.0034, Out-sample Accuracy: 0.0625\n"
          ]
        },
        {
          "output_type": "stream",
          "name": "stderr",
          "text": [
            " 80%|████████  | 160/200 [07:34<02:05,  3.15s/it]"
          ]
        },
        {
          "output_type": "stream",
          "name": "stdout",
          "text": [
            "Epoch 160, In-sample Loss: 0.0015, In-sample Accuracy: 0.3125\n",
            "Epoch 160, Out-sample Loss: 0.0034, Out-sample Accuracy: 0.0625\n"
          ]
        },
        {
          "output_type": "stream",
          "name": "stderr",
          "text": [
            " 80%|████████  | 161/200 [07:36<01:56,  2.99s/it]"
          ]
        },
        {
          "output_type": "stream",
          "name": "stdout",
          "text": [
            "Epoch 161, In-sample Loss: 0.0016, In-sample Accuracy: 0.3125\n",
            "Epoch 161, Out-sample Loss: 0.0035, Out-sample Accuracy: 0.0625\n"
          ]
        },
        {
          "output_type": "stream",
          "name": "stderr",
          "text": [
            " 81%|████████  | 162/200 [07:39<01:46,  2.81s/it]"
          ]
        },
        {
          "output_type": "stream",
          "name": "stdout",
          "text": [
            "Epoch 162, In-sample Loss: 0.0016, In-sample Accuracy: 0.3125\n",
            "Epoch 162, Out-sample Loss: 0.0034, Out-sample Accuracy: 0.0625\n"
          ]
        },
        {
          "output_type": "stream",
          "name": "stderr",
          "text": [
            " 82%|████████▏ | 163/200 [07:41<01:40,  2.72s/it]"
          ]
        },
        {
          "output_type": "stream",
          "name": "stdout",
          "text": [
            "Epoch 163, In-sample Loss: 0.0015, In-sample Accuracy: 0.1875\n",
            "Epoch 163, Out-sample Loss: 0.0034, Out-sample Accuracy: 0.0625\n"
          ]
        },
        {
          "output_type": "stream",
          "name": "stderr",
          "text": [
            " 82%|████████▏ | 164/200 [07:44<01:34,  2.63s/it]"
          ]
        },
        {
          "output_type": "stream",
          "name": "stdout",
          "text": [
            "Epoch 164, In-sample Loss: 0.0015, In-sample Accuracy: 0.2500\n",
            "Epoch 164, Out-sample Loss: 0.0034, Out-sample Accuracy: 0.0625\n"
          ]
        },
        {
          "output_type": "stream",
          "name": "stderr",
          "text": [
            " 82%|████████▎ | 165/200 [07:47<01:40,  2.88s/it]"
          ]
        },
        {
          "output_type": "stream",
          "name": "stdout",
          "text": [
            "Epoch 165, In-sample Loss: 0.0015, In-sample Accuracy: 0.3125\n",
            "Epoch 165, Out-sample Loss: 0.0034, Out-sample Accuracy: 0.0625\n"
          ]
        },
        {
          "output_type": "stream",
          "name": "stderr",
          "text": [
            " 83%|████████▎ | 166/200 [07:51<01:48,  3.18s/it]"
          ]
        },
        {
          "output_type": "stream",
          "name": "stdout",
          "text": [
            "Epoch 166, In-sample Loss: 0.0015, In-sample Accuracy: 0.3125\n",
            "Epoch 166, Out-sample Loss: 0.0034, Out-sample Accuracy: 0.0625\n"
          ]
        },
        {
          "output_type": "stream",
          "name": "stderr",
          "text": [
            " 84%|████████▎ | 167/200 [07:54<01:38,  2.97s/it]"
          ]
        },
        {
          "output_type": "stream",
          "name": "stdout",
          "text": [
            "Epoch 167, In-sample Loss: 0.0015, In-sample Accuracy: 0.2500\n",
            "Epoch 167, Out-sample Loss: 0.0034, Out-sample Accuracy: 0.0625\n"
          ]
        },
        {
          "output_type": "stream",
          "name": "stderr",
          "text": [
            " 84%|████████▍ | 168/200 [07:56<01:29,  2.80s/it]"
          ]
        },
        {
          "output_type": "stream",
          "name": "stdout",
          "text": [
            "Epoch 168, In-sample Loss: 0.0015, In-sample Accuracy: 0.2500\n",
            "Epoch 168, Out-sample Loss: 0.0034, Out-sample Accuracy: 0.0625\n"
          ]
        },
        {
          "output_type": "stream",
          "name": "stderr",
          "text": [
            " 84%|████████▍ | 169/200 [07:58<01:23,  2.70s/it]"
          ]
        },
        {
          "output_type": "stream",
          "name": "stdout",
          "text": [
            "Epoch 169, In-sample Loss: 0.0015, In-sample Accuracy: 0.2500\n",
            "Epoch 169, Out-sample Loss: 0.0034, Out-sample Accuracy: 0.0625\n"
          ]
        },
        {
          "output_type": "stream",
          "name": "stderr",
          "text": [
            " 85%|████████▌ | 170/200 [08:01<01:18,  2.62s/it]"
          ]
        },
        {
          "output_type": "stream",
          "name": "stdout",
          "text": [
            "Epoch 170, In-sample Loss: 0.0016, In-sample Accuracy: 0.3125\n",
            "Epoch 170, Out-sample Loss: 0.0035, Out-sample Accuracy: 0.0625\n"
          ]
        },
        {
          "output_type": "stream",
          "name": "stderr",
          "text": [
            " 86%|████████▌ | 171/200 [08:05<01:25,  2.93s/it]"
          ]
        },
        {
          "output_type": "stream",
          "name": "stdout",
          "text": [
            "Epoch 171, In-sample Loss: 0.0017, In-sample Accuracy: 0.3125\n",
            "Epoch 171, Out-sample Loss: 0.0035, Out-sample Accuracy: 0.0625\n"
          ]
        },
        {
          "output_type": "stream",
          "name": "stderr",
          "text": [
            " 86%|████████▌ | 172/200 [08:08<01:28,  3.15s/it]"
          ]
        },
        {
          "output_type": "stream",
          "name": "stdout",
          "text": [
            "Epoch 172, In-sample Loss: 0.0016, In-sample Accuracy: 0.3125\n",
            "Epoch 172, Out-sample Loss: 0.0034, Out-sample Accuracy: 0.0625\n"
          ]
        },
        {
          "output_type": "stream",
          "name": "stderr",
          "text": [
            " 86%|████████▋ | 173/200 [08:11<01:18,  2.92s/it]"
          ]
        },
        {
          "output_type": "stream",
          "name": "stdout",
          "text": [
            "Epoch 173, In-sample Loss: 0.0015, In-sample Accuracy: 0.2500\n",
            "Epoch 173, Out-sample Loss: 0.0034, Out-sample Accuracy: 0.0625\n"
          ]
        },
        {
          "output_type": "stream",
          "name": "stderr",
          "text": [
            " 87%|████████▋ | 174/200 [08:13<01:12,  2.79s/it]"
          ]
        },
        {
          "output_type": "stream",
          "name": "stdout",
          "text": [
            "Epoch 174, In-sample Loss: 0.0016, In-sample Accuracy: 0.3125\n",
            "Epoch 174, Out-sample Loss: 0.0035, Out-sample Accuracy: 0.0625\n"
          ]
        },
        {
          "output_type": "stream",
          "name": "stderr",
          "text": [
            " 88%|████████▊ | 175/200 [08:15<01:06,  2.67s/it]"
          ]
        },
        {
          "output_type": "stream",
          "name": "stdout",
          "text": [
            "Epoch 175, In-sample Loss: 0.0015, In-sample Accuracy: 0.3750\n",
            "Epoch 175, Out-sample Loss: 0.0035, Out-sample Accuracy: 0.0625\n"
          ]
        },
        {
          "output_type": "stream",
          "name": "stderr",
          "text": [
            " 88%|████████▊ | 176/200 [08:18<01:02,  2.60s/it]"
          ]
        },
        {
          "output_type": "stream",
          "name": "stdout",
          "text": [
            "Epoch 176, In-sample Loss: 0.0014, In-sample Accuracy: 0.3125\n",
            "Epoch 176, Out-sample Loss: 0.0035, Out-sample Accuracy: 0.0625\n"
          ]
        },
        {
          "output_type": "stream",
          "name": "stderr",
          "text": [
            " 88%|████████▊ | 177/200 [08:22<01:09,  3.03s/it]"
          ]
        },
        {
          "output_type": "stream",
          "name": "stdout",
          "text": [
            "Epoch 177, In-sample Loss: 0.0013, In-sample Accuracy: 0.3125\n",
            "Epoch 177, Out-sample Loss: 0.0035, Out-sample Accuracy: 0.0625\n"
          ]
        },
        {
          "output_type": "stream",
          "name": "stderr",
          "text": [
            " 89%|████████▉ | 178/200 [08:25<01:07,  3.09s/it]"
          ]
        },
        {
          "output_type": "stream",
          "name": "stdout",
          "text": [
            "Epoch 178, In-sample Loss: 0.0014, In-sample Accuracy: 0.3750\n",
            "Epoch 178, Out-sample Loss: 0.0035, Out-sample Accuracy: 0.0625\n"
          ]
        },
        {
          "output_type": "stream",
          "name": "stderr",
          "text": [
            " 90%|████████▉ | 179/200 [08:28<01:00,  2.90s/it]"
          ]
        },
        {
          "output_type": "stream",
          "name": "stdout",
          "text": [
            "Epoch 179, In-sample Loss: 0.0015, In-sample Accuracy: 0.3750\n",
            "Epoch 179, Out-sample Loss: 0.0035, Out-sample Accuracy: 0.0625\n"
          ]
        },
        {
          "output_type": "stream",
          "name": "stderr",
          "text": [
            " 90%|█████████ | 180/200 [08:30<00:54,  2.73s/it]"
          ]
        },
        {
          "output_type": "stream",
          "name": "stdout",
          "text": [
            "Epoch 180, In-sample Loss: 0.0014, In-sample Accuracy: 0.3125\n",
            "Epoch 180, Out-sample Loss: 0.0035, Out-sample Accuracy: 0.0625\n"
          ]
        },
        {
          "output_type": "stream",
          "name": "stderr",
          "text": [
            " 90%|█████████ | 181/200 [08:32<00:49,  2.63s/it]"
          ]
        },
        {
          "output_type": "stream",
          "name": "stdout",
          "text": [
            "Epoch 181, In-sample Loss: 0.0014, In-sample Accuracy: 0.3125\n",
            "Epoch 181, Out-sample Loss: 0.0034, Out-sample Accuracy: 0.0625\n"
          ]
        },
        {
          "output_type": "stream",
          "name": "stderr",
          "text": [
            " 91%|█████████ | 182/200 [08:35<00:48,  2.67s/it]"
          ]
        },
        {
          "output_type": "stream",
          "name": "stdout",
          "text": [
            "Epoch 182, In-sample Loss: 0.0014, In-sample Accuracy: 0.3125\n",
            "Epoch 182, Out-sample Loss: 0.0035, Out-sample Accuracy: 0.0625\n"
          ]
        },
        {
          "output_type": "stream",
          "name": "stderr",
          "text": [
            " 92%|█████████▏| 183/200 [08:39<00:52,  3.08s/it]"
          ]
        },
        {
          "output_type": "stream",
          "name": "stdout",
          "text": [
            "Epoch 183, In-sample Loss: 0.0014, In-sample Accuracy: 0.3125\n",
            "Epoch 183, Out-sample Loss: 0.0035, Out-sample Accuracy: 0.0625\n"
          ]
        },
        {
          "output_type": "stream",
          "name": "stderr",
          "text": [
            " 92%|█████████▏| 184/200 [08:42<00:48,  3.06s/it]"
          ]
        },
        {
          "output_type": "stream",
          "name": "stdout",
          "text": [
            "Epoch 184, In-sample Loss: 0.0014, In-sample Accuracy: 0.2500\n",
            "Epoch 184, Out-sample Loss: 0.0035, Out-sample Accuracy: 0.0625\n"
          ]
        },
        {
          "output_type": "stream",
          "name": "stderr",
          "text": [
            " 92%|█████████▎| 185/200 [08:45<00:43,  2.88s/it]"
          ]
        },
        {
          "output_type": "stream",
          "name": "stdout",
          "text": [
            "Epoch 185, In-sample Loss: 0.0013, In-sample Accuracy: 0.3750\n",
            "Epoch 185, Out-sample Loss: 0.0035, Out-sample Accuracy: 0.0625\n"
          ]
        },
        {
          "output_type": "stream",
          "name": "stderr",
          "text": [
            " 93%|█████████▎| 186/200 [08:47<00:38,  2.74s/it]"
          ]
        },
        {
          "output_type": "stream",
          "name": "stdout",
          "text": [
            "Epoch 186, In-sample Loss: 0.0012, In-sample Accuracy: 0.3750\n",
            "Epoch 186, Out-sample Loss: 0.0035, Out-sample Accuracy: 0.0625\n"
          ]
        },
        {
          "output_type": "stream",
          "name": "stderr",
          "text": [
            " 94%|█████████▎| 187/200 [08:49<00:34,  2.65s/it]"
          ]
        },
        {
          "output_type": "stream",
          "name": "stdout",
          "text": [
            "Epoch 187, In-sample Loss: 0.0013, In-sample Accuracy: 0.3125\n",
            "Epoch 187, Out-sample Loss: 0.0035, Out-sample Accuracy: 0.0625\n"
          ]
        },
        {
          "output_type": "stream",
          "name": "stderr",
          "text": [
            " 94%|█████████▍| 188/200 [08:53<00:33,  2.80s/it]"
          ]
        },
        {
          "output_type": "stream",
          "name": "stdout",
          "text": [
            "Epoch 188, In-sample Loss: 0.0013, In-sample Accuracy: 0.3125\n",
            "Epoch 188, Out-sample Loss: 0.0035, Out-sample Accuracy: 0.0625\n"
          ]
        },
        {
          "output_type": "stream",
          "name": "stderr",
          "text": [
            " 94%|█████████▍| 189/200 [08:57<00:34,  3.14s/it]"
          ]
        },
        {
          "output_type": "stream",
          "name": "stdout",
          "text": [
            "Epoch 189, In-sample Loss: 0.0012, In-sample Accuracy: 0.3750\n",
            "Epoch 189, Out-sample Loss: 0.0035, Out-sample Accuracy: 0.0625\n"
          ]
        },
        {
          "output_type": "stream",
          "name": "stderr",
          "text": [
            " 95%|█████████▌| 190/200 [08:59<00:30,  3.00s/it]"
          ]
        },
        {
          "output_type": "stream",
          "name": "stdout",
          "text": [
            "Epoch 190, In-sample Loss: 0.0012, In-sample Accuracy: 0.3750\n",
            "Epoch 190, Out-sample Loss: 0.0035, Out-sample Accuracy: 0.0625\n"
          ]
        },
        {
          "output_type": "stream",
          "name": "stderr",
          "text": [
            " 96%|█████████▌| 191/200 [09:02<00:25,  2.83s/it]"
          ]
        },
        {
          "output_type": "stream",
          "name": "stdout",
          "text": [
            "Epoch 191, In-sample Loss: 0.0015, In-sample Accuracy: 0.3750\n",
            "Epoch 191, Out-sample Loss: 0.0036, Out-sample Accuracy: 0.0625\n"
          ]
        },
        {
          "output_type": "stream",
          "name": "stderr",
          "text": [
            " 96%|█████████▌| 192/200 [09:04<00:21,  2.70s/it]"
          ]
        },
        {
          "output_type": "stream",
          "name": "stdout",
          "text": [
            "Epoch 192, In-sample Loss: 0.0014, In-sample Accuracy: 0.3750\n",
            "Epoch 192, Out-sample Loss: 0.0035, Out-sample Accuracy: 0.0625\n"
          ]
        },
        {
          "output_type": "stream",
          "name": "stderr",
          "text": [
            " 96%|█████████▋| 193/200 [09:07<00:18,  2.63s/it]"
          ]
        },
        {
          "output_type": "stream",
          "name": "stdout",
          "text": [
            "Epoch 193, In-sample Loss: 0.0013, In-sample Accuracy: 0.2500\n",
            "Epoch 193, Out-sample Loss: 0.0035, Out-sample Accuracy: 0.0625\n"
          ]
        },
        {
          "output_type": "stream",
          "name": "stderr",
          "text": [
            " 97%|█████████▋| 194/200 [09:10<00:17,  2.89s/it]"
          ]
        },
        {
          "output_type": "stream",
          "name": "stdout",
          "text": [
            "Epoch 194, In-sample Loss: 0.0013, In-sample Accuracy: 0.2500\n",
            "Epoch 194, Out-sample Loss: 0.0035, Out-sample Accuracy: 0.0625\n"
          ]
        },
        {
          "output_type": "stream",
          "name": "stderr",
          "text": [
            " 98%|█████████▊| 195/200 [09:14<00:15,  3.18s/it]"
          ]
        },
        {
          "output_type": "stream",
          "name": "stdout",
          "text": [
            "Epoch 195, In-sample Loss: 0.0013, In-sample Accuracy: 0.3125\n",
            "Epoch 195, Out-sample Loss: 0.0035, Out-sample Accuracy: 0.0625\n"
          ]
        },
        {
          "output_type": "stream",
          "name": "stderr",
          "text": [
            " 98%|█████████▊| 196/200 [09:16<00:11,  2.95s/it]"
          ]
        },
        {
          "output_type": "stream",
          "name": "stdout",
          "text": [
            "Epoch 196, In-sample Loss: 0.0013, In-sample Accuracy: 0.3125\n",
            "Epoch 196, Out-sample Loss: 0.0035, Out-sample Accuracy: 0.0625\n"
          ]
        },
        {
          "output_type": "stream",
          "name": "stderr",
          "text": [
            " 98%|█████████▊| 197/200 [09:19<00:08,  2.84s/it]"
          ]
        },
        {
          "output_type": "stream",
          "name": "stdout",
          "text": [
            "Epoch 197, In-sample Loss: 0.0013, In-sample Accuracy: 0.3125\n",
            "Epoch 197, Out-sample Loss: 0.0035, Out-sample Accuracy: 0.0625\n"
          ]
        },
        {
          "output_type": "stream",
          "name": "stderr",
          "text": [
            " 99%|█████████▉| 198/200 [09:21<00:05,  2.70s/it]"
          ]
        },
        {
          "output_type": "stream",
          "name": "stdout",
          "text": [
            "Epoch 198, In-sample Loss: 0.0014, In-sample Accuracy: 0.3750\n",
            "Epoch 198, Out-sample Loss: 0.0036, Out-sample Accuracy: 0.0625\n"
          ]
        },
        {
          "output_type": "stream",
          "name": "stderr",
          "text": [
            "100%|█████████▉| 199/200 [09:24<00:02,  2.62s/it]"
          ]
        },
        {
          "output_type": "stream",
          "name": "stdout",
          "text": [
            "Epoch 199, In-sample Loss: 0.0012, In-sample Accuracy: 0.3125\n",
            "Epoch 199, Out-sample Loss: 0.0036, Out-sample Accuracy: 0.0625\n"
          ]
        },
        {
          "output_type": "stream",
          "name": "stderr",
          "text": [
            "100%|██████████| 200/200 [09:28<00:00,  2.84s/it]\n",
            "Using cache found in /root/.cache/torch/hub/pytorch_vision_v0.10.0\n"
          ]
        },
        {
          "output_type": "stream",
          "name": "stdout",
          "text": [
            "Epoch 200, In-sample Loss: 0.0012, In-sample Accuracy: 0.2500\n",
            "Epoch 200, Out-sample Loss: 0.0036, Out-sample Accuracy: 0.0625\n",
            "Full-model for lr_base: 0.0001 and lr_max: 0.1 done (with normalization).\n"
          ]
        },
        {
          "output_type": "stream",
          "name": "stderr",
          "text": [
            "  5%|▌         | 1/20 [00:03<00:59,  3.15s/it]"
          ]
        },
        {
          "output_type": "stream",
          "name": "stdout",
          "text": [
            "Epoch 1, In-sample Loss: 0.0208, In-sample Accuracy: 0.0000\n",
            "Epoch 1, Out-sample Loss: 0.0311, Out-sample Accuracy: 0.0000\n"
          ]
        },
        {
          "output_type": "stream",
          "name": "stderr",
          "text": [
            " 10%|█         | 2/20 [00:05<00:47,  2.63s/it]"
          ]
        },
        {
          "output_type": "stream",
          "name": "stdout",
          "text": [
            "Epoch 2, In-sample Loss: 0.0357, In-sample Accuracy: 0.0000\n",
            "Epoch 2, Out-sample Loss: 0.0472, Out-sample Accuracy: 0.0000\n"
          ]
        },
        {
          "output_type": "stream",
          "name": "stderr",
          "text": [
            " 15%|█▌        | 3/20 [00:07<00:42,  2.48s/it]"
          ]
        },
        {
          "output_type": "stream",
          "name": "stdout",
          "text": [
            "Epoch 3, In-sample Loss: 0.0256, In-sample Accuracy: 0.0000\n",
            "Epoch 3, Out-sample Loss: 0.0405, Out-sample Accuracy: 0.0000\n"
          ]
        },
        {
          "output_type": "stream",
          "name": "stderr",
          "text": [
            " 20%|██        | 4/20 [00:10<00:38,  2.41s/it]"
          ]
        },
        {
          "output_type": "stream",
          "name": "stdout",
          "text": [
            "Epoch 4, In-sample Loss: 0.0183, In-sample Accuracy: 0.0000\n",
            "Epoch 4, Out-sample Loss: 0.0334, Out-sample Accuracy: 0.0000\n"
          ]
        },
        {
          "output_type": "stream",
          "name": "stderr",
          "text": [
            " 25%|██▌       | 5/20 [00:12<00:35,  2.35s/it]"
          ]
        },
        {
          "output_type": "stream",
          "name": "stdout",
          "text": [
            "Epoch 5, In-sample Loss: 0.0226, In-sample Accuracy: 0.0000\n",
            "Epoch 5, Out-sample Loss: 0.0396, Out-sample Accuracy: 0.0000\n"
          ]
        },
        {
          "output_type": "stream",
          "name": "stderr",
          "text": [
            " 30%|███       | 6/20 [00:15<00:39,  2.79s/it]"
          ]
        },
        {
          "output_type": "stream",
          "name": "stdout",
          "text": [
            "Epoch 6, In-sample Loss: 0.0268, In-sample Accuracy: 0.0000\n",
            "Epoch 6, Out-sample Loss: 0.0449, Out-sample Accuracy: 0.0000\n"
          ]
        },
        {
          "output_type": "stream",
          "name": "stderr",
          "text": [
            " 35%|███▌      | 7/20 [00:19<00:39,  3.02s/it]"
          ]
        },
        {
          "output_type": "stream",
          "name": "stdout",
          "text": [
            "Epoch 7, In-sample Loss: 0.0190, In-sample Accuracy: 0.0000\n",
            "Epoch 7, Out-sample Loss: 0.0373, Out-sample Accuracy: 0.0000\n"
          ]
        },
        {
          "output_type": "stream",
          "name": "stderr",
          "text": [
            " 40%|████      | 8/20 [00:21<00:33,  2.77s/it]"
          ]
        },
        {
          "output_type": "stream",
          "name": "stdout",
          "text": [
            "Epoch 8, In-sample Loss: 0.0345, In-sample Accuracy: 0.0000\n",
            "Epoch 8, Out-sample Loss: 0.0529, Out-sample Accuracy: 0.0000\n"
          ]
        },
        {
          "output_type": "stream",
          "name": "stderr",
          "text": [
            " 45%|████▌     | 9/20 [00:23<00:28,  2.62s/it]"
          ]
        },
        {
          "output_type": "stream",
          "name": "stdout",
          "text": [
            "Epoch 9, In-sample Loss: 0.0278, In-sample Accuracy: 0.0000\n",
            "Epoch 9, Out-sample Loss: 0.0461, Out-sample Accuracy: 0.0000\n"
          ]
        },
        {
          "output_type": "stream",
          "name": "stderr",
          "text": [
            " 50%|█████     | 10/20 [00:26<00:25,  2.51s/it]"
          ]
        },
        {
          "output_type": "stream",
          "name": "stdout",
          "text": [
            "Epoch 10, In-sample Loss: 0.0421, In-sample Accuracy: 0.0000\n",
            "Epoch 10, Out-sample Loss: 0.0596, Out-sample Accuracy: 0.0000\n"
          ]
        },
        {
          "output_type": "stream",
          "name": "stderr",
          "text": [
            " 55%|█████▌    | 11/20 [00:28<00:21,  2.43s/it]"
          ]
        },
        {
          "output_type": "stream",
          "name": "stdout",
          "text": [
            "Epoch 11, In-sample Loss: 0.0176, In-sample Accuracy: 0.0000\n",
            "Epoch 11, Out-sample Loss: 0.0349, Out-sample Accuracy: 0.0000\n"
          ]
        },
        {
          "output_type": "stream",
          "name": "stderr",
          "text": [
            " 60%|██████    | 12/20 [00:31<00:21,  2.66s/it]"
          ]
        },
        {
          "output_type": "stream",
          "name": "stdout",
          "text": [
            "Epoch 12, In-sample Loss: 0.0321, In-sample Accuracy: 0.0000\n",
            "Epoch 12, Out-sample Loss: 0.0497, Out-sample Accuracy: 0.0000\n"
          ]
        },
        {
          "output_type": "stream",
          "name": "stderr",
          "text": [
            " 65%|██████▌   | 13/20 [00:35<00:20,  2.98s/it]"
          ]
        },
        {
          "output_type": "stream",
          "name": "stdout",
          "text": [
            "Epoch 13, In-sample Loss: 0.0217, In-sample Accuracy: 0.0000\n",
            "Epoch 13, Out-sample Loss: 0.0390, Out-sample Accuracy: 0.0000\n"
          ]
        },
        {
          "output_type": "stream",
          "name": "stderr",
          "text": [
            " 70%|███████   | 14/20 [00:37<00:17,  2.84s/it]"
          ]
        },
        {
          "output_type": "stream",
          "name": "stdout",
          "text": [
            "Epoch 14, In-sample Loss: 0.0131, In-sample Accuracy: 0.0000\n",
            "Epoch 14, Out-sample Loss: 0.0295, Out-sample Accuracy: 0.0000\n"
          ]
        },
        {
          "output_type": "stream",
          "name": "stderr",
          "text": [
            " 75%|███████▌  | 15/20 [00:40<00:13,  2.68s/it]"
          ]
        },
        {
          "output_type": "stream",
          "name": "stdout",
          "text": [
            "Epoch 15, In-sample Loss: 0.0144, In-sample Accuracy: 0.0000\n",
            "Epoch 15, Out-sample Loss: 0.0308, Out-sample Accuracy: 0.0000\n"
          ]
        },
        {
          "output_type": "stream",
          "name": "stderr",
          "text": [
            " 80%|████████  | 16/20 [00:42<00:10,  2.56s/it]"
          ]
        },
        {
          "output_type": "stream",
          "name": "stdout",
          "text": [
            "Epoch 16, In-sample Loss: 0.0095, In-sample Accuracy: 0.0000\n",
            "Epoch 16, Out-sample Loss: 0.0249, Out-sample Accuracy: 0.0000\n"
          ]
        },
        {
          "output_type": "stream",
          "name": "stderr",
          "text": [
            " 85%|████████▌ | 17/20 [00:44<00:07,  2.47s/it]"
          ]
        },
        {
          "output_type": "stream",
          "name": "stdout",
          "text": [
            "Epoch 17, In-sample Loss: 0.0080, In-sample Accuracy: 0.0000\n",
            "Epoch 17, Out-sample Loss: 0.0227, Out-sample Accuracy: 0.0000\n"
          ]
        },
        {
          "output_type": "stream",
          "name": "stderr",
          "text": [
            " 90%|█████████ | 18/20 [00:47<00:05,  2.55s/it]"
          ]
        },
        {
          "output_type": "stream",
          "name": "stdout",
          "text": [
            "Epoch 18, In-sample Loss: 0.0116, In-sample Accuracy: 0.0000\n",
            "Epoch 18, Out-sample Loss: 0.0264, Out-sample Accuracy: 0.0000\n"
          ]
        },
        {
          "output_type": "stream",
          "name": "stderr",
          "text": [
            " 95%|█████████▌| 19/20 [00:51<00:02,  2.91s/it]"
          ]
        },
        {
          "output_type": "stream",
          "name": "stdout",
          "text": [
            "Epoch 19, In-sample Loss: 0.0219, In-sample Accuracy: 0.0000\n",
            "Epoch 19, Out-sample Loss: 0.0368, Out-sample Accuracy: 0.0000\n"
          ]
        },
        {
          "output_type": "stream",
          "name": "stderr",
          "text": [
            "100%|██████████| 20/20 [00:54<00:00,  2.70s/it]\n"
          ]
        },
        {
          "output_type": "stream",
          "name": "stdout",
          "text": [
            "Epoch 20, In-sample Loss: 0.0079, In-sample Accuracy: 0.0000\n",
            "Epoch 20, Out-sample Loss: 0.0214, Out-sample Accuracy: 0.0000\n",
            "Encoder for lr_base: 0.001 and lr_max: 0.01 done (with normalization).\n",
            "Starting full model training...\n"
          ]
        },
        {
          "output_type": "stream",
          "name": "stderr",
          "text": [
            "  0%|          | 1/200 [00:02<08:03,  2.43s/it]"
          ]
        },
        {
          "output_type": "stream",
          "name": "stdout",
          "text": [
            "Epoch 1, In-sample Loss: 0.0190, In-sample Accuracy: 0.0000\n",
            "Epoch 1, Out-sample Loss: 0.0243, Out-sample Accuracy: 0.0000\n"
          ]
        },
        {
          "output_type": "stream",
          "name": "stderr",
          "text": [
            "  1%|          | 2/200 [00:04<07:58,  2.41s/it]"
          ]
        },
        {
          "output_type": "stream",
          "name": "stdout",
          "text": [
            "Epoch 2, In-sample Loss: 0.0602, In-sample Accuracy: 0.0000\n",
            "Epoch 2, Out-sample Loss: 0.1003, Out-sample Accuracy: 0.0000\n"
          ]
        },
        {
          "output_type": "stream",
          "name": "stderr",
          "text": [
            "  2%|▏         | 3/200 [00:07<08:01,  2.44s/it]"
          ]
        },
        {
          "output_type": "stream",
          "name": "stdout",
          "text": [
            "Epoch 3, In-sample Loss: 0.0195, In-sample Accuracy: 0.0000\n",
            "Epoch 3, Out-sample Loss: 0.0210, Out-sample Accuracy: 0.0000\n"
          ]
        },
        {
          "output_type": "stream",
          "name": "stderr",
          "text": [
            "  2%|▏         | 4/200 [00:10<08:49,  2.70s/it]"
          ]
        },
        {
          "output_type": "stream",
          "name": "stdout",
          "text": [
            "Epoch 4, In-sample Loss: 0.0361, In-sample Accuracy: 0.0000\n",
            "Epoch 4, Out-sample Loss: 0.0404, Out-sample Accuracy: 0.0000\n"
          ]
        },
        {
          "output_type": "stream",
          "name": "stderr",
          "text": [
            "  2%|▎         | 5/200 [00:14<10:21,  3.19s/it]"
          ]
        },
        {
          "output_type": "stream",
          "name": "stdout",
          "text": [
            "Epoch 5, In-sample Loss: 0.0076, In-sample Accuracy: 0.0000\n",
            "Epoch 5, Out-sample Loss: 0.0080, Out-sample Accuracy: 0.0000\n"
          ]
        },
        {
          "output_type": "stream",
          "name": "stderr",
          "text": [
            "  3%|▎         | 6/200 [00:17<09:49,  3.04s/it]"
          ]
        },
        {
          "output_type": "stream",
          "name": "stdout",
          "text": [
            "Epoch 6, In-sample Loss: 0.0093, In-sample Accuracy: 0.0000\n",
            "Epoch 6, Out-sample Loss: 0.0129, Out-sample Accuracy: 0.0000\n"
          ]
        },
        {
          "output_type": "stream",
          "name": "stderr",
          "text": [
            "  4%|▎         | 7/200 [00:19<09:07,  2.84s/it]"
          ]
        },
        {
          "output_type": "stream",
          "name": "stdout",
          "text": [
            "Epoch 7, In-sample Loss: 0.0036, In-sample Accuracy: 0.0000\n",
            "Epoch 7, Out-sample Loss: 0.0057, Out-sample Accuracy: 0.0000\n"
          ]
        },
        {
          "output_type": "stream",
          "name": "stderr",
          "text": [
            "  4%|▍         | 8/200 [00:22<08:42,  2.72s/it]"
          ]
        },
        {
          "output_type": "stream",
          "name": "stdout",
          "text": [
            "Epoch 8, In-sample Loss: 0.0044, In-sample Accuracy: 0.0000\n",
            "Epoch 8, Out-sample Loss: 0.0070, Out-sample Accuracy: 0.0000\n"
          ]
        },
        {
          "output_type": "stream",
          "name": "stderr",
          "text": [
            "  4%|▍         | 9/200 [00:24<08:21,  2.63s/it]"
          ]
        },
        {
          "output_type": "stream",
          "name": "stdout",
          "text": [
            "Epoch 9, In-sample Loss: 0.0025, In-sample Accuracy: 0.0000\n",
            "Epoch 9, Out-sample Loss: 0.0050, Out-sample Accuracy: 0.0000\n"
          ]
        },
        {
          "output_type": "stream",
          "name": "stderr",
          "text": [
            "  5%|▌         | 10/200 [00:27<09:08,  2.89s/it]"
          ]
        },
        {
          "output_type": "stream",
          "name": "stdout",
          "text": [
            "Epoch 10, In-sample Loss: 0.0015, In-sample Accuracy: 0.0625\n",
            "Epoch 10, Out-sample Loss: 0.0046, Out-sample Accuracy: 0.0000\n"
          ]
        },
        {
          "output_type": "stream",
          "name": "stderr",
          "text": [
            "  6%|▌         | 11/200 [00:31<10:02,  3.19s/it]"
          ]
        },
        {
          "output_type": "stream",
          "name": "stdout",
          "text": [
            "Epoch 11, In-sample Loss: 0.0015, In-sample Accuracy: 0.0625\n",
            "Epoch 11, Out-sample Loss: 0.0047, Out-sample Accuracy: 0.0000\n"
          ]
        },
        {
          "output_type": "stream",
          "name": "stderr",
          "text": [
            "  6%|▌         | 12/200 [00:34<09:15,  2.95s/it]"
          ]
        },
        {
          "output_type": "stream",
          "name": "stdout",
          "text": [
            "Epoch 12, In-sample Loss: 0.0013, In-sample Accuracy: 0.0625\n",
            "Epoch 12, Out-sample Loss: 0.0044, Out-sample Accuracy: 0.0000\n"
          ]
        },
        {
          "output_type": "stream",
          "name": "stderr",
          "text": [
            "  6%|▋         | 13/200 [00:36<08:42,  2.79s/it]"
          ]
        },
        {
          "output_type": "stream",
          "name": "stdout",
          "text": [
            "Epoch 13, In-sample Loss: 0.0026, In-sample Accuracy: 0.0000\n",
            "Epoch 13, Out-sample Loss: 0.0056, Out-sample Accuracy: 0.0000\n"
          ]
        },
        {
          "output_type": "stream",
          "name": "stderr",
          "text": [
            "  7%|▋         | 14/200 [00:39<08:23,  2.71s/it]"
          ]
        },
        {
          "output_type": "stream",
          "name": "stdout",
          "text": [
            "Epoch 14, In-sample Loss: 0.0031, In-sample Accuracy: 0.0000\n",
            "Epoch 14, Out-sample Loss: 0.0062, Out-sample Accuracy: 0.0000\n"
          ]
        },
        {
          "output_type": "stream",
          "name": "stderr",
          "text": [
            "  8%|▊         | 15/200 [00:41<08:03,  2.61s/it]"
          ]
        },
        {
          "output_type": "stream",
          "name": "stdout",
          "text": [
            "Epoch 15, In-sample Loss: 0.0024, In-sample Accuracy: 0.0000\n",
            "Epoch 15, Out-sample Loss: 0.0057, Out-sample Accuracy: 0.0000\n"
          ]
        },
        {
          "output_type": "stream",
          "name": "stderr",
          "text": [
            "  8%|▊         | 16/200 [00:45<09:20,  3.05s/it]"
          ]
        },
        {
          "output_type": "stream",
          "name": "stdout",
          "text": [
            "Epoch 16, In-sample Loss: 0.0033, In-sample Accuracy: 0.0000\n",
            "Epoch 16, Out-sample Loss: 0.0066, Out-sample Accuracy: 0.0000\n"
          ]
        },
        {
          "output_type": "stream",
          "name": "stderr",
          "text": [
            "  8%|▊         | 17/200 [00:48<09:30,  3.12s/it]"
          ]
        },
        {
          "output_type": "stream",
          "name": "stdout",
          "text": [
            "Epoch 17, In-sample Loss: 0.0017, In-sample Accuracy: 0.0000\n",
            "Epoch 17, Out-sample Loss: 0.0050, Out-sample Accuracy: 0.0000\n"
          ]
        },
        {
          "output_type": "stream",
          "name": "stderr",
          "text": [
            "  9%|▉         | 18/200 [00:51<08:53,  2.93s/it]"
          ]
        },
        {
          "output_type": "stream",
          "name": "stdout",
          "text": [
            "Epoch 18, In-sample Loss: 0.0013, In-sample Accuracy: 0.0000\n",
            "Epoch 18, Out-sample Loss: 0.0047, Out-sample Accuracy: 0.0000\n"
          ]
        },
        {
          "output_type": "stream",
          "name": "stderr",
          "text": [
            " 10%|▉         | 19/200 [00:53<08:24,  2.79s/it]"
          ]
        },
        {
          "output_type": "stream",
          "name": "stdout",
          "text": [
            "Epoch 19, In-sample Loss: 0.0012, In-sample Accuracy: 0.0000\n",
            "Epoch 19, Out-sample Loss: 0.0046, Out-sample Accuracy: 0.0000\n"
          ]
        },
        {
          "output_type": "stream",
          "name": "stderr",
          "text": [
            " 10%|█         | 20/200 [00:56<08:02,  2.68s/it]"
          ]
        },
        {
          "output_type": "stream",
          "name": "stdout",
          "text": [
            "Epoch 20, In-sample Loss: 0.0010, In-sample Accuracy: 0.0000\n",
            "Epoch 20, Out-sample Loss: 0.0043, Out-sample Accuracy: 0.0000\n"
          ]
        },
        {
          "output_type": "stream",
          "name": "stderr",
          "text": [
            " 10%|█         | 21/200 [00:59<08:17,  2.78s/it]"
          ]
        },
        {
          "output_type": "stream",
          "name": "stdout",
          "text": [
            "Epoch 21, In-sample Loss: 0.0007, In-sample Accuracy: 0.1250\n",
            "Epoch 21, Out-sample Loss: 0.0041, Out-sample Accuracy: 0.0000\n"
          ]
        },
        {
          "output_type": "stream",
          "name": "stderr",
          "text": [
            " 11%|█         | 22/200 [01:03<09:23,  3.16s/it]"
          ]
        },
        {
          "output_type": "stream",
          "name": "stdout",
          "text": [
            "Epoch 22, In-sample Loss: 0.0011, In-sample Accuracy: 0.0000\n",
            "Epoch 22, Out-sample Loss: 0.0043, Out-sample Accuracy: 0.0000\n"
          ]
        },
        {
          "output_type": "stream",
          "name": "stderr",
          "text": [
            " 12%|█▏        | 23/200 [01:06<09:00,  3.06s/it]"
          ]
        },
        {
          "output_type": "stream",
          "name": "stdout",
          "text": [
            "Epoch 23, In-sample Loss: 0.0012, In-sample Accuracy: 0.0000\n",
            "Epoch 23, Out-sample Loss: 0.0045, Out-sample Accuracy: 0.0000\n"
          ]
        },
        {
          "output_type": "stream",
          "name": "stderr",
          "text": [
            " 12%|█▏        | 24/200 [01:08<08:26,  2.88s/it]"
          ]
        },
        {
          "output_type": "stream",
          "name": "stdout",
          "text": [
            "Epoch 24, In-sample Loss: 0.0009, In-sample Accuracy: 0.0000\n",
            "Epoch 24, Out-sample Loss: 0.0043, Out-sample Accuracy: 0.0000\n"
          ]
        },
        {
          "output_type": "stream",
          "name": "stderr",
          "text": [
            " 12%|█▎        | 25/200 [01:11<08:00,  2.75s/it]"
          ]
        },
        {
          "output_type": "stream",
          "name": "stdout",
          "text": [
            "Epoch 25, In-sample Loss: 0.0011, In-sample Accuracy: 0.0000\n",
            "Epoch 25, Out-sample Loss: 0.0044, Out-sample Accuracy: 0.0000\n"
          ]
        },
        {
          "output_type": "stream",
          "name": "stderr",
          "text": [
            " 13%|█▎        | 26/200 [01:13<07:41,  2.65s/it]"
          ]
        },
        {
          "output_type": "stream",
          "name": "stdout",
          "text": [
            "Epoch 26, In-sample Loss: 0.0013, In-sample Accuracy: 0.0000\n",
            "Epoch 26, Out-sample Loss: 0.0046, Out-sample Accuracy: 0.0000\n"
          ]
        },
        {
          "output_type": "stream",
          "name": "stderr",
          "text": [
            " 14%|█▎        | 27/200 [01:17<08:25,  2.92s/it]"
          ]
        },
        {
          "output_type": "stream",
          "name": "stdout",
          "text": [
            "Epoch 27, In-sample Loss: 0.0007, In-sample Accuracy: 0.0625\n",
            "Epoch 27, Out-sample Loss: 0.0042, Out-sample Accuracy: 0.0000\n"
          ]
        },
        {
          "output_type": "stream",
          "name": "stderr",
          "text": [
            " 14%|█▍        | 28/200 [01:21<09:16,  3.23s/it]"
          ]
        },
        {
          "output_type": "stream",
          "name": "stdout",
          "text": [
            "Epoch 28, In-sample Loss: 0.0009, In-sample Accuracy: 0.0000\n",
            "Epoch 28, Out-sample Loss: 0.0042, Out-sample Accuracy: 0.0000\n"
          ]
        },
        {
          "output_type": "stream",
          "name": "stderr",
          "text": [
            " 14%|█▍        | 29/200 [01:23<08:32,  3.00s/it]"
          ]
        },
        {
          "output_type": "stream",
          "name": "stdout",
          "text": [
            "Epoch 29, In-sample Loss: 0.0003, In-sample Accuracy: 0.3750\n",
            "Epoch 29, Out-sample Loss: 0.0038, Out-sample Accuracy: 0.0000\n"
          ]
        },
        {
          "output_type": "stream",
          "name": "stderr",
          "text": [
            " 15%|█▌        | 30/200 [01:25<07:59,  2.82s/it]"
          ]
        },
        {
          "output_type": "stream",
          "name": "stdout",
          "text": [
            "Epoch 30, In-sample Loss: 0.0011, In-sample Accuracy: 0.1875\n",
            "Epoch 30, Out-sample Loss: 0.0041, Out-sample Accuracy: 0.0000\n"
          ]
        },
        {
          "output_type": "stream",
          "name": "stderr",
          "text": [
            " 16%|█▌        | 31/200 [01:28<07:36,  2.70s/it]"
          ]
        },
        {
          "output_type": "stream",
          "name": "stdout",
          "text": [
            "Epoch 31, In-sample Loss: 0.0007, In-sample Accuracy: 0.0000\n",
            "Epoch 31, Out-sample Loss: 0.0038, Out-sample Accuracy: 0.0000\n"
          ]
        },
        {
          "output_type": "stream",
          "name": "stderr",
          "text": [
            " 16%|█▌        | 32/200 [01:30<07:20,  2.62s/it]"
          ]
        },
        {
          "output_type": "stream",
          "name": "stdout",
          "text": [
            "Epoch 32, In-sample Loss: 0.0007, In-sample Accuracy: 0.2500\n",
            "Epoch 32, Out-sample Loss: 0.0037, Out-sample Accuracy: 0.0625\n"
          ]
        },
        {
          "output_type": "stream",
          "name": "stderr",
          "text": [
            " 16%|█▋        | 33/200 [01:34<08:28,  3.05s/it]"
          ]
        },
        {
          "output_type": "stream",
          "name": "stdout",
          "text": [
            "Epoch 33, In-sample Loss: 0.0003, In-sample Accuracy: 0.2500\n",
            "Epoch 33, Out-sample Loss: 0.0037, Out-sample Accuracy: 0.0000\n"
          ]
        },
        {
          "output_type": "stream",
          "name": "stderr",
          "text": [
            " 17%|█▋        | 34/200 [01:38<08:41,  3.14s/it]"
          ]
        },
        {
          "output_type": "stream",
          "name": "stdout",
          "text": [
            "Epoch 34, In-sample Loss: 0.0004, In-sample Accuracy: 0.2500\n",
            "Epoch 34, Out-sample Loss: 0.0039, Out-sample Accuracy: 0.0625\n"
          ]
        },
        {
          "output_type": "stream",
          "name": "stderr",
          "text": [
            " 18%|█▊        | 35/200 [01:40<08:06,  2.95s/it]"
          ]
        },
        {
          "output_type": "stream",
          "name": "stdout",
          "text": [
            "Epoch 35, In-sample Loss: 0.0007, In-sample Accuracy: 0.2500\n",
            "Epoch 35, Out-sample Loss: 0.0038, Out-sample Accuracy: 0.0000\n"
          ]
        },
        {
          "output_type": "stream",
          "name": "stderr",
          "text": [
            " 18%|█▊        | 36/200 [01:43<07:37,  2.79s/it]"
          ]
        },
        {
          "output_type": "stream",
          "name": "stdout",
          "text": [
            "Epoch 36, In-sample Loss: 0.0003, In-sample Accuracy: 0.4375\n",
            "Epoch 36, Out-sample Loss: 0.0036, Out-sample Accuracy: 0.0625\n"
          ]
        },
        {
          "output_type": "stream",
          "name": "stderr",
          "text": [
            " 18%|█▊        | 37/200 [01:45<07:20,  2.70s/it]"
          ]
        },
        {
          "output_type": "stream",
          "name": "stdout",
          "text": [
            "Epoch 37, In-sample Loss: 0.0009, In-sample Accuracy: 0.0625\n",
            "Epoch 37, Out-sample Loss: 0.0039, Out-sample Accuracy: 0.0625\n"
          ]
        },
        {
          "output_type": "stream",
          "name": "stderr",
          "text": [
            " 19%|█▉        | 38/200 [01:48<07:29,  2.77s/it]"
          ]
        },
        {
          "output_type": "stream",
          "name": "stdout",
          "text": [
            "Epoch 38, In-sample Loss: 0.0006, In-sample Accuracy: 0.0000\n",
            "Epoch 38, Out-sample Loss: 0.0039, Out-sample Accuracy: 0.0000\n"
          ]
        },
        {
          "output_type": "stream",
          "name": "stderr",
          "text": [
            " 20%|█▉        | 39/200 [01:52<08:31,  3.18s/it]"
          ]
        },
        {
          "output_type": "stream",
          "name": "stdout",
          "text": [
            "Epoch 39, In-sample Loss: 0.0008, In-sample Accuracy: 0.0625\n",
            "Epoch 39, Out-sample Loss: 0.0042, Out-sample Accuracy: 0.0000\n"
          ]
        },
        {
          "output_type": "stream",
          "name": "stderr",
          "text": [
            " 20%|██        | 40/200 [01:55<08:13,  3.09s/it]"
          ]
        },
        {
          "output_type": "stream",
          "name": "stdout",
          "text": [
            "Epoch 40, In-sample Loss: 0.0028, In-sample Accuracy: 0.1250\n",
            "Epoch 40, Out-sample Loss: 0.0060, Out-sample Accuracy: 0.0000\n"
          ]
        },
        {
          "output_type": "stream",
          "name": "stderr",
          "text": [
            " 20%|██        | 41/200 [01:57<07:38,  2.88s/it]"
          ]
        },
        {
          "output_type": "stream",
          "name": "stdout",
          "text": [
            "Epoch 41, In-sample Loss: 0.0005, In-sample Accuracy: 0.2500\n",
            "Epoch 41, Out-sample Loss: 0.0037, Out-sample Accuracy: 0.0625\n"
          ]
        },
        {
          "output_type": "stream",
          "name": "stderr",
          "text": [
            " 21%|██        | 42/200 [02:00<07:12,  2.74s/it]"
          ]
        },
        {
          "output_type": "stream",
          "name": "stdout",
          "text": [
            "Epoch 42, In-sample Loss: 0.0006, In-sample Accuracy: 0.3125\n",
            "Epoch 42, Out-sample Loss: 0.0038, Out-sample Accuracy: 0.0625\n"
          ]
        },
        {
          "output_type": "stream",
          "name": "stderr",
          "text": [
            " 22%|██▏       | 43/200 [02:02<06:53,  2.64s/it]"
          ]
        },
        {
          "output_type": "stream",
          "name": "stdout",
          "text": [
            "Epoch 43, In-sample Loss: 0.0020, In-sample Accuracy: 0.0000\n",
            "Epoch 43, Out-sample Loss: 0.0046, Out-sample Accuracy: 0.0000\n"
          ]
        },
        {
          "output_type": "stream",
          "name": "stderr",
          "text": [
            " 22%|██▏       | 44/200 [02:06<07:26,  2.86s/it]"
          ]
        },
        {
          "output_type": "stream",
          "name": "stdout",
          "text": [
            "Epoch 44, In-sample Loss: 0.0046, In-sample Accuracy: 0.0000\n",
            "Epoch 44, Out-sample Loss: 0.0071, Out-sample Accuracy: 0.0000\n"
          ]
        },
        {
          "output_type": "stream",
          "name": "stderr",
          "text": [
            " 22%|██▎       | 45/200 [02:10<08:18,  3.21s/it]"
          ]
        },
        {
          "output_type": "stream",
          "name": "stdout",
          "text": [
            "Epoch 45, In-sample Loss: 0.0042, In-sample Accuracy: 0.0000\n",
            "Epoch 45, Out-sample Loss: 0.0071, Out-sample Accuracy: 0.0000\n"
          ]
        },
        {
          "output_type": "stream",
          "name": "stderr",
          "text": [
            " 23%|██▎       | 46/200 [02:12<07:40,  2.99s/it]"
          ]
        },
        {
          "output_type": "stream",
          "name": "stdout",
          "text": [
            "Epoch 46, In-sample Loss: 0.0016, In-sample Accuracy: 0.0000\n",
            "Epoch 46, Out-sample Loss: 0.0048, Out-sample Accuracy: 0.0000\n"
          ]
        },
        {
          "output_type": "stream",
          "name": "stderr",
          "text": [
            " 24%|██▎       | 47/200 [02:15<07:12,  2.83s/it]"
          ]
        },
        {
          "output_type": "stream",
          "name": "stdout",
          "text": [
            "Epoch 47, In-sample Loss: 0.0018, In-sample Accuracy: 0.0000\n",
            "Epoch 47, Out-sample Loss: 0.0048, Out-sample Accuracy: 0.0000\n"
          ]
        },
        {
          "output_type": "stream",
          "name": "stderr",
          "text": [
            " 24%|██▍       | 48/200 [02:17<06:51,  2.71s/it]"
          ]
        },
        {
          "output_type": "stream",
          "name": "stdout",
          "text": [
            "Epoch 48, In-sample Loss: 0.0011, In-sample Accuracy: 0.0625\n",
            "Epoch 48, Out-sample Loss: 0.0040, Out-sample Accuracy: 0.0000\n"
          ]
        },
        {
          "output_type": "stream",
          "name": "stderr",
          "text": [
            " 24%|██▍       | 49/200 [02:19<06:36,  2.63s/it]"
          ]
        },
        {
          "output_type": "stream",
          "name": "stdout",
          "text": [
            "Epoch 49, In-sample Loss: 0.0014, In-sample Accuracy: 0.0000\n",
            "Epoch 49, Out-sample Loss: 0.0043, Out-sample Accuracy: 0.0000\n"
          ]
        },
        {
          "output_type": "stream",
          "name": "stderr",
          "text": [
            " 25%|██▌       | 50/200 [02:23<07:27,  2.99s/it]"
          ]
        },
        {
          "output_type": "stream",
          "name": "stdout",
          "text": [
            "Epoch 50, In-sample Loss: 0.0030, In-sample Accuracy: 0.0000\n",
            "Epoch 50, Out-sample Loss: 0.0063, Out-sample Accuracy: 0.0625\n"
          ]
        },
        {
          "output_type": "stream",
          "name": "stderr",
          "text": [
            " 26%|██▌       | 51/200 [02:27<07:53,  3.18s/it]"
          ]
        },
        {
          "output_type": "stream",
          "name": "stdout",
          "text": [
            "Epoch 51, In-sample Loss: 0.0021, In-sample Accuracy: 0.0000\n",
            "Epoch 51, Out-sample Loss: 0.0054, Out-sample Accuracy: 0.0625\n"
          ]
        },
        {
          "output_type": "stream",
          "name": "stderr",
          "text": [
            " 26%|██▌       | 52/200 [02:29<07:17,  2.95s/it]"
          ]
        },
        {
          "output_type": "stream",
          "name": "stdout",
          "text": [
            "Epoch 52, In-sample Loss: 0.0013, In-sample Accuracy: 0.0625\n",
            "Epoch 52, Out-sample Loss: 0.0045, Out-sample Accuracy: 0.0000\n"
          ]
        },
        {
          "output_type": "stream",
          "name": "stderr",
          "text": [
            " 26%|██▋       | 53/200 [02:32<06:51,  2.80s/it]"
          ]
        },
        {
          "output_type": "stream",
          "name": "stdout",
          "text": [
            "Epoch 53, In-sample Loss: 0.0015, In-sample Accuracy: 0.1250\n",
            "Epoch 53, Out-sample Loss: 0.0045, Out-sample Accuracy: 0.0625\n"
          ]
        },
        {
          "output_type": "stream",
          "name": "stderr",
          "text": [
            " 27%|██▋       | 54/200 [02:34<06:32,  2.69s/it]"
          ]
        },
        {
          "output_type": "stream",
          "name": "stdout",
          "text": [
            "Epoch 54, In-sample Loss: 0.0014, In-sample Accuracy: 0.1250\n",
            "Epoch 54, Out-sample Loss: 0.0045, Out-sample Accuracy: 0.0625\n"
          ]
        },
        {
          "output_type": "stream",
          "name": "stderr",
          "text": [
            " 28%|██▊       | 55/200 [02:37<06:22,  2.64s/it]"
          ]
        },
        {
          "output_type": "stream",
          "name": "stdout",
          "text": [
            "Epoch 55, In-sample Loss: 0.0006, In-sample Accuracy: 0.1875\n",
            "Epoch 55, Out-sample Loss: 0.0038, Out-sample Accuracy: 0.0000\n"
          ]
        },
        {
          "output_type": "stream",
          "name": "stderr",
          "text": [
            " 28%|██▊       | 56/200 [02:41<07:21,  3.07s/it]"
          ]
        },
        {
          "output_type": "stream",
          "name": "stdout",
          "text": [
            "Epoch 56, In-sample Loss: 0.0006, In-sample Accuracy: 0.1875\n",
            "Epoch 56, Out-sample Loss: 0.0038, Out-sample Accuracy: 0.0000\n"
          ]
        },
        {
          "output_type": "stream",
          "name": "stderr",
          "text": [
            " 28%|██▊       | 57/200 [02:44<07:33,  3.17s/it]"
          ]
        },
        {
          "output_type": "stream",
          "name": "stdout",
          "text": [
            "Epoch 57, In-sample Loss: 0.0004, In-sample Accuracy: 0.2500\n",
            "Epoch 57, Out-sample Loss: 0.0038, Out-sample Accuracy: 0.0625\n"
          ]
        },
        {
          "output_type": "stream",
          "name": "stderr",
          "text": [
            " 29%|██▉       | 58/200 [02:47<06:58,  2.95s/it]"
          ]
        },
        {
          "output_type": "stream",
          "name": "stdout",
          "text": [
            "Epoch 58, In-sample Loss: 0.0008, In-sample Accuracy: 0.1250\n",
            "Epoch 58, Out-sample Loss: 0.0041, Out-sample Accuracy: 0.0000\n"
          ]
        },
        {
          "output_type": "stream",
          "name": "stderr",
          "text": [
            " 30%|██▉       | 59/200 [02:49<06:33,  2.79s/it]"
          ]
        },
        {
          "output_type": "stream",
          "name": "stdout",
          "text": [
            "Epoch 59, In-sample Loss: 0.0004, In-sample Accuracy: 0.1875\n",
            "Epoch 59, Out-sample Loss: 0.0041, Out-sample Accuracy: 0.0000\n"
          ]
        },
        {
          "output_type": "stream",
          "name": "stderr",
          "text": [
            " 30%|███       | 60/200 [02:51<06:16,  2.69s/it]"
          ]
        },
        {
          "output_type": "stream",
          "name": "stdout",
          "text": [
            "Epoch 60, In-sample Loss: 0.0002, In-sample Accuracy: 0.4375\n",
            "Epoch 60, Out-sample Loss: 0.0038, Out-sample Accuracy: 0.0000\n"
          ]
        },
        {
          "output_type": "stream",
          "name": "stderr",
          "text": [
            " 30%|███       | 61/200 [02:55<06:34,  2.83s/it]"
          ]
        },
        {
          "output_type": "stream",
          "name": "stdout",
          "text": [
            "Epoch 61, In-sample Loss: 0.0002, In-sample Accuracy: 0.2500\n",
            "Epoch 61, Out-sample Loss: 0.0039, Out-sample Accuracy: 0.0000\n"
          ]
        },
        {
          "output_type": "stream",
          "name": "stderr",
          "text": [
            " 31%|███       | 62/200 [02:59<07:25,  3.23s/it]"
          ]
        },
        {
          "output_type": "stream",
          "name": "stdout",
          "text": [
            "Epoch 62, In-sample Loss: 0.0004, In-sample Accuracy: 0.3750\n",
            "Epoch 62, Out-sample Loss: 0.0038, Out-sample Accuracy: 0.0625\n"
          ]
        },
        {
          "output_type": "stream",
          "name": "stderr",
          "text": [
            " 32%|███▏      | 63/200 [03:02<07:02,  3.08s/it]"
          ]
        },
        {
          "output_type": "stream",
          "name": "stdout",
          "text": [
            "Epoch 63, In-sample Loss: 0.0006, In-sample Accuracy: 0.0000\n",
            "Epoch 63, Out-sample Loss: 0.0039, Out-sample Accuracy: 0.0625\n"
          ]
        },
        {
          "output_type": "stream",
          "name": "stderr",
          "text": [
            " 32%|███▏      | 64/200 [03:04<06:32,  2.89s/it]"
          ]
        },
        {
          "output_type": "stream",
          "name": "stdout",
          "text": [
            "Epoch 64, In-sample Loss: 0.0003, In-sample Accuracy: 0.1250\n",
            "Epoch 64, Out-sample Loss: 0.0038, Out-sample Accuracy: 0.0000\n"
          ]
        },
        {
          "output_type": "stream",
          "name": "stderr",
          "text": [
            " 32%|███▎      | 65/200 [03:06<06:10,  2.75s/it]"
          ]
        },
        {
          "output_type": "stream",
          "name": "stdout",
          "text": [
            "Epoch 65, In-sample Loss: 0.0002, In-sample Accuracy: 0.3750\n",
            "Epoch 65, Out-sample Loss: 0.0037, Out-sample Accuracy: 0.0000\n"
          ]
        },
        {
          "output_type": "stream",
          "name": "stderr",
          "text": [
            " 33%|███▎      | 66/200 [03:09<05:54,  2.65s/it]"
          ]
        },
        {
          "output_type": "stream",
          "name": "stdout",
          "text": [
            "Epoch 66, In-sample Loss: 0.0003, In-sample Accuracy: 0.0000\n",
            "Epoch 66, Out-sample Loss: 0.0040, Out-sample Accuracy: 0.0000\n"
          ]
        },
        {
          "output_type": "stream",
          "name": "stderr",
          "text": [
            " 34%|███▎      | 67/200 [03:12<06:24,  2.89s/it]"
          ]
        },
        {
          "output_type": "stream",
          "name": "stdout",
          "text": [
            "Epoch 67, In-sample Loss: 0.0001, In-sample Accuracy: 0.5625\n",
            "Epoch 67, Out-sample Loss: 0.0036, Out-sample Accuracy: 0.0625\n"
          ]
        },
        {
          "output_type": "stream",
          "name": "stderr",
          "text": [
            " 34%|███▍      | 68/200 [03:16<07:04,  3.22s/it]"
          ]
        },
        {
          "output_type": "stream",
          "name": "stdout",
          "text": [
            "Epoch 68, In-sample Loss: 0.0002, In-sample Accuracy: 0.2500\n",
            "Epoch 68, Out-sample Loss: 0.0036, Out-sample Accuracy: 0.0000\n"
          ]
        },
        {
          "output_type": "stream",
          "name": "stderr",
          "text": [
            " 34%|███▍      | 69/200 [03:19<06:31,  2.99s/it]"
          ]
        },
        {
          "output_type": "stream",
          "name": "stdout",
          "text": [
            "Epoch 69, In-sample Loss: 0.0000, In-sample Accuracy: 0.8125\n",
            "Epoch 69, Out-sample Loss: 0.0037, Out-sample Accuracy: 0.0625\n"
          ]
        },
        {
          "output_type": "stream",
          "name": "stderr",
          "text": [
            " 35%|███▌      | 70/200 [03:21<06:09,  2.85s/it]"
          ]
        },
        {
          "output_type": "stream",
          "name": "stdout",
          "text": [
            "Epoch 70, In-sample Loss: 0.0001, In-sample Accuracy: 0.4375\n",
            "Epoch 70, Out-sample Loss: 0.0038, Out-sample Accuracy: 0.0000\n"
          ]
        },
        {
          "output_type": "stream",
          "name": "stderr",
          "text": [
            " 36%|███▌      | 71/200 [03:24<05:52,  2.73s/it]"
          ]
        },
        {
          "output_type": "stream",
          "name": "stdout",
          "text": [
            "Epoch 71, In-sample Loss: 0.0001, In-sample Accuracy: 0.6875\n",
            "Epoch 71, Out-sample Loss: 0.0037, Out-sample Accuracy: 0.0000\n"
          ]
        },
        {
          "output_type": "stream",
          "name": "stderr",
          "text": [
            " 36%|███▌      | 72/200 [03:26<05:38,  2.65s/it]"
          ]
        },
        {
          "output_type": "stream",
          "name": "stdout",
          "text": [
            "Epoch 72, In-sample Loss: 0.0000, In-sample Accuracy: 0.8750\n",
            "Epoch 72, Out-sample Loss: 0.0037, Out-sample Accuracy: 0.0625\n"
          ]
        },
        {
          "output_type": "stream",
          "name": "stderr",
          "text": [
            " 36%|███▋      | 73/200 [03:30<06:31,  3.08s/it]"
          ]
        },
        {
          "output_type": "stream",
          "name": "stdout",
          "text": [
            "Epoch 73, In-sample Loss: 0.0001, In-sample Accuracy: 0.6250\n",
            "Epoch 73, Out-sample Loss: 0.0039, Out-sample Accuracy: 0.0000\n"
          ]
        },
        {
          "output_type": "stream",
          "name": "stderr",
          "text": [
            " 37%|███▋      | 74/200 [03:34<06:38,  3.16s/it]"
          ]
        },
        {
          "output_type": "stream",
          "name": "stdout",
          "text": [
            "Epoch 74, In-sample Loss: 0.0001, In-sample Accuracy: 0.7500\n",
            "Epoch 74, Out-sample Loss: 0.0038, Out-sample Accuracy: 0.0000\n"
          ]
        },
        {
          "output_type": "stream",
          "name": "stderr",
          "text": [
            " 38%|███▊      | 75/200 [03:36<06:08,  2.95s/it]"
          ]
        },
        {
          "output_type": "stream",
          "name": "stdout",
          "text": [
            "Epoch 75, In-sample Loss: 0.0001, In-sample Accuracy: 0.7500\n",
            "Epoch 75, Out-sample Loss: 0.0038, Out-sample Accuracy: 0.0000\n"
          ]
        },
        {
          "output_type": "stream",
          "name": "stderr",
          "text": [
            " 38%|███▊      | 76/200 [03:38<05:48,  2.81s/it]"
          ]
        },
        {
          "output_type": "stream",
          "name": "stdout",
          "text": [
            "Epoch 76, In-sample Loss: 0.0003, In-sample Accuracy: 0.1250\n",
            "Epoch 76, Out-sample Loss: 0.0039, Out-sample Accuracy: 0.0000\n"
          ]
        },
        {
          "output_type": "stream",
          "name": "stderr",
          "text": [
            " 38%|███▊      | 77/200 [03:41<05:31,  2.69s/it]"
          ]
        },
        {
          "output_type": "stream",
          "name": "stdout",
          "text": [
            "Epoch 77, In-sample Loss: 0.0001, In-sample Accuracy: 0.3750\n",
            "Epoch 77, Out-sample Loss: 0.0039, Out-sample Accuracy: 0.0000\n"
          ]
        },
        {
          "output_type": "stream",
          "name": "stderr",
          "text": [
            " 39%|███▉      | 78/200 [03:44<05:38,  2.78s/it]"
          ]
        },
        {
          "output_type": "stream",
          "name": "stdout",
          "text": [
            "Epoch 78, In-sample Loss: 0.0003, In-sample Accuracy: 0.1875\n",
            "Epoch 78, Out-sample Loss: 0.0037, Out-sample Accuracy: 0.0000\n"
          ]
        },
        {
          "output_type": "stream",
          "name": "stderr",
          "text": [
            " 40%|███▉      | 79/200 [03:48<06:25,  3.18s/it]"
          ]
        },
        {
          "output_type": "stream",
          "name": "stdout",
          "text": [
            "Epoch 79, In-sample Loss: 0.0002, In-sample Accuracy: 0.6250\n",
            "Epoch 79, Out-sample Loss: 0.0037, Out-sample Accuracy: 0.0625\n"
          ]
        },
        {
          "output_type": "stream",
          "name": "stderr",
          "text": [
            " 40%|████      | 80/200 [03:51<06:13,  3.11s/it]"
          ]
        },
        {
          "output_type": "stream",
          "name": "stdout",
          "text": [
            "Epoch 80, In-sample Loss: 0.0002, In-sample Accuracy: 0.5000\n",
            "Epoch 80, Out-sample Loss: 0.0037, Out-sample Accuracy: 0.0000\n"
          ]
        },
        {
          "output_type": "stream",
          "name": "stderr",
          "text": [
            " 40%|████      | 81/200 [03:53<05:48,  2.93s/it]"
          ]
        },
        {
          "output_type": "stream",
          "name": "stdout",
          "text": [
            "Epoch 81, In-sample Loss: 0.0007, In-sample Accuracy: 0.0625\n",
            "Epoch 81, Out-sample Loss: 0.0042, Out-sample Accuracy: 0.0000\n"
          ]
        },
        {
          "output_type": "stream",
          "name": "stderr",
          "text": [
            " 41%|████      | 82/200 [03:56<05:28,  2.78s/it]"
          ]
        },
        {
          "output_type": "stream",
          "name": "stdout",
          "text": [
            "Epoch 82, In-sample Loss: 0.0002, In-sample Accuracy: 0.6250\n",
            "Epoch 82, Out-sample Loss: 0.0036, Out-sample Accuracy: 0.0625\n"
          ]
        },
        {
          "output_type": "stream",
          "name": "stderr",
          "text": [
            " 42%|████▏     | 83/200 [03:58<05:12,  2.67s/it]"
          ]
        },
        {
          "output_type": "stream",
          "name": "stdout",
          "text": [
            "Epoch 83, In-sample Loss: 0.0002, In-sample Accuracy: 0.4375\n",
            "Epoch 83, Out-sample Loss: 0.0036, Out-sample Accuracy: 0.0000\n"
          ]
        },
        {
          "output_type": "stream",
          "name": "stderr",
          "text": [
            " 42%|████▏     | 84/200 [04:02<05:36,  2.90s/it]"
          ]
        },
        {
          "output_type": "stream",
          "name": "stdout",
          "text": [
            "Epoch 84, In-sample Loss: 0.0002, In-sample Accuracy: 0.2500\n",
            "Epoch 84, Out-sample Loss: 0.0037, Out-sample Accuracy: 0.0000\n"
          ]
        },
        {
          "output_type": "stream",
          "name": "stderr",
          "text": [
            " 42%|████▎     | 85/200 [04:06<06:09,  3.21s/it]"
          ]
        },
        {
          "output_type": "stream",
          "name": "stdout",
          "text": [
            "Epoch 85, In-sample Loss: 0.0001, In-sample Accuracy: 0.4375\n",
            "Epoch 85, Out-sample Loss: 0.0038, Out-sample Accuracy: 0.0000\n"
          ]
        },
        {
          "output_type": "stream",
          "name": "stderr",
          "text": [
            " 43%|████▎     | 86/200 [04:08<05:38,  2.97s/it]"
          ]
        },
        {
          "output_type": "stream",
          "name": "stdout",
          "text": [
            "Epoch 86, In-sample Loss: 0.0002, In-sample Accuracy: 0.1875\n",
            "Epoch 86, Out-sample Loss: 0.0038, Out-sample Accuracy: 0.0000\n"
          ]
        },
        {
          "output_type": "stream",
          "name": "stderr",
          "text": [
            " 44%|████▎     | 87/200 [04:11<05:17,  2.81s/it]"
          ]
        },
        {
          "output_type": "stream",
          "name": "stdout",
          "text": [
            "Epoch 87, In-sample Loss: 0.0001, In-sample Accuracy: 0.5625\n",
            "Epoch 87, Out-sample Loss: 0.0038, Out-sample Accuracy: 0.0000\n"
          ]
        },
        {
          "output_type": "stream",
          "name": "stderr",
          "text": [
            " 44%|████▍     | 88/200 [04:13<05:04,  2.72s/it]"
          ]
        },
        {
          "output_type": "stream",
          "name": "stdout",
          "text": [
            "Epoch 88, In-sample Loss: 0.0001, In-sample Accuracy: 0.4375\n",
            "Epoch 88, Out-sample Loss: 0.0037, Out-sample Accuracy: 0.0000\n"
          ]
        },
        {
          "output_type": "stream",
          "name": "stderr",
          "text": [
            " 44%|████▍     | 89/200 [04:15<04:51,  2.63s/it]"
          ]
        },
        {
          "output_type": "stream",
          "name": "stdout",
          "text": [
            "Epoch 89, In-sample Loss: 0.0001, In-sample Accuracy: 0.8125\n",
            "Epoch 89, Out-sample Loss: 0.0037, Out-sample Accuracy: 0.0625\n"
          ]
        },
        {
          "output_type": "stream",
          "name": "stderr",
          "text": [
            " 45%|████▌     | 90/200 [04:19<05:29,  3.00s/it]"
          ]
        },
        {
          "output_type": "stream",
          "name": "stdout",
          "text": [
            "Epoch 90, In-sample Loss: 0.0001, In-sample Accuracy: 0.6250\n",
            "Epoch 90, Out-sample Loss: 0.0037, Out-sample Accuracy: 0.0000\n"
          ]
        },
        {
          "output_type": "stream",
          "name": "stderr",
          "text": [
            " 46%|████▌     | 91/200 [04:23<05:47,  3.19s/it]"
          ]
        },
        {
          "output_type": "stream",
          "name": "stdout",
          "text": [
            "Epoch 91, In-sample Loss: 0.0001, In-sample Accuracy: 0.3750\n",
            "Epoch 91, Out-sample Loss: 0.0037, Out-sample Accuracy: 0.0000\n"
          ]
        },
        {
          "output_type": "stream",
          "name": "stderr",
          "text": [
            " 46%|████▌     | 92/200 [04:25<05:20,  2.97s/it]"
          ]
        },
        {
          "output_type": "stream",
          "name": "stdout",
          "text": [
            "Epoch 92, In-sample Loss: 0.0001, In-sample Accuracy: 0.6875\n",
            "Epoch 92, Out-sample Loss: 0.0037, Out-sample Accuracy: 0.0000\n"
          ]
        },
        {
          "output_type": "stream",
          "name": "stderr",
          "text": [
            " 46%|████▋     | 93/200 [04:28<05:00,  2.81s/it]"
          ]
        },
        {
          "output_type": "stream",
          "name": "stdout",
          "text": [
            "Epoch 93, In-sample Loss: 0.0001, In-sample Accuracy: 0.7500\n",
            "Epoch 93, Out-sample Loss: 0.0037, Out-sample Accuracy: 0.0000\n"
          ]
        },
        {
          "output_type": "stream",
          "name": "stderr",
          "text": [
            " 47%|████▋     | 94/200 [04:30<04:45,  2.70s/it]"
          ]
        },
        {
          "output_type": "stream",
          "name": "stdout",
          "text": [
            "Epoch 94, In-sample Loss: 0.0001, In-sample Accuracy: 0.9375\n",
            "Epoch 94, Out-sample Loss: 0.0037, Out-sample Accuracy: 0.0000\n"
          ]
        },
        {
          "output_type": "stream",
          "name": "stderr",
          "text": [
            " 48%|████▊     | 95/200 [04:33<04:41,  2.68s/it]"
          ]
        },
        {
          "output_type": "stream",
          "name": "stdout",
          "text": [
            "Epoch 95, In-sample Loss: 0.0001, In-sample Accuracy: 0.8125\n",
            "Epoch 95, Out-sample Loss: 0.0036, Out-sample Accuracy: 0.0625\n"
          ]
        },
        {
          "output_type": "stream",
          "name": "stderr",
          "text": [
            " 48%|████▊     | 96/200 [04:37<05:21,  3.09s/it]"
          ]
        },
        {
          "output_type": "stream",
          "name": "stdout",
          "text": [
            "Epoch 96, In-sample Loss: 0.0001, In-sample Accuracy: 0.7500\n",
            "Epoch 96, Out-sample Loss: 0.0036, Out-sample Accuracy: 0.0000\n"
          ]
        },
        {
          "output_type": "stream",
          "name": "stderr",
          "text": [
            " 48%|████▊     | 97/200 [04:40<05:22,  3.13s/it]"
          ]
        },
        {
          "output_type": "stream",
          "name": "stdout",
          "text": [
            "Epoch 97, In-sample Loss: 0.0001, In-sample Accuracy: 0.6250\n",
            "Epoch 97, Out-sample Loss: 0.0037, Out-sample Accuracy: 0.0000\n"
          ]
        },
        {
          "output_type": "stream",
          "name": "stderr",
          "text": [
            " 49%|████▉     | 98/200 [04:43<04:58,  2.93s/it]"
          ]
        },
        {
          "output_type": "stream",
          "name": "stdout",
          "text": [
            "Epoch 98, In-sample Loss: 0.0000, In-sample Accuracy: 0.7500\n",
            "Epoch 98, Out-sample Loss: 0.0037, Out-sample Accuracy: 0.0000\n"
          ]
        },
        {
          "output_type": "stream",
          "name": "stderr",
          "text": [
            " 50%|████▉     | 99/200 [04:45<04:41,  2.79s/it]"
          ]
        },
        {
          "output_type": "stream",
          "name": "stdout",
          "text": [
            "Epoch 99, In-sample Loss: 0.0000, In-sample Accuracy: 1.0000\n",
            "Epoch 99, Out-sample Loss: 0.0037, Out-sample Accuracy: 0.0625\n"
          ]
        },
        {
          "output_type": "stream",
          "name": "stderr",
          "text": [
            " 50%|█████     | 100/200 [04:48<04:28,  2.68s/it]"
          ]
        },
        {
          "output_type": "stream",
          "name": "stdout",
          "text": [
            "Epoch 100, In-sample Loss: 0.0001, In-sample Accuracy: 0.8125\n",
            "Epoch 100, Out-sample Loss: 0.0036, Out-sample Accuracy: 0.0625\n"
          ]
        },
        {
          "output_type": "stream",
          "name": "stderr",
          "text": [
            " 50%|█████     | 101/200 [04:51<04:36,  2.79s/it]"
          ]
        },
        {
          "output_type": "stream",
          "name": "stdout",
          "text": [
            "Epoch 101, In-sample Loss: 0.0000, In-sample Accuracy: 0.8125\n",
            "Epoch 101, Out-sample Loss: 0.0037, Out-sample Accuracy: 0.0000\n"
          ]
        },
        {
          "output_type": "stream",
          "name": "stderr",
          "text": [
            " 51%|█████     | 102/200 [04:55<05:11,  3.18s/it]"
          ]
        },
        {
          "output_type": "stream",
          "name": "stdout",
          "text": [
            "Epoch 102, In-sample Loss: 0.0001, In-sample Accuracy: 0.6250\n",
            "Epoch 102, Out-sample Loss: 0.0037, Out-sample Accuracy: 0.0000\n"
          ]
        },
        {
          "output_type": "stream",
          "name": "stderr",
          "text": [
            " 52%|█████▏    | 103/200 [04:58<04:59,  3.08s/it]"
          ]
        },
        {
          "output_type": "stream",
          "name": "stdout",
          "text": [
            "Epoch 103, In-sample Loss: 0.0000, In-sample Accuracy: 1.0000\n",
            "Epoch 103, Out-sample Loss: 0.0036, Out-sample Accuracy: 0.0000\n"
          ]
        },
        {
          "output_type": "stream",
          "name": "stderr",
          "text": [
            " 52%|█████▏    | 104/200 [05:00<04:37,  2.89s/it]"
          ]
        },
        {
          "output_type": "stream",
          "name": "stdout",
          "text": [
            "Epoch 104, In-sample Loss: 0.0000, In-sample Accuracy: 1.0000\n",
            "Epoch 104, Out-sample Loss: 0.0037, Out-sample Accuracy: 0.0000\n"
          ]
        },
        {
          "output_type": "stream",
          "name": "stderr",
          "text": [
            " 52%|█████▎    | 105/200 [05:02<04:22,  2.77s/it]"
          ]
        },
        {
          "output_type": "stream",
          "name": "stdout",
          "text": [
            "Epoch 105, In-sample Loss: 0.0000, In-sample Accuracy: 0.8750\n",
            "Epoch 105, Out-sample Loss: 0.0036, Out-sample Accuracy: 0.0625\n"
          ]
        },
        {
          "output_type": "stream",
          "name": "stderr",
          "text": [
            " 53%|█████▎    | 106/200 [05:05<04:11,  2.68s/it]"
          ]
        },
        {
          "output_type": "stream",
          "name": "stdout",
          "text": [
            "Epoch 106, In-sample Loss: 0.0000, In-sample Accuracy: 0.7500\n",
            "Epoch 106, Out-sample Loss: 0.0036, Out-sample Accuracy: 0.0000\n"
          ]
        },
        {
          "output_type": "stream",
          "name": "stderr",
          "text": [
            " 54%|█████▎    | 107/200 [05:08<04:31,  2.92s/it]"
          ]
        },
        {
          "output_type": "stream",
          "name": "stdout",
          "text": [
            "Epoch 107, In-sample Loss: 0.0000, In-sample Accuracy: 0.8125\n",
            "Epoch 107, Out-sample Loss: 0.0036, Out-sample Accuracy: 0.0625\n"
          ]
        },
        {
          "output_type": "stream",
          "name": "stderr",
          "text": [
            " 54%|█████▍    | 108/200 [05:12<04:58,  3.25s/it]"
          ]
        },
        {
          "output_type": "stream",
          "name": "stdout",
          "text": [
            "Epoch 108, In-sample Loss: 0.0000, In-sample Accuracy: 1.0000\n",
            "Epoch 108, Out-sample Loss: 0.0036, Out-sample Accuracy: 0.0625\n"
          ]
        },
        {
          "output_type": "stream",
          "name": "stderr",
          "text": [
            " 55%|█████▍    | 109/200 [05:15<04:33,  3.01s/it]"
          ]
        },
        {
          "output_type": "stream",
          "name": "stdout",
          "text": [
            "Epoch 109, In-sample Loss: 0.0000, In-sample Accuracy: 0.6250\n",
            "Epoch 109, Out-sample Loss: 0.0037, Out-sample Accuracy: 0.0000\n"
          ]
        },
        {
          "output_type": "stream",
          "name": "stderr",
          "text": [
            " 55%|█████▌    | 110/200 [05:17<04:16,  2.85s/it]"
          ]
        },
        {
          "output_type": "stream",
          "name": "stdout",
          "text": [
            "Epoch 110, In-sample Loss: 0.0000, In-sample Accuracy: 0.9375\n",
            "Epoch 110, Out-sample Loss: 0.0037, Out-sample Accuracy: 0.0000\n"
          ]
        },
        {
          "output_type": "stream",
          "name": "stderr",
          "text": [
            " 56%|█████▌    | 111/200 [05:20<04:02,  2.73s/it]"
          ]
        },
        {
          "output_type": "stream",
          "name": "stdout",
          "text": [
            "Epoch 111, In-sample Loss: 0.0000, In-sample Accuracy: 0.9375\n",
            "Epoch 111, Out-sample Loss: 0.0037, Out-sample Accuracy: 0.0000\n"
          ]
        },
        {
          "output_type": "stream",
          "name": "stderr",
          "text": [
            " 56%|█████▌    | 112/200 [05:22<03:53,  2.65s/it]"
          ]
        },
        {
          "output_type": "stream",
          "name": "stdout",
          "text": [
            "Epoch 112, In-sample Loss: 0.0000, In-sample Accuracy: 0.8750\n",
            "Epoch 112, Out-sample Loss: 0.0036, Out-sample Accuracy: 0.0625\n"
          ]
        },
        {
          "output_type": "stream",
          "name": "stderr",
          "text": [
            " 56%|█████▋    | 113/200 [05:26<04:26,  3.07s/it]"
          ]
        },
        {
          "output_type": "stream",
          "name": "stdout",
          "text": [
            "Epoch 113, In-sample Loss: 0.0000, In-sample Accuracy: 0.8750\n",
            "Epoch 113, Out-sample Loss: 0.0036, Out-sample Accuracy: 0.0625\n"
          ]
        },
        {
          "output_type": "stream",
          "name": "stderr",
          "text": [
            " 57%|█████▋    | 114/200 [05:30<04:32,  3.17s/it]"
          ]
        },
        {
          "output_type": "stream",
          "name": "stdout",
          "text": [
            "Epoch 114, In-sample Loss: 0.0001, In-sample Accuracy: 0.7500\n",
            "Epoch 114, Out-sample Loss: 0.0037, Out-sample Accuracy: 0.0000\n"
          ]
        },
        {
          "output_type": "stream",
          "name": "stderr",
          "text": [
            " 57%|█████▊    | 115/200 [05:32<04:11,  2.96s/it]"
          ]
        },
        {
          "output_type": "stream",
          "name": "stdout",
          "text": [
            "Epoch 115, In-sample Loss: 0.0000, In-sample Accuracy: 0.8125\n",
            "Epoch 115, Out-sample Loss: 0.0037, Out-sample Accuracy: 0.0000\n"
          ]
        },
        {
          "output_type": "stream",
          "name": "stderr",
          "text": [
            " 58%|█████▊    | 116/200 [05:35<03:55,  2.80s/it]"
          ]
        },
        {
          "output_type": "stream",
          "name": "stdout",
          "text": [
            "Epoch 116, In-sample Loss: 0.0000, In-sample Accuracy: 0.8125\n",
            "Epoch 116, Out-sample Loss: 0.0037, Out-sample Accuracy: 0.0000\n"
          ]
        },
        {
          "output_type": "stream",
          "name": "stderr",
          "text": [
            " 58%|█████▊    | 117/200 [05:37<03:43,  2.70s/it]"
          ]
        },
        {
          "output_type": "stream",
          "name": "stdout",
          "text": [
            "Epoch 117, In-sample Loss: 0.0001, In-sample Accuracy: 0.8750\n",
            "Epoch 117, Out-sample Loss: 0.0037, Out-sample Accuracy: 0.0000\n"
          ]
        },
        {
          "output_type": "stream",
          "name": "stderr",
          "text": [
            " 59%|█████▉    | 118/200 [05:40<03:47,  2.78s/it]"
          ]
        },
        {
          "output_type": "stream",
          "name": "stdout",
          "text": [
            "Epoch 118, In-sample Loss: 0.0000, In-sample Accuracy: 0.9375\n",
            "Epoch 118, Out-sample Loss: 0.0037, Out-sample Accuracy: 0.0000\n"
          ]
        },
        {
          "output_type": "stream",
          "name": "stderr",
          "text": [
            " 60%|█████▉    | 119/200 [05:44<04:19,  3.20s/it]"
          ]
        },
        {
          "output_type": "stream",
          "name": "stdout",
          "text": [
            "Epoch 119, In-sample Loss: 0.0001, In-sample Accuracy: 0.5000\n",
            "Epoch 119, Out-sample Loss: 0.0038, Out-sample Accuracy: 0.0000\n"
          ]
        },
        {
          "output_type": "stream",
          "name": "stderr",
          "text": [
            " 60%|██████    | 120/200 [05:47<04:07,  3.10s/it]"
          ]
        },
        {
          "output_type": "stream",
          "name": "stdout",
          "text": [
            "Epoch 120, In-sample Loss: 0.0001, In-sample Accuracy: 0.5625\n",
            "Epoch 120, Out-sample Loss: 0.0037, Out-sample Accuracy: 0.0000\n"
          ]
        },
        {
          "output_type": "stream",
          "name": "stderr",
          "text": [
            " 60%|██████    | 121/200 [05:50<03:49,  2.90s/it]"
          ]
        },
        {
          "output_type": "stream",
          "name": "stdout",
          "text": [
            "Epoch 121, In-sample Loss: 0.0001, In-sample Accuracy: 1.0000\n",
            "Epoch 121, Out-sample Loss: 0.0038, Out-sample Accuracy: 0.0000\n"
          ]
        },
        {
          "output_type": "stream",
          "name": "stderr",
          "text": [
            " 61%|██████    | 122/200 [05:52<03:35,  2.76s/it]"
          ]
        },
        {
          "output_type": "stream",
          "name": "stdout",
          "text": [
            "Epoch 122, In-sample Loss: 0.0001, In-sample Accuracy: 1.0000\n",
            "Epoch 122, Out-sample Loss: 0.0038, Out-sample Accuracy: 0.0000\n"
          ]
        },
        {
          "output_type": "stream",
          "name": "stderr",
          "text": [
            " 62%|██████▏   | 123/200 [05:54<03:26,  2.68s/it]"
          ]
        },
        {
          "output_type": "stream",
          "name": "stdout",
          "text": [
            "Epoch 123, In-sample Loss: 0.0000, In-sample Accuracy: 1.0000\n",
            "Epoch 123, Out-sample Loss: 0.0036, Out-sample Accuracy: 0.0625\n"
          ]
        },
        {
          "output_type": "stream",
          "name": "stderr",
          "text": [
            " 62%|██████▏   | 124/200 [05:58<03:41,  2.92s/it]"
          ]
        },
        {
          "output_type": "stream",
          "name": "stdout",
          "text": [
            "Epoch 124, In-sample Loss: 0.0001, In-sample Accuracy: 0.4375\n",
            "Epoch 124, Out-sample Loss: 0.0037, Out-sample Accuracy: 0.0000\n"
          ]
        },
        {
          "output_type": "stream",
          "name": "stderr",
          "text": [
            " 62%|██████▎   | 125/200 [06:02<04:00,  3.21s/it]"
          ]
        },
        {
          "output_type": "stream",
          "name": "stdout",
          "text": [
            "Epoch 125, In-sample Loss: 0.0001, In-sample Accuracy: 0.3125\n",
            "Epoch 125, Out-sample Loss: 0.0036, Out-sample Accuracy: 0.0000\n"
          ]
        },
        {
          "output_type": "stream",
          "name": "stderr",
          "text": [
            " 63%|██████▎   | 126/200 [06:04<03:40,  2.98s/it]"
          ]
        },
        {
          "output_type": "stream",
          "name": "stdout",
          "text": [
            "Epoch 126, In-sample Loss: 0.0000, In-sample Accuracy: 0.6875\n",
            "Epoch 126, Out-sample Loss: 0.0036, Out-sample Accuracy: 0.0000\n"
          ]
        },
        {
          "output_type": "stream",
          "name": "stderr",
          "text": [
            " 64%|██████▎   | 127/200 [06:07<03:27,  2.84s/it]"
          ]
        },
        {
          "output_type": "stream",
          "name": "stdout",
          "text": [
            "Epoch 127, In-sample Loss: 0.0001, In-sample Accuracy: 0.3750\n",
            "Epoch 127, Out-sample Loss: 0.0037, Out-sample Accuracy: 0.0000\n"
          ]
        },
        {
          "output_type": "stream",
          "name": "stderr",
          "text": [
            " 64%|██████▍   | 128/200 [06:09<03:16,  2.72s/it]"
          ]
        },
        {
          "output_type": "stream",
          "name": "stdout",
          "text": [
            "Epoch 128, In-sample Loss: 0.0001, In-sample Accuracy: 0.7500\n",
            "Epoch 128, Out-sample Loss: 0.0036, Out-sample Accuracy: 0.0000\n"
          ]
        },
        {
          "output_type": "stream",
          "name": "stderr",
          "text": [
            " 64%|██████▍   | 129/200 [06:12<03:07,  2.64s/it]"
          ]
        },
        {
          "output_type": "stream",
          "name": "stdout",
          "text": [
            "Epoch 129, In-sample Loss: 0.0001, In-sample Accuracy: 0.4375\n",
            "Epoch 129, Out-sample Loss: 0.0036, Out-sample Accuracy: 0.0000\n"
          ]
        },
        {
          "output_type": "stream",
          "name": "stderr",
          "text": [
            " 65%|██████▌   | 130/200 [06:16<03:35,  3.09s/it]"
          ]
        },
        {
          "output_type": "stream",
          "name": "stdout",
          "text": [
            "Epoch 130, In-sample Loss: 0.0001, In-sample Accuracy: 0.5000\n",
            "Epoch 130, Out-sample Loss: 0.0035, Out-sample Accuracy: 0.0625\n"
          ]
        },
        {
          "output_type": "stream",
          "name": "stderr",
          "text": [
            " 66%|██████▌   | 131/200 [06:19<03:38,  3.17s/it]"
          ]
        },
        {
          "output_type": "stream",
          "name": "stdout",
          "text": [
            "Epoch 131, In-sample Loss: 0.0002, In-sample Accuracy: 0.8125\n",
            "Epoch 131, Out-sample Loss: 0.0035, Out-sample Accuracy: 0.0625\n"
          ]
        },
        {
          "output_type": "stream",
          "name": "stderr",
          "text": [
            " 66%|██████▌   | 132/200 [06:22<03:20,  2.94s/it]"
          ]
        },
        {
          "output_type": "stream",
          "name": "stdout",
          "text": [
            "Epoch 132, In-sample Loss: 0.0001, In-sample Accuracy: 0.8125\n",
            "Epoch 132, Out-sample Loss: 0.0035, Out-sample Accuracy: 0.0625\n"
          ]
        },
        {
          "output_type": "stream",
          "name": "stderr",
          "text": [
            " 66%|██████▋   | 133/200 [06:24<03:09,  2.83s/it]"
          ]
        },
        {
          "output_type": "stream",
          "name": "stdout",
          "text": [
            "Epoch 133, In-sample Loss: 0.0000, In-sample Accuracy: 0.9375\n",
            "Epoch 133, Out-sample Loss: 0.0035, Out-sample Accuracy: 0.0000\n"
          ]
        },
        {
          "output_type": "stream",
          "name": "stderr",
          "text": [
            " 67%|██████▋   | 134/200 [06:27<02:59,  2.72s/it]"
          ]
        },
        {
          "output_type": "stream",
          "name": "stdout",
          "text": [
            "Epoch 134, In-sample Loss: 0.0000, In-sample Accuracy: 0.8750\n",
            "Epoch 134, Out-sample Loss: 0.0036, Out-sample Accuracy: 0.0000\n"
          ]
        },
        {
          "output_type": "stream",
          "name": "stderr",
          "text": [
            " 68%|██████▊   | 135/200 [06:30<03:06,  2.87s/it]"
          ]
        },
        {
          "output_type": "stream",
          "name": "stdout",
          "text": [
            "Epoch 135, In-sample Loss: 0.0000, In-sample Accuracy: 0.8750\n",
            "Epoch 135, Out-sample Loss: 0.0036, Out-sample Accuracy: 0.0000\n"
          ]
        },
        {
          "output_type": "stream",
          "name": "stderr",
          "text": [
            " 68%|██████▊   | 136/200 [06:34<03:27,  3.24s/it]"
          ]
        },
        {
          "output_type": "stream",
          "name": "stdout",
          "text": [
            "Epoch 136, In-sample Loss: 0.0001, In-sample Accuracy: 0.6875\n",
            "Epoch 136, Out-sample Loss: 0.0036, Out-sample Accuracy: 0.0000\n"
          ]
        },
        {
          "output_type": "stream",
          "name": "stderr",
          "text": [
            " 68%|██████▊   | 137/200 [06:37<03:14,  3.08s/it]"
          ]
        },
        {
          "output_type": "stream",
          "name": "stdout",
          "text": [
            "Epoch 137, In-sample Loss: 0.0000, In-sample Accuracy: 0.8750\n",
            "Epoch 137, Out-sample Loss: 0.0037, Out-sample Accuracy: 0.0000\n"
          ]
        },
        {
          "output_type": "stream",
          "name": "stderr",
          "text": [
            " 69%|██████▉   | 138/200 [06:39<02:59,  2.90s/it]"
          ]
        },
        {
          "output_type": "stream",
          "name": "stdout",
          "text": [
            "Epoch 138, In-sample Loss: 0.0000, In-sample Accuracy: 0.8125\n",
            "Epoch 138, Out-sample Loss: 0.0036, Out-sample Accuracy: 0.0000\n"
          ]
        },
        {
          "output_type": "stream",
          "name": "stderr",
          "text": [
            " 70%|██████▉   | 139/200 [06:42<02:48,  2.77s/it]"
          ]
        },
        {
          "output_type": "stream",
          "name": "stdout",
          "text": [
            "Epoch 139, In-sample Loss: 0.0000, In-sample Accuracy: 0.9375\n",
            "Epoch 139, Out-sample Loss: 0.0037, Out-sample Accuracy: 0.0000\n"
          ]
        },
        {
          "output_type": "stream",
          "name": "stderr",
          "text": [
            " 70%|███████   | 140/200 [06:44<02:41,  2.69s/it]"
          ]
        },
        {
          "output_type": "stream",
          "name": "stdout",
          "text": [
            "Epoch 140, In-sample Loss: 0.0000, In-sample Accuracy: 0.6875\n",
            "Epoch 140, Out-sample Loss: 0.0037, Out-sample Accuracy: 0.0000\n"
          ]
        },
        {
          "output_type": "stream",
          "name": "stderr",
          "text": [
            " 70%|███████   | 141/200 [06:48<02:59,  3.05s/it]"
          ]
        },
        {
          "output_type": "stream",
          "name": "stdout",
          "text": [
            "Epoch 141, In-sample Loss: 0.0001, In-sample Accuracy: 0.6250\n",
            "Epoch 141, Out-sample Loss: 0.0037, Out-sample Accuracy: 0.0000\n"
          ]
        },
        {
          "output_type": "stream",
          "name": "stderr",
          "text": [
            " 71%|███████   | 142/200 [06:52<03:09,  3.26s/it]"
          ]
        },
        {
          "output_type": "stream",
          "name": "stdout",
          "text": [
            "Epoch 142, In-sample Loss: 0.0001, In-sample Accuracy: 0.7500\n",
            "Epoch 142, Out-sample Loss: 0.0037, Out-sample Accuracy: 0.0625\n"
          ]
        },
        {
          "output_type": "stream",
          "name": "stderr",
          "text": [
            " 72%|███████▏  | 143/200 [06:54<02:51,  3.01s/it]"
          ]
        },
        {
          "output_type": "stream",
          "name": "stdout",
          "text": [
            "Epoch 143, In-sample Loss: 0.0001, In-sample Accuracy: 0.8125\n",
            "Epoch 143, Out-sample Loss: 0.0037, Out-sample Accuracy: 0.0000\n"
          ]
        },
        {
          "output_type": "stream",
          "name": "stderr",
          "text": [
            " 72%|███████▏  | 144/200 [06:57<02:39,  2.85s/it]"
          ]
        },
        {
          "output_type": "stream",
          "name": "stdout",
          "text": [
            "Epoch 144, In-sample Loss: 0.0002, In-sample Accuracy: 0.6875\n",
            "Epoch 144, Out-sample Loss: 0.0040, Out-sample Accuracy: 0.0000\n"
          ]
        },
        {
          "output_type": "stream",
          "name": "stderr",
          "text": [
            " 72%|███████▎  | 145/200 [06:59<02:29,  2.72s/it]"
          ]
        },
        {
          "output_type": "stream",
          "name": "stdout",
          "text": [
            "Epoch 145, In-sample Loss: 0.0003, In-sample Accuracy: 0.0625\n",
            "Epoch 145, Out-sample Loss: 0.0040, Out-sample Accuracy: 0.0000\n"
          ]
        },
        {
          "output_type": "stream",
          "name": "stderr",
          "text": [
            " 73%|███████▎  | 146/200 [07:02<02:24,  2.67s/it]"
          ]
        },
        {
          "output_type": "stream",
          "name": "stdout",
          "text": [
            "Epoch 146, In-sample Loss: 0.0003, In-sample Accuracy: 0.2500\n",
            "Epoch 146, Out-sample Loss: 0.0037, Out-sample Accuracy: 0.0625\n"
          ]
        },
        {
          "output_type": "stream",
          "name": "stderr",
          "text": [
            " 74%|███████▎  | 147/200 [07:06<02:44,  3.11s/it]"
          ]
        },
        {
          "output_type": "stream",
          "name": "stdout",
          "text": [
            "Epoch 147, In-sample Loss: 0.0003, In-sample Accuracy: 0.4375\n",
            "Epoch 147, Out-sample Loss: 0.0036, Out-sample Accuracy: 0.0000\n"
          ]
        },
        {
          "output_type": "stream",
          "name": "stderr",
          "text": [
            " 74%|███████▍  | 148/200 [07:09<02:42,  3.12s/it]"
          ]
        },
        {
          "output_type": "stream",
          "name": "stdout",
          "text": [
            "Epoch 148, In-sample Loss: 0.0001, In-sample Accuracy: 0.6250\n",
            "Epoch 148, Out-sample Loss: 0.0036, Out-sample Accuracy: 0.0000\n"
          ]
        },
        {
          "output_type": "stream",
          "name": "stderr",
          "text": [
            " 74%|███████▍  | 149/200 [07:11<02:29,  2.93s/it]"
          ]
        },
        {
          "output_type": "stream",
          "name": "stdout",
          "text": [
            "Epoch 149, In-sample Loss: 0.0009, In-sample Accuracy: 0.1250\n",
            "Epoch 149, Out-sample Loss: 0.0048, Out-sample Accuracy: 0.0000\n"
          ]
        },
        {
          "output_type": "stream",
          "name": "stderr",
          "text": [
            " 75%|███████▌  | 150/200 [07:14<02:19,  2.80s/it]"
          ]
        },
        {
          "output_type": "stream",
          "name": "stdout",
          "text": [
            "Epoch 150, In-sample Loss: 0.0002, In-sample Accuracy: 0.1250\n",
            "Epoch 150, Out-sample Loss: 0.0038, Out-sample Accuracy: 0.0000\n"
          ]
        },
        {
          "output_type": "stream",
          "name": "stderr",
          "text": [
            " 76%|███████▌  | 151/200 [07:16<02:11,  2.69s/it]"
          ]
        },
        {
          "output_type": "stream",
          "name": "stdout",
          "text": [
            "Epoch 151, In-sample Loss: 0.0005, In-sample Accuracy: 0.2500\n",
            "Epoch 151, Out-sample Loss: 0.0045, Out-sample Accuracy: 0.0625\n"
          ]
        },
        {
          "output_type": "stream",
          "name": "stderr",
          "text": [
            " 76%|███████▌  | 152/200 [07:19<02:15,  2.83s/it]"
          ]
        },
        {
          "output_type": "stream",
          "name": "stdout",
          "text": [
            "Epoch 152, In-sample Loss: 0.0008, In-sample Accuracy: 0.0000\n",
            "Epoch 152, Out-sample Loss: 0.0053, Out-sample Accuracy: 0.0000\n"
          ]
        },
        {
          "output_type": "stream",
          "name": "stderr",
          "text": [
            " 76%|███████▋  | 153/200 [07:23<02:29,  3.19s/it]"
          ]
        },
        {
          "output_type": "stream",
          "name": "stdout",
          "text": [
            "Epoch 153, In-sample Loss: 0.0007, In-sample Accuracy: 0.0000\n",
            "Epoch 153, Out-sample Loss: 0.0042, Out-sample Accuracy: 0.0000\n"
          ]
        },
        {
          "output_type": "stream",
          "name": "stderr",
          "text": [
            " 77%|███████▋  | 154/200 [07:26<02:20,  3.06s/it]"
          ]
        },
        {
          "output_type": "stream",
          "name": "stdout",
          "text": [
            "Epoch 154, In-sample Loss: 0.0043, In-sample Accuracy: 0.0000\n",
            "Epoch 154, Out-sample Loss: 0.0083, Out-sample Accuracy: 0.0000\n"
          ]
        },
        {
          "output_type": "stream",
          "name": "stderr",
          "text": [
            " 78%|███████▊  | 155/200 [07:29<02:09,  2.88s/it]"
          ]
        },
        {
          "output_type": "stream",
          "name": "stdout",
          "text": [
            "Epoch 155, In-sample Loss: 0.0022, In-sample Accuracy: 0.0000\n",
            "Epoch 155, Out-sample Loss: 0.0059, Out-sample Accuracy: 0.0000\n"
          ]
        },
        {
          "output_type": "stream",
          "name": "stderr",
          "text": [
            " 78%|███████▊  | 156/200 [07:31<02:00,  2.75s/it]"
          ]
        },
        {
          "output_type": "stream",
          "name": "stdout",
          "text": [
            "Epoch 156, In-sample Loss: 0.0012, In-sample Accuracy: 0.0000\n",
            "Epoch 156, Out-sample Loss: 0.0048, Out-sample Accuracy: 0.0000\n"
          ]
        },
        {
          "output_type": "stream",
          "name": "stderr",
          "text": [
            " 78%|███████▊  | 157/200 [07:34<01:54,  2.66s/it]"
          ]
        },
        {
          "output_type": "stream",
          "name": "stdout",
          "text": [
            "Epoch 157, In-sample Loss: 0.0008, In-sample Accuracy: 0.0000\n",
            "Epoch 157, Out-sample Loss: 0.0046, Out-sample Accuracy: 0.0000\n"
          ]
        },
        {
          "output_type": "stream",
          "name": "stderr",
          "text": [
            " 79%|███████▉  | 158/200 [07:37<02:02,  2.92s/it]"
          ]
        },
        {
          "output_type": "stream",
          "name": "stdout",
          "text": [
            "Epoch 158, In-sample Loss: 0.0004, In-sample Accuracy: 0.1875\n",
            "Epoch 158, Out-sample Loss: 0.0039, Out-sample Accuracy: 0.0000\n"
          ]
        },
        {
          "output_type": "stream",
          "name": "stderr",
          "text": [
            " 80%|███████▉  | 159/200 [07:41<02:11,  3.22s/it]"
          ]
        },
        {
          "output_type": "stream",
          "name": "stdout",
          "text": [
            "Epoch 159, In-sample Loss: 0.0005, In-sample Accuracy: 0.1250\n",
            "Epoch 159, Out-sample Loss: 0.0037, Out-sample Accuracy: 0.0000\n"
          ]
        },
        {
          "output_type": "stream",
          "name": "stderr",
          "text": [
            " 80%|████████  | 160/200 [07:44<01:59,  3.00s/it]"
          ]
        },
        {
          "output_type": "stream",
          "name": "stdout",
          "text": [
            "Epoch 160, In-sample Loss: 0.0005, In-sample Accuracy: 0.3125\n",
            "Epoch 160, Out-sample Loss: 0.0037, Out-sample Accuracy: 0.0000\n"
          ]
        },
        {
          "output_type": "stream",
          "name": "stderr",
          "text": [
            " 80%|████████  | 161/200 [07:46<01:51,  2.85s/it]"
          ]
        },
        {
          "output_type": "stream",
          "name": "stdout",
          "text": [
            "Epoch 161, In-sample Loss: 0.0005, In-sample Accuracy: 0.3125\n",
            "Epoch 161, Out-sample Loss: 0.0039, Out-sample Accuracy: 0.0625\n"
          ]
        },
        {
          "output_type": "stream",
          "name": "stderr",
          "text": [
            " 81%|████████  | 162/200 [07:48<01:43,  2.74s/it]"
          ]
        },
        {
          "output_type": "stream",
          "name": "stdout",
          "text": [
            "Epoch 162, In-sample Loss: 0.0002, In-sample Accuracy: 0.3750\n",
            "Epoch 162, Out-sample Loss: 0.0036, Out-sample Accuracy: 0.0000\n"
          ]
        },
        {
          "output_type": "stream",
          "name": "stderr",
          "text": [
            " 82%|████████▏ | 163/200 [07:51<01:38,  2.67s/it]"
          ]
        },
        {
          "output_type": "stream",
          "name": "stdout",
          "text": [
            "Epoch 163, In-sample Loss: 0.0001, In-sample Accuracy: 0.7500\n",
            "Epoch 163, Out-sample Loss: 0.0036, Out-sample Accuracy: 0.0000\n"
          ]
        },
        {
          "output_type": "stream",
          "name": "stderr",
          "text": [
            " 82%|████████▏ | 164/200 [07:55<01:52,  3.12s/it]"
          ]
        },
        {
          "output_type": "stream",
          "name": "stdout",
          "text": [
            "Epoch 164, In-sample Loss: 0.0002, In-sample Accuracy: 0.3125\n",
            "Epoch 164, Out-sample Loss: 0.0037, Out-sample Accuracy: 0.0625\n"
          ]
        },
        {
          "output_type": "stream",
          "name": "stderr",
          "text": [
            " 82%|████████▎ | 165/200 [07:58<01:50,  3.17s/it]"
          ]
        },
        {
          "output_type": "stream",
          "name": "stdout",
          "text": [
            "Epoch 165, In-sample Loss: 0.0004, In-sample Accuracy: 0.1250\n",
            "Epoch 165, Out-sample Loss: 0.0039, Out-sample Accuracy: 0.0000\n"
          ]
        },
        {
          "output_type": "stream",
          "name": "stderr",
          "text": [
            " 83%|████████▎ | 166/200 [08:01<01:40,  2.95s/it]"
          ]
        },
        {
          "output_type": "stream",
          "name": "stdout",
          "text": [
            "Epoch 166, In-sample Loss: 0.0003, In-sample Accuracy: 0.2500\n",
            "Epoch 166, Out-sample Loss: 0.0039, Out-sample Accuracy: 0.0000\n"
          ]
        },
        {
          "output_type": "stream",
          "name": "stderr",
          "text": [
            " 84%|████████▎ | 167/200 [08:03<01:32,  2.79s/it]"
          ]
        },
        {
          "output_type": "stream",
          "name": "stdout",
          "text": [
            "Epoch 167, In-sample Loss: 0.0003, In-sample Accuracy: 0.1875\n",
            "Epoch 167, Out-sample Loss: 0.0039, Out-sample Accuracy: 0.0000\n"
          ]
        },
        {
          "output_type": "stream",
          "name": "stderr",
          "text": [
            " 84%|████████▍ | 168/200 [08:06<01:26,  2.70s/it]"
          ]
        },
        {
          "output_type": "stream",
          "name": "stdout",
          "text": [
            "Epoch 168, In-sample Loss: 0.0003, In-sample Accuracy: 0.1250\n",
            "Epoch 168, Out-sample Loss: 0.0038, Out-sample Accuracy: 0.0000\n"
          ]
        },
        {
          "output_type": "stream",
          "name": "stderr",
          "text": [
            " 84%|████████▍ | 169/200 [08:09<01:26,  2.78s/it]"
          ]
        },
        {
          "output_type": "stream",
          "name": "stdout",
          "text": [
            "Epoch 169, In-sample Loss: 0.0004, In-sample Accuracy: 0.0000\n",
            "Epoch 169, Out-sample Loss: 0.0039, Out-sample Accuracy: 0.0625\n"
          ]
        },
        {
          "output_type": "stream",
          "name": "stderr",
          "text": [
            " 85%|████████▌ | 170/200 [08:13<01:34,  3.15s/it]"
          ]
        },
        {
          "output_type": "stream",
          "name": "stdout",
          "text": [
            "Epoch 170, In-sample Loss: 0.0002, In-sample Accuracy: 0.3125\n",
            "Epoch 170, Out-sample Loss: 0.0037, Out-sample Accuracy: 0.0000\n"
          ]
        },
        {
          "output_type": "stream",
          "name": "stderr",
          "text": [
            " 86%|████████▌ | 171/200 [08:16<01:29,  3.10s/it]"
          ]
        },
        {
          "output_type": "stream",
          "name": "stdout",
          "text": [
            "Epoch 171, In-sample Loss: 0.0001, In-sample Accuracy: 0.8750\n",
            "Epoch 171, Out-sample Loss: 0.0037, Out-sample Accuracy: 0.0625\n"
          ]
        },
        {
          "output_type": "stream",
          "name": "stderr",
          "text": [
            " 86%|████████▌ | 172/200 [08:18<01:21,  2.90s/it]"
          ]
        },
        {
          "output_type": "stream",
          "name": "stdout",
          "text": [
            "Epoch 172, In-sample Loss: 0.0001, In-sample Accuracy: 0.8125\n",
            "Epoch 172, Out-sample Loss: 0.0037, Out-sample Accuracy: 0.0000\n"
          ]
        },
        {
          "output_type": "stream",
          "name": "stderr",
          "text": [
            " 86%|████████▋ | 173/200 [08:21<01:14,  2.76s/it]"
          ]
        },
        {
          "output_type": "stream",
          "name": "stdout",
          "text": [
            "Epoch 173, In-sample Loss: 0.0000, In-sample Accuracy: 0.9375\n",
            "Epoch 173, Out-sample Loss: 0.0036, Out-sample Accuracy: 0.0625\n"
          ]
        },
        {
          "output_type": "stream",
          "name": "stderr",
          "text": [
            " 87%|████████▋ | 174/200 [08:23<01:09,  2.67s/it]"
          ]
        },
        {
          "output_type": "stream",
          "name": "stdout",
          "text": [
            "Epoch 174, In-sample Loss: 0.0001, In-sample Accuracy: 0.8125\n",
            "Epoch 174, Out-sample Loss: 0.0036, Out-sample Accuracy: 0.0625\n"
          ]
        },
        {
          "output_type": "stream",
          "name": "stderr",
          "text": [
            " 88%|████████▊ | 175/200 [08:26<01:12,  2.88s/it]"
          ]
        },
        {
          "output_type": "stream",
          "name": "stdout",
          "text": [
            "Epoch 175, In-sample Loss: 0.0001, In-sample Accuracy: 0.4375\n",
            "Epoch 175, Out-sample Loss: 0.0038, Out-sample Accuracy: 0.0000\n"
          ]
        },
        {
          "output_type": "stream",
          "name": "stderr",
          "text": [
            " 88%|████████▊ | 176/200 [08:31<01:17,  3.24s/it]"
          ]
        },
        {
          "output_type": "stream",
          "name": "stdout",
          "text": [
            "Epoch 176, In-sample Loss: 0.0001, In-sample Accuracy: 0.7500\n",
            "Epoch 176, Out-sample Loss: 0.0037, Out-sample Accuracy: 0.0000\n"
          ]
        },
        {
          "output_type": "stream",
          "name": "stderr",
          "text": [
            " 88%|████████▊ | 177/200 [08:33<01:09,  3.02s/it]"
          ]
        },
        {
          "output_type": "stream",
          "name": "stdout",
          "text": [
            "Epoch 177, In-sample Loss: 0.0000, In-sample Accuracy: 1.0000\n",
            "Epoch 177, Out-sample Loss: 0.0036, Out-sample Accuracy: 0.0625\n"
          ]
        },
        {
          "output_type": "stream",
          "name": "stderr",
          "text": [
            " 89%|████████▉ | 178/200 [08:36<01:02,  2.85s/it]"
          ]
        },
        {
          "output_type": "stream",
          "name": "stdout",
          "text": [
            "Epoch 178, In-sample Loss: 0.0000, In-sample Accuracy: 0.9375\n",
            "Epoch 178, Out-sample Loss: 0.0036, Out-sample Accuracy: 0.0000\n"
          ]
        },
        {
          "output_type": "stream",
          "name": "stderr",
          "text": [
            " 90%|████████▉ | 179/200 [08:38<00:57,  2.74s/it]"
          ]
        },
        {
          "output_type": "stream",
          "name": "stdout",
          "text": [
            "Epoch 179, In-sample Loss: 0.0000, In-sample Accuracy: 0.9375\n",
            "Epoch 179, Out-sample Loss: 0.0036, Out-sample Accuracy: 0.0000\n"
          ]
        },
        {
          "output_type": "stream",
          "name": "stderr",
          "text": [
            " 90%|█████████ | 180/200 [08:40<00:53,  2.66s/it]"
          ]
        },
        {
          "output_type": "stream",
          "name": "stdout",
          "text": [
            "Epoch 180, In-sample Loss: 0.0000, In-sample Accuracy: 0.9375\n",
            "Epoch 180, Out-sample Loss: 0.0035, Out-sample Accuracy: 0.0625\n"
          ]
        },
        {
          "output_type": "stream",
          "name": "stderr",
          "text": [
            " 90%|█████████ | 181/200 [08:44<00:57,  3.00s/it]"
          ]
        },
        {
          "output_type": "stream",
          "name": "stdout",
          "text": [
            "Epoch 181, In-sample Loss: 0.0001, In-sample Accuracy: 0.8750\n",
            "Epoch 181, Out-sample Loss: 0.0036, Out-sample Accuracy: 0.0000\n"
          ]
        },
        {
          "output_type": "stream",
          "name": "stderr",
          "text": [
            " 91%|█████████ | 182/200 [08:48<00:57,  3.21s/it]"
          ]
        },
        {
          "output_type": "stream",
          "name": "stdout",
          "text": [
            "Epoch 182, In-sample Loss: 0.0001, In-sample Accuracy: 0.7500\n",
            "Epoch 182, Out-sample Loss: 0.0035, Out-sample Accuracy: 0.0000\n"
          ]
        },
        {
          "output_type": "stream",
          "name": "stderr",
          "text": [
            " 92%|█████████▏| 183/200 [08:50<00:50,  2.99s/it]"
          ]
        },
        {
          "output_type": "stream",
          "name": "stdout",
          "text": [
            "Epoch 183, In-sample Loss: 0.0000, In-sample Accuracy: 0.9375\n",
            "Epoch 183, Out-sample Loss: 0.0035, Out-sample Accuracy: 0.0625\n"
          ]
        },
        {
          "output_type": "stream",
          "name": "stderr",
          "text": [
            " 92%|█████████▏| 184/200 [08:53<00:45,  2.84s/it]"
          ]
        },
        {
          "output_type": "stream",
          "name": "stdout",
          "text": [
            "Epoch 184, In-sample Loss: 0.0001, In-sample Accuracy: 0.5000\n",
            "Epoch 184, Out-sample Loss: 0.0035, Out-sample Accuracy: 0.0000\n"
          ]
        },
        {
          "output_type": "stream",
          "name": "stderr",
          "text": [
            " 92%|█████████▎| 185/200 [08:55<00:40,  2.73s/it]"
          ]
        },
        {
          "output_type": "stream",
          "name": "stdout",
          "text": [
            "Epoch 185, In-sample Loss: 0.0001, In-sample Accuracy: 0.8125\n",
            "Epoch 185, Out-sample Loss: 0.0036, Out-sample Accuracy: 0.0000\n"
          ]
        },
        {
          "output_type": "stream",
          "name": "stderr",
          "text": [
            " 93%|█████████▎| 186/200 [08:58<00:38,  2.74s/it]"
          ]
        },
        {
          "output_type": "stream",
          "name": "stdout",
          "text": [
            "Epoch 186, In-sample Loss: 0.0001, In-sample Accuracy: 0.8125\n",
            "Epoch 186, Out-sample Loss: 0.0035, Out-sample Accuracy: 0.0000\n"
          ]
        },
        {
          "output_type": "stream",
          "name": "stderr",
          "text": [
            " 94%|█████████▎| 187/200 [09:02<00:40,  3.14s/it]"
          ]
        },
        {
          "output_type": "stream",
          "name": "stdout",
          "text": [
            "Epoch 187, In-sample Loss: 0.0001, In-sample Accuracy: 0.7500\n",
            "Epoch 187, Out-sample Loss: 0.0035, Out-sample Accuracy: 0.0000\n"
          ]
        },
        {
          "output_type": "stream",
          "name": "stderr",
          "text": [
            " 94%|█████████▍| 188/200 [09:05<00:37,  3.13s/it]"
          ]
        },
        {
          "output_type": "stream",
          "name": "stdout",
          "text": [
            "Epoch 188, In-sample Loss: 0.0001, In-sample Accuracy: 0.5000\n",
            "Epoch 188, Out-sample Loss: 0.0035, Out-sample Accuracy: 0.1250\n"
          ]
        },
        {
          "output_type": "stream",
          "name": "stderr",
          "text": [
            " 94%|█████████▍| 189/200 [09:08<00:32,  2.93s/it]"
          ]
        },
        {
          "output_type": "stream",
          "name": "stdout",
          "text": [
            "Epoch 189, In-sample Loss: 0.0002, In-sample Accuracy: 0.1875\n",
            "Epoch 189, Out-sample Loss: 0.0036, Out-sample Accuracy: 0.0000\n"
          ]
        },
        {
          "output_type": "stream",
          "name": "stderr",
          "text": [
            " 95%|█████████▌| 190/200 [09:10<00:27,  2.79s/it]"
          ]
        },
        {
          "output_type": "stream",
          "name": "stdout",
          "text": [
            "Epoch 190, In-sample Loss: 0.0003, In-sample Accuracy: 0.0000\n",
            "Epoch 190, Out-sample Loss: 0.0037, Out-sample Accuracy: 0.0000\n"
          ]
        },
        {
          "output_type": "stream",
          "name": "stderr",
          "text": [
            " 96%|█████████▌| 191/200 [09:13<00:24,  2.70s/it]"
          ]
        },
        {
          "output_type": "stream",
          "name": "stdout",
          "text": [
            "Epoch 191, In-sample Loss: 0.0001, In-sample Accuracy: 0.3750\n",
            "Epoch 191, Out-sample Loss: 0.0037, Out-sample Accuracy: 0.0000\n"
          ]
        },
        {
          "output_type": "stream",
          "name": "stderr",
          "text": [
            " 96%|█████████▌| 192/200 [09:16<00:23,  2.88s/it]"
          ]
        },
        {
          "output_type": "stream",
          "name": "stdout",
          "text": [
            "Epoch 192, In-sample Loss: 0.0001, In-sample Accuracy: 0.8750\n",
            "Epoch 192, Out-sample Loss: 0.0037, Out-sample Accuracy: 0.0000\n"
          ]
        },
        {
          "output_type": "stream",
          "name": "stderr",
          "text": [
            " 96%|█████████▋| 193/200 [09:20<00:22,  3.22s/it]"
          ]
        },
        {
          "output_type": "stream",
          "name": "stdout",
          "text": [
            "Epoch 193, In-sample Loss: 0.0001, In-sample Accuracy: 0.7500\n",
            "Epoch 193, Out-sample Loss: 0.0038, Out-sample Accuracy: 0.0000\n"
          ]
        },
        {
          "output_type": "stream",
          "name": "stderr",
          "text": [
            " 97%|█████████▋| 194/200 [09:23<00:18,  3.06s/it]"
          ]
        },
        {
          "output_type": "stream",
          "name": "stdout",
          "text": [
            "Epoch 194, In-sample Loss: 0.0000, In-sample Accuracy: 0.7500\n",
            "Epoch 194, Out-sample Loss: 0.0037, Out-sample Accuracy: 0.0000\n"
          ]
        },
        {
          "output_type": "stream",
          "name": "stderr",
          "text": [
            " 98%|█████████▊| 195/200 [09:25<00:14,  2.87s/it]"
          ]
        },
        {
          "output_type": "stream",
          "name": "stdout",
          "text": [
            "Epoch 195, In-sample Loss: 0.0000, In-sample Accuracy: 0.8125\n",
            "Epoch 195, Out-sample Loss: 0.0036, Out-sample Accuracy: 0.0625\n"
          ]
        },
        {
          "output_type": "stream",
          "name": "stderr",
          "text": [
            " 98%|█████████▊| 196/200 [09:28<00:10,  2.75s/it]"
          ]
        },
        {
          "output_type": "stream",
          "name": "stdout",
          "text": [
            "Epoch 196, In-sample Loss: 0.0001, In-sample Accuracy: 0.7500\n",
            "Epoch 196, Out-sample Loss: 0.0035, Out-sample Accuracy: 0.0625\n"
          ]
        },
        {
          "output_type": "stream",
          "name": "stderr",
          "text": [
            " 98%|█████████▊| 197/200 [09:30<00:08,  2.68s/it]"
          ]
        },
        {
          "output_type": "stream",
          "name": "stdout",
          "text": [
            "Epoch 197, In-sample Loss: 0.0000, In-sample Accuracy: 0.8750\n",
            "Epoch 197, Out-sample Loss: 0.0035, Out-sample Accuracy: 0.0625\n"
          ]
        },
        {
          "output_type": "stream",
          "name": "stderr",
          "text": [
            " 99%|█████████▉| 198/200 [09:34<00:05,  2.96s/it]"
          ]
        },
        {
          "output_type": "stream",
          "name": "stdout",
          "text": [
            "Epoch 198, In-sample Loss: 0.0000, In-sample Accuracy: 0.8750\n",
            "Epoch 198, Out-sample Loss: 0.0035, Out-sample Accuracy: 0.0625\n"
          ]
        },
        {
          "output_type": "stream",
          "name": "stderr",
          "text": [
            "100%|█████████▉| 199/200 [09:38<00:03,  3.21s/it]"
          ]
        },
        {
          "output_type": "stream",
          "name": "stdout",
          "text": [
            "Epoch 199, In-sample Loss: 0.0001, In-sample Accuracy: 0.5000\n",
            "Epoch 199, Out-sample Loss: 0.0035, Out-sample Accuracy: 0.0000\n"
          ]
        },
        {
          "output_type": "stream",
          "name": "stderr",
          "text": [
            "100%|██████████| 200/200 [09:40<00:00,  2.90s/it]"
          ]
        },
        {
          "output_type": "stream",
          "name": "stdout",
          "text": [
            "Epoch 200, In-sample Loss: 0.0001, In-sample Accuracy: 0.5000\n",
            "Epoch 200, Out-sample Loss: 0.0035, Out-sample Accuracy: 0.0000\n",
            "Full-model for lr_base: 0.001 and lr_max: 0.01 done (with normalization).\n"
          ]
        },
        {
          "output_type": "stream",
          "name": "stderr",
          "text": [
            "\n"
          ]
        }
      ]
    },
    {
      "cell_type": "code",
      "source": [
        "import matplotlib.pyplot as plt\n",
        "import numpy as np\n",
        "\n",
        "# Create a 2x3 subplot grid\n",
        "fig, axes = plt.subplots(nrows=2, ncols=len(lr_to_test), figsize=(12, 6))\n",
        "\n",
        "for i, (lr_base, lr_max) in enumerate(lr_to_test):\n",
        "    axes[0, i].plot(full_standard_acc_history[i, :])\n",
        "    axes[0, i].set_title(f'Acc with lr {lr_base} to {lr_max} (standard)')\n",
        "    axes[0, i].set_ylim(0, 1)\n",
        "\n",
        "\n",
        "for i, (lr_base, lr_max) in enumerate(lr_to_test):\n",
        "    axes[1, i].plot(full_normalized_acc_history[i, :])\n",
        "    axes[1, i].set_title(f'Acc with lr {lr_base} to {lr_max} (normalized)')\n",
        "    axes[1, i].set_ylim(0, 1)\n",
        "\n",
        "\n",
        "# print(full_normalized_acc)\n",
        "\n",
        "\n",
        "\n",
        "# Adjust layout for better spacing\n",
        "plt.tight_layout()\n",
        "\n",
        "# Show the plots\n",
        "plt.show()\n",
        "\n",
        "\n",
        "\n"
      ],
      "metadata": {
        "id": "X76BK66DxfHk",
        "colab": {
          "base_uri": "https://localhost:8080/",
          "height": 607
        },
        "outputId": "5c6d8c90-a208-40b0-ca53-8f819cd6db32"
      },
      "execution_count": null,
      "outputs": [
        {
          "output_type": "display_data",
          "data": {
            "text/plain": [
              "<Figure size 1200x600 with 6 Axes>"
            ],
            "image/png": "[encoded data removed]"
          },
          "metadata": {}
        }
      ]
    },
    {
      "cell_type": "code",
      "source": [
        "# Loss\n",
        "import matplotlib.pyplot as plt\n",
        "import numpy as np\n",
        "\n",
        "# Create a 2x3 subplot grid\n",
        "fig, axes = plt.subplots(nrows=2, ncols=len(lr_to_test), figsize=(12, 6))\n",
        "\n",
        "for i, (lr_base, lr_max) in enumerate(lr_to_test):\n",
        "    axes[0, i].plot(full_standard_loss_history[i, :])\n",
        "    axes[0, i].set_title(f'Loss with lr {lr_base} to {lr_max} (standard)')\n",
        "    axes[0, i].set_ylim(0, 1500)\n",
        "\n",
        "\n",
        "\n",
        "for i, (lr_base, lr_max) in enumerate(lr_to_test):\n",
        "    axes[1, i].plot(full_normalized_loss_history[i, :])\n",
        "    axes[1, i].set_title(f'Loss with lr {lr_base} to {lr_max} (normalized)')\n",
        "    axes[1, i].set_ylim(0, 0.005)\n",
        "\n",
        "\n",
        "\n",
        "\n",
        "# Adjust layout for better spacing\n",
        "plt.tight_layout()\n",
        "\n",
        "# Show the plots\n",
        "plt.show()\n",
        "\n",
        "\n",
        "\n"
      ],
      "metadata": {
        "colab": {
          "base_uri": "https://localhost:8080/",
          "height": 607
        },
        "id": "hlwZ8cCCPAPp",
        "outputId": "e6af7f95-0f67-4955-aef8-1daeb45aa357"
      },
      "execution_count": null,
      "outputs": [
        {
          "output_type": "display_data",
          "data": {
            "text/plain": [
              "<Figure size 1200x600 with 6 Axes>"
            ],
            "image/png": "[encoded data removed]"
          },
          "metadata": {}
        }
      ]
    },
    {
      "cell_type": "code",
      "source": [
        "#np.save(f'/content/gdrive/MyDrive/license_plate/models/full_standard_acc.npy', full_standard_acc)\n",
        "#np.save(f'/content/gdrive/MyDrive/license_plate/models/full_normalized_acc.npy', full_normalized_acc)\n",
        "#np.save(f'/content/gdrive/MyDrive/license_plate/models/full_standard_loss.npy', full_standard_loss)\n",
        "#np.save(f'/content/gdrive/MyDrive/license_plate/models/full_normalized_loss.npy', full_normalized_loss)\n",
        "\n",
        "a = np.load('/content/gdrive/MyDrive/license_plate/models/full_normalized_acc.npy')\n",
        "print(a)"
      ],
      "metadata": {
        "id": "UCSaQi5VA1YM"
      },
      "execution_count": null,
      "outputs": []
    },
    {
      "cell_type": "markdown",
      "source": [
        "### Experiment : Removing layers from mobilenet\n"
      ],
      "metadata": {
        "id": "o4rT-Y6Fo9yB"
      }
    },
    {
      "cell_type": "markdown",
      "source": [
        "Explain what has been done: ..."
      ],
      "metadata": {
        "id": "ECU5U_dkq0Sm"
      }
    },
    {
      "cell_type": "code",
      "source": [
        "import torch\n",
        "import torch.nn as nn\n",
        "\n",
        "# Function to create the modified classifier\n",
        "def create_custom_classifier(input_features, hidden_units, output_features):\n",
        "    classifier = nn.Sequential(\n",
        "        nn.Linear(input_features, hidden_units),\n",
        "        nn.ReLU(),\n",
        "        nn.Dropout(0.0),\n",
        "        nn.Linear(hidden_units, output_features),\n",
        "    )\n",
        "    return classifier\n",
        "\n",
        "# Function to create a new MobileNetV3 model with modified layers\n",
        "def get_modified_mobilenet(num_layers_to_remove):\n",
        "    if not (1 <= num_layers_to_remove <= 12):\n",
        "        raise ValueError(\"num_layers_to_remove should be between 1 and 12.\")\n",
        "\n",
        "    # Load a pre-trained MobileNetV3 model\n",
        "    model = torch.hub.load('pytorch/vision:v0.10.0', 'mobilenet_v3_large', pretrained=True)\n",
        "\n",
        "    # Remove some layers from the features module\n",
        "    model.features = nn.Sequential(*list(model.features.children())[:-num_layers_to_remove])\n",
        "\n",
        "    # Update the input size of the custom classifier to match the output size of the modified features module\n",
        "    input_features = model.features[-1].out_channels\n",
        "    model.classifier = create_custom_classifier(input_features, hidden_units=100, output_features=4)\n",
        "\n",
        "    # Number of layers you want to fine-tune\n",
        "    layers_of_classifier = len(model.classifier)\n",
        "\n",
        "    # Get all the parameters from the model as a list\n",
        "    parameters = list(model.parameters())\n",
        "\n",
        "    # The total number of layers is the length of the parameters list\n",
        "    number_of_layers = len(parameters)\n",
        "\n",
        "    # Calculate the number of pretrained layers (all except the last 'layers_of_classifier')\n",
        "    pretrained_layers = number_of_layers - layers_of_classifier\n",
        "\n",
        "    # Freeze the parameters of the pretrained base layers\n",
        "    for param in parameters[:-layers_of_classifier]:\n",
        "        param.requires_grad = False\n",
        "\n",
        "    # Unfreeze the parameters of the last 'layers_of_classifier' layers\n",
        "    for param in parameters[-layers_of_classifier:]:\n",
        "        param.requires_grad = True\n",
        "\n",
        "    # Set the model to evaluation mode if not training\n",
        "    model.eval()\n",
        "    return model\n",
        "\n",
        "# # Get the modified model\n",
        "# modified_model = get_modified_mobilenet()\n",
        "\n",
        "# # Print the modified model architecture\n",
        "# print(modified_model)\n",
        "\n",
        "# check_requires_grad(modified_model)"
      ],
      "metadata": {
        "id": "Pj65daiUqrRX"
      },
      "execution_count": null,
      "outputs": []
    },
    {
      "cell_type": "code",
      "source": [
        "# Define model, loss function, optimizers, and schedulers\n",
        "model = get_modified_mobilenet(num_layers_to_remove=3)\n",
        "\n",
        "trained_model = train_full_model(model)"
      ],
      "metadata": {
        "colab": {
          "base_uri": "https://localhost:8080/"
        },
        "id": "Gw02KLburnUe",
        "outputId": "daa5227f-c27a-4594-eb59-d66b477d68b3"
      },
      "execution_count": null,
      "outputs": [
        {
          "output_type": "stream",
          "name": "stderr",
          "text": [
            "Using cache found in /root/.cache/torch/hub/pytorch_vision_v0.10.0\n"
          ]
        },
        {
          "output_type": "stream",
          "name": "stdout",
          "text": [
            "Input dimensions to custom classifier: 160\n",
            "Starting training with decoder...\n"
          ]
        },
        {
          "output_type": "stream",
          "name": "stderr",
          "text": [
            " 20%|██        | 1/5 [00:02<00:11,  2.93s/it]"
          ]
        },
        {
          "output_type": "stream",
          "name": "stdout",
          "text": [
            "Epoch 1, In-sample Loss: 0.2146, In-sample Accuracy: 0.0000\n",
            "Epoch 1, Out-sample Loss: 0.2183, Out-sample Accuracy: 0.0000\n"
          ]
        },
        {
          "output_type": "stream",
          "name": "stderr",
          "text": [
            " 60%|██████    | 3/5 [00:05<00:03,  1.92s/it]"
          ]
        },
        {
          "output_type": "stream",
          "name": "stdout",
          "text": [
            "Epoch 3, In-sample Loss: 0.1101, In-sample Accuracy: 0.0000\n",
            "Epoch 3, Out-sample Loss: 0.1203, Out-sample Accuracy: 0.0000\n"
          ]
        },
        {
          "output_type": "stream",
          "name": "stderr",
          "text": [
            "100%|██████████| 5/5 [00:08<00:00,  1.79s/it]\n"
          ]
        },
        {
          "output_type": "stream",
          "name": "stdout",
          "text": [
            "Epoch 5, In-sample Loss: 0.0212, In-sample Accuracy: 0.0000\n",
            "Epoch 5, Out-sample Loss: 0.0324, Out-sample Accuracy: 0.0000\n",
            "Decoder training completed.\n",
            "Starting full model training with cyclic LR ...\n"
          ]
        },
        {
          "output_type": "stream",
          "name": "stderr",
          "text": [
            " 20%|██        | 1/5 [00:03<00:14,  3.61s/it]"
          ]
        },
        {
          "output_type": "stream",
          "name": "stdout",
          "text": [
            "Epoch 1, In-sample Loss: 0.0207, In-sample Accuracy: 0.0000\n",
            "Epoch 1, Out-sample Loss: 0.0316, Out-sample Accuracy: 0.0000\n"
          ]
        },
        {
          "output_type": "stream",
          "name": "stderr",
          "text": [
            " 60%|██████    | 3/5 [00:09<00:06,  3.17s/it]"
          ]
        },
        {
          "output_type": "stream",
          "name": "stdout",
          "text": [
            "Epoch 3, In-sample Loss: 0.0106, In-sample Accuracy: 0.0000\n",
            "Epoch 3, Out-sample Loss: 0.0214, Out-sample Accuracy: 0.0000\n"
          ]
        },
        {
          "output_type": "stream",
          "name": "stderr",
          "text": [
            "100%|██████████| 5/5 [00:12<00:00,  2.60s/it]\n"
          ]
        },
        {
          "output_type": "stream",
          "name": "stdout",
          "text": [
            "Epoch 5, In-sample Loss: 0.0049, In-sample Accuracy: 0.0000\n",
            "Epoch 5, Out-sample Loss: 0.0108, Out-sample Accuracy: 0.0000\n",
            "Full model training completed.\n",
            "Starting full model training with linear LR ...\n",
            "Adjusting learning rate of group 0 to 1.0000e-04.\n"
          ]
        },
        {
          "output_type": "stream",
          "name": "stderr",
          "text": [
            "\r  0%|          | 0/5 [00:00<?, ?it/s]"
          ]
        },
        {
          "output_type": "stream",
          "name": "stdout",
          "text": [
            "Adjusting learning rate of group 0 to 5.0000e-05.\n"
          ]
        },
        {
          "output_type": "stream",
          "name": "stderr",
          "text": [
            " 20%|██        | 1/5 [00:02<00:09,  2.35s/it]"
          ]
        },
        {
          "output_type": "stream",
          "name": "stdout",
          "text": [
            "Epoch 1, In-sample Loss: 0.0040, In-sample Accuracy: 0.0000\n",
            "Epoch 1, Out-sample Loss: 0.0096, Out-sample Accuracy: 0.0000\n"
          ]
        },
        {
          "output_type": "stream",
          "name": "stderr",
          "text": [
            "\r 40%|████      | 2/5 [00:03<00:04,  1.47s/it]"
          ]
        },
        {
          "output_type": "stream",
          "name": "stdout",
          "text": [
            "Adjusting learning rate of group 0 to 2.5000e-05.\n",
            "Adjusting learning rate of group 0 to 1.2500e-05.\n"
          ]
        },
        {
          "output_type": "stream",
          "name": "stderr",
          "text": [
            " 60%|██████    | 3/5 [00:05<00:03,  1.90s/it]"
          ]
        },
        {
          "output_type": "stream",
          "name": "stdout",
          "text": [
            "Epoch 3, In-sample Loss: 0.0037, In-sample Accuracy: 0.0000\n",
            "Epoch 3, Out-sample Loss: 0.0093, Out-sample Accuracy: 0.0000\n"
          ]
        },
        {
          "output_type": "stream",
          "name": "stderr",
          "text": [
            "\r 80%|████████  | 4/5 [00:06<00:01,  1.49s/it]"
          ]
        },
        {
          "output_type": "stream",
          "name": "stdout",
          "text": [
            "Adjusting learning rate of group 0 to 6.2500e-06.\n",
            "Adjusting learning rate of group 0 to 3.1250e-06.\n"
          ]
        },
        {
          "output_type": "stream",
          "name": "stderr",
          "text": [
            "100%|██████████| 5/5 [00:09<00:00,  1.95s/it]"
          ]
        },
        {
          "output_type": "stream",
          "name": "stdout",
          "text": [
            "Epoch 5, In-sample Loss: 0.0036, In-sample Accuracy: 0.0000\n",
            "Epoch 5, Out-sample Loss: 0.0093, Out-sample Accuracy: 0.0000\n"
          ]
        },
        {
          "output_type": "stream",
          "name": "stderr",
          "text": [
            "\n"
          ]
        }
      ]
    },
    {
      "cell_type": "markdown",
      "source": [
        "### Plot data"
      ],
      "metadata": {
        "id": "J7CkDJIgeSXt"
      }
    },
    {
      "cell_type": "code",
      "execution_count": null,
      "metadata": {
        "id": "H8s5ea1LC82K"
      },
      "outputs": [],
      "source": [
        "# #print a trainset with predicted label\n",
        "# # train_loader = DataLoader(data_loader, batch_size=1, shuffle=True, num_workers=1)\n",
        "\n",
        "# train_iter = iter(train_loader)\n",
        "\n",
        "# batch = next(train_iter)\n",
        "\n",
        "# X_batch, y_batch, _ = batch\n",
        "\n",
        "# image = batch[0][0]\n",
        "# labels = batch[1][0]\n",
        "\n",
        "# # Get predicted labels\n",
        "# X_batch = X_batch.permute(0,3,1,2).to(device)\n",
        "# pred = model(X_batch)\n",
        "# print(image.shape)\n",
        "# plot_img_and_boundingbox(image, labels)\n",
        "# plot_img_and_boundingbox(image, pred[0])"
      ]
    },
    {
      "cell_type": "code",
      "execution_count": null,
      "metadata": {
        "id": "RyFhpzW1OwKe"
      },
      "outputs": [],
      "source": [
        "# # Print a validation image with its predicted labels\n",
        "\n",
        "# validationloader = DataLoader(test_loader, batch_size=1, shuffle=True, num_workers=1)\n",
        "\n",
        "# validationloader_iter = iter(validationloader)\n",
        "\n",
        "# batch = next(validationloader_iter)\n",
        "\n",
        "# X_batch, y_batch, _ = batch\n",
        "# print(X_batch.shape)\n",
        "# print(y_batch.shape)\n",
        "\n",
        "# image = batch[0][0]\n",
        "# labels = batch[1][0]\n",
        "\n",
        "# # Get predicted labels\n",
        "# X_batch = X_batch.permute(0,3,1,2).to(device)\n",
        "# print(X_batch.shape)\n",
        "# pred = model(X_batch)\n",
        "\n",
        "# plot_img_and_boundingbox(image, labels)"
      ]
    },
    {
      "cell_type": "code",
      "execution_count": null,
      "metadata": {
        "id": "ytHrhFV8aX-C"
      },
      "outputs": [],
      "source": [
        "# plot_img_and_boundingbox(image,pred[0])\n",
        "# print(pred)\n",
        "# print(calculate_true_positives_in_batch(labels.view(1,4),pred[0].view(1,4))) # Need to change view since we dont have batch"
      ]
    },
    {
      "cell_type": "code",
      "execution_count": null,
      "metadata": {
        "id": "ghHYl7RzIXDF"
      },
      "outputs": [],
      "source": [
        "\n"
      ]
    }
  ],
  "metadata": {
    "accelerator": "GPU",
    "colab": {
      "provenance": [],
      "gpuType": "T4"
    },
    "kernelspec": {
      "display_name": "Python 3",
      "name": "python3"
    },
    "language_info": {
      "codemirror_mode": {
        "name": "ipython",
        "version": 3
      },
      "file_extension": ".py",
      "mimetype": "text/x-python",
      "name": "python",
      "nbconvert_exporter": "python",
      "pygments_lexer": "ipython3",
      "version": "3.11.5"
    }
  },
  "nbformat": 4,
  "nbformat_minor": 0
}