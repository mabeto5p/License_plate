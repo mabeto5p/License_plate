{
  "cells": [
    {
      "cell_type": "code",
      "execution_count": null,
      "metadata": {
        "colab": {
          "base_uri": "https://localhost:8080/"
        },
        "id": "8L3Bt81myNxC",
        "outputId": "73db6eed-2328-4565-e480-e6f248e1ef31"
      },
      "outputs": [
        {
          "output_type": "stream",
          "name": "stdout",
          "text": [
            "Drive already mounted at /content/gdrive; to attempt to forcibly remount, call drive.mount(\"/content/gdrive\", force_remount=True).\n"
          ]
        }
      ],
      "source": [
        "# External libraries used for various tasks in later parts of the code\n",
        "from PIL import Image\n",
        "import matplotlib.pyplot as plt\n",
        "import cv2\n",
        "import xml.etree.ElementTree as ET\n",
        "from torch.utils.data import Dataset\n",
        "from imutils import paths\n",
        "import torch\n",
        "import torch.nn as nn\n",
        "import time\n",
        "import numpy as np\n",
        "import torch.optim as optim\n",
        "from tqdm.notebook import tqdm\n",
        "import os\n",
        "\n",
        "# Check if running on Google Colab and set the data paths accordingly\n",
        "is_running_on_colab = 'COLAB_GPU' in os.environ\n",
        "if is_running_on_colab:\n",
        "    from google.colab import drive\n",
        "    drive.mount('/content/gdrive')\n",
        "    data_path = '/content/gdrive/MyDrive/license_plate/data/'\n",
        "    test_path = '/content/gdrive/MyDrive/license_plate/testdata/'\n",
        "else:\n",
        "    current_dir = os.getcwd()\n",
        "    data_path = os.path.join(current_dir, 'dataset', 'license_plate', 'data')\n",
        "    test_path = os.path.join(current_dir, 'dataset', 'license_plate', 'test_data')\n",
        "\n",
        "# Function to check if directories exist\n",
        "def check_directories_exist(*paths):\n",
        "    for path in paths:\n",
        "        assert os.path.isdir(path), f\"The directory {path} does not exist.\"\n",
        "\n",
        "# Check the directories\n",
        "check_directories_exist(data_path, test_path)\n",
        "\n",
        "data_link = \"https://drive.google.com/open?id=1rdEsCUcIUaYOVRkx5IMTRNA7PcGMmSgc\""
      ]
    },
    {
      "cell_type": "code",
      "execution_count": null,
      "metadata": {
        "id": "8KmlcMPjCpiI"
      },
      "outputs": [],
      "source": [
        "from torch.utils.data import Dataset\n",
        "import cv2\n",
        "from imutils import paths\n",
        "import os\n",
        "import torch\n",
        "\n",
        "class LabelFpsDataLoader(Dataset):\n",
        "    def __init__(self, img_dirs, img_size, is_transform=None):\n",
        "        self.img_paths = [p for img_dir in img_dirs for p in paths.list_images(img_dir)]\n",
        "        self.img_size = img_size\n",
        "        self.is_transform = is_transform\n",
        "\n",
        "    def __len__(self):\n",
        "        return len(self.img_paths)\n",
        "\n",
        "    def __getitem__(self, index):\n",
        "        img_name = self.img_paths[index]\n",
        "        img = cv2.imread(img_name)\n",
        "        resized_image = self.transform_image(img)\n",
        "\n",
        "        file_name = os.path.splitext(os.path.basename(img_name))[0]\n",
        "        labels = self.extract_labels(file_name, img.shape)\n",
        "\n",
        "        return resized_image, labels, img_name\n",
        "\n",
        "    def transform_image(self, img):\n",
        "        resized_image = cv2.resize(img, self.img_size).astype('float32') / 255.0\n",
        "        # print(resized_image.dtype)\n",
        "        # Normalization - Adjust mean and std if necessary\n",
        "        mean = np.array([0.485, 0.456, 0.406], dtype=resized_image.dtype)\n",
        "        std = np.array([0.229, 0.224, 0.225],dtype=resized_image.dtype)\n",
        "\n",
        "        resized_image = (resized_image - mean) / std  # Normalize\n",
        "        # print(resized_image.dtype)\n",
        "        return resized_image\n",
        "\n",
        "    def extract_labels(self, file_name, img_shape):\n",
        "        parts = file_name.split('-')\n",
        "        points = [self.parse_point(part) for part in parts[2].split('_')]\n",
        "        ori_w, ori_h = img_shape[1], img_shape[0]\n",
        "        scale_w, scale_h = self.img_size[0] / ori_w, self.img_size[1] / ori_h\n",
        "        scaled_points = [(int(x * scale_w), int(y * scale_h)) for x, y in points]\n",
        "        flattened_labels = [coord for point in scaled_points for coord in point]\n",
        "        return torch.tensor(flattened_labels, dtype=torch.float32)\n",
        "\n",
        "    @staticmethod\n",
        "    def parse_point(point_str):\n",
        "        return tuple(int(coord) for coord in point_str.split('&'))\n"
      ]
    },
    {
      "cell_type": "code",
      "execution_count": null,
      "metadata": {
        "colab": {
          "base_uri": "https://localhost:8080/"
        },
        "id": "xW--T__29pGG",
        "outputId": "16163461-ae7f-46f0-b5e7-0c96680d6a80"
      },
      "outputs": [
        {
          "output_type": "stream",
          "name": "stdout",
          "text": [
            "Length of dataset: 427\n",
            "Image shape: (224, 224, 3)\n",
            "Labels: tensor([100.,  98., 129., 104.])\n",
            "Image name: /content/gdrive/MyDrive/license_plate/data/0036-0_1-323&509_417&541-416&541_323&540_324&509_417&510-0_0_27_14_24_24_29-63-24.jpg\n",
            "Item retrieval successful.\n",
            "Got out here\n"
          ]
        }
      ],
      "source": [
        "# Initialize your dataset\n",
        "img_dirs = [data_path]  # Replace with actual paths to your image directories\n",
        "img_size = (224, 224)  # Replace with your desired image size\n",
        "dataset = LabelFpsDataLoader(img_dirs=img_dirs, img_size=img_size)  # Use 'img_dirs' as the correct argument name\n",
        "\n",
        "# Test the length of the dataset\n",
        "print(f\"Length of dataset: {len(dataset)}\")\n",
        "#\n",
        "# Test getting an item\n",
        "try:\n",
        "    # Retrieve the first item\n",
        "    img, labels, img_name = dataset[0]\n",
        "\n",
        "    # Check the shapes and types\n",
        "    print(f\"Image shape: {img.shape}\")\n",
        "    print(f\"Labels: {labels}\")\n",
        "    print(f\"Image name: {img_name}\")\n",
        "\n",
        "    # If the code reaches this point, the item has been retrieved successfully\n",
        "    print(\"Item retrieval successful.\")\n",
        "except Exception as e:\n",
        "    # If there is any error, print it out\n",
        "    print(f\"An error occurred: {e}\")\n",
        "finally:\n",
        "    print(\"Got out here\")\n"
      ]
    },
    {
      "cell_type": "code",
      "execution_count": null,
      "metadata": {
        "id": "AJ_NSb9iP0Rj"
      },
      "outputs": [],
      "source": [
        "import numpy as np\n",
        "import cv2\n",
        "import matplotlib.pyplot as plt\n",
        "\n",
        "def plot_img_and_boundingbox(image, labels):\n",
        "    # Assuming image is a PyTorch tensor, we need to first move it to CPU if it's on GPU,\n",
        "    # then detach it from the current graph, convert to numpy, and finally transpose it\n",
        "    # from (channels, height, width) to (height, width, channels)\n",
        "    numpy_array = image.cpu().detach().numpy()\n",
        "\n",
        "    # Convert from BGR to RGB format if the image was read by OpenCV\n",
        "    rgb_image = cv2.cvtColor(numpy_array, cv2.COLOR_BGR2RGB)\n",
        "\n",
        "    # Extract numerical values from tensors and convert to integers\n",
        "    left_up = (int(labels[0]), int(labels[1]))\n",
        "    right_down = (int(labels[2]), int(labels[3]))\n",
        "\n",
        "    # Draw rectangle on the image\n",
        "    new_image = cv2.rectangle(rgb_image, left_up, right_down, (255, 0, 0), 2)\n",
        "\n",
        "    # Display the image\n",
        "    plt.imshow(new_image)\n",
        "    plt.axis('off')  # Hide the axis\n",
        "    plt.show()\n",
        "\n",
        "# Example usage:\n",
        "# img, labels, _ = dataset[0]  # Assuming this is how you get an image and labels from your dataset\n",
        "# plot_img_and_boundingbox(img, labels)\n"
      ]
    },
    {
      "cell_type": "code",
      "execution_count": null,
      "metadata": {
        "colab": {
          "base_uri": "https://localhost:8080/"
        },
        "id": "Akmn3oBa9pGI",
        "outputId": "81d85542-c828-456b-9fa3-59f120cd92fa"
      },
      "outputs": [
        {
          "output_type": "stream",
          "name": "stderr",
          "text": [
            "Using cache found in /root/.cache/torch/hub/pytorch_vision_v0.10.0\n"
          ]
        }
      ],
      "source": [
        "import torch\n",
        "import torch.nn as nn\n",
        "\n",
        "\n",
        "# Function to create the modified classifier\n",
        "def create_custom_classifier(input_features, hidden_units, output_features):\n",
        "    classifier = nn.Sequential(\n",
        "        nn.Linear(input_features, hidden_units),\n",
        "        nn.ReLU(),\n",
        "        nn.Dropout(0.0),\n",
        "        #nn.BatchNorm1d(hidden_units),\n",
        "        nn.Linear(hidden_units, output_features),\n",
        "    )\n",
        "    return classifier\n",
        "\n",
        "# Load a pre-trained MobileNetV3 model\n",
        "model = torch.hub.load('pytorch/vision:v0.10.0', 'mobilenet_v3_large', pretrained=True)\n",
        "\n",
        "# Replace the classifier with a new one - adjust the input_features to match the last layer of MobileNetV3\n",
        "model.classifier = create_custom_classifier(input_features=960, hidden_units=100, output_features=4)\n",
        "#Sets model to training mode,e this is important for layers that have different functionalities depending on training or eval. for example BatchNorm\n",
        "model.train()\n",
        "def get_new_model():\n",
        "    model = torch.hub.load('pytorch/vision:v0.10.0', 'mobilenet_v3_large', pretrained=True)\n",
        "    model.classifier = create_custom_classifier(input_features=960, hidden_units=100, output_features=4)\n",
        "    model.train()\n",
        "    # Number of layers you want to fine-tune\n",
        "    layers_of_classifier = len(model.classifier)\n",
        "\n",
        "    # Get all the parameters from the model as a list\n",
        "    parameters = list(model.parameters())\n",
        "\n",
        "    # The total number of layers is the length of the parameters list\n",
        "    number_of_layers = len(parameters)\n",
        "    print(f\"Total number of layers is {number_of_layers}\")\n",
        "\n",
        "    # Calculate the number of pretrained layers (all except the last 'layers_of_classifier')\n",
        "    pretrained_layers = number_of_layers - layers_of_classifier\n",
        "    print(f\"Number of pretrained base layers is {pretrained_layers}\")\n",
        "\n",
        "    # Freeze the parameters of the pretrained base layers\n",
        "    for param in parameters[:-layers_of_classifier]:\n",
        "        param.requires_grad = False\n",
        "\n",
        "    # Unfreeze the parameters of the last 'layers_of_classifier' layers\n",
        "    for param in parameters[-layers_of_classifier:]:\n",
        "        param.requires_grad = True\n",
        "    return model\n",
        "\n"
      ]
    },
    {
      "cell_type": "code",
      "execution_count": null,
      "metadata": {
        "colab": {
          "base_uri": "https://localhost:8080/"
        },
        "id": "1SB-5KBQXiej",
        "outputId": "66817d47-46d1-408b-810e-b9d184c18401"
      },
      "outputs": [
        {
          "output_type": "stream",
          "name": "stdout",
          "text": [
            "Total number of layers is 174\n",
            "Number of pretrained base layers is 170\n"
          ]
        }
      ],
      "source": [
        "# Number of layers you want to fine-tune\n",
        "layers_of_classifier = len(model.classifier)\n",
        "\n",
        "# Get all the parameters from the model as a list\n",
        "parameters = list(model.parameters())\n",
        "\n",
        "# The total number of layers is the length of the parameters list\n",
        "number_of_layers = len(parameters)\n",
        "print(f\"Total number of layers is {number_of_layers}\")\n",
        "\n",
        "# Calculate the number of pretrained layers (all except the last 'layers_of_classifier')\n",
        "pretrained_layers = number_of_layers - layers_of_classifier\n",
        "print(f\"Number of pretrained base layers is {pretrained_layers}\")\n",
        "\n",
        "# Freeze the parameters of the pretrained base layers\n",
        "for param in parameters[:-layers_of_classifier]:\n",
        "    param.requires_grad = False\n",
        "\n",
        "# Unfreeze the parameters of the last 'layers_of_classifier' layers\n",
        "for param in parameters[-layers_of_classifier:]:\n",
        "    param.requires_grad = True"
      ]
    },
    {
      "cell_type": "code",
      "execution_count": null,
      "metadata": {
        "id": "qsf8PJ72ZFgy"
      },
      "outputs": [],
      "source": [
        "def check_requires_grad():\n",
        "  for name, param in model.named_parameters(): # Just to check\n",
        "    if name.startswith('classifier'):\n",
        "        print(f'Layer {name} - requires_grad: {param.requires_grad}')\n",
        "    if name.startswith('features'):\n",
        "        print(f'Layer {name} - requires_grad: {param.requires_grad}')\n",
        "device = torch.device(\"cuda\" if torch.cuda.is_available() else \"cpu\")\n",
        "\n",
        "\n",
        "# check_requires_grad()"
      ]
    },
    {
      "cell_type": "code",
      "execution_count": null,
      "metadata": {
        "id": "LTwomuz6N5Po"
      },
      "outputs": [],
      "source": [
        "# from datetime import datetime\n",
        "# def bb_intersection_over_union(boxA, boxB): # https://pyimagesearch.com/2016/11/07/intersection-over-union-iou-for-object-detection/\n",
        "# \t# determine the (x, y)-coordinates of the intersection rectangle\n",
        "# \txA = max(boxA[0], boxB[0])\n",
        "# \tyA = max(boxA[1], boxB[1])\n",
        "# \txB = min(boxA[2], boxB[2])\n",
        "# \tyB = min(boxA[3], boxB[3])\n",
        "# \t# compute the area of intersection rectangle\n",
        "# \tinterArea = max(0, xB - xA + 1) * max(0, yB - yA + 1)\n",
        "# \t# compute the area of both the prediction and ground-truth\n",
        "# \t# rectangles\n",
        "# \tboxAArea = (boxA[2] - boxA[0] + 1) * (boxA[3] - boxA[1] + 1)\n",
        "# \tboxBArea = (boxB[2] - boxB[0] + 1) * (boxB[3] - boxB[1] + 1)\n",
        "# \t# compute the intersection over union by taking the intersection\n",
        "# \t# area and dividing it by the sum of prediction + ground-truth\n",
        "# \t# areas - the interesection area\n",
        "# \tiou = interArea / float(boxAArea + boxBArea - interArea)\n",
        "# \t# return the intersection over union value\n",
        "# \treturn iou\n",
        "\n",
        "# def calculate_true_positives_in_batch(y_pred, y_batch):\n",
        "#   threshold = 0.5\n",
        "#   true_positive_amount = 0\n",
        "#   for i in range(y_pred.shape[0]):\n",
        "#     y_pred_numpy = y_pred[i].cpu().detach().numpy()\n",
        "#     y_batch_numpy = y_batch[i].cpu().detach().numpy()\n",
        "#     iou = bb_intersection_over_union(y_pred_numpy, y_batch_numpy)\n",
        "#     if iou > threshold:\n",
        "#       true_positive_amount +=1\n",
        "#   return true_positive_amount\n",
        "\n",
        "# #wrapper of tqdm to enable toggling it off easily\n",
        "# def toggle_tqdm(iterable, use_tqdm=True):\n",
        "#   if use_tqdm:\n",
        "#     return tqdm(iterable)\n",
        "#   else:\n",
        "#     return iterable\n",
        "\n",
        "# def calculate_loss_and_accuracy(loader):\n",
        "#   total_loss = 0\n",
        "#   total_true_positives = 0\n",
        "#   total_samples = 0\n",
        "\n",
        "#   for X_batch_, y_batch, img_name in loader:\n",
        "#       X_batch = X_batch_.permute(0,3,1,2).to(device)\n",
        "#       y_batch = y_batch.to(device)\n",
        "#       y_pred = model(X_batch)\n",
        "\n",
        "#       total_true_positives += calculate_true_positives_in_batch(y_pred, y_batch)\n",
        "\n",
        "#       loss = loss_fn(y_pred, y_batch)\n",
        "#       total_loss += loss.item() * len(y_batch)  # Accumulate scaled loss\n",
        "#       total_samples += len(y_batch)  # Accumulate number of samples\n",
        "#   sample_loss = total_loss / total_samples  # Calculate average loss\n",
        "#   accuracy = total_true_positives / total_samples\n",
        "#   return sample_loss, accuracy\n",
        "\n",
        "# def save_model(model):\n",
        "#   # Get the current time\n",
        "#   current_time = datetime.now()\n",
        "\n",
        "#   # Format the time in a 'YearMonthDay_HourMinuteSecond' format for the filename\n",
        "#   timestamp = current_time.strftime('%Y%m%d_%H%M')\n",
        "#   model_path = f'/content/gdrive/MyDrive/license_plate/models/model_weights_{timestamp}.pth'\n",
        "#   torch.save(model.state_dict(), model_path)\n",
        "\n",
        "# def load_model(path):\n",
        "#   model.load_state_dict(torch.load(path))\n"
      ]
    },
    {
      "cell_type": "code",
      "source": [
        "def save_model(model):\n",
        "  # Get the current time\n",
        "  current_time = datetime.now()\n",
        "\n",
        "  # Format the time in a 'YearMonthDay_HourMinuteSecond' format for the filename\n",
        "  timestamp = current_time.strftime('%Y%m%d_%H%M')\n",
        "  model_path = f'/content/gdrive/MyDrive/license_plate/models/model_weights_{timestamp}.pth'\n",
        "  torch.save(model.state_dict(), model_path)\n",
        "\n",
        "def load_model(path):\n",
        "  model.load_state_dict(torch.load(path))"
      ],
      "metadata": {
        "id": "fAs1fLmwTcCy"
      },
      "execution_count": null,
      "outputs": []
    },
    {
      "cell_type": "code",
      "source": [
        "def bb_intersection_over_union(boxA, boxB):\n",
        "    # Compute the intersection over union on GPU\n",
        "    # Assumes boxA and boxB are tensors\n",
        "    xA = torch.max(boxA[..., 0], boxB[..., 0])\n",
        "    yA = torch.max(boxA[..., 1], boxB[..., 1])\n",
        "    xB = torch.min(boxA[..., 2], boxB[..., 2])\n",
        "    yB = torch.min(boxA[..., 3], boxB[..., 3])\n",
        "\n",
        "    interArea = torch.clamp(xB - xA, min=0) * torch.clamp(yB - yA, min=0)\n",
        "\n",
        "    boxAArea = (boxA[..., 2] - boxA[..., 0]) * (boxA[..., 3] - boxA[..., 1])\n",
        "    boxBArea = (boxB[..., 2] - boxB[..., 0]) * (boxB[..., 3] - boxB[..., 1])\n",
        "\n",
        "    iou = interArea / (boxAArea + boxBArea - interArea)\n",
        "    return iou\n",
        "\n",
        "def calculate_true_positives_in_batch(y_pred, y_batch, threshold=0.5):\n",
        "    # Calculate IoU for the batch\n",
        "    iou = bb_intersection_over_union(y_pred, y_batch)\n",
        "\n",
        "    # Count true positives in the batch\n",
        "    true_positives = torch.sum(iou > threshold).item()\n",
        "    return true_positives\n",
        "\n",
        "def calculate_loss_and_accuracy(loader, model, loss_fn, device):\n",
        "    model.eval()  # Set model to evaluation mode\n",
        "    total_loss = 0\n",
        "    total_true_positives = 0\n",
        "    total_samples = 0\n",
        "\n",
        "    with torch.no_grad():  # Disable gradient computation\n",
        "        for X_batch, y_batch, _ in loader:\n",
        "            X_batch = X_batch.permute(0,3,1,2).to(device)\n",
        "            y_batch = y_batch.to(device)\n",
        "            y_pred = model(X_batch)\n",
        "\n",
        "            total_true_positives += calculate_true_positives_in_batch(y_pred, y_batch)\n",
        "\n",
        "            loss = loss_fn(y_pred, y_batch)\n",
        "            total_loss += loss.item() * X_batch.size(0)  # Accumulate scaled loss\n",
        "            total_samples += X_batch.size(0)  # Accumulate number of samples\n",
        "\n",
        "    sample_loss = total_loss / total_samples  # Calculate average loss\n",
        "    accuracy = total_true_positives / total_samples  # Calculate accuracy\n",
        "    return sample_loss, accuracy\n"
      ],
      "metadata": {
        "id": "2QRQ0qnbND9t"
      },
      "execution_count": null,
      "outputs": []
    },
    {
      "cell_type": "code",
      "source": [
        "# load_model('/content/gdrive/MyDrive/license_plate/models/model_weights_20231106_1410.pth')\n"
      ],
      "metadata": {
        "id": "15nRrjd3_KGM"
      },
      "execution_count": null,
      "outputs": []
    },
    {
      "cell_type": "code",
      "execution_count": null,
      "metadata": {
        "id": "I2mUI6H5Arru"
      },
      "outputs": [],
      "source": [
        "import torch\n",
        "from torch.utils.data import DataLoader, Subset\n",
        "from datetime import datetime\n",
        "from tqdm import tqdm\n",
        "\n",
        "# Constants\n",
        "DEVICE = torch.device(\"cuda\" if torch.cuda.is_available() else \"cpu\")\n",
        "DATA_PATH = [data_path]\n",
        "TEST_PATH = [test_path]\n",
        "BATCH_SIZE = 2\n",
        "VAL_BATCH_SIZE = 2\n",
        "SUBSET_INDICES = 16\n",
        "SUBSET_VAL_INDICES = 16\n",
        "DECODER_EPOCHS = 50\n",
        "N_EPOCHS = 100\n",
        "USE_TQDM = True\n",
        "USE_SUBSET = True\n",
        "PRINT_EVERY = 5\n",
        "\n",
        "# Define model, loss function, optimizers, and schedulers\n",
        "model.to(DEVICE)\n",
        "loss_fn = nn.MSELoss()\n",
        "optimizer_decoder = optim.AdamW(model.parameters(), lr=1e-5)\n",
        "# scheduler_decoder = optim.lr_scheduler.OneCycleLR(optimizer_decoder, 1e-2, total_steps=DECODER_EPOCHS)\n",
        "scheduler_decoder = optim.lr_scheduler.CyclicLR(optimizer_decoder, base_lr=1e-5, max_lr=1e-3, cycle_momentum=False, step_size_up=DECODER_EPOCHS/6)\n",
        "optimizer_full = optim.AdamW(model.parameters(), lr=5e-6)\n",
        "scheduler_full = optim.lr_scheduler.CyclicLR(optimizer_decoder, base_lr=1e-5, max_lr=1e-4, cycle_momentum=False, step_size_up=N_EPOCHS/6)\n",
        "\n",
        "# Define dataloaders\n",
        "train_dataset = LabelFpsDataLoader(DATA_PATH, (500, 1000))\n",
        "train_loader = DataLoader(train_dataset, batch_size=BATCH_SIZE, shuffle=True, num_workers=2)\n",
        "val_dataset = LabelFpsDataLoader(TEST_PATH, (500, 1000))\n",
        "validation_loader = DataLoader(val_dataset, batch_size=VAL_BATCH_SIZE, shuffle=True, num_workers=2)\n",
        "\n",
        "# Use subsets for faster iterations during development\n",
        "if USE_SUBSET:\n",
        "    train_dataset = Subset(train_dataset, indices=range(SUBSET_INDICES))\n",
        "    val_dataset = Subset(val_dataset, indices=range(SUBSET_VAL_INDICES))\n",
        "    train_loader = DataLoader(train_dataset, batch_size=BATCH_SIZE, shuffle=True, num_workers=2, pin_memory=True)\n",
        "    validation_loader = DataLoader(val_dataset, batch_size=BATCH_SIZE, shuffle=True, num_workers=2)\n",
        "\n",
        "# Training functions\n",
        "def train_epoch(dataloader, optimizer, model, loss_fn, scaler):\n",
        "    for X_batch, y_batch, _ in dataloader:\n",
        "        optimizer.zero_grad()\n",
        "        X_batch = X_batch.permute(0, 3, 1, 2).to(DEVICE)\n",
        "        y_batch = y_batch.to(DEVICE)\n",
        "        with torch.cuda.amp.autocast():\n",
        "            y_pred = model(X_batch)\n",
        "            loss = loss_fn(y_pred, y_batch)\n",
        "        scaler.scale(loss).backward()\n",
        "        scaler.step(optimizer)\n",
        "        scaler.update()\n",
        "\n",
        "def train_model(n_epochs, optimizer, scheduler, dataloader, val_loader, model, loss_fn):\n",
        "    train_loss_history = []\n",
        "    val_loss_history = []\n",
        "    train_accuracy_history = []\n",
        "    val_accuracy_history = []\n",
        "    scaler = torch.cuda.amp.GradScaler()\n",
        "\n",
        "    for epoch in tqdm(range(n_epochs)):\n",
        "        model.train()\n",
        "        # print(f\"epoch: {epoch}\")\n",
        "        train_epoch(dataloader, optimizer, model, loss_fn, scaler)\n",
        "        scheduler.step()\n",
        "\n",
        "        if epoch % PRINT_EVERY == 0:\n",
        "            model.eval()\n",
        "            with torch.no_grad():\n",
        "                # In-sample\n",
        "                in_sample_loss, in_sample_accuracy = calculate_loss_and_accuracy(dataloader, model, loss_fn, device)\n",
        "\n",
        "                train_loss_history.append(in_sample_loss)\n",
        "                train_accuracy_history.append(in_sample_accuracy)\n",
        "\n",
        "                # Out-sample\n",
        "                out_sample_loss, out_sample_accuracy = calculate_loss_and_accuracy(val_loader, model, loss_fn, device)\n",
        "                val_loss_history.append(out_sample_loss)\n",
        "                val_accuracy_history.append(out_sample_accuracy)\n",
        "\n",
        "                if USE_TQDM:\n",
        "                    tqdm.write(f'Epoch {epoch + 1}, In-sample Loss: {in_sample_loss:.4f}, In-sample Accuracy: {in_sample_accuracy:.4f}')\n",
        "                    tqdm.write(f'Epoch {epoch + 1}, Out-sample Loss: {out_sample_loss:.4f}, Out-sample Accuracy: {out_sample_accuracy:.4f}')\n",
        "\n",
        "    return train_loss_history, val_loss_history, train_accuracy_history, val_accuracy_history\n",
        "\n",
        "\n",
        "\n"
      ]
    },
    {
      "cell_type": "code",
      "source": [
        "# Training and validation functions are assumed to be defined above this script\n",
        "\n",
        "# Train the model with the decoder first\n",
        "print(\"Starting training with decoder...\")\n",
        "decoder_loss_history, decoder_val_loss_history, decoder_test_accuracy_history, decoder_val_accuracy_history = train_model(\n",
        "    n_epochs=DECODER_EPOCHS,\n",
        "    optimizer=optimizer_decoder,\n",
        "    scheduler=scheduler_decoder,\n",
        "    dataloader=train_loader,\n",
        "    val_loader=validation_loader,\n",
        "    model=model,\n",
        "    loss_fn=loss_fn\n",
        ")\n",
        "save_model(model)\n",
        "# print(\"Decoder training completed.\")\n",
        "\n",
        "# Unfreeze model layers for full model training\n",
        "for param in model.parameters():\n",
        "    param.requires_grad = True\n",
        "\n",
        "# Now train the full model\n",
        "print(\"Starting full model training...\")\n",
        "full_loss_history, full_val_loss_history, full_test_accuracy_history, full_val_accuracy_history = train_model(\n",
        "    n_epochs=N_EPOCHS,\n",
        "    optimizer=optimizer_full,\n",
        "    scheduler=scheduler_full,\n",
        "    dataloader=train_loader,  # Assuming train_loader_finetuning is the same as train_loader\n",
        "    val_loader=validation_loader,\n",
        "    model=model,\n",
        "    loss_fn=loss_fn\n",
        ")\n",
        "save_model(model)\n",
        "print(\"Full model training completed.\")\n"
      ],
      "metadata": {
        "colab": {
          "base_uri": "https://localhost:8080/",
          "height": 515
        },
        "id": "LQlYbSMiQc5K",
        "outputId": "e7d8c9cd-7ba5-4af0-f3d9-e9ac0a2c151b"
      },
      "execution_count": null,
      "outputs": [
        {
          "output_type": "stream",
          "name": "stdout",
          "text": [
            "Starting training with decoder...\n"
          ]
        },
        {
          "output_type": "stream",
          "name": "stderr",
          "text": [
            "\r  0%|          | 0/50 [00:00<?, ?it/s]/usr/local/lib/python3.10/dist-packages/torch/optim/lr_scheduler.py:136: UserWarning: Detected call of `lr_scheduler.step()` before `optimizer.step()`. In PyTorch 1.1.0 and later, you should call them in the opposite order: `optimizer.step()` before `lr_scheduler.step()`.  Failure to do this will result in PyTorch skipping the first value of the learning rate schedule. See more details at https://pytorch.org/docs/stable/optim.html#how-to-adjust-learning-rate\n",
            "  warnings.warn(\"Detected call of `lr_scheduler.step()` before `optimizer.step()`. \"\n",
            "  2%|▏         | 1/50 [00:03<02:55,  3.57s/it]"
          ]
        },
        {
          "output_type": "stream",
          "name": "stdout",
          "text": [
            "Epoch 1, In-sample Loss: 124177.8086, In-sample Accuracy: 0.0000\n",
            "Epoch 1, Out-sample Loss: 131523.6006, Out-sample Accuracy: 0.0000\n"
          ]
        },
        {
          "output_type": "stream",
          "name": "stderr",
          "text": [
            "  6%|▌         | 3/50 [00:05<01:26,  1.84s/it]\n"
          ]
        },
        {
          "output_type": "error",
          "ename": "KeyboardInterrupt",
          "evalue": "ignored",
          "traceback": [
            "\u001b[0;31m---------------------------------------------------------------------------\u001b[0m",
            "\u001b[0;31mKeyboardInterrupt\u001b[0m                         Traceback (most recent call last)",
            "\u001b[0;32m<ipython-input-34-0d614b531f9d>\u001b[0m in \u001b[0;36m<cell line: 5>\u001b[0;34m()\u001b[0m\n\u001b[1;32m      3\u001b[0m \u001b[0;31m# Train the model with the decoder first\u001b[0m\u001b[0;34m\u001b[0m\u001b[0;34m\u001b[0m\u001b[0m\n\u001b[1;32m      4\u001b[0m \u001b[0mprint\u001b[0m\u001b[0;34m(\u001b[0m\u001b[0;34m\"Starting training with decoder...\"\u001b[0m\u001b[0;34m)\u001b[0m\u001b[0;34m\u001b[0m\u001b[0;34m\u001b[0m\u001b[0m\n\u001b[0;32m----> 5\u001b[0;31m decoder_loss_history, decoder_val_loss_history, decoder_test_accuracy_history, decoder_val_accuracy_history = train_model(\n\u001b[0m\u001b[1;32m      6\u001b[0m     \u001b[0mn_epochs\u001b[0m\u001b[0;34m=\u001b[0m\u001b[0mDECODER_EPOCHS\u001b[0m\u001b[0;34m,\u001b[0m\u001b[0;34m\u001b[0m\u001b[0;34m\u001b[0m\u001b[0m\n\u001b[1;32m      7\u001b[0m     \u001b[0moptimizer\u001b[0m\u001b[0;34m=\u001b[0m\u001b[0moptimizer_decoder\u001b[0m\u001b[0;34m,\u001b[0m\u001b[0;34m\u001b[0m\u001b[0;34m\u001b[0m\u001b[0m\n",
            "\u001b[0;32m<ipython-input-33-e561bcada562>\u001b[0m in \u001b[0;36mtrain_model\u001b[0;34m(n_epochs, optimizer, scheduler, dataloader, val_loader, model, loss_fn)\u001b[0m\n\u001b[1;32m     63\u001b[0m         \u001b[0mmodel\u001b[0m\u001b[0;34m.\u001b[0m\u001b[0mtrain\u001b[0m\u001b[0;34m(\u001b[0m\u001b[0;34m)\u001b[0m\u001b[0;34m\u001b[0m\u001b[0;34m\u001b[0m\u001b[0m\n\u001b[1;32m     64\u001b[0m         \u001b[0;31m# print(f\"epoch: {epoch}\")\u001b[0m\u001b[0;34m\u001b[0m\u001b[0;34m\u001b[0m\u001b[0m\n\u001b[0;32m---> 65\u001b[0;31m         \u001b[0mtrain_epoch\u001b[0m\u001b[0;34m(\u001b[0m\u001b[0mdataloader\u001b[0m\u001b[0;34m,\u001b[0m \u001b[0moptimizer\u001b[0m\u001b[0;34m,\u001b[0m \u001b[0mmodel\u001b[0m\u001b[0;34m,\u001b[0m \u001b[0mloss_fn\u001b[0m\u001b[0;34m,\u001b[0m \u001b[0mscaler\u001b[0m\u001b[0;34m)\u001b[0m\u001b[0;34m\u001b[0m\u001b[0;34m\u001b[0m\u001b[0m\n\u001b[0m\u001b[1;32m     66\u001b[0m         \u001b[0mscheduler\u001b[0m\u001b[0;34m.\u001b[0m\u001b[0mstep\u001b[0m\u001b[0;34m(\u001b[0m\u001b[0;34m)\u001b[0m\u001b[0;34m\u001b[0m\u001b[0;34m\u001b[0m\u001b[0m\n\u001b[1;32m     67\u001b[0m \u001b[0;34m\u001b[0m\u001b[0m\n",
            "\u001b[0;32m<ipython-input-33-e561bcada562>\u001b[0m in \u001b[0;36mtrain_epoch\u001b[0;34m(dataloader, optimizer, model, loss_fn, scaler)\u001b[0m\n\u001b[1;32m     42\u001b[0m \u001b[0;31m# Training functions\u001b[0m\u001b[0;34m\u001b[0m\u001b[0;34m\u001b[0m\u001b[0m\n\u001b[1;32m     43\u001b[0m \u001b[0;32mdef\u001b[0m \u001b[0mtrain_epoch\u001b[0m\u001b[0;34m(\u001b[0m\u001b[0mdataloader\u001b[0m\u001b[0;34m,\u001b[0m \u001b[0moptimizer\u001b[0m\u001b[0;34m,\u001b[0m \u001b[0mmodel\u001b[0m\u001b[0;34m,\u001b[0m \u001b[0mloss_fn\u001b[0m\u001b[0;34m,\u001b[0m \u001b[0mscaler\u001b[0m\u001b[0;34m)\u001b[0m\u001b[0;34m:\u001b[0m\u001b[0;34m\u001b[0m\u001b[0;34m\u001b[0m\u001b[0m\n\u001b[0;32m---> 44\u001b[0;31m     \u001b[0;32mfor\u001b[0m \u001b[0mX_batch\u001b[0m\u001b[0;34m,\u001b[0m \u001b[0my_batch\u001b[0m\u001b[0;34m,\u001b[0m \u001b[0m_\u001b[0m \u001b[0;32min\u001b[0m \u001b[0mdataloader\u001b[0m\u001b[0;34m:\u001b[0m\u001b[0;34m\u001b[0m\u001b[0;34m\u001b[0m\u001b[0m\n\u001b[0m\u001b[1;32m     45\u001b[0m         \u001b[0moptimizer\u001b[0m\u001b[0;34m.\u001b[0m\u001b[0mzero_grad\u001b[0m\u001b[0;34m(\u001b[0m\u001b[0;34m)\u001b[0m\u001b[0;34m\u001b[0m\u001b[0;34m\u001b[0m\u001b[0m\n\u001b[1;32m     46\u001b[0m         \u001b[0mX_batch\u001b[0m \u001b[0;34m=\u001b[0m \u001b[0mX_batch\u001b[0m\u001b[0;34m.\u001b[0m\u001b[0mpermute\u001b[0m\u001b[0;34m(\u001b[0m\u001b[0;36m0\u001b[0m\u001b[0;34m,\u001b[0m \u001b[0;36m3\u001b[0m\u001b[0;34m,\u001b[0m \u001b[0;36m1\u001b[0m\u001b[0;34m,\u001b[0m \u001b[0;36m2\u001b[0m\u001b[0;34m)\u001b[0m\u001b[0;34m.\u001b[0m\u001b[0mto\u001b[0m\u001b[0;34m(\u001b[0m\u001b[0mDEVICE\u001b[0m\u001b[0;34m)\u001b[0m\u001b[0;34m\u001b[0m\u001b[0;34m\u001b[0m\u001b[0m\n",
            "\u001b[0;32m/usr/local/lib/python3.10/dist-packages/torch/utils/data/dataloader.py\u001b[0m in \u001b[0;36m__next__\u001b[0;34m(self)\u001b[0m\n\u001b[1;32m    628\u001b[0m                 \u001b[0;31m# TODO(https://github.com/pytorch/pytorch/issues/76750)\u001b[0m\u001b[0;34m\u001b[0m\u001b[0;34m\u001b[0m\u001b[0m\n\u001b[1;32m    629\u001b[0m                 \u001b[0mself\u001b[0m\u001b[0;34m.\u001b[0m\u001b[0m_reset\u001b[0m\u001b[0;34m(\u001b[0m\u001b[0;34m)\u001b[0m  \u001b[0;31m# type: ignore[call-arg]\u001b[0m\u001b[0;34m\u001b[0m\u001b[0;34m\u001b[0m\u001b[0m\n\u001b[0;32m--> 630\u001b[0;31m             \u001b[0mdata\u001b[0m \u001b[0;34m=\u001b[0m \u001b[0mself\u001b[0m\u001b[0;34m.\u001b[0m\u001b[0m_next_data\u001b[0m\u001b[0;34m(\u001b[0m\u001b[0;34m)\u001b[0m\u001b[0;34m\u001b[0m\u001b[0;34m\u001b[0m\u001b[0m\n\u001b[0m\u001b[1;32m    631\u001b[0m             \u001b[0mself\u001b[0m\u001b[0;34m.\u001b[0m\u001b[0m_num_yielded\u001b[0m \u001b[0;34m+=\u001b[0m \u001b[0;36m1\u001b[0m\u001b[0;34m\u001b[0m\u001b[0;34m\u001b[0m\u001b[0m\n\u001b[1;32m    632\u001b[0m             \u001b[0;32mif\u001b[0m \u001b[0mself\u001b[0m\u001b[0;34m.\u001b[0m\u001b[0m_dataset_kind\u001b[0m \u001b[0;34m==\u001b[0m \u001b[0m_DatasetKind\u001b[0m\u001b[0;34m.\u001b[0m\u001b[0mIterable\u001b[0m \u001b[0;32mand\u001b[0m\u001b[0;31m \u001b[0m\u001b[0;31m\\\u001b[0m\u001b[0;34m\u001b[0m\u001b[0;34m\u001b[0m\u001b[0m\n",
            "\u001b[0;32m/usr/local/lib/python3.10/dist-packages/torch/utils/data/dataloader.py\u001b[0m in \u001b[0;36m_next_data\u001b[0;34m(self)\u001b[0m\n\u001b[1;32m   1326\u001b[0m \u001b[0;34m\u001b[0m\u001b[0m\n\u001b[1;32m   1327\u001b[0m             \u001b[0;32massert\u001b[0m \u001b[0;32mnot\u001b[0m \u001b[0mself\u001b[0m\u001b[0;34m.\u001b[0m\u001b[0m_shutdown\u001b[0m \u001b[0;32mand\u001b[0m \u001b[0mself\u001b[0m\u001b[0;34m.\u001b[0m\u001b[0m_tasks_outstanding\u001b[0m \u001b[0;34m>\u001b[0m \u001b[0;36m0\u001b[0m\u001b[0;34m\u001b[0m\u001b[0;34m\u001b[0m\u001b[0m\n\u001b[0;32m-> 1328\u001b[0;31m             \u001b[0midx\u001b[0m\u001b[0;34m,\u001b[0m \u001b[0mdata\u001b[0m \u001b[0;34m=\u001b[0m \u001b[0mself\u001b[0m\u001b[0;34m.\u001b[0m\u001b[0m_get_data\u001b[0m\u001b[0;34m(\u001b[0m\u001b[0;34m)\u001b[0m\u001b[0;34m\u001b[0m\u001b[0;34m\u001b[0m\u001b[0m\n\u001b[0m\u001b[1;32m   1329\u001b[0m             \u001b[0mself\u001b[0m\u001b[0;34m.\u001b[0m\u001b[0m_tasks_outstanding\u001b[0m \u001b[0;34m-=\u001b[0m \u001b[0;36m1\u001b[0m\u001b[0;34m\u001b[0m\u001b[0;34m\u001b[0m\u001b[0m\n\u001b[1;32m   1330\u001b[0m             \u001b[0;32mif\u001b[0m \u001b[0mself\u001b[0m\u001b[0;34m.\u001b[0m\u001b[0m_dataset_kind\u001b[0m \u001b[0;34m==\u001b[0m \u001b[0m_DatasetKind\u001b[0m\u001b[0;34m.\u001b[0m\u001b[0mIterable\u001b[0m\u001b[0;34m:\u001b[0m\u001b[0;34m\u001b[0m\u001b[0;34m\u001b[0m\u001b[0m\n",
            "\u001b[0;32m/usr/local/lib/python3.10/dist-packages/torch/utils/data/dataloader.py\u001b[0m in \u001b[0;36m_get_data\u001b[0;34m(self)\u001b[0m\n\u001b[1;32m   1282\u001b[0m         \u001b[0;32melif\u001b[0m \u001b[0mself\u001b[0m\u001b[0;34m.\u001b[0m\u001b[0m_pin_memory\u001b[0m\u001b[0;34m:\u001b[0m\u001b[0;34m\u001b[0m\u001b[0;34m\u001b[0m\u001b[0m\n\u001b[1;32m   1283\u001b[0m             \u001b[0;32mwhile\u001b[0m \u001b[0mself\u001b[0m\u001b[0;34m.\u001b[0m\u001b[0m_pin_memory_thread\u001b[0m\u001b[0;34m.\u001b[0m\u001b[0mis_alive\u001b[0m\u001b[0;34m(\u001b[0m\u001b[0;34m)\u001b[0m\u001b[0;34m:\u001b[0m\u001b[0;34m\u001b[0m\u001b[0;34m\u001b[0m\u001b[0m\n\u001b[0;32m-> 1284\u001b[0;31m                 \u001b[0msuccess\u001b[0m\u001b[0;34m,\u001b[0m \u001b[0mdata\u001b[0m \u001b[0;34m=\u001b[0m \u001b[0mself\u001b[0m\u001b[0;34m.\u001b[0m\u001b[0m_try_get_data\u001b[0m\u001b[0;34m(\u001b[0m\u001b[0;34m)\u001b[0m\u001b[0;34m\u001b[0m\u001b[0;34m\u001b[0m\u001b[0m\n\u001b[0m\u001b[1;32m   1285\u001b[0m                 \u001b[0;32mif\u001b[0m \u001b[0msuccess\u001b[0m\u001b[0;34m:\u001b[0m\u001b[0;34m\u001b[0m\u001b[0;34m\u001b[0m\u001b[0m\n\u001b[1;32m   1286\u001b[0m                     \u001b[0;32mreturn\u001b[0m \u001b[0mdata\u001b[0m\u001b[0;34m\u001b[0m\u001b[0;34m\u001b[0m\u001b[0m\n",
            "\u001b[0;32m/usr/local/lib/python3.10/dist-packages/torch/utils/data/dataloader.py\u001b[0m in \u001b[0;36m_try_get_data\u001b[0;34m(self, timeout)\u001b[0m\n\u001b[1;32m   1130\u001b[0m         \u001b[0;31m#   (bool: whether successfully get data, any: data if successful else None)\u001b[0m\u001b[0;34m\u001b[0m\u001b[0;34m\u001b[0m\u001b[0m\n\u001b[1;32m   1131\u001b[0m         \u001b[0;32mtry\u001b[0m\u001b[0;34m:\u001b[0m\u001b[0;34m\u001b[0m\u001b[0;34m\u001b[0m\u001b[0m\n\u001b[0;32m-> 1132\u001b[0;31m             \u001b[0mdata\u001b[0m \u001b[0;34m=\u001b[0m \u001b[0mself\u001b[0m\u001b[0;34m.\u001b[0m\u001b[0m_data_queue\u001b[0m\u001b[0;34m.\u001b[0m\u001b[0mget\u001b[0m\u001b[0;34m(\u001b[0m\u001b[0mtimeout\u001b[0m\u001b[0;34m=\u001b[0m\u001b[0mtimeout\u001b[0m\u001b[0;34m)\u001b[0m\u001b[0;34m\u001b[0m\u001b[0;34m\u001b[0m\u001b[0m\n\u001b[0m\u001b[1;32m   1133\u001b[0m             \u001b[0;32mreturn\u001b[0m \u001b[0;34m(\u001b[0m\u001b[0;32mTrue\u001b[0m\u001b[0;34m,\u001b[0m \u001b[0mdata\u001b[0m\u001b[0;34m)\u001b[0m\u001b[0;34m\u001b[0m\u001b[0;34m\u001b[0m\u001b[0m\n\u001b[1;32m   1134\u001b[0m         \u001b[0;32mexcept\u001b[0m \u001b[0mException\u001b[0m \u001b[0;32mas\u001b[0m \u001b[0me\u001b[0m\u001b[0;34m:\u001b[0m\u001b[0;34m\u001b[0m\u001b[0;34m\u001b[0m\u001b[0m\n",
            "\u001b[0;32m/usr/lib/python3.10/queue.py\u001b[0m in \u001b[0;36mget\u001b[0;34m(self, block, timeout)\u001b[0m\n\u001b[1;32m    178\u001b[0m                     \u001b[0;32mif\u001b[0m \u001b[0mremaining\u001b[0m \u001b[0;34m<=\u001b[0m \u001b[0;36m0.0\u001b[0m\u001b[0;34m:\u001b[0m\u001b[0;34m\u001b[0m\u001b[0;34m\u001b[0m\u001b[0m\n\u001b[1;32m    179\u001b[0m                         \u001b[0;32mraise\u001b[0m \u001b[0mEmpty\u001b[0m\u001b[0;34m\u001b[0m\u001b[0;34m\u001b[0m\u001b[0m\n\u001b[0;32m--> 180\u001b[0;31m                     \u001b[0mself\u001b[0m\u001b[0;34m.\u001b[0m\u001b[0mnot_empty\u001b[0m\u001b[0;34m.\u001b[0m\u001b[0mwait\u001b[0m\u001b[0;34m(\u001b[0m\u001b[0mremaining\u001b[0m\u001b[0;34m)\u001b[0m\u001b[0;34m\u001b[0m\u001b[0;34m\u001b[0m\u001b[0m\n\u001b[0m\u001b[1;32m    181\u001b[0m             \u001b[0mitem\u001b[0m \u001b[0;34m=\u001b[0m \u001b[0mself\u001b[0m\u001b[0;34m.\u001b[0m\u001b[0m_get\u001b[0m\u001b[0;34m(\u001b[0m\u001b[0;34m)\u001b[0m\u001b[0;34m\u001b[0m\u001b[0;34m\u001b[0m\u001b[0m\n\u001b[1;32m    182\u001b[0m             \u001b[0mself\u001b[0m\u001b[0;34m.\u001b[0m\u001b[0mnot_full\u001b[0m\u001b[0;34m.\u001b[0m\u001b[0mnotify\u001b[0m\u001b[0;34m(\u001b[0m\u001b[0;34m)\u001b[0m\u001b[0;34m\u001b[0m\u001b[0;34m\u001b[0m\u001b[0m\n",
            "\u001b[0;32m/usr/lib/python3.10/threading.py\u001b[0m in \u001b[0;36mwait\u001b[0;34m(self, timeout)\u001b[0m\n\u001b[1;32m    322\u001b[0m             \u001b[0;32melse\u001b[0m\u001b[0;34m:\u001b[0m\u001b[0;34m\u001b[0m\u001b[0;34m\u001b[0m\u001b[0m\n\u001b[1;32m    323\u001b[0m                 \u001b[0;32mif\u001b[0m \u001b[0mtimeout\u001b[0m \u001b[0;34m>\u001b[0m \u001b[0;36m0\u001b[0m\u001b[0;34m:\u001b[0m\u001b[0;34m\u001b[0m\u001b[0;34m\u001b[0m\u001b[0m\n\u001b[0;32m--> 324\u001b[0;31m                     \u001b[0mgotit\u001b[0m \u001b[0;34m=\u001b[0m \u001b[0mwaiter\u001b[0m\u001b[0;34m.\u001b[0m\u001b[0macquire\u001b[0m\u001b[0;34m(\u001b[0m\u001b[0;32mTrue\u001b[0m\u001b[0;34m,\u001b[0m \u001b[0mtimeout\u001b[0m\u001b[0;34m)\u001b[0m\u001b[0;34m\u001b[0m\u001b[0;34m\u001b[0m\u001b[0m\n\u001b[0m\u001b[1;32m    325\u001b[0m                 \u001b[0;32melse\u001b[0m\u001b[0;34m:\u001b[0m\u001b[0;34m\u001b[0m\u001b[0;34m\u001b[0m\u001b[0m\n\u001b[1;32m    326\u001b[0m                     \u001b[0mgotit\u001b[0m \u001b[0;34m=\u001b[0m \u001b[0mwaiter\u001b[0m\u001b[0;34m.\u001b[0m\u001b[0macquire\u001b[0m\u001b[0;34m(\u001b[0m\u001b[0;32mFalse\u001b[0m\u001b[0;34m)\u001b[0m\u001b[0;34m\u001b[0m\u001b[0;34m\u001b[0m\u001b[0m\n",
            "\u001b[0;31mKeyboardInterrupt\u001b[0m: "
          ]
        }
      ]
    },
    {
      "cell_type": "code",
      "source": [
        "lr_to_test = [(1e-4, 1e-2),(1e-4, 1e-1),(1e-3, 1e-2)]\n",
        "decoder_loss_result = []\n",
        "full_loss_result = []\n",
        "DECODER_EPOCHS = 80\n",
        "N_EPOCHS = 80\n",
        "\n",
        "for lr_base, lr_max in lr_to_test:\n",
        "  model = get_new_model()\n",
        "  model.to(DEVICE)\n",
        "  optimizer_decoder = optim.AdamW(model.parameters(), lr=lr_base)\n",
        "  # scheduler_decoder = optim.lr_scheduler.OneCycleLR(optimizer_decoder, 1e-2, total_steps=DECODER_EPOCHS)\n",
        "  scheduler_decoder = optim.lr_scheduler.CyclicLR(optimizer_decoder, base_lr=lr_base, max_lr=lr_max, cycle_momentum=False, step_size_up=DECODER_EPOCHS/6)\n",
        "  optimizer_full = optim.AdamW(model.parameters(), lr=lr_base)\n",
        "  scheduler_full = optim.lr_scheduler.CyclicLR(optimizer_decoder, base_lr=lr_base, max_lr=lr_max, cycle_momentum=False, step_size_up=N_EPOCHS/6)\n",
        "  decoder_loss_history, decoder_val_loss_history, decoder_test_accuracy_history, decoder_val_accuracy_history = train_model(\n",
        "    n_epochs=DECODER_EPOCHS,\n",
        "    optimizer=optimizer_decoder,\n",
        "    scheduler=scheduler_decoder,\n",
        "    dataloader=train_loader,\n",
        "    val_loader=validation_loader,\n",
        "    model=model,\n",
        "    loss_fn=loss_fn\n",
        "  )\n",
        "  decoder_loss_result.append(decoder_loss_history)\n",
        "\n",
        "\n",
        "\n",
        "  # Unfreeze model layers for full model training\n",
        "  for param in model.parameters():\n",
        "    param.requires_grad = True\n",
        "\n",
        "\n",
        "\n",
        "  # Now train the full model\n",
        "  print(\"Starting full model training...\")\n",
        "  full_loss_history, full_val_loss_history, full_test_accuracy_history, full_val_accuracy_history = train_model(\n",
        "      n_epochs=N_EPOCHS,\n",
        "      optimizer=optimizer_full,\n",
        "      scheduler=scheduler_full,\n",
        "      dataloader=train_loader,  # Assuming train_loader_finetuning is the same as train_loader\n",
        "      val_loader=validation_loader,\n",
        "      model=model,\n",
        "      loss_fn=loss_fn\n",
        "  )\n",
        "  full_loss_result.append(full_loss_history)\n",
        "  print(\"Full model training completed.\")\n"
      ],
      "metadata": {
        "id": "pkuxBNA391kU",
        "outputId": "8ee1fd6a-0dbf-4d34-e8ef-4fffc9748f0b",
        "colab": {
          "base_uri": "https://localhost:8080/"
        }
      },
      "execution_count": null,
      "outputs": [
        {
          "output_type": "stream",
          "name": "stderr",
          "text": [
            "Using cache found in /root/.cache/torch/hub/pytorch_vision_v0.10.0\n"
          ]
        },
        {
          "output_type": "stream",
          "name": "stdout",
          "text": [
            "Total number of layers is 174\n",
            "Number of pretrained base layers is 170\n"
          ]
        },
        {
          "output_type": "stream",
          "name": "stderr",
          "text": [
            "\r  0%|          | 0/80 [00:00<?, ?it/s]/usr/local/lib/python3.10/dist-packages/torch/optim/lr_scheduler.py:136: UserWarning: Detected call of `lr_scheduler.step()` before `optimizer.step()`. In PyTorch 1.1.0 and later, you should call them in the opposite order: `optimizer.step()` before `lr_scheduler.step()`.  Failure to do this will result in PyTorch skipping the first value of the learning rate schedule. See more details at https://pytorch.org/docs/stable/optim.html#how-to-adjust-learning-rate\n",
            "  warnings.warn(\"Detected call of `lr_scheduler.step()` before `optimizer.step()`. \"\n",
            "  1%|▏         | 1/80 [00:01<02:31,  1.91s/it]"
          ]
        },
        {
          "output_type": "stream",
          "name": "stdout",
          "text": [
            "Epoch 1, In-sample Loss: 124138.1953, In-sample Accuracy: 0.0000\n",
            "Epoch 1, Out-sample Loss: 131481.1436, Out-sample Accuracy: 0.0000\n"
          ]
        },
        {
          "output_type": "stream",
          "name": "stderr",
          "text": [
            "  8%|▊         | 6/80 [00:06<01:24,  1.15s/it]"
          ]
        },
        {
          "output_type": "stream",
          "name": "stdout",
          "text": [
            "Epoch 6, In-sample Loss: 83682.1836, In-sample Accuracy: 0.0000\n",
            "Epoch 6, Out-sample Loss: 84538.5469, Out-sample Accuracy: 0.0000\n"
          ]
        },
        {
          "output_type": "stream",
          "name": "stderr",
          "text": [
            " 14%|█▍        | 11/80 [00:11<01:36,  1.40s/it]"
          ]
        },
        {
          "output_type": "stream",
          "name": "stdout",
          "text": [
            "Epoch 11, In-sample Loss: 25720.3617, In-sample Accuracy: 0.0000\n",
            "Epoch 11, Out-sample Loss: 23533.4817, Out-sample Accuracy: 0.0000\n"
          ]
        },
        {
          "output_type": "stream",
          "name": "stderr",
          "text": [
            " 20%|██        | 16/80 [00:16<01:15,  1.19s/it]"
          ]
        },
        {
          "output_type": "stream",
          "name": "stdout",
          "text": [
            "Epoch 16, In-sample Loss: 12754.7672, In-sample Accuracy: 0.0000\n",
            "Epoch 16, Out-sample Loss: 12161.8969, Out-sample Accuracy: 0.0000\n"
          ]
        },
        {
          "output_type": "stream",
          "name": "stderr",
          "text": [
            " 26%|██▋       | 21/80 [00:21<01:06,  1.12s/it]"
          ]
        },
        {
          "output_type": "stream",
          "name": "stdout",
          "text": [
            "Epoch 21, In-sample Loss: 7670.2374, In-sample Accuracy: 0.0000\n",
            "Epoch 21, Out-sample Loss: 8406.6571, Out-sample Accuracy: 0.0000\n"
          ]
        },
        {
          "output_type": "stream",
          "name": "stderr",
          "text": [
            " 32%|███▎      | 26/80 [00:27<01:24,  1.56s/it]"
          ]
        },
        {
          "output_type": "stream",
          "name": "stdout",
          "text": [
            "Epoch 26, In-sample Loss: 4993.0129, In-sample Accuracy: 0.0000\n",
            "Epoch 26, Out-sample Loss: 6090.5414, Out-sample Accuracy: 0.0000\n"
          ]
        },
        {
          "output_type": "stream",
          "name": "stderr",
          "text": [
            " 39%|███▉      | 31/80 [00:32<00:57,  1.18s/it]"
          ]
        },
        {
          "output_type": "stream",
          "name": "stdout",
          "text": [
            "Epoch 31, In-sample Loss: 3475.7633, In-sample Accuracy: 0.0000\n",
            "Epoch 31, Out-sample Loss: 4586.4640, Out-sample Accuracy: 0.0000\n"
          ]
        },
        {
          "output_type": "stream",
          "name": "stderr",
          "text": [
            " 45%|████▌     | 36/80 [00:36<00:48,  1.10s/it]"
          ]
        },
        {
          "output_type": "stream",
          "name": "stdout",
          "text": [
            "Epoch 36, In-sample Loss: 2590.7699, In-sample Accuracy: 0.0000\n",
            "Epoch 36, Out-sample Loss: 3690.0886, Out-sample Accuracy: 0.0000\n"
          ]
        },
        {
          "output_type": "stream",
          "name": "stderr",
          "text": [
            " 51%|█████▏    | 41/80 [00:42<00:56,  1.45s/it]"
          ]
        },
        {
          "output_type": "stream",
          "name": "stdout",
          "text": [
            "Epoch 41, In-sample Loss: 1831.2801, In-sample Accuracy: 0.0000\n",
            "Epoch 41, Out-sample Loss: 2665.1613, Out-sample Accuracy: 0.0000\n"
          ]
        },
        {
          "output_type": "stream",
          "name": "stderr",
          "text": [
            " 57%|█████▊    | 46/80 [00:47<00:39,  1.16s/it]"
          ]
        },
        {
          "output_type": "stream",
          "name": "stdout",
          "text": [
            "Epoch 46, In-sample Loss: 1540.5085, In-sample Accuracy: 0.1250\n",
            "Epoch 46, Out-sample Loss: 2574.9355, Out-sample Accuracy: 0.0000\n"
          ]
        },
        {
          "output_type": "stream",
          "name": "stderr",
          "text": [
            " 64%|██████▍   | 51/80 [00:51<00:32,  1.14s/it]"
          ]
        },
        {
          "output_type": "stream",
          "name": "stdout",
          "text": [
            "Epoch 51, In-sample Loss: 1616.9139, In-sample Accuracy: 0.0000\n",
            "Epoch 51, Out-sample Loss: 2683.2298, Out-sample Accuracy: 0.0000\n"
          ]
        },
        {
          "output_type": "stream",
          "name": "stderr",
          "text": [
            " 70%|███████   | 56/80 [00:57<00:31,  1.29s/it]"
          ]
        },
        {
          "output_type": "stream",
          "name": "stdout",
          "text": [
            "Epoch 56, In-sample Loss: 1424.7868, In-sample Accuracy: 0.1250\n",
            "Epoch 56, Out-sample Loss: 2430.5913, Out-sample Accuracy: 0.0000\n"
          ]
        },
        {
          "output_type": "stream",
          "name": "stderr",
          "text": [
            " 76%|███████▋  | 61/80 [01:02<00:21,  1.12s/it]"
          ]
        },
        {
          "output_type": "stream",
          "name": "stdout",
          "text": [
            "Epoch 61, In-sample Loss: 1332.2810, In-sample Accuracy: 0.0625\n",
            "Epoch 61, Out-sample Loss: 2267.4537, Out-sample Accuracy: 0.0000\n"
          ]
        },
        {
          "output_type": "stream",
          "name": "stderr",
          "text": [
            " 82%|████████▎ | 66/80 [01:07<00:19,  1.36s/it]"
          ]
        },
        {
          "output_type": "stream",
          "name": "stdout",
          "text": [
            "Epoch 66, In-sample Loss: 1077.2362, In-sample Accuracy: 0.0000\n",
            "Epoch 66, Out-sample Loss: 1963.1414, Out-sample Accuracy: 0.0625\n"
          ]
        },
        {
          "output_type": "stream",
          "name": "stderr",
          "text": [
            " 89%|████████▉ | 71/80 [01:13<00:11,  1.22s/it]"
          ]
        },
        {
          "output_type": "stream",
          "name": "stdout",
          "text": [
            "Epoch 71, In-sample Loss: 1224.6053, In-sample Accuracy: 0.0625\n",
            "Epoch 71, Out-sample Loss: 2279.1322, Out-sample Accuracy: 0.0000\n"
          ]
        },
        {
          "output_type": "stream",
          "name": "stderr",
          "text": [
            " 95%|█████████▌| 76/80 [01:17<00:04,  1.11s/it]"
          ]
        },
        {
          "output_type": "stream",
          "name": "stdout",
          "text": [
            "Epoch 76, In-sample Loss: 1045.5937, In-sample Accuracy: 0.0000\n",
            "Epoch 76, Out-sample Loss: 1898.1982, Out-sample Accuracy: 0.0625\n"
          ]
        },
        {
          "output_type": "stream",
          "name": "stderr",
          "text": [
            "100%|██████████| 80/80 [01:20<00:00,  1.00s/it]\n"
          ]
        },
        {
          "output_type": "stream",
          "name": "stdout",
          "text": [
            "Starting full model training...\n"
          ]
        },
        {
          "output_type": "stream",
          "name": "stderr",
          "text": [
            "  1%|▏         | 1/80 [00:03<04:26,  3.38s/it]"
          ]
        },
        {
          "output_type": "stream",
          "name": "stdout",
          "text": [
            "Epoch 1, In-sample Loss: 1117.3254, In-sample Accuracy: 0.0000\n",
            "Epoch 1, Out-sample Loss: 2064.0130, Out-sample Accuracy: 0.0000\n"
          ]
        },
        {
          "output_type": "stream",
          "name": "stderr",
          "text": [
            "  8%|▊         | 6/80 [00:08<01:41,  1.37s/it]"
          ]
        },
        {
          "output_type": "stream",
          "name": "stdout",
          "text": [
            "Epoch 6, In-sample Loss: 981.5987, In-sample Accuracy: 0.0000\n",
            "Epoch 6, Out-sample Loss: 1369.5481, Out-sample Accuracy: 0.0625\n"
          ]
        },
        {
          "output_type": "stream",
          "name": "stderr",
          "text": [
            " 14%|█▍        | 11/80 [00:14<01:37,  1.41s/it]"
          ]
        },
        {
          "output_type": "stream",
          "name": "stdout",
          "text": [
            "Epoch 11, In-sample Loss: 954.5834, In-sample Accuracy: 0.1250\n",
            "Epoch 11, Out-sample Loss: 1265.9557, Out-sample Accuracy: 0.0000\n"
          ]
        },
        {
          "output_type": "stream",
          "name": "stderr",
          "text": [
            " 20%|██        | 16/80 [00:20<01:28,  1.39s/it]"
          ]
        },
        {
          "output_type": "stream",
          "name": "stdout",
          "text": [
            "Epoch 16, In-sample Loss: 890.5703, In-sample Accuracy: 0.1250\n",
            "Epoch 16, Out-sample Loss: 1178.4382, Out-sample Accuracy: 0.1250\n"
          ]
        },
        {
          "output_type": "stream",
          "name": "stderr",
          "text": [
            " 26%|██▋       | 21/80 [00:26<01:16,  1.29s/it]"
          ]
        },
        {
          "output_type": "stream",
          "name": "stdout",
          "text": [
            "Epoch 21, In-sample Loss: 953.3890, In-sample Accuracy: 0.2500\n",
            "Epoch 21, Out-sample Loss: 1256.0346, Out-sample Accuracy: 0.1875\n"
          ]
        },
        {
          "output_type": "stream",
          "name": "stderr",
          "text": [
            " 32%|███▎      | 26/80 [00:33<01:23,  1.54s/it]"
          ]
        },
        {
          "output_type": "stream",
          "name": "stdout",
          "text": [
            "Epoch 26, In-sample Loss: 1157.5785, In-sample Accuracy: 0.0625\n",
            "Epoch 26, Out-sample Loss: 1227.9419, Out-sample Accuracy: 0.0625\n"
          ]
        },
        {
          "output_type": "stream",
          "name": "stderr",
          "text": [
            " 39%|███▉      | 31/80 [00:38<01:04,  1.31s/it]"
          ]
        },
        {
          "output_type": "stream",
          "name": "stdout",
          "text": [
            "Epoch 31, In-sample Loss: 876.3901, In-sample Accuracy: 0.0625\n",
            "Epoch 31, Out-sample Loss: 1281.2684, Out-sample Accuracy: 0.0625\n"
          ]
        },
        {
          "output_type": "stream",
          "name": "stderr",
          "text": [
            " 45%|████▌     | 36/80 [00:45<01:14,  1.70s/it]"
          ]
        },
        {
          "output_type": "stream",
          "name": "stdout",
          "text": [
            "Epoch 36, In-sample Loss: 863.0340, In-sample Accuracy: 0.0625\n",
            "Epoch 36, Out-sample Loss: 1111.4307, Out-sample Accuracy: 0.1250\n"
          ]
        },
        {
          "output_type": "stream",
          "name": "stderr",
          "text": [
            " 51%|█████▏    | 41/80 [00:50<00:51,  1.32s/it]"
          ]
        },
        {
          "output_type": "stream",
          "name": "stdout",
          "text": [
            "Epoch 41, In-sample Loss: 761.1429, In-sample Accuracy: 0.0000\n",
            "Epoch 41, Out-sample Loss: 1168.6732, Out-sample Accuracy: 0.0625\n"
          ]
        },
        {
          "output_type": "stream",
          "name": "stderr",
          "text": [
            " 57%|█████▊    | 46/80 [00:55<00:46,  1.36s/it]"
          ]
        },
        {
          "output_type": "stream",
          "name": "stdout",
          "text": [
            "Epoch 46, In-sample Loss: 677.1627, In-sample Accuracy: 0.2500\n",
            "Epoch 46, Out-sample Loss: 1181.5625, Out-sample Accuracy: 0.1250\n"
          ]
        },
        {
          "output_type": "stream",
          "name": "stderr",
          "text": [
            " 64%|██████▍   | 51/80 [01:02<00:40,  1.39s/it]"
          ]
        },
        {
          "output_type": "stream",
          "name": "stdout",
          "text": [
            "Epoch 51, In-sample Loss: 665.1756, In-sample Accuracy: 0.2500\n",
            "Epoch 51, Out-sample Loss: 1187.6298, Out-sample Accuracy: 0.1250\n"
          ]
        },
        {
          "output_type": "stream",
          "name": "stderr",
          "text": [
            " 70%|███████   | 56/80 [01:07<00:30,  1.27s/it]"
          ]
        },
        {
          "output_type": "stream",
          "name": "stdout",
          "text": [
            "Epoch 56, In-sample Loss: 718.4108, In-sample Accuracy: 0.3125\n",
            "Epoch 56, Out-sample Loss: 1221.2339, Out-sample Accuracy: 0.0000\n"
          ]
        },
        {
          "output_type": "stream",
          "name": "stderr",
          "text": [
            " 76%|███████▋  | 61/80 [01:14<00:28,  1.53s/it]"
          ]
        },
        {
          "output_type": "stream",
          "name": "stdout",
          "text": [
            "Epoch 61, In-sample Loss: 827.1659, In-sample Accuracy: 0.0625\n",
            "Epoch 61, Out-sample Loss: 1235.9100, Out-sample Accuracy: 0.1250\n"
          ]
        },
        {
          "output_type": "stream",
          "name": "stderr",
          "text": [
            " 82%|████████▎ | 66/80 [01:21<00:23,  1.70s/it]"
          ]
        },
        {
          "output_type": "stream",
          "name": "stdout",
          "text": [
            "Epoch 66, In-sample Loss: 844.9636, In-sample Accuracy: 0.0625\n",
            "Epoch 66, Out-sample Loss: 1301.4406, Out-sample Accuracy: 0.0000\n"
          ]
        },
        {
          "output_type": "stream",
          "name": "stderr",
          "text": [
            " 89%|████████▉ | 71/80 [01:28<00:14,  1.64s/it]"
          ]
        },
        {
          "output_type": "stream",
          "name": "stdout",
          "text": [
            "Epoch 71, In-sample Loss: 734.4177, In-sample Accuracy: 0.1875\n",
            "Epoch 71, Out-sample Loss: 1233.3544, Out-sample Accuracy: 0.0625\n"
          ]
        },
        {
          "output_type": "stream",
          "name": "stderr",
          "text": [
            " 95%|█████████▌| 76/80 [01:33<00:05,  1.31s/it]"
          ]
        },
        {
          "output_type": "stream",
          "name": "stdout",
          "text": [
            "Epoch 76, In-sample Loss: 691.5517, In-sample Accuracy: 0.0625\n",
            "Epoch 76, Out-sample Loss: 1190.1809, Out-sample Accuracy: 0.1250\n"
          ]
        },
        {
          "output_type": "stream",
          "name": "stderr",
          "text": [
            "100%|██████████| 80/80 [01:36<00:00,  1.21s/it]\n",
            "Using cache found in /root/.cache/torch/hub/pytorch_vision_v0.10.0\n"
          ]
        },
        {
          "output_type": "stream",
          "name": "stdout",
          "text": [
            "Full model training completed.\n",
            "Total number of layers is 174\n",
            "Number of pretrained base layers is 170\n"
          ]
        },
        {
          "output_type": "stream",
          "name": "stderr",
          "text": [
            "  1%|▏         | 1/80 [00:03<04:19,  3.29s/it]"
          ]
        },
        {
          "output_type": "stream",
          "name": "stdout",
          "text": [
            "Epoch 1, In-sample Loss: 124153.7637, In-sample Accuracy: 0.0000\n",
            "Epoch 1, Out-sample Loss: 131500.0400, Out-sample Accuracy: 0.0000\n"
          ]
        },
        {
          "output_type": "stream",
          "name": "stderr",
          "text": [
            "  8%|▊         | 6/80 [00:07<01:31,  1.23s/it]"
          ]
        },
        {
          "output_type": "stream",
          "name": "stdout",
          "text": [
            "Epoch 6, In-sample Loss: 23355.3029, In-sample Accuracy: 0.0000\n",
            "Epoch 6, Out-sample Loss: 17913.2062, Out-sample Accuracy: 0.0000\n"
          ]
        },
        {
          "output_type": "stream",
          "name": "stderr",
          "text": [
            " 14%|█▍        | 11/80 [00:12<01:17,  1.12s/it]"
          ]
        },
        {
          "output_type": "stream",
          "name": "stdout",
          "text": [
            "Epoch 11, In-sample Loss: 19242.5587, In-sample Accuracy: 0.0000\n",
            "Epoch 11, Out-sample Loss: 16695.6846, Out-sample Accuracy: 0.0000\n"
          ]
        },
        {
          "output_type": "stream",
          "name": "stderr",
          "text": [
            " 20%|██        | 16/80 [00:18<01:35,  1.49s/it]"
          ]
        },
        {
          "output_type": "stream",
          "name": "stdout",
          "text": [
            "Epoch 16, In-sample Loss: 8071.9478, In-sample Accuracy: 0.0000\n",
            "Epoch 16, Out-sample Loss: 7213.0356, Out-sample Accuracy: 0.0000\n"
          ]
        },
        {
          "output_type": "stream",
          "name": "stderr",
          "text": [
            " 26%|██▋       | 21/80 [00:22<01:08,  1.16s/it]"
          ]
        },
        {
          "output_type": "stream",
          "name": "stdout",
          "text": [
            "Epoch 21, In-sample Loss: 5505.3552, In-sample Accuracy: 0.0000\n",
            "Epoch 21, Out-sample Loss: 5934.4439, Out-sample Accuracy: 0.0000\n"
          ]
        },
        {
          "output_type": "stream",
          "name": "stderr",
          "text": [
            " 32%|███▎      | 26/80 [00:27<01:01,  1.15s/it]"
          ]
        },
        {
          "output_type": "stream",
          "name": "stdout",
          "text": [
            "Epoch 26, In-sample Loss: 3190.8451, In-sample Accuracy: 0.0000\n",
            "Epoch 26, Out-sample Loss: 4002.5343, Out-sample Accuracy: 0.0000\n"
          ]
        },
        {
          "output_type": "stream",
          "name": "stderr",
          "text": [
            " 39%|███▉      | 31/80 [00:33<01:03,  1.30s/it]"
          ]
        },
        {
          "output_type": "stream",
          "name": "stdout",
          "text": [
            "Epoch 31, In-sample Loss: 2606.9336, In-sample Accuracy: 0.0000\n",
            "Epoch 31, Out-sample Loss: 3216.6056, Out-sample Accuracy: 0.0000\n"
          ]
        },
        {
          "output_type": "stream",
          "name": "stderr",
          "text": [
            " 45%|████▌     | 36/80 [00:38<00:49,  1.14s/it]"
          ]
        },
        {
          "output_type": "stream",
          "name": "stdout",
          "text": [
            "Epoch 36, In-sample Loss: 3403.2437, In-sample Accuracy: 0.0000\n",
            "Epoch 36, Out-sample Loss: 3970.5294, Out-sample Accuracy: 0.0000\n"
          ]
        },
        {
          "output_type": "stream",
          "name": "stderr",
          "text": [
            " 51%|█████▏    | 41/80 [00:43<00:53,  1.36s/it]"
          ]
        },
        {
          "output_type": "stream",
          "name": "stdout",
          "text": [
            "Epoch 41, In-sample Loss: 2608.4778, In-sample Accuracy: 0.0000\n",
            "Epoch 41, Out-sample Loss: 3952.5294, Out-sample Accuracy: 0.0000\n"
          ]
        },
        {
          "output_type": "stream",
          "name": "stderr",
          "text": [
            " 57%|█████▊    | 46/80 [00:48<00:41,  1.22s/it]"
          ]
        },
        {
          "output_type": "stream",
          "name": "stdout",
          "text": [
            "Epoch 46, In-sample Loss: 1520.2162, In-sample Accuracy: 0.0000\n",
            "Epoch 46, Out-sample Loss: 1794.1669, Out-sample Accuracy: 0.0000\n"
          ]
        },
        {
          "output_type": "stream",
          "name": "stderr",
          "text": [
            " 64%|██████▍   | 51/80 [00:53<00:33,  1.14s/it]"
          ]
        },
        {
          "output_type": "stream",
          "name": "stdout",
          "text": [
            "Epoch 51, In-sample Loss: 1547.0349, In-sample Accuracy: 0.0000\n",
            "Epoch 51, Out-sample Loss: 2771.4301, Out-sample Accuracy: 0.0000\n"
          ]
        },
        {
          "output_type": "stream",
          "name": "stderr",
          "text": [
            " 70%|███████   | 56/80 [00:59<00:37,  1.58s/it]"
          ]
        },
        {
          "output_type": "stream",
          "name": "stdout",
          "text": [
            "Epoch 56, In-sample Loss: 1163.2472, In-sample Accuracy: 0.0000\n",
            "Epoch 56, Out-sample Loss: 2236.8148, Out-sample Accuracy: 0.0000\n"
          ]
        },
        {
          "output_type": "stream",
          "name": "stderr",
          "text": [
            " 76%|███████▋  | 61/80 [01:04<00:22,  1.18s/it]"
          ]
        },
        {
          "output_type": "stream",
          "name": "stdout",
          "text": [
            "Epoch 61, In-sample Loss: 426.5449, In-sample Accuracy: 0.2500\n",
            "Epoch 61, Out-sample Loss: 1466.5467, Out-sample Accuracy: 0.0625\n"
          ]
        },
        {
          "output_type": "stream",
          "name": "stderr",
          "text": [
            " 82%|████████▎ | 66/80 [01:08<00:15,  1.10s/it]"
          ]
        },
        {
          "output_type": "stream",
          "name": "stdout",
          "text": [
            "Epoch 66, In-sample Loss: 843.6368, In-sample Accuracy: 0.0000\n",
            "Epoch 66, Out-sample Loss: 1915.4425, Out-sample Accuracy: 0.0000\n"
          ]
        },
        {
          "output_type": "stream",
          "name": "stderr",
          "text": [
            " 89%|████████▉ | 71/80 [01:14<00:13,  1.45s/it]"
          ]
        },
        {
          "output_type": "stream",
          "name": "stdout",
          "text": [
            "Epoch 71, In-sample Loss: 966.1724, In-sample Accuracy: 0.0000\n",
            "Epoch 71, Out-sample Loss: 1758.9766, Out-sample Accuracy: 0.0625\n"
          ]
        },
        {
          "output_type": "stream",
          "name": "stderr",
          "text": [
            " 95%|█████████▌| 76/80 [01:19<00:04,  1.17s/it]"
          ]
        },
        {
          "output_type": "stream",
          "name": "stdout",
          "text": [
            "Epoch 76, In-sample Loss: 1002.8310, In-sample Accuracy: 0.0625\n",
            "Epoch 76, Out-sample Loss: 1969.2535, Out-sample Accuracy: 0.0000\n"
          ]
        },
        {
          "output_type": "stream",
          "name": "stderr",
          "text": [
            "100%|██████████| 80/80 [01:21<00:00,  1.02s/it]\n"
          ]
        },
        {
          "output_type": "stream",
          "name": "stdout",
          "text": [
            "Starting full model training...\n"
          ]
        },
        {
          "output_type": "stream",
          "name": "stderr",
          "text": [
            "  1%|▏         | 1/80 [00:02<02:55,  2.23s/it]"
          ]
        },
        {
          "output_type": "stream",
          "name": "stdout",
          "text": [
            "Epoch 1, In-sample Loss: 667.1623, In-sample Accuracy: 0.0000\n",
            "Epoch 1, Out-sample Loss: 1754.2489, Out-sample Accuracy: 0.0625\n"
          ]
        },
        {
          "output_type": "stream",
          "name": "stderr",
          "text": [
            "  8%|▊         | 6/80 [00:08<01:48,  1.47s/it]"
          ]
        },
        {
          "output_type": "stream",
          "name": "stdout",
          "text": [
            "Epoch 6, In-sample Loss: 1413.3644, In-sample Accuracy: 0.0000\n",
            "Epoch 6, Out-sample Loss: 1337.2042, Out-sample Accuracy: 0.0000\n"
          ]
        },
        {
          "output_type": "stream",
          "name": "stderr",
          "text": [
            " 14%|█▍        | 11/80 [00:14<01:29,  1.30s/it]"
          ]
        },
        {
          "output_type": "stream",
          "name": "stdout",
          "text": [
            "Epoch 11, In-sample Loss: 369.1904, In-sample Accuracy: 0.2500\n",
            "Epoch 11, Out-sample Loss: 1346.6363, Out-sample Accuracy: 0.0625\n"
          ]
        },
        {
          "output_type": "stream",
          "name": "stderr",
          "text": [
            " 20%|██        | 16/80 [00:21<01:40,  1.58s/it]"
          ]
        },
        {
          "output_type": "stream",
          "name": "stdout",
          "text": [
            "Epoch 16, In-sample Loss: 355.7757, In-sample Accuracy: 0.1875\n",
            "Epoch 16, Out-sample Loss: 1298.6105, Out-sample Accuracy: 0.0625\n"
          ]
        },
        {
          "output_type": "stream",
          "name": "stderr",
          "text": [
            " 26%|██▋       | 21/80 [00:26<01:16,  1.30s/it]"
          ]
        },
        {
          "output_type": "stream",
          "name": "stdout",
          "text": [
            "Epoch 21, In-sample Loss: 215.6796, In-sample Accuracy: 0.3125\n",
            "Epoch 21, Out-sample Loss: 1249.5507, Out-sample Accuracy: 0.0625\n"
          ]
        },
        {
          "output_type": "stream",
          "name": "stderr",
          "text": [
            " 32%|███▎      | 26/80 [00:33<01:32,  1.72s/it]"
          ]
        },
        {
          "output_type": "stream",
          "name": "stdout",
          "text": [
            "Epoch 26, In-sample Loss: 331.4371, In-sample Accuracy: 0.3750\n",
            "Epoch 26, Out-sample Loss: 1298.3438, Out-sample Accuracy: 0.0625\n"
          ]
        },
        {
          "output_type": "stream",
          "name": "stderr",
          "text": [
            " 39%|███▉      | 31/80 [00:38<01:06,  1.35s/it]"
          ]
        },
        {
          "output_type": "stream",
          "name": "stdout",
          "text": [
            "Epoch 31, In-sample Loss: 136.1266, In-sample Accuracy: 0.3750\n",
            "Epoch 31, Out-sample Loss: 1304.6982, Out-sample Accuracy: 0.0625\n"
          ]
        },
        {
          "output_type": "stream",
          "name": "stderr",
          "text": [
            " 45%|████▌     | 36/80 [00:44<01:00,  1.37s/it]"
          ]
        },
        {
          "output_type": "stream",
          "name": "stdout",
          "text": [
            "Epoch 36, In-sample Loss: 141.5297, In-sample Accuracy: 0.3125\n",
            "Epoch 36, Out-sample Loss: 1365.8383, Out-sample Accuracy: 0.0625\n"
          ]
        },
        {
          "output_type": "stream",
          "name": "stderr",
          "text": [
            " 51%|█████▏    | 41/80 [00:50<00:54,  1.40s/it]"
          ]
        },
        {
          "output_type": "stream",
          "name": "stdout",
          "text": [
            "Epoch 41, In-sample Loss: 108.8509, In-sample Accuracy: 0.2500\n",
            "Epoch 41, Out-sample Loss: 1374.0811, Out-sample Accuracy: 0.1250\n"
          ]
        },
        {
          "output_type": "stream",
          "name": "stderr",
          "text": [
            " 57%|█████▊    | 46/80 [00:56<00:43,  1.29s/it]"
          ]
        },
        {
          "output_type": "stream",
          "name": "stdout",
          "text": [
            "Epoch 46, In-sample Loss: 204.6880, In-sample Accuracy: 0.3750\n",
            "Epoch 46, Out-sample Loss: 1396.4072, Out-sample Accuracy: 0.0625\n"
          ]
        },
        {
          "output_type": "stream",
          "name": "stderr",
          "text": [
            " 64%|██████▍   | 51/80 [01:03<00:44,  1.54s/it]"
          ]
        },
        {
          "output_type": "stream",
          "name": "stdout",
          "text": [
            "Epoch 51, In-sample Loss: 293.4934, In-sample Accuracy: 0.4375\n",
            "Epoch 51, Out-sample Loss: 1445.0827, Out-sample Accuracy: 0.0000\n"
          ]
        },
        {
          "output_type": "stream",
          "name": "stderr",
          "text": [
            " 70%|███████   | 56/80 [01:08<00:31,  1.30s/it]"
          ]
        },
        {
          "output_type": "stream",
          "name": "stdout",
          "text": [
            "Epoch 56, In-sample Loss: 293.8044, In-sample Accuracy: 0.1250\n",
            "Epoch 56, Out-sample Loss: 1327.4080, Out-sample Accuracy: 0.0000\n"
          ]
        },
        {
          "output_type": "stream",
          "name": "stderr",
          "text": [
            " 76%|███████▋  | 61/80 [01:15<00:32,  1.72s/it]"
          ]
        },
        {
          "output_type": "stream",
          "name": "stdout",
          "text": [
            "Epoch 61, In-sample Loss: 109.9171, In-sample Accuracy: 0.5000\n",
            "Epoch 61, Out-sample Loss: 1384.4295, Out-sample Accuracy: 0.0625\n"
          ]
        },
        {
          "output_type": "stream",
          "name": "stderr",
          "text": [
            " 82%|████████▎ | 66/80 [01:20<00:18,  1.34s/it]"
          ]
        },
        {
          "output_type": "stream",
          "name": "stdout",
          "text": [
            "Epoch 66, In-sample Loss: 290.8804, In-sample Accuracy: 0.2500\n",
            "Epoch 66, Out-sample Loss: 1507.1241, Out-sample Accuracy: 0.0625\n"
          ]
        },
        {
          "output_type": "stream",
          "name": "stderr",
          "text": [
            " 89%|████████▉ | 71/80 [01:26<00:12,  1.42s/it]"
          ]
        },
        {
          "output_type": "stream",
          "name": "stdout",
          "text": [
            "Epoch 71, In-sample Loss: 224.0900, In-sample Accuracy: 0.2500\n",
            "Epoch 71, Out-sample Loss: 1430.9148, Out-sample Accuracy: 0.0625\n"
          ]
        },
        {
          "output_type": "stream",
          "name": "stderr",
          "text": [
            " 95%|█████████▌| 76/80 [01:32<00:05,  1.39s/it]"
          ]
        },
        {
          "output_type": "stream",
          "name": "stdout",
          "text": [
            "Epoch 76, In-sample Loss: 204.6536, In-sample Accuracy: 0.4375\n",
            "Epoch 76, Out-sample Loss: 1488.1415, Out-sample Accuracy: 0.0000\n"
          ]
        },
        {
          "output_type": "stream",
          "name": "stderr",
          "text": [
            "100%|██████████| 80/80 [01:36<00:00,  1.20s/it]\n",
            "Using cache found in /root/.cache/torch/hub/pytorch_vision_v0.10.0\n"
          ]
        },
        {
          "output_type": "stream",
          "name": "stdout",
          "text": [
            "Full model training completed.\n",
            "Total number of layers is 174\n",
            "Number of pretrained base layers is 170\n"
          ]
        },
        {
          "output_type": "stream",
          "name": "stderr",
          "text": [
            "  1%|▏         | 1/80 [00:01<02:30,  1.90s/it]"
          ]
        },
        {
          "output_type": "stream",
          "name": "stdout",
          "text": [
            "Epoch 1, In-sample Loss: 124182.8232, In-sample Accuracy: 0.0000\n",
            "Epoch 1, Out-sample Loss: 131528.2061, Out-sample Accuracy: 0.0000\n"
          ]
        },
        {
          "output_type": "stream",
          "name": "stderr",
          "text": [
            "  8%|▊         | 6/80 [00:08<01:51,  1.51s/it]"
          ]
        },
        {
          "output_type": "stream",
          "name": "stdout",
          "text": [
            "Epoch 6, In-sample Loss: 54048.2515, In-sample Accuracy: 0.0000\n",
            "Epoch 6, Out-sample Loss: 50625.9048, Out-sample Accuracy: 0.0000\n"
          ]
        },
        {
          "output_type": "stream",
          "name": "stderr",
          "text": [
            " 14%|█▍        | 11/80 [00:12<01:19,  1.16s/it]"
          ]
        },
        {
          "output_type": "stream",
          "name": "stdout",
          "text": [
            "Epoch 11, In-sample Loss: 20633.2280, In-sample Accuracy: 0.0000\n",
            "Epoch 11, Out-sample Loss: 17841.2205, Out-sample Accuracy: 0.0000\n"
          ]
        },
        {
          "output_type": "stream",
          "name": "stderr",
          "text": [
            " 20%|██        | 16/80 [00:17<01:19,  1.23s/it]"
          ]
        },
        {
          "output_type": "stream",
          "name": "stdout",
          "text": [
            "Epoch 16, In-sample Loss: 13666.0043, In-sample Accuracy: 0.0000\n",
            "Epoch 16, Out-sample Loss: 13225.0782, Out-sample Accuracy: 0.0000\n"
          ]
        },
        {
          "output_type": "stream",
          "name": "stderr",
          "text": [
            " 26%|██▋       | 21/80 [00:23<01:17,  1.31s/it]"
          ]
        },
        {
          "output_type": "stream",
          "name": "stdout",
          "text": [
            "Epoch 21, In-sample Loss: 7907.7950, In-sample Accuracy: 0.0000\n",
            "Epoch 21, Out-sample Loss: 8744.0317, Out-sample Accuracy: 0.0000\n"
          ]
        },
        {
          "output_type": "stream",
          "name": "stderr",
          "text": [
            " 32%|███▎      | 26/80 [00:28<01:02,  1.16s/it]"
          ]
        },
        {
          "output_type": "stream",
          "name": "stdout",
          "text": [
            "Epoch 26, In-sample Loss: 4804.7359, In-sample Accuracy: 0.0000\n",
            "Epoch 26, Out-sample Loss: 5964.3387, Out-sample Accuracy: 0.0000\n"
          ]
        },
        {
          "output_type": "stream",
          "name": "stderr",
          "text": [
            " 39%|███▉      | 31/80 [00:34<01:17,  1.58s/it]"
          ]
        },
        {
          "output_type": "stream",
          "name": "stdout",
          "text": [
            "Epoch 31, In-sample Loss: 3197.6049, In-sample Accuracy: 0.0000\n",
            "Epoch 31, Out-sample Loss: 4190.4700, Out-sample Accuracy: 0.0000\n"
          ]
        },
        {
          "output_type": "stream",
          "name": "stderr",
          "text": [
            " 45%|████▌     | 36/80 [00:39<00:53,  1.21s/it]"
          ]
        },
        {
          "output_type": "stream",
          "name": "stdout",
          "text": [
            "Epoch 36, In-sample Loss: 2195.7883, In-sample Accuracy: 0.0000\n",
            "Epoch 36, Out-sample Loss: 3202.0647, Out-sample Accuracy: 0.0000\n"
          ]
        },
        {
          "output_type": "stream",
          "name": "stderr",
          "text": [
            " 51%|█████▏    | 41/80 [00:43<00:44,  1.13s/it]"
          ]
        },
        {
          "output_type": "stream",
          "name": "stdout",
          "text": [
            "Epoch 41, In-sample Loss: 1432.0323, In-sample Accuracy: 0.0625\n",
            "Epoch 41, Out-sample Loss: 2358.0178, Out-sample Accuracy: 0.0000\n"
          ]
        },
        {
          "output_type": "stream",
          "name": "stderr",
          "text": [
            " 57%|█████▊    | 46/80 [00:49<00:50,  1.48s/it]"
          ]
        },
        {
          "output_type": "stream",
          "name": "stdout",
          "text": [
            "Epoch 46, In-sample Loss: 1316.7097, In-sample Accuracy: 0.1250\n",
            "Epoch 46, Out-sample Loss: 2280.5253, Out-sample Accuracy: 0.0000\n"
          ]
        },
        {
          "output_type": "stream",
          "name": "stderr",
          "text": [
            " 64%|██████▍   | 51/80 [00:54<00:34,  1.20s/it]"
          ]
        },
        {
          "output_type": "stream",
          "name": "stdout",
          "text": [
            "Epoch 51, In-sample Loss: 1401.3866, In-sample Accuracy: 0.0625\n",
            "Epoch 51, Out-sample Loss: 2536.4350, Out-sample Accuracy: 0.0000\n"
          ]
        },
        {
          "output_type": "stream",
          "name": "stderr",
          "text": [
            " 70%|███████   | 56/80 [00:59<00:28,  1.20s/it]"
          ]
        },
        {
          "output_type": "stream",
          "name": "stdout",
          "text": [
            "Epoch 56, In-sample Loss: 1202.3535, In-sample Accuracy: 0.1250\n",
            "Epoch 56, Out-sample Loss: 2121.2622, Out-sample Accuracy: 0.0625\n"
          ]
        },
        {
          "output_type": "stream",
          "name": "stderr",
          "text": [
            " 76%|███████▋  | 61/80 [01:05<00:24,  1.28s/it]"
          ]
        },
        {
          "output_type": "stream",
          "name": "stdout",
          "text": [
            "Epoch 61, In-sample Loss: 1038.9098, In-sample Accuracy: 0.0625\n",
            "Epoch 61, Out-sample Loss: 1813.3483, Out-sample Accuracy: 0.0000\n"
          ]
        },
        {
          "output_type": "stream",
          "name": "stderr",
          "text": [
            " 82%|████████▎ | 66/80 [01:09<00:16,  1.15s/it]"
          ]
        },
        {
          "output_type": "stream",
          "name": "stdout",
          "text": [
            "Epoch 66, In-sample Loss: 925.1506, In-sample Accuracy: 0.0625\n",
            "Epoch 66, Out-sample Loss: 1636.6134, Out-sample Accuracy: 0.0625\n"
          ]
        },
        {
          "output_type": "stream",
          "name": "stderr",
          "text": [
            " 89%|████████▉ | 71/80 [01:15<00:13,  1.48s/it]"
          ]
        },
        {
          "output_type": "stream",
          "name": "stdout",
          "text": [
            "Epoch 71, In-sample Loss: 943.9907, In-sample Accuracy: 0.0625\n",
            "Epoch 71, Out-sample Loss: 1865.4329, Out-sample Accuracy: 0.0625\n"
          ]
        },
        {
          "output_type": "stream",
          "name": "stderr",
          "text": [
            " 95%|█████████▌| 76/80 [01:22<00:06,  1.66s/it]"
          ]
        },
        {
          "output_type": "stream",
          "name": "stdout",
          "text": [
            "Epoch 76, In-sample Loss: 853.0230, In-sample Accuracy: 0.0625\n",
            "Epoch 76, Out-sample Loss: 1686.1802, Out-sample Accuracy: 0.1250\n"
          ]
        },
        {
          "output_type": "stream",
          "name": "stderr",
          "text": [
            "100%|██████████| 80/80 [01:24<00:00,  1.06s/it]\n"
          ]
        },
        {
          "output_type": "stream",
          "name": "stdout",
          "text": [
            "Starting full model training...\n"
          ]
        },
        {
          "output_type": "stream",
          "name": "stderr",
          "text": [
            "  1%|▏         | 1/80 [00:02<02:48,  2.13s/it]"
          ]
        },
        {
          "output_type": "stream",
          "name": "stdout",
          "text": [
            "Epoch 1, In-sample Loss: 1086.3170, In-sample Accuracy: 0.0625\n",
            "Epoch 1, Out-sample Loss: 2135.5312, Out-sample Accuracy: 0.0625\n"
          ]
        },
        {
          "output_type": "stream",
          "name": "stderr",
          "text": [
            "  8%|▊         | 6/80 [00:09<01:52,  1.53s/it]"
          ]
        },
        {
          "output_type": "stream",
          "name": "stdout",
          "text": [
            "Epoch 6, In-sample Loss: 5481.5796, In-sample Accuracy: 0.0000\n",
            "Epoch 6, Out-sample Loss: 10661.8519, Out-sample Accuracy: 0.0000\n"
          ]
        },
        {
          "output_type": "stream",
          "name": "stderr",
          "text": [
            " 14%|█▍        | 11/80 [00:14<01:31,  1.32s/it]"
          ]
        },
        {
          "output_type": "stream",
          "name": "stdout",
          "text": [
            "Epoch 11, In-sample Loss: 5881.1414, In-sample Accuracy: 0.0000\n",
            "Epoch 11, Out-sample Loss: 9918.1277, Out-sample Accuracy: 0.0000\n"
          ]
        },
        {
          "output_type": "stream",
          "name": "stderr",
          "text": [
            " 20%|██        | 16/80 [00:21<01:40,  1.57s/it]"
          ]
        },
        {
          "output_type": "stream",
          "name": "stdout",
          "text": [
            "Epoch 16, In-sample Loss: 1603.9473, In-sample Accuracy: 0.0625\n",
            "Epoch 16, Out-sample Loss: 1912.5150, Out-sample Accuracy: 0.0000\n"
          ]
        },
        {
          "output_type": "stream",
          "name": "stderr",
          "text": [
            " 26%|██▋       | 21/80 [00:26<01:18,  1.33s/it]"
          ]
        },
        {
          "output_type": "stream",
          "name": "stdout",
          "text": [
            "Epoch 21, In-sample Loss: 688.5316, In-sample Accuracy: 0.1250\n",
            "Epoch 21, Out-sample Loss: 1391.9595, Out-sample Accuracy: 0.1250\n"
          ]
        },
        {
          "output_type": "stream",
          "name": "stderr",
          "text": [
            " 32%|███▎      | 26/80 [00:34<01:34,  1.75s/it]"
          ]
        },
        {
          "output_type": "stream",
          "name": "stdout",
          "text": [
            "Epoch 26, In-sample Loss: 568.3316, In-sample Accuracy: 0.1250\n",
            "Epoch 26, Out-sample Loss: 1214.5102, Out-sample Accuracy: 0.0625\n"
          ]
        },
        {
          "output_type": "stream",
          "name": "stderr",
          "text": [
            " 39%|███▉      | 31/80 [00:39<01:06,  1.37s/it]"
          ]
        },
        {
          "output_type": "stream",
          "name": "stdout",
          "text": [
            "Epoch 31, In-sample Loss: 718.0209, In-sample Accuracy: 0.0625\n",
            "Epoch 31, Out-sample Loss: 1468.9640, Out-sample Accuracy: 0.0000\n"
          ]
        },
        {
          "output_type": "stream",
          "name": "stderr",
          "text": [
            " 45%|████▌     | 36/80 [00:45<01:07,  1.53s/it]"
          ]
        },
        {
          "output_type": "stream",
          "name": "stdout",
          "text": [
            "Epoch 36, In-sample Loss: 554.3002, In-sample Accuracy: 0.0000\n",
            "Epoch 36, Out-sample Loss: 1342.0193, Out-sample Accuracy: 0.0000\n"
          ]
        },
        {
          "output_type": "stream",
          "name": "stderr",
          "text": [
            " 51%|█████▏    | 41/80 [00:51<00:54,  1.39s/it]"
          ]
        },
        {
          "output_type": "stream",
          "name": "stdout",
          "text": [
            "Epoch 41, In-sample Loss: 1146.6361, In-sample Accuracy: 0.0000\n",
            "Epoch 41, Out-sample Loss: 1789.7513, Out-sample Accuracy: 0.0625\n"
          ]
        },
        {
          "output_type": "stream",
          "name": "stderr",
          "text": [
            " 57%|█████▊    | 46/80 [00:57<00:44,  1.30s/it]"
          ]
        },
        {
          "output_type": "stream",
          "name": "stdout",
          "text": [
            "Epoch 46, In-sample Loss: 371.6851, In-sample Accuracy: 0.2500\n",
            "Epoch 46, Out-sample Loss: 1670.9818, Out-sample Accuracy: 0.0625\n"
          ]
        },
        {
          "output_type": "stream",
          "name": "stderr",
          "text": [
            " 64%|██████▍   | 51/80 [01:04<00:42,  1.47s/it]"
          ]
        },
        {
          "output_type": "stream",
          "name": "stdout",
          "text": [
            "Epoch 51, In-sample Loss: 728.2421, In-sample Accuracy: 0.1250\n",
            "Epoch 51, Out-sample Loss: 1907.0081, Out-sample Accuracy: 0.0000\n"
          ]
        },
        {
          "output_type": "stream",
          "name": "stderr",
          "text": [
            " 70%|███████   | 56/80 [01:09<00:32,  1.34s/it]"
          ]
        },
        {
          "output_type": "stream",
          "name": "stdout",
          "text": [
            "Epoch 56, In-sample Loss: 996.5655, In-sample Accuracy: 0.1875\n",
            "Epoch 56, Out-sample Loss: 1982.2219, Out-sample Accuracy: 0.0625\n"
          ]
        },
        {
          "output_type": "stream",
          "name": "stderr",
          "text": [
            " 76%|███████▋  | 61/80 [01:16<00:31,  1.64s/it]"
          ]
        },
        {
          "output_type": "stream",
          "name": "stdout",
          "text": [
            "Epoch 61, In-sample Loss: 417.0818, In-sample Accuracy: 0.4375\n",
            "Epoch 61, Out-sample Loss: 1437.0349, Out-sample Accuracy: 0.0000\n"
          ]
        },
        {
          "output_type": "stream",
          "name": "stderr",
          "text": [
            " 82%|████████▎ | 66/80 [01:21<00:18,  1.32s/it]"
          ]
        },
        {
          "output_type": "stream",
          "name": "stdout",
          "text": [
            "Epoch 66, In-sample Loss: 444.9267, In-sample Accuracy: 0.2500\n",
            "Epoch 66, Out-sample Loss: 1738.9981, Out-sample Accuracy: 0.0625\n"
          ]
        },
        {
          "output_type": "stream",
          "name": "stderr",
          "text": [
            " 89%|████████▉ | 71/80 [01:28<00:15,  1.73s/it]"
          ]
        },
        {
          "output_type": "stream",
          "name": "stdout",
          "text": [
            "Epoch 71, In-sample Loss: 328.6924, In-sample Accuracy: 0.1875\n",
            "Epoch 71, Out-sample Loss: 1724.4716, Out-sample Accuracy: 0.1250\n"
          ]
        },
        {
          "output_type": "stream",
          "name": "stderr",
          "text": [
            " 95%|█████████▌| 76/80 [01:34<00:05,  1.37s/it]"
          ]
        },
        {
          "output_type": "stream",
          "name": "stdout",
          "text": [
            "Epoch 76, In-sample Loss: 412.8211, In-sample Accuracy: 0.1875\n",
            "Epoch 76, Out-sample Loss: 1387.4933, Out-sample Accuracy: 0.0625\n"
          ]
        },
        {
          "output_type": "stream",
          "name": "stderr",
          "text": [
            "100%|██████████| 80/80 [01:37<00:00,  1.22s/it]"
          ]
        },
        {
          "output_type": "stream",
          "name": "stdout",
          "text": [
            "Full model training completed.\n"
          ]
        },
        {
          "output_type": "stream",
          "name": "stderr",
          "text": [
            "\n"
          ]
        }
      ]
    },
    {
      "cell_type": "code",
      "source": [
        "import matplotlib.pyplot as plt\n",
        "print(decoder_loss_result)\n",
        "\n",
        "# Plot decoder loss\n",
        "plt.figure(figsize=(12, 6))\n",
        "for i, lr_pair in enumerate(lr_to_test):\n",
        "    lr_base, lr_max = lr_pair\n",
        "    plt.plot(range(1, len(decoder_loss_result[0]) + 1), decoder_loss_result[i], label=f'Decoder LR={lr_base},{lr_max}')\n",
        "\n",
        "plt.title('Decoder Training Loss')\n",
        "plt.xlabel('Epoch')\n",
        "plt.yscale('log')\n",
        "plt.ylabel('Loss')\n",
        "plt.legend()\n",
        "plt.show()\n",
        "\n",
        "# Plot full model loss\n",
        "plt.figure(figsize=(12, 6))\n",
        "for i, lr_pair in enumerate(lr_to_test):\n",
        "    lr_base, lr_max = lr_pair\n",
        "    plt.plot(range(1, len(full_loss_result[0]) + 1), full_loss_result[i], label=f'Full Model LR={lr_base}, {lr_max}')\n",
        "\n",
        "plt.title('Full Model Training Loss')\n",
        "plt.xlabel('Epoch')\n",
        "plt.ylabel('Loss')\n",
        "plt.legend()\n",
        "plt.show()\n"
      ],
      "metadata": {
        "colab": {
          "base_uri": "https://localhost:8080/",
          "height": 1000
        },
        "id": "0Qm36IiHOOCH",
        "outputId": "4129d708-01b6-416f-fc77-3672153bdcfa"
      },
      "execution_count": null,
      "outputs": [
        {
          "output_type": "stream",
          "name": "stdout",
          "text": [
            "[[124138.1953125, 83682.18359375, 25720.361694335938, 12754.767211914062, 7670.237365722656, 4993.012893676758, 3475.7632598876953, 2590.7699279785156, 1831.2801475524902, 1540.508529663086, 1616.9138679504395, 1424.78675365448, 1332.2809600830078, 1077.2362060546875, 1224.6053161621094, 1045.5937204360962], [124153.763671875, 23355.302856445312, 19242.558715820312, 8071.947814941406, 5505.355163574219, 3190.8450775146484, 2606.9335556030273, 3403.2437286376953, 2608.477783203125, 1520.2162322998047, 1547.0348510742188, 1163.2471542358398, 426.5449466705322, 843.6367797851562, 966.1724491119385, 1002.8309555053711], [124182.8232421875, 54048.25146484375, 20633.22802734375, 13666.004333496094, 7907.794952392578, 4804.735877990723, 3197.6049041748047, 2195.788284301758, 1432.0323181152344, 1316.7097129821777, 1401.3866271972656, 1202.3534851074219, 1038.9098052978516, 925.150577545166, 943.9906978607178, 853.0229568481445]]\n"
          ]
        },
        {
          "output_type": "display_data",
          "data": {
            "text/plain": [
              "<Figure size 1200x600 with 1 Axes>"
            ],
            "image/png": "[encoded data removed]"
          },
          "metadata": {}
        },
        {
          "output_type": "display_data",
          "data": {
            "text/plain": [
              "<Figure size 1200x600 with 1 Axes>"
            ],
            "image/png": "[encoded data removed]"
          },
          "metadata": {}
        }
      ]
    },
    {
      "cell_type": "code",
      "source": [],
      "metadata": {
        "id": "C9oLm-GvUqTz"
      },
      "execution_count": null,
      "outputs": []
    },
    {
      "cell_type": "code",
      "source": [
        "initial_lr = 0.00001\n",
        "lr_epochs = 100\n",
        "optimizer = optim.SGD(model.parameters(), lr=initial_lr)\n",
        "\n",
        "\n",
        "lr_hist = []\n",
        "train_loss_history = []\n",
        "\n",
        "def train_model(n_epochs):\n",
        "  i = 0\n",
        "  lr = initial_lr\n",
        "  for epoch in tqdm(range(n_epochs)):\n",
        "    # print(\"epoch:\", i)\n",
        "    for X_batch, y_batch, img_name in train_loader:\n",
        "      agg_loss = 0\n",
        "      X_batch = X_batch.permute(0,3,1,2).to(device) # Needs to have shape [batch_size, channels, height, width]\n",
        "      y_batch = y_batch.to(device)\n",
        "      y_pred = model(X_batch)\n",
        "      loss = loss_fn(y_pred,y_batch)\n",
        "      optimizer.zero_grad()\n",
        "      loss.backward()\n",
        "      optimizer.step()\n",
        "      agg_loss += loss.item()\n",
        "      train_loss_history.append(agg_loss)\n",
        "\n",
        "      lr_hist.append(lr)\n",
        "\n",
        "      lr = 1.1*lr\n",
        "      for g in optimizer.param_groups:\n",
        "        g['lr'] = lr\n",
        "      if lr >= 0.0005:\n",
        "        break\n",
        "\n",
        "train_model(3)\n",
        "\n",
        "\n"
      ],
      "metadata": {
        "id": "lD97FfcQlN5t"
      },
      "execution_count": null,
      "outputs": []
    },
    {
      "cell_type": "code",
      "source": [
        "plt.figure(figsize=(10, 5))\n",
        "plt.xscale('log')  # Set the y-axis to a logarithmic scale\n",
        "\n",
        "plt.plot(lr_hist,train_loss_history, label='Train Loss')\n",
        "plt.xlabel('LR')\n",
        "plt.ylabel('Loss')\n",
        "plt.grid(True)\n",
        "plt.legend()  # Add a legend to differentiate between train and validation loss\n",
        "plt.show()\n",
        "print(train_loss_history)\n",
        "print(lr_hist)"
      ],
      "metadata": {
        "id": "C64tHl3KjUQW"
      },
      "execution_count": null,
      "outputs": []
    },
    {
      "cell_type": "code",
      "execution_count": null,
      "metadata": {
        "id": "zK6lBjlVEUyX"
      },
      "outputs": [],
      "source": [
        "plt.figure(figsize=(10, 5))\n",
        "#plt.yscale('log')  # Set the y-axis to a logarithmic scale\n",
        "plt.plot(test_loss_history, label='Train Loss')\n",
        "plt.plot(val_loss_history, label='Validation Loss')\n",
        "plt.title('Loss Curve')\n",
        "plt.xlabel('Epoch')\n",
        "plt.ylabel('Loss')\n",
        "plt.grid(True)\n",
        "plt.legend()  # Add a legend to differentiate between train and validation loss\n",
        "plt.show()\n",
        "print(val_accuracy_history)"
      ]
    },
    {
      "cell_type": "code",
      "execution_count": null,
      "metadata": {
        "id": "H8s5ea1LC82K"
      },
      "outputs": [],
      "source": [
        "#print a trainset with predicted label\n",
        "# train_loader = DataLoader(data_loader, batch_size=1, shuffle=True, num_workers=1)\n",
        "\n",
        "train_iter = iter(train_loader)\n",
        "\n",
        "batch = next(train_iter)\n",
        "\n",
        "X_batch, y_batch, _ = batch\n",
        "\n",
        "image = batch[0][0]\n",
        "labels = batch[1][0]\n",
        "\n",
        "# Get predicted labels\n",
        "X_batch = X_batch.permute(0,3,1,2).to(device)\n",
        "pred = model(X_batch)\n",
        "print(image.shape)\n",
        "plot_img_and_boundingbox(image, labels)\n",
        "plot_img_and_boundingbox(image, pred[0])"
      ]
    },
    {
      "cell_type": "code",
      "execution_count": null,
      "metadata": {
        "id": "RyFhpzW1OwKe"
      },
      "outputs": [],
      "source": [
        "# Print a validation image with its predicted labels\n",
        "\n",
        "validationloader = DataLoader(test_loader, batch_size=1, shuffle=True, num_workers=1)\n",
        "\n",
        "validationloader_iter = iter(validationloader)\n",
        "\n",
        "batch = next(validationloader_iter)\n",
        "\n",
        "X_batch, y_batch, _ = batch\n",
        "print(X_batch.shape)\n",
        "print(y_batch.shape)\n",
        "\n",
        "image = batch[0][0]\n",
        "labels = batch[1][0]\n",
        "\n",
        "# Get predicted labels\n",
        "X_batch = X_batch.permute(0,3,1,2).to(device)\n",
        "print(X_batch.shape)\n",
        "pred = model(X_batch)\n",
        "\n",
        "plot_img_and_boundingbox(image, labels)"
      ]
    },
    {
      "cell_type": "code",
      "execution_count": null,
      "metadata": {
        "id": "ytHrhFV8aX-C"
      },
      "outputs": [],
      "source": [
        "plot_img_and_boundingbox(image,pred[0])\n",
        "print(pred)\n",
        "print(calculate_true_positives_in_batch(labels.view(1,4),pred[0].view(1,4))) # Need to change view since we dont have batch"
      ]
    },
    {
      "cell_type": "code",
      "execution_count": null,
      "metadata": {
        "id": "ghHYl7RzIXDF"
      },
      "outputs": [],
      "source": [
        "\n"
      ]
    }
  ],
  "metadata": {
    "accelerator": "GPU",
    "colab": {
      "provenance": [],
      "gpuType": "T4"
    },
    "kernelspec": {
      "display_name": "Python 3",
      "name": "python3"
    },
    "language_info": {
      "codemirror_mode": {
        "name": "ipython",
        "version": 3
      },
      "file_extension": ".py",
      "mimetype": "text/x-python",
      "name": "python",
      "nbconvert_exporter": "python",
      "pygments_lexer": "ipython3",
      "version": "3.11.5"
    }
  },
  "nbformat": 4,
  "nbformat_minor": 0
}